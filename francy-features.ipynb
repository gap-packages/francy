{
 "cells": [
  {
   "cell_type": "markdown",
   "metadata": {},
   "source": [
    "# Francy Package"
   ]
  },
  {
   "cell_type": "code",
   "execution_count": 101,
   "metadata": {},
   "outputs": [
    {
     "data": {
      "text/plain": [
       "true"
      ]
     },
     "execution_count": 101,
     "metadata": {},
     "output_type": "execute_result"
    }
   ],
   "source": [
    "LoadPackage(\"francy\");"
   ]
  },
  {
   "cell_type": "markdown",
   "metadata": {},
   "source": [
    "# Draw\n",
    "\n",
    "Draw is the main function of Francy. It renders a canvas and all the child objects in Jupyter environment or any other environment which connects to GAP somehow, e.g. a webssh console with websockets, etc.\n",
    "\n",
    "### DrawSplash\n",
    "\n",
    "DrawSplash uses Draw to generate the data and creates a Static HTML Page that can be embedded or viewed in any browser, in \"offline\" mode."
   ]
  },
  {
   "cell_type": "markdown",
   "metadata": {},
   "source": [
    "# Canvas\n",
    "\n",
    "Canvas are the base where graphics are produced. A Canvas is constituted by a Main Menu and an area where the graphics are produced.\n",
    "\n",
    "## How to create a Canvas?\n",
    "\n",
    "It is possible to set some default configurations for the canvas:\n",
    "\n",
    "```gap\n",
    "defaults := CanvasDefaults;\n",
    "defaults!.width     := \"800\";\n",
    "defaults!.height    := \"600\";\n",
    "defaults!.zoomToFit := true;\n",
    "canvas := Canvas(\"Example Canvas\", defaults);\n",
    "```\n",
    "\n",
    "Or it can be done after, by:\n",
    "\n",
    "```gap\n",
    "canvas := Canvas(\"Example Canvas\");\n",
    "canvas!.width     := \"800\";\n",
    "canvas!.height    := \"600\";\n",
    "canvas!.zoomToFit := false;\n",
    "```"
   ]
  },
  {
   "cell_type": "code",
   "execution_count": 11,
   "metadata": {},
   "outputs": [
    {
     "data": {
      "text/plain": [
       "<object>"
      ]
     },
     "execution_count": 7,
     "metadata": {},
     "output_type": "execute_result"
    },
    {
     "data": {
      "text/plain": [
       "\"400\""
      ]
     },
     "execution_count": 8,
     "metadata": {},
     "output_type": "execute_result"
    },
    {
     "data": {
      "text/plain": [
       "\"100\""
      ]
     },
     "execution_count": 9,
     "metadata": {},
     "output_type": "execute_result"
    },
    {
     "data": {
      "text/plain": [
       "false"
      ]
     },
     "execution_count": 10,
     "metadata": {},
     "output_type": "execute_result"
    },
    {
     "data": {
      "application/vnd.francy+json": "{\"version\" : \"0.5.0\",\"mime\" : \"application\\/vnd.francy+json\",\"canvas\" : {\"width\" : \"400\",\"height\" : \"100\",\"id\" : \"A2\",\"title\" : \"Example Canvas\",\"zoomToFit\" : false,\"menus\" : {},\"graph\" : {},\"chart\" : {},\"messages\" : {}}}"
     },
     "execution_count": 11,
     "metadata": {},
     "output_type": "execute_result"
    }
   ],
   "source": [
    "canvas := Canvas(\"Example Canvas\");\n",
    "\n",
    "# try changing these options\n",
    "canvas!.width     := \"400\";\n",
    "canvas!.height    := \"100\";\n",
    "canvas!.zoomToFit := false;\n",
    "\n",
    "Draw(canvas);"
   ]
  },
  {
   "cell_type": "markdown",
   "metadata": {},
   "source": [
    "# Menus\n",
    "\n",
    "Menus can be added to the Canvas, where they will be added to the Main Menu on the Top, or to Shapes, ahere they will appear as Context Menu - Mouse right click.\n",
    "\n",
    "The Main Menu has by default a Menu entry called Francy with 3 Sub Menus: Zoom to Fit, Save to PNG and About.\n",
    "\n",
    "*NOTE: Save to PNG is broken at the moment due to some bug in the library used, when executed on Jupyter!*\n",
    "\n",
    "# Callbacks\n",
    "\n",
    "A Callback is a function that is triggered in GAP and can be added to Menus and/or Shapes.\n",
    "\n",
    "## How to create a Callback?\n",
    "\n",
    "Callbacks can be created in many different ways, and it will depend on what you want to do.\n",
    "\n",
    "Callbacks are triggered with mouse events. Available TriggerEvents are:\n",
    "\n",
    "* TriggerEvent.DOUBLE_CLICK\n",
    "* TriggerEvent.RIGHT_CLICK\n",
    "* TriggerEvent.CLICK\n",
    "\n",
    "*NOTE: No matter what you choose for TriggerEvent on a callback that is used on a Menu will always default to TriggerEvent.CLICK!*\n",
    "\n",
    "Calling a Simple function that doesn't require any argument is the simplest form:\n",
    "\n",
    "```gap\n",
    "MyFunction := function()\n",
    "    # Must return allways! This is because GAP CallFuncList is used and requires it\n",
    "    return;\n",
    "end;\n",
    "callback := Callback(MyFunction); # defaults to CLICK event\n",
    "callback := Callback(TriggerEvent.DOUBLE_CLICK, MyFunction);\n",
    "```\n",
    "\n",
    "Calling a Function with a \"known\" argument is also simple:\n",
    "\n",
    "```gap\n",
    "canvas := Canvas(\"Callbacks in Action!\");\n",
    "MyFunction := function(someKnownArg)\n",
    "    # Do some crazy computation\n",
    "    # Redraw\n",
    "    return Draw(canvas);\n",
    "end;\n",
    "something := NumericalSemigroup(10,11,19);\n",
    "callback := Callback(MyFunction, [something]);\n",
    "```\n",
    "\n",
    "What if we want the user to give some input? Well, this is the case you have \"required\" arguments:\n",
    "\n",
    "```gap\n",
    "canvas := Canvas(\"Callbacks in Action!\");\n",
    "MyFunction := function(someKnownArg, someUserInputArg)\n",
    "    # Do Some Crazy computation\n",
    "    # Redraw\n",
    "    return Draw(canvas);\n",
    "end;\n",
    "something := NumericalSemigroup(10,11,19);\n",
    "callback := Callback(MyFunction, [something]);\n",
    "arg := RequiredArg(ArgType.NUMBER, \"Give me a Prime?\");\n",
    "Add(callback, arg);\n",
    "```\n",
    "\n",
    "Required Arguments type defines the data type. Available ArgTypes are:\n",
    "\n",
    "* ArgType.BOOLEAN\n",
    "* ArgType.STRING\n",
    "* ArgType.NUMBER\n",
    "\n",
    "\n",
    "## How to create a Menu?\n",
    "\n",
    "Menus can include a Callback or not. Menus without callback are useful for holding Submenus.\n",
    "\n",
    "```gap\n",
    "callback := Callback(MyCallbackFunction);\n",
    "menu := Menu(\"Example Holder Menu\");\n",
    "submenu := Menu(\"I'm a Submenu!\", callback);\n",
    "Add(menu, submenu);\n",
    "Add(canvas, menu);\n",
    "```\n",
    "\n",
    "Or as a top Menu:\n",
    "\n",
    "```gap\n",
    "callback := Callback(MyCallbackFunction);\n",
    "menu := Menu(\"Menu\", callback);\n",
    "Add(canvas, menu);\n",
    "```\n",
    "\n",
    "The same menu objects can be used in Shapes:\n",
    "* NOTE: Submenus are flatenned in context menus!*\n",
    "\n",
    "```gap\n",
    "shape := Shape(SpaheType.CIRCLE); # will go throughout shapes and graphs later\n",
    "Add(shape, menu);\n",
    "```"
   ]
  },
  {
   "cell_type": "code",
   "execution_count": 28,
   "metadata": {},
   "outputs": [
    {
     "data": {
      "text/plain": [
       "<object>"
      ]
     },
     "execution_count": 12,
     "metadata": {},
     "output_type": "execute_result"
    },
    {
     "data": {
      "text/plain": [
       "\"100\""
      ]
     },
     "execution_count": 13,
     "metadata": {},
     "output_type": "execute_result"
    },
    {
     "data": {
      "text/plain": [
       "<object>"
      ]
     },
     "execution_count": 14,
     "metadata": {},
     "output_type": "execute_result"
    },
    {
     "data": {
      "text/plain": [
       "<object>"
      ]
     },
     "execution_count": 15,
     "metadata": {},
     "output_type": "execute_result"
    },
    {
     "data": {
      "text/plain": [
       "function( name ) ... end"
      ]
     },
     "execution_count": 18,
     "metadata": {},
     "output_type": "execute_result"
    },
    {
     "data": {
      "text/plain": [
       "<object>"
      ]
     },
     "execution_count": 19,
     "metadata": {},
     "output_type": "execute_result"
    },
    {
     "data": {
      "text/plain": [
       "<object>"
      ]
     },
     "execution_count": 20,
     "metadata": {},
     "output_type": "execute_result"
    },
    {
     "data": {
      "text/plain": [
       "<object>"
      ]
     },
     "execution_count": 22,
     "metadata": {},
     "output_type": "execute_result"
    },
    {
     "data": {
      "text/plain": [
       "<object>"
      ]
     },
     "execution_count": 23,
     "metadata": {},
     "output_type": "execute_result"
    },
    {
     "data": {
      "application/vnd.francy+json": "{\"version\" : \"0.5.0\",\"mime\" : \"application\\/vnd.francy+json\",\"canvas\" : {\"width\" : \"800\",\"height\" : \"100\",\"id\" : \"A3\",\"title\" : \"Callbacks in action\",\"zoomToFit\" : true,\"menus\" : {\"A9\" : {\"id\" : \"A9\",\"title\" : \"Hello Menu Action\",\"callback\" : {\"func\" : \"HelloWorld\",\"id\" : \"A6\",\"trigger\" : \"click\",\"knownArgs\" : [],\"requiredArgs\" : {\"A7\" : {\"type\" : \"text\",\"id\" : \"A7\",\"title\" : \"Your Name?\",\"value\" : \"\"}}},\"menus\" : {}},\"A8\" : {\"id\" : \"A8\",\"title\" : \"Example Menu Holder\",\"callback\" : {},\"menus\" : {\"A9\" : {\"id\" : \"A9\",\"title\" : \"Hello Menu Action\",\"callback\" : {\"func\" : \"HelloWorld\",\"id\" : \"A6\",\"trigger\" : \"click\",\"knownArgs\" : [],\"requiredArgs\" : {\"A7\" : {\"type\" : \"text\",\"id\" : \"A7\",\"title\" : \"Your Name?\",\"value\" : \"\"}}},\"menus\" : {}}}}},\"graph\" : {\"type\" : \"hasse\",\"id\" : \"A4\",\"simulation\" : true,\"drag\" : true,\"nodes\" : {\"A5\" : {\"x\" : 0,\"y\" : 0,\"type\" : \"circle\",\"size\" : 10,\"id\" : \"A5\",\"title\" : \"\",\"layer\" : 0,\"highlight\" : true,\"menus\" : {\"A9\" : {\"id\" : \"A9\",\"title\" : \"Hello Menu Action\",\"callback\" : {\"func\" : \"HelloWorld\",\"id\" : \"A6\",\"trigger\" : \"click\",\"knownArgs\" : [],\"requiredArgs\" : {\"A7\" : {\"type\" : \"text\",\"id\" : \"A7\",\"title\" : \"Your Name?\",\"value\" : \"\"}}},\"menus\" : {}}},\"messages\" : {},\"callbacks\" : {}}},\"links\" : {}},\"messages\" : {}}}"
     },
     "execution_count": 28,
     "metadata": {},
     "output_type": "execute_result"
    }
   ],
   "source": [
    "canvas := Canvas(\"Callbacks in action\");\n",
    "canvas!.height := \"100\";\n",
    "\n",
    "graph := Graph(GraphType.HASSE); # will go throughout graphs later\n",
    "shape := Shape(ShapeType.CIRCLE); # will go throughout shapes later\n",
    "Add(graph, shape);\n",
    "Add(canvas, graph);\n",
    "\n",
    "HelloWorld := function(name)\n",
    "    Add(canvas, FrancyMessage(Concatenation(\"Hello, \", name))); #  will go throughout messages later\n",
    "    return Draw(canvas);\n",
    "end;\n",
    "\n",
    "callback1 := Callback(HelloWorld);\n",
    "arg1 := RequiredArg(ArgType.STRING, \"Your Name?\");\n",
    "Add(callback1, arg1);\n",
    "\n",
    "menu := Menu(\"Example Menu Holder\");\n",
    "menu1 := Menu( \"Hello Menu Action\", callback1 );\n",
    "Add(menu, menu1);\n",
    "\n",
    "Add(canvas, menu);\n",
    "Add(canvas, menu1);\n",
    "Add(shape, menu1);\n",
    "\n",
    "Draw(canvas);"
   ]
  },
  {
   "cell_type": "code",
   "execution_count": 115,
   "metadata": {},
   "outputs": [
    {
     "data": {
      "text/plain": [
       "<object>"
      ]
     },
     "execution_count": 102,
     "metadata": {},
     "output_type": "execute_result"
    },
    {
     "data": {
      "text/plain": [
       "\"200\""
      ]
     },
     "execution_count": 103,
     "metadata": {},
     "output_type": "execute_result"
    },
    {
     "data": {
      "text/plain": [
       "<object>"
      ]
     },
     "execution_count": 104,
     "metadata": {},
     "output_type": "execute_result"
    },
    {
     "data": {
      "text/plain": [
       "<object>"
      ]
     },
     "execution_count": 105,
     "metadata": {},
     "output_type": "execute_result"
    },
    {
     "data": {
      "text/plain": [
       "<object>"
      ]
     },
     "execution_count": 106,
     "metadata": {},
     "output_type": "execute_result"
    },
    {
     "data": {
      "text/plain": [
       "function( node ) ... end"
      ]
     },
     "execution_count": 109,
     "metadata": {},
     "output_type": "execute_result"
    },
    {
     "data": {
      "text/plain": [
       "<object>"
      ]
     },
     "execution_count": 112,
     "metadata": {},
     "output_type": "execute_result"
    },
    {
     "data": {
      "application/vnd.francy+json": "{\"version\" : \"0.5.0\",\"mime\" : \"application\\/vnd.francy+json\",\"canvas\" : {\"width\" : \"800\",\"height\" : \"200\",\"id\" : \"A56\",\"title\" : \"Example Callbacks with Known Arguments\",\"zoomToFit\" : true,\"menus\" : {},\"graph\" : {\"type\" : \"directed\",\"id\" : \"A57\",\"simulation\" : true,\"drag\" : true,\"nodes\" : {\"A58\" : {\"x\" : 0,\"y\" : 0,\"type\" : \"circle\",\"size\" : 10,\"id\" : \"A58\",\"title\" : \"Click Me\",\"layer\" : 0,\"highlight\" : true,\"menus\" : {},\"messages\" : {},\"callbacks\" : {\"A60\" : {\"func\" : \"WhichNode\",\"id\" : \"A60\",\"trigger\" : \"click\",\"knownArgs\" : [\"<object>\"],\"requiredArgs\" : {}}}},\"A59\" : {\"x\" : 0,\"y\" : 0,\"type\" : \"circle\",\"size\" : 10,\"id\" : \"A59\",\"title\" : \"Click Me\",\"layer\" : 0,\"highlight\" : true,\"menus\" : {},\"messages\" : {},\"callbacks\" : {\"A61\" : {\"func\" : \"WhichNode\",\"id\" : \"A61\",\"trigger\" : \"click\",\"knownArgs\" : [\"<object>\"],\"requiredArgs\" : {}}}}},\"links\" : {\"A62\" : {\"source\" : \"A58\",\"id\" : \"A62\",\"target\" : \"A59\"}}},\"messages\" : {}}}"
     },
     "execution_count": 115,
     "metadata": {},
     "output_type": "execute_result"
    }
   ],
   "source": [
    "canvas := Canvas(\"Example Callbacks with Known Arguments\");\n",
    "canvas!.height := \"200\";\n",
    "\n",
    "graph := Graph(GraphType.DIRECTED);\n",
    "\n",
    "shape := Shape(ShapeType.CIRCLE, \"Click Me\");\n",
    "shape1 := Shape(ShapeType.CIRCLE, \"Click Me\");\n",
    "Add(graph, shape);\n",
    "Add(graph, shape1);\n",
    "\n",
    "WhichNode := function(node)\n",
    "    Add(canvas, FrancyMessage(node!.title));\n",
    "    return Draw(canvas);\n",
    "end;\n",
    "\n",
    "Add(shape, Callback(WhichNode, [shape])); # similar to Add(shape, Callback(TriggerEvent.CLICK, WhichNode, [shape]));\n",
    "Add(shape1, Callback(WhichNode, [shape1])); # similar to Add(shape1, Callback(TriggerEvent.CLICK, WhichNode, [shape1]));\n",
    "\n",
    "link := Link(shape, shape1);\n",
    "Add(graph, link);\n",
    "\n",
    "Add(canvas, graph);\n",
    "\n",
    "Draw(canvas);"
   ]
  },
  {
   "cell_type": "markdown",
   "metadata": {},
   "source": [
    "# Messages\n",
    "\n",
    "Messages are usefull for providing information to the user. Messages can be added to the Canvas and/or to Shapes.\n",
    "\n",
    "Messages added to a Canvas are displayed as messages using colors to differentiate types, they appear on the top left corner and can be dismissed by clicking on them.\n",
    "\n",
    "Messages added to a Shape are displayed as tooltips and their types are not taken in account, they appear when the user moves the mouse hover the Shape.\n",
    "\n",
    "## How to create Messages?\n",
    "\n",
    "Once again, creating messages is fairly simple and depends on the purpose of the message.\n",
    "\n",
    "Messages can be of the following types:\n",
    "\n",
    "* FrancyMessageType.INFO\n",
    "* FrancyMessageType.ERROR\n",
    "* FrancyMessageType.SUCCESS\n",
    "* FrancyMessageType.WARNING\n",
    "* FrancyMessageType.DEFAULT\n",
    "\n",
    "The simplest Message with the default type would be:\n",
    "\n",
    "```gap\n",
    "FrancyMessage(\"Hello\", \"World\"); # title and text\n",
    "FrancyMessage(\"Hello\"); # without title\n",
    "```\n",
    "\n",
    "Messages with a custom type:\n",
    "\n",
    "```gap\n",
    "FrancyMessage(FrancyMessageType.INFO, \"Hello\", \"World\"); # title and text\n",
    "FrancyMessage(FrancyMessageType.INFO, \"Hello\"); # without title\n",
    "```"
   ]
  },
  {
   "cell_type": "code",
   "execution_count": 129,
   "metadata": {},
   "outputs": [
    {
     "data": {
      "text/plain": [
       "<object>"
      ]
     },
     "execution_count": 118,
     "metadata": {},
     "output_type": "execute_result"
    },
    {
     "data": {
      "text/plain": [
       "\"200\""
      ]
     },
     "execution_count": 119,
     "metadata": {},
     "output_type": "execute_result"
    },
    {
     "data": {
      "text/plain": [
       "<object>"
      ]
     },
     "execution_count": 120,
     "metadata": {},
     "output_type": "execute_result"
    },
    {
     "data": {
      "text/plain": [
       "<object>"
      ]
     },
     "execution_count": 122,
     "metadata": {},
     "output_type": "execute_result"
    },
    {
     "data": {
      "text/plain": [
       "<object>"
      ]
     },
     "execution_count": 123,
     "metadata": {},
     "output_type": "execute_result"
    },
    {
     "data": {
      "text/plain": [
       "function( c, node ) ... end"
      ]
     },
     "execution_count": 126,
     "metadata": {},
     "output_type": "execute_result"
    },
    {
     "data": {
      "application/vnd.francy+json": "{\"version\" : \"0.5.0\",\"mime\" : \"application\\/vnd.francy+json\",\"canvas\" : {\"width\" : \"800\",\"height\" : \"200\",\"id\" : \"A65\",\"title\" : \"Example Callbacks with Known Arguments\",\"zoomToFit\" : true,\"menus\" : {},\"graph\" : {\"type\" : \"directed\",\"id\" : \"A66\",\"simulation\" : true,\"drag\" : true,\"nodes\" : {\"A67\" : {\"x\" : 0,\"y\" : 0,\"type\" : \"circle\",\"size\" : 10,\"id\" : \"A67\",\"title\" : \"Click Me\",\"layer\" : 0,\"highlight\" : true,\"menus\" : {},\"messages\" : {},\"callbacks\" : {\"A69\" : {\"func\" : \"WhichNode\",\"id\" : \"A69\",\"trigger\" : \"click\",\"knownArgs\" : [\"<object>\",\"<object>\"],\"requiredArgs\" : {}}}},\"A68\" : {\"x\" : 0,\"y\" : 0,\"type\" : \"circle\",\"size\" : 10,\"id\" : \"A68\",\"title\" : \"Click Me\",\"layer\" : 0,\"highlight\" : true,\"menus\" : {},\"messages\" : {},\"callbacks\" : {\"A70\" : {\"func\" : \"WhichNode\",\"id\" : \"A70\",\"trigger\" : \"click\",\"knownArgs\" : [\"<object>\",\"<object>\"],\"requiredArgs\" : {}}}}},\"links\" : {}},\"messages\" : {}}}"
     },
     "execution_count": 129,
     "metadata": {},
     "output_type": "execute_result"
    }
   ],
   "source": [
    "canvas := Canvas(\"Example Callbacks with Known Arguments\");\n",
    "canvas!.height := \"200\";\n",
    "\n",
    "graph := Graph(GraphType.DIRECTED);\n",
    "Add(canvas, graph);\n",
    "\n",
    "shape := Shape(ShapeType.CIRCLE, \"Click Me\");\n",
    "shape1 := Shape(ShapeType.CIRCLE, \"Click Me\");\n",
    "Add(graph, shape);\n",
    "Add(graph, shape1);\n",
    "\n",
    "WhichNode := function(c, node)\n",
    "    Add(c, FrancyMessage(String(node!.title)));\n",
    "    return Draw(c);\n",
    "end;\n",
    "\n",
    "Add(shape, Callback(WhichNode, [canvas, shape])); # similar to Add(shape, Callback(TriggerEvent.CLICK, WhichNode, [shape]));\n",
    "Add(shape1, Callback(WhichNode, [canvas, shape1])); # similar to Add(shape1, Callback(TriggerEvent.CLICK, WhichNode, [shape1]));\n",
    "\n",
    "Draw(canvas);"
   ]
  },
  {
   "cell_type": "code",
   "execution_count": 45,
   "metadata": {},
   "outputs": [
    {
     "data": {
      "text/plain": [
       "<object>"
      ]
     },
     "execution_count": 29,
     "metadata": {},
     "output_type": "execute_result"
    },
    {
     "data": {
      "text/plain": [
       "\"200\""
      ]
     },
     "execution_count": 30,
     "metadata": {},
     "output_type": "execute_result"
    },
    {
     "data": {
      "text/plain": [
       "<object>"
      ]
     },
     "execution_count": 31,
     "metadata": {},
     "output_type": "execute_result"
    },
    {
     "data": {
      "text/plain": [
       "<object>"
      ]
     },
     "execution_count": 32,
     "metadata": {},
     "output_type": "execute_result"
    },
    {
     "data": {
      "application/vnd.francy+json": "{\"version\" : \"0.5.0\",\"mime\" : \"application\\/vnd.francy+json\",\"canvas\" : {\"width\" : \"800\",\"height\" : \"200\",\"id\" : \"A10\",\"title\" : \"Example Canvas \\/ Shape with Messages\",\"zoomToFit\" : true,\"menus\" : {},\"graph\" : {\"type\" : \"hasse\",\"id\" : \"A11\",\"simulation\" : true,\"drag\" : true,\"nodes\" : {\"A12\" : {\"x\" : 0,\"y\" : 0,\"type\" : \"circle\",\"size\" : 10,\"id\" : \"A12\",\"title\" : \"\",\"layer\" : 0,\"highlight\" : true,\"menus\" : {},\"messages\" : {\"A14\" : {\"type\" : \"info\",\"id\" : \"A14\",\"text\" : \"Hello\",\"title\" : \"\"},\"A16\" : {\"type\" : \"error\",\"id\" : \"A16\",\"text\" : \"Hello\",\"title\" : \"Oops\"},\"A18\" : {\"type\" : \"warning\",\"id\" : \"A18\",\"text\" : \"Hello\",\"title\" : \"\"},\"A20\" : {\"type\" : \"success\",\"id\" : \"A20\",\"text\" : \"Hello\",\"title\" : \"\"},\"A22\" : {\"type\" : \"default\",\"id\" : \"A22\",\"text\" : \"World\",\"title\" : \"Hello\"}},\"callbacks\" : {}}},\"links\" : {}},\"messages\" : {\"A13\" : {\"type\" : \"info\",\"id\" : \"A13\",\"text\" : \"Hello\",\"title\" : \"\"},\"A15\" : {\"type\" : \"error\",\"id\" : \"A15\",\"text\" : \"Hello\",\"title\" : \"Oops\"},\"A17\" : {\"type\" : \"warning\",\"id\" : \"A17\",\"text\" : \"Hello\",\"title\" : \"\"},\"A19\" : {\"type\" : \"success\",\"id\" : \"A19\",\"text\" : \"Hello\",\"title\" : \"\"},\"A21\" : {\"type\" : \"default\",\"id\" : \"A21\",\"text\" : \"World\",\"title\" : \"Hello\"}}}}"
     },
     "execution_count": 45,
     "metadata": {},
     "output_type": "execute_result"
    }
   ],
   "source": [
    "canvas := Canvas(\"Example Canvas / Shape with Messages\");\n",
    "canvas!.height := \"200\";\n",
    "\n",
    "graph := Graph(GraphType.HASSE); # will go throughout graphs later\n",
    "shape := Shape(ShapeType.CIRCLE); # will go throughout shapes later\n",
    "Add(graph, shape);\n",
    "Add(canvas, graph);\n",
    "\n",
    "Add(canvas, FrancyMessage(FrancyMessageType.INFO, \"Hello\"));\n",
    "Add(shape, FrancyMessage(FrancyMessageType.INFO, \"Hello\"));\n",
    "Add(canvas, FrancyMessage(FrancyMessageType.ERROR, \"Oops\", \"Hello\"));\n",
    "Add(shape, FrancyMessage(FrancyMessageType.ERROR, \"Oops\", \"Hello\"));\n",
    "Add(canvas, FrancyMessage(FrancyMessageType.WARNING, \"Hello\"));\n",
    "Add(shape, FrancyMessage(FrancyMessageType.WARNING, \"Hello\"));\n",
    "Add(canvas, FrancyMessage(FrancyMessageType.SUCCESS, \"Hello\"));\n",
    "Add(shape, FrancyMessage(FrancyMessageType.SUCCESS, \"Hello\"));\n",
    "Add(canvas, FrancyMessage(\"Hello\", \"World\"));\n",
    "Add(shape, FrancyMessage(\"Hello\", \"World\"));\n",
    "\n",
    "Draw(canvas);"
   ]
  },
  {
   "cell_type": "markdown",
   "metadata": {},
   "source": [
    "# Graphs\n",
    "\n",
    "Graphs, according to wikipedia: *a graph is a structure amounting to a set of objects in which some pairs of the objects are in some sense \"related\"*\n",
    "\n",
    "In Francy, Graphs can be created using Shapes (nodes) and Links (edges). Francy, in this case the D3 library, will try its best to shape the graph according to a set of \"forces\". If the Shapes provide x and y coordinates, these will be used instead and the graph will be fixed to those.\n",
    "\n",
    "Supported GraphTypes are:\n",
    "\n",
    "* GraphType.UNDIRECTED\n",
    "* GraphType.DIRECTED\n",
    "* GraphType.HASSE\n",
    "\n",
    "By default, Graphs are created with default options set to:\n",
    "\n",
    "* GraphDefaults.simulation [true] - applies d3 forces to the diagram and arranges the nodes without fixed positions\n",
    "* GraphDefaults.drag [true] - allows the user to interact my dragging noes around\n",
    "\n",
    "Supported ShapeTypes are (Node Shapes):\n",
    "\n",
    "* ShapeType.TRIANGLE\n",
    "* ShapeType.DIAMOND\n",
    "* ShapeType.CIRCLE\n",
    "* ShapeType.SQUARE\n",
    "* ShapeType.CROSS\n",
    "* ShapeType.STAR\n",
    "* ShapeType.WYE\n",
    "\n",
    "By default, Shapes are created with default options set to:\n",
    "\n",
    "* ShapeDefaults.highlight [true]\n",
    "* ShapeDefaults.layer [0] - used by hasse diagrams to set indexes\n",
    "* ShapeDefaults.size [10]\n",
    "* ShapeDefaults.x [0] - x position in canvas\n",
    "* ShapeDefaults.y [0] - y position in canvas\n",
    "\n",
    "*NOTE: Please note that Francy is not a Graph Library and thus no graph operations, in mathematical terms, are available*\n",
    "\n",
    "## How to create Graphs?\n",
    "\n",
    "Let's see how to create a graph of each type, starting with the Hasse. The Hasse diagram requires the layer to be set, in order to fix y positions to this layer option:\n",
    "\n",
    "```gap\n",
    "graph := Graph(GraphType.HASSE);\n",
    "shape := Shape(ShapeType.CIRCLE, \"Title\");\n",
    "shape!.layer := 1;\n",
    "shape1 := Shape(ShapeType.CIRCLE);\n",
    "shape1!.layer := 2;\n",
    "link := Link(shape, shape1);\n",
    "Add(graph, shape);\n",
    "Add(graph, shape1);\n",
    "Add(graph, link);\n",
    "```\n",
    "\n",
    "*NOTE: This might change in order to ease the creation of HASSE diagrams without having to specify the layer. Suggestions are welcome!*\n",
    "\n",
    "A Directed graph instead is simpler:\n",
    "\n",
    "```gap\n",
    "graph := Graph(GraphType.DIRECTED);\n",
    "shape := Shape(ShapeType.CIRCLE, \"Title\");\n",
    "shape1 := Shape(ShapeType.CIRCLE);\n",
    "link := Link(shape, shape1);\n",
    "Add(graph, shape);\n",
    "Add(graph, shape1);\n",
    "Add(graph, link);\n",
    "```\n",
    "\n",
    "Undirected graphs are as simple as Directed ones, but the arrows are not present:\n",
    "\n",
    "```gap\n",
    "graph := Graph(GraphType.UNDIRECTED);\n",
    "shape := Shape(ShapeType.CIRCLE, \"Title\");\n",
    "shape1 := Shape(ShapeType.CIRCLE);\n",
    "link := Link(shape, shape1);\n",
    "Add(graph, shape);\n",
    "Add(graph, shape1);\n",
    "Add(graph, link);\n",
    "```"
   ]
  },
  {
   "cell_type": "code",
   "execution_count": 58,
   "metadata": {},
   "outputs": [
    {
     "data": {
      "text/plain": [
       "<object>"
      ]
     },
     "execution_count": 46,
     "metadata": {},
     "output_type": "execute_result"
    },
    {
     "data": {
      "text/plain": [
       "\"200\""
      ]
     },
     "execution_count": 47,
     "metadata": {},
     "output_type": "execute_result"
    },
    {
     "data": {
      "text/plain": [
       "<object>"
      ]
     },
     "execution_count": 48,
     "metadata": {},
     "output_type": "execute_result"
    },
    {
     "data": {
      "text/plain": [
       "<object>"
      ]
     },
     "execution_count": 49,
     "metadata": {},
     "output_type": "execute_result"
    },
    {
     "data": {
      "text/plain": [
       "1"
      ]
     },
     "execution_count": 50,
     "metadata": {},
     "output_type": "execute_result"
    },
    {
     "data": {
      "text/plain": [
       "<object>"
      ]
     },
     "execution_count": 51,
     "metadata": {},
     "output_type": "execute_result"
    },
    {
     "data": {
      "text/plain": [
       "2"
      ]
     },
     "execution_count": 52,
     "metadata": {},
     "output_type": "execute_result"
    },
    {
     "data": {
      "text/plain": [
       "<object>"
      ]
     },
     "execution_count": 55,
     "metadata": {},
     "output_type": "execute_result"
    },
    {
     "data": {
      "application/vnd.francy+json": "{\"version\" : \"0.5.0\",\"mime\" : \"application\\/vnd.francy+json\",\"canvas\" : {\"width\" : \"800\",\"height\" : \"200\",\"id\" : \"A23\",\"title\" : \"Example HASSE Graph\",\"zoomToFit\" : true,\"menus\" : {},\"graph\" : {\"type\" : \"hasse\",\"id\" : \"A24\",\"simulation\" : true,\"drag\" : true,\"nodes\" : {\"A25\" : {\"x\" : 0,\"y\" : 0,\"type\" : \"circle\",\"size\" : 10,\"id\" : \"A25\",\"title\" : \"G\",\"layer\" : 1,\"highlight\" : true,\"menus\" : {},\"messages\" : {},\"callbacks\" : {}},\"A26\" : {\"x\" : 0,\"y\" : 0,\"type\" : \"circle\",\"size\" : 10,\"id\" : \"A26\",\"title\" : \"1\",\"layer\" : 2,\"highlight\" : true,\"menus\" : {},\"messages\" : {},\"callbacks\" : {}}},\"links\" : {\"A27\" : {\"source\" : \"A25\",\"id\" : \"A27\",\"target\" : \"A26\"}}},\"messages\" : {}}}"
     },
     "execution_count": 58,
     "metadata": {},
     "output_type": "execute_result"
    }
   ],
   "source": [
    "canvas := Canvas(\"Example HASSE Graph\");\n",
    "canvas!.height := \"200\";\n",
    "\n",
    "graph := Graph(GraphType.HASSE);\n",
    "\n",
    "shape := Shape(ShapeType.CIRCLE, \"G\");\n",
    "shape!.layer := 1;\n",
    "shape1 := Shape(ShapeType.CIRCLE, \"1\");\n",
    "shape1!.layer := 2;\n",
    "Add(graph, shape);\n",
    "Add(graph, shape1);\n",
    "\n",
    "link := Link(shape, shape1);\n",
    "Add(graph, link);\n",
    "\n",
    "Add(canvas, graph);\n",
    "\n",
    "Draw(canvas);"
   ]
  },
  {
   "cell_type": "code",
   "execution_count": 71,
   "metadata": {},
   "outputs": [
    {
     "data": {
      "text/plain": [
       "<object>"
      ]
     },
     "execution_count": 59,
     "metadata": {},
     "output_type": "execute_result"
    },
    {
     "data": {
      "text/plain": [
       "\"200\""
      ]
     },
     "execution_count": 60,
     "metadata": {},
     "output_type": "execute_result"
    },
    {
     "data": {
      "text/plain": [
       "<object>"
      ]
     },
     "execution_count": 61,
     "metadata": {},
     "output_type": "execute_result"
    },
    {
     "data": {
      "text/plain": [
       "<object>"
      ]
     },
     "execution_count": 62,
     "metadata": {},
     "output_type": "execute_result"
    },
    {
     "data": {
      "text/plain": [
       "1"
      ]
     },
     "execution_count": 63,
     "metadata": {},
     "output_type": "execute_result"
    },
    {
     "data": {
      "text/plain": [
       "<object>"
      ]
     },
     "execution_count": 64,
     "metadata": {},
     "output_type": "execute_result"
    },
    {
     "data": {
      "text/plain": [
       "2"
      ]
     },
     "execution_count": 65,
     "metadata": {},
     "output_type": "execute_result"
    },
    {
     "data": {
      "text/plain": [
       "<object>"
      ]
     },
     "execution_count": 68,
     "metadata": {},
     "output_type": "execute_result"
    },
    {
     "data": {
      "application/vnd.francy+json": "{\"version\" : \"0.5.0\",\"mime\" : \"application\\/vnd.francy+json\",\"canvas\" : {\"width\" : \"800\",\"height\" : \"200\",\"id\" : \"A28\",\"title\" : \"Example DIRECTED Graph\",\"zoomToFit\" : true,\"menus\" : {},\"graph\" : {\"type\" : \"directed\",\"id\" : \"A29\",\"simulation\" : true,\"drag\" : true,\"nodes\" : {\"A30\" : {\"x\" : 0,\"y\" : 0,\"type\" : \"circle\",\"size\" : 10,\"id\" : \"A30\",\"title\" : \"G\",\"layer\" : 1,\"highlight\" : true,\"menus\" : {},\"messages\" : {},\"callbacks\" : {}},\"A31\" : {\"x\" : 0,\"y\" : 0,\"type\" : \"circle\",\"size\" : 10,\"id\" : \"A31\",\"title\" : \"1\",\"layer\" : 2,\"highlight\" : true,\"menus\" : {},\"messages\" : {},\"callbacks\" : {}}},\"links\" : {\"A32\" : {\"source\" : \"A30\",\"id\" : \"A32\",\"target\" : \"A31\"}}},\"messages\" : {}}}"
     },
     "execution_count": 71,
     "metadata": {},
     "output_type": "execute_result"
    }
   ],
   "source": [
    "canvas := Canvas(\"Example DIRECTED Graph\");\n",
    "canvas!.height := \"200\";\n",
    "\n",
    "graph := Graph(GraphType.DIRECTED);\n",
    "\n",
    "shape := Shape(ShapeType.CIRCLE, \"G\");\n",
    "shape!.layer := 1;\n",
    "shape1 := Shape(ShapeType.CIRCLE, \"1\");\n",
    "shape1!.layer := 2;\n",
    "Add(graph, shape);\n",
    "Add(graph, shape1);\n",
    "\n",
    "link := Link(shape, shape1);\n",
    "Add(graph, link);\n",
    "\n",
    "Add(canvas, graph);\n",
    "\n",
    "Draw(canvas);"
   ]
  },
  {
   "cell_type": "code",
   "execution_count": 84,
   "metadata": {},
   "outputs": [
    {
     "data": {
      "text/plain": [
       "<object>"
      ]
     },
     "execution_count": 72,
     "metadata": {},
     "output_type": "execute_result"
    },
    {
     "data": {
      "text/plain": [
       "\"200\""
      ]
     },
     "execution_count": 73,
     "metadata": {},
     "output_type": "execute_result"
    },
    {
     "data": {
      "text/plain": [
       "<object>"
      ]
     },
     "execution_count": 74,
     "metadata": {},
     "output_type": "execute_result"
    },
    {
     "data": {
      "text/plain": [
       "<object>"
      ]
     },
     "execution_count": 75,
     "metadata": {},
     "output_type": "execute_result"
    },
    {
     "data": {
      "text/plain": [
       "1"
      ]
     },
     "execution_count": 76,
     "metadata": {},
     "output_type": "execute_result"
    },
    {
     "data": {
      "text/plain": [
       "<object>"
      ]
     },
     "execution_count": 77,
     "metadata": {},
     "output_type": "execute_result"
    },
    {
     "data": {
      "text/plain": [
       "2"
      ]
     },
     "execution_count": 78,
     "metadata": {},
     "output_type": "execute_result"
    },
    {
     "data": {
      "text/plain": [
       "<object>"
      ]
     },
     "execution_count": 81,
     "metadata": {},
     "output_type": "execute_result"
    },
    {
     "data": {
      "application/vnd.francy+json": "{\"version\" : \"0.5.0\",\"mime\" : \"application\\/vnd.francy+json\",\"canvas\" : {\"width\" : \"800\",\"height\" : \"200\",\"id\" : \"A33\",\"title\" : \"Example UNDIRECTED Graph\",\"zoomToFit\" : true,\"menus\" : {},\"graph\" : {\"type\" : \"undirected\",\"id\" : \"A34\",\"simulation\" : true,\"drag\" : true,\"nodes\" : {\"A35\" : {\"x\" : 0,\"y\" : 0,\"type\" : \"circle\",\"size\" : 10,\"id\" : \"A35\",\"title\" : \"G\",\"layer\" : 1,\"highlight\" : true,\"menus\" : {},\"messages\" : {},\"callbacks\" : {}},\"A36\" : {\"x\" : 0,\"y\" : 0,\"type\" : \"circle\",\"size\" : 10,\"id\" : \"A36\",\"title\" : \"1\",\"layer\" : 2,\"highlight\" : true,\"menus\" : {},\"messages\" : {},\"callbacks\" : {}}},\"links\" : {\"A37\" : {\"source\" : \"A35\",\"id\" : \"A37\",\"target\" : \"A36\"}}},\"messages\" : {}}}"
     },
     "execution_count": 84,
     "metadata": {},
     "output_type": "execute_result"
    }
   ],
   "source": [
    "canvas := Canvas(\"Example UNDIRECTED Graph\");\n",
    "canvas!.height := \"200\";\n",
    "\n",
    "graph := Graph(GraphType.UNDIRECTED);\n",
    "\n",
    "shape := Shape(ShapeType.CIRCLE, \"G\");\n",
    "shape!.layer := 1;\n",
    "shape1 := Shape(ShapeType.CIRCLE, \"1\");\n",
    "shape1!.layer := 2;\n",
    "Add(graph, shape);\n",
    "Add(graph, shape1);\n",
    "\n",
    "link := Link(shape, shape1);\n",
    "Add(graph, link);\n",
    "\n",
    "Add(canvas, graph);\n",
    "\n",
    "Draw(canvas);"
   ]
  },
  {
   "cell_type": "code",
   "execution_count": 108,
   "metadata": {},
   "outputs": [
    {
     "data": {
      "text/plain": [
       "<object>"
      ]
     },
     "execution_count": 85,
     "metadata": {},
     "output_type": "execute_result"
    },
    {
     "data": {
      "text/plain": [
       "\"200\""
      ]
     },
     "execution_count": 86,
     "metadata": {},
     "output_type": "execute_result"
    },
    {
     "data": {
      "text/plain": [
       "<object>"
      ]
     },
     "execution_count": 87,
     "metadata": {},
     "output_type": "execute_result"
    },
    {
     "data": {
      "text/plain": [
       "<object>"
      ]
     },
     "execution_count": 88,
     "metadata": {},
     "output_type": "execute_result"
    },
    {
     "data": {
      "text/plain": [
       "<object>"
      ]
     },
     "execution_count": 90,
     "metadata": {},
     "output_type": "execute_result"
    },
    {
     "data": {
      "text/plain": [
       "<object>"
      ]
     },
     "execution_count": 92,
     "metadata": {},
     "output_type": "execute_result"
    },
    {
     "data": {
      "text/plain": [
       "<object>"
      ]
     },
     "execution_count": 95,
     "metadata": {},
     "output_type": "execute_result"
    },
    {
     "data": {
      "text/plain": [
       "<object>"
      ]
     },
     "execution_count": 99,
     "metadata": {},
     "output_type": "execute_result"
    },
    {
     "data": {
      "text/plain": [
       "<object>"
      ]
     },
     "execution_count": 103,
     "metadata": {},
     "output_type": "execute_result"
    },
    {
     "data": {
      "application/vnd.francy+json": "{\"version\" : \"0.5.0\",\"mime\" : \"application\\/vnd.francy+json\",\"canvas\" : {\"width\" : \"800\",\"height\" : \"200\",\"id\" : \"A38\",\"title\" : \"Example Multiple Shapes Graph\",\"zoomToFit\" : true,\"menus\" : {},\"graph\" : {\"type\" : \"undirected\",\"id\" : \"A39\",\"simulation\" : true,\"drag\" : true,\"nodes\" : {\"A40\" : {\"x\" : 0,\"y\" : 0,\"type\" : \"diamond\",\"size\" : 10,\"id\" : \"A40\",\"title\" : \"G\",\"layer\" : 0,\"highlight\" : true,\"menus\" : {},\"messages\" : {},\"callbacks\" : {}},\"A41\" : {\"x\" : 0,\"y\" : 0,\"type\" : \"wye\",\"size\" : 10,\"id\" : \"A41\",\"title\" : \"1\",\"layer\" : 0,\"highlight\" : true,\"menus\" : {},\"messages\" : {},\"callbacks\" : {}},\"A42\" : {\"x\" : 0,\"y\" : 0,\"type\" : \"square\",\"size\" : 10,\"id\" : \"A42\",\"title\" : \"SG1\",\"layer\" : 0,\"highlight\" : true,\"menus\" : {},\"messages\" : {},\"callbacks\" : {}},\"A44\" : {\"x\" : 0,\"y\" : 0,\"type\" : \"triangle\",\"size\" : 10,\"id\" : \"A44\",\"title\" : \"SG2\",\"layer\" : 0,\"highlight\" : true,\"menus\" : {},\"messages\" : {},\"callbacks\" : {}},\"A47\" : {\"x\" : 0,\"y\" : 0,\"type\" : \"cross\",\"size\" : 10,\"id\" : \"A47\",\"title\" : \"SG3\",\"layer\" : 0,\"highlight\" : true,\"menus\" : {},\"messages\" : {},\"callbacks\" : {}},\"A50\" : {\"x\" : 0,\"y\" : 0,\"type\" : \"star\",\"size\" : 10,\"id\" : \"A50\",\"title\" : \"SG4\",\"layer\" : 0,\"highlight\" : true,\"menus\" : {},\"messages\" : {},\"callbacks\" : {}}},\"links\" : {\"A43\" : {\"source\" : \"A40\",\"id\" : \"A43\",\"target\" : \"A42\"},\"A45\" : {\"source\" : \"A42\",\"id\" : \"A45\",\"target\" : \"A44\"},\"A46\" : {\"source\" : \"A44\",\"id\" : \"A46\",\"target\" : \"A41\"},\"A48\" : {\"source\" : \"A42\",\"id\" : \"A48\",\"target\" : \"A47\"},\"A49\" : {\"source\" : \"A47\",\"id\" : \"A49\",\"target\" : \"A41\"},\"A51\" : {\"source\" : \"A42\",\"id\" : \"A51\",\"target\" : \"A50\"},\"A52\" : {\"source\" : \"A50\",\"id\" : \"A52\",\"target\" : \"A41\"}}},\"messages\" : {}}}"
     },
     "execution_count": 108,
     "metadata": {},
     "output_type": "execute_result"
    }
   ],
   "source": [
    "canvas := Canvas(\"Example Multiple Shapes Graph\");\n",
    "canvas!.height := \"200\";\n",
    "\n",
    "graph := Graph(GraphType.UNDIRECTED);\n",
    "\n",
    "shapeG := Shape(ShapeType.DIAMOND, \"G\");\n",
    "Add(graph, shapeG);\n",
    "shape1 := Shape(ShapeType.WYE, \"1\");\n",
    "Add(graph, shape1);\n",
    "\n",
    "shapeSG1 := Shape(ShapeType.SQUARE, \"SG1\");\n",
    "Add(graph, shapeSG1);\n",
    "Add(graph, Link(shapeG, shapeSG1));\n",
    "\n",
    "shapeSG2 := Shape(ShapeType.TRIANGLE, \"SG2\");\n",
    "Add(graph, shapeSG2);\n",
    "Add(graph, Link(shapeSG1, shapeSG2));\n",
    "Add(graph, Link(shapeSG2, shape1));\n",
    "\n",
    "shapeSG3 := Shape(ShapeType.CROSS, \"SG3\");\n",
    "Add(graph, shapeSG3);\n",
    "Add(graph, Link(shapeSG1, shapeSG3));\n",
    "Add(graph, Link(shapeSG3, shape1));\n",
    "\n",
    "shapeSG4 := Shape(ShapeType.STAR, \"SG4\");\n",
    "Add(graph, shapeSG4);\n",
    "Add(graph, Link(shapeSG1, shapeSG4));\n",
    "Add(graph, Link(shapeSG4, shape1));\n",
    "\n",
    "Add(canvas, graph);\n",
    "\n",
    "Draw(canvas);"
   ]
  },
  {
   "cell_type": "markdown",
   "metadata": {},
   "source": [
    "# Charts\n",
    "\n",
    "Charts are another graphical way to represent data.\n",
    "\n",
    "Supported ChartTypes:\n",
    "\n",
    "* ChartType.LINE\n",
    "* ChartType.BAR\n",
    "* ChartType.SCATTER\n",
    "\n",
    "By default, Chart are created with default options set to:\n",
    "\n",
    "* ChartDefaults.labels [true]\n",
    "* ChartDefaults.legend [true]\n",
    "\n",
    "## How to create Charts?\n",
    "\n",
    "Let's see how to create a Chart of each type, starting with the LINE. LINE Charts don't support providing a custom domain, this needs more work!\n",
    "\n",
    "```gap\n",
    "chart := Chart(ChartType.LINE);\n",
    "chart!.axis!.x!.title := \"X Axis\";\n",
    "chart!.axis!.y!.title := \"Y Axis\";\n",
    "\n",
    "data1 := Dataset(\"data1\", [100,20,30,47,90]);\n",
    "data2 := Dataset(\"data2\", [51,60,72,38,97]);\n",
    "data3 := Dataset(\"data3\", [50,60,70,80,90]);\n",
    "\n",
    "Add(chart, [data1, data2, data3]);\n",
    "```\n",
    "\n",
    "The same data in a Bar Chart:\n",
    "\n",
    "```gap\n",
    "chart := Chart(ChartType.BAR);\n",
    "chart!.axis!.x!.title := \"X Axis\";\n",
    "chart!.axis!.x!.domain := [\"domain1\", \"domain2\", \"domain3\", \"domain4\", \"domain5\"];\n",
    "chart!.axis!.y!.title := \"Y Axis\";\n",
    "\n",
    "data1 := Dataset(\"data1\", [100,20,30,47,90]);\n",
    "data2 := Dataset(\"data2\", [51,60,72,38,97]);\n",
    "data3 := Dataset(\"data3\", [50,60,70,80,90]);\n",
    "\n",
    "Add(chart, [data1, data2, data3]);\n",
    "canvas4 := Canvas(\"Bar Chart\");\n",
    "Add(canvas4, chart);\n",
    "\n",
    "Draw(canvas4);\n",
    "```\n",
    "\n",
    "Same data in a SCATTER Chart:\n",
    "\n",
    "\n",
    "```gap\n",
    "chart := Chart(ChartType.SCATTER);\n",
    "chart!.axis!.x!.title := \"X Axis\";\n",
    "chart!.axis!.y!.title := \"Y Axis\";\n",
    "\n",
    "data1 := Dataset(\"data1\", [100,20,30,47,90]);\n",
    "data2 := Dataset(\"data2\", [51,60,72,38,97]);\n",
    "data3 := Dataset(\"data3\", [50,60,70,80,90]);\n",
    "\n",
    "Add(chart, [data1, data2, data3]);\n",
    "```\n",
    "\n",
    "*NOTE: Charts need more work in general*"
   ]
  },
  {
   "cell_type": "code",
   "execution_count": 119,
   "metadata": {},
   "outputs": [
    {
     "data": {
      "text/plain": [
       "<object>"
      ]
     },
     "execution_count": 109,
     "metadata": {},
     "output_type": "execute_result"
    },
    {
     "data": {
      "text/plain": [
       "\"200\""
      ]
     },
     "execution_count": 110,
     "metadata": {},
     "output_type": "execute_result"
    },
    {
     "data": {
      "text/plain": [
       "<object>"
      ]
     },
     "execution_count": 111,
     "metadata": {},
     "output_type": "execute_result"
    },
    {
     "data": {
      "text/plain": [
       "\"X Axis\""
      ]
     },
     "execution_count": 112,
     "metadata": {},
     "output_type": "execute_result"
    },
    {
     "data": {
      "text/plain": [
       "\"Y Axis\""
      ]
     },
     "execution_count": 113,
     "metadata": {},
     "output_type": "execute_result"
    },
    {
     "data": {
      "text/plain": [
       "<object>"
      ]
     },
     "execution_count": 114,
     "metadata": {},
     "output_type": "execute_result"
    },
    {
     "data": {
      "text/plain": [
       "<object>"
      ]
     },
     "execution_count": 115,
     "metadata": {},
     "output_type": "execute_result"
    },
    {
     "data": {
      "text/plain": [
       "<object>"
      ]
     },
     "execution_count": 116,
     "metadata": {},
     "output_type": "execute_result"
    },
    {
     "data": {
      "application/vnd.francy+json": "{\"version\" : \"0.5.0\",\"mime\" : \"application\\/vnd.francy+json\",\"canvas\" : {\"width\" : \"800\",\"height\" : \"200\",\"id\" : \"A53\",\"title\" : \"Example LINE Chart\",\"zoomToFit\" : true,\"menus\" : {},\"chart\" : {\"type\" : \"line\",\"data\" : {\"data1\" : [\"100\",\"20\",\"30\",\"47\",\"90\"],\"data2\" : [\"51\",\"60\",\"72\",\"38\",\"97\"],\"data3\" : [\"50\",\"60\",\"70\",\"80\",\"90\"]},\"labels\" : true,\"id\" : \"A54\",\"legend\" : true,\"axis\" : {\"x\" : {\"domain\" : [],\"title\" : \"X Axis\",\"scale\" : \"linear\"},\"y\" : {\"domain\" : [],\"title\" : \"Y Axis\",\"scale\" : \"linear\"}}},\"messages\" : {}}}"
     },
     "execution_count": 119,
     "metadata": {},
     "output_type": "execute_result"
    }
   ],
   "source": [
    "canvas := Canvas(\"Example LINE Chart\");\n",
    "canvas!.height := \"200\";\n",
    "\n",
    "chart := Chart(ChartType.LINE);\n",
    "chart!.axis!.x!.title := \"X Axis\";\n",
    "chart!.axis!.y!.title := \"Y Axis\";\n",
    "\n",
    "data1 := Dataset(\"data1\", [100,20,30,47,90]);\n",
    "data2 := Dataset(\"data2\", [51,60,72,38,97]);\n",
    "data3 := Dataset(\"data3\", [50,60,70,80,90]);\n",
    "\n",
    "Add(chart, [data1, data2, data3]);\n",
    "Add(canvas, chart);\n",
    "\n",
    "Draw(canvas);"
   ]
  },
  {
   "cell_type": "code",
   "execution_count": 131,
   "metadata": {},
   "outputs": [
    {
     "data": {
      "text/plain": [
       "<object>"
      ]
     },
     "execution_count": 120,
     "metadata": {},
     "output_type": "execute_result"
    },
    {
     "data": {
      "text/plain": [
       "\"200\""
      ]
     },
     "execution_count": 121,
     "metadata": {},
     "output_type": "execute_result"
    },
    {
     "data": {
      "text/plain": [
       "<object>"
      ]
     },
     "execution_count": 122,
     "metadata": {},
     "output_type": "execute_result"
    },
    {
     "data": {
      "text/plain": [
       "\"X Axis\""
      ]
     },
     "execution_count": 123,
     "metadata": {},
     "output_type": "execute_result"
    },
    {
     "data": {
      "text/plain": [
       "[ \"domain1\", \"domain2\", \"domain3\", \"domain4\", \"domain5\" ]"
      ]
     },
     "execution_count": 124,
     "metadata": {},
     "output_type": "execute_result"
    },
    {
     "data": {
      "text/plain": [
       "\"Y Axis\""
      ]
     },
     "execution_count": 125,
     "metadata": {},
     "output_type": "execute_result"
    },
    {
     "data": {
      "text/plain": [
       "<object>"
      ]
     },
     "execution_count": 126,
     "metadata": {},
     "output_type": "execute_result"
    },
    {
     "data": {
      "text/plain": [
       "<object>"
      ]
     },
     "execution_count": 127,
     "metadata": {},
     "output_type": "execute_result"
    },
    {
     "data": {
      "text/plain": [
       "<object>"
      ]
     },
     "execution_count": 128,
     "metadata": {},
     "output_type": "execute_result"
    },
    {
     "data": {
      "application/vnd.francy+json": "{\"version\" : \"0.5.0\",\"mime\" : \"application\\/vnd.francy+json\",\"canvas\" : {\"width\" : \"800\",\"height\" : \"200\",\"id\" : \"A55\",\"title\" : \"Example BAR Chart\",\"zoomToFit\" : true,\"menus\" : {},\"chart\" : {\"type\" : \"bar\",\"data\" : {\"data1\" : [\"100\",\"20\",\"30\",\"47\",\"90\"],\"data2\" : [\"51\",\"60\",\"72\",\"38\",\"97\"],\"data3\" : [\"50\",\"60\",\"70\",\"80\",\"90\"]},\"labels\" : true,\"id\" : \"A56\",\"legend\" : true,\"axis\" : {\"x\" : {\"domain\" : [\"domain1\",\"domain2\",\"domain3\",\"domain4\",\"domain5\"],\"title\" : \"X Axis\",\"scale\" : \"band\"},\"y\" : {\"domain\" : [],\"title\" : \"Y Axis\",\"scale\" : \"linear\"}}},\"messages\" : {}}}"
     },
     "execution_count": 131,
     "metadata": {},
     "output_type": "execute_result"
    }
   ],
   "source": [
    "canvas := Canvas(\"Example BAR Chart\");\n",
    "canvas!.height := \"200\";\n",
    "\n",
    "chart := Chart(ChartType.BAR);\n",
    "chart!.axis!.x!.title := \"X Axis\";\n",
    "chart!.axis!.x!.domain := [\"domain1\", \"domain2\", \"domain3\", \"domain4\", \"domain5\"];\n",
    "chart!.axis!.y!.title := \"Y Axis\";\n",
    "\n",
    "data1 := Dataset(\"data1\", [100,20,30,47,90]);\n",
    "data2 := Dataset(\"data2\", [51,60,72,38,97]);\n",
    "data3 := Dataset(\"data3\", [50,60,70,80,90]);\n",
    "\n",
    "Add(chart, [data1, data2, data3]);\n",
    "Add(canvas, chart);\n",
    "\n",
    "Draw(canvas);"
   ]
  },
  {
   "cell_type": "code",
   "execution_count": 142,
   "metadata": {},
   "outputs": [
    {
     "data": {
      "text/plain": [
       "<object>"
      ]
     },
     "execution_count": 132,
     "metadata": {},
     "output_type": "execute_result"
    },
    {
     "data": {
      "text/plain": [
       "\"200\""
      ]
     },
     "execution_count": 133,
     "metadata": {},
     "output_type": "execute_result"
    },
    {
     "data": {
      "text/plain": [
       "<object>"
      ]
     },
     "execution_count": 134,
     "metadata": {},
     "output_type": "execute_result"
    },
    {
     "data": {
      "text/plain": [
       "\"X Axis\""
      ]
     },
     "execution_count": 135,
     "metadata": {},
     "output_type": "execute_result"
    },
    {
     "data": {
      "text/plain": [
       "\"Y Axis\""
      ]
     },
     "execution_count": 136,
     "metadata": {},
     "output_type": "execute_result"
    },
    {
     "data": {
      "text/plain": [
       "<object>"
      ]
     },
     "execution_count": 137,
     "metadata": {},
     "output_type": "execute_result"
    },
    {
     "data": {
      "text/plain": [
       "<object>"
      ]
     },
     "execution_count": 138,
     "metadata": {},
     "output_type": "execute_result"
    },
    {
     "data": {
      "text/plain": [
       "<object>"
      ]
     },
     "execution_count": 139,
     "metadata": {},
     "output_type": "execute_result"
    },
    {
     "data": {
      "application/vnd.francy+json": "{\"version\" : \"0.5.0\",\"mime\" : \"application\\/vnd.francy+json\",\"canvas\" : {\"width\" : \"800\",\"height\" : \"200\",\"id\" : \"A57\",\"title\" : \"Example SCATTER Chart\",\"zoomToFit\" : true,\"menus\" : {},\"chart\" : {\"type\" : \"scatter\",\"data\" : {\"data1\" : [\"100\",\"20\",\"30\",\"47\",\"90\"],\"data2\" : [\"51\",\"60\",\"72\",\"38\",\"97\"],\"data3\" : [\"50\",\"60\",\"70\",\"80\",\"90\"]},\"labels\" : true,\"id\" : \"A58\",\"legend\" : true,\"axis\" : {\"x\" : {\"domain\" : [],\"title\" : \"X Axis\",\"scale\" : \"linear\"},\"y\" : {\"domain\" : [],\"title\" : \"Y Axis\",\"scale\" : \"linear\"}}},\"messages\" : {}}}"
     },
     "execution_count": 142,
     "metadata": {},
     "output_type": "execute_result"
    }
   ],
   "source": [
    "canvas := Canvas(\"Example SCATTER Chart\");\n",
    "canvas!.height := \"200\";\n",
    "\n",
    "chart := Chart(ChartType.SCATTER);\n",
    "chart!.axis!.x!.title := \"X Axis\";\n",
    "chart!.axis!.y!.title := \"Y Axis\";\n",
    "\n",
    "data1 := Dataset(\"data1\", [100,20,30,47,90]);\n",
    "data2 := Dataset(\"data2\", [51,60,72,38,97]);\n",
    "data3 := Dataset(\"data3\", [50,60,70,80,90]);\n",
    "\n",
    "Add(chart, [data1, data2, data3]);\n",
    "Add(canvas, chart);\n",
    "\n",
    "Draw(canvas);"
   ]
  }
 ],
 "metadata": {
  "kernelspec": {
   "display_name": "GAP 4 (native)",
   "language": "gap",
   "name": "gap-native"
  },
  "language_info": {
   "codemirror_mode": "gap",
   "file_extension": ".g",
   "mimetype": "text/x-gap",
   "name": "GAP (native)",
   "nbconvert_exporter": "",
   "pygments_lexer": "gap",
   "version": "4.dev"
  }
 },
 "nbformat": 4,
 "nbformat_minor": 2
}
