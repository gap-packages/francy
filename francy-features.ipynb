{
 "cells": [
  {
   "cell_type": "markdown",
   "metadata": {},
   "source": [
    "# Francy Package"
   ]
  },
  {
   "cell_type": "code",
   "execution_count": 1,
   "metadata": {},
   "outputs": [
    {
     "name": "stdout",
     "output_type": "stream",
     "text": [
      "\u0003#I  \u0003\u0003method installed for Add matches more tha\u0003n one declaration\u0003\u0003\n",
      "\u0003\u0003#I  \u0003\u0003method installed for Remove matches more \u0003than one declaration\u0003\u0003\n",
      "\u0003"
     ]
    },
    {
     "data": {
      "text/plain": [
       "true"
      ]
     },
     "execution_count": 1,
     "metadata": {},
     "output_type": "execute_result"
    }
   ],
   "source": [
    "LoadPackage(\"francy\");"
   ]
  },
  {
   "cell_type": "markdown",
   "metadata": {},
   "source": [
    "# Draw\n",
    "\n",
    "Draw is the main function of Francy. It renders a canvas and all the child objects in Jupyter environment or any other environment which connects to GAP somehow, e.g. a webssh console with websockets, etc.\n",
    "\n",
    "### DrawSplash\n",
    "\n",
    "DrawSplash uses Draw to generate the data and creates a Static HTML Page that can be embedded or viewed in any browser, in \"offline\" mode."
   ]
  },
  {
   "cell_type": "markdown",
   "metadata": {},
   "source": [
    "# Canvas\n",
    "\n",
    "Canvas are the base where graphics are produced. A Canvas is constituted by a Main Menu and an area where the graphics are produced.\n",
    "\n",
    "## How to create a Canvas?\n",
    "\n",
    "It is possible to set some default configurations for the canvas:\n",
    "\n",
    "```\n",
    "defaults := CanvasDefaults;\n",
    "defaults!.width     := \"800\";\n",
    "defaults!.height    := \"600\";\n",
    "defaults!.zoomToFit := true;\n",
    "canvas := Canvas(\"Example Canvas\", defaults);\n",
    "```\n",
    "\n",
    "Or it can be done after, by:\n",
    "\n",
    "```\n",
    "canvas := Canvas(\"Example Canvas\");\n",
    "canvas!.width     := \"800\";\n",
    "canvas!.height    := \"600\";\n",
    "canvas!.zoomToFit := false;\n",
    "```"
   ]
  },
  {
   "cell_type": "code",
   "execution_count": 3,
   "metadata": {},
   "outputs": [
    {
     "data": {
      "text/plain": [
       "<object>"
      ]
     },
     "execution_count": 2,
     "metadata": {},
     "output_type": "execute_result"
    },
    {
     "data": {
      "application/vnd.francy+json": "{\"version\" : \"0.5.0\",\"mime\" : \"application\\/vnd.francy+json\",\"canvas\" : {\"width\" : \"800\",\"height\" : \"100\",\"id\" : \"A1\",\"title\" : \"Example Canvas\",\"zoomToFit\" : true,\"menus\" : {},\"graph\" : {},\"chart\" : {},\"messages\" : {}}}"
     },
     "execution_count": 3,
     "metadata": {},
     "output_type": "execute_result"
    }
   ],
   "source": [
    "canvas := Canvas(\"Example Canvas\");\n",
    "\n",
    "# try changing these options\n",
    "canvas!.width     := \"400\";\n",
    "canvas!.height    := \"100\";\n",
    "canvas!.zoomToFit := false;\n",
    "\n",
    "Draw(canvas);"
   ]
  },
  {
   "cell_type": "markdown",
   "metadata": {},
   "source": [
    "# Menus\n",
    "\n",
    "Menus can be added to the Canvas, where they will be added to the Main Menu on the Top, or to Shapes, ahere they will appear as Context Menu - Mouse right click.\n",
    "\n",
    "The Main Menu has by default a Menu entry called Francy with 3 Sub Menus: Zoom to Fit, Save to PNG and About.\n",
    "\n",
    "# Callbacks\n",
    "\n",
    "A Callback is a function that is triggered in GAP and can be added to Menus and/or Shapes.\n",
    "\n",
    "## How to create a Callback?\n",
    "\n",
    "Well Callbacks can be created in many different ways, and it will depend on what you want to do.\n",
    "\n",
    "Callbacks are triggered with mouse events. Available TriggerEvents are:\n",
    "\n",
    "TriggerEvent.DOUBLE_CLICK\n",
    "TriggerEvent.RIGHT_CLICK\n",
    "TriggerEvent.CLICK\n",
    "\n",
    "NOTE: No matter what you choose for TriggerEvent on a callback that is used on a Menu will always default to TriggerEvent.CLICK!\n",
    "\n",
    "Calling a Simple function that doesn't require any argument is the simplest form:\n",
    "\n",
    "```\n",
    "MyFunction := function()\n",
    "    # Must return allways! This is because GAP CallFuncList is used and requires it\n",
    "    return;\n",
    "end;\n",
    "callback := Callback(MyFunction); # defaults to CLICK event\n",
    "callback := Callback(TriggerEvent.DOUBLE_CLICK, MyFunction);\n",
    "```\n",
    "\n",
    "Calling a Function with a \"known\" argument is also simple:\n",
    "\n",
    "```\n",
    "canvas := Canvas(\"Callbacks in Action!\");\n",
    "MyFunction := function(someKnownArg)\n",
    "    # Do Some Crazy computation\n",
    "    # Redraw\n",
    "    return Draw(canvas);\n",
    "end;\n",
    "something := NumericalSemigroup(10,11,19);\n",
    "callback := Callback(MyFunction, [something]);\n",
    "```\n",
    "\n",
    "What if we want the user to give some input? Well, this is the case you have \"required\" arguments:\n",
    "\n",
    "```\n",
    "canvas := Canvas(\"Callbacks in Action!\");\n",
    "MyFunction := function(someKnownArg, someUserInputArg)\n",
    "    # Do Some Crazy computation\n",
    "    # Redraw\n",
    "    return Draw(canvas);\n",
    "end;\n",
    "something := NumericalSemigroup(10,11,19);\n",
    "callback := Callback(MyFunction, [something]);\n",
    "arg := RequiredArg(ArgType.NUMBER, \"Give me a Prime?\");\n",
    "Add(callback, arg);\n",
    "```\n",
    "\n",
    "Required Arguments type defines the data type. Available ArgTypes are:\n",
    "\n",
    "ArgType.BOOLEAN\n",
    "ArgType.STRING\n",
    "ArgType.NUMBER\n",
    "\n",
    "\n",
    "## How to create a Menu?\n",
    "\n",
    "Menus can include a Callback or not. Menus without callback are useful for holding Submenus.\n",
    "\n",
    "```\n",
    "callback := Callback(MyCallbackFunction);\n",
    "menu := Menu(\"Example Holder Menu\");\n",
    "submenu := Menu(\"I'm a Submenu!\", callback);\n",
    "Add(menu, submenu);\n",
    "Add(canvas, menu);\n",
    "```\n",
    "\n",
    "Or as a top Menu:\n",
    "\n",
    "```\n",
    "callback := Callback(MyCallbackFunction);\n",
    "menu := Menu(\"Menu\", callback);\n",
    "Add(canvas, menu);\n",
    "```\n",
    "\n",
    "The same menu objects can be used in Shapes:\n",
    "(NOTE: Submenus are flatenned in context menus!)\n",
    "\n",
    "```\n",
    "shape := Shape(SpaheType.CIRCLE); # will go throughout shapes and graphs later\n",
    "Add(shape, menu);\n",
    "```"
   ]
  },
  {
   "cell_type": "code",
   "execution_count": 132,
   "metadata": {},
   "outputs": [
    {
     "data": {
      "text/plain": [
       "<object>"
      ]
     },
     "execution_count": 117,
     "metadata": {},
     "output_type": "execute_result"
    },
    {
     "data": {
      "text/plain": [
       "<object>"
      ]
     },
     "execution_count": 118,
     "metadata": {},
     "output_type": "execute_result"
    },
    {
     "data": {
      "text/plain": [
       "<object>"
      ]
     },
     "execution_count": 119,
     "metadata": {},
     "output_type": "execute_result"
    },
    {
     "data": {
      "text/plain": [
       "function( name ) ... end"
      ]
     },
     "execution_count": 122,
     "metadata": {},
     "output_type": "execute_result"
    },
    {
     "data": {
      "text/plain": [
       "<object>"
      ]
     },
     "execution_count": 123,
     "metadata": {},
     "output_type": "execute_result"
    },
    {
     "data": {
      "text/plain": [
       "<object>"
      ]
     },
     "execution_count": 124,
     "metadata": {},
     "output_type": "execute_result"
    },
    {
     "data": {
      "text/plain": [
       "<object>"
      ]
     },
     "execution_count": 126,
     "metadata": {},
     "output_type": "execute_result"
    },
    {
     "data": {
      "text/plain": [
       "<object>"
      ]
     },
     "execution_count": 127,
     "metadata": {},
     "output_type": "execute_result"
    },
    {
     "data": {
      "application/vnd.francy+json": "{\"version\" : \"0.5.0\",\"mime\" : \"application\\/vnd.francy+json\",\"canvas\" : {\"width\" : \"800\",\"height\" : \"600\",\"id\" : \"A52\",\"title\" : \"Example Canvas with Menus\",\"zoomToFit\" : true,\"menus\" : {\"A58\" : {\"id\" : \"A58\",\"title\" : \"Hello Menu Action\",\"callback\" : {\"func\" : \"HelloWorld\",\"id\" : \"A55\",\"trigger\" : \"click\",\"knownArgs\" : [],\"requiredArgs\" : {\"A56\" : {\"type\" : \"text\",\"id\" : \"A56\",\"title\" : \"Your Name?\",\"value\" : \"\"}}},\"menus\" : {}},\"A57\" : {\"id\" : \"A57\",\"title\" : \"Example Menu Holder\",\"callback\" : {},\"menus\" : {\"A58\" : {\"id\" : \"A58\",\"title\" : \"Hello Menu Action\",\"callback\" : {\"func\" : \"HelloWorld\",\"id\" : \"A55\",\"trigger\" : \"click\",\"knownArgs\" : [],\"requiredArgs\" : {\"A56\" : {\"type\" : \"text\",\"id\" : \"A56\",\"title\" : \"Your Name?\",\"value\" : \"\"}}},\"menus\" : {}}}}},\"graph\" : {\"type\" : \"hasse\",\"id\" : \"A53\",\"simulation\" : true,\"drag\" : true,\"nodes\" : {\"A54\" : {\"x\" : 0,\"y\" : 0,\"type\" : \"circle\",\"size\" : 10,\"id\" : \"A54\",\"title\" : \"\",\"layer\" : 0,\"highlight\" : true,\"menus\" : {\"A58\" : {\"id\" : \"A58\",\"title\" : \"Hello Menu Action\",\"callback\" : {\"func\" : \"HelloWorld\",\"id\" : \"A55\",\"trigger\" : \"click\",\"knownArgs\" : [],\"requiredArgs\" : {\"A56\" : {\"type\" : \"text\",\"id\" : \"A56\",\"title\" : \"Your Name?\",\"value\" : \"\"}}},\"menus\" : {}}},\"messages\" : {},\"callbacks\" : {}}},\"links\" : {}},\"messages\" : {}}}"
     },
     "execution_count": 132,
     "metadata": {},
     "output_type": "execute_result"
    }
   ],
   "source": [
    "canvas := Canvas(\"Example Canvas with Menus\");\n",
    "\n",
    "graph := Graph(GraphType.HASSE);\n",
    "shape := Shape(ShapeType.CIRCLE);\n",
    "Add(graph, shape);\n",
    "Add(canvas, graph);\n",
    "\n",
    "HelloWorld := function(name)\n",
    "    Add(canvas, HintMessage(Concatenation(\"Hello, \", name))); #  will go throughout messages later\n",
    "    return Draw(canvas);\n",
    "end;\n",
    "\n",
    "callback1 := Callback(HelloWorld);\n",
    "arg1 := RequiredArg(ArgType.STRING, \"Your Name?\");\n",
    "Add(callback1, arg1);\n",
    "\n",
    "menu := Menu(\"Example Menu Holder\");\n",
    "menu1 := Menu( \"Hello Menu Action\", callback1 );\n",
    "Add(menu, menu1);\n",
    "\n",
    "Add(canvas, menu);\n",
    "Add(canvas, menu1);\n",
    "Add(shape, menu1);\n",
    "\n",
    "Draw(canvas);"
   ]
  },
  {
   "cell_type": "markdown",
   "metadata": {},
   "source": [
    "# Messages\n",
    "\n",
    "Messages are usefull for providing information to the user. Messages can be added to the Canvas or to Shapes.\n",
    "\n",
    "Messages added to a Canvas are displayed as messages using colors to differentiate types, they appear on the top left corner and can be dismissed by clicking on them.\n",
    "\n",
    "Messages added to a Shape are displayed as tooltips and types are not taken in account, they appear when the user moves the mouse hover the Shape.\n",
    "\n",
    "## How to create Messages?\n",
    "\n",
    "Once again, creating messages is fairly simple and depends on the purpose of the message.\n",
    "\n",
    "Messages can be of the following types:\n",
    "\n",
    "MessageType.INFO\n",
    "MessageType.ERROR\n",
    "MessageType.SUCCESS\n",
    "MessageType.WARNING\n",
    "MessageType.DEFAULT\n",
    "\n",
    "The simplest Message with default type would be:\n",
    "\n",
    "```\n",
    "HintMessage(\"Hello\", \"World\"); # title and text\n",
    "HintMessage(\"Hello\"); # without title\n",
    "```\n",
    "\n",
    "Messages with a custom type:\n",
    "\n",
    "```\n",
    "HintMessage(MessageType.INFO, \"Hello\", \"World\"); # title and text\n",
    "HintMessage(MessageType.INFO, \"Hello\"); # without title\n",
    "```"
   ]
  },
  {
   "cell_type": "code",
   "execution_count": 208,
   "metadata": {},
   "outputs": [
    {
     "data": {
      "text/plain": [
       "<object>"
      ]
     },
     "execution_count": 193,
     "metadata": {},
     "output_type": "execute_result"
    },
    {
     "data": {
      "text/plain": [
       "<object>"
      ]
     },
     "execution_count": 194,
     "metadata": {},
     "output_type": "execute_result"
    },
    {
     "data": {
      "text/plain": [
       "<object>"
      ]
     },
     "execution_count": 195,
     "metadata": {},
     "output_type": "execute_result"
    },
    {
     "data": {
      "application/vnd.francy+json": "{\"version\" : \"0.5.0\",\"mime\" : \"application\\/vnd.francy+json\",\"canvas\" : {\"width\" : \"800\",\"height\" : \"600\",\"id\" : \"A104\",\"title\" : \"Example Canvas with Messages\",\"zoomToFit\" : true,\"menus\" : {},\"graph\" : {\"type\" : \"hasse\",\"id\" : \"A105\",\"simulation\" : true,\"drag\" : true,\"nodes\" : {\"A106\" : {\"x\" : 0,\"y\" : 0,\"type\" : \"circle\",\"size\" : 10,\"id\" : \"A106\",\"title\" : \"\",\"layer\" : 0,\"highlight\" : true,\"menus\" : {},\"messages\" : {\"A108\" : {\"type\" : \"info\",\"id\" : \"A108\",\"text\" : \"Hello\",\"title\" : \"\"},\"A110\" : {\"type\" : \"error\",\"id\" : \"A110\",\"text\" : \"Hello\",\"title\" : \"Oops\"},\"A112\" : {\"type\" : \"warning\",\"id\" : \"A112\",\"text\" : \"Hello\",\"title\" : \"\"},\"A114\" : {\"type\" : \"success\",\"id\" : \"A114\",\"text\" : \"Hello\",\"title\" : \"\"},\"A116\" : {\"type\" : \"default\",\"id\" : \"A116\",\"text\" : \"World\",\"title\" : \"Hello\"}},\"callbacks\" : {}}},\"links\" : {}},\"messages\" : {\"A107\" : {\"type\" : \"info\",\"id\" : \"A107\",\"text\" : \"Hello\",\"title\" : \"\"},\"A109\" : {\"type\" : \"error\",\"id\" : \"A109\",\"text\" : \"Hello\",\"title\" : \"Oops\"},\"A111\" : {\"type\" : \"warning\",\"id\" : \"A111\",\"text\" : \"Hello\",\"title\" : \"\"},\"A113\" : {\"type\" : \"success\",\"id\" : \"A113\",\"text\" : \"Hello\",\"title\" : \"\"},\"A115\" : {\"type\" : \"default\",\"id\" : \"A115\",\"text\" : \"World\",\"title\" : \"Hello\"}}}}"
     },
     "execution_count": 208,
     "metadata": {},
     "output_type": "execute_result"
    }
   ],
   "source": [
    "canvas := Canvas(\"Example Canvas / Shape with Messages\");\n",
    "\n",
    "graph := Graph(GraphType.HASSE);\n",
    "shape := Shape(ShapeType.CIRCLE);\n",
    "Add(graph, shape);\n",
    "Add(canvas, graph);\n",
    "\n",
    "Add(canvas, HintMessage(MessageType.INFO, \"Hello\"));\n",
    "Add(shape, HintMessage(MessageType.INFO, \"Hello\"));\n",
    "Add(canvas, HintMessage(MessageType.ERROR, \"Oops\", \"Hello\"));\n",
    "Add(shape, HintMessage(MessageType.ERROR, \"Oops\", \"Hello\"));\n",
    "Add(canvas, HintMessage(MessageType.WARNING, \"Hello\"));\n",
    "Add(shape, HintMessage(MessageType.WARNING, \"Hello\"));\n",
    "Add(canvas, HintMessage(MessageType.SUCCESS, \"Hello\"));\n",
    "Add(shape, HintMessage(MessageType.SUCCESS, \"Hello\"));\n",
    "Add(canvas, HintMessage(\"Hello\", \"World\"));\n",
    "Add(shape, HintMessage(\"Hello\", \"World\"));\n",
    "\n",
    "Draw(canvas);"
   ]
  }
 ],
 "metadata": {
  "kernelspec": {
   "display_name": "GAP 4 (native)",
   "language": "gap",
   "name": "gap-native"
  },
  "language_info": {
   "codemirror_mode": "gap",
   "file_extension": ".g",
   "mimetype": "text/x-gap",
   "name": "GAP (native)",
   "nbconvert_exporter": "",
   "pygments_lexer": "gap",
   "version": "4.dev"
  }
 },
 "nbformat": 4,
 "nbformat_minor": 2
}