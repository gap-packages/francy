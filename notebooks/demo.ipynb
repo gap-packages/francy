{
 "cells": [
  {
   "cell_type": "markdown",
   "metadata": {},
   "source": [
    "# Francy"
   ]
  },
  {
   "cell_type": "markdown",
   "metadata": {},
   "source": [
    "### A list of all Francy features, with examples, is available on the following notebook [Francy Features](francy-features.ipynb).\n",
    "### Francy can be used to create new interactive packages, for instance the [FrancyMonoids](francy-monoids.ipynb) or [SubgroupLattice](subgroup-lattice.ipynb) packages.\n",
    "### Francy has been extended and supports, apart from GAP, [Python](https://github.com/zerline/francy-widget) and [Julia](https://github.com/fieker/Francy) languages as backends.\n",
    "### Francy inspired projects such as [JupyterViz](https://github.com/nathancarter/jupyterviz)."
   ]
  },
  {
   "cell_type": "markdown",
   "metadata": {},
   "source": [
    "# How to make an existing Package interactive? \n",
    "### Francy can be used to enhance existing packages by providing interactive visualizations.\n",
    "### As an example, lets use the package [Digraphs](https://www.gap-system.org/Packages/digraphs.html) from James Mitchell. This package already allows the creation of static images using GraphViz.\n",
    "### Lets start by loading GAP packages for the demo:"
   ]
  },
  {
   "cell_type": "code",
   "execution_count": 2,
   "metadata": {},
   "outputs": [],
   "source": [
    "LoadPackage(\"francy\");;\n",
    "LoadPackage(\"digraph\");;"
   ]
  },
  {
   "cell_type": "markdown",
   "metadata": {},
   "source": [
    " ### Imagine we want to represent the directed graph of all subgroups of the DihedralGroup $D_4$:"
   ]
  },
  {
   "cell_type": "code",
   "execution_count": null,
   "metadata": {},
   "outputs": [
    {
     "data": {
      "text/plain": [
       "<pc group of size 4 with 2 generators>"
      ]
     },
     "execution_count": 3,
     "metadata": {
      "text/plain": ""
     },
     "output_type": "execute_result"
    },
    {
     "data": {
      "text/plain": [
       "[ Group([  ]), Group([ f1 ]), Group([ f2 ]), Group([ f1*f2 ]),   <pc group of size 4 with 2 generators> ]"
      ]
     },
     "execution_count": 4,
     "metadata": {
      "text/plain": ""
     },
     "output_type": "execute_result"
    },
    {
     "data": {
      "text/plain": [
       "<immutable digraph with 5 vertices, 12 edges>"
      ]
     },
     "execution_count": 5,
     "metadata": {
      "text/plain": ""
     },
     "output_type": "execute_result"
    }
   ],
   "source": [
    "G            := DihedralGroup(4);\n",
    "allSubgroups := AllSubgroups(G);\n",
    "digraph      := Digraph(allSubgroups, {H, K} -> IsSubgroup(H, K));"
   ]
  },
  {
   "cell_type": "markdown",
   "metadata": {},
   "source": [
    "### Display the Digraph:"
   ]
  },
  {
   "cell_type": "code",
   "execution_count": 6,
   "metadata": {},
   "outputs": [
    {
     "name": "stderr",
     "output_type": "stream",
     "text": [
      "Error, operations: IN of character and boolean or fail is not defined in\n",
      "  '/' in path at /mnt/c/Projects/gap/pkg/io/gap/io.gi:945 called from \n",
      "IO_FindExecutable( path ) at /mnt/c/Projects/gap/pkg/io/gap/io.gi:1047 called from\n",
      "IO_Popen( IO_FindExecutable( \"dot\" ), [ \"-Tsvg\", fn ], \"r\" ) at /mnt/c/Projects/gap/pkg/jupyterkernel/gap/JupyterUtil.gi:16 called from\n",
      "<function \"JupyterSplashDot\">( <arguments> )\n",
      " called from read-eval loop at stream:2\n"
     ]
    },
    {
     "data": {
      "text/plain": [
       "\"//dot\\ndigraph hgn{\\nnode [shape=circle]\\n1\\n2\\n3\\n4\\n5\\n1 -> 1\\n2 -> 1\\n2 ->\\ 2\\n3 -> 1\\n3 -> 3\\n4 -> 1\\n4 -> 4\\n5 -> 1\\n5 -> 2\\n5 -> 3\\n5 -> 4\\n5 -> 5\\n}\\\\n\""
      ]
     },
     "execution_count": 6,
     "metadata": {
      "text/plain": ""
     },
     "output_type": "execute_result"
    }
   ],
   "source": [
    "dot := DotDigraph(digraph);\n",
    "JupyterSplashDot(dot);"
   ]
  },
  {
   "cell_type": "markdown",
   "metadata": {},
   "source": [
    "### Now, we can obtain the same representation using Francy by:"
   ]
  },
  {
   "cell_type": "code",
   "execution_count": null,
   "metadata": {},
   "outputs": [
    {
     "data": {
      "application/vnd.francy+json": "{\"canvas\" : {\"graph\" : {\"collapsed\" : true,\"id\" : \"F383B937CCF3547927CB4CC7779D548B7\",\"links\" : {\"F06668D287B154619349F2436DCD72C18\" : {\"color\" : \"\",\"id\" : \"F06668D287B154619349F2436DCD72C18\",\"invisible\" : false,\"length\" : 0,\"source\" : \"F2140F5B9EB414493EC719FFE8D4BF2ED\",\"target\" : \"F2140F5B9EB414493EC719FFE8D4BF2ED\",\"weight\" : 0},\"F0EFC447BC2A94F6A046EAA5CF1827861\" : {\"color\" : \"\",\"id\" : \"F0EFC447BC2A94F6A046EAA5CF1827861\",\"invisible\" : false,\"length\" : 0,\"source\" : \"F55F63E4544B84A3F14A229612277EA64\",\"target\" : \"F2140F5B9EB414493EC719FFE8D4BF2ED\",\"weight\" : 0},\"F2B929BF53E274CED6C033077FD182A78\" : {\"color\" : \"\",\"id\" : \"F2B929BF53E274CED6C033077FD182A78\",\"invisible\" : false,\"length\" : 0,\"source\" : \"F55F63E4544B84A3F14A229612277EA64\",\"target\" : \"F55F63E4544B84A3F14A229612277EA64\",\"weight\" : 0},\"F3513C9B110C7438B64E6A4A2EF887B49\" : {\"color\" : \"\",\"id\" : \"F3513C9B110C7438B64E6A4A2EF887B49\",\"invisible\" : false,\"length\" : 0,\"source\" : \"F7220CDA1859D4FB5D44E4B78F5ED59EB\",\"target\" : \"F7220CDA1859D4FB5D44E4B78F5ED59EB\",\"weight\" : 0},\"F37407350D8344221FCDF6B0C4FACDF6E\" : {\"color\" : \"\",\"id\" : \"F37407350D8344221FCDF6B0C4FACDF6E\",\"invisible\" : false,\"length\" : 0,\"source\" : \"F7220CDA1859D4FB5D44E4B78F5ED59EB\",\"target\" : \"F55F63E4544B84A3F14A229612277EA64\",\"weight\" : 0},\"F49BDA1295C9445F6F4EC266BF0A82D84\" : {\"color\" : \"\",\"id\" : \"F49BDA1295C9445F6F4EC266BF0A82D84\",\"invisible\" : false,\"length\" : 0,\"source\" : \"FA9ED231CB4E94792E44909958FE38065\",\"target\" : \"F2140F5B9EB414493EC719FFE8D4BF2ED\",\"weight\" : 0},\"F8DD0CA00423F4D774CF0766011BCA30F\" : {\"color\" : \"\",\"id\" : \"F8DD0CA00423F4D774CF0766011BCA30F\",\"invisible\" : false,\"length\" : 0,\"source\" : \"F2D93B026F585424AF4DCE24E0C2A49F8\",\"target\" : \"F2D93B026F585424AF4DCE24E0C2A49F8\",\"weight\" : 0},\"F94F08AE9E9724579DC4004270C597E1A\" : {\"color\" : \"\",\"id\" : \"F94F08AE9E9724579DC4004270C597E1A\",\"invisible\" : false,\"length\" : 0,\"source\" : \"FA9ED231CB4E94792E44909958FE38065\",\"target\" : \"FA9ED231CB4E94792E44909958FE38065\",\"weight\" : 0},\"F9F3EBB45E0E542B3FC53FCD55E436659\" : {\"color\" : \"\",\"id\" : \"F9F3EBB45E0E542B3FC53FCD55E436659\",\"invisible\" : false,\"length\" : 0,\"source\" : \"F7220CDA1859D4FB5D44E4B78F5ED59EB\",\"target\" : \"F2D93B026F585424AF4DCE24E0C2A49F8\",\"weight\" : 0},\"FA6051B31B0334002FC557EA064E34781\" : {\"color\" : \"\",\"id\" : \"FA6051B31B0334002FC557EA064E34781\",\"invisible\" : false,\"length\" : 0,\"source\" : \"F2D93B026F585424AF4DCE24E0C2A49F8\",\"target\" : \"F2140F5B9EB414493EC719FFE8D4BF2ED\",\"weight\" : 0},\"FBD9E398833344A7ADC806BAD17402604\" : {\"color\" : \"\",\"id\" : \"FBD9E398833344A7ADC806BAD17402604\",\"invisible\" : false,\"length\" : 0,\"source\" : \"F7220CDA1859D4FB5D44E4B78F5ED59EB\",\"target\" : \"F2140F5B9EB414493EC719FFE8D4BF2ED\",\"weight\" : 0},\"FC3F97C37978E48F7ACDF22F2D8EEEAC7\" : {\"color\" : \"\",\"id\" : \"FC3F97C37978E48F7ACDF22F2D8EEEAC7\",\"invisible\" : false,\"length\" : 0,\"source\" : \"F7220CDA1859D4FB5D44E4B78F5ED59EB\",\"target\" : \"FA9ED231CB4E94792E44909958FE38065\",\"weight\" : 0}},\"nodes\" : {\"F2140F5B9EB414493EC719FFE8D4BF2ED\" : {\"callbacks\" : {},\"color\" : \"\",\"id\" : \"F2140F5B9EB414493EC719FFE8D4BF2ED\",\"layer\" : 0,\"menus\" : {},\"messages\" : {},\"parent\" : \"\",\"size\" : 10,\"title\" : \"1\",\"type\" : \"circle\",\"x\" : 0,\"y\" : 0},\"F2D93B026F585424AF4DCE24E0C2A49F8\" : {\"callbacks\" : {},\"color\" : \"\",\"id\" : \"F2D93B026F585424AF4DCE24E0C2A49F8\",\"layer\" : 0,\"menus\" : {},\"messages\" : {},\"parent\" : \"\",\"size\" : 10,\"title\" : \"3\",\"type\" : \"circle\",\"x\" : 0,\"y\" : 0},\"F55F63E4544B84A3F14A229612277EA64\" : {\"callbacks\" : {},\"color\" : \"\",\"id\" : \"F55F63E4544B84A3F14A229612277EA64\",\"layer\" : 0,\"menus\" : {},\"messages\" : {},\"parent\" : \"\",\"size\" : 10,\"title\" : \"4\",\"type\" : \"circle\",\"x\" : 0,\"y\" : 0},\"F7220CDA1859D4FB5D44E4B78F5ED59EB\" : {\"callbacks\" : {},\"color\" : \"\",\"id\" : \"F7220CDA1859D4FB5D44E4B78F5ED59EB\",\"layer\" : 0,\"menus\" : {},\"messages\" : {},\"parent\" : \"\",\"size\" : 10,\"title\" : \"5\",\"type\" : \"circle\",\"x\" : 0,\"y\" : 0},\"FA9ED231CB4E94792E44909958FE38065\" : {\"callbacks\" : {},\"color\" : \"\",\"id\" : \"FA9ED231CB4E94792E44909958FE38065\",\"layer\" : 0,\"menus\" : {},\"messages\" : {},\"parent\" : \"\",\"size\" : 10,\"title\" : \"2\",\"type\" : \"circle\",\"x\" : 0,\"y\" : 0}},\"simulation\" : true,\"type\" : \"directed\"},\"height\" : 600,\"id\" : \"F360FDB11B96046EC64EACF2FF9DF2819\",\"menus\" : {},\"messages\" : {},\"texTypesetting\" : true,\"title\" : \"Subgroups Digraph of Group( [ f1, f2 ] )\",\"width\" : 800,\"zoomToFit\" : true},\"mime\" : \"application\\/vnd.francy+json\",\"version\" : \"2.0.0\"}"
     },
     "execution_count": 15,
     "metadata": {
      "application/vnd.francy+json": {}
     },
     "output_type": "execute_result"
    }
   ],
   "source": [
    "nodes    := [];;\n",
    "vertices := DigraphVertices(digraph);;\n",
    "edges    := DigraphEdges(digraph);;\n",
    "\n",
    "graph := Graph(GraphType.DIRECTED);;\n",
    "\n",
    "for i in vertices do\n",
    "    nodes[i] := Shape(ShapeType.CIRCLE, String(i));;\n",
    "    Add(graph, nodes[i]);;\n",
    "od;;\n",
    "\n",
    "for i in edges do\n",
    "    Add(graph, Link(nodes[i[1]], nodes[i[2]]));;\n",
    "od;;\n",
    "\n",
    "canvas := Canvas(Concatenation(\"Subgroups Digraph of \", String(G)));;\n",
    "Add(canvas, graph);;\n",
    "\n",
    "Draw(canvas);"
   ]
  },
  {
   "cell_type": "markdown",
   "metadata": {},
   "source": [
    "### The default renderer is D3, so in order to view the Graphviz representation, Just switch the renderer  by going to 'Settings -> Renderers' and select Graphviz-Renderer.\n",
    "### Now, if we wanted to make it interactive by checking whether a subgroup is simple or not, for instance, we could extend the previous code:"
   ]
  },
  {
   "cell_type": "code",
   "execution_count": 16,
   "metadata": {},
   "outputs": [
    {
     "data": {
      "text/plain": [
       "function( G ) ... end"
      ]
     },
     "execution_count": 16,
     "metadata": {
      "text/plain": ""
     },
     "output_type": "execute_result"
    }
   ],
   "source": [
    "FrancyDigraphs := function(G)\n",
    "    local as, d, v, e, graph, nodes, m, IsGroupSimple, canvas, i;\n",
    "\n",
    "    as := AllSubgroups(G);\n",
    "\n",
    "    d := Digraph(as, {H, K} -> IsSubgroup(H, K));;\n",
    "    v := DigraphVertices(d);;\n",
    "    e := DigraphEdges(d);;\n",
    "\n",
    "    graph := Graph(GraphType.DIRECTED);;\n",
    "    canvas := Canvas(Concatenation(\"Subgroups Digraph of \", String(G)));;\n",
    "    Add(canvas, graph);;\n",
    "\n",
    "    nodes := [];;\n",
    "\n",
    "    # Explanatory message to show everytime\n",
    "    m := FrancyMessage(FrancyMessageType.INFO, \"Simple Groups\", \n",
    "    \"A group is simple if it is nontrivial and has no nontrivial normal subgroups.\");;\n",
    "    \n",
    "    # Add a new function to be invoked on click\n",
    "    IsGroupSimple := function(i)\n",
    "        Add(canvas, m);;\n",
    "        if IsSimpleGroup(as[i]) then\n",
    "            Add(canvas, FrancyMessage(\"Simple\", Concatenation(\"The vertex \", \n",
    "                String(i), \", representing the subgroup \", String(as[i]), \", is simple.\")));;\n",
    "        else\n",
    "            Add(canvas, FrancyMessage(\"Not Simple\", Concatenation(\"The vertex \", \n",
    "                String(i), \", representing the subgroup \", String(as[i]), \", is not simple.\")));;\n",
    "        fi;;\n",
    "        return Draw(canvas);\n",
    "    end;;\n",
    "\n",
    "    for i in v do\n",
    "        nodes[i] := Shape(ShapeType.CIRCLE, String(i));;\n",
    "        # Add a menu on each node with a callback to the function created before\n",
    "        Add(nodes[i], Menu(\"Simple\", Callback(IsGroupSimple, [i])));;\n",
    "        Add(graph, nodes[i]);;\n",
    "    od;;\n",
    "\n",
    "    for i in e do\n",
    "        Add(graph, Link(nodes[i[1]], nodes[i[2]]));;\n",
    "    od;;\n",
    "\n",
    "    return Draw(canvas);\n",
    "end;"
   ]
  },
  {
   "cell_type": "code",
   "execution_count": null,
   "metadata": {},
   "outputs": [
    {
     "data": {
      "application/vnd.francy+json": "{\"canvas\" : {\"graph\" : {\"collapsed\" : true,\"id\" : \"F6712D58088354743248E80CD0871AE9A\",\"links\" : {\"F0534FB53BDD644774C20549B32BA5956\" : {\"color\" : \"\",\"id\" : \"F0534FB53BDD644774C20549B32BA5956\",\"invisible\" : false,\"length\" : 0,\"source\" : \"F14734F04A2EC4D0174E3D02B7040ABE0\",\"target\" : \"FC31B35D78FF84F2B8C6FAADDC0DB0052\",\"weight\" : 0},\"F12B892EB1F6944BD1CB9AEEA3E2DC31B\" : {\"color\" : \"\",\"id\" : \"F12B892EB1F6944BD1CB9AEEA3E2DC31B\",\"invisible\" : false,\"length\" : 0,\"source\" : \"F330476CCC97F40C484795D0F126D75CE\",\"target\" : \"F330476CCC97F40C484795D0F126D75CE\",\"weight\" : 0},\"F16B6D4BBBDE549606C32412BD5FCAAC8\" : {\"color\" : \"\",\"id\" : \"F16B6D4BBBDE549606C32412BD5FCAAC8\",\"invisible\" : false,\"length\" : 0,\"source\" : \"F14734F04A2EC4D0174E3D02B7040ABE0\",\"target\" : \"F330476CCC97F40C484795D0F126D75CE\",\"weight\" : 0},\"F395B367C2F9243410CB0A7E8BCCF58D6\" : {\"color\" : \"\",\"id\" : \"F395B367C2F9243410CB0A7E8BCCF58D6\",\"invisible\" : false,\"length\" : 0,\"source\" : \"F972A7D3A2BD2428E84513487EA9965A8\",\"target\" : \"F972A7D3A2BD2428E84513487EA9965A8\",\"weight\" : 0},\"F4B6224E6E985455E6C182BA6BE9E14F8\" : {\"color\" : \"\",\"id\" : \"F4B6224E6E985455E6C182BA6BE9E14F8\",\"invisible\" : false,\"length\" : 0,\"source\" : \"F14734F04A2EC4D0174E3D02B7040ABE0\",\"target\" : \"F972A7D3A2BD2428E84513487EA9965A8\",\"weight\" : 0},\"F6BF6D40B218C4097549934EF617AE244\" : {\"color\" : \"\",\"id\" : \"F6BF6D40B218C4097549934EF617AE244\",\"invisible\" : false,\"length\" : 0,\"source\" : \"F14734F04A2EC4D0174E3D02B7040ABE0\",\"target\" : \"FC17233E967514F6CE4F0F353D6A14C85\",\"weight\" : 0},\"FA04511C0F9864CD49421236EAD4681D7\" : {\"color\" : \"\",\"id\" : \"FA04511C0F9864CD49421236EAD4681D7\",\"invisible\" : false,\"length\" : 0,\"source\" : \"FC17233E967514F6CE4F0F353D6A14C85\",\"target\" : \"F972A7D3A2BD2428E84513487EA9965A8\",\"weight\" : 0},\"FA79F838DC78B4AEBF4D14426FF5AF0F4\" : {\"color\" : \"\",\"id\" : \"FA79F838DC78B4AEBF4D14426FF5AF0F4\",\"invisible\" : false,\"length\" : 0,\"source\" : \"F14734F04A2EC4D0174E3D02B7040ABE0\",\"target\" : \"F14734F04A2EC4D0174E3D02B7040ABE0\",\"weight\" : 0},\"FE051511DCE3D4A3A34FDD9BF5CDAD1E4\" : {\"color\" : \"\",\"id\" : \"FE051511DCE3D4A3A34FDD9BF5CDAD1E4\",\"invisible\" : false,\"length\" : 0,\"source\" : \"FC31B35D78FF84F2B8C6FAADDC0DB0052\",\"target\" : \"F972A7D3A2BD2428E84513487EA9965A8\",\"weight\" : 0},\"FE06BCD46747840705407AA26AB9BA35A\" : {\"color\" : \"\",\"id\" : \"FE06BCD46747840705407AA26AB9BA35A\",\"invisible\" : false,\"length\" : 0,\"source\" : \"FC17233E967514F6CE4F0F353D6A14C85\",\"target\" : \"FC17233E967514F6CE4F0F353D6A14C85\",\"weight\" : 0},\"FF2206DA17A2A442A9C27B0E5619816C4\" : {\"color\" : \"\",\"id\" : \"FF2206DA17A2A442A9C27B0E5619816C4\",\"invisible\" : false,\"length\" : 0,\"source\" : \"F330476CCC97F40C484795D0F126D75CE\",\"target\" : \"F972A7D3A2BD2428E84513487EA9965A8\",\"weight\" : 0},\"FF220FEE8575C43BDFC303D047B8FC287\" : {\"color\" : \"\",\"id\" : \"FF220FEE8575C43BDFC303D047B8FC287\",\"invisible\" : false,\"length\" : 0,\"source\" : \"FC31B35D78FF84F2B8C6FAADDC0DB0052\",\"target\" : \"FC31B35D78FF84F2B8C6FAADDC0DB0052\",\"weight\" : 0}},\"nodes\" : {\"F14734F04A2EC4D0174E3D02B7040ABE0\" : {\"callbacks\" : {},\"color\" : \"\",\"id\" : \"F14734F04A2EC4D0174E3D02B7040ABE0\",\"layer\" : 0,\"menus\" : {\"F5CDD6C14340F4CE52CB819785F23B0BB\" : {\"callback\" : {\"func\" : \"unknown\",\"id\" : \"F0CEC88E53D9F4AD9243579FC2E221BF2\",\"knownArgs\" : [\"5\"],\"requiredArgs\" : {},\"trigger\" : \"click\"},\"id\" : \"F5CDD6C14340F4CE52CB819785F23B0BB\",\"menus\" : {},\"title\" : \"Simple\"}},\"messages\" : {},\"parent\" : \"\",\"size\" : 10,\"title\" : \"5\",\"type\" : \"circle\",\"x\" : 0,\"y\" : 0},\"F330476CCC97F40C484795D0F126D75CE\" : {\"callbacks\" : {},\"color\" : \"\",\"id\" : \"F330476CCC97F40C484795D0F126D75CE\",\"layer\" : 0,\"menus\" : {\"FE29E81CAF5734142D4115FBBCB27CD5C\" : {\"callback\" : {\"func\" : \"unknown\",\"id\" : \"FCD8CD831DB1B4C93CC1771842D80FD45\",\"knownArgs\" : [\"2\"],\"requiredArgs\" : {},\"trigger\" : \"click\"},\"id\" : \"FE29E81CAF5734142D4115FBBCB27CD5C\",\"menus\" : {},\"title\" : \"Simple\"}},\"messages\" : {},\"parent\" : \"\",\"size\" : 10,\"title\" : \"2\",\"type\" : \"circle\",\"x\" : 0,\"y\" : 0},\"F972A7D3A2BD2428E84513487EA9965A8\" : {\"callbacks\" : {},\"color\" : \"\",\"id\" : \"F972A7D3A2BD2428E84513487EA9965A8\",\"layer\" : 0,\"menus\" : {\"F8B6637E1BB054FCE7CD574E607BE624A\" : {\"callback\" : {\"func\" : \"unknown\",\"id\" : \"F4358CADED853411B94A33DAB4A036C8D\",\"knownArgs\" : [\"1\"],\"requiredArgs\" : {},\"trigger\" : \"click\"},\"id\" : \"F8B6637E1BB054FCE7CD574E607BE624A\",\"menus\" : {},\"title\" : \"Simple\"}},\"messages\" : {},\"parent\" : \"\",\"size\" : 10,\"title\" : \"1\",\"type\" : \"circle\",\"x\" : 0,\"y\" : 0},\"FC17233E967514F6CE4F0F353D6A14C85\" : {\"callbacks\" : {},\"color\" : \"\",\"id\" : \"FC17233E967514F6CE4F0F353D6A14C85\",\"layer\" : 0,\"menus\" : {\"FF8A6855F5AC54313B45FE0312895B7F2\" : {\"callback\" : {\"func\" : \"unknown\",\"id\" : \"FB64AF9C0DF8844D5549A677F3E73A8E0\",\"knownArgs\" : [\"3\"],\"requiredArgs\" : {},\"trigger\" : \"click\"},\"id\" : \"FF8A6855F5AC54313B45FE0312895B7F2\",\"menus\" : {},\"title\" : \"Simple\"}},\"messages\" : {},\"parent\" : \"\",\"size\" : 10,\"title\" : \"3\",\"type\" : \"circle\",\"x\" : 0,\"y\" : 0},\"FC31B35D78FF84F2B8C6FAADDC0DB0052\" : {\"callbacks\" : {},\"color\" : \"\",\"id\" : \"FC31B35D78FF84F2B8C6FAADDC0DB0052\",\"layer\" : 0,\"menus\" : {\"FDF3C3C926F384025CC730F076C1FBC14\" : {\"callback\" : {\"func\" : \"unknown\",\"id\" : \"F7634F3CE41084B803C4699F24E14D4A0\",\"knownArgs\" : [\"4\"],\"requiredArgs\" : {},\"trigger\" : \"click\"},\"id\" : \"FDF3C3C926F384025CC730F076C1FBC14\",\"menus\" : {},\"title\" : \"Simple\"}},\"messages\" : {},\"parent\" : \"\",\"size\" : 10,\"title\" : \"4\",\"type\" : \"circle\",\"x\" : 0,\"y\" : 0}},\"simulation\" : true,\"type\" : \"directed\"},\"height\" : 600,\"id\" : \"FAE9D1BE0EA16438874B27FE539D34269\",\"menus\" : {},\"messages\" : {},\"texTypesetting\" : true,\"title\" : \"Subgroups Digraph of Group( [ f1, f2 ] )\",\"width\" : 800,\"zoomToFit\" : true},\"mime\" : \"application\\/vnd.francy+json\",\"version\" : \"2.0.0\"}"
     },
     "execution_count": 17,
     "metadata": {
      "application/vnd.francy+json": {}
     },
     "output_type": "execute_result"
    }
   ],
   "source": [
    "FrancyDigraphs(G);"
   ]
  },
  {
   "cell_type": "code",
   "execution_count": null,
   "metadata": {},
   "outputs": [],
   "source": []
  }
 ],
 "metadata": {
  "kernelspec": {
   "display_name": "GAP 4",
   "language": "gap",
   "name": "gap-4"
  },
  "language_info": {
   "codemirror_mode": "gap",
   "file_extension": ".g",
   "mimetype": "text/x-gap",
   "name": "GAP 4",
   "nbconvert_exporter": "",
   "pygments_lexer": "gap",
   "version": "4.13dev"
  }
 },
 "nbformat": 4,
 "nbformat_minor": 4
}
