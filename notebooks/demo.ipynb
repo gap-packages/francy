{
 "cells": [
  {
   "cell_type": "markdown",
   "metadata": {},
   "source": [
    "# Francy"
   ]
  },
  {
   "cell_type": "markdown",
   "metadata": {},
   "source": [
    "### A list of all Francy features, with examples, is available on the following notebook [Francy Features](francy-features.ipynb).\n",
    "### Francy can be used to create new interactive packages, for instance the [FrancyMonoids](francy-monoids.ipynb) or [SubgroupLattice](subgroup-lattice.ipynb) packages.\n",
    "### Francy has been extended and supports, apart from GAP, [Python](https://github.com/zerline/francy-widget) and [Julia](https://github.com/fieker/Francy) languages as backends.\n",
    "### Francy inspired projects such as [JupyterViz](https://github.com/nathancarter/jupyterviz)."
   ]
  },
  {
   "cell_type": "markdown",
   "metadata": {},
   "source": [
    "# How to make an existing Package interactive? \n",
    "### Francy can be used to enhance existing packages by providing interactive visualizations.\n",
    "### As an example, lets use the package [Digraphs](https://www.gap-system.org/Packages/digraphs.html) from James Mitchell. This package already allows the creation of static images using GraphViz.\n",
    "### Lets start by loading GAP packages for the demo:"
   ]
  },
  {
   "cell_type": "code",
   "execution_count": 2,
   "metadata": {},
   "outputs": [],
   "source": [
    "LoadPackage(\"francy\");;\n",
    "LoadPackage(\"digraph\");;"
   ]
  },
  {
   "cell_type": "markdown",
   "metadata": {},
   "source": [
    " ### Imagine we want to represent the directed graph of all subgroups of the DihedralGroup $D_4$:"
   ]
  },
  {
   "cell_type": "code",
   "execution_count": 5,
   "metadata": {},
   "outputs": [
    {
     "data": {
      "text/plain": [
       "<group of size 4 with 2 generators>"
      ]
     },
     "execution_count": 3,
     "metadata": {
      "text/plain": ""
     },
     "output_type": "execute_result"
    },
    {
     "data": {
      "text/plain": [
       "[ <trivial group>, <group of size 2 with 1 generators>, <group of size 2 with 1 generators>, <group of size 2 with 1 generators>, <group of size 4 with 2 generators> ]"
      ]
     },
     "execution_count": 4,
     "metadata": {
      "text/plain": ""
     },
     "output_type": "execute_result"
    },
    {
     "data": {
      "text/plain": [
       "<digraph with 5 vertices, 12 edges>"
      ]
     },
     "execution_count": 5,
     "metadata": {
      "text/plain": ""
     },
     "output_type": "execute_result"
    }
   ],
   "source": [
    "G            := DihedralGroup(4);\n",
    "allSubgroups := AllSubgroups(G);\n",
    "digraph      := Digraph(allSubgroups, {H, K} -> IsSubgroup(H, K));"
   ]
  },
  {
   "cell_type": "markdown",
   "metadata": {},
   "source": [
    "### Display the Digraph:"
   ]
  },
  {
   "cell_type": "code",
   "execution_count": 6,
   "metadata": {},
   "outputs": [
    {
     "name": "stderr",
     "output_type": "stream",
     "text": [
      "Error, operations: IN of character and boolean or fail is not defined in\n",
      "  if '/' in path then\n",
      "if not IsExecutableFile( path ) then\n",
      "return fail;\n",
      "else\n",
      "return path;\n",
      "fi;\n",
      "else\n",
      "path := Filename( DirectoriesSystemPrograms(  ), path );\n",
      "if path = fail then\n",
      "return fail;\n",
      "fi;\n",
      "if not IsExecutableFile( path ) then\n",
      "return fail;\n",
      "fi;\n",
      "return path;\n",
      "fi; at /home/ec2-user/environment/gap/pkg/io-4.6.0/gap/io.gi:956 called from \n",
      "IO_FindExecutable( path ) at /home/ec2-user/environment/gap/pkg/io-4.6.0/gap/io.gi:1047 called from\n",
      "IO_Popen( IO_FindExecutable( \"dot\" ), [ \"-Tsvg\", fn ], \"r\" ) at /home/ec2-user/environment/gap/pkg/JupyterKernel-1.3/gap/JupyterUtil.gi:16 called from\n",
      "<function \"JupyterSplashDot\">( <arguments> )\n",
      " called from read-eval loop at stream:2\n"
     ]
    },
    {
     "data": {
      "text/plain": [
       "\"//dotdigraph hgn{node [shape=circle]123451 -> 12 -> 12 -> 23 -> 13 -> 34 -> 14 -> 45 -> 15 -> 25 -> 35 -> 45 -> 5}\""
      ]
     },
     "execution_count": 6,
     "metadata": {
      "text/plain": ""
     },
     "output_type": "execute_result"
    }
   ],
   "source": [
    "dot := DotDigraph(digraph);\n",
    "JupyterSplashDot(dot);"
   ]
  },
  {
   "cell_type": "markdown",
   "metadata": {},
   "source": [
    "### Now, we can obtain the same representation using Francy by:"
   ]
  },
  {
   "cell_type": "code",
   "execution_count": 15,
   "metadata": {},
   "outputs": [
    {
     "data": {
      "application/vnd.francy+json": "{\"version\" : \"1.2.4\",\"mime\" : \"application\\/vnd.francy+json\",\"canvas\" : {\"width\" : 800,\"id\" : \"F19\",\"height\" : 600,\"title\" : \"Subgroups Digraph of Group( [ f1, f2 ] )\",\"zoomToFit\" : true,\"texTypesetting\" : false,\"menus\" : {},\"graph\" : {\"type\" : \"directed\",\"id\" : \"F1\",\"simulation\" : true,\"collapsed\" : true,\"nodes\" : {\"F2\" : {\"x\" : 0,\"y\" : 0,\"type\" : \"circle\",\"id\" : \"F2\",\"size\" : 10,\"title\" : \"1\",\"layer\" : 0,\"parent\" : \"\",\"color\" : \"\",\"menus\" : {},\"messages\" : {},\"callbacks\" : {}},\"F3\" : {\"x\" : 0,\"y\" : 0,\"type\" : \"circle\",\"id\" : \"F3\",\"size\" : 10,\"title\" : \"2\",\"layer\" : 0,\"parent\" : \"\",\"color\" : \"\",\"menus\" : {},\"messages\" : {},\"callbacks\" : {}},\"F4\" : {\"x\" : 0,\"y\" : 0,\"type\" : \"circle\",\"id\" : \"F4\",\"size\" : 10,\"title\" : \"3\",\"layer\" : 0,\"parent\" : \"\",\"color\" : \"\",\"menus\" : {},\"messages\" : {},\"callbacks\" : {}},\"F5\" : {\"x\" : 0,\"y\" : 0,\"type\" : \"circle\",\"id\" : \"F5\",\"size\" : 10,\"title\" : \"4\",\"layer\" : 0,\"parent\" : \"\",\"color\" : \"\",\"menus\" : {},\"messages\" : {},\"callbacks\" : {}},\"F6\" : {\"x\" : 0,\"y\" : 0,\"type\" : \"circle\",\"id\" : \"F6\",\"size\" : 10,\"title\" : \"5\",\"layer\" : 0,\"parent\" : \"\",\"color\" : \"\",\"menus\" : {},\"messages\" : {},\"callbacks\" : {}}},\"links\" : {\"F7\" : {\"id\" : \"F7\",\"source\" : \"F2\",\"length\" : 0,\"weight\" : 0,\"target\" : \"F2\",\"color\" : \"\",\"invisible\" : false},\"F8\" : {\"id\" : \"F8\",\"source\" : \"F3\",\"length\" : 0,\"weight\" : 0,\"target\" : \"F2\",\"color\" : \"\",\"invisible\" : false},\"F9\" : {\"id\" : \"F9\",\"source\" : \"F3\",\"length\" : 0,\"weight\" : 0,\"target\" : \"F3\",\"color\" : \"\",\"invisible\" : false},\"F10\" : {\"id\" : \"F10\",\"source\" : \"F4\",\"length\" : 0,\"weight\" : 0,\"target\" : \"F2\",\"color\" : \"\",\"invisible\" : false},\"F11\" : {\"id\" : \"F11\",\"source\" : \"F4\",\"length\" : 0,\"weight\" : 0,\"target\" : \"F4\",\"color\" : \"\",\"invisible\" : false},\"F12\" : {\"id\" : \"F12\",\"source\" : \"F5\",\"length\" : 0,\"weight\" : 0,\"target\" : \"F2\",\"color\" : \"\",\"invisible\" : false},\"F13\" : {\"id\" : \"F13\",\"source\" : \"F5\",\"length\" : 0,\"weight\" : 0,\"target\" : \"F5\",\"color\" : \"\",\"invisible\" : false},\"F14\" : {\"id\" : \"F14\",\"source\" : \"F6\",\"length\" : 0,\"weight\" : 0,\"target\" : \"F2\",\"color\" : \"\",\"invisible\" : false},\"F15\" : {\"id\" : \"F15\",\"source\" : \"F6\",\"length\" : 0,\"weight\" : 0,\"target\" : \"F3\",\"color\" : \"\",\"invisible\" : false},\"F16\" : {\"id\" : \"F16\",\"source\" : \"F6\",\"length\" : 0,\"weight\" : 0,\"target\" : \"F4\",\"color\" : \"\",\"invisible\" : false},\"F17\" : {\"id\" : \"F17\",\"source\" : \"F6\",\"length\" : 0,\"weight\" : 0,\"target\" : \"F5\",\"color\" : \"\",\"invisible\" : false},\"F18\" : {\"id\" : \"F18\",\"source\" : \"F6\",\"length\" : 0,\"weight\" : 0,\"target\" : \"F6\",\"color\" : \"\",\"invisible\" : false}}},\"messages\" : {}}}"
     },
     "execution_count": 15,
     "metadata": {
      "application/vnd.francy+json": {}
     },
     "output_type": "execute_result"
    }
   ],
   "source": [
    "nodes    := [];;\n",
    "vertices := DigraphVertices(digraph);;\n",
    "edges    := DigraphEdges(digraph);;\n",
    "\n",
    "graph := Graph(GraphType.DIRECTED);;\n",
    "\n",
    "for i in vertices do\n",
    "    nodes[i] := Shape(ShapeType.CIRCLE, String(i));;\n",
    "    Add(graph, nodes[i]);;\n",
    "od;;\n",
    "\n",
    "for i in edges do\n",
    "    Add(graph, Link(nodes[i[1]], nodes[i[2]]));;\n",
    "od;;\n",
    "\n",
    "canvas := Canvas(Concatenation(\"Subgroups Digraph of \", String(G)));;\n",
    "Add(canvas, graph);;\n",
    "\n",
    "Draw(canvas);"
   ]
  },
  {
   "cell_type": "markdown",
   "metadata": {},
   "source": [
    "### The default renderer is D3, so in order to view the Graphviz representation, Just switch the renderer  by going to 'Settings -> Renderers' and select Graphviz-Renderer.\n",
    "### Now, if we wanted to make it interactive by checking whether a subgroup is simple or not, for instance, we could extend the previous code:"
   ]
  },
  {
   "cell_type": "code",
   "execution_count": 16,
   "metadata": {},
   "outputs": [
    {
     "data": {
      "text/plain": [
       "function( G ) ... end"
      ]
     },
     "execution_count": 16,
     "metadata": {
      "text/plain": ""
     },
     "output_type": "execute_result"
    }
   ],
   "source": [
    "FrancyDigraphs := function(G)\n",
    "    local as, d, v, e, graph, nodes, m, IsGroupSimple, canvas, i;\n",
    "\n",
    "    as := AllSubgroups(G);\n",
    "\n",
    "    d := Digraph(as, {H, K} -> IsSubgroup(H, K));;\n",
    "    v := DigraphVertices(d);;\n",
    "    e := DigraphEdges(d);;\n",
    "\n",
    "    graph := Graph(GraphType.DIRECTED);;\n",
    "    canvas := Canvas(Concatenation(\"Subgroups Digraph of \", String(G)));;\n",
    "    Add(canvas, graph);;\n",
    "\n",
    "    nodes := [];;\n",
    "\n",
    "    # Explanatory message to show everytime\n",
    "    m := FrancyMessage(FrancyMessageType.INFO, \"Simple Groups\", \n",
    "    \"A group is simple if it is nontrivial and has no nontrivial normal subgroups.\");;\n",
    "    \n",
    "    # Add a new function to be invoked on click\n",
    "    IsGroupSimple := function(i)\n",
    "        Add(canvas, m);;\n",
    "        if IsSimpleGroup(as[i]) then\n",
    "            Add(canvas, FrancyMessage(\"Simple\", Concatenation(\"The vertex \", \n",
    "                String(i), \", representing the subgroup \", String(as[i]), \", is simple.\")));;\n",
    "        else\n",
    "            Add(canvas, FrancyMessage(\"Not Simple\", Concatenation(\"The vertex \", \n",
    "                String(i), \", representing the subgroup \", String(as[i]), \", is not simple.\")));;\n",
    "        fi;;\n",
    "        return Draw(canvas);\n",
    "    end;;\n",
    "\n",
    "    for i in v do\n",
    "        nodes[i] := Shape(ShapeType.CIRCLE, String(i));;\n",
    "        # Add a menu on each node with a callback to the function created before\n",
    "        Add(nodes[i], Menu(\"Simple\", Callback(IsGroupSimple, [i])));;\n",
    "        Add(graph, nodes[i]);;\n",
    "    od;;\n",
    "\n",
    "    for i in e do\n",
    "        Add(graph, Link(nodes[i[1]], nodes[i[2]]));;\n",
    "    od;;\n",
    "\n",
    "    return Draw(canvas);\n",
    "end;"
   ]
  },
  {
   "cell_type": "code",
   "execution_count": 17,
   "metadata": {},
   "outputs": [
    {
     "data": {
      "application/vnd.francy+json": "{\"version\" : \"1.2.4\",\"mime\" : \"application\\/vnd.francy+json\",\"canvas\" : {\"width\" : 800,\"id\" : \"F21\",\"height\" : 600,\"title\" : \"Subgroups Digraph of Group( [ f1, f2 ] )\",\"zoomToFit\" : true,\"texTypesetting\" : false,\"menus\" : {},\"graph\" : {\"type\" : \"directed\",\"id\" : \"F20\",\"simulation\" : true,\"collapsed\" : true,\"nodes\" : {\"F23\" : {\"x\" : 0,\"y\" : 0,\"type\" : \"circle\",\"id\" : \"F23\",\"size\" : 10,\"title\" : \"1\",\"layer\" : 0,\"parent\" : \"\",\"color\" : \"\",\"menus\" : {\"F25\" : {\"id\" : \"F25\",\"title\" : \"Simple\",\"callback\" : {\"func\" : \"unknown\",\"id\" : \"F24\",\"trigger\" : \"click\",\"knownArgs\" : [\"1\"],\"requiredArgs\" : {}},\"menus\" : {}}},\"messages\" : {},\"callbacks\" : {}},\"F26\" : {\"x\" : 0,\"y\" : 0,\"type\" : \"circle\",\"id\" : \"F26\",\"size\" : 10,\"title\" : \"2\",\"layer\" : 0,\"parent\" : \"\",\"color\" : \"\",\"menus\" : {\"F28\" : {\"id\" : \"F28\",\"title\" : \"Simple\",\"callback\" : {\"func\" : \"unknown\",\"id\" : \"F27\",\"trigger\" : \"click\",\"knownArgs\" : [\"2\"],\"requiredArgs\" : {}},\"menus\" : {}}},\"messages\" : {},\"callbacks\" : {}},\"F29\" : {\"x\" : 0,\"y\" : 0,\"type\" : \"circle\",\"id\" : \"F29\",\"size\" : 10,\"title\" : \"3\",\"layer\" : 0,\"parent\" : \"\",\"color\" : \"\",\"menus\" : {\"F31\" : {\"id\" : \"F31\",\"title\" : \"Simple\",\"callback\" : {\"func\" : \"unknown\",\"id\" : \"F30\",\"trigger\" : \"click\",\"knownArgs\" : [\"3\"],\"requiredArgs\" : {}},\"menus\" : {}}},\"messages\" : {},\"callbacks\" : {}},\"F32\" : {\"x\" : 0,\"y\" : 0,\"type\" : \"circle\",\"id\" : \"F32\",\"size\" : 10,\"title\" : \"4\",\"layer\" : 0,\"parent\" : \"\",\"color\" : \"\",\"menus\" : {\"F34\" : {\"id\" : \"F34\",\"title\" : \"Simple\",\"callback\" : {\"func\" : \"unknown\",\"id\" : \"F33\",\"trigger\" : \"click\",\"knownArgs\" : [\"4\"],\"requiredArgs\" : {}},\"menus\" : {}}},\"messages\" : {},\"callbacks\" : {}},\"F35\" : {\"x\" : 0,\"y\" : 0,\"type\" : \"circle\",\"id\" : \"F35\",\"size\" : 10,\"title\" : \"5\",\"layer\" : 0,\"parent\" : \"\",\"color\" : \"\",\"menus\" : {\"F37\" : {\"id\" : \"F37\",\"title\" : \"Simple\",\"callback\" : {\"func\" : \"unknown\",\"id\" : \"F36\",\"trigger\" : \"click\",\"knownArgs\" : [\"5\"],\"requiredArgs\" : {}},\"menus\" : {}}},\"messages\" : {},\"callbacks\" : {}}},\"links\" : {\"F38\" : {\"id\" : \"F38\",\"source\" : \"F23\",\"length\" : 0,\"weight\" : 0,\"target\" : \"F23\",\"color\" : \"\",\"invisible\" : false},\"F39\" : {\"id\" : \"F39\",\"source\" : \"F26\",\"length\" : 0,\"weight\" : 0,\"target\" : \"F23\",\"color\" : \"\",\"invisible\" : false},\"F40\" : {\"id\" : \"F40\",\"source\" : \"F26\",\"length\" : 0,\"weight\" : 0,\"target\" : \"F26\",\"color\" : \"\",\"invisible\" : false},\"F41\" : {\"id\" : \"F41\",\"source\" : \"F29\",\"length\" : 0,\"weight\" : 0,\"target\" : \"F23\",\"color\" : \"\",\"invisible\" : false},\"F42\" : {\"id\" : \"F42\",\"source\" : \"F29\",\"length\" : 0,\"weight\" : 0,\"target\" : \"F29\",\"color\" : \"\",\"invisible\" : false},\"F43\" : {\"id\" : \"F43\",\"source\" : \"F32\",\"length\" : 0,\"weight\" : 0,\"target\" : \"F23\",\"color\" : \"\",\"invisible\" : false},\"F44\" : {\"id\" : \"F44\",\"source\" : \"F32\",\"length\" : 0,\"weight\" : 0,\"target\" : \"F32\",\"color\" : \"\",\"invisible\" : false},\"F45\" : {\"id\" : \"F45\",\"source\" : \"F35\",\"length\" : 0,\"weight\" : 0,\"target\" : \"F23\",\"color\" : \"\",\"invisible\" : false},\"F46\" : {\"id\" : \"F46\",\"source\" : \"F35\",\"length\" : 0,\"weight\" : 0,\"target\" : \"F26\",\"color\" : \"\",\"invisible\" : false},\"F47\" : {\"id\" : \"F47\",\"source\" : \"F35\",\"length\" : 0,\"weight\" : 0,\"target\" : \"F29\",\"color\" : \"\",\"invisible\" : false},\"F48\" : {\"id\" : \"F48\",\"source\" : \"F35\",\"length\" : 0,\"weight\" : 0,\"target\" : \"F32\",\"color\" : \"\",\"invisible\" : false},\"F49\" : {\"id\" : \"F49\",\"source\" : \"F35\",\"length\" : 0,\"weight\" : 0,\"target\" : \"F35\",\"color\" : \"\",\"invisible\" : false}}},\"messages\" : {}}}"
     },
     "execution_count": 17,
     "metadata": {
      "application/vnd.francy+json": {}
     },
     "output_type": "execute_result"
    }
   ],
   "source": [
    "FrancyDigraphs(G);"
   ]
  },
  {
   "cell_type": "code",
   "execution_count": null,
   "metadata": {},
   "outputs": [],
   "source": []
  }
 ],
 "metadata": {
  "kernelspec": {
   "display_name": "GAP 4",
   "language": "gap",
   "name": "gap-4"
  },
  "language_info": {
   "codemirror_mode": "gap",
   "file_extension": ".g",
   "mimetype": "text/x-gap",
   "name": "GAP 4",
   "nbconvert_exporter": "",
   "pygments_lexer": "gap",
   "version": "4.dev"
  }
 },
 "nbformat": 4,
 "nbformat_minor": 2
}
