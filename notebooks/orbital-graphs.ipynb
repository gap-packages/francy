{
 "cells": [
  {
   "cell_type": "markdown",
   "metadata": {},
   "source": [
    "# Demo for the OrbitalGraphs GAP package\n",
    "\n",
    "This attempts to draw orbital graphs for groups $G \\leq S_n$"
   ]
  },
  {
   "cell_type": "code",
   "execution_count": null,
   "metadata": {},
   "outputs": [
    {
     "data": {
      "text/plain": [
       "true"
      ]
     },
     "execution_count": 1,
     "metadata": {
      "text/plain": ""
     },
     "output_type": "execute_result"
    },
    {
     "data": {
      "text/plain": [
       "true"
      ]
     },
     "execution_count": 2,
     "metadata": {
      "text/plain": ""
     },
     "output_type": "execute_result"
    }
   ],
   "source": [
    "LoadPackage(\"OrbitalGraphs\");\n",
    "LoadPackage(\"Francy\");"
   ]
  },
  {
   "cell_type": "code",
   "execution_count": 3,
   "metadata": {},
   "outputs": [
    {
     "data": {
      "text/plain": [
       "function( OG ) ... end"
      ]
     },
     "execution_count": 3,
     "metadata": {
      "text/plain": ""
     },
     "output_type": "execute_result"
    }
   ],
   "source": [
    "# Input: an orbital graph\n",
    "# Draws orbital graphs\n",
    "\n",
    "DrawOrbitalGraph := function(OG)\n",
    "    local canvas, fgraph, i, e, nodes, graphviz;\n",
    "    \n",
    "    # todo: make it possible to put a caption here\n",
    "    canvas := Canvas(Concatenation(\"Orbital Graph of\", \"\"));\n",
    "    fgraph := Graph(GraphType.DIRECTED);\n",
    "    Add(canvas, fgraph);\n",
    "\n",
    "    nodes := [];\n",
    "\n",
    "    for i in DigraphVertices(OG) do\n",
    "        nodes[i] := Shape(ShapeType.CIRCLE, String(i));;\n",
    "        Add(fgraph, nodes[i]);\n",
    "    od;\n",
    "    for i in [1..Length(nodes)-1] do\n",
    "        e := Link(nodes[i], nodes[i+1]);\n",
    "        SetInvisible(e, true);\n",
    "        Add(fgraph, e);\n",
    "    od;\n",
    "    e := Link(nodes[Length(nodes)], nodes[1]);\n",
    "    SetInvisible(e, true);\n",
    "    Add(fgraph, e);\n",
    "\n",
    "    for e in DigraphEdges(OG) do\n",
    "        Add(fgraph, Link(nodes[e[1]], nodes[e[2]]));\n",
    "    od;\n",
    "    \n",
    "    graphviz := FrancyRenderer(FrancyRendererType.GRAPHVIZ_CIRCO);\n",
    "    Add(canvas, graphviz);\n",
    "\n",
    "    return Draw(canvas);\n",
    "end;"
   ]
  },
  {
   "cell_type": "code",
   "execution_count": null,
   "metadata": {},
   "outputs": [
    {
     "data": {
      "text/plain": [
       "Group([ (1,2,3,4,5,6,7,8), (2,8)(3,7)(4,6) ])"
      ]
     },
     "execution_count": 4,
     "metadata": {
      "text/plain": ""
     },
     "output_type": "execute_result"
    },
    {
     "data": {
      "text/plain": [
       "[ <self-paired orbital graph of Group([ (1,2,3,4,5,6,7,8), (2,8)(3,7)(4,6) ])      on 8 vertices with base-pair (1,5), 8 arcs>,   <self-paired orbital graph of Group([ (1,2,3,4,5,6,7,8), (2,8)(3,7)(4,6) ])      on 8 vertices with base-pair (1,2), 16 arcs>,   <self-paired orbital graph of Group([ (1,2,3,4,5,6,7,8), (2,8)(3,7)(4,6) ])      on 8 vertices with base-pair (1,3), 16 arcs>,   <self-paired orbital graph of Group([ (1,2,3,4,5,6,7,8), (2,8)(3,7)(4,6) ])      on 8 vertices with base-pair (1,4), 16 arcs> ]"
      ]
     },
     "execution_count": 5,
     "metadata": {
      "text/plain": ""
     },
     "output_type": "execute_result"
    }
   ],
   "source": [
    "G := DihedralGroup(IsPermGroup, 16);\n",
    "ogs := OrbitalGraphs(G);"
   ]
  },
  {
   "cell_type": "code",
   "execution_count": null,
   "metadata": {},
   "outputs": [
    {
     "data": {
      "application/vnd.francy+json": "{\"canvas\" : {\"graph\" : {\"collapsed\" : true,\"id\" : \"F0B1E608E0B7844971C520DBC7A9E74A1\",\"links\" : {\"F0CEC88E53D9F4AD9243579FC2E221BF2\" : {\"color\" : \"\",\"id\" : \"F0CEC88E53D9F4AD9243579FC2E221BF2\",\"invisible\" : false,\"length\" : 0,\"source\" : \"F6712D58088354743248E80CD0871AE9A\",\"target\" : \"F4358CADED853411B94A33DAB4A036C8D\",\"weight\" : 0},\"F12B892EB1F6944BD1CB9AEEA3E2DC31B\" : {\"color\" : \"\",\"id\" : \"F12B892EB1F6944BD1CB9AEEA3E2DC31B\",\"invisible\" : false,\"length\" : 0,\"source\" : \"F4358CADED853411B94A33DAB4A036C8D\",\"target\" : \"F6712D58088354743248E80CD0871AE9A\",\"weight\" : 0},\"F14734F04A2EC4D0174E3D02B7040ABE0\" : {\"color\" : \"\",\"id\" : \"F14734F04A2EC4D0174E3D02B7040ABE0\",\"invisible\" : false,\"length\" : 0,\"source\" : \"F4D178A036EF742C2BC6C055D9B907FB9\",\"target\" : \"F972A7D3A2BD2428E84513487EA9965A8\",\"weight\" : 0},\"F395B367C2F9243410CB0A7E8BCCF58D6\" : {\"color\" : \"\",\"id\" : \"F395B367C2F9243410CB0A7E8BCCF58D6\",\"invisible\" : false,\"length\" : 0,\"source\" : \"F137DB56349C44C86349415D8DBC577B4\",\"target\" : \"F330476CCC97F40C484795D0F126D75CE\",\"weight\" : 0},\"F5CDD6C14340F4CE52CB819785F23B0BB\" : {\"color\" : \"\",\"id\" : \"F5CDD6C14340F4CE52CB819785F23B0BB\",\"invisible\" : false,\"length\" : 0,\"source\" : \"FAE9D1BE0EA16438874B27FE539D34269\",\"target\" : \"F8B6637E1BB054FCE7CD574E607BE624A\",\"weight\" : 0},\"F7634F3CE41084B803C4699F24E14D4A0\" : {\"color\" : \"\",\"id\" : \"F7634F3CE41084B803C4699F24E14D4A0\",\"invisible\" : true,\"length\" : 0,\"source\" : \"F8B6637E1BB054FCE7CD574E607BE624A\",\"target\" : \"F330476CCC97F40C484795D0F126D75CE\",\"weight\" : 0},\"FA04511C0F9864CD49421236EAD4681D7\" : {\"color\" : \"\",\"id\" : \"FA04511C0F9864CD49421236EAD4681D7\",\"invisible\" : false,\"length\" : 0,\"source\" : \"F8B6637E1BB054FCE7CD574E607BE624A\",\"target\" : \"FAE9D1BE0EA16438874B27FE539D34269\",\"weight\" : 0},\"FB64AF9C0DF8844D5549A677F3E73A8E0\" : {\"color\" : \"\",\"id\" : \"FB64AF9C0DF8844D5549A677F3E73A8E0\",\"invisible\" : true,\"length\" : 0,\"source\" : \"F137DB56349C44C86349415D8DBC577B4\",\"target\" : \"F972A7D3A2BD2428E84513487EA9965A8\",\"weight\" : 0},\"FC17233E967514F6CE4F0F353D6A14C85\" : {\"color\" : \"\",\"id\" : \"FC17233E967514F6CE4F0F353D6A14C85\",\"invisible\" : true,\"length\" : 0,\"source\" : \"FAE9D1BE0EA16438874B27FE539D34269\",\"target\" : \"F137DB56349C44C86349415D8DBC577B4\",\"weight\" : 0},\"FC31B35D78FF84F2B8C6FAADDC0DB0052\" : {\"color\" : \"\",\"id\" : \"FC31B35D78FF84F2B8C6FAADDC0DB0052\",\"invisible\" : true,\"length\" : 0,\"source\" : \"F4358CADED853411B94A33DAB4A036C8D\",\"target\" : \"F8B6637E1BB054FCE7CD574E607BE624A\",\"weight\" : 0},\"FCD8CD831DB1B4C93CC1771842D80FD45\" : {\"color\" : \"\",\"id\" : \"FCD8CD831DB1B4C93CC1771842D80FD45\",\"invisible\" : true,\"length\" : 0,\"source\" : \"F4D178A036EF742C2BC6C055D9B907FB9\",\"target\" : \"F6712D58088354743248E80CD0871AE9A\",\"weight\" : 0},\"FDF3C3C926F384025CC730F076C1FBC14\" : {\"color\" : \"\",\"id\" : \"FDF3C3C926F384025CC730F076C1FBC14\",\"invisible\" : true,\"length\" : 0,\"source\" : \"F330476CCC97F40C484795D0F126D75CE\",\"target\" : \"F4D178A036EF742C2BC6C055D9B907FB9\",\"weight\" : 0},\"FE06BCD46747840705407AA26AB9BA35A\" : {\"color\" : \"\",\"id\" : \"FE06BCD46747840705407AA26AB9BA35A\",\"invisible\" : false,\"length\" : 0,\"source\" : \"F330476CCC97F40C484795D0F126D75CE\",\"target\" : \"F137DB56349C44C86349415D8DBC577B4\",\"weight\" : 0},\"FE29E81CAF5734142D4115FBBCB27CD5C\" : {\"color\" : \"\",\"id\" : \"FE29E81CAF5734142D4115FBBCB27CD5C\",\"invisible\" : true,\"length\" : 0,\"source\" : \"F6712D58088354743248E80CD0871AE9A\",\"target\" : \"FAE9D1BE0EA16438874B27FE539D34269\",\"weight\" : 0},\"FF2206DA17A2A442A9C27B0E5619816C4\" : {\"color\" : \"\",\"id\" : \"FF2206DA17A2A442A9C27B0E5619816C4\",\"invisible\" : false,\"length\" : 0,\"source\" : \"F972A7D3A2BD2428E84513487EA9965A8\",\"target\" : \"F4D178A036EF742C2BC6C055D9B907FB9\",\"weight\" : 0},\"FF8A6855F5AC54313B45FE0312895B7F2\" : {\"color\" : \"\",\"id\" : \"FF8A6855F5AC54313B45FE0312895B7F2\",\"invisible\" : true,\"length\" : 0,\"source\" : \"F972A7D3A2BD2428E84513487EA9965A8\",\"target\" : \"F4358CADED853411B94A33DAB4A036C8D\",\"weight\" : 0}},\"nodes\" : {\"F137DB56349C44C86349415D8DBC577B4\" : {\"callbacks\" : {},\"color\" : \"\",\"id\" : \"F137DB56349C44C86349415D8DBC577B4\",\"layer\" : 0,\"menus\" : {},\"messages\" : {},\"parent\" : \"\",\"size\" : 10,\"title\" : \"4\",\"type\" : \"circle\",\"x\" : 0,\"y\" : 0},\"F330476CCC97F40C484795D0F126D75CE\" : {\"callbacks\" : {},\"color\" : \"\",\"id\" : \"F330476CCC97F40C484795D0F126D75CE\",\"layer\" : 0,\"menus\" : {},\"messages\" : {},\"parent\" : \"\",\"size\" : 10,\"title\" : \"8\",\"type\" : \"circle\",\"x\" : 0,\"y\" : 0},\"F4358CADED853411B94A33DAB4A036C8D\" : {\"callbacks\" : {},\"color\" : \"\",\"id\" : \"F4358CADED853411B94A33DAB4A036C8D\",\"layer\" : 0,\"menus\" : {},\"messages\" : {},\"parent\" : \"\",\"size\" : 10,\"title\" : \"6\",\"type\" : \"circle\",\"x\" : 0,\"y\" : 0},\"F4D178A036EF742C2BC6C055D9B907FB9\" : {\"callbacks\" : {},\"color\" : \"\",\"id\" : \"F4D178A036EF742C2BC6C055D9B907FB9\",\"layer\" : 0,\"menus\" : {},\"messages\" : {},\"parent\" : \"\",\"size\" : 10,\"title\" : \"1\",\"type\" : \"circle\",\"x\" : 0,\"y\" : 0},\"F6712D58088354743248E80CD0871AE9A\" : {\"callbacks\" : {},\"color\" : \"\",\"id\" : \"F6712D58088354743248E80CD0871AE9A\",\"layer\" : 0,\"menus\" : {},\"messages\" : {},\"parent\" : \"\",\"size\" : 10,\"title\" : \"2\",\"type\" : \"circle\",\"x\" : 0,\"y\" : 0},\"F8B6637E1BB054FCE7CD574E607BE624A\" : {\"callbacks\" : {},\"color\" : \"\",\"id\" : \"F8B6637E1BB054FCE7CD574E607BE624A\",\"layer\" : 0,\"menus\" : {},\"messages\" : {},\"parent\" : \"\",\"size\" : 10,\"title\" : \"7\",\"type\" : \"circle\",\"x\" : 0,\"y\" : 0},\"F972A7D3A2BD2428E84513487EA9965A8\" : {\"callbacks\" : {},\"color\" : \"\",\"id\" : \"F972A7D3A2BD2428E84513487EA9965A8\",\"layer\" : 0,\"menus\" : {},\"messages\" : {},\"parent\" : \"\",\"size\" : 10,\"title\" : \"5\",\"type\" : \"circle\",\"x\" : 0,\"y\" : 0},\"FAE9D1BE0EA16438874B27FE539D34269\" : {\"callbacks\" : {},\"color\" : \"\",\"id\" : \"FAE9D1BE0EA16438874B27FE539D34269\",\"layer\" : 0,\"menus\" : {},\"messages\" : {},\"parent\" : \"\",\"size\" : 10,\"title\" : \"3\",\"type\" : \"circle\",\"x\" : 0,\"y\" : 0}},\"simulation\" : true,\"type\" : \"directed\"},\"height\" : 600,\"id\" : \"FD24388E504254B3ECC899D9748C5DE87\",\"menus\" : {},\"messages\" : {},\"renderer\" : \"GraphViz-Renderer.circo\",\"texTypesetting\" : true,\"title\" : \"Orbital Graph of\",\"width\" : 800,\"zoomToFit\" : true},\"mime\" : \"application\\/vnd.francy+json\",\"version\" : \"2.0.0\"}"
     },
     "execution_count": 6,
     "metadata": {
      "application/vnd.francy+json": {}
     },
     "output_type": "execute_result"
    }
   ],
   "source": [
    "# This seems to work quite ok\n",
    "DrawOrbitalGraph(ogs[1]);"
   ]
  },
  {
   "cell_type": "code",
   "execution_count": 7,
   "metadata": {},
   "outputs": [
    {
     "data": {
      "application/vnd.francy+json": "{\"canvas\" : {\"graph\" : {\"collapsed\" : true,\"id\" : \"FCF8B9FDB01264AD5446BBEFB8133E0D1\",\"links\" : {\"F1527ED48A5FA4803A4760D4A4ECD67A4\" : {\"color\" : \"\",\"id\" : \"F1527ED48A5FA4803A4760D4A4ECD67A4\",\"invisible\" : false,\"length\" : 0,\"source\" : \"FFF716FCA2C214DC1DC6C7127F700805A\",\"target\" : \"FB6420EDE3EBF43D84C022594ED685445\",\"weight\" : 0},\"F2E04D2A449AB404484BE1DB2766E0E0A\" : {\"color\" : \"\",\"id\" : \"F2E04D2A449AB404484BE1DB2766E0E0A\",\"invisible\" : false,\"length\" : 0,\"source\" : \"FB6420EDE3EBF43D84C022594ED685445\",\"target\" : \"FC3BF146966EC4D04DCF185F67B457960\",\"weight\" : 0},\"F32F85A285C36492DF41341B206CF469A\" : {\"color\" : \"\",\"id\" : \"F32F85A285C36492DF41341B206CF469A\",\"invisible\" : true,\"length\" : 0,\"source\" : \"FB4A5CE0FD8C84773440706490F3EEAA6\",\"target\" : \"FFF716FCA2C214DC1DC6C7127F700805A\",\"weight\" : 0},\"F3F10A2DC1ECE471C0CB1E7A1D6292133\" : {\"color\" : \"\",\"id\" : \"F3F10A2DC1ECE471C0CB1E7A1D6292133\",\"invisible\" : true,\"length\" : 0,\"source\" : \"F24860B81D2DE491BE4F5F9B4D4A07C7F\",\"target\" : \"FB4A5CE0FD8C84773440706490F3EEAA6\",\"weight\" : 0},\"F40168CEA92334FC0148D276E79DE5B4B\" : {\"color\" : \"\",\"id\" : \"F40168CEA92334FC0148D276E79DE5B4B\",\"invisible\" : false,\"length\" : 0,\"source\" : \"FFF716FCA2C214DC1DC6C7127F700805A\",\"target\" : \"FB4A5CE0FD8C84773440706490F3EEAA6\",\"weight\" : 0},\"F483C58C84F764BA7ACE75701FDD9E22C\" : {\"color\" : \"\",\"id\" : \"F483C58C84F764BA7ACE75701FDD9E22C\",\"invisible\" : false,\"length\" : 0,\"source\" : \"F04B841BB95E84A5014DCF7B2A0251FC3\",\"target\" : \"FB44F8E272E49437FD43BFC7AC2524DF4\",\"weight\" : 0},\"F562A6F4EEB684370C4573A32DB918402\" : {\"color\" : \"\",\"id\" : \"F562A6F4EEB684370C4573A32DB918402\",\"invisible\" : false,\"length\" : 0,\"source\" : \"FC3BF146966EC4D04DCF185F67B457960\",\"target\" : \"FB2EF5C7DE1814CEC9CE0BD93A05AE5A9\",\"weight\" : 0},\"F5934678072AB4FE24C1E02260B3AEC51\" : {\"color\" : \"\",\"id\" : \"F5934678072AB4FE24C1E02260B3AEC51\",\"invisible\" : false,\"length\" : 0,\"source\" : \"FB2EF5C7DE1814CEC9CE0BD93A05AE5A9\",\"target\" : \"F04B841BB95E84A5014DCF7B2A0251FC3\",\"weight\" : 0},\"F5EFEB101EAFA4AD5BC6729B00FB31224\" : {\"color\" : \"\",\"id\" : \"F5EFEB101EAFA4AD5BC6729B00FB31224\",\"invisible\" : false,\"length\" : 0,\"source\" : \"FB4A5CE0FD8C84773440706490F3EEAA6\",\"target\" : \"FFF716FCA2C214DC1DC6C7127F700805A\",\"weight\" : 0},\"F6B0D2D96936A4F02940D4BE2F53D08CF\" : {\"color\" : \"\",\"id\" : \"F6B0D2D96936A4F02940D4BE2F53D08CF\",\"invisible\" : true,\"length\" : 0,\"source\" : \"FB2EF5C7DE1814CEC9CE0BD93A05AE5A9\",\"target\" : \"F04B841BB95E84A5014DCF7B2A0251FC3\",\"weight\" : 0},\"F6E830FE3BA81486EBC7520C337511CD6\" : {\"color\" : \"\",\"id\" : \"F6E830FE3BA81486EBC7520C337511CD6\",\"invisible\" : false,\"length\" : 0,\"source\" : \"FB2EF5C7DE1814CEC9CE0BD93A05AE5A9\",\"target\" : \"FC3BF146966EC4D04DCF185F67B457960\",\"weight\" : 0},\"F6FFD0DC6D901452F0C4BDBFB98CC8EA4\" : {\"color\" : \"\",\"id\" : \"F6FFD0DC6D901452F0C4BDBFB98CC8EA4\",\"invisible\" : true,\"length\" : 0,\"source\" : \"FB6420EDE3EBF43D84C022594ED685445\",\"target\" : \"FC3BF146966EC4D04DCF185F67B457960\",\"weight\" : 0},\"F73BA8F0160C048B6EC43BD311F163595\" : {\"color\" : \"\",\"id\" : \"F73BA8F0160C048B6EC43BD311F163595\",\"invisible\" : false,\"length\" : 0,\"source\" : \"FB6420EDE3EBF43D84C022594ED685445\",\"target\" : \"FFF716FCA2C214DC1DC6C7127F700805A\",\"weight\" : 0},\"F7CE460F59FF34ABCCC0A2DA6C499EBE1\" : {\"color\" : \"\",\"id\" : \"F7CE460F59FF34ABCCC0A2DA6C499EBE1\",\"invisible\" : true,\"length\" : 0,\"source\" : \"FFF716FCA2C214DC1DC6C7127F700805A\",\"target\" : \"FB6420EDE3EBF43D84C022594ED685445\",\"weight\" : 0},\"F8987EB361DA64586C40E112150E13098\" : {\"color\" : \"\",\"id\" : \"F8987EB361DA64586C40E112150E13098\",\"invisible\" : false,\"length\" : 0,\"source\" : \"FB44F8E272E49437FD43BFC7AC2524DF4\",\"target\" : \"F04B841BB95E84A5014DCF7B2A0251FC3\",\"weight\" : 0},\"F936E20B004D54A3D0C08E853E35C38A4\" : {\"color\" : \"\",\"id\" : \"F936E20B004D54A3D0C08E853E35C38A4\",\"invisible\" : false,\"length\" : 0,\"source\" : \"FC3BF146966EC4D04DCF185F67B457960\",\"target\" : \"FB6420EDE3EBF43D84C022594ED685445\",\"weight\" : 0},\"FA927E80CEE7A424B2422AFBA0F2555D8\" : {\"color\" : \"\",\"id\" : \"FA927E80CEE7A424B2422AFBA0F2555D8\",\"invisible\" : false,\"length\" : 0,\"source\" : \"FB44F8E272E49437FD43BFC7AC2524DF4\",\"target\" : \"F24860B81D2DE491BE4F5F9B4D4A07C7F\",\"weight\" : 0},\"FB044BBE020E04383F4C5C95C677AC07D\" : {\"color\" : \"\",\"id\" : \"FB044BBE020E04383F4C5C95C677AC07D\",\"invisible\" : false,\"length\" : 0,\"source\" : \"F24860B81D2DE491BE4F5F9B4D4A07C7F\",\"target\" : \"FB44F8E272E49437FD43BFC7AC2524DF4\",\"weight\" : 0},\"FC9F8E4D6C2AC4E1BCC02AF98B1B13AF8\" : {\"color\" : \"\",\"id\" : \"FC9F8E4D6C2AC4E1BCC02AF98B1B13AF8\",\"invisible\" : true,\"length\" : 0,\"source\" : \"FC3BF146966EC4D04DCF185F67B457960\",\"target\" : \"FB2EF5C7DE1814CEC9CE0BD93A05AE5A9\",\"weight\" : 0},\"FCB30C5C48EDD45D744A771BD4CA25AD1\" : {\"color\" : \"\",\"id\" : \"FCB30C5C48EDD45D744A771BD4CA25AD1\",\"invisible\" : true,\"length\" : 0,\"source\" : \"FB44F8E272E49437FD43BFC7AC2524DF4\",\"target\" : \"F24860B81D2DE491BE4F5F9B4D4A07C7F\",\"weight\" : 0},\"FCDAA11DED07240C1F4429FBD27CD81D3\" : {\"color\" : \"\",\"id\" : \"FCDAA11DED07240C1F4429FBD27CD81D3\",\"invisible\" : false,\"length\" : 0,\"source\" : \"F24860B81D2DE491BE4F5F9B4D4A07C7F\",\"target\" : \"FB4A5CE0FD8C84773440706490F3EEAA6\",\"weight\" : 0},\"FE8CE86EAA1EB4A063481C01F4687D755\" : {\"color\" : \"\",\"id\" : \"FE8CE86EAA1EB4A063481C01F4687D755\",\"invisible\" : false,\"length\" : 0,\"source\" : \"F04B841BB95E84A5014DCF7B2A0251FC3\",\"target\" : \"FB2EF5C7DE1814CEC9CE0BD93A05AE5A9\",\"weight\" : 0},\"FEA332E0097E749D3243339D7D5184871\" : {\"color\" : \"\",\"id\" : \"FEA332E0097E749D3243339D7D5184871\",\"invisible\" : false,\"length\" : 0,\"source\" : \"FB4A5CE0FD8C84773440706490F3EEAA6\",\"target\" : \"F24860B81D2DE491BE4F5F9B4D4A07C7F\",\"weight\" : 0},\"FEAA418A30A99453F84DD6D8EDCA03B7D\" : {\"color\" : \"\",\"id\" : \"FEAA418A30A99453F84DD6D8EDCA03B7D\",\"invisible\" : true,\"length\" : 0,\"source\" : \"F04B841BB95E84A5014DCF7B2A0251FC3\",\"target\" : \"FB44F8E272E49437FD43BFC7AC2524DF4\",\"weight\" : 0}},\"nodes\" : {\"F04B841BB95E84A5014DCF7B2A0251FC3\" : {\"callbacks\" : {},\"color\" : \"\",\"id\" : \"F04B841BB95E84A5014DCF7B2A0251FC3\",\"layer\" : 0,\"menus\" : {},\"messages\" : {},\"parent\" : \"\",\"size\" : 10,\"title\" : \"7\",\"type\" : \"circle\",\"x\" : 0,\"y\" : 0},\"F24860B81D2DE491BE4F5F9B4D4A07C7F\" : {\"callbacks\" : {},\"color\" : \"\",\"id\" : \"F24860B81D2DE491BE4F5F9B4D4A07C7F\",\"layer\" : 0,\"menus\" : {},\"messages\" : {},\"parent\" : \"\",\"size\" : 10,\"title\" : \"1\",\"type\" : \"circle\",\"x\" : 0,\"y\" : 0},\"FB2EF5C7DE1814CEC9CE0BD93A05AE5A9\" : {\"callbacks\" : {},\"color\" : \"\",\"id\" : \"FB2EF5C7DE1814CEC9CE0BD93A05AE5A9\",\"layer\" : 0,\"menus\" : {},\"messages\" : {},\"parent\" : \"\",\"size\" : 10,\"title\" : \"6\",\"type\" : \"circle\",\"x\" : 0,\"y\" : 0},\"FB44F8E272E49437FD43BFC7AC2524DF4\" : {\"callbacks\" : {},\"color\" : \"\",\"id\" : \"FB44F8E272E49437FD43BFC7AC2524DF4\",\"layer\" : 0,\"menus\" : {},\"messages\" : {},\"parent\" : \"\",\"size\" : 10,\"title\" : \"8\",\"type\" : \"circle\",\"x\" : 0,\"y\" : 0},\"FB4A5CE0FD8C84773440706490F3EEAA6\" : {\"callbacks\" : {},\"color\" : \"\",\"id\" : \"FB4A5CE0FD8C84773440706490F3EEAA6\",\"layer\" : 0,\"menus\" : {},\"messages\" : {},\"parent\" : \"\",\"size\" : 10,\"title\" : \"2\",\"type\" : \"circle\",\"x\" : 0,\"y\" : 0},\"FB6420EDE3EBF43D84C022594ED685445\" : {\"callbacks\" : {},\"color\" : \"\",\"id\" : \"FB6420EDE3EBF43D84C022594ED685445\",\"layer\" : 0,\"menus\" : {},\"messages\" : {},\"parent\" : \"\",\"size\" : 10,\"title\" : \"4\",\"type\" : \"circle\",\"x\" : 0,\"y\" : 0},\"FC3BF146966EC4D04DCF185F67B457960\" : {\"callbacks\" : {},\"color\" : \"\",\"id\" : \"FC3BF146966EC4D04DCF185F67B457960\",\"layer\" : 0,\"menus\" : {},\"messages\" : {},\"parent\" : \"\",\"size\" : 10,\"title\" : \"5\",\"type\" : \"circle\",\"x\" : 0,\"y\" : 0},\"FFF716FCA2C214DC1DC6C7127F700805A\" : {\"callbacks\" : {},\"color\" : \"\",\"id\" : \"FFF716FCA2C214DC1DC6C7127F700805A\",\"layer\" : 0,\"menus\" : {},\"messages\" : {},\"parent\" : \"\",\"size\" : 10,\"title\" : \"3\",\"type\" : \"circle\",\"x\" : 0,\"y\" : 0}},\"simulation\" : true,\"type\" : \"directed\"},\"height\" : 600,\"id\" : \"FC7D8DD2542844CD584F39D6A21CEE2C7\",\"menus\" : {},\"messages\" : {},\"renderer\" : \"GraphViz-Renderer.circo\",\"texTypesetting\" : true,\"title\" : \"Orbital Graph of\",\"width\" : 800,\"zoomToFit\" : true},\"mime\" : \"application\\/vnd.francy+json\",\"version\" : \"2.0.0\"}"
     },
     "execution_count": 7,
     "metadata": {
      "application/vnd.francy+json": {}
     },
     "output_type": "execute_result"
    }
   ],
   "source": [
    "# This, not so much\n",
    "DrawOrbitalGraph(ogs[2]);"
   ]
  },
  {
   "cell_type": "code",
   "execution_count": null,
   "metadata": {},
   "outputs": [
    {
     "data": {
      "text/plain": [
       "Group([ (1,2,3), (1,2), (4,5,6,7,8) ])"
      ]
     },
     "execution_count": 8,
     "metadata": {
      "text/plain": ""
     },
     "output_type": "execute_result"
    },
    {
     "data": {
      "text/plain": [
       "[ <orbital graph of Group([ (1,2,3), (1,2), (4,5,6,7,8) ]) on 8 vertices     with base-pair (4,5), 5 arcs>,   <orbital graph of Group([ (1,2,3), (1,2), (4,5,6,7,8) ]) on 8 vertices     with base-pair (4,6), 5 arcs>,   <orbital graph of Group([ (1,2,3), (1,2), (4,5,6,7,8) ]) on 8 vertices     with base-pair (4,7), 5 arcs>,   <orbital graph of Group([ (1,2,3), (1,2), (4,5,6,7,8) ]) on 8 vertices     with base-pair (4,8), 5 arcs>,   <self-paired orbital graph of Group([ (1,2,3), (1,2), (4,5,6,7,8) ]) on     8 vertices with base-pair (1,2), 6 arcs>,   <orbital graph of Group([ (1,2,3), (1,2), (4,5,6,7,8) ]) on 8 vertices     with base-pair (1,4), 15 arcs>,   <orbital graph of Group([ (1,2,3), (1,2), (4,5,6,7,8) ]) on 8 vertices     with base-pair (4,1), 15 arcs> ]"
      ]
     },
     "execution_count": 9,
     "metadata": {
      "text/plain": ""
     },
     "output_type": "execute_result"
    }
   ],
   "source": [
    "G := DirectProduct(SymmetricGroup(3), CyclicGroup(IsPermGroup, 5));\n",
    "ogs := OrbitalGraphs(G);"
   ]
  },
  {
   "cell_type": "code",
   "execution_count": null,
   "metadata": {},
   "outputs": [
    {
     "data": {
      "application/vnd.francy+json": "{\"canvas\" : {\"graph\" : {\"collapsed\" : true,\"id\" : \"FFEFB98E3BCCB418BA458ECBB0CCA925C\",\"links\" : {\"F4FAF4A4604454510DC6986ED4D05ABC6\" : {\"color\" : \"\",\"id\" : \"F4FAF4A4604454510DC6986ED4D05ABC6\",\"invisible\" : true,\"length\" : 0,\"source\" : \"FC6F50468BB554826CCBAA39771237E2F\",\"target\" : \"F98293EC29FB54AD84C22F9063B8C0533\",\"weight\" : 0},\"F50C7CE8D8D244FD22CC449CAB3AD0367\" : {\"color\" : \"\",\"id\" : \"F50C7CE8D8D244FD22CC449CAB3AD0367\",\"invisible\" : true,\"length\" : 0,\"source\" : \"FA4DEA8F633A6450E94691B5A644BBAB8\",\"target\" : \"FB9BE3EF1E8D64F674C931CF738FD9F96\",\"weight\" : 0},\"F5627D2FD82124EB47460035A3D50A74A\" : {\"color\" : \"\",\"id\" : \"F5627D2FD82124EB47460035A3D50A74A\",\"invisible\" : true,\"length\" : 0,\"source\" : \"F08E51F92BCD04C7B2CF2E880A6BBD53A\",\"target\" : \"FC6F50468BB554826CCBAA39771237E2F\",\"weight\" : 0},\"F5CA77BCDC35C4A266433C1F77E681E8D\" : {\"color\" : \"\",\"id\" : \"F5CA77BCDC35C4A266433C1F77E681E8D\",\"invisible\" : false,\"length\" : 0,\"source\" : \"F98293EC29FB54AD84C22F9063B8C0533\",\"target\" : \"FE56D3640EBDB4A4C8C6140D8147B109B\",\"weight\" : 0},\"F647F88C6DF11424D54B34F6A2E097A0F\" : {\"color\" : \"\",\"id\" : \"F647F88C6DF11424D54B34F6A2E097A0F\",\"invisible\" : false,\"length\" : 0,\"source\" : \"FC6F50468BB554826CCBAA39771237E2F\",\"target\" : \"F14016DD34B6544FCC49D2056591EE05D\",\"weight\" : 0},\"F680499AAFD7B4D3CF4F8D277F9F435FE\" : {\"color\" : \"\",\"id\" : \"F680499AAFD7B4D3CF4F8D277F9F435FE\",\"invisible\" : false,\"length\" : 0,\"source\" : \"F14016DD34B6544FCC49D2056591EE05D\",\"target\" : \"F08E51F92BCD04C7B2CF2E880A6BBD53A\",\"weight\" : 0},\"F6B205968AEF8413704F091398B0BF144\" : {\"color\" : \"\",\"id\" : \"F6B205968AEF8413704F091398B0BF144\",\"invisible\" : false,\"length\" : 0,\"source\" : \"F08E51F92BCD04C7B2CF2E880A6BBD53A\",\"target\" : \"F98293EC29FB54AD84C22F9063B8C0533\",\"weight\" : 0},\"F8711BDBBA2A64A6534C462C55F3154AC\" : {\"color\" : \"\",\"id\" : \"F8711BDBBA2A64A6534C462C55F3154AC\",\"invisible\" : true,\"length\" : 0,\"source\" : \"FB3F7928D27E44FE40C90D88D468CC481\",\"target\" : \"FA4DEA8F633A6450E94691B5A644BBAB8\",\"weight\" : 0},\"F8CDA665D2B21412454EF5554411A76C4\" : {\"color\" : \"\",\"id\" : \"F8CDA665D2B21412454EF5554411A76C4\",\"invisible\" : true,\"length\" : 0,\"source\" : \"F14016DD34B6544FCC49D2056591EE05D\",\"target\" : \"FB3F7928D27E44FE40C90D88D468CC481\",\"weight\" : 0},\"FCA5F0FB4D74A4D976414C18490B400CF\" : {\"color\" : \"\",\"id\" : \"FCA5F0FB4D74A4D976414C18490B400CF\",\"invisible\" : true,\"length\" : 0,\"source\" : \"F98293EC29FB54AD84C22F9063B8C0533\",\"target\" : \"F14016DD34B6544FCC49D2056591EE05D\",\"weight\" : 0},\"FCEA3C6EE6E944BF42CFBFB2D0D5B78C3\" : {\"color\" : \"\",\"id\" : \"FCEA3C6EE6E944BF42CFBFB2D0D5B78C3\",\"invisible\" : false,\"length\" : 0,\"source\" : \"FE56D3640EBDB4A4C8C6140D8147B109B\",\"target\" : \"FC6F50468BB554826CCBAA39771237E2F\",\"weight\" : 0},\"FD10B11D52F2C40C5540A152191D7F32D\" : {\"color\" : \"\",\"id\" : \"FD10B11D52F2C40C5540A152191D7F32D\",\"invisible\" : true,\"length\" : 0,\"source\" : \"FB9BE3EF1E8D64F674C931CF738FD9F96\",\"target\" : \"FE56D3640EBDB4A4C8C6140D8147B109B\",\"weight\" : 0},\"FFD0D1F5EC6A9444CDC6B143E7E342BF3\" : {\"color\" : \"\",\"id\" : \"FFD0D1F5EC6A9444CDC6B143E7E342BF3\",\"invisible\" : true,\"length\" : 0,\"source\" : \"FE56D3640EBDB4A4C8C6140D8147B109B\",\"target\" : \"F08E51F92BCD04C7B2CF2E880A6BBD53A\",\"weight\" : 0}},\"nodes\" : {\"F08E51F92BCD04C7B2CF2E880A6BBD53A\" : {\"callbacks\" : {},\"color\" : \"\",\"id\" : \"F08E51F92BCD04C7B2CF2E880A6BBD53A\",\"layer\" : 0,\"menus\" : {},\"messages\" : {},\"parent\" : \"\",\"size\" : 10,\"title\" : \"5\",\"type\" : \"circle\",\"x\" : 0,\"y\" : 0},\"F14016DD34B6544FCC49D2056591EE05D\" : {\"callbacks\" : {},\"color\" : \"\",\"id\" : \"F14016DD34B6544FCC49D2056591EE05D\",\"layer\" : 0,\"menus\" : {},\"messages\" : {},\"parent\" : \"\",\"size\" : 10,\"title\" : \"8\",\"type\" : \"circle\",\"x\" : 0,\"y\" : 0},\"F98293EC29FB54AD84C22F9063B8C0533\" : {\"callbacks\" : {},\"color\" : \"\",\"id\" : \"F98293EC29FB54AD84C22F9063B8C0533\",\"layer\" : 0,\"menus\" : {},\"messages\" : {},\"parent\" : \"\",\"size\" : 10,\"title\" : \"7\",\"type\" : \"circle\",\"x\" : 0,\"y\" : 0},\"FA4DEA8F633A6450E94691B5A644BBAB8\" : {\"callbacks\" : {},\"color\" : \"\",\"id\" : \"FA4DEA8F633A6450E94691B5A644BBAB8\",\"layer\" : 0,\"menus\" : {},\"messages\" : {},\"parent\" : \"\",\"size\" : 10,\"title\" : \"2\",\"type\" : \"circle\",\"x\" : 0,\"y\" : 0},\"FB3F7928D27E44FE40C90D88D468CC481\" : {\"callbacks\" : {},\"color\" : \"\",\"id\" : \"FB3F7928D27E44FE40C90D88D468CC481\",\"layer\" : 0,\"menus\" : {},\"messages\" : {},\"parent\" : \"\",\"size\" : 10,\"title\" : \"1\",\"type\" : \"circle\",\"x\" : 0,\"y\" : 0},\"FB9BE3EF1E8D64F674C931CF738FD9F96\" : {\"callbacks\" : {},\"color\" : \"\",\"id\" : \"FB9BE3EF1E8D64F674C931CF738FD9F96\",\"layer\" : 0,\"menus\" : {},\"messages\" : {},\"parent\" : \"\",\"size\" : 10,\"title\" : \"3\",\"type\" : \"circle\",\"x\" : 0,\"y\" : 0},\"FC6F50468BB554826CCBAA39771237E2F\" : {\"callbacks\" : {},\"color\" : \"\",\"id\" : \"FC6F50468BB554826CCBAA39771237E2F\",\"layer\" : 0,\"menus\" : {},\"messages\" : {},\"parent\" : \"\",\"size\" : 10,\"title\" : \"6\",\"type\" : \"circle\",\"x\" : 0,\"y\" : 0},\"FE56D3640EBDB4A4C8C6140D8147B109B\" : {\"callbacks\" : {},\"color\" : \"\",\"id\" : \"FE56D3640EBDB4A4C8C6140D8147B109B\",\"layer\" : 0,\"menus\" : {},\"messages\" : {},\"parent\" : \"\",\"size\" : 10,\"title\" : \"4\",\"type\" : \"circle\",\"x\" : 0,\"y\" : 0}},\"simulation\" : true,\"type\" : \"directed\"},\"height\" : 600,\"id\" : \"FEB46B2AD34B342CD4C95AAA1C78530F6\",\"menus\" : {},\"messages\" : {},\"renderer\" : \"GraphViz-Renderer.circo\",\"texTypesetting\" : true,\"title\" : \"Orbital Graph of\",\"width\" : 800,\"zoomToFit\" : true},\"mime\" : \"application\\/vnd.francy+json\",\"version\" : \"2.0.0\"}"
     },
     "execution_count": 10,
     "metadata": {
      "application/vnd.francy+json": {}
     },
     "output_type": "execute_result"
    }
   ],
   "source": [
    "DrawOrbitalGraph(ogs[2]);"
   ]
  },
  {
   "cell_type": "code",
   "execution_count": 13,
   "metadata": {},
   "outputs": [
    {
     "data": {
      "image/svg+xml": [
       "<?xml version=\"1.0\" encoding=\"UTF-8\" standalone=\"no\"?>\n",
       "<!DOCTYPE svg PUBLIC \"-//W3C//DTD SVG 1.1//EN\"\n",
       " \"http://www.w3.org/Graphics/SVG/1.1/DTD/svg11.dtd\">\n",
       "<!-- Generated by graphviz version 2.43.0 (0)\n",
       " -->\n",
       "<!-- Title: hgn Pages: 1 -->\n",
       "<svg width=\"206pt\" height=\"332pt\"\n",
       " viewBox=\"0.00 0.00 206.00 332.00\" xmlns=\"http://www.w3.org/2000/svg\" xmlns:xlink=\"http://www.w3.org/1999/xlink\">\n",
       "<g id=\"graph0\" class=\"graph\" transform=\"scale(1 1) rotate(0) translate(4 328)\">\n",
       "<title>hgn</title>\n",
       "<polygon fill=\"white\" stroke=\"transparent\" points=\"-4,4 -4,-328 202,-328 202,4 -4,4\"/>\n",
       "<!-- 1 -->\n",
       "<g id=\"node1\" class=\"node\">\n",
       "<title>1</title>\n",
       "<ellipse fill=\"none\" stroke=\"black\" cx=\"18\" cy=\"-306\" rx=\"18\" ry=\"18\"/>\n",
       "<text text-anchor=\"middle\" x=\"18\" y=\"-302.3\" font-family=\"Times,serif\" font-size=\"14.00\">1</text>\n",
       "</g>\n",
       "<!-- 2 -->\n",
       "<g id=\"node2\" class=\"node\">\n",
       "<title>2</title>\n",
       "<ellipse fill=\"none\" stroke=\"black\" cx=\"72\" cy=\"-306\" rx=\"18\" ry=\"18\"/>\n",
       "<text text-anchor=\"middle\" x=\"72\" y=\"-302.3\" font-family=\"Times,serif\" font-size=\"14.00\">2</text>\n",
       "</g>\n",
       "<!-- 3 -->\n",
       "<g id=\"node3\" class=\"node\">\n",
       "<title>3</title>\n",
       "<ellipse fill=\"none\" stroke=\"black\" cx=\"126\" cy=\"-306\" rx=\"18\" ry=\"18\"/>\n",
       "<text text-anchor=\"middle\" x=\"126\" y=\"-302.3\" font-family=\"Times,serif\" font-size=\"14.00\">3</text>\n",
       "</g>\n",
       "<!-- 4 -->\n",
       "<g id=\"node4\" class=\"node\">\n",
       "<title>4</title>\n",
       "<ellipse fill=\"none\" stroke=\"black\" cx=\"180\" cy=\"-306\" rx=\"18\" ry=\"18\"/>\n",
       "<text text-anchor=\"middle\" x=\"180\" y=\"-302.3\" font-family=\"Times,serif\" font-size=\"14.00\">4</text>\n",
       "</g>\n",
       "<!-- 6 -->\n",
       "<g id=\"node6\" class=\"node\">\n",
       "<title>6</title>\n",
       "<ellipse fill=\"none\" stroke=\"black\" cx=\"157\" cy=\"-234\" rx=\"18\" ry=\"18\"/>\n",
       "<text text-anchor=\"middle\" x=\"157\" y=\"-230.3\" font-family=\"Times,serif\" font-size=\"14.00\">6</text>\n",
       "</g>\n",
       "<!-- 4&#45;&gt;6 -->\n",
       "<g id=\"edge1\" class=\"edge\">\n",
       "<title>4&#45;&gt;6</title>\n",
       "<path fill=\"none\" stroke=\"black\" d=\"M174.67,-288.76C171.98,-280.58 168.65,-270.45 165.61,-261.2\"/>\n",
       "<polygon fill=\"black\" stroke=\"black\" points=\"168.91,-260.04 162.47,-251.63 162.26,-262.23 168.91,-260.04\"/>\n",
       "</g>\n",
       "<!-- 5 -->\n",
       "<g id=\"node5\" class=\"node\">\n",
       "<title>5</title>\n",
       "<ellipse fill=\"none\" stroke=\"black\" cx=\"157\" cy=\"-90\" rx=\"18\" ry=\"18\"/>\n",
       "<text text-anchor=\"middle\" x=\"157\" y=\"-86.3\" font-family=\"Times,serif\" font-size=\"14.00\">5</text>\n",
       "</g>\n",
       "<!-- 7 -->\n",
       "<g id=\"node7\" class=\"node\">\n",
       "<title>7</title>\n",
       "<ellipse fill=\"none\" stroke=\"black\" cx=\"180\" cy=\"-18\" rx=\"18\" ry=\"18\"/>\n",
       "<text text-anchor=\"middle\" x=\"180\" y=\"-14.3\" font-family=\"Times,serif\" font-size=\"14.00\">7</text>\n",
       "</g>\n",
       "<!-- 5&#45;&gt;7 -->\n",
       "<g id=\"edge2\" class=\"edge\">\n",
       "<title>5&#45;&gt;7</title>\n",
       "<path fill=\"none\" stroke=\"black\" d=\"M162.33,-72.76C165.02,-64.58 168.35,-54.45 171.39,-45.2\"/>\n",
       "<polygon fill=\"black\" stroke=\"black\" points=\"174.74,-46.23 174.53,-35.63 168.09,-44.04 174.74,-46.23\"/>\n",
       "</g>\n",
       "<!-- 8 -->\n",
       "<g id=\"node8\" class=\"node\">\n",
       "<title>8</title>\n",
       "<ellipse fill=\"none\" stroke=\"black\" cx=\"157\" cy=\"-162\" rx=\"18\" ry=\"18\"/>\n",
       "<text text-anchor=\"middle\" x=\"157\" y=\"-158.3\" font-family=\"Times,serif\" font-size=\"14.00\">8</text>\n",
       "</g>\n",
       "<!-- 6&#45;&gt;8 -->\n",
       "<g id=\"edge3\" class=\"edge\">\n",
       "<title>6&#45;&gt;8</title>\n",
       "<path fill=\"none\" stroke=\"black\" d=\"M157,-215.7C157,-207.98 157,-198.71 157,-190.11\"/>\n",
       "<polygon fill=\"black\" stroke=\"black\" points=\"160.5,-190.1 157,-180.1 153.5,-190.1 160.5,-190.1\"/>\n",
       "</g>\n",
       "<!-- 7&#45;&gt;4 -->\n",
       "<g id=\"edge4\" class=\"edge\">\n",
       "<title>7&#45;&gt;4</title>\n",
       "<path fill=\"none\" stroke=\"black\" d=\"M181.62,-36.17C182.52,-46.53 183.55,-60.01 184,-72 187.01,-151.94 187.01,-172.06 184,-252 183.69,-260.33 183.09,-269.39 182.46,-277.62\"/>\n",
       "<polygon fill=\"black\" stroke=\"black\" points=\"178.95,-277.58 181.62,-287.83 185.93,-278.15 178.95,-277.58\"/>\n",
       "</g>\n",
       "<!-- 8&#45;&gt;5 -->\n",
       "<g id=\"edge5\" class=\"edge\">\n",
       "<title>8&#45;&gt;5</title>\n",
       "<path fill=\"none\" stroke=\"black\" d=\"M157,-143.7C157,-135.98 157,-126.71 157,-118.11\"/>\n",
       "<polygon fill=\"black\" stroke=\"black\" points=\"160.5,-118.1 157,-108.1 153.5,-118.1 160.5,-118.1\"/>\n",
       "</g>\n",
       "</g>\n",
       "</svg>\n"
      ]
     },
     "execution_count": 11,
     "metadata": {
      "image/svg+xml": {
       "height": 500,
       "width": 500
      }
     },
     "output_type": "execute_result"
    },
    {
     "data": {
      "image/svg+xml": [
       "<?xml version=\"1.0\" encoding=\"UTF-8\" standalone=\"no\"?>\n",
       "<!DOCTYPE svg PUBLIC \"-//W3C//DTD SVG 1.1//EN\"\n",
       " \"http://www.w3.org/Graphics/SVG/1.1/DTD/svg11.dtd\">\n",
       "<!-- Generated by graphviz version 2.43.0 (0)\n",
       " -->\n",
       "<!-- Title: hgn Pages: 1 -->\n",
       "<svg width=\"341pt\" height=\"188pt\"\n",
       " viewBox=\"0.00 0.00 341.00 188.00\" xmlns=\"http://www.w3.org/2000/svg\" xmlns:xlink=\"http://www.w3.org/1999/xlink\">\n",
       "<g id=\"graph0\" class=\"graph\" transform=\"scale(1 1) rotate(0) translate(4 184)\">\n",
       "<title>hgn</title>\n",
       "<polygon fill=\"white\" stroke=\"transparent\" points=\"-4,4 -4,-184 337,-184 337,4 -4,4\"/>\n",
       "<!-- 1 -->\n",
       "<g id=\"node1\" class=\"node\">\n",
       "<title>1</title>\n",
       "<ellipse fill=\"none\" stroke=\"black\" cx=\"45\" cy=\"-162\" rx=\"18\" ry=\"18\"/>\n",
       "<text text-anchor=\"middle\" x=\"45\" y=\"-158.3\" font-family=\"Times,serif\" font-size=\"14.00\">1</text>\n",
       "</g>\n",
       "<!-- 2 -->\n",
       "<g id=\"node2\" class=\"node\">\n",
       "<title>2</title>\n",
       "<ellipse fill=\"none\" stroke=\"black\" cx=\"18\" cy=\"-90\" rx=\"18\" ry=\"18\"/>\n",
       "<text text-anchor=\"middle\" x=\"18\" y=\"-86.3\" font-family=\"Times,serif\" font-size=\"14.00\">2</text>\n",
       "</g>\n",
       "<!-- 1&#45;&gt;2 -->\n",
       "<g id=\"edge1\" class=\"edge\">\n",
       "<title>1&#45;&gt;2</title>\n",
       "<path fill=\"none\" stroke=\"black\" d=\"M34.16,-147.17C29.77,-138.74 25.15,-127.69 21.69,-117.63\"/>\n",
       "<polygon fill=\"black\" stroke=\"black\" points=\"25.01,-116.51 18.68,-108.02 18.33,-118.61 25.01,-116.51\"/>\n",
       "</g>\n",
       "<!-- 3 -->\n",
       "<g id=\"node3\" class=\"node\">\n",
       "<title>3</title>\n",
       "<ellipse fill=\"none\" stroke=\"black\" cx=\"45\" cy=\"-18\" rx=\"18\" ry=\"18\"/>\n",
       "<text text-anchor=\"middle\" x=\"45\" y=\"-14.3\" font-family=\"Times,serif\" font-size=\"14.00\">3</text>\n",
       "</g>\n",
       "<!-- 1&#45;&gt;3 -->\n",
       "<g id=\"edge2\" class=\"edge\">\n",
       "<title>1&#45;&gt;3</title>\n",
       "<path fill=\"none\" stroke=\"black\" d=\"M40.48,-144.43C37.84,-120.17 37.55,-74.71 39.59,-45.7\"/>\n",
       "<polygon fill=\"black\" stroke=\"black\" points=\"43.1,-45.73 40.49,-35.46 36.13,-45.12 43.1,-45.73\"/>\n",
       "</g>\n",
       "<!-- 2&#45;&gt;1 -->\n",
       "<g id=\"edge4\" class=\"edge\">\n",
       "<title>2&#45;&gt;1</title>\n",
       "<path fill=\"none\" stroke=\"black\" d=\"M28.84,-104.82C33.19,-113.19 37.78,-124.13 41.22,-134.13\"/>\n",
       "<polygon fill=\"black\" stroke=\"black\" points=\"37.89,-135.21 44.24,-143.7 44.57,-133.11 37.89,-135.21\"/>\n",
       "</g>\n",
       "<!-- 2&#45;&gt;3 -->\n",
       "<g id=\"edge3\" class=\"edge\">\n",
       "<title>2&#45;&gt;3</title>\n",
       "<path fill=\"none\" stroke=\"black\" d=\"M18.76,-71.7C21.3,-62.71 25.43,-51.61 29.78,-41.92\"/>\n",
       "<polygon fill=\"black\" stroke=\"black\" points=\"32.98,-43.35 34.16,-32.82 26.67,-40.31 32.98,-43.35\"/>\n",
       "</g>\n",
       "<!-- 3&#45;&gt;1 -->\n",
       "<g id=\"edge5\" class=\"edge\">\n",
       "<title>3&#45;&gt;1</title>\n",
       "<path fill=\"none\" stroke=\"black\" d=\"M49.51,-35.46C52.15,-59.66 52.46,-105.11 50.42,-134.17\"/>\n",
       "<polygon fill=\"black\" stroke=\"black\" points=\"46.91,-134.17 49.52,-144.43 53.88,-134.78 46.91,-134.17\"/>\n",
       "</g>\n",
       "<!-- 3&#45;&gt;2 -->\n",
       "<g id=\"edge6\" class=\"edge\">\n",
       "<title>3&#45;&gt;2</title>\n",
       "<path fill=\"none\" stroke=\"black\" d=\"M44.32,-36.02C41.8,-45.03 37.64,-56.23 33.25,-66\"/>\n",
       "<polygon fill=\"black\" stroke=\"black\" points=\"30.02,-64.64 28.84,-75.17 36.33,-67.68 30.02,-64.64\"/>\n",
       "</g>\n",
       "<!-- 4 -->\n",
       "<g id=\"node4\" class=\"node\">\n",
       "<title>4</title>\n",
       "<ellipse fill=\"none\" stroke=\"black\" cx=\"99\" cy=\"-162\" rx=\"18\" ry=\"18\"/>\n",
       "<text text-anchor=\"middle\" x=\"99\" y=\"-158.3\" font-family=\"Times,serif\" font-size=\"14.00\">4</text>\n",
       "</g>\n",
       "<!-- 5 -->\n",
       "<g id=\"node5\" class=\"node\">\n",
       "<title>5</title>\n",
       "<ellipse fill=\"none\" stroke=\"black\" cx=\"153\" cy=\"-162\" rx=\"18\" ry=\"18\"/>\n",
       "<text text-anchor=\"middle\" x=\"153\" y=\"-158.3\" font-family=\"Times,serif\" font-size=\"14.00\">5</text>\n",
       "</g>\n",
       "<!-- 6 -->\n",
       "<g id=\"node6\" class=\"node\">\n",
       "<title>6</title>\n",
       "<ellipse fill=\"none\" stroke=\"black\" cx=\"207\" cy=\"-162\" rx=\"18\" ry=\"18\"/>\n",
       "<text text-anchor=\"middle\" x=\"207\" y=\"-158.3\" font-family=\"Times,serif\" font-size=\"14.00\">6</text>\n",
       "</g>\n",
       "<!-- 7 -->\n",
       "<g id=\"node7\" class=\"node\">\n",
       "<title>7</title>\n",
       "<ellipse fill=\"none\" stroke=\"black\" cx=\"261\" cy=\"-162\" rx=\"18\" ry=\"18\"/>\n",
       "<text text-anchor=\"middle\" x=\"261\" y=\"-158.3\" font-family=\"Times,serif\" font-size=\"14.00\">7</text>\n",
       "</g>\n",
       "<!-- 8 -->\n",
       "<g id=\"node8\" class=\"node\">\n",
       "<title>8</title>\n",
       "<ellipse fill=\"none\" stroke=\"black\" cx=\"315\" cy=\"-162\" rx=\"18\" ry=\"18\"/>\n",
       "<text text-anchor=\"middle\" x=\"315\" y=\"-158.3\" font-family=\"Times,serif\" font-size=\"14.00\">8</text>\n",
       "</g>\n",
       "</g>\n",
       "</svg>\n"
      ]
     },
     "execution_count": 12,
     "metadata": {
      "image/svg+xml": {
       "height": 500,
       "width": 500
      }
     },
     "output_type": "execute_result"
    },
    {
     "data": {
      "image/svg+xml": [
       "<?xml version=\"1.0\" encoding=\"UTF-8\" standalone=\"no\"?>\n",
       "<!DOCTYPE svg PUBLIC \"-//W3C//DTD SVG 1.1//EN\"\n",
       " \"http://www.w3.org/Graphics/SVG/1.1/DTD/svg11.dtd\">\n",
       "<!-- Generated by graphviz version 2.43.0 (0)\n",
       " -->\n",
       "<!-- Title: hgn Pages: 1 -->\n",
       "<svg width=\"260pt\" height=\"116pt\"\n",
       " viewBox=\"0.00 0.00 260.00 116.00\" xmlns=\"http://www.w3.org/2000/svg\" xmlns:xlink=\"http://www.w3.org/1999/xlink\">\n",
       "<g id=\"graph0\" class=\"graph\" transform=\"scale(1 1) rotate(0) translate(4 112)\">\n",
       "<title>hgn</title>\n",
       "<polygon fill=\"white\" stroke=\"transparent\" points=\"-4,4 -4,-112 256,-112 256,4 -4,4\"/>\n",
       "<!-- 1 -->\n",
       "<g id=\"node1\" class=\"node\">\n",
       "<title>1</title>\n",
       "<ellipse fill=\"none\" stroke=\"black\" cx=\"72\" cy=\"-18\" rx=\"18\" ry=\"18\"/>\n",
       "<text text-anchor=\"middle\" x=\"72\" y=\"-14.3\" font-family=\"Times,serif\" font-size=\"14.00\">1</text>\n",
       "</g>\n",
       "<!-- 2 -->\n",
       "<g id=\"node2\" class=\"node\">\n",
       "<title>2</title>\n",
       "<ellipse fill=\"none\" stroke=\"black\" cx=\"126\" cy=\"-18\" rx=\"18\" ry=\"18\"/>\n",
       "<text text-anchor=\"middle\" x=\"126\" y=\"-14.3\" font-family=\"Times,serif\" font-size=\"14.00\">2</text>\n",
       "</g>\n",
       "<!-- 3 -->\n",
       "<g id=\"node3\" class=\"node\">\n",
       "<title>3</title>\n",
       "<ellipse fill=\"none\" stroke=\"black\" cx=\"180\" cy=\"-18\" rx=\"18\" ry=\"18\"/>\n",
       "<text text-anchor=\"middle\" x=\"180\" y=\"-14.3\" font-family=\"Times,serif\" font-size=\"14.00\">3</text>\n",
       "</g>\n",
       "<!-- 4 -->\n",
       "<g id=\"node4\" class=\"node\">\n",
       "<title>4</title>\n",
       "<ellipse fill=\"none\" stroke=\"black\" cx=\"234\" cy=\"-90\" rx=\"18\" ry=\"18\"/>\n",
       "<text text-anchor=\"middle\" x=\"234\" y=\"-86.3\" font-family=\"Times,serif\" font-size=\"14.00\">4</text>\n",
       "</g>\n",
       "<!-- 4&#45;&gt;1 -->\n",
       "<g id=\"edge1\" class=\"edge\">\n",
       "<title>4&#45;&gt;1</title>\n",
       "<path fill=\"none\" stroke=\"black\" d=\"M219.51,-78.98C215.56,-76.5 211.21,-73.99 207,-72 161.26,-50.36 144.74,-57.64 99,-36 97.82,-35.44 96.62,-34.84 95.43,-34.21\"/>\n",
       "<polygon fill=\"black\" stroke=\"black\" points=\"96.9,-31.01 86.49,-29.02 93.38,-37.07 96.9,-31.01\"/>\n",
       "</g>\n",
       "<!-- 4&#45;&gt;2 -->\n",
       "<g id=\"edge3\" class=\"edge\">\n",
       "<title>4&#45;&gt;2</title>\n",
       "<path fill=\"none\" stroke=\"black\" d=\"M218.98,-79.27C200.93,-67.56 170.43,-47.79 149.3,-34.1\"/>\n",
       "<polygon fill=\"black\" stroke=\"black\" points=\"151.18,-31.15 140.89,-28.65 147.38,-37.03 151.18,-31.15\"/>\n",
       "</g>\n",
       "<!-- 4&#45;&gt;3 -->\n",
       "<g id=\"edge2\" class=\"edge\">\n",
       "<title>4&#45;&gt;3</title>\n",
       "<path fill=\"none\" stroke=\"black\" d=\"M223.33,-75.17C215.79,-65.39 205.52,-52.08 196.87,-40.87\"/>\n",
       "<polygon fill=\"black\" stroke=\"black\" points=\"199.53,-38.58 190.65,-32.8 193.98,-42.86 199.53,-38.58\"/>\n",
       "</g>\n",
       "<!-- 5 -->\n",
       "<g id=\"node5\" class=\"node\">\n",
       "<title>5</title>\n",
       "<ellipse fill=\"none\" stroke=\"black\" cx=\"18\" cy=\"-90\" rx=\"18\" ry=\"18\"/>\n",
       "<text text-anchor=\"middle\" x=\"18\" y=\"-86.3\" font-family=\"Times,serif\" font-size=\"14.00\">5</text>\n",
       "</g>\n",
       "<!-- 5&#45;&gt;1 -->\n",
       "<g id=\"edge4\" class=\"edge\">\n",
       "<title>5&#45;&gt;1</title>\n",
       "<path fill=\"none\" stroke=\"black\" d=\"M28.67,-75.17C36.21,-65.39 46.48,-52.08 55.13,-40.87\"/>\n",
       "<polygon fill=\"black\" stroke=\"black\" points=\"58.02,-42.86 61.35,-32.8 52.47,-38.58 58.02,-42.86\"/>\n",
       "</g>\n",
       "<!-- 5&#45;&gt;2 -->\n",
       "<g id=\"edge6\" class=\"edge\">\n",
       "<title>5&#45;&gt;2</title>\n",
       "<path fill=\"none\" stroke=\"black\" d=\"M33.02,-79.27C51.07,-67.56 81.57,-47.79 102.7,-34.1\"/>\n",
       "<polygon fill=\"black\" stroke=\"black\" points=\"104.62,-37.03 111.11,-28.65 100.82,-31.15 104.62,-37.03\"/>\n",
       "</g>\n",
       "<!-- 5&#45;&gt;3 -->\n",
       "<g id=\"edge5\" class=\"edge\">\n",
       "<title>5&#45;&gt;3</title>\n",
       "<path fill=\"none\" stroke=\"black\" d=\"M32.49,-78.98C36.44,-76.5 40.79,-73.99 45,-72 90.74,-50.36 107.26,-57.64 153,-36 154.18,-35.44 155.38,-34.84 156.57,-34.21\"/>\n",
       "<polygon fill=\"black\" stroke=\"black\" points=\"158.62,-37.07 165.51,-29.02 155.1,-31.01 158.62,-37.07\"/>\n",
       "</g>\n",
       "<!-- 6 -->\n",
       "<g id=\"node6\" class=\"node\">\n",
       "<title>6</title>\n",
       "<ellipse fill=\"none\" stroke=\"black\" cx=\"72\" cy=\"-90\" rx=\"18\" ry=\"18\"/>\n",
       "<text text-anchor=\"middle\" x=\"72\" y=\"-86.3\" font-family=\"Times,serif\" font-size=\"14.00\">6</text>\n",
       "</g>\n",
       "<!-- 6&#45;&gt;1 -->\n",
       "<g id=\"edge7\" class=\"edge\">\n",
       "<title>6&#45;&gt;1</title>\n",
       "<path fill=\"none\" stroke=\"black\" d=\"M72,-71.7C72,-63.98 72,-54.71 72,-46.11\"/>\n",
       "<polygon fill=\"black\" stroke=\"black\" points=\"75.5,-46.1 72,-36.1 68.5,-46.1 75.5,-46.1\"/>\n",
       "</g>\n",
       "<!-- 6&#45;&gt;2 -->\n",
       "<g id=\"edge9\" class=\"edge\">\n",
       "<title>6&#45;&gt;2</title>\n",
       "<path fill=\"none\" stroke=\"black\" d=\"M82.67,-75.17C90.21,-65.39 100.48,-52.08 109.13,-40.87\"/>\n",
       "<polygon fill=\"black\" stroke=\"black\" points=\"112.02,-42.86 115.35,-32.8 106.47,-38.58 112.02,-42.86\"/>\n",
       "</g>\n",
       "<!-- 6&#45;&gt;3 -->\n",
       "<g id=\"edge8\" class=\"edge\">\n",
       "<title>6&#45;&gt;3</title>\n",
       "<path fill=\"none\" stroke=\"black\" d=\"M87.02,-79.27C105.07,-67.56 135.57,-47.79 156.7,-34.1\"/>\n",
       "<polygon fill=\"black\" stroke=\"black\" points=\"158.62,-37.03 165.11,-28.65 154.82,-31.15 158.62,-37.03\"/>\n",
       "</g>\n",
       "<!-- 7 -->\n",
       "<g id=\"node7\" class=\"node\">\n",
       "<title>7</title>\n",
       "<ellipse fill=\"none\" stroke=\"black\" cx=\"126\" cy=\"-90\" rx=\"18\" ry=\"18\"/>\n",
       "<text text-anchor=\"middle\" x=\"126\" y=\"-86.3\" font-family=\"Times,serif\" font-size=\"14.00\">7</text>\n",
       "</g>\n",
       "<!-- 7&#45;&gt;1 -->\n",
       "<g id=\"edge10\" class=\"edge\">\n",
       "<title>7&#45;&gt;1</title>\n",
       "<path fill=\"none\" stroke=\"black\" d=\"M115.33,-75.17C107.79,-65.39 97.52,-52.08 88.87,-40.87\"/>\n",
       "<polygon fill=\"black\" stroke=\"black\" points=\"91.53,-38.58 82.65,-32.8 85.98,-42.86 91.53,-38.58\"/>\n",
       "</g>\n",
       "<!-- 7&#45;&gt;2 -->\n",
       "<g id=\"edge12\" class=\"edge\">\n",
       "<title>7&#45;&gt;2</title>\n",
       "<path fill=\"none\" stroke=\"black\" d=\"M126,-71.7C126,-63.98 126,-54.71 126,-46.11\"/>\n",
       "<polygon fill=\"black\" stroke=\"black\" points=\"129.5,-46.1 126,-36.1 122.5,-46.1 129.5,-46.1\"/>\n",
       "</g>\n",
       "<!-- 7&#45;&gt;3 -->\n",
       "<g id=\"edge11\" class=\"edge\">\n",
       "<title>7&#45;&gt;3</title>\n",
       "<path fill=\"none\" stroke=\"black\" d=\"M136.67,-75.17C144.21,-65.39 154.48,-52.08 163.13,-40.87\"/>\n",
       "<polygon fill=\"black\" stroke=\"black\" points=\"166.02,-42.86 169.35,-32.8 160.47,-38.58 166.02,-42.86\"/>\n",
       "</g>\n",
       "<!-- 8 -->\n",
       "<g id=\"node8\" class=\"node\">\n",
       "<title>8</title>\n",
       "<ellipse fill=\"none\" stroke=\"black\" cx=\"180\" cy=\"-90\" rx=\"18\" ry=\"18\"/>\n",
       "<text text-anchor=\"middle\" x=\"180\" y=\"-86.3\" font-family=\"Times,serif\" font-size=\"14.00\">8</text>\n",
       "</g>\n",
       "<!-- 8&#45;&gt;1 -->\n",
       "<g id=\"edge13\" class=\"edge\">\n",
       "<title>8&#45;&gt;1</title>\n",
       "<path fill=\"none\" stroke=\"black\" d=\"M164.98,-79.27C146.93,-67.56 116.43,-47.79 95.3,-34.1\"/>\n",
       "<polygon fill=\"black\" stroke=\"black\" points=\"97.18,-31.15 86.89,-28.65 93.38,-37.03 97.18,-31.15\"/>\n",
       "</g>\n",
       "<!-- 8&#45;&gt;2 -->\n",
       "<g id=\"edge15\" class=\"edge\">\n",
       "<title>8&#45;&gt;2</title>\n",
       "<path fill=\"none\" stroke=\"black\" d=\"M169.33,-75.17C161.79,-65.39 151.52,-52.08 142.87,-40.87\"/>\n",
       "<polygon fill=\"black\" stroke=\"black\" points=\"145.53,-38.58 136.65,-32.8 139.98,-42.86 145.53,-38.58\"/>\n",
       "</g>\n",
       "<!-- 8&#45;&gt;3 -->\n",
       "<g id=\"edge14\" class=\"edge\">\n",
       "<title>8&#45;&gt;3</title>\n",
       "<path fill=\"none\" stroke=\"black\" d=\"M180,-71.7C180,-63.98 180,-54.71 180,-46.11\"/>\n",
       "<polygon fill=\"black\" stroke=\"black\" points=\"183.5,-46.1 180,-36.1 176.5,-46.1 183.5,-46.1\"/>\n",
       "</g>\n",
       "</g>\n",
       "</svg>\n"
      ]
     },
     "execution_count": 13,
     "metadata": {
      "image/svg+xml": {
       "height": 500,
       "width": 500
      }
     },
     "output_type": "execute_result"
    }
   ],
   "source": [
    "# Maybe slightly more useful?\n",
    "JupyterSplashDot(DotDigraph(ogs[2]));\n",
    "JupyterSplashDot(DotDigraph(ogs[5]));\n",
    "JupyterSplashDot(DotDigraph(ogs[7]));"
   ]
  },
  {
   "cell_type": "code",
   "execution_count": null,
   "metadata": {},
   "outputs": [],
   "source": []
  }
 ],
 "metadata": {
  "kernelspec": {
   "display_name": "GAP 4",
   "language": "gap",
   "name": "gap-4"
  },
  "language_info": {
   "codemirror_mode": "gap",
   "file_extension": ".g",
   "mimetype": "text/x-gap",
   "name": "GAP 4",
   "nbconvert_exporter": "",
   "pygments_lexer": "gap",
   "version": "4.13dev"
  }
 },
 "nbformat": 4,
 "nbformat_minor": 4
}
