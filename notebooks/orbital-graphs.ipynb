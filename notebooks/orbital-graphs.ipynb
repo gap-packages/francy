{
 "cells": [
  {
   "cell_type": "markdown",
   "metadata": {},
   "source": [
    "# Demo for the OrbitalGraphs GAP package\n",
    "\n",
    "This attempts to draw orbital graphs for groups $G \\leq S_n$"
   ]
  },
  {
   "cell_type": "code",
   "execution_count": null,
   "metadata": {},
   "outputs": [
    {
     "data": {
      "text/plain": [
       "true"
      ]
     },
     "execution_count": 1,
     "metadata": {
      "text/plain": ""
     },
     "output_type": "execute_result"
    },
    {
     "data": {
      "text/plain": [
       "true"
      ]
     },
     "execution_count": 2,
     "metadata": {
      "text/plain": ""
     },
     "output_type": "execute_result"
    }
   ],
   "source": [
    "LoadPackage(\"OrbitalGraphs\");\n",
    "LoadPackage(\"Francy\");"
   ]
  },
  {
   "cell_type": "code",
   "execution_count": null,
   "metadata": {},
   "outputs": [
    {
     "data": {
      "text/plain": [
       "function( OG ) ... end"
      ]
     },
     "execution_count": 3,
     "metadata": {
      "text/plain": ""
     },
     "output_type": "execute_result"
    }
   ],
   "source": [
    "# Input: an orbital graph\n",
    "# Draws orbital graphs\n",
    "\n",
    "DrawOrbitalGraph := function(OG)\n",
    "    local canvas, fgraph, i, e, nodes, graphviz;\n",
    "    \n",
    "    # todo: make it possible to put a caption here\n",
    "    canvas := Canvas(Concatenation(\"Orbital Graph of\", \"\"));\n",
    "    fgraph := Graph(GraphType.DIRECTED);\n",
    "    Add(canvas, fgraph);\n",
    "\n",
    "    nodes := [];\n",
    "\n",
    "    for i in DigraphVertices(OG) do\n",
    "        nodes[i] := Shape(ShapeType.CIRCLE, String(i));;\n",
    "        Add(fgraph, nodes[i]);\n",
    "    od;\n",
    "    for i in [1..Length(nodes)-1] do\n",
    "        e := Link(nodes[i], nodes[i+1]);\n",
    "        SetInvisible(e, true);\n",
    "        Add(fgraph, e);\n",
    "    od;\n",
    "    e := Link(nodes[Length(nodes)], nodes[1]);\n",
    "    SetInvisible(e, true);\n",
    "    Add(fgraph, e);\n",
    "\n",
    "    for e in DigraphEdges(OG) do\n",
    "        Add(fgraph, Link(nodes[e[1]], nodes[e[2]]));\n",
    "    od;\n",
    "    \n",
    "    graphviz := FrancyRenderer(FrancyRendererType.GRAPHVIZ_CIRCO);\n",
    "    Add(canvas, graphviz);\n",
    "\n",
    "    return Draw(canvas);\n",
    "end;"
   ]
  },
  {
   "cell_type": "code",
   "execution_count": null,
   "metadata": {},
   "outputs": [
    {
     "data": {
      "text/plain": [
       "Group([ (1,2,3,4,5,6,7,8), (2,8)(3,7)(4,6) ])"
      ]
     },
     "execution_count": 4,
     "metadata": {
      "text/plain": ""
     },
     "output_type": "execute_result"
    },
    {
     "data": {
      "text/plain": [
       "[ <self-paired orbital graph of Group([ (1,2,3,4,5,6,7,8), (2,8)(3,7)(4,6) ])      on 8 vertices with base-pair (1,5), 8 arcs>,   <self-paired orbital graph of Group([ (1,2,3,4,5,6,7,8), (2,8)(3,7)(4,6) ])      on 8 vertices with base-pair (1,2), 16 arcs>,   <self-paired orbital graph of Group([ (1,2,3,4,5,6,7,8), (2,8)(3,7)(4,6) ])      on 8 vertices with base-pair (1,3), 16 arcs>,   <self-paired orbital graph of Group([ (1,2,3,4,5,6,7,8), (2,8)(3,7)(4,6) ])      on 8 vertices with base-pair (1,4), 16 arcs> ]"
      ]
     },
     "execution_count": 5,
     "metadata": {
      "text/plain": ""
     },
     "output_type": "execute_result"
    }
   ],
   "source": [
    "G := DihedralGroup(IsPermGroup, 16);\n",
    "ogs := OrbitalGraphs(G);"
   ]
  },
  {
   "cell_type": "code",
   "execution_count": null,
   "metadata": {},
   "outputs": [
    {
     "data": {
      "application/vnd.francy+json": "{\"canvas\" : {\"graph\" : {\"collapsed\" : true,\"id\" : \"FBC3E1C907D124ABCB4D37AFC978D49C0\",\"links\" : {\"F06668D287B154619349F2436DCD72C18\" : {\"color\" : \"\",\"id\" : \"F06668D287B154619349F2436DCD72C18\",\"invisible\" : false,\"length\" : 0,\"source\" : \"F8C1F96C773474A8154A4C46BB113E35E\",\"target\" : \"F12AC5E185BB641038431E4B4C3456293\",\"weight\" : 0},\"F18FE4D8176C446357C71A0CC5EE3A37F\" : {\"color\" : \"\",\"id\" : \"F18FE4D8176C446357C71A0CC5EE3A37F\",\"invisible\" : true,\"length\" : 0,\"source\" : \"F12AC5E185BB641038431E4B4C3456293\",\"target\" : \"F4509A7188928455C64B962BCBF295BF1\",\"weight\" : 0},\"F2140F5B9EB414493EC719FFE8D4BF2ED\" : {\"color\" : \"\",\"id\" : \"F2140F5B9EB414493EC719FFE8D4BF2ED\",\"invisible\" : false,\"length\" : 0,\"source\" : \"F366688A254054F9AFC43A6EA5008CAD2\",\"target\" : \"FE3F02797F57E4022DCE98F0FCF04CBA8\",\"weight\" : 0},\"F2D93B026F585424AF4DCE24E0C2A49F8\" : {\"color\" : \"\",\"id\" : \"F2D93B026F585424AF4DCE24E0C2A49F8\",\"invisible\" : false,\"length\" : 0,\"source\" : \"F4509A7188928455C64B962BCBF295BF1\",\"target\" : \"F9A4E435F8A234BBD34DD34C838182A5C\",\"weight\" : 0},\"F383B937CCF3547927CB4CC7779D548B7\" : {\"color\" : \"\",\"id\" : \"F383B937CCF3547927CB4CC7779D548B7\",\"invisible\" : false,\"length\" : 0,\"source\" : \"F8F794C1FA828467404CA41218DCFC68D\",\"target\" : \"F682E684B60AC4F4CCCEED7EAB57AE7DA\",\"weight\" : 0},\"F55F63E4544B84A3F14A229612277EA64\" : {\"color\" : \"\",\"id\" : \"F55F63E4544B84A3F14A229612277EA64\",\"invisible\" : false,\"length\" : 0,\"source\" : \"F682E684B60AC4F4CCCEED7EAB57AE7DA\",\"target\" : \"F8F794C1FA828467404CA41218DCFC68D\",\"weight\" : 0},\"F6E20A7A3B1004032E4CE51E46A17101F\" : {\"color\" : \"\",\"id\" : \"F6E20A7A3B1004032E4CE51E46A17101F\",\"invisible\" : true,\"length\" : 0,\"source\" : \"FE3F02797F57E4022DCE98F0FCF04CBA8\",\"target\" : \"F8C1F96C773474A8154A4C46BB113E35E\",\"weight\" : 0},\"F70650600519E474F5465932AD7970059\" : {\"color\" : \"\",\"id\" : \"F70650600519E474F5465932AD7970059\",\"invisible\" : true,\"length\" : 0,\"source\" : \"F8F794C1FA828467404CA41218DCFC68D\",\"target\" : \"F366688A254054F9AFC43A6EA5008CAD2\",\"weight\" : 0},\"F7220CDA1859D4FB5D44E4B78F5ED59EB\" : {\"color\" : \"\",\"id\" : \"F7220CDA1859D4FB5D44E4B78F5ED59EB\",\"invisible\" : false,\"length\" : 0,\"source\" : \"FE3F02797F57E4022DCE98F0FCF04CBA8\",\"target\" : \"F366688A254054F9AFC43A6EA5008CAD2\",\"weight\" : 0},\"F893471BC9EC94849B42DB8268A9D1AB6\" : {\"color\" : \"\",\"id\" : \"F893471BC9EC94849B42DB8268A9D1AB6\",\"invisible\" : true,\"length\" : 0,\"source\" : \"F4509A7188928455C64B962BCBF295BF1\",\"target\" : \"F682E684B60AC4F4CCCEED7EAB57AE7DA\",\"weight\" : 0},\"F98C36F7AB1D945CC9C7DE79A8C6E8CC7\" : {\"color\" : \"\",\"id\" : \"F98C36F7AB1D945CC9C7DE79A8C6E8CC7\",\"invisible\" : true,\"length\" : 0,\"source\" : \"F9A4E435F8A234BBD34DD34C838182A5C\",\"target\" : \"F8F794C1FA828467404CA41218DCFC68D\",\"weight\" : 0},\"F9980C3AB1FE8467A0C39E0816714D39D\" : {\"color\" : \"\",\"id\" : \"F9980C3AB1FE8467A0C39E0816714D39D\",\"invisible\" : true,\"length\" : 0,\"source\" : \"F8C1F96C773474A8154A4C46BB113E35E\",\"target\" : \"F9A4E435F8A234BBD34DD34C838182A5C\",\"weight\" : 0},\"FA9ED231CB4E94792E44909958FE38065\" : {\"color\" : \"\",\"id\" : \"FA9ED231CB4E94792E44909958FE38065\",\"invisible\" : false,\"length\" : 0,\"source\" : \"F12AC5E185BB641038431E4B4C3456293\",\"target\" : \"F8C1F96C773474A8154A4C46BB113E35E\",\"weight\" : 0},\"FAC5309F8108F4A06F49F78E45EF88986\" : {\"color\" : \"\",\"id\" : \"FAC5309F8108F4A06F49F78E45EF88986\",\"invisible\" : true,\"length\" : 0,\"source\" : \"F366688A254054F9AFC43A6EA5008CAD2\",\"target\" : \"F12AC5E185BB641038431E4B4C3456293\",\"weight\" : 0},\"FADAB64089636489B9C138F2DEEA6DF25\" : {\"color\" : \"\",\"id\" : \"FADAB64089636489B9C138F2DEEA6DF25\",\"invisible\" : false,\"length\" : 0,\"source\" : \"F9A4E435F8A234BBD34DD34C838182A5C\",\"target\" : \"F4509A7188928455C64B962BCBF295BF1\",\"weight\" : 0},\"FEE444EE1F5F64CD1BC9BD25BD64986EE\" : {\"color\" : \"\",\"id\" : \"FEE444EE1F5F64CD1BC9BD25BD64986EE\",\"invisible\" : true,\"length\" : 0,\"source\" : \"F682E684B60AC4F4CCCEED7EAB57AE7DA\",\"target\" : \"FE3F02797F57E4022DCE98F0FCF04CBA8\",\"weight\" : 0}},\"nodes\" : {\"F12AC5E185BB641038431E4B4C3456293\" : {\"callbacks\" : {},\"color\" : \"\",\"id\" : \"F12AC5E185BB641038431E4B4C3456293\",\"layer\" : 0,\"menus\" : {},\"messages\" : {},\"parent\" : \"\",\"size\" : 10,\"title\" : \"4\",\"type\" : \"circle\",\"x\" : 0,\"y\" : 0},\"F366688A254054F9AFC43A6EA5008CAD2\" : {\"callbacks\" : {},\"color\" : \"\",\"id\" : \"F366688A254054F9AFC43A6EA5008CAD2\",\"layer\" : 0,\"menus\" : {},\"messages\" : {},\"parent\" : \"\",\"size\" : 10,\"title\" : \"3\",\"type\" : \"circle\",\"x\" : 0,\"y\" : 0},\"F4509A7188928455C64B962BCBF295BF1\" : {\"callbacks\" : {},\"color\" : \"\",\"id\" : \"F4509A7188928455C64B962BCBF295BF1\",\"layer\" : 0,\"menus\" : {},\"messages\" : {},\"parent\" : \"\",\"size\" : 10,\"title\" : \"5\",\"type\" : \"circle\",\"x\" : 0,\"y\" : 0},\"F682E684B60AC4F4CCCEED7EAB57AE7DA\" : {\"callbacks\" : {},\"color\" : \"\",\"id\" : \"F682E684B60AC4F4CCCEED7EAB57AE7DA\",\"layer\" : 0,\"menus\" : {},\"messages\" : {},\"parent\" : \"\",\"size\" : 10,\"title\" : \"6\",\"type\" : \"circle\",\"x\" : 0,\"y\" : 0},\"F8C1F96C773474A8154A4C46BB113E35E\" : {\"callbacks\" : {},\"color\" : \"\",\"id\" : \"F8C1F96C773474A8154A4C46BB113E35E\",\"layer\" : 0,\"menus\" : {},\"messages\" : {},\"parent\" : \"\",\"size\" : 10,\"title\" : \"8\",\"type\" : \"circle\",\"x\" : 0,\"y\" : 0},\"F8F794C1FA828467404CA41218DCFC68D\" : {\"callbacks\" : {},\"color\" : \"\",\"id\" : \"F8F794C1FA828467404CA41218DCFC68D\",\"layer\" : 0,\"menus\" : {},\"messages\" : {},\"parent\" : \"\",\"size\" : 10,\"title\" : \"2\",\"type\" : \"circle\",\"x\" : 0,\"y\" : 0},\"F9A4E435F8A234BBD34DD34C838182A5C\" : {\"callbacks\" : {},\"color\" : \"\",\"id\" : \"F9A4E435F8A234BBD34DD34C838182A5C\",\"layer\" : 0,\"menus\" : {},\"messages\" : {},\"parent\" : \"\",\"size\" : 10,\"title\" : \"1\",\"type\" : \"circle\",\"x\" : 0,\"y\" : 0},\"FE3F02797F57E4022DCE98F0FCF04CBA8\" : {\"callbacks\" : {},\"color\" : \"\",\"id\" : \"FE3F02797F57E4022DCE98F0FCF04CBA8\",\"layer\" : 0,\"menus\" : {},\"messages\" : {},\"parent\" : \"\",\"size\" : 10,\"title\" : \"7\",\"type\" : \"circle\",\"x\" : 0,\"y\" : 0}},\"simulation\" : true,\"type\" : \"directed\"},\"height\" : 600,\"id\" : \"FBADFB1FBB15143125C5771BF1E49AAAC\",\"menus\" : {},\"messages\" : {},\"renderer\" : \"GraphViz-Renderer.circo\",\"texTypesetting\" : true,\"title\" : \"Orbital Graph of\",\"width\" : 800,\"zoomToFit\" : true},\"mime\" : \"application\\/vnd.francy+json\",\"version\" : \"2.0.0\"}"
     },
     "execution_count": 6,
     "metadata": {
      "application/vnd.francy+json": {}
     },
     "output_type": "execute_result"
    }
   ],
   "source": [
    "# This seems to work quite ok\n",
    "DrawOrbitalGraph(ogs[1]);"
   ]
  },
  {
   "cell_type": "code",
   "execution_count": null,
   "metadata": {},
   "outputs": [
    {
     "data": {
      "application/vnd.francy+json": "{\"canvas\" : {\"graph\" : {\"collapsed\" : true,\"id\" : \"F4D178A036EF742C2BC6C055D9B907FB9\",\"links\" : {\"F0534FB53BDD644774C20549B32BA5956\" : {\"color\" : \"\",\"id\" : \"F0534FB53BDD644774C20549B32BA5956\",\"invisible\" : false,\"length\" : 0,\"source\" : \"F330476CCC97F40C484795D0F126D75CE\",\"target\" : \"F8B6637E1BB054FCE7CD574E607BE624A\",\"weight\" : 0},\"F0CEC88E53D9F4AD9243579FC2E221BF2\" : {\"color\" : \"\",\"id\" : \"F0CEC88E53D9F4AD9243579FC2E221BF2\",\"invisible\" : false,\"length\" : 0,\"source\" : \"F6712D58088354743248E80CD0871AE9A\",\"target\" : \"FAE9D1BE0EA16438874B27FE539D34269\",\"weight\" : 0},\"F12B892EB1F6944BD1CB9AEEA3E2DC31B\" : {\"color\" : \"\",\"id\" : \"F12B892EB1F6944BD1CB9AEEA3E2DC31B\",\"invisible\" : false,\"length\" : 0,\"source\" : \"F137DB56349C44C86349415D8DBC577B4\",\"target\" : \"F972A7D3A2BD2428E84513487EA9965A8\",\"weight\" : 0},\"F14734F04A2EC4D0174E3D02B7040ABE0\" : {\"color\" : \"\",\"id\" : \"F14734F04A2EC4D0174E3D02B7040ABE0\",\"invisible\" : true,\"length\" : 0,\"source\" : \"FCD8CD831DB1B4C93CC1771842D80FD45\",\"target\" : \"F6712D58088354743248E80CD0871AE9A\",\"weight\" : 0},\"F16B6D4BBBDE549606C32412BD5FCAAC8\" : {\"color\" : \"\",\"id\" : \"F16B6D4BBBDE549606C32412BD5FCAAC8\",\"invisible\" : false,\"length\" : 0,\"source\" : \"F8B6637E1BB054FCE7CD574E607BE624A\",\"target\" : \"F4358CADED853411B94A33DAB4A036C8D\",\"weight\" : 0},\"F395B367C2F9243410CB0A7E8BCCF58D6\" : {\"color\" : \"\",\"id\" : \"F395B367C2F9243410CB0A7E8BCCF58D6\",\"invisible\" : false,\"length\" : 0,\"source\" : \"FAE9D1BE0EA16438874B27FE539D34269\",\"target\" : \"F137DB56349C44C86349415D8DBC577B4\",\"weight\" : 0},\"F4B6224E6E985455E6C182BA6BE9E14F8\" : {\"color\" : \"\",\"id\" : \"F4B6224E6E985455E6C182BA6BE9E14F8\",\"invisible\" : false,\"length\" : 0,\"source\" : \"F4358CADED853411B94A33DAB4A036C8D\",\"target\" : \"F972A7D3A2BD2428E84513487EA9965A8\",\"weight\" : 0},\"F5CDD6C14340F4CE52CB819785F23B0BB\" : {\"color\" : \"\",\"id\" : \"F5CDD6C14340F4CE52CB819785F23B0BB\",\"invisible\" : false,\"length\" : 0,\"source\" : \"F6712D58088354743248E80CD0871AE9A\",\"target\" : \"FCD8CD831DB1B4C93CC1771842D80FD45\",\"weight\" : 0},\"F6BF6D40B218C4097549934EF617AE244\" : {\"color\" : \"\",\"id\" : \"F6BF6D40B218C4097549934EF617AE244\",\"invisible\" : false,\"length\" : 0,\"source\" : \"F8B6637E1BB054FCE7CD574E607BE624A\",\"target\" : \"F330476CCC97F40C484795D0F126D75CE\",\"weight\" : 0},\"F7634F3CE41084B803C4699F24E14D4A0\" : {\"color\" : \"\",\"id\" : \"F7634F3CE41084B803C4699F24E14D4A0\",\"invisible\" : true,\"length\" : 0,\"source\" : \"F8B6637E1BB054FCE7CD574E607BE624A\",\"target\" : \"F330476CCC97F40C484795D0F126D75CE\",\"weight\" : 0},\"FA04511C0F9864CD49421236EAD4681D7\" : {\"color\" : \"\",\"id\" : \"FA04511C0F9864CD49421236EAD4681D7\",\"invisible\" : false,\"length\" : 0,\"source\" : \"F137DB56349C44C86349415D8DBC577B4\",\"target\" : \"FAE9D1BE0EA16438874B27FE539D34269\",\"weight\" : 0},\"FA79F838DC78B4AEBF4D14426FF5AF0F4\" : {\"color\" : \"\",\"id\" : \"FA79F838DC78B4AEBF4D14426FF5AF0F4\",\"invisible\" : false,\"length\" : 0,\"source\" : \"F330476CCC97F40C484795D0F126D75CE\",\"target\" : \"FCD8CD831DB1B4C93CC1771842D80FD45\",\"weight\" : 0},\"FB64AF9C0DF8844D5549A677F3E73A8E0\" : {\"color\" : \"\",\"id\" : \"FB64AF9C0DF8844D5549A677F3E73A8E0\",\"invisible\" : true,\"length\" : 0,\"source\" : \"F137DB56349C44C86349415D8DBC577B4\",\"target\" : \"F972A7D3A2BD2428E84513487EA9965A8\",\"weight\" : 0},\"FC17233E967514F6CE4F0F353D6A14C85\" : {\"color\" : \"\",\"id\" : \"FC17233E967514F6CE4F0F353D6A14C85\",\"invisible\" : true,\"length\" : 0,\"source\" : \"FAE9D1BE0EA16438874B27FE539D34269\",\"target\" : \"F137DB56349C44C86349415D8DBC577B4\",\"weight\" : 0},\"FC31B35D78FF84F2B8C6FAADDC0DB0052\" : {\"color\" : \"\",\"id\" : \"FC31B35D78FF84F2B8C6FAADDC0DB0052\",\"invisible\" : true,\"length\" : 0,\"source\" : \"F4358CADED853411B94A33DAB4A036C8D\",\"target\" : \"F8B6637E1BB054FCE7CD574E607BE624A\",\"weight\" : 0},\"FC7D8DD2542844CD584F39D6A21CEE2C7\" : {\"color\" : \"\",\"id\" : \"FC7D8DD2542844CD584F39D6A21CEE2C7\",\"invisible\" : false,\"length\" : 0,\"source\" : \"FCD8CD831DB1B4C93CC1771842D80FD45\",\"target\" : \"F6712D58088354743248E80CD0871AE9A\",\"weight\" : 0},\"FDF3C3C926F384025CC730F076C1FBC14\" : {\"color\" : \"\",\"id\" : \"FDF3C3C926F384025CC730F076C1FBC14\",\"invisible\" : true,\"length\" : 0,\"source\" : \"F330476CCC97F40C484795D0F126D75CE\",\"target\" : \"FCD8CD831DB1B4C93CC1771842D80FD45\",\"weight\" : 0},\"FE051511DCE3D4A3A34FDD9BF5CDAD1E4\" : {\"color\" : \"\",\"id\" : \"FE051511DCE3D4A3A34FDD9BF5CDAD1E4\",\"invisible\" : false,\"length\" : 0,\"source\" : \"F972A7D3A2BD2428E84513487EA9965A8\",\"target\" : \"F137DB56349C44C86349415D8DBC577B4\",\"weight\" : 0},\"FE06BCD46747840705407AA26AB9BA35A\" : {\"color\" : \"\",\"id\" : \"FE06BCD46747840705407AA26AB9BA35A\",\"invisible\" : false,\"length\" : 0,\"source\" : \"F972A7D3A2BD2428E84513487EA9965A8\",\"target\" : \"F4358CADED853411B94A33DAB4A036C8D\",\"weight\" : 0},\"FE29E81CAF5734142D4115FBBCB27CD5C\" : {\"color\" : \"\",\"id\" : \"FE29E81CAF5734142D4115FBBCB27CD5C\",\"invisible\" : true,\"length\" : 0,\"source\" : \"F6712D58088354743248E80CD0871AE9A\",\"target\" : \"FAE9D1BE0EA16438874B27FE539D34269\",\"weight\" : 0},\"FF2206DA17A2A442A9C27B0E5619816C4\" : {\"color\" : \"\",\"id\" : \"FF2206DA17A2A442A9C27B0E5619816C4\",\"invisible\" : false,\"length\" : 0,\"source\" : \"FAE9D1BE0EA16438874B27FE539D34269\",\"target\" : \"F6712D58088354743248E80CD0871AE9A\",\"weight\" : 0},\"FF220FEE8575C43BDFC303D047B8FC287\" : {\"color\" : \"\",\"id\" : \"FF220FEE8575C43BDFC303D047B8FC287\",\"invisible\" : false,\"length\" : 0,\"source\" : \"F4358CADED853411B94A33DAB4A036C8D\",\"target\" : \"F8B6637E1BB054FCE7CD574E607BE624A\",\"weight\" : 0},\"FF8A6855F5AC54313B45FE0312895B7F2\" : {\"color\" : \"\",\"id\" : \"FF8A6855F5AC54313B45FE0312895B7F2\",\"invisible\" : true,\"length\" : 0,\"source\" : \"F972A7D3A2BD2428E84513487EA9965A8\",\"target\" : \"F4358CADED853411B94A33DAB4A036C8D\",\"weight\" : 0},\"FFE870E8FBCFD498C64744438F77AB719\" : {\"color\" : \"\",\"id\" : \"FFE870E8FBCFD498C64744438F77AB719\",\"invisible\" : false,\"length\" : 0,\"source\" : \"FCD8CD831DB1B4C93CC1771842D80FD45\",\"target\" : \"F330476CCC97F40C484795D0F126D75CE\",\"weight\" : 0}},\"nodes\" : {\"F137DB56349C44C86349415D8DBC577B4\" : {\"callbacks\" : {},\"color\" : \"\",\"id\" : \"F137DB56349C44C86349415D8DBC577B4\",\"layer\" : 0,\"menus\" : {},\"messages\" : {},\"parent\" : \"\",\"size\" : 10,\"title\" : \"3\",\"type\" : \"circle\",\"x\" : 0,\"y\" : 0},\"F330476CCC97F40C484795D0F126D75CE\" : {\"callbacks\" : {},\"color\" : \"\",\"id\" : \"F330476CCC97F40C484795D0F126D75CE\",\"layer\" : 0,\"menus\" : {},\"messages\" : {},\"parent\" : \"\",\"size\" : 10,\"title\" : \"7\",\"type\" : \"circle\",\"x\" : 0,\"y\" : 0},\"F4358CADED853411B94A33DAB4A036C8D\" : {\"callbacks\" : {},\"color\" : \"\",\"id\" : \"F4358CADED853411B94A33DAB4A036C8D\",\"layer\" : 0,\"menus\" : {},\"messages\" : {},\"parent\" : \"\",\"size\" : 10,\"title\" : \"5\",\"type\" : \"circle\",\"x\" : 0,\"y\" : 0},\"F6712D58088354743248E80CD0871AE9A\" : {\"callbacks\" : {},\"color\" : \"\",\"id\" : \"F6712D58088354743248E80CD0871AE9A\",\"layer\" : 0,\"menus\" : {},\"messages\" : {},\"parent\" : \"\",\"size\" : 10,\"title\" : \"1\",\"type\" : \"circle\",\"x\" : 0,\"y\" : 0},\"F8B6637E1BB054FCE7CD574E607BE624A\" : {\"callbacks\" : {},\"color\" : \"\",\"id\" : \"F8B6637E1BB054FCE7CD574E607BE624A\",\"layer\" : 0,\"menus\" : {},\"messages\" : {},\"parent\" : \"\",\"size\" : 10,\"title\" : \"6\",\"type\" : \"circle\",\"x\" : 0,\"y\" : 0},\"F972A7D3A2BD2428E84513487EA9965A8\" : {\"callbacks\" : {},\"color\" : \"\",\"id\" : \"F972A7D3A2BD2428E84513487EA9965A8\",\"layer\" : 0,\"menus\" : {},\"messages\" : {},\"parent\" : \"\",\"size\" : 10,\"title\" : \"4\",\"type\" : \"circle\",\"x\" : 0,\"y\" : 0},\"FAE9D1BE0EA16438874B27FE539D34269\" : {\"callbacks\" : {},\"color\" : \"\",\"id\" : \"FAE9D1BE0EA16438874B27FE539D34269\",\"layer\" : 0,\"menus\" : {},\"messages\" : {},\"parent\" : \"\",\"size\" : 10,\"title\" : \"2\",\"type\" : \"circle\",\"x\" : 0,\"y\" : 0},\"FCD8CD831DB1B4C93CC1771842D80FD45\" : {\"callbacks\" : {},\"color\" : \"\",\"id\" : \"FCD8CD831DB1B4C93CC1771842D80FD45\",\"layer\" : 0,\"menus\" : {},\"messages\" : {},\"parent\" : \"\",\"size\" : 10,\"title\" : \"8\",\"type\" : \"circle\",\"x\" : 0,\"y\" : 0}},\"simulation\" : true,\"type\" : \"directed\"},\"height\" : 600,\"id\" : \"F0B1E608E0B7844971C520DBC7A9E74A1\",\"menus\" : {},\"messages\" : {},\"renderer\" : \"GraphViz-Renderer.circo\",\"texTypesetting\" : true,\"title\" : \"Orbital Graph of\",\"width\" : 800,\"zoomToFit\" : true},\"mime\" : \"application\\/vnd.francy+json\",\"version\" : \"2.0.0\"}"
     },
     "execution_count": 7,
     "metadata": {
      "application/vnd.francy+json": {}
     },
     "output_type": "execute_result"
    }
   ],
   "source": [
    "# This, not so much\n",
    "DrawOrbitalGraph(ogs[2]);"
   ]
  },
  {
   "cell_type": "code",
   "execution_count": 9,
   "metadata": {},
   "outputs": [
    {
     "data": {
      "text/plain": [
       "Group([ (1,2,3), (1,2), (4,5,6,7,8) ])"
      ]
     },
     "execution_count": 8,
     "metadata": {
      "text/plain": ""
     },
     "output_type": "execute_result"
    },
    {
     "data": {
      "text/plain": [
       "[ <orbital graph of Group([ (1,2,3), (1,2), (4,5,6,7,8) ]) on 8 vertices     with base-pair (4,5), 5 arcs>,   <orbital graph of Group([ (1,2,3), (1,2), (4,5,6,7,8) ]) on 8 vertices     with base-pair (4,6), 5 arcs>,   <orbital graph of Group([ (1,2,3), (1,2), (4,5,6,7,8) ]) on 8 vertices     with base-pair (4,7), 5 arcs>,   <orbital graph of Group([ (1,2,3), (1,2), (4,5,6,7,8) ]) on 8 vertices     with base-pair (4,8), 5 arcs>,   <self-paired orbital graph of Group([ (1,2,3), (1,2), (4,5,6,7,8) ]) on     8 vertices with base-pair (1,2), 6 arcs>,   <orbital graph of Group([ (1,2,3), (1,2), (4,5,6,7,8) ]) on 8 vertices     with base-pair (1,4), 15 arcs>,   <orbital graph of Group([ (1,2,3), (1,2), (4,5,6,7,8) ]) on 8 vertices     with base-pair (4,1), 15 arcs> ]"
      ]
     },
     "execution_count": 9,
     "metadata": {
      "text/plain": ""
     },
     "output_type": "execute_result"
    }
   ],
   "source": [
    "G := DirectProduct(SymmetricGroup(3), CyclicGroup(IsPermGroup, 5));\n",
    "ogs := OrbitalGraphs(G);"
   ]
  },
  {
   "cell_type": "code",
   "execution_count": null,
   "metadata": {},
   "outputs": [
    {
     "data": {
      "application/vnd.francy+json": "{\"canvas\" : {\"graph\" : {\"collapsed\" : true,\"id\" : \"F6FFD0DC6D901452F0C4BDBFB98CC8EA4\",\"links\" : {\"F1527ED48A5FA4803A4760D4A4ECD67A4\" : {\"color\" : \"\",\"id\" : \"F1527ED48A5FA4803A4760D4A4ECD67A4\",\"invisible\" : true,\"length\" : 0,\"source\" : \"FC9F8E4D6C2AC4E1BCC02AF98B1B13AF8\",\"target\" : \"F6B0D2D96936A4F02940D4BE2F53D08CF\",\"weight\" : 0},\"F2BCA389AE5E74B703C862241C033D761\" : {\"color\" : \"\",\"id\" : \"F2BCA389AE5E74B703C862241C033D761\",\"invisible\" : false,\"length\" : 0,\"source\" : \"FEA332E0097E749D3243339D7D5184871\",\"target\" : \"FCDAA11DED07240C1F4429FBD27CD81D3\",\"weight\" : 0},\"F2E04D2A449AB404484BE1DB2766E0E0A\" : {\"color\" : \"\",\"id\" : \"F2E04D2A449AB404484BE1DB2766E0E0A\",\"invisible\" : true,\"length\" : 0,\"source\" : \"FEAA418A30A99453F84DD6D8EDCA03B7D\",\"target\" : \"FCB30C5C48EDD45D744A771BD4CA25AD1\",\"weight\" : 0},\"F40168CEA92334FC0148D276E79DE5B4B\" : {\"color\" : \"\",\"id\" : \"F40168CEA92334FC0148D276E79DE5B4B\",\"invisible\" : true,\"length\" : 0,\"source\" : \"F6B0D2D96936A4F02940D4BE2F53D08CF\",\"target\" : \"FEAA418A30A99453F84DD6D8EDCA03B7D\",\"weight\" : 0},\"F483C58C84F764BA7ACE75701FDD9E22C\" : {\"color\" : \"\",\"id\" : \"F483C58C84F764BA7ACE75701FDD9E22C\",\"invisible\" : false,\"length\" : 0,\"source\" : \"FCDAA11DED07240C1F4429FBD27CD81D3\",\"target\" : \"F5EFEB101EAFA4AD5BC6729B00FB31224\",\"weight\" : 0},\"F562A6F4EEB684370C4573A32DB918402\" : {\"color\" : \"\",\"id\" : \"F562A6F4EEB684370C4573A32DB918402\",\"invisible\" : true,\"length\" : 0,\"source\" : \"FCDAA11DED07240C1F4429FBD27CD81D3\",\"target\" : \"FB044BBE020E04383F4C5C95C677AC07D\",\"weight\" : 0},\"F5934678072AB4FE24C1E02260B3AEC51\" : {\"color\" : \"\",\"id\" : \"F5934678072AB4FE24C1E02260B3AEC51\",\"invisible\" : true,\"length\" : 0,\"source\" : \"FEA332E0097E749D3243339D7D5184871\",\"target\" : \"FC9F8E4D6C2AC4E1BCC02AF98B1B13AF8\",\"weight\" : 0},\"F6E830FE3BA81486EBC7520C337511CD6\" : {\"color\" : \"\",\"id\" : \"F6E830FE3BA81486EBC7520C337511CD6\",\"invisible\" : true,\"length\" : 0,\"source\" : \"F5EFEB101EAFA4AD5BC6729B00FB31224\",\"target\" : \"FEA332E0097E749D3243339D7D5184871\",\"weight\" : 0},\"F73BA8F0160C048B6EC43BD311F163595\" : {\"color\" : \"\",\"id\" : \"F73BA8F0160C048B6EC43BD311F163595\",\"invisible\" : true,\"length\" : 0,\"source\" : \"FCB30C5C48EDD45D744A771BD4CA25AD1\",\"target\" : \"FCDAA11DED07240C1F4429FBD27CD81D3\",\"weight\" : 0},\"F8987EB361DA64586C40E112150E13098\" : {\"color\" : \"\",\"id\" : \"F8987EB361DA64586C40E112150E13098\",\"invisible\" : false,\"length\" : 0,\"source\" : \"FB044BBE020E04383F4C5C95C677AC07D\",\"target\" : \"FEA332E0097E749D3243339D7D5184871\",\"weight\" : 0},\"F936E20B004D54A3D0C08E853E35C38A4\" : {\"color\" : \"\",\"id\" : \"F936E20B004D54A3D0C08E853E35C38A4\",\"invisible\" : true,\"length\" : 0,\"source\" : \"FB044BBE020E04383F4C5C95C677AC07D\",\"target\" : \"F5EFEB101EAFA4AD5BC6729B00FB31224\",\"weight\" : 0},\"FA927E80CEE7A424B2422AFBA0F2555D8\" : {\"color\" : \"\",\"id\" : \"FA927E80CEE7A424B2422AFBA0F2555D8\",\"invisible\" : false,\"length\" : 0,\"source\" : \"F5EFEB101EAFA4AD5BC6729B00FB31224\",\"target\" : \"FCB30C5C48EDD45D744A771BD4CA25AD1\",\"weight\" : 0},\"FE8CE86EAA1EB4A063481C01F4687D755\" : {\"color\" : \"\",\"id\" : \"FE8CE86EAA1EB4A063481C01F4687D755\",\"invisible\" : false,\"length\" : 0,\"source\" : \"FCB30C5C48EDD45D744A771BD4CA25AD1\",\"target\" : \"FB044BBE020E04383F4C5C95C677AC07D\",\"weight\" : 0}},\"nodes\" : {\"F5EFEB101EAFA4AD5BC6729B00FB31224\" : {\"callbacks\" : {},\"color\" : \"\",\"id\" : \"F5EFEB101EAFA4AD5BC6729B00FB31224\",\"layer\" : 0,\"menus\" : {},\"messages\" : {},\"parent\" : \"\",\"size\" : 10,\"title\" : \"7\",\"type\" : \"circle\",\"x\" : 0,\"y\" : 0},\"F6B0D2D96936A4F02940D4BE2F53D08CF\" : {\"callbacks\" : {},\"color\" : \"\",\"id\" : \"F6B0D2D96936A4F02940D4BE2F53D08CF\",\"layer\" : 0,\"menus\" : {},\"messages\" : {},\"parent\" : \"\",\"size\" : 10,\"title\" : \"2\",\"type\" : \"circle\",\"x\" : 0,\"y\" : 0},\"FB044BBE020E04383F4C5C95C677AC07D\" : {\"callbacks\" : {},\"color\" : \"\",\"id\" : \"FB044BBE020E04383F4C5C95C677AC07D\",\"layer\" : 0,\"menus\" : {},\"messages\" : {},\"parent\" : \"\",\"size\" : 10,\"title\" : \"6\",\"type\" : \"circle\",\"x\" : 0,\"y\" : 0},\"FC9F8E4D6C2AC4E1BCC02AF98B1B13AF8\" : {\"callbacks\" : {},\"color\" : \"\",\"id\" : \"FC9F8E4D6C2AC4E1BCC02AF98B1B13AF8\",\"layer\" : 0,\"menus\" : {},\"messages\" : {},\"parent\" : \"\",\"size\" : 10,\"title\" : \"1\",\"type\" : \"circle\",\"x\" : 0,\"y\" : 0},\"FCB30C5C48EDD45D744A771BD4CA25AD1\" : {\"callbacks\" : {},\"color\" : \"\",\"id\" : \"FCB30C5C48EDD45D744A771BD4CA25AD1\",\"layer\" : 0,\"menus\" : {},\"messages\" : {},\"parent\" : \"\",\"size\" : 10,\"title\" : \"4\",\"type\" : \"circle\",\"x\" : 0,\"y\" : 0},\"FCDAA11DED07240C1F4429FBD27CD81D3\" : {\"callbacks\" : {},\"color\" : \"\",\"id\" : \"FCDAA11DED07240C1F4429FBD27CD81D3\",\"layer\" : 0,\"menus\" : {},\"messages\" : {},\"parent\" : \"\",\"size\" : 10,\"title\" : \"5\",\"type\" : \"circle\",\"x\" : 0,\"y\" : 0},\"FEA332E0097E749D3243339D7D5184871\" : {\"callbacks\" : {},\"color\" : \"\",\"id\" : \"FEA332E0097E749D3243339D7D5184871\",\"layer\" : 0,\"menus\" : {},\"messages\" : {},\"parent\" : \"\",\"size\" : 10,\"title\" : \"8\",\"type\" : \"circle\",\"x\" : 0,\"y\" : 0},\"FEAA418A30A99453F84DD6D8EDCA03B7D\" : {\"callbacks\" : {},\"color\" : \"\",\"id\" : \"FEAA418A30A99453F84DD6D8EDCA03B7D\",\"layer\" : 0,\"menus\" : {},\"messages\" : {},\"parent\" : \"\",\"size\" : 10,\"title\" : \"3\",\"type\" : \"circle\",\"x\" : 0,\"y\" : 0}},\"simulation\" : true,\"type\" : \"directed\"},\"height\" : 600,\"id\" : \"F7CE460F59FF34ABCCC0A2DA6C499EBE1\",\"menus\" : {},\"messages\" : {},\"renderer\" : \"GraphViz-Renderer.circo\",\"texTypesetting\" : true,\"title\" : \"Orbital Graph of\",\"width\" : 800,\"zoomToFit\" : true},\"mime\" : \"application\\/vnd.francy+json\",\"version\" : \"2.0.0\"}"
     },
     "execution_count": 10,
     "metadata": {
      "application/vnd.francy+json": {}
     },
     "output_type": "execute_result"
    }
   ],
   "source": [
    "DrawOrbitalGraph(ogs[2]);"
   ]
  },
  {
   "cell_type": "code",
   "execution_count": null,
   "metadata": {},
   "outputs": [
    {
     "name": "stderr",
     "output_type": "stream",
     "text": [
      "Error, operations: IN of character and boolean or fail is not defined in\n",
      "  '/' in path at /mnt/c/Projects/gap/pkg/io/gap/io.gi:945 called from \n",
      "IO_FindExecutable( path ) at /mnt/c/Projects/gap/pkg/io/gap/io.gi:1047 called from\n",
      "IO_Popen( IO_FindExecutable( \"dot\" ), [ \"-Tsvg\", fn ], \"r\" ) at /mnt/c/Projects/gap/pkg/jupyterkernel/gap/JupyterUtil.gi:16 called from\n",
      "<function \"JupyterSplashDot\">( <arguments> )\n",
      " called from read-eval loop at stream:2\n",
      "Error, operations: IN of character and boolean or fail is not defined in\n",
      "  '/' in path at /mnt/c/Projects/gap/pkg/io/gap/io.gi:945 called from \n",
      "IO_FindExecutable( path ) at /mnt/c/Projects/gap/pkg/io/gap/io.gi:1047 called from\n",
      "IO_Popen( IO_FindExecutable( \"dot\" ), [ \"-Tsvg\", fn ], \"r\" ) at /mnt/c/Projects/gap/pkg/jupyterkernel/gap/JupyterUtil.gi:16 called from\n",
      "<function \"JupyterSplashDot\">( <arguments> )\n",
      " called from read-eval loop at stream:3\n",
      "Error, operations: IN of character and boolean or fail is not defined in\n",
      "  '/' in path at /mnt/c/Projects/gap/pkg/io/gap/io.gi:945 called from \n",
      "IO_FindExecutable( path ) at /mnt/c/Projects/gap/pkg/io/gap/io.gi:1047 called from\n",
      "IO_Popen( IO_FindExecutable( \"dot\" ), [ \"-Tsvg\", fn ], \"r\" ) at /mnt/c/Projects/gap/pkg/jupyterkernel/gap/JupyterUtil.gi:16 called from\n",
      "<function \"JupyterSplashDot\">( <arguments> )\n",
      " called from read-eval loop at stream:4\n"
     ]
    }
   ],
   "source": [
    "# Maybe slightly more useful?\n",
    "JupyterSplashDot(DotDigraph(ogs[2]));\n",
    "JupyterSplashDot(DotDigraph(ogs[5]));\n",
    "JupyterSplashDot(DotDigraph(ogs[7]));\n",
    "\n"
   ]
  },
  {
   "cell_type": "code",
   "execution_count": null,
   "metadata": {},
   "outputs": [],
   "source": []
  }
 ],
 "metadata": {
  "kernelspec": {
   "display_name": "GAP 4",
   "language": "gap",
   "name": "gap-4"
  },
  "language_info": {
   "codemirror_mode": "gap",
   "file_extension": ".g",
   "mimetype": "text/x-gap",
   "name": "GAP 4",
   "nbconvert_exporter": "",
   "pygments_lexer": "gap",
   "version": "4.13dev"
  }
 },
 "nbformat": 4,
 "nbformat_minor": 4
}
