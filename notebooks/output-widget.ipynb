{
 "cells": [
  {
   "cell_type": "markdown",
   "metadata": {},
   "source": [
    "# Example of text output in francy\n",
    "\n",
    "This example creates a Graph with one node. Clicking on the node will trigger the function that will print the input from the user in a new OuputWidget below Francy Graph."
   ]
  },
  {
   "cell_type": "code",
   "execution_count": 23,
   "metadata": {},
   "outputs": [
    {
     "data": {
      "text/plain": [
       "true"
      ]
     },
     "execution_count": 1,
     "metadata": {
      "text/plain": ""
     },
     "output_type": "execute_result"
    },
    {
     "data": {
      "application/vnd.francy+json": "{\"canvas\" : {\"graph\" : {\"collapsed\" : true,\"id\" : \"F12AC5E185BB641038431E4B4C3456293\",\"links\" : {},\"nodes\" : {\"F4509A7188928455C64B962BCBF295BF1\" : {\"callbacks\" : {\"F682E684B60AC4F4CCCEED7EAB57AE7DA\" : {\"confirm\" : \"This is a confirmation message...\",\"func\" : \"HelloWorld\",\"id\" : \"F682E684B60AC4F4CCCEED7EAB57AE7DA\",\"knownArgs\" : [],\"requiredArgs\" : {\"F8C1F96C773474A8154A4C46BB113E35E\" : {\"id\" : \"F8C1F96C773474A8154A4C46BB113E35E\",\"title\" : \"Selected Nodes\",\"type\" : \"select\",\"value\" : \"\"},\"FE3F02797F57E4022DCE98F0FCF04CBA8\" : {\"id\" : \"FE3F02797F57E4022DCE98F0FCF04CBA8\",\"title\" : \"Your Name?\",\"type\" : \"text\",\"value\" : \"\"}},\"trigger\" : \"click\"}},\"color\" : \"#2E8B57\",\"id\" : \"F4509A7188928455C64B962BCBF295BF1\",\"layer\" : 0,\"menus\" : {\"F70650600519E474F5465932AD7970059\" : {\"callback\" : {\"confirm\" : \"This is a confirmation message...\",\"func\" : \"HelloWorld\",\"id\" : \"F682E684B60AC4F4CCCEED7EAB57AE7DA\",\"knownArgs\" : [],\"requiredArgs\" : {\"F8C1F96C773474A8154A4C46BB113E35E\" : {\"id\" : \"F8C1F96C773474A8154A4C46BB113E35E\",\"title\" : \"Selected Nodes\",\"type\" : \"select\",\"value\" : \"\"},\"FE3F02797F57E4022DCE98F0FCF04CBA8\" : {\"id\" : \"FE3F02797F57E4022DCE98F0FCF04CBA8\",\"title\" : \"Your Name?\",\"type\" : \"text\",\"value\" : \"\"}},\"trigger\" : \"click\"},\"id\" : \"F70650600519E474F5465932AD7970059\",\"menus\" : {},\"title\" : \"Hello Menu Action\"}},\"messages\" : {},\"parent\" : \"\",\"size\" : 10,\"title\" : \"\",\"type\" : \"circle\",\"x\" : 0,\"y\" : 0}},\"simulation\" : true,\"type\" : \"undirected\"},\"height\" : 450,\"id\" : \"F366688A254054F9AFC43A6EA5008CAD2\",\"menus\" : {\"F70650600519E474F5465932AD7970059\" : {\"callback\" : {\"confirm\" : \"This is a confirmation message...\",\"func\" : \"HelloWorld\",\"id\" : \"F682E684B60AC4F4CCCEED7EAB57AE7DA\",\"knownArgs\" : [],\"requiredArgs\" : {\"F8C1F96C773474A8154A4C46BB113E35E\" : {\"id\" : \"F8C1F96C773474A8154A4C46BB113E35E\",\"title\" : \"Selected Nodes\",\"type\" : \"select\",\"value\" : \"\"},\"FE3F02797F57E4022DCE98F0FCF04CBA8\" : {\"id\" : \"FE3F02797F57E4022DCE98F0FCF04CBA8\",\"title\" : \"Your Name?\",\"type\" : \"text\",\"value\" : \"\"}},\"trigger\" : \"click\"},\"id\" : \"F70650600519E474F5465932AD7970059\",\"menus\" : {},\"title\" : \"Hello Menu Action\"},\"F98C36F7AB1D945CC9C7DE79A8C6E8CC7\" : {\"callback\" : {},\"id\" : \"F98C36F7AB1D945CC9C7DE79A8C6E8CC7\",\"menus\" : {\"F70650600519E474F5465932AD7970059\" : {\"callback\" : {\"confirm\" : \"This is a confirmation message...\",\"func\" : \"HelloWorld\",\"id\" : \"F682E684B60AC4F4CCCEED7EAB57AE7DA\",\"knownArgs\" : [],\"requiredArgs\" : {\"F8C1F96C773474A8154A4C46BB113E35E\" : {\"id\" : \"F8C1F96C773474A8154A4C46BB113E35E\",\"title\" : \"Selected Nodes\",\"type\" : \"select\",\"value\" : \"\"},\"FE3F02797F57E4022DCE98F0FCF04CBA8\" : {\"id\" : \"FE3F02797F57E4022DCE98F0FCF04CBA8\",\"title\" : \"Your Name?\",\"type\" : \"text\",\"value\" : \"\"}},\"trigger\" : \"click\"},\"id\" : \"F70650600519E474F5465932AD7970059\",\"menus\" : {},\"title\" : \"Hello Menu Action\"}},\"title\" : \"Example Menu Holder\"}},\"messages\" : {},\"texTypesetting\" : false,\"title\" : \"Callbacks in action\",\"width\" : 800,\"zoomToFit\" : true},\"mime\" : \"application\\/vnd.francy+json\",\"version\" : \"2.0.0\"}"
     },
     "execution_count": 23,
     "metadata": {
      "application/vnd.francy+json": {}
     },
     "output_type": "execute_result"
    }
   ],
   "source": [
    "LoadPackage(\"francy\");\n",
    "\n",
    "canvas2 := Canvas(\"Callbacks in action\");;\n",
    "SetHeight(canvas2, 450);;\n",
    "\n",
    "graph := Graph(GraphType.UNDIRECTED);; # will go throughout graphs later\n",
    "shape := Shape(ShapeType.CIRCLE);; # will go throughout shapes later\n",
    "SetColor(shape, \"#2E8B57\");;\n",
    "Add(graph, shape);;\n",
    "Add(canvas2, graph);;\n",
    "\n",
    "HelloWorld := function(name, node)\n",
    "    return Concatenation(\"Hello, \", name, \" you have selected the node with ID \", String(node));\n",
    "end;;\n",
    "\n",
    "callback1 := Callback(HelloWorld);;\n",
    "SetConfirmMessage(callback1, \"This is a confirmation message...\");;\n",
    "arg1 := RequiredArg(ArgType.STRING, \"Your Name?\");;\n",
    "arg2 := RequiredArg(ArgType.SELECT, \"Selected Nodes\");;\n",
    "Add(callback1, arg1);;\n",
    "Add(callback1, arg2);;\n",
    "\n",
    "Add(shape, callback1);;\n",
    "\n",
    "menu := Menu(\"Example Menu Holder\");;\n",
    "menu1 := Menu( \"Hello Menu Action\", callback1 );;\n",
    "Add(menu, menu1);;\n",
    "\n",
    "Add(canvas2, menu);;\n",
    "Add(canvas2, menu1);;\n",
    "Add(shape, menu1);;\n",
    "\n",
    "Draw(canvas2);"
   ]
  },
  {
   "cell_type": "code",
   "execution_count": null,
   "metadata": {},
   "outputs": [],
   "source": []
  }
 ],
 "metadata": {
  "kernelspec": {
   "display_name": "GAP 4",
   "language": "gap",
   "name": "gap-4"
  },
  "language_info": {
   "codemirror_mode": "gap",
   "file_extension": ".g",
   "mimetype": "text/x-gap",
   "name": "GAP 4",
   "nbconvert_exporter": "",
   "pygments_lexer": "gap",
   "version": "4.13dev"
  },
  "widgets": {
   "application/vnd.jupyter.widget-state+json": {
    "state": {},
    "version_major": 2,
    "version_minor": 0
   }
  }
 },
 "nbformat": 4,
 "nbformat_minor": 4
}
