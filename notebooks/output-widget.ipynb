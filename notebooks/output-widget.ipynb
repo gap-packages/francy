{
 "cells": [
  {
   "cell_type": "markdown",
   "metadata": {},
   "source": [
    "# Example of text output in francy\n",
    "\n",
    "This example creates a Graph with one node. Clicking on the node will trigger the function that will print the input from the user in a new OuputWidget below Francy Graph."
   ]
  },
  {
   "cell_type": "code",
   "execution_count": 47,
   "metadata": {},
   "outputs": [
    {
     "data": {
      "text/plain": [
       "true"
      ]
     },
     "execution_count": 25,
     "metadata": {
      "text/plain": ""
     },
     "output_type": "execute_result"
    },
    {
     "data": {
      "application/vnd.francy+json": "{\"canvas\" : {\"graph\" : {\"collapsed\" : true,\"id\" : \"F2ED844CBF82047CA8C0E59ECD1D25F6A\",\"links\" : {},\"nodes\" : {\"F793F564DFC7C41AD0C70B2CB648370C1\" : {\"callbacks\" : {\"F40528265F01D48195C823DDF5A14D7CF\" : {\"confirm\" : \"This is a confirmation message...\",\"func\" : \"HelloWorld\",\"id\" : \"F40528265F01D48195C823DDF5A14D7CF\",\"knownArgs\" : [],\"requiredArgs\" : {\"F36D7D8C8024E4D9B34DBDCE35F39E797\" : {\"id\" : \"F36D7D8C8024E4D9B34DBDCE35F39E797\",\"title\" : \"Selected Nodes\",\"type\" : \"select\",\"value\" : \"\"},\"F3A62027A90C14B2E64ADFBE598DCAB1F\" : {\"id\" : \"F3A62027A90C14B2E64ADFBE598DCAB1F\",\"title\" : \"Your Name?\",\"type\" : \"text\",\"value\" : \"\"}},\"trigger\" : \"click\"}},\"color\" : \"#2E8B57\",\"id\" : \"F793F564DFC7C41AD0C70B2CB648370C1\",\"layer\" : 0,\"menus\" : {\"FBADFB1FBB15143125C5771BF1E49AAAC\" : {\"callback\" : {\"confirm\" : \"This is a confirmation message...\",\"func\" : \"HelloWorld\",\"id\" : \"F40528265F01D48195C823DDF5A14D7CF\",\"knownArgs\" : [],\"requiredArgs\" : {\"F36D7D8C8024E4D9B34DBDCE35F39E797\" : {\"id\" : \"F36D7D8C8024E4D9B34DBDCE35F39E797\",\"title\" : \"Selected Nodes\",\"type\" : \"select\",\"value\" : \"\"},\"F3A62027A90C14B2E64ADFBE598DCAB1F\" : {\"id\" : \"F3A62027A90C14B2E64ADFBE598DCAB1F\",\"title\" : \"Your Name?\",\"type\" : \"text\",\"value\" : \"\"}},\"trigger\" : \"click\"},\"id\" : \"FBADFB1FBB15143125C5771BF1E49AAAC\",\"menus\" : {},\"title\" : \"Hello Menu Action\"}},\"messages\" : {},\"parent\" : \"\",\"size\" : 10,\"title\" : \"\",\"type\" : \"circle\",\"x\" : 0,\"y\" : 0}},\"simulation\" : true,\"type\" : \"undirected\"},\"height\" : 450,\"id\" : \"FB9F3D102AF6942D1348022740EF8E8ED\",\"menus\" : {\"F4F18DC8FBC08428664203B7254BEDCFC\" : {\"callback\" : {},\"id\" : \"F4F18DC8FBC08428664203B7254BEDCFC\",\"menus\" : {\"FBADFB1FBB15143125C5771BF1E49AAAC\" : {\"callback\" : {\"confirm\" : \"This is a confirmation message...\",\"func\" : \"HelloWorld\",\"id\" : \"F40528265F01D48195C823DDF5A14D7CF\",\"knownArgs\" : [],\"requiredArgs\" : {\"F36D7D8C8024E4D9B34DBDCE35F39E797\" : {\"id\" : \"F36D7D8C8024E4D9B34DBDCE35F39E797\",\"title\" : \"Selected Nodes\",\"type\" : \"select\",\"value\" : \"\"},\"F3A62027A90C14B2E64ADFBE598DCAB1F\" : {\"id\" : \"F3A62027A90C14B2E64ADFBE598DCAB1F\",\"title\" : \"Your Name?\",\"type\" : \"text\",\"value\" : \"\"}},\"trigger\" : \"click\"},\"id\" : \"FBADFB1FBB15143125C5771BF1E49AAAC\",\"menus\" : {},\"title\" : \"Hello Menu Action\"}},\"title\" : \"Example Menu Holder\"},\"FBADFB1FBB15143125C5771BF1E49AAAC\" : {\"callback\" : {\"confirm\" : \"This is a confirmation message...\",\"func\" : \"HelloWorld\",\"id\" : \"F40528265F01D48195C823DDF5A14D7CF\",\"knownArgs\" : [],\"requiredArgs\" : {\"F36D7D8C8024E4D9B34DBDCE35F39E797\" : {\"id\" : \"F36D7D8C8024E4D9B34DBDCE35F39E797\",\"title\" : \"Selected Nodes\",\"type\" : \"select\",\"value\" : \"\"},\"F3A62027A90C14B2E64ADFBE598DCAB1F\" : {\"id\" : \"F3A62027A90C14B2E64ADFBE598DCAB1F\",\"title\" : \"Your Name?\",\"type\" : \"text\",\"value\" : \"\"}},\"trigger\" : \"click\"},\"id\" : \"FBADFB1FBB15143125C5771BF1E49AAAC\",\"menus\" : {},\"title\" : \"Hello Menu Action\"}},\"messages\" : {},\"texTypesetting\" : true,\"title\" : \"Callbacks in action\",\"width\" : 800,\"zoomToFit\" : true},\"mime\" : \"application\\/vnd.francy+json\",\"version\" : \"2.0.3\"}"
     },
     "execution_count": 47,
     "metadata": {
      "application/vnd.francy+json": {}
     },
     "output_type": "execute_result"
    }
   ],
   "source": [
    "LoadPackage(\"francy\");\n",
    "\n",
    "canvas2 := Canvas(\"Callbacks in action\");;\n",
    "SetHeight(canvas2, 450);;\n",
    "\n",
    "graph := Graph(GraphType.UNDIRECTED);; # will go throughout graphs later\n",
    "shape := Shape(ShapeType.CIRCLE);; # will go throughout shapes later\n",
    "SetColor(shape, \"#2E8B57\");;\n",
    "Add(graph, shape);;\n",
    "Add(canvas2, graph);;\n",
    "\n",
    "HelloWorld := function(name, node)\n",
    "    return Concatenation(\"Hello, \", name, \" you have selected the node with ID \", String(node));\n",
    "end;;\n",
    "\n",
    "callback1 := Callback(HelloWorld);;\n",
    "SetConfirmMessage(callback1, \"This is a confirmation message...\");;\n",
    "arg1 := RequiredArg(ArgType.STRING, \"Your Name?\");;\n",
    "arg2 := RequiredArg(ArgType.SELECT, \"Selected Nodes\");;\n",
    "Add(callback1, arg1);;\n",
    "Add(callback1, arg2);;\n",
    "\n",
    "Add(shape, callback1);;\n",
    "\n",
    "menu := Menu(\"Example Menu Holder\");;\n",
    "menu1 := Menu( \"Hello Menu Action\", callback1 );;\n",
    "Add(menu, menu1);;\n",
    "\n",
    "Add(canvas2, menu);;\n",
    "Add(canvas2, menu1);;\n",
    "Add(shape, menu1);;\n",
    "\n",
    "Draw(canvas2);"
   ]
  },
  {
   "cell_type": "code",
   "execution_count": null,
   "metadata": {},
   "outputs": [],
   "source": []
  }
 ],
 "metadata": {
  "kernelspec": {
   "display_name": "GAP 4",
   "language": "gap",
   "name": "gap-4"
  },
  "language_info": {
   "codemirror_mode": "gap",
   "file_extension": ".g",
   "mimetype": "text/x-gap",
   "name": "GAP 4",
   "nbconvert_exporter": "",
   "pygments_lexer": "gap",
   "version": "4.14dev"
  },
  "widgets": {
   "application/vnd.jupyter.widget-state+json": {
    "state": {},
    "version_major": 2,
    "version_minor": 0
   }
  }
 },
 "nbformat": 4,
 "nbformat_minor": 4
}
