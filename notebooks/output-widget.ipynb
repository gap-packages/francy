{
 "cells": [
  {
   "cell_type": "markdown",
   "metadata": {},
   "source": [
    "# Example of text output in francy\n",
    "\n",
    "This example creates a Graph with one node. Clicking on the node will trigger the function that will print the input from the user in a new OuputWidget below Francy Graph."
   ]
  },
  {
   "cell_type": "code",
   "execution_count": 23,
   "metadata": {},
   "outputs": [
    {
     "data": {
      "text/plain": [
       "true"
      ]
     },
     "execution_count": 1,
     "metadata": {
      "text/plain": ""
     },
     "output_type": "execute_result"
    },
    {
     "data": {
      "application/vnd.francy+json": "{\"version\" : \"1.2.4\",\"mime\" : \"application\\/vnd.francy+json\",\"canvas\" : {\"width\" : 800,\"id\" : \"F1\",\"height\" : 450,\"title\" : \"Callbacks in action\",\"zoomToFit\" : true,\"texTypesetting\" : false,\"menus\" : {\"F7\" : {\"id\" : \"F7\",\"title\" : \"Example Menu Holder\",\"callback\" : {},\"menus\" : {\"F8\" : {\"id\" : \"F8\",\"title\" : \"Hello Menu Action\",\"callback\" : {\"func\" : \"HelloWorld\",\"id\" : \"F4\",\"confirm\" : \"This is a confirmation message...\",\"trigger\" : \"click\",\"knownArgs\" : [],\"requiredArgs\" : {\"F5\" : {\"type\" : \"text\",\"id\" : \"F5\",\"title\" : \"Your Name?\",\"value\" : \"\"},\"F6\" : {\"type\" : \"select\",\"id\" : \"F6\",\"title\" : \"Selected Nodes\",\"value\" : \"\"}}},\"menus\" : {}}}},\"F8\" : {\"id\" : \"F8\",\"title\" : \"Hello Menu Action\",\"callback\" : {\"func\" : \"HelloWorld\",\"id\" : \"F4\",\"confirm\" : \"This is a confirmation message...\",\"trigger\" : \"click\",\"knownArgs\" : [],\"requiredArgs\" : {\"F5\" : {\"type\" : \"text\",\"id\" : \"F5\",\"title\" : \"Your Name?\",\"value\" : \"\"},\"F6\" : {\"type\" : \"select\",\"id\" : \"F6\",\"title\" : \"Selected Nodes\",\"value\" : \"\"}}},\"menus\" : {}}},\"graph\" : {\"type\" : \"undirected\",\"id\" : \"F2\",\"simulation\" : true,\"collapsed\" : true,\"nodes\" : {\"F3\" : {\"x\" : 0,\"y\" : 0,\"type\" : \"circle\",\"id\" : \"F3\",\"size\" : 10,\"title\" : \"\",\"layer\" : 0,\"parent\" : \"\",\"color\" : \"#2E8B57\",\"menus\" : {\"F8\" : {\"id\" : \"F8\",\"title\" : \"Hello Menu Action\",\"callback\" : {\"func\" : \"HelloWorld\",\"id\" : \"F4\",\"confirm\" : \"This is a confirmation message...\",\"trigger\" : \"click\",\"knownArgs\" : [],\"requiredArgs\" : {\"F5\" : {\"type\" : \"text\",\"id\" : \"F5\",\"title\" : \"Your Name?\",\"value\" : \"\"},\"F6\" : {\"type\" : \"select\",\"id\" : \"F6\",\"title\" : \"Selected Nodes\",\"value\" : \"\"}}},\"menus\" : {}}},\"messages\" : {},\"callbacks\" : {\"F4\" : {\"func\" : \"HelloWorld\",\"id\" : \"F4\",\"confirm\" : \"This is a confirmation message...\",\"trigger\" : \"click\",\"knownArgs\" : [],\"requiredArgs\" : {\"F5\" : {\"type\" : \"text\",\"id\" : \"F5\",\"title\" : \"Your Name?\",\"value\" : \"\"},\"F6\" : {\"type\" : \"select\",\"id\" : \"F6\",\"title\" : \"Selected Nodes\",\"value\" : \"\"}}}}}},\"links\" : {}},\"messages\" : {}}}"
     },
     "execution_count": 23,
     "metadata": {
      "application/vnd.francy+json": {}
     },
     "output_type": "execute_result"
    }
   ],
   "source": [
    "LoadPackage(\"francy\");\n",
    "\n",
    "canvas2 := Canvas(\"Callbacks in action\");;\n",
    "SetHeight(canvas2, 450);;\n",
    "\n",
    "graph := Graph(GraphType.UNDIRECTED);; # will go throughout graphs later\n",
    "shape := Shape(ShapeType.CIRCLE);; # will go throughout shapes later\n",
    "SetColor(shape, \"#2E8B57\");;\n",
    "Add(graph, shape);;\n",
    "Add(canvas2, graph);;\n",
    "\n",
    "HelloWorld := function(name, node)\n",
    "    return Concatenation(\"Hello, \", name, \" you have selected the node with ID \", String(node));\n",
    "end;;\n",
    "\n",
    "callback1 := Callback(HelloWorld);;\n",
    "SetConfirmMessage(callback1, \"This is a confirmation message...\");;\n",
    "arg1 := RequiredArg(ArgType.STRING, \"Your Name?\");;\n",
    "arg2 := RequiredArg(ArgType.SELECT, \"Selected Nodes\");;\n",
    "Add(callback1, arg1);;\n",
    "Add(callback1, arg2);;\n",
    "\n",
    "Add(shape, callback1);;\n",
    "\n",
    "menu := Menu(\"Example Menu Holder\");;\n",
    "menu1 := Menu( \"Hello Menu Action\", callback1 );;\n",
    "Add(menu, menu1);;\n",
    "\n",
    "Add(canvas2, menu);;\n",
    "Add(canvas2, menu1);;\n",
    "Add(shape, menu1);;\n",
    "\n",
    "Draw(canvas2);"
   ]
  },
  {
   "cell_type": "code",
   "execution_count": null,
   "metadata": {},
   "outputs": [],
   "source": []
  }
 ],
 "metadata": {
  "kernelspec": {
   "display_name": "GAP 4",
   "language": "gap",
   "name": "gap-4"
  },
  "language_info": {
   "codemirror_mode": "gap",
   "file_extension": ".g",
   "mimetype": "text/x-gap",
   "name": "GAP 4",
   "nbconvert_exporter": "",
   "pygments_lexer": "gap",
   "version": "4.dev"
  },
  "widgets": {
   "application/vnd.jupyter.widget-state+json": {
    "state": {},
    "version_major": 2,
    "version_minor": 0
   }
  }
 },
 "nbformat": 4,
 "nbformat_minor": 2
}
