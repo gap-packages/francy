{
 "cells": [
  {
   "cell_type": "code",
   "execution_count": null,
   "metadata": {},
   "outputs": [
    {
     "data": {
      "text/plain": [
       "true"
      ]
     },
     "execution_count": 1,
     "metadata": {
      "text/plain": ""
     },
     "output_type": "execute_result"
    }
   ],
   "source": [
    "LoadPackage(\"FrancyMonoids\");"
   ]
  },
  {
   "cell_type": "markdown",
   "metadata": {},
   "source": [
    "## Trees"
   ]
  },
  {
   "cell_type": "code",
   "execution_count": null,
   "metadata": {},
   "outputs": [
    {
     "data": {
      "text/plain": [
       "<The numerical semigroup N>"
      ]
     },
     "execution_count": 2,
     "metadata": {
      "text/plain": ""
     },
     "output_type": "execute_result"
    }
   ],
   "source": [
    "s:=NumericalSemigroup(1);"
   ]
  },
  {
   "cell_type": "markdown",
   "metadata": {},
   "source": [
    "##  `DrawTreeOfSonsOfNumericalSemigroup(s,l,gensfunc)`\n",
    "\n",
    "This function draws the thre of the sons of `s` up to level `l` with respect to `gensfunc` (a function that gets minimal generators according to a given variety of numerical semigroups, for instance, `MinimalGenerators`)"
   ]
  },
  {
   "cell_type": "code",
   "execution_count": 3,
   "metadata": {},
   "outputs": [
    {
     "data": {
      "application/vnd.francy+json": "{\"canvas\" : {\"graph\" : {\"collapsed\" : false,\"id\" : \"F40528265F01D48195C823DDF5A14D7CF\",\"links\" : {},\"nodes\" : {\"F06668D287B154619349F2436DCD72C18\" : {\"callbacks\" : {},\"color\" : \"\",\"id\" : \"F06668D287B154619349F2436DCD72C18\",\"layer\" : 0,\"menus\" : {},\"messages\" : {},\"parent\" : \"F7220CDA1859D4FB5D44E4B78F5ED59EB\",\"size\" : 5,\"title\" : \"{2,9}\",\"type\" : \"circle\",\"x\" : 0,\"y\" : 0},\"F12AC5E185BB641038431E4B4C3456293\" : {\"callbacks\" : {},\"color\" : \"\",\"id\" : \"F12AC5E185BB641038431E4B4C3456293\",\"layer\" : 0,\"menus\" : {},\"messages\" : {},\"parent\" : \"F366688A254054F9AFC43A6EA5008CAD2\",\"size\" : 5,\"title\" : \"{6,7,8,9,10,11}\",\"type\" : \"circle\",\"x\" : 0,\"y\" : 0},\"F18FE4D8176C446357C71A0CC5EE3A37F\" : {\"callbacks\" : {},\"color\" : \"\",\"id\" : \"F18FE4D8176C446357C71A0CC5EE3A37F\",\"layer\" : 0,\"menus\" : {},\"messages\" : {},\"parent\" : \"F98C36F7AB1D945CC9C7DE79A8C6E8CC7\",\"size\" : 5,\"title\" : \"{4,6,7}\",\"type\" : \"circle\",\"x\" : 0,\"y\" : 0},\"F2140F5B9EB414493EC719FFE8D4BF2ED\" : {\"callbacks\" : {},\"color\" : \"\",\"id\" : \"F2140F5B9EB414493EC719FFE8D4BF2ED\",\"layer\" : 0,\"menus\" : {},\"messages\" : {},\"parent\" : \"FADAB64089636489B9C138F2DEEA6DF25\",\"size\" : 5,\"title\" : \"{3,7,11}\",\"type\" : \"circle\",\"x\" : 0,\"y\" : 0},\"F2D93B026F585424AF4DCE24E0C2A49F8\" : {\"callbacks\" : {},\"color\" : \"\",\"id\" : \"F2D93B026F585424AF4DCE24E0C2A49F8\",\"layer\" : 0,\"menus\" : {},\"messages\" : {},\"parent\" : \"F9A4E435F8A234BBD34DD34C838182A5C\",\"size\" : 5,\"title\" : \"{3,4}\",\"type\" : \"circle\",\"x\" : 0,\"y\" : 0},\"F366688A254054F9AFC43A6EA5008CAD2\" : {\"callbacks\" : {},\"color\" : \"\",\"id\" : \"F366688A254054F9AFC43A6EA5008CAD2\",\"layer\" : 0,\"menus\" : {},\"messages\" : {},\"parent\" : \"F8F794C1FA828467404CA41218DCFC68D\",\"size\" : 5,\"title\" : \"{5,6,7,8,9}\",\"type\" : \"circle\",\"x\" : 0,\"y\" : 0},\"F383B937CCF3547927CB4CC7779D548B7\" : {\"callbacks\" : {},\"color\" : \"\",\"id\" : \"F383B937CCF3547927CB4CC7779D548B7\",\"layer\" : 0,\"menus\" : {},\"messages\" : {},\"parent\" : \"FADAB64089636489B9C138F2DEEA6DF25\",\"size\" : 5,\"title\" : \"{3,8,10}\",\"type\" : \"circle\",\"x\" : 0,\"y\" : 0},\"F3A62027A90C14B2E64ADFBE598DCAB1F\" : {\"callbacks\" : {},\"color\" : \"\",\"id\" : \"F3A62027A90C14B2E64ADFBE598DCAB1F\",\"layer\" : 0,\"menus\" : {},\"messages\" : {\"F36D7D8C8024E4D9B34DBDCE35F39E797\" : {\"callback\" : {\"func\" : \"Remove\",\"id\" : \"F4F18DC8FBC08428664203B7254BEDCFC\",\"knownArgs\" : [\"<object>\",\"<object>\"],\"requiredArgs\" : {},\"trigger\" : \"click\"},\"id\" : \"F36D7D8C8024E4D9B34DBDCE35F39E797\",\"text\" : \"[ 1 ]\",\"title\" : \"\",\"type\" : \"default\"}},\"parent\" : \"\",\"size\" : 5,\"title\" : \"S\",\"type\" : \"circle\",\"x\" : 0,\"y\" : 0},\"F4509A7188928455C64B962BCBF295BF1\" : {\"callbacks\" : {},\"color\" : \"\",\"id\" : \"F4509A7188928455C64B962BCBF295BF1\",\"layer\" : 0,\"menus\" : {},\"messages\" : {},\"parent\" : \"F366688A254054F9AFC43A6EA5008CAD2\",\"size\" : 5,\"title\" : \"{5,7,8,9,11}\",\"type\" : \"circle\",\"x\" : 0,\"y\" : 0},\"F49BDA1295C9445F6F4EC266BF0A82D84\" : {\"callbacks\" : {},\"color\" : \"\",\"id\" : \"F49BDA1295C9445F6F4EC266BF0A82D84\",\"layer\" : 0,\"menus\" : {},\"messages\" : {},\"parent\" : \"F06668D287B154619349F2436DCD72C18\",\"size\" : 5,\"title\" : \"{2,11}\",\"type\" : \"circle\",\"x\" : 0,\"y\" : 0},\"F55F63E4544B84A3F14A229612277EA64\" : {\"callbacks\" : {},\"color\" : \"\",\"id\" : \"F55F63E4544B84A3F14A229612277EA64\",\"layer\" : 0,\"menus\" : {},\"messages\" : {},\"parent\" : \"FBC3E1C907D124ABCB4D37AFC978D49C0\",\"size\" : 5,\"title\" : \"{2,5}\",\"type\" : \"circle\",\"x\" : 0,\"y\" : 0},\"F682E684B60AC4F4CCCEED7EAB57AE7DA\" : {\"callbacks\" : {},\"color\" : \"\",\"id\" : \"F682E684B60AC4F4CCCEED7EAB57AE7DA\",\"layer\" : 0,\"menus\" : {},\"messages\" : {},\"parent\" : \"F366688A254054F9AFC43A6EA5008CAD2\",\"size\" : 5,\"title\" : \"{5,6,8,9}\",\"type\" : \"circle\",\"x\" : 0,\"y\" : 0},\"F6E20A7A3B1004032E4CE51E46A17101F\" : {\"callbacks\" : {},\"color\" : \"\",\"id\" : \"F6E20A7A3B1004032E4CE51E46A17101F\",\"layer\" : 0,\"menus\" : {},\"messages\" : {},\"parent\" : \"F8F794C1FA828467404CA41218DCFC68D\",\"size\" : 5,\"title\" : \"{4,5,6}\",\"type\" : \"circle\",\"x\" : 0,\"y\" : 0},\"F70650600519E474F5465932AD7970059\" : {\"callbacks\" : {},\"color\" : \"\",\"id\" : \"F70650600519E474F5465932AD7970059\",\"layer\" : 0,\"menus\" : {},\"messages\" : {},\"parent\" : \"F98C36F7AB1D945CC9C7DE79A8C6E8CC7\",\"size\" : 5,\"title\" : \"{4,7,9,10}\",\"type\" : \"circle\",\"x\" : 0,\"y\" : 0},\"F7220CDA1859D4FB5D44E4B78F5ED59EB\" : {\"callbacks\" : {},\"color\" : \"\",\"id\" : \"F7220CDA1859D4FB5D44E4B78F5ED59EB\",\"layer\" : 0,\"menus\" : {},\"messages\" : {},\"parent\" : \"F55F63E4544B84A3F14A229612277EA64\",\"size\" : 5,\"title\" : \"{2,7}\",\"type\" : \"circle\",\"x\" : 0,\"y\" : 0},\"F893471BC9EC94849B42DB8268A9D1AB6\" : {\"callbacks\" : {},\"color\" : \"\",\"id\" : \"F893471BC9EC94849B42DB8268A9D1AB6\",\"layer\" : 0,\"menus\" : {},\"messages\" : {},\"parent\" : \"F8F794C1FA828467404CA41218DCFC68D\",\"size\" : 5,\"title\" : \"{4,5,7}\",\"type\" : \"circle\",\"x\" : 0,\"y\" : 0},\"F8C1F96C773474A8154A4C46BB113E35E\" : {\"callbacks\" : {},\"color\" : \"\",\"id\" : \"F8C1F96C773474A8154A4C46BB113E35E\",\"layer\" : 0,\"menus\" : {},\"messages\" : {},\"parent\" : \"F366688A254054F9AFC43A6EA5008CAD2\",\"size\" : 5,\"title\" : \"{5,6,7,8}\",\"type\" : \"circle\",\"x\" : 0,\"y\" : 0},\"F8F794C1FA828467404CA41218DCFC68D\" : {\"callbacks\" : {},\"color\" : \"\",\"id\" : \"F8F794C1FA828467404CA41218DCFC68D\",\"layer\" : 0,\"menus\" : {},\"messages\" : {},\"parent\" : \"F9A4E435F8A234BBD34DD34C838182A5C\",\"size\" : 5,\"title\" : \"{4,5,6,7}\",\"type\" : \"circle\",\"x\" : 0,\"y\" : 0},\"F98C36F7AB1D945CC9C7DE79A8C6E8CC7\" : {\"callbacks\" : {},\"color\" : \"\",\"id\" : \"F98C36F7AB1D945CC9C7DE79A8C6E8CC7\",\"layer\" : 0,\"menus\" : {},\"messages\" : {},\"parent\" : \"F8F794C1FA828467404CA41218DCFC68D\",\"size\" : 5,\"title\" : \"{4,6,7,9}\",\"type\" : \"circle\",\"x\" : 0,\"y\" : 0},\"F9980C3AB1FE8467A0C39E0816714D39D\" : {\"callbacks\" : {},\"color\" : \"\",\"id\" : \"F9980C3AB1FE8467A0C39E0816714D39D\",\"layer\" : 0,\"menus\" : {},\"messages\" : {},\"parent\" : \"F9A4E435F8A234BBD34DD34C838182A5C\",\"size\" : 5,\"title\" : \"{3,5,7}\",\"type\" : \"circle\",\"x\" : 0,\"y\" : 0},\"F9A4E435F8A234BBD34DD34C838182A5C\" : {\"callbacks\" : {},\"color\" : \"\",\"id\" : \"F9A4E435F8A234BBD34DD34C838182A5C\",\"layer\" : 0,\"menus\" : {},\"messages\" : {},\"parent\" : \"FBC3E1C907D124ABCB4D37AFC978D49C0\",\"size\" : 5,\"title\" : \"{3,4,5}\",\"type\" : \"circle\",\"x\" : 0,\"y\" : 0},\"FA9ED231CB4E94792E44909958FE38065\" : {\"callbacks\" : {},\"color\" : \"\",\"id\" : \"FA9ED231CB4E94792E44909958FE38065\",\"layer\" : 0,\"menus\" : {},\"messages\" : {},\"parent\" : \"F9980C3AB1FE8467A0C39E0816714D39D\",\"size\" : 5,\"title\" : \"{3,5}\",\"type\" : \"circle\",\"x\" : 0,\"y\" : 0},\"FAC5309F8108F4A06F49F78E45EF88986\" : {\"callbacks\" : {},\"color\" : \"\",\"id\" : \"FAC5309F8108F4A06F49F78E45EF88986\",\"layer\" : 0,\"menus\" : {},\"messages\" : {},\"parent\" : \"F98C36F7AB1D945CC9C7DE79A8C6E8CC7\",\"size\" : 5,\"title\" : \"{4,6,9,11}\",\"type\" : \"circle\",\"x\" : 0,\"y\" : 0},\"FADAB64089636489B9C138F2DEEA6DF25\" : {\"callbacks\" : {},\"color\" : \"\",\"id\" : \"FADAB64089636489B9C138F2DEEA6DF25\",\"layer\" : 0,\"menus\" : {},\"messages\" : {},\"parent\" : \"F9980C3AB1FE8467A0C39E0816714D39D\",\"size\" : 5,\"title\" : \"{3,7,8}\",\"type\" : \"circle\",\"x\" : 0,\"y\" : 0},\"FBC3E1C907D124ABCB4D37AFC978D49C0\" : {\"callbacks\" : {},\"color\" : \"\",\"id\" : \"FBC3E1C907D124ABCB4D37AFC978D49C0\",\"layer\" : 0,\"menus\" : {},\"messages\" : {},\"parent\" : \"F3A62027A90C14B2E64ADFBE598DCAB1F\",\"size\" : 5,\"title\" : \"{2,3}\",\"type\" : \"circle\",\"x\" : 0,\"y\" : 0},\"FE3F02797F57E4022DCE98F0FCF04CBA8\" : {\"callbacks\" : {},\"color\" : \"\",\"id\" : \"FE3F02797F57E4022DCE98F0FCF04CBA8\",\"layer\" : 0,\"menus\" : {},\"messages\" : {},\"parent\" : \"F366688A254054F9AFC43A6EA5008CAD2\",\"size\" : 5,\"title\" : \"{5,6,7,9}\",\"type\" : \"circle\",\"x\" : 0,\"y\" : 0},\"FEE444EE1F5F64CD1BC9BD25BD64986EE\" : {\"callbacks\" : {},\"color\" : \"\",\"id\" : \"FEE444EE1F5F64CD1BC9BD25BD64986EE\",\"layer\" : 0,\"menus\" : {},\"messages\" : {},\"parent\" : \"F893471BC9EC94849B42DB8268A9D1AB6\",\"size\" : 5,\"title\" : \"{4,5,11}\",\"type\" : \"circle\",\"x\" : 0,\"y\" : 0}},\"simulation\" : true,\"type\" : \"tree\"},\"height\" : 600,\"id\" : \"FBADFB1FBB15143125C5771BF1E49AAAC\",\"menus\" : {},\"messages\" : {},\"texTypesetting\" : true,\"title\" : \"Sons of a numerical semigroup\",\"width\" : 800,\"zoomToFit\" : true},\"mime\" : \"application\\/vnd.francy+json\",\"version\" : \"2.0.3\"}"
     },
     "execution_count": 3,
     "metadata": {
      "application/vnd.francy+json": {}
     },
     "output_type": "execute_result"
    }
   ],
   "source": [
    "DrawTreeOfSonsOfNumericalSemigroup(s,5,MinimalGenerators);"
   ]
  },
  {
   "cell_type": "code",
   "execution_count": null,
   "metadata": {},
   "outputs": [
    {
     "data": {
      "text/plain": [
       "<Numerical semigroup with 3 generators>"
      ]
     },
     "execution_count": 4,
     "metadata": {
      "text/plain": ""
     },
     "output_type": "execute_result"
    }
   ],
   "source": [
    "s:=NumericalSemigroup(4,6,9);"
   ]
  },
  {
   "cell_type": "markdown",
   "metadata": {},
   "source": [
    "## `DrawTreeOfGluingsOfNumericalSemigroup(s,expand...)`\n",
    "\n",
    "Draws the decomposition of `s` as a gluing of numerical semigroups, and then proceeds recursively with each of the factors. Decomposition is not unique, and this is why a tree is drawn. The optional argument `expand` may be true or false, and it makes the tree fully expandable or not."
   ]
  },
  {
   "cell_type": "code",
   "execution_count": null,
   "metadata": {},
   "outputs": [
    {
     "data": {
      "application/vnd.francy+json": "{\"canvas\" : {\"graph\" : {\"collapsed\" : false,\"id\" : \"F360FDB11B96046EC64EACF2FF9DF2819\",\"links\" : {},\"nodes\" : {\"F0B1E608E0B7844971C520DBC7A9E74A1\" : {\"callbacks\" : {},\"color\" : \"\",\"id\" : \"F0B1E608E0B7844971C520DBC7A9E74A1\",\"layer\" : 0,\"menus\" : {},\"messages\" : {},\"parent\" : \"FA78183C1D3CA418F3CC3C83037C3C6B8\",\"size\" : 1,\"title\" : \"〈4,6〉 + 〈9〉\",\"type\" : \"square\",\"x\" : 0,\"y\" : 0},\"F137DB56349C44C86349415D8DBC577B4\" : {\"callbacks\" : {},\"color\" : \"\",\"id\" : \"F137DB56349C44C86349415D8DBC577B4\",\"layer\" : 0,\"menus\" : {},\"messages\" : {},\"parent\" : \"FAE9D1BE0EA16438874B27FE539D34269\",\"size\" : 1,\"title\" : \"〈1〉\",\"type\" : \"circle\",\"x\" : 0,\"y\" : 0},\"F1B09C45784694781CC3D3E68AF1F5CFF\" : {\"callbacks\" : {},\"color\" : \"\",\"id\" : \"F1B09C45784694781CC3D3E68AF1F5CFF\",\"layer\" : 0,\"menus\" : {},\"messages\" : {},\"parent\" : \"F26572242DF2F43D9AC72DA4D57B7AA81\",\"size\" : 1,\"title\" : \"〈2〉 + 〈3〉\",\"type\" : \"square\",\"x\" : 0,\"y\" : 0},\"F26572242DF2F43D9AC72DA4D57B7AA81\" : {\"callbacks\" : {},\"color\" : \"\",\"id\" : \"F26572242DF2F43D9AC72DA4D57B7AA81\",\"layer\" : 0,\"menus\" : {},\"messages\" : {},\"parent\" : \"F8DCD5BBDED624AE18C514461B4AAEA75\",\"size\" : 1,\"title\" : \"〈2,3〉\",\"type\" : \"circle\",\"x\" : 0,\"y\" : 0},\"F4D178A036EF742C2BC6C055D9B907FB9\" : {\"callbacks\" : {},\"color\" : \"\",\"id\" : \"F4D178A036EF742C2BC6C055D9B907FB9\",\"layer\" : 0,\"menus\" : {},\"messages\" : {},\"parent\" : \"F0B1E608E0B7844971C520DBC7A9E74A1\",\"size\" : 1,\"title\" : \"〈2,3〉\",\"type\" : \"circle\",\"x\" : 0,\"y\" : 0},\"F6712D58088354743248E80CD0871AE9A\" : {\"callbacks\" : {},\"color\" : \"\",\"id\" : \"F6712D58088354743248E80CD0871AE9A\",\"layer\" : 0,\"menus\" : {},\"messages\" : {},\"parent\" : \"F0B1E608E0B7844971C520DBC7A9E74A1\",\"size\" : 1,\"title\" : \"〈1〉\",\"type\" : \"circle\",\"x\" : 0,\"y\" : 0},\"F70C0C02B07B84DB34C05ECEED45E49C0\" : {\"callbacks\" : {},\"color\" : \"\",\"id\" : \"F70C0C02B07B84DB34C05ECEED45E49C0\",\"layer\" : 0,\"menus\" : {},\"messages\" : {},\"parent\" : \"F8DCD5BBDED624AE18C514461B4AAEA75\",\"size\" : 1,\"title\" : \"〈1〉\",\"type\" : \"circle\",\"x\" : 0,\"y\" : 0},\"F858A0120C4444F10ECA4C280DCA35730\" : {\"callbacks\" : {},\"color\" : \"\",\"id\" : \"F858A0120C4444F10ECA4C280DCA35730\",\"layer\" : 0,\"menus\" : {},\"messages\" : {},\"parent\" : \"F1B09C45784694781CC3D3E68AF1F5CFF\",\"size\" : 1,\"title\" : \"〈1〉\",\"type\" : \"circle\",\"x\" : 0,\"y\" : 0},\"F8DCD5BBDED624AE18C514461B4AAEA75\" : {\"callbacks\" : {},\"color\" : \"\",\"id\" : \"F8DCD5BBDED624AE18C514461B4AAEA75\",\"layer\" : 0,\"menus\" : {},\"messages\" : {},\"parent\" : \"FA78183C1D3CA418F3CC3C83037C3C6B8\",\"size\" : 1,\"title\" : \"〈4〉 + 〈6,9〉\",\"type\" : \"square\",\"x\" : 0,\"y\" : 0},\"F972A7D3A2BD2428E84513487EA9965A8\" : {\"callbacks\" : {},\"color\" : \"\",\"id\" : \"F972A7D3A2BD2428E84513487EA9965A8\",\"layer\" : 0,\"menus\" : {},\"messages\" : {},\"parent\" : \"FAE9D1BE0EA16438874B27FE539D34269\",\"size\" : 1,\"title\" : \"〈1〉\",\"type\" : \"circle\",\"x\" : 0,\"y\" : 0},\"FA78183C1D3CA418F3CC3C83037C3C6B8\" : {\"callbacks\" : {},\"color\" : \"\",\"id\" : \"FA78183C1D3CA418F3CC3C83037C3C6B8\",\"layer\" : 0,\"menus\" : {},\"messages\" : {},\"parent\" : \"\",\"size\" : 1,\"title\" : \"〈4,6,9〉\",\"type\" : \"circle\",\"x\" : 0,\"y\" : 0},\"FAE9D1BE0EA16438874B27FE539D34269\" : {\"callbacks\" : {},\"color\" : \"\",\"id\" : \"FAE9D1BE0EA16438874B27FE539D34269\",\"layer\" : 0,\"menus\" : {},\"messages\" : {},\"parent\" : \"F4D178A036EF742C2BC6C055D9B907FB9\",\"size\" : 1,\"title\" : \"〈2〉 + 〈3〉\",\"type\" : \"square\",\"x\" : 0,\"y\" : 0},\"FD24388E504254B3ECC899D9748C5DE87\" : {\"callbacks\" : {},\"color\" : \"\",\"id\" : \"FD24388E504254B3ECC899D9748C5DE87\",\"layer\" : 0,\"menus\" : {},\"messages\" : {},\"parent\" : \"F1B09C45784694781CC3D3E68AF1F5CFF\",\"size\" : 1,\"title\" : \"〈1〉\",\"type\" : \"circle\",\"x\" : 0,\"y\" : 0}},\"simulation\" : true,\"type\" : \"tree\"},\"height\" : 600,\"id\" : \"F2ACDFEAF7704468DD44BC4CFBDA98CDD\",\"menus\" : {},\"messages\" : {},\"texTypesetting\" : true,\"title\" : \"Gluings of a numerical semigroup\",\"width\" : 800,\"zoomToFit\" : true},\"mime\" : \"application\\/vnd.francy+json\",\"version\" : \"2.0.3\"}"
     },
     "execution_count": 5,
     "metadata": {
      "application/vnd.francy+json": {}
     },
     "output_type": "execute_result"
    }
   ],
   "source": [
    "DrawTreeOfGluingsOfNumericalSemigroup(s,true);"
   ]
  },
  {
   "cell_type": "markdown",
   "metadata": {},
   "source": [
    "## Hasse Diagrams"
   ]
  },
  {
   "cell_type": "code",
   "execution_count": 6,
   "metadata": {},
   "outputs": [
    {
     "data": {
      "text/plain": [
       "<Numerical semigroup with 3 generators>"
      ]
     },
     "execution_count": 6,
     "metadata": {
      "text/plain": ""
     },
     "output_type": "execute_result"
    }
   ],
   "source": [
    "s:=NumericalSemigroup(3,5,7);"
   ]
  },
  {
   "cell_type": "markdown",
   "metadata": {},
   "source": [
    "## `DrawHasseDiagramOfNumericalSemigroup(s, A)`\n",
    "\n",
    "Draws the Hasse diagram of `A` (a set of integers) with respect to the ordering induced by `s`: $a\\preceq b$ if $b-a$ is in `s`."
   ]
  },
  {
   "cell_type": "code",
   "execution_count": null,
   "metadata": {},
   "outputs": [
    {
     "data": {
      "application/vnd.francy+json": "{\"canvas\" : {\"graph\" : {\"collapsed\" : true,\"id\" : \"FDF3C3C926F384025CC730F076C1FBC14\",\"links\" : {\"F08E51F92BCD04C7B2CF2E880A6BBD53A\" : {\"color\" : \"\",\"id\" : \"F08E51F92BCD04C7B2CF2E880A6BBD53A\",\"invisible\" : false,\"length\" : 0,\"source\" : \"FC3BF146966EC4D04DCF185F67B457960\",\"target\" : \"F7CE460F59FF34ABCCC0A2DA6C499EBE1\",\"weight\" : 0},\"F14016DD34B6544FCC49D2056591EE05D\" : {\"color\" : \"\",\"id\" : \"F14016DD34B6544FCC49D2056591EE05D\",\"invisible\" : false,\"length\" : 0,\"source\" : \"F04B841BB95E84A5014DCF7B2A0251FC3\",\"target\" : \"FC9F8E4D6C2AC4E1BCC02AF98B1B13AF8\",\"weight\" : 0},\"F1624BA34B25A435C041AF6D48DC4B05A\" : {\"color\" : \"\",\"id\" : \"F1624BA34B25A435C041AF6D48DC4B05A\",\"invisible\" : false,\"length\" : 0,\"source\" : \"FA79F838DC78B4AEBF4D14426FF5AF0F4\",\"target\" : \"F7CE460F59FF34ABCCC0A2DA6C499EBE1\",\"weight\" : 0},\"F24D256E999DD4F10B4AA77CB43F8C970\" : {\"color\" : \"\",\"id\" : \"F24D256E999DD4F10B4AA77CB43F8C970\",\"invisible\" : false,\"length\" : 0,\"source\" : \"FC7D8DD2542844CD584F39D6A21CEE2C7\",\"target\" : \"FC3BF146966EC4D04DCF185F67B457960\",\"weight\" : 0},\"F25646FAF2CD049E8BCF3C717AD009791\" : {\"color\" : \"\",\"id\" : \"F25646FAF2CD049E8BCF3C717AD009791\",\"invisible\" : false,\"length\" : 0,\"source\" : \"F4B6224E6E985455E6C182BA6BE9E14F8\",\"target\" : \"FFF716FCA2C214DC1DC6C7127F700805A\",\"weight\" : 0},\"F2BCA389AE5E74B703C862241C033D761\" : {\"color\" : \"\",\"id\" : \"F2BCA389AE5E74B703C862241C033D761\",\"invisible\" : false,\"length\" : 0,\"source\" : \"FA04511C0F9864CD49421236EAD4681D7\",\"target\" : \"FC7D8DD2542844CD584F39D6A21CEE2C7\",\"weight\" : 0},\"F2E04D2A449AB404484BE1DB2766E0E0A\" : {\"color\" : \"\",\"id\" : \"F2E04D2A449AB404484BE1DB2766E0E0A\",\"invisible\" : false,\"length\" : 0,\"source\" : \"F14734F04A2EC4D0174E3D02B7040ABE0\",\"target\" : \"FA04511C0F9864CD49421236EAD4681D7\",\"weight\" : 0},\"F337FAD46A9324E8E2C35D39A0F55328C\" : {\"color\" : \"\",\"id\" : \"F337FAD46A9324E8E2C35D39A0F55328C\",\"invisible\" : false,\"length\" : 0,\"source\" : \"FC7D8DD2542844CD584F39D6A21CEE2C7\",\"target\" : \"F3F10A2DC1ECE471C0CB1E7A1D6292133\",\"weight\" : 0},\"F385580564AD04AE4B45C1A31853FFE70\" : {\"color\" : \"\",\"id\" : \"F385580564AD04AE4B45C1A31853FFE70\",\"invisible\" : false,\"length\" : 0,\"source\" : \"F6BF6D40B218C4097549934EF617AE244\",\"target\" : \"F24860B81D2DE491BE4F5F9B4D4A07C7F\",\"weight\" : 0},\"F44A2C6E4244D44F27495B973576F964D\" : {\"color\" : \"\",\"id\" : \"F44A2C6E4244D44F27495B973576F964D\",\"invisible\" : false,\"length\" : 0,\"source\" : \"FA79F838DC78B4AEBF4D14426FF5AF0F4\",\"target\" : \"F04B841BB95E84A5014DCF7B2A0251FC3\",\"weight\" : 0},\"F483C58C84F764BA7ACE75701FDD9E22C\" : {\"color\" : \"\",\"id\" : \"F483C58C84F764BA7ACE75701FDD9E22C\",\"invisible\" : false,\"length\" : 0,\"source\" : \"FF2206DA17A2A442A9C27B0E5619816C4\",\"target\" : \"FA79F838DC78B4AEBF4D14426FF5AF0F4\",\"weight\" : 0},\"F49D53BC4B6634228A41F18F08AD2B33B\" : {\"color\" : \"\",\"id\" : \"F49D53BC4B6634228A41F18F08AD2B33B\",\"invisible\" : false,\"length\" : 0,\"source\" : \"FE051511DCE3D4A3A34FDD9BF5CDAD1E4\",\"target\" : \"FC3BF146966EC4D04DCF185F67B457960\",\"weight\" : 0},\"F4FAF4A4604454510DC6986ED4D05ABC6\" : {\"color\" : \"\",\"id\" : \"F4FAF4A4604454510DC6986ED4D05ABC6\",\"invisible\" : false,\"length\" : 0,\"source\" : \"F7CE460F59FF34ABCCC0A2DA6C499EBE1\",\"target\" : \"F1527ED48A5FA4803A4760D4A4ECD67A4\",\"weight\" : 0},\"F50C7CE8D8D244FD22CC449CAB3AD0367\" : {\"color\" : \"\",\"id\" : \"F50C7CE8D8D244FD22CC449CAB3AD0367\",\"invisible\" : false,\"length\" : 0,\"source\" : \"F04B841BB95E84A5014DCF7B2A0251FC3\",\"target\" : \"F1527ED48A5FA4803A4760D4A4ECD67A4\",\"weight\" : 0},\"F5627D2FD82124EB47460035A3D50A74A\" : {\"color\" : \"\",\"id\" : \"F5627D2FD82124EB47460035A3D50A74A\",\"invisible\" : false,\"length\" : 0,\"source\" : \"F7CE460F59FF34ABCCC0A2DA6C499EBE1\",\"target\" : \"FCDAA11DED07240C1F4429FBD27CD81D3\",\"weight\" : 0},\"F562A6F4EEB684370C4573A32DB918402\" : {\"color\" : \"\",\"id\" : \"F562A6F4EEB684370C4573A32DB918402\",\"invisible\" : false,\"length\" : 0,\"source\" : \"F14734F04A2EC4D0174E3D02B7040ABE0\",\"target\" : \"FA79F838DC78B4AEBF4D14426FF5AF0F4\",\"weight\" : 0},\"F5934678072AB4FE24C1E02260B3AEC51\" : {\"color\" : \"\",\"id\" : \"F5934678072AB4FE24C1E02260B3AEC51\",\"invisible\" : false,\"length\" : 0,\"source\" : \"F5CDD6C14340F4CE52CB819785F23B0BB\",\"target\" : \"FC7D8DD2542844CD584F39D6A21CEE2C7\",\"weight\" : 0},\"F5B0F5DB65B16433ABCEF66241E15AE7D\" : {\"color\" : \"\",\"id\" : \"F5B0F5DB65B16433ABCEF66241E15AE7D\",\"invisible\" : false,\"length\" : 0,\"source\" : \"F6BF6D40B218C4097549934EF617AE244\",\"target\" : \"F3F10A2DC1ECE471C0CB1E7A1D6292133\",\"weight\" : 0},\"F657BF0E427734E064C54185308D62173\" : {\"color\" : \"\",\"id\" : \"F657BF0E427734E064C54185308D62173\",\"invisible\" : false,\"length\" : 0,\"source\" : \"F4B6224E6E985455E6C182BA6BE9E14F8\",\"target\" : \"F04B841BB95E84A5014DCF7B2A0251FC3\",\"weight\" : 0},\"F6E830FE3BA81486EBC7520C337511CD6\" : {\"color\" : \"\",\"id\" : \"F6E830FE3BA81486EBC7520C337511CD6\",\"invisible\" : false,\"length\" : 0,\"source\" : \"F5CDD6C14340F4CE52CB819785F23B0BB\",\"target\" : \"F6BF6D40B218C4097549934EF617AE244\",\"weight\" : 0},\"F73BA8F0160C048B6EC43BD311F163595\" : {\"color\" : \"\",\"id\" : \"F73BA8F0160C048B6EC43BD311F163595\",\"invisible\" : false,\"length\" : 0,\"source\" : \"F14734F04A2EC4D0174E3D02B7040ABE0\",\"target\" : \"F4B6224E6E985455E6C182BA6BE9E14F8\",\"weight\" : 0},\"F8711BDBBA2A64A6534C462C55F3154AC\" : {\"color\" : \"\",\"id\" : \"F8711BDBBA2A64A6534C462C55F3154AC\",\"invisible\" : false,\"length\" : 0,\"source\" : \"F04B841BB95E84A5014DCF7B2A0251FC3\",\"target\" : \"FCDAA11DED07240C1F4429FBD27CD81D3\",\"weight\" : 0},\"F8987EB361DA64586C40E112150E13098\" : {\"color\" : \"\",\"id\" : \"F8987EB361DA64586C40E112150E13098\",\"invisible\" : false,\"length\" : 0,\"source\" : \"FF2206DA17A2A442A9C27B0E5619816C4\",\"target\" : \"F24860B81D2DE491BE4F5F9B4D4A07C7F\",\"weight\" : 0},\"F8A99C016EFFC4981F42448D9DBB9D09C\" : {\"color\" : \"\",\"id\" : \"F8A99C016EFFC4981F42448D9DBB9D09C\",\"invisible\" : false,\"length\" : 0,\"source\" : \"F4B6224E6E985455E6C182BA6BE9E14F8\",\"target\" : \"FC7D8DD2542844CD584F39D6A21CEE2C7\",\"weight\" : 0},\"F8CDA665D2B21412454EF5554411A76C4\" : {\"color\" : \"\",\"id\" : \"F8CDA665D2B21412454EF5554411A76C4\",\"invisible\" : false,\"length\" : 0,\"source\" : \"FEAA418A30A99453F84DD6D8EDCA03B7D\",\"target\" : \"F1527ED48A5FA4803A4760D4A4ECD67A4\",\"weight\" : 0},\"F936E20B004D54A3D0C08E853E35C38A4\" : {\"color\" : \"\",\"id\" : \"F936E20B004D54A3D0C08E853E35C38A4\",\"invisible\" : false,\"length\" : 0,\"source\" : \"F5CDD6C14340F4CE52CB819785F23B0BB\",\"target\" : \"FE051511DCE3D4A3A34FDD9BF5CDAD1E4\",\"weight\" : 0},\"F98293EC29FB54AD84C22F9063B8C0533\" : {\"color\" : \"\",\"id\" : \"F98293EC29FB54AD84C22F9063B8C0533\",\"invisible\" : false,\"length\" : 0,\"source\" : \"FC3BF146966EC4D04DCF185F67B457960\",\"target\" : \"F5EFEB101EAFA4AD5BC6729B00FB31224\",\"weight\" : 0},\"F9D274B33209A43CDD496AC84A6DDABFB\" : {\"color\" : \"\",\"id\" : \"F9D274B33209A43CDD496AC84A6DDABFB\",\"invisible\" : false,\"length\" : 0,\"source\" : \"FA79F838DC78B4AEBF4D14426FF5AF0F4\",\"target\" : \"FFF716FCA2C214DC1DC6C7127F700805A\",\"weight\" : 0},\"FA4DEA8F633A6450E94691B5A644BBAB8\" : {\"color\" : \"\",\"id\" : \"FA4DEA8F633A6450E94691B5A644BBAB8\",\"invisible\" : false,\"length\" : 0,\"source\" : \"FFF716FCA2C214DC1DC6C7127F700805A\",\"target\" : \"F3F10A2DC1ECE471C0CB1E7A1D6292133\",\"weight\" : 0},\"FA927E80CEE7A424B2422AFBA0F2555D8\" : {\"color\" : \"\",\"id\" : \"FA927E80CEE7A424B2422AFBA0F2555D8\",\"invisible\" : false,\"length\" : 0,\"source\" : \"FA04511C0F9864CD49421236EAD4681D7\",\"target\" : \"F6BF6D40B218C4097549934EF617AE244\",\"weight\" : 0},\"FB3F7928D27E44FE40C90D88D468CC481\" : {\"color\" : \"\",\"id\" : \"FB3F7928D27E44FE40C90D88D468CC481\",\"invisible\" : false,\"length\" : 0,\"source\" : \"F24860B81D2DE491BE4F5F9B4D4A07C7F\",\"target\" : \"FEAA418A30A99453F84DD6D8EDCA03B7D\",\"weight\" : 0},\"FB4034B434D55478FDCB0F67DDDF27F68\" : {\"color\" : \"\",\"id\" : \"FB4034B434D55478FDCB0F67DDDF27F68\",\"invisible\" : false,\"length\" : 0,\"source\" : \"FA04511C0F9864CD49421236EAD4681D7\",\"target\" : \"FFF716FCA2C214DC1DC6C7127F700805A\",\"weight\" : 0},\"FB479E00AD857461C3492CD2E9AC17C3B\" : {\"color\" : \"\",\"id\" : \"FB479E00AD857461C3492CD2E9AC17C3B\",\"invisible\" : false,\"length\" : 0,\"source\" : \"FE051511DCE3D4A3A34FDD9BF5CDAD1E4\",\"target\" : \"FA79F838DC78B4AEBF4D14426FF5AF0F4\",\"weight\" : 0},\"FB9BE3EF1E8D64F674C931CF738FD9F96\" : {\"color\" : \"\",\"id\" : \"FB9BE3EF1E8D64F674C931CF738FD9F96\",\"invisible\" : false,\"length\" : 0,\"source\" : \"FFF716FCA2C214DC1DC6C7127F700805A\",\"target\" : \"FC9F8E4D6C2AC4E1BCC02AF98B1B13AF8\",\"weight\" : 0},\"FC6F50468BB554826CCBAA39771237E2F\" : {\"color\" : \"\",\"id\" : \"FC6F50468BB554826CCBAA39771237E2F\",\"invisible\" : false,\"length\" : 0,\"source\" : \"FC3BF146966EC4D04DCF185F67B457960\",\"target\" : \"FEAA418A30A99453F84DD6D8EDCA03B7D\",\"weight\" : 0},\"FCA0B0AA62F1B4E291C81B89B4C8E2DD5\" : {\"color\" : \"\",\"id\" : \"FCA0B0AA62F1B4E291C81B89B4C8E2DD5\",\"invisible\" : false,\"length\" : 0,\"source\" : \"FC7D8DD2542844CD584F39D6A21CEE2C7\",\"target\" : \"FC9F8E4D6C2AC4E1BCC02AF98B1B13AF8\",\"weight\" : 0},\"FCA5F0FB4D74A4D976414C18490B400CF\" : {\"color\" : \"\",\"id\" : \"FCA5F0FB4D74A4D976414C18490B400CF\",\"invisible\" : false,\"length\" : 0,\"source\" : \"FC9F8E4D6C2AC4E1BCC02AF98B1B13AF8\",\"target\" : \"F5EFEB101EAFA4AD5BC6729B00FB31224\",\"weight\" : 0},\"FD10B11D52F2C40C5540A152191D7F32D\" : {\"color\" : \"\",\"id\" : \"FD10B11D52F2C40C5540A152191D7F32D\",\"invisible\" : false,\"length\" : 0,\"source\" : \"F3F10A2DC1ECE471C0CB1E7A1D6292133\",\"target\" : \"FEAA418A30A99453F84DD6D8EDCA03B7D\",\"weight\" : 0},\"FD3D02DA23FB04835D4982E75DD752FAB\" : {\"color\" : \"\",\"id\" : \"FD3D02DA23FB04835D4982E75DD752FAB\",\"invisible\" : false,\"length\" : 0,\"source\" : \"FE051511DCE3D4A3A34FDD9BF5CDAD1E4\",\"target\" : \"F24860B81D2DE491BE4F5F9B4D4A07C7F\",\"weight\" : 0},\"FE56D3640EBDB4A4C8C6140D8147B109B\" : {\"color\" : \"\",\"id\" : \"FE56D3640EBDB4A4C8C6140D8147B109B\",\"invisible\" : false,\"length\" : 0,\"source\" : \"FFF716FCA2C214DC1DC6C7127F700805A\",\"target\" : \"FCDAA11DED07240C1F4429FBD27CD81D3\",\"weight\" : 0},\"FE8CE86EAA1EB4A063481C01F4687D755\" : {\"color\" : \"\",\"id\" : \"FE8CE86EAA1EB4A063481C01F4687D755\",\"invisible\" : false,\"length\" : 0,\"source\" : \"FF2206DA17A2A442A9C27B0E5619816C4\",\"target\" : \"F4B6224E6E985455E6C182BA6BE9E14F8\",\"weight\" : 0},\"FEB46B2AD34B342CD4C95AAA1C78530F6\" : {\"color\" : \"\",\"id\" : \"FEB46B2AD34B342CD4C95AAA1C78530F6\",\"invisible\" : false,\"length\" : 0,\"source\" : \"F24860B81D2DE491BE4F5F9B4D4A07C7F\",\"target\" : \"F04B841BB95E84A5014DCF7B2A0251FC3\",\"weight\" : 0},\"FF151E849EF1240EC1C406B98F589C16A\" : {\"color\" : \"\",\"id\" : \"FF151E849EF1240EC1C406B98F589C16A\",\"invisible\" : false,\"length\" : 0,\"source\" : \"F6BF6D40B218C4097549934EF617AE244\",\"target\" : \"FC3BF146966EC4D04DCF185F67B457960\",\"weight\" : 0},\"FFD0D1F5EC6A9444CDC6B143E7E342BF3\" : {\"color\" : \"\",\"id\" : \"FFD0D1F5EC6A9444CDC6B143E7E342BF3\",\"invisible\" : false,\"length\" : 0,\"source\" : \"F3F10A2DC1ECE471C0CB1E7A1D6292133\",\"target\" : \"F5EFEB101EAFA4AD5BC6729B00FB31224\",\"weight\" : 0},\"FFEFB98E3BCCB418BA458ECBB0CCA925C\" : {\"color\" : \"\",\"id\" : \"FFEFB98E3BCCB418BA458ECBB0CCA925C\",\"invisible\" : false,\"length\" : 0,\"source\" : \"F24860B81D2DE491BE4F5F9B4D4A07C7F\",\"target\" : \"F7CE460F59FF34ABCCC0A2DA6C499EBE1\",\"weight\" : 0}},\"nodes\" : {\"F04B841BB95E84A5014DCF7B2A0251FC3\" : {\"callbacks\" : {\"FB44F8E272E49437FD43BFC7AC2524DF4\" : {\"func\" : \"unknown\",\"id\" : \"FB44F8E272E49437FD43BFC7AC2524DF4\",\"knownArgs\" : [\"13\"],\"requiredArgs\" : {},\"trigger\" : \"click\"}},\"color\" : \"\",\"id\" : \"F04B841BB95E84A5014DCF7B2A0251FC3\",\"layer\" : -4,\"menus\" : {},\"messages\" : {},\"parent\" : \"\",\"size\" : 10,\"title\" : \"13\",\"type\" : \"circle\",\"x\" : 0,\"y\" : 0},\"F14734F04A2EC4D0174E3D02B7040ABE0\" : {\"callbacks\" : {\"F0CEC88E53D9F4AD9243579FC2E221BF2\" : {\"func\" : \"unknown\",\"id\" : \"F0CEC88E53D9F4AD9243579FC2E221BF2\",\"knownArgs\" : [\"1\"],\"requiredArgs\" : {},\"trigger\" : \"click\"}},\"color\" : \"\",\"id\" : \"F14734F04A2EC4D0174E3D02B7040ABE0\",\"layer\" : 0,\"menus\" : {},\"messages\" : {},\"parent\" : \"\",\"size\" : 10,\"title\" : \"1\",\"type\" : \"circle\",\"x\" : 0,\"y\" : 0},\"F1527ED48A5FA4803A4760D4A4ECD67A4\" : {\"callbacks\" : {\"F40168CEA92334FC0148D276E79DE5B4B\" : {\"func\" : \"unknown\",\"id\" : \"F40168CEA92334FC0148D276E79DE5B4B\",\"knownArgs\" : [\"20\"],\"requiredArgs\" : {},\"trigger\" : \"click\"}},\"color\" : \"\",\"id\" : \"F1527ED48A5FA4803A4760D4A4ECD67A4\",\"layer\" : -6,\"menus\" : {},\"messages\" : {},\"parent\" : \"\",\"size\" : 10,\"title\" : \"20\",\"type\" : \"circle\",\"x\" : 0,\"y\" : 0},\"F24860B81D2DE491BE4F5F9B4D4A07C7F\" : {\"callbacks\" : {\"FB4A5CE0FD8C84773440706490F3EEAA6\" : {\"func\" : \"unknown\",\"id\" : \"FB4A5CE0FD8C84773440706490F3EEAA6\",\"knownArgs\" : [\"10\"],\"requiredArgs\" : {},\"trigger\" : \"click\"}},\"color\" : \"\",\"id\" : \"F24860B81D2DE491BE4F5F9B4D4A07C7F\",\"layer\" : -3,\"menus\" : {},\"messages\" : {},\"parent\" : \"\",\"size\" : 10,\"title\" : \"10\",\"type\" : \"circle\",\"x\" : 0,\"y\" : 0},\"F3F10A2DC1ECE471C0CB1E7A1D6292133\" : {\"callbacks\" : {\"F32F85A285C36492DF41341B206CF469A\" : {\"func\" : \"unknown\",\"id\" : \"F32F85A285C36492DF41341B206CF469A\",\"knownArgs\" : [\"14\"],\"requiredArgs\" : {},\"trigger\" : \"click\"}},\"color\" : \"\",\"id\" : \"F3F10A2DC1ECE471C0CB1E7A1D6292133\",\"layer\" : -4,\"menus\" : {},\"messages\" : {},\"parent\" : \"\",\"size\" : 10,\"title\" : \"14\",\"type\" : \"circle\",\"x\" : 0,\"y\" : 0},\"F4B6224E6E985455E6C182BA6BE9E14F8\" : {\"callbacks\" : {\"F16B6D4BBBDE549606C32412BD5FCAAC8\" : {\"func\" : \"unknown\",\"id\" : \"F16B6D4BBBDE549606C32412BD5FCAAC8\",\"knownArgs\" : [\"6\"],\"requiredArgs\" : {},\"trigger\" : \"click\"}},\"color\" : \"\",\"id\" : \"F4B6224E6E985455E6C182BA6BE9E14F8\",\"layer\" : -1,\"menus\" : {},\"messages\" : {},\"parent\" : \"\",\"size\" : 10,\"title\" : \"6\",\"type\" : \"circle\",\"x\" : 0,\"y\" : 0},\"F5CDD6C14340F4CE52CB819785F23B0BB\" : {\"callbacks\" : {\"F395B367C2F9243410CB0A7E8BCCF58D6\" : {\"func\" : \"unknown\",\"id\" : \"F395B367C2F9243410CB0A7E8BCCF58D6\",\"knownArgs\" : [\"2\"],\"requiredArgs\" : {},\"trigger\" : \"click\"}},\"color\" : \"\",\"id\" : \"F5CDD6C14340F4CE52CB819785F23B0BB\",\"layer\" : 0,\"menus\" : {},\"messages\" : {},\"parent\" : \"\",\"size\" : 10,\"title\" : \"2\",\"type\" : \"circle\",\"x\" : 0,\"y\" : 0},\"F5EFEB101EAFA4AD5BC6729B00FB31224\" : {\"callbacks\" : {\"FEA332E0097E749D3243339D7D5184871\" : {\"func\" : \"unknown\",\"id\" : \"FEA332E0097E749D3243339D7D5184871\",\"knownArgs\" : [\"19\"],\"requiredArgs\" : {},\"trigger\" : \"click\"}},\"color\" : \"\",\"id\" : \"F5EFEB101EAFA4AD5BC6729B00FB31224\",\"layer\" : -6,\"menus\" : {},\"messages\" : {},\"parent\" : \"\",\"size\" : 10,\"title\" : \"19\",\"type\" : \"circle\",\"x\" : 0,\"y\" : 0},\"F6BF6D40B218C4097549934EF617AE244\" : {\"callbacks\" : {\"F0534FB53BDD644774C20549B32BA5956\" : {\"func\" : \"unknown\",\"id\" : \"F0534FB53BDD644774C20549B32BA5956\",\"knownArgs\" : [\"7\"],\"requiredArgs\" : {},\"trigger\" : \"click\"}},\"color\" : \"\",\"id\" : \"F6BF6D40B218C4097549934EF617AE244\",\"layer\" : -2,\"menus\" : {},\"messages\" : {},\"parent\" : \"\",\"size\" : 10,\"title\" : \"7\",\"type\" : \"circle\",\"x\" : 0,\"y\" : 0},\"F7CE460F59FF34ABCCC0A2DA6C499EBE1\" : {\"callbacks\" : {\"F6FFD0DC6D901452F0C4BDBFB98CC8EA4\" : {\"func\" : \"unknown\",\"id\" : \"F6FFD0DC6D901452F0C4BDBFB98CC8EA4\",\"knownArgs\" : [\"15\"],\"requiredArgs\" : {},\"trigger\" : \"click\"}},\"color\" : \"\",\"id\" : \"F7CE460F59FF34ABCCC0A2DA6C499EBE1\",\"layer\" : -4,\"menus\" : {},\"messages\" : {},\"parent\" : \"\",\"size\" : 10,\"title\" : \"15\",\"type\" : \"circle\",\"x\" : 0,\"y\" : 0},\"FA04511C0F9864CD49421236EAD4681D7\" : {\"callbacks\" : {\"FE06BCD46747840705407AA26AB9BA35A\" : {\"func\" : \"unknown\",\"id\" : \"FE06BCD46747840705407AA26AB9BA35A\",\"knownArgs\" : [\"4\"],\"requiredArgs\" : {},\"trigger\" : \"click\"}},\"color\" : \"\",\"id\" : \"FA04511C0F9864CD49421236EAD4681D7\",\"layer\" : -1,\"menus\" : {},\"messages\" : {},\"parent\" : \"\",\"size\" : 10,\"title\" : \"4\",\"type\" : \"circle\",\"x\" : 0,\"y\" : 0},\"FA79F838DC78B4AEBF4D14426FF5AF0F4\" : {\"callbacks\" : {\"FFE870E8FBCFD498C64744438F77AB719\" : {\"func\" : \"unknown\",\"id\" : \"FFE870E8FBCFD498C64744438F77AB719\",\"knownArgs\" : [\"8\"],\"requiredArgs\" : {},\"trigger\" : \"click\"}},\"color\" : \"\",\"id\" : \"FA79F838DC78B4AEBF4D14426FF5AF0F4\",\"layer\" : -2,\"menus\" : {},\"messages\" : {},\"parent\" : \"\",\"size\" : 10,\"title\" : \"8\",\"type\" : \"circle\",\"x\" : 0,\"y\" : 0},\"FC3BF146966EC4D04DCF185F67B457960\" : {\"callbacks\" : {\"FB2EF5C7DE1814CEC9CE0BD93A05AE5A9\" : {\"func\" : \"unknown\",\"id\" : \"FB2EF5C7DE1814CEC9CE0BD93A05AE5A9\",\"knownArgs\" : [\"12\"],\"requiredArgs\" : {},\"trigger\" : \"click\"}},\"color\" : \"\",\"id\" : \"FC3BF146966EC4D04DCF185F67B457960\",\"layer\" : -3,\"menus\" : {},\"messages\" : {},\"parent\" : \"\",\"size\" : 10,\"title\" : \"12\",\"type\" : \"circle\",\"x\" : 0,\"y\" : 0},\"FC7D8DD2542844CD584F39D6A21CEE2C7\" : {\"callbacks\" : {\"FCF8B9FDB01264AD5446BBEFB8133E0D1\" : {\"func\" : \"unknown\",\"id\" : \"FCF8B9FDB01264AD5446BBEFB8133E0D1\",\"knownArgs\" : [\"9\"],\"requiredArgs\" : {},\"trigger\" : \"click\"}},\"color\" : \"\",\"id\" : \"FC7D8DD2542844CD584F39D6A21CEE2C7\",\"layer\" : -2,\"menus\" : {},\"messages\" : {},\"parent\" : \"\",\"size\" : 10,\"title\" : \"9\",\"type\" : \"circle\",\"x\" : 0,\"y\" : 0},\"FC9F8E4D6C2AC4E1BCC02AF98B1B13AF8\" : {\"callbacks\" : {\"F6B0D2D96936A4F02940D4BE2F53D08CF\" : {\"func\" : \"unknown\",\"id\" : \"F6B0D2D96936A4F02940D4BE2F53D08CF\",\"knownArgs\" : [\"16\"],\"requiredArgs\" : {},\"trigger\" : \"click\"}},\"color\" : \"\",\"id\" : \"FC9F8E4D6C2AC4E1BCC02AF98B1B13AF8\",\"layer\" : -5,\"menus\" : {},\"messages\" : {},\"parent\" : \"\",\"size\" : 10,\"title\" : \"16\",\"type\" : \"circle\",\"x\" : 0,\"y\" : 0},\"FCDAA11DED07240C1F4429FBD27CD81D3\" : {\"callbacks\" : {\"FB044BBE020E04383F4C5C95C677AC07D\" : {\"func\" : \"unknown\",\"id\" : \"FB044BBE020E04383F4C5C95C677AC07D\",\"knownArgs\" : [\"18\"],\"requiredArgs\" : {},\"trigger\" : \"click\"}},\"color\" : \"\",\"id\" : \"FCDAA11DED07240C1F4429FBD27CD81D3\",\"layer\" : -5,\"menus\" : {},\"messages\" : {},\"parent\" : \"\",\"size\" : 10,\"title\" : \"18\",\"type\" : \"circle\",\"x\" : 0,\"y\" : 0},\"FE051511DCE3D4A3A34FDD9BF5CDAD1E4\" : {\"callbacks\" : {\"FF220FEE8575C43BDFC303D047B8FC287\" : {\"func\" : \"unknown\",\"id\" : \"FF220FEE8575C43BDFC303D047B8FC287\",\"knownArgs\" : [\"5\"],\"requiredArgs\" : {},\"trigger\" : \"click\"}},\"color\" : \"\",\"id\" : \"FE051511DCE3D4A3A34FDD9BF5CDAD1E4\",\"layer\" : -1,\"menus\" : {},\"messages\" : {},\"parent\" : \"\",\"size\" : 10,\"title\" : \"5\",\"type\" : \"circle\",\"x\" : 0,\"y\" : 0},\"FEAA418A30A99453F84DD6D8EDCA03B7D\" : {\"callbacks\" : {\"FCB30C5C48EDD45D744A771BD4CA25AD1\" : {\"func\" : \"unknown\",\"id\" : \"FCB30C5C48EDD45D744A771BD4CA25AD1\",\"knownArgs\" : [\"17\"],\"requiredArgs\" : {},\"trigger\" : \"click\"}},\"color\" : \"\",\"id\" : \"FEAA418A30A99453F84DD6D8EDCA03B7D\",\"layer\" : -5,\"menus\" : {},\"messages\" : {},\"parent\" : \"\",\"size\" : 10,\"title\" : \"17\",\"type\" : \"circle\",\"x\" : 0,\"y\" : 0},\"FF2206DA17A2A442A9C27B0E5619816C4\" : {\"callbacks\" : {\"F12B892EB1F6944BD1CB9AEEA3E2DC31B\" : {\"func\" : \"unknown\",\"id\" : \"F12B892EB1F6944BD1CB9AEEA3E2DC31B\",\"knownArgs\" : [\"3\"],\"requiredArgs\" : {},\"trigger\" : \"click\"}},\"color\" : \"\",\"id\" : \"FF2206DA17A2A442A9C27B0E5619816C4\",\"layer\" : 0,\"menus\" : {},\"messages\" : {},\"parent\" : \"\",\"size\" : 10,\"title\" : \"3\",\"type\" : \"circle\",\"x\" : 0,\"y\" : 0},\"FFF716FCA2C214DC1DC6C7127F700805A\" : {\"callbacks\" : {\"FB6420EDE3EBF43D84C022594ED685445\" : {\"func\" : \"unknown\",\"id\" : \"FB6420EDE3EBF43D84C022594ED685445\",\"knownArgs\" : [\"11\"],\"requiredArgs\" : {},\"trigger\" : \"click\"}},\"color\" : \"\",\"id\" : \"FFF716FCA2C214DC1DC6C7127F700805A\",\"layer\" : -3,\"menus\" : {},\"messages\" : {},\"parent\" : \"\",\"size\" : 10,\"title\" : \"11\",\"type\" : \"circle\",\"x\" : 0,\"y\" : 0}},\"simulation\" : true,\"type\" : \"directed\"},\"height\" : 600,\"id\" : \"FCEA3C6EE6E944BF42CFBFB2D0D5B78C3\",\"menus\" : {},\"messages\" : {},\"texTypesetting\" : true,\"title\" : \"Hasse diagram of numerical semigroup\",\"width\" : 800,\"zoomToFit\" : true},\"mime\" : \"application\\/vnd.francy+json\",\"version\" : \"2.0.3\"}"
     },
     "execution_count": 7,
     "metadata": {
      "application/vnd.francy+json": {}
     },
     "output_type": "execute_result"
    }
   ],
   "source": [
    "DrawHasseDiagramOfNumericalSemigroup(s,[1..20]);"
   ]
  },
  {
   "cell_type": "markdown",
   "metadata": {},
   "source": [
    "Of special interest is the Hasse diagram of an Apéry set or of the Betti elements."
   ]
  },
  {
   "cell_type": "code",
   "execution_count": null,
   "metadata": {},
   "outputs": [
    {
     "data": {
      "text/plain": [
       "<Numerical semigroup with 4 generators>"
      ]
     },
     "execution_count": 8,
     "metadata": {
      "text/plain": ""
     },
     "output_type": "execute_result"
    },
    {
     "data": {
      "application/vnd.francy+json": "{\"canvas\" : {\"graph\" : {\"collapsed\" : true,\"id\" : \"FA0509657BF8046272416B73979C67B1D\",\"links\" : {\"F09036891D814499EA414CFB2421DBA63\" : {\"color\" : \"\",\"id\" : \"F09036891D814499EA414CFB2421DBA63\",\"invisible\" : false,\"length\" : 0,\"source\" : \"F2E1A3496EC9C4E631C8627312B982900\",\"target\" : \"FA4BC1F0013494DD69C1F36E220BBC114\",\"weight\" : 0},\"F0F07C3E7BDFA4B877CB27500E79954DE\" : {\"color\" : \"\",\"id\" : \"F0F07C3E7BDFA4B877CB27500E79954DE\",\"invisible\" : false,\"length\" : 0,\"source\" : \"FCF2B8E13B6134293640008C52AB94F6A\",\"target\" : \"F70320DD9A523491D9CA455CD68E56446\",\"weight\" : 0},\"F110EEE288C46455E8C12F219D25B06CE\" : {\"color\" : \"\",\"id\" : \"F110EEE288C46455E8C12F219D25B06CE\",\"invisible\" : false,\"length\" : 0,\"source\" : \"F156883B221B04A6084C09DF2261B0F7B\",\"target\" : \"F70320DD9A523491D9CA455CD68E56446\",\"weight\" : 0},\"F1CC7A9ABDC0B4039DC1D84A933872F1C\" : {\"color\" : \"\",\"id\" : \"F1CC7A9ABDC0B4039DC1D84A933872F1C\",\"invisible\" : false,\"length\" : 0,\"source\" : \"F092BF8CFE6824312D46B18D5283C070D\",\"target\" : \"FCF2B8E13B6134293640008C52AB94F6A\",\"weight\" : 0},\"F2B93321C581A4FB7046137C8DFA125E3\" : {\"color\" : \"\",\"id\" : \"F2B93321C581A4FB7046137C8DFA125E3\",\"invisible\" : false,\"length\" : 0,\"source\" : \"F85FA145E6A4B4EDDF43A535EC30AA26D\",\"target\" : \"FA4BC1F0013494DD69C1F36E220BBC114\",\"weight\" : 0},\"F33D166091CB647C4CC2BD52D64938CFE\" : {\"color\" : \"\",\"id\" : \"F33D166091CB647C4CC2BD52D64938CFE\",\"invisible\" : false,\"length\" : 0,\"source\" : \"F092BF8CFE6824312D46B18D5283C070D\",\"target\" : \"F85FA145E6A4B4EDDF43A535EC30AA26D\",\"weight\" : 0},\"F3E47FFF9271A4319D48F83F6FB58A54E\" : {\"color\" : \"\",\"id\" : \"F3E47FFF9271A4319D48F83F6FB58A54E\",\"invisible\" : false,\"length\" : 0,\"source\" : \"F85FA145E6A4B4EDDF43A535EC30AA26D\",\"target\" : \"F70320DD9A523491D9CA455CD68E56446\",\"weight\" : 0},\"F4A2BA0AF7CC2464894BA54A7A1D65CAB\" : {\"color\" : \"\",\"id\" : \"F4A2BA0AF7CC2464894BA54A7A1D65CAB\",\"invisible\" : false,\"length\" : 0,\"source\" : \"FCF2B8E13B6134293640008C52AB94F6A\",\"target\" : \"FA4BC1F0013494DD69C1F36E220BBC114\",\"weight\" : 0},\"F51748C91491C48F054452C784CC1B07A\" : {\"color\" : \"\",\"id\" : \"F51748C91491C48F054452C784CC1B07A\",\"invisible\" : false,\"length\" : 0,\"source\" : \"FA4BC1F0013494DD69C1F36E220BBC114\",\"target\" : \"F8401EC6AD970422D9C2BB473F9B3BA1B\",\"weight\" : 0},\"F5F9BDF43EB104E56DC517038F1CFEE06\" : {\"color\" : \"\",\"id\" : \"F5F9BDF43EB104E56DC517038F1CFEE06\",\"invisible\" : false,\"length\" : 0,\"source\" : \"FCF2B8E13B6134293640008C52AB94F6A\",\"target\" : \"FB08E8CB8A4224EC52428D6D7E487552B\",\"weight\" : 0},\"F7E5A6BE17F8A4EF0CCFAC644DB6C975E\" : {\"color\" : \"\",\"id\" : \"F7E5A6BE17F8A4EF0CCFAC644DB6C975E\",\"invisible\" : false,\"length\" : 0,\"source\" : \"FCF2B8E13B6134293640008C52AB94F6A\",\"target\" : \"F26D7C394901D4A243C96D3A27A0D9E50\",\"weight\" : 0},\"F81B9D918765C4CCD44F4935D77D27AAF\" : {\"color\" : \"\",\"id\" : \"F81B9D918765C4CCD44F4935D77D27AAF\",\"invisible\" : false,\"length\" : 0,\"source\" : \"F70320DD9A523491D9CA455CD68E56446\",\"target\" : \"F8401EC6AD970422D9C2BB473F9B3BA1B\",\"weight\" : 0},\"F853959B08BF04E740CA9F4A47A8FD928\" : {\"color\" : \"\",\"id\" : \"F853959B08BF04E740CA9F4A47A8FD928\",\"invisible\" : false,\"length\" : 0,\"source\" : \"F156883B221B04A6084C09DF2261B0F7B\",\"target\" : \"F26D7C394901D4A243C96D3A27A0D9E50\",\"weight\" : 0},\"F9842A2E3F33D40D7CC9E3C53BD09C113\" : {\"color\" : \"\",\"id\" : \"F9842A2E3F33D40D7CC9E3C53BD09C113\",\"invisible\" : false,\"length\" : 0,\"source\" : \"F092BF8CFE6824312D46B18D5283C070D\",\"target\" : \"F2E1A3496EC9C4E631C8627312B982900\",\"weight\" : 0},\"FA15B5B4382A84A1794C60856939A771D\" : {\"color\" : \"\",\"id\" : \"FA15B5B4382A84A1794C60856939A771D\",\"invisible\" : false,\"length\" : 0,\"source\" : \"FB08E8CB8A4224EC52428D6D7E487552B\",\"target\" : \"F8401EC6AD970422D9C2BB473F9B3BA1B\",\"weight\" : 0},\"FB1EB98958CE64386F434F2716C2822B0\" : {\"color\" : \"\",\"id\" : \"FB1EB98958CE64386F434F2716C2822B0\",\"invisible\" : false,\"length\" : 0,\"source\" : \"F26D7C394901D4A243C96D3A27A0D9E50\",\"target\" : \"F8401EC6AD970422D9C2BB473F9B3BA1B\",\"weight\" : 0},\"FBB4C5D238A794B74CC82EF892374DF55\" : {\"color\" : \"\",\"id\" : \"FBB4C5D238A794B74CC82EF892374DF55\",\"invisible\" : false,\"length\" : 0,\"source\" : \"F156883B221B04A6084C09DF2261B0F7B\",\"target\" : \"FB08E8CB8A4224EC52428D6D7E487552B\",\"weight\" : 0},\"FC35704E57C074EA2ECC855F305559522\" : {\"color\" : \"\",\"id\" : \"FC35704E57C074EA2ECC855F305559522\",\"invisible\" : false,\"length\" : 0,\"source\" : \"F2E1A3496EC9C4E631C8627312B982900\",\"target\" : \"F70320DD9A523491D9CA455CD68E56446\",\"weight\" : 0},\"FF6250A0A3A7F48496C8FA2DE914E959B\" : {\"color\" : \"\",\"id\" : \"FF6250A0A3A7F48496C8FA2DE914E959B\",\"invisible\" : false,\"length\" : 0,\"source\" : \"F092BF8CFE6824312D46B18D5283C070D\",\"target\" : \"F156883B221B04A6084C09DF2261B0F7B\",\"weight\" : 0},\"FFC078C693EE940B5B4FD97153BB06EFF\" : {\"color\" : \"\",\"id\" : \"FFC078C693EE940B5B4FD97153BB06EFF\",\"invisible\" : false,\"length\" : 0,\"source\" : \"F2E1A3496EC9C4E631C8627312B982900\",\"target\" : \"FB08E8CB8A4224EC52428D6D7E487552B\",\"weight\" : 0}},\"nodes\" : {\"F092BF8CFE6824312D46B18D5283C070D\" : {\"callbacks\" : {\"F249DB592AF524B84AC6F4C46812B710E\" : {\"func\" : \"unknown\",\"id\" : \"F249DB592AF524B84AC6F4C46812B710E\",\"knownArgs\" : [\"0\"],\"requiredArgs\" : {},\"trigger\" : \"click\"}},\"color\" : \"\",\"id\" : \"F092BF8CFE6824312D46B18D5283C070D\",\"layer\" : 0,\"menus\" : {},\"messages\" : {},\"parent\" : \"\",\"size\" : 10,\"title\" : \"0\",\"type\" : \"circle\",\"x\" : 0,\"y\" : 0},\"F156883B221B04A6084C09DF2261B0F7B\" : {\"callbacks\" : {\"F7FEF6E3A4BF640AADC2BCE7615F0C215\" : {\"func\" : \"unknown\",\"id\" : \"F7FEF6E3A4BF640AADC2BCE7615F0C215\",\"knownArgs\" : [\"5\"],\"requiredArgs\" : {},\"trigger\" : \"click\"}},\"color\" : \"\",\"id\" : \"F156883B221B04A6084C09DF2261B0F7B\",\"layer\" : -1,\"menus\" : {},\"messages\" : {},\"parent\" : \"\",\"size\" : 10,\"title\" : \"5\",\"type\" : \"circle\",\"x\" : 0,\"y\" : 0},\"F26D7C394901D4A243C96D3A27A0D9E50\" : {\"callbacks\" : {\"FAD51BB353C9B4081A4F63CAE5523108D\" : {\"func\" : \"unknown\",\"id\" : \"FAD51BB353C9B4081A4F63CAE5523108D\",\"knownArgs\" : [\"12\"],\"requiredArgs\" : {},\"trigger\" : \"click\"}},\"color\" : \"\",\"id\" : \"F26D7C394901D4A243C96D3A27A0D9E50\",\"layer\" : -2,\"menus\" : {},\"messages\" : {},\"parent\" : \"\",\"size\" : 10,\"title\" : \"12\",\"type\" : \"circle\",\"x\" : 0,\"y\" : 0},\"F2E1A3496EC9C4E631C8627312B982900\" : {\"callbacks\" : {\"F8CE604E7A9044A81F434B04E7E1C542B\" : {\"func\" : \"unknown\",\"id\" : \"F8CE604E7A9044A81F434B04E7E1C542B\",\"knownArgs\" : [\"9\"],\"requiredArgs\" : {},\"trigger\" : \"click\"}},\"color\" : \"\",\"id\" : \"F2E1A3496EC9C4E631C8627312B982900\",\"layer\" : -1,\"menus\" : {},\"messages\" : {},\"parent\" : \"\",\"size\" : 10,\"title\" : \"9\",\"type\" : \"circle\",\"x\" : 0,\"y\" : 0},\"F70320DD9A523491D9CA455CD68E56446\" : {\"callbacks\" : {\"F7B6536AF98C1453E14E1E4751312BA5F\" : {\"func\" : \"unknown\",\"id\" : \"F7B6536AF98C1453E14E1E4751312BA5F\",\"knownArgs\" : [\"16\"],\"requiredArgs\" : {},\"trigger\" : \"click\"}},\"color\" : \"\",\"id\" : \"F70320DD9A523491D9CA455CD68E56446\",\"layer\" : -2,\"menus\" : {},\"messages\" : {},\"parent\" : \"\",\"size\" : 10,\"title\" : \"16\",\"type\" : \"circle\",\"x\" : 0,\"y\" : 0},\"F8401EC6AD970422D9C2BB473F9B3BA1B\" : {\"callbacks\" : {\"F3EB974EF77F440E00437069CE9D32AB6\" : {\"func\" : \"unknown\",\"id\" : \"F3EB974EF77F440E00437069CE9D32AB6\",\"knownArgs\" : [\"23\"],\"requiredArgs\" : {},\"trigger\" : \"click\"}},\"color\" : \"\",\"id\" : \"F8401EC6AD970422D9C2BB473F9B3BA1B\",\"layer\" : -3,\"menus\" : {},\"messages\" : {},\"parent\" : \"\",\"size\" : 10,\"title\" : \"23\",\"type\" : \"circle\",\"x\" : 0,\"y\" : 0},\"F85FA145E6A4B4EDDF43A535EC30AA26D\" : {\"callbacks\" : {\"F433D8A4FD6F044B07CC2C74F3C275EC7\" : {\"func\" : \"unknown\",\"id\" : \"F433D8A4FD6F044B07CC2C74F3C275EC7\",\"knownArgs\" : [\"11\"],\"requiredArgs\" : {},\"trigger\" : \"click\"}},\"color\" : \"\",\"id\" : \"F85FA145E6A4B4EDDF43A535EC30AA26D\",\"layer\" : -1,\"menus\" : {},\"messages\" : {},\"parent\" : \"\",\"size\" : 10,\"title\" : \"11\",\"type\" : \"circle\",\"x\" : 0,\"y\" : 0},\"FA4BC1F0013494DD69C1F36E220BBC114\" : {\"callbacks\" : {\"F4F0CFFE8ECB5433DDC5560333AB4F53F\" : {\"func\" : \"unknown\",\"id\" : \"F4F0CFFE8ECB5433DDC5560333AB4F53F\",\"knownArgs\" : [\"18\"],\"requiredArgs\" : {},\"trigger\" : \"click\"}},\"color\" : \"\",\"id\" : \"FA4BC1F0013494DD69C1F36E220BBC114\",\"layer\" : -2,\"menus\" : {},\"messages\" : {},\"parent\" : \"\",\"size\" : 10,\"title\" : \"18\",\"type\" : \"circle\",\"x\" : 0,\"y\" : 0},\"FB08E8CB8A4224EC52428D6D7E487552B\" : {\"callbacks\" : {\"F8FA8529529F64F919C99C43F99FE3434\" : {\"func\" : \"unknown\",\"id\" : \"F8FA8529529F64F919C99C43F99FE3434\",\"knownArgs\" : [\"14\"],\"requiredArgs\" : {},\"trigger\" : \"click\"}},\"color\" : \"\",\"id\" : \"FB08E8CB8A4224EC52428D6D7E487552B\",\"layer\" : -2,\"menus\" : {},\"messages\" : {},\"parent\" : \"\",\"size\" : 10,\"title\" : \"14\",\"type\" : \"circle\",\"x\" : 0,\"y\" : 0},\"FCF2B8E13B6134293640008C52AB94F6A\" : {\"callbacks\" : {\"FE6711A37ACF8440AFC430BF113A62DE0\" : {\"func\" : \"unknown\",\"id\" : \"FE6711A37ACF8440AFC430BF113A62DE0\",\"knownArgs\" : [\"7\"],\"requiredArgs\" : {},\"trigger\" : \"click\"}},\"color\" : \"\",\"id\" : \"FCF2B8E13B6134293640008C52AB94F6A\",\"layer\" : -1,\"menus\" : {},\"messages\" : {},\"parent\" : \"\",\"size\" : 10,\"title\" : \"7\",\"type\" : \"circle\",\"x\" : 0,\"y\" : 0}},\"simulation\" : true,\"type\" : \"directed\"},\"height\" : 600,\"id\" : \"F9C3891C90FDE4D107C9BE8627F8CE82C\",\"menus\" : {},\"messages\" : {},\"texTypesetting\" : true,\"title\" : \"Hasse diagram of numerical semigroup\",\"width\" : 800,\"zoomToFit\" : true},\"mime\" : \"application\\/vnd.francy+json\",\"version\" : \"2.0.3\"}"
     },
     "execution_count": 9,
     "metadata": {
      "application/vnd.francy+json": {}
     },
     "output_type": "execute_result"
    }
   ],
   "source": [
    "s:=NumericalSemigroup(5,7,9,11);\n",
    "DrawHasseDiagramOfNumericalSemigroup(s,AperyList(s,10));"
   ]
  },
  {
   "cell_type": "markdown",
   "metadata": {},
   "source": [
    "## `DrawOverSemigroupsNumericalSemigroup(s)`\n",
    "\n",
    "Draws the Hasse diagram of oversemigroups of the numerical semigroup `s`."
   ]
  },
  {
   "cell_type": "code",
   "execution_count": 11,
   "metadata": {},
   "outputs": [
    {
     "data": {
      "text/plain": [
       "<Numerical semigroup with 4 generators>"
      ]
     },
     "execution_count": 10,
     "metadata": {
      "text/plain": ""
     },
     "output_type": "execute_result"
    },
    {
     "data": {
      "application/vnd.francy+json": "{\"canvas\" : {\"graph\" : {\"collapsed\" : true,\"id\" : \"FD34BC7E60442431F34B80F3841551853\",\"links\" : {\"F1805C6AFCFBA46399C31647AF611863A\" : {\"color\" : \"\",\"id\" : \"F1805C6AFCFBA46399C31647AF611863A\",\"invisible\" : false,\"length\" : 0,\"source\" : \"FF6CF8986D0294BF9DC22F6064F9E016E\",\"target\" : \"F968914A62AA341D32C50803908242D65\",\"weight\" : 0},\"F2CC890CDB17A4CEC3C789FD48FD65EE6\" : {\"color\" : \"\",\"id\" : \"F2CC890CDB17A4CEC3C789FD48FD65EE6\",\"invisible\" : false,\"length\" : 0,\"source\" : \"F710819A64EBF4AE84CA23D8BDCC8B908\",\"target\" : \"FFA5689F16CE74A06C49BE594FB20743F\",\"weight\" : 0},\"F359555E628F94B4914858D09B85E8F58\" : {\"color\" : \"\",\"id\" : \"F359555E628F94B4914858D09B85E8F58\",\"invisible\" : false,\"length\" : 0,\"source\" : \"F5A6663F41641444114F0333FC170200B\",\"target\" : \"F3438ACA09B654BC91CC075ECA98F07C6\",\"weight\" : 0},\"F36ABA6A3AB5C49A00C6A24E24923B3AE\" : {\"color\" : \"\",\"id\" : \"F36ABA6A3AB5C49A00C6A24E24923B3AE\",\"invisible\" : false,\"length\" : 0,\"source\" : \"F968914A62AA341D32C50803908242D65\",\"target\" : \"F3438ACA09B654BC91CC075ECA98F07C6\",\"weight\" : 0},\"F3703073ECB0D42CD0CA236ECD4058F05\" : {\"color\" : \"\",\"id\" : \"F3703073ECB0D42CD0CA236ECD4058F05\",\"invisible\" : false,\"length\" : 0,\"source\" : \"F4D2296B1CC5B43338C1C5DE460990CCD\",\"target\" : \"F710819A64EBF4AE84CA23D8BDCC8B908\",\"weight\" : 0},\"F3D1EB1FB27E24AD4143B15C0AFD1F816\" : {\"color\" : \"\",\"id\" : \"F3D1EB1FB27E24AD4143B15C0AFD1F816\",\"invisible\" : false,\"length\" : 0,\"source\" : \"F710819A64EBF4AE84CA23D8BDCC8B908\",\"target\" : \"FAF2212299F554661AC8854318787964C\",\"weight\" : 0},\"F4A1B5C652BAF4B32BC089373473CE181\" : {\"color\" : \"\",\"id\" : \"F4A1B5C652BAF4B32BC089373473CE181\",\"invisible\" : false,\"length\" : 0,\"source\" : \"F9C89E440A04A4F1D6C3803BEDACB0AD5\",\"target\" : \"F2119C0FD41E648067C5973DCBFA92CA7\",\"weight\" : 0},\"F4DF6CA211F2B430494BFA6F5C5DEBB71\" : {\"color\" : \"\",\"id\" : \"F4DF6CA211F2B430494BFA6F5C5DEBB71\",\"invisible\" : false,\"length\" : 0,\"source\" : \"F67830C090D44470134F7B5AA34200425\",\"target\" : \"F3438ACA09B654BC91CC075ECA98F07C6\",\"weight\" : 0},\"F57BA6A67946940F2D4B2661FF4F4826B\" : {\"color\" : \"\",\"id\" : \"F57BA6A67946940F2D4B2661FF4F4826B\",\"invisible\" : false,\"length\" : 0,\"source\" : \"F3438ACA09B654BC91CC075ECA98F07C6\",\"target\" : \"F710819A64EBF4AE84CA23D8BDCC8B908\",\"weight\" : 0},\"F7558758FC07B443664E44B4473928E10\" : {\"color\" : \"\",\"id\" : \"F7558758FC07B443664E44B4473928E10\",\"invisible\" : false,\"length\" : 0,\"source\" : \"FFA5689F16CE74A06C49BE594FB20743F\",\"target\" : \"F9C89E440A04A4F1D6C3803BEDACB0AD5\",\"weight\" : 0},\"F9A43C8FCD6C74227FC21AADB3E2CA461\" : {\"color\" : \"\",\"id\" : \"F9A43C8FCD6C74227FC21AADB3E2CA461\",\"invisible\" : false,\"length\" : 0,\"source\" : \"F9F16DE43341A43B004CE7FBB930AE126\",\"target\" : \"FF6CF8986D0294BF9DC22F6064F9E016E\",\"weight\" : 0},\"FA0DAE844EF284974A48B5EC5A25FEEBA\" : {\"color\" : \"\",\"id\" : \"FA0DAE844EF284974A48B5EC5A25FEEBA\",\"invisible\" : false,\"length\" : 0,\"source\" : \"F9858C2BB2EE841CA3C8BDADBD16C58F7\",\"target\" : \"FFA5689F16CE74A06C49BE594FB20743F\",\"weight\" : 0},\"FA2AABC4DF5D24318AC2E664F1870EB5B\" : {\"color\" : \"\",\"id\" : \"FA2AABC4DF5D24318AC2E664F1870EB5B\",\"invisible\" : false,\"length\" : 0,\"source\" : \"F5A6663F41641444114F0333FC170200B\",\"target\" : \"F4D2296B1CC5B43338C1C5DE460990CCD\",\"weight\" : 0},\"FADEAAE0EDF4B44F674224FE2047A155B\" : {\"color\" : \"\",\"id\" : \"FADEAAE0EDF4B44F674224FE2047A155B\",\"invisible\" : false,\"length\" : 0,\"source\" : \"F7F1D7FB742114C06E4FC063B5496AB13\",\"target\" : \"F5A6663F41641444114F0333FC170200B\",\"weight\" : 0},\"FB1906661CE7D4E641CBA1F14756427E8\" : {\"color\" : \"\",\"id\" : \"FB1906661CE7D4E641CBA1F14756427E8\",\"invisible\" : false,\"length\" : 0,\"source\" : \"F3438ACA09B654BC91CC075ECA98F07C6\",\"target\" : \"F9858C2BB2EE841CA3C8BDADBD16C58F7\",\"weight\" : 0},\"FD824F712C0514E15844479F8B52E48DF\" : {\"color\" : \"\",\"id\" : \"FD824F712C0514E15844479F8B52E48DF\",\"invisible\" : false,\"length\" : 0,\"source\" : \"FF6CF8986D0294BF9DC22F6064F9E016E\",\"target\" : \"F5A6663F41641444114F0333FC170200B\",\"weight\" : 0},\"FD8A47A063C8B44B734CF2660C361D72F\" : {\"color\" : \"\",\"id\" : \"FD8A47A063C8B44B734CF2660C361D72F\",\"invisible\" : false,\"length\" : 0,\"source\" : \"F7F1D7FB742114C06E4FC063B5496AB13\",\"target\" : \"F67830C090D44470134F7B5AA34200425\",\"weight\" : 0},\"FDD44A4358F224F8F2CEA1C2BF27BA2A8\" : {\"color\" : \"\",\"id\" : \"FDD44A4358F224F8F2CEA1C2BF27BA2A8\",\"invisible\" : false,\"length\" : 0,\"source\" : \"F9F16DE43341A43B004CE7FBB930AE126\",\"target\" : \"F7DE664934CC54A8E949FCE0E96C8DA51\",\"weight\" : 0},\"FE9BB3DF5D5CC4BD32C91214F8674BB20\" : {\"color\" : \"\",\"id\" : \"FE9BB3DF5D5CC4BD32C91214F8674BB20\",\"invisible\" : false,\"length\" : 0,\"source\" : \"F7DE664934CC54A8E949FCE0E96C8DA51\",\"target\" : \"F67830C090D44470134F7B5AA34200425\",\"weight\" : 0},\"FEBE9B45836B84C6CA4873B07834A7D40\" : {\"color\" : \"\",\"id\" : \"FEBE9B45836B84C6CA4873B07834A7D40\",\"invisible\" : false,\"length\" : 0,\"source\" : \"F9F16DE43341A43B004CE7FBB930AE126\",\"target\" : \"F7F1D7FB742114C06E4FC063B5496AB13\",\"weight\" : 0},\"FEF23B77DD51B4EF0ACE13667CA8805E0\" : {\"color\" : \"\",\"id\" : \"FEF23B77DD51B4EF0ACE13667CA8805E0\",\"invisible\" : false,\"length\" : 0,\"source\" : \"F7DE664934CC54A8E949FCE0E96C8DA51\",\"target\" : \"F968914A62AA341D32C50803908242D65\",\"weight\" : 0},\"FF209466DF7EA411C3CCF928ACEE57A61\" : {\"color\" : \"\",\"id\" : \"FF209466DF7EA411C3CCF928ACEE57A61\",\"invisible\" : false,\"length\" : 0,\"source\" : \"FAF2212299F554661AC8854318787964C\",\"target\" : \"F9C89E440A04A4F1D6C3803BEDACB0AD5\",\"weight\" : 0}},\"nodes\" : {\"F2119C0FD41E648067C5973DCBFA92CA7\" : {\"callbacks\" : {},\"color\" : \"\",\"id\" : \"F2119C0FD41E648067C5973DCBFA92CA7\",\"layer\" : 0,\"menus\" : {},\"messages\" : {},\"parent\" : \"\",\"size\" : 2,\"title\" : \"〈 1 〉\",\"type\" : \"diamond\",\"x\" : 0,\"y\" : 0},\"F3438ACA09B654BC91CC075ECA98F07C6\" : {\"callbacks\" : {},\"color\" : \"\",\"id\" : \"F3438ACA09B654BC91CC075ECA98F07C6\",\"layer\" : 4,\"menus\" : {},\"messages\" : {},\"parent\" : \"\",\"size\" : 2,\"title\" : \"〈 5,6,7,8,9 〉\",\"type\" : \"circle\",\"x\" : 0,\"y\" : 0},\"F4D2296B1CC5B43338C1C5DE460990CCD\" : {\"callbacks\" : {},\"color\" : \"\",\"id\" : \"F4D2296B1CC5B43338C1C5DE460990CCD\",\"layer\" : 4,\"menus\" : {},\"messages\" : {},\"parent\" : \"\",\"size\" : 2,\"title\" : \"〈 4,5,7 〉\",\"type\" : \"diamond\",\"x\" : 0,\"y\" : 0},\"F5A6663F41641444114F0333FC170200B\" : {\"callbacks\" : {},\"color\" : \"\",\"id\" : \"F5A6663F41641444114F0333FC170200B\",\"layer\" : 5,\"menus\" : {},\"messages\" : {},\"parent\" : \"\",\"size\" : 2,\"title\" : \"〈 5,7,8,9,11 〉\",\"type\" : \"circle\",\"x\" : 0,\"y\" : 0},\"F67830C090D44470134F7B5AA34200425\" : {\"callbacks\" : {},\"color\" : \"\",\"id\" : \"F67830C090D44470134F7B5AA34200425\",\"layer\" : 5,\"menus\" : {},\"messages\" : {},\"parent\" : \"\",\"size\" : 2,\"title\" : \"〈 5,6,7,8 〉\",\"type\" : \"diamond\",\"x\" : 0,\"y\" : 0},\"F710819A64EBF4AE84CA23D8BDCC8B908\" : {\"callbacks\" : {},\"color\" : \"\",\"id\" : \"F710819A64EBF4AE84CA23D8BDCC8B908\",\"layer\" : 3,\"menus\" : {},\"messages\" : {},\"parent\" : \"\",\"size\" : 2,\"title\" : \"〈 4,5,6,7 〉\",\"type\" : \"circle\",\"x\" : 0,\"y\" : 0},\"F7DE664934CC54A8E949FCE0E96C8DA51\" : {\"callbacks\" : {},\"color\" : \"\",\"id\" : \"F7DE664934CC54A8E949FCE0E96C8DA51\",\"layer\" : 6,\"menus\" : {},\"messages\" : {},\"parent\" : \"\",\"size\" : 2,\"title\" : \"〈 5,6,7 〉\",\"type\" : \"circle\",\"x\" : 0,\"y\" : 0},\"F7F1D7FB742114C06E4FC063B5496AB13\" : {\"callbacks\" : {},\"color\" : \"\",\"id\" : \"F7F1D7FB742114C06E4FC063B5496AB13\",\"layer\" : 6,\"menus\" : {},\"messages\" : {},\"parent\" : \"\",\"size\" : 2,\"title\" : \"〈 5,7,8,11 〉\",\"type\" : \"circle\",\"x\" : 0,\"y\" : 0},\"F968914A62AA341D32C50803908242D65\" : {\"callbacks\" : {},\"color\" : \"\",\"id\" : \"F968914A62AA341D32C50803908242D65\",\"layer\" : 5,\"menus\" : {},\"messages\" : {},\"parent\" : \"\",\"size\" : 2,\"title\" : \"〈 5,6,7,9 〉\",\"type\" : \"diamond\",\"x\" : 0,\"y\" : 0},\"F9858C2BB2EE841CA3C8BDADBD16C58F7\" : {\"callbacks\" : {},\"color\" : \"\",\"id\" : \"F9858C2BB2EE841CA3C8BDADBD16C58F7\",\"layer\" : 3,\"menus\" : {},\"messages\" : {},\"parent\" : \"\",\"size\" : 2,\"title\" : \"〈 3,5,7 〉\",\"type\" : \"diamond\",\"x\" : 0,\"y\" : 0},\"F9C89E440A04A4F1D6C3803BEDACB0AD5\" : {\"callbacks\" : {},\"color\" : \"\",\"id\" : \"F9C89E440A04A4F1D6C3803BEDACB0AD5\",\"layer\" : 1,\"menus\" : {},\"messages\" : {},\"parent\" : \"\",\"size\" : 2,\"title\" : \"〈 2,3 〉\",\"type\" : \"diamond\",\"x\" : 0,\"y\" : 0},\"F9F16DE43341A43B004CE7FBB930AE126\" : {\"callbacks\" : {},\"color\" : \"\",\"id\" : \"F9F16DE43341A43B004CE7FBB930AE126\",\"layer\" : 7,\"menus\" : {},\"messages\" : {},\"parent\" : \"\",\"size\" : 2,\"title\" : \"〈 5,7,11,13 〉\",\"type\" : \"circle\",\"x\" : 0,\"y\" : 0},\"FAF2212299F554661AC8854318787964C\" : {\"callbacks\" : {},\"color\" : \"\",\"id\" : \"FAF2212299F554661AC8854318787964C\",\"layer\" : 2,\"menus\" : {},\"messages\" : {},\"parent\" : \"\",\"size\" : 2,\"title\" : \"〈 2,5 〉\",\"type\" : \"diamond\",\"x\" : 0,\"y\" : 0},\"FF6CF8986D0294BF9DC22F6064F9E016E\" : {\"callbacks\" : {},\"color\" : \"\",\"id\" : \"FF6CF8986D0294BF9DC22F6064F9E016E\",\"layer\" : 6,\"menus\" : {},\"messages\" : {},\"parent\" : \"\",\"size\" : 2,\"title\" : \"〈 5,7,9,11,13 〉\",\"type\" : \"circle\",\"x\" : 0,\"y\" : 0},\"FFA5689F16CE74A06C49BE594FB20743F\" : {\"callbacks\" : {},\"color\" : \"\",\"id\" : \"FFA5689F16CE74A06C49BE594FB20743F\",\"layer\" : 2,\"menus\" : {},\"messages\" : {},\"parent\" : \"\",\"size\" : 2,\"title\" : \"〈 3,4,5 〉\",\"type\" : \"diamond\",\"x\" : 0,\"y\" : 0}},\"simulation\" : true,\"type\" : \"directed\"},\"height\" : 600,\"id\" : \"FE1B42222CD274C73CC3D5C6CD5EACA95\",\"menus\" : {},\"messages\" : {},\"texTypesetting\" : true,\"title\" : \"Oversemigroups\",\"width\" : 800,\"zoomToFit\" : true},\"mime\" : \"application\\/vnd.francy+json\",\"version\" : \"2.0.3\"}"
     },
     "execution_count": 11,
     "metadata": {
      "application/vnd.francy+json": {}
     },
     "output_type": "execute_result"
    }
   ],
   "source": [
    "s:=NumericalSemigroup(5,7,11,13);\n",
    "DrawOverSemigroupsNumericalSemigroup(s);"
   ]
  },
  {
   "cell_type": "markdown",
   "metadata": {},
   "source": [
    "## Graphs"
   ]
  },
  {
   "cell_type": "code",
   "execution_count": null,
   "metadata": {},
   "outputs": [
    {
     "data": {
      "text/plain": [
       "<Numerical semigroup with 3 generators>"
      ]
     },
     "execution_count": 12,
     "metadata": {
      "text/plain": ""
     },
     "output_type": "execute_result"
    }
   ],
   "source": [
    "s:=NumericalSemigroup(3,5,7);"
   ]
  },
  {
   "cell_type": "code",
   "execution_count": null,
   "metadata": {},
   "outputs": [
    {
     "data": {
      "text/plain": [
       "[ [ 10, 0, 0 ], [ 5, 3, 0 ], [ 0, 6, 0 ], [ 6, 1, 1 ], [ 1, 4, 1 ],   [ 2, 2, 2 ], [ 3, 0, 3 ] ]"
      ]
     },
     "execution_count": 13,
     "metadata": {
      "text/plain": ""
     },
     "output_type": "execute_result"
    }
   ],
   "source": [
    "f:=FactorizationsElementWRTNumericalSemigroup(30,s);"
   ]
  },
  {
   "cell_type": "markdown",
   "metadata": {},
   "source": [
    "## `DrawFactorizationGraph(f)`\n",
    "\n",
    "Draws the factorization graph of a set of factorizations `f`, the complete graph with vertices the elements of `f`. Labels are labeled with distances between the nodes they join. It also draws a minimal spanning tree (with minimal distances) and thus one can read the Catenary degree from this tree."
   ]
  },
  {
   "cell_type": "code",
   "execution_count": 14,
   "metadata": {},
   "outputs": [
    {
     "data": {
      "application/vnd.francy+json": "{\"canvas\" : {\"graph\" : {\"collapsed\" : true,\"id\" : \"F92CD5430B84849DD9CD90D99B583831B\",\"links\" : {\"F08BD5071AA46473C8C44CADB7E3C3013\" : {\"color\" : \"\",\"id\" : \"F08BD5071AA46473C8C44CADB7E3C3013\",\"invisible\" : false,\"length\" : 0,\"source\" : \"F27D412FAD1B64033CC5133D8AD820427\",\"target\" : \"F18964FF8AE5645E94C0A0C7528826124\",\"title\" : \"5\",\"weight\" : 0},\"F0D9E2D8B685C48D4C4FEE556A5809E8D\" : {\"color\" : \"\",\"id\" : \"F0D9E2D8B685C48D4C4FEE556A5809E8D\",\"invisible\" : false,\"length\" : 0,\"source\" : \"F27D412FAD1B64033CC5133D8AD820427\",\"target\" : \"F6E0C2B2B28B24FB59489B082E4CA455A\",\"title\" : \"8\",\"weight\" : 0},\"F336503C53E0B446FCCC7C0CC0223C6D3\" : {\"color\" : \"red\",\"id\" : \"F336503C53E0B446FCCC7C0CC0223C6D3\",\"invisible\" : false,\"length\" : 0,\"source\" : \"F18964FF8AE5645E94C0A0C7528826124\",\"target\" : \"FFFA9A65DD69E41A7DC102EBFEC31FF08\",\"title\" : \"4\",\"weight\" : 0},\"F36777D75A20F4833B40674C390B4238C\" : {\"color\" : \"\",\"id\" : \"F36777D75A20F4833B40674C390B4238C\",\"invisible\" : false,\"length\" : 0,\"source\" : \"FA97B288B63EB4DC1C46D7831AFDFE450\",\"target\" : \"FCFB5BF9FF27C4298BC45114FDD44DC4B\",\"title\" : \"7\",\"weight\" : 0},\"F3AA408B461EA4E51ECF930B0231BDDA8\" : {\"color\" : \"\",\"id\" : \"F3AA408B461EA4E51ECF930B0231BDDA8\",\"invisible\" : false,\"length\" : 0,\"source\" : \"FCFB5BF9FF27C4298BC45114FDD44DC4B\",\"target\" : \"FFFA9A65DD69E41A7DC102EBFEC31FF08\",\"title\" : \"5\",\"weight\" : 0},\"F6168681479FB4B8194A95519B4B2B007\" : {\"color\" : \"\",\"id\" : \"F6168681479FB4B8194A95519B4B2B007\",\"invisible\" : false,\"length\" : 0,\"source\" : \"FA97B288B63EB4DC1C46D7831AFDFE450\",\"target\" : \"F6E0C2B2B28B24FB59489B082E4CA455A\",\"title\" : \"4\",\"weight\" : 0},\"F62F46DD205904B14547E0D7D9E955843\" : {\"color\" : \"\",\"id\" : \"F62F46DD205904B14547E0D7D9E955843\",\"invisible\" : false,\"length\" : 0,\"source\" : \"FCFB5BF9FF27C4298BC45114FDD44DC4B\",\"target\" : \"F4FCA8076B12F4C97AC83F474EE6FBECE\",\"title\" : \"4\",\"weight\" : 0},\"F7AAD0B6E78A84F658C0D45577BA228EE\" : {\"color\" : \"\",\"id\" : \"F7AAD0B6E78A84F658C0D45577BA228EE\",\"invisible\" : false,\"length\" : 0,\"source\" : \"F27D412FAD1B64033CC5133D8AD820427\",\"target\" : \"F4FCA8076B12F4C97AC83F474EE6FBECE\",\"title\" : \"7\",\"weight\" : 0},\"F7C0E639DCCDC4A8C7C66D6852B395B07\" : {\"color\" : \"\",\"id\" : \"F7C0E639DCCDC4A8C7C66D6852B395B07\",\"invisible\" : false,\"length\" : 0,\"source\" : \"F18964FF8AE5645E94C0A0C7528826124\",\"target\" : \"F4FCA8076B12F4C97AC83F474EE6FBECE\",\"title\" : \"5\",\"weight\" : 0},\"F8B2EC2D83E2B40C7A44A8E67D4A07E0C\" : {\"color\" : \"\",\"id\" : \"F8B2EC2D83E2B40C7A44A8E67D4A07E0C\",\"invisible\" : false,\"length\" : 0,\"source\" : \"FFFA9A65DD69E41A7DC102EBFEC31FF08\",\"target\" : \"F4FCA8076B12F4C97AC83F474EE6FBECE\",\"title\" : \"4\",\"weight\" : 0},\"F931F2A4445BA49A6349CE2276EE2443E\" : {\"color\" : \"\",\"id\" : \"F931F2A4445BA49A6349CE2276EE2443E\",\"invisible\" : false,\"length\" : 0,\"source\" : \"F18964FF8AE5645E94C0A0C7528826124\",\"target\" : \"F6E0C2B2B28B24FB59489B082E4CA455A\",\"title\" : \"4\",\"weight\" : 0},\"F96C6E28C5C6B4AA1D4B271E243B481DC\" : {\"color\" : \"\",\"id\" : \"F96C6E28C5C6B4AA1D4B271E243B481DC\",\"invisible\" : false,\"length\" : 0,\"source\" : \"F27D412FAD1B64033CC5133D8AD820427\",\"target\" : \"FFFA9A65DD69E41A7DC102EBFEC31FF08\",\"title\" : \"9\",\"weight\" : 0},\"FA6D4FFD9570F4CA9FCB2B39E56B522B7\" : {\"color\" : \"\",\"id\" : \"FA6D4FFD9570F4CA9FCB2B39E56B522B7\",\"invisible\" : false,\"length\" : 0,\"source\" : \"FCFB5BF9FF27C4298BC45114FDD44DC4B\",\"target\" : \"F6E0C2B2B28B24FB59489B082E4CA455A\",\"title\" : \"4\",\"weight\" : 0},\"FA94DAEE44F68439EF4DFDF0B1818DB0E\" : {\"color\" : \"\",\"id\" : \"FA94DAEE44F68439EF4DFDF0B1818DB0E\",\"invisible\" : false,\"length\" : 0,\"source\" : \"F18964FF8AE5645E94C0A0C7528826124\",\"target\" : \"FA97B288B63EB4DC1C46D7831AFDFE450\",\"title\" : \"5\",\"weight\" : 0},\"FB907730C25514029140EED895D7E2DA4\" : {\"color\" : \"red\",\"id\" : \"FB907730C25514029140EED895D7E2DA4\",\"invisible\" : false,\"length\" : 0,\"source\" : \"F27D412FAD1B64033CC5133D8AD820427\",\"target\" : \"FCFB5BF9FF27C4298BC45114FDD44DC4B\",\"title\" : \"4\",\"weight\" : 0},\"FBF2D9658CE7347E44CB5E8447362A83E\" : {\"color\" : \"red\",\"id\" : \"FBF2D9658CE7347E44CB5E8447362A83E\",\"invisible\" : false,\"length\" : 0,\"source\" : \"F6E0C2B2B28B24FB59489B082E4CA455A\",\"target\" : \"F4FCA8076B12F4C97AC83F474EE6FBECE\",\"title\" : \"2\",\"weight\" : 0},\"FC6C172A47A8446748CFA4996629DA32C\" : {\"color\" : \"red\",\"id\" : \"FC6C172A47A8446748CFA4996629DA32C\",\"invisible\" : false,\"length\" : 0,\"source\" : \"F18964FF8AE5645E94C0A0C7528826124\",\"target\" : \"FCFB5BF9FF27C4298BC45114FDD44DC4B\",\"title\" : \"2\",\"weight\" : 0},\"FD4F9E60234B24258844F69201D48E33F\" : {\"color\" : \"red\",\"id\" : \"FD4F9E60234B24258844F69201D48E33F\",\"invisible\" : false,\"length\" : 0,\"source\" : \"FFFA9A65DD69E41A7DC102EBFEC31FF08\",\"target\" : \"F6E0C2B2B28B24FB59489B082E4CA455A\",\"title\" : \"2\",\"weight\" : 0},\"FE5415C43900B437F6460443206EE3115\" : {\"color\" : \"red\",\"id\" : \"FE5415C43900B437F6460443206EE3115\",\"invisible\" : false,\"length\" : 0,\"source\" : \"FA97B288B63EB4DC1C46D7831AFDFE450\",\"target\" : \"FFFA9A65DD69E41A7DC102EBFEC31FF08\",\"title\" : \"2\",\"weight\" : 0}},\"nodes\" : {\"F18964FF8AE5645E94C0A0C7528826124\" : {\"callbacks\" : {},\"color\" : \"\",\"id\" : \"F18964FF8AE5645E94C0A0C7528826124\",\"layer\" : 8,\"menus\" : {},\"messages\" : {},\"parent\" : \"\",\"size\" : 1,\"title\" : \"(5,3,0)\",\"type\" : \"circle\",\"x\" : 0,\"y\" : 0},\"F27D412FAD1B64033CC5133D8AD820427\" : {\"callbacks\" : {},\"color\" : \"\",\"id\" : \"F27D412FAD1B64033CC5133D8AD820427\",\"layer\" : 10,\"menus\" : {},\"messages\" : {},\"parent\" : \"\",\"size\" : 1,\"title\" : \"(10,0,0)\",\"type\" : \"circle\",\"x\" : 0,\"y\" : 0},\"F4FCA8076B12F4C97AC83F474EE6FBECE\" : {\"callbacks\" : {},\"color\" : \"\",\"id\" : \"F4FCA8076B12F4C97AC83F474EE6FBECE\",\"layer\" : 6,\"menus\" : {},\"messages\" : {},\"parent\" : \"\",\"size\" : 1,\"title\" : \"(3,0,3)\",\"type\" : \"circle\",\"x\" : 0,\"y\" : 0},\"F6E0C2B2B28B24FB59489B082E4CA455A\" : {\"callbacks\" : {},\"color\" : \"\",\"id\" : \"F6E0C2B2B28B24FB59489B082E4CA455A\",\"layer\" : 6,\"menus\" : {},\"messages\" : {},\"parent\" : \"\",\"size\" : 1,\"title\" : \"(2,2,2)\",\"type\" : \"circle\",\"x\" : 0,\"y\" : 0},\"FA97B288B63EB4DC1C46D7831AFDFE450\" : {\"callbacks\" : {},\"color\" : \"\",\"id\" : \"FA97B288B63EB4DC1C46D7831AFDFE450\",\"layer\" : 6,\"menus\" : {},\"messages\" : {},\"parent\" : \"\",\"size\" : 1,\"title\" : \"(0,6,0)\",\"type\" : \"circle\",\"x\" : 0,\"y\" : 0},\"FCFB5BF9FF27C4298BC45114FDD44DC4B\" : {\"callbacks\" : {},\"color\" : \"\",\"id\" : \"FCFB5BF9FF27C4298BC45114FDD44DC4B\",\"layer\" : 8,\"menus\" : {},\"messages\" : {},\"parent\" : \"\",\"size\" : 1,\"title\" : \"(6,1,1)\",\"type\" : \"circle\",\"x\" : 0,\"y\" : 0},\"FFFA9A65DD69E41A7DC102EBFEC31FF08\" : {\"callbacks\" : {},\"color\" : \"\",\"id\" : \"FFFA9A65DD69E41A7DC102EBFEC31FF08\",\"layer\" : 6,\"menus\" : {},\"messages\" : {},\"parent\" : \"\",\"size\" : 1,\"title\" : \"(1,4,1)\",\"type\" : \"circle\",\"x\" : 0,\"y\" : 0}},\"simulation\" : true,\"type\" : \"undirected\"},\"height\" : 600,\"id\" : \"FC35FC53DE7AE45C18C98FC151C64099E\",\"menus\" : {},\"messages\" : {},\"texTypesetting\" : true,\"title\" : \"Factorizations graph\",\"width\" : 800,\"zoomToFit\" : true},\"mime\" : \"application\\/vnd.francy+json\",\"version\" : \"2.0.3\"}"
     },
     "execution_count": 14,
     "metadata": {
      "application/vnd.francy+json": {}
     },
     "output_type": "execute_result"
    }
   ],
   "source": [
    "DrawFactorizationGraph(f);"
   ]
  },
  {
   "cell_type": "markdown",
   "metadata": {},
   "source": [
    "## `DrawEliahouGraph(f)`\n",
    "\n",
    "Draws the Eliahou's graph associated to the set of factorizations `f`. The vertices of the graph are the elements in `f`, and two vertices are joined with an edge if they have common support. "
   ]
  },
  {
   "cell_type": "code",
   "execution_count": null,
   "metadata": {},
   "outputs": [
    {
     "data": {
      "application/vnd.francy+json": "{\"canvas\" : {\"graph\" : {\"collapsed\" : true,\"id\" : \"F4A75AF6792F54D35148CBD024088AB4F\",\"links\" : {\"F2B922943B0874816945F4B866862813C\" : {\"color\" : \"\",\"id\" : \"F2B922943B0874816945F4B866862813C\",\"invisible\" : false,\"length\" : 0,\"source\" : \"F1E7FC6E907834A15E40D5A53AE1771E3\",\"target\" : \"FAFFF64473C3747EFEC1E5EE0292FE3AD\",\"weight\" : 0},\"F31406C83EDB6414F24D1574BFF26838E\" : {\"color\" : \"\",\"id\" : \"F31406C83EDB6414F24D1574BFF26838E\",\"invisible\" : false,\"length\" : 0,\"source\" : \"F351833DB2B2C4DF764C1E2E2D7B83494\",\"target\" : \"FB06E3EA9B69D442C546EF46A70D52672\",\"weight\" : 0},\"F40E3FEEC7A0240A444820EA6060D67FD\" : {\"color\" : \"\",\"id\" : \"F40E3FEEC7A0240A444820EA6060D67FD\",\"invisible\" : false,\"length\" : 0,\"source\" : \"FAFFF64473C3747EFEC1E5EE0292FE3AD\",\"target\" : \"F351833DB2B2C4DF764C1E2E2D7B83494\",\"weight\" : 0},\"F4859D49863424EAC6468396B4D2EA86F\" : {\"color\" : \"\",\"id\" : \"F4859D49863424EAC6468396B4D2EA86F\",\"invisible\" : false,\"length\" : 0,\"source\" : \"F351833DB2B2C4DF764C1E2E2D7B83494\",\"target\" : \"FF734C8C644A846E9BCE75D4022B6950E\",\"weight\" : 0},\"F4BF84B0D5D774411D457E3597CDAEA9B\" : {\"color\" : \"\",\"id\" : \"F4BF84B0D5D774411D457E3597CDAEA9B\",\"invisible\" : false,\"length\" : 0,\"source\" : \"F1E7FC6E907834A15E40D5A53AE1771E3\",\"target\" : \"FB06E3EA9B69D442C546EF46A70D52672\",\"weight\" : 0},\"F519E15F76FBE41DF8C5F458F1FDE6BD2\" : {\"color\" : \"\",\"id\" : \"F519E15F76FBE41DF8C5F458F1FDE6BD2\",\"invisible\" : false,\"length\" : 0,\"source\" : \"F722C89133771403E0CCFAE144569189B\",\"target\" : \"FF734C8C644A846E9BCE75D4022B6950E\",\"weight\" : 0},\"F530A8CBABA834C4C346D59E458509FEB\" : {\"color\" : \"\",\"id\" : \"F530A8CBABA834C4C346D59E458509FEB\",\"invisible\" : false,\"length\" : 0,\"source\" : \"F722C89133771403E0CCFAE144569189B\",\"target\" : \"FFC3A0B991662428F4CE38F8CF94F0D17\",\"weight\" : 0},\"F7A2E4536D4F84B4F9CB9AAF0F1384EB3\" : {\"color\" : \"\",\"id\" : \"F7A2E4536D4F84B4F9CB9AAF0F1384EB3\",\"invisible\" : false,\"length\" : 0,\"source\" : \"F1E7FC6E907834A15E40D5A53AE1771E3\",\"target\" : \"F722C89133771403E0CCFAE144569189B\",\"weight\" : 0},\"F80C897DF3EE04D20E45F217505F9B3E1\" : {\"color\" : \"\",\"id\" : \"F80C897DF3EE04D20E45F217505F9B3E1\",\"invisible\" : false,\"length\" : 0,\"source\" : \"FAFFF64473C3747EFEC1E5EE0292FE3AD\",\"target\" : \"FB06E3EA9B69D442C546EF46A70D52672\",\"weight\" : 0},\"F8235DDFA6D0E40CF5C64059632590E69\" : {\"color\" : \"\",\"id\" : \"F8235DDFA6D0E40CF5C64059632590E69\",\"invisible\" : false,\"length\" : 0,\"source\" : \"FF734C8C644A846E9BCE75D4022B6950E\",\"target\" : \"FFC3A0B991662428F4CE38F8CF94F0D17\",\"weight\" : 0},\"F8F1264946B2B4DCDC474A71E1222FEF1\" : {\"color\" : \"\",\"id\" : \"F8F1264946B2B4DCDC474A71E1222FEF1\",\"invisible\" : false,\"length\" : 0,\"source\" : \"FB06E3EA9B69D442C546EF46A70D52672\",\"target\" : \"FFC3A0B991662428F4CE38F8CF94F0D17\",\"weight\" : 0},\"FADB90A39215142E864FE2E4405AB66DB\" : {\"color\" : \"\",\"id\" : \"FADB90A39215142E864FE2E4405AB66DB\",\"invisible\" : false,\"length\" : 0,\"source\" : \"FAFFF64473C3747EFEC1E5EE0292FE3AD\",\"target\" : \"F722C89133771403E0CCFAE144569189B\",\"weight\" : 0},\"FBDB0A7BEBA184FD70C35D1E39E33A23F\" : {\"color\" : \"\",\"id\" : \"FBDB0A7BEBA184FD70C35D1E39E33A23F\",\"invisible\" : false,\"length\" : 0,\"source\" : \"F1E7FC6E907834A15E40D5A53AE1771E3\",\"target\" : \"FF734C8C644A846E9BCE75D4022B6950E\",\"weight\" : 0},\"FC507E11C66E04EC5741DB2FE22216490\" : {\"color\" : \"\",\"id\" : \"FC507E11C66E04EC5741DB2FE22216490\",\"invisible\" : false,\"length\" : 0,\"source\" : \"F722C89133771403E0CCFAE144569189B\",\"target\" : \"FB06E3EA9B69D442C546EF46A70D52672\",\"weight\" : 0},\"FC67396A347EF42396CCE1392A2B1DA94\" : {\"color\" : \"\",\"id\" : \"FC67396A347EF42396CCE1392A2B1DA94\",\"invisible\" : false,\"length\" : 0,\"source\" : \"FF734C8C644A846E9BCE75D4022B6950E\",\"target\" : \"FB06E3EA9B69D442C546EF46A70D52672\",\"weight\" : 0},\"FD218E606605F4CD4647DE90089CD5EC0\" : {\"color\" : \"\",\"id\" : \"FD218E606605F4CD4647DE90089CD5EC0\",\"invisible\" : false,\"length\" : 0,\"source\" : \"F351833DB2B2C4DF764C1E2E2D7B83494\",\"target\" : \"F722C89133771403E0CCFAE144569189B\",\"weight\" : 0},\"FE9D079A1321343B9ACA4757B099210AD\" : {\"color\" : \"\",\"id\" : \"FE9D079A1321343B9ACA4757B099210AD\",\"invisible\" : false,\"length\" : 0,\"source\" : \"FAFFF64473C3747EFEC1E5EE0292FE3AD\",\"target\" : \"FFC3A0B991662428F4CE38F8CF94F0D17\",\"weight\" : 0},\"FF104D624E98A46D80414AFCB0F8D3684\" : {\"color\" : \"\",\"id\" : \"FF104D624E98A46D80414AFCB0F8D3684\",\"invisible\" : false,\"length\" : 0,\"source\" : \"F1E7FC6E907834A15E40D5A53AE1771E3\",\"target\" : \"FFC3A0B991662428F4CE38F8CF94F0D17\",\"weight\" : 0},\"FFF44547515F843CD0CAED4432A482488\" : {\"color\" : \"\",\"id\" : \"FFF44547515F843CD0CAED4432A482488\",\"invisible\" : false,\"length\" : 0,\"source\" : \"FAFFF64473C3747EFEC1E5EE0292FE3AD\",\"target\" : \"FF734C8C644A846E9BCE75D4022B6950E\",\"weight\" : 0}},\"nodes\" : {\"F1E7FC6E907834A15E40D5A53AE1771E3\" : {\"callbacks\" : {},\"color\" : \"\",\"id\" : \"F1E7FC6E907834A15E40D5A53AE1771E3\",\"layer\" : 10,\"menus\" : {},\"messages\" : {},\"parent\" : \"\",\"size\" : 1,\"title\" : \"(10,0,0)\",\"type\" : \"circle\",\"x\" : 0,\"y\" : 0},\"F351833DB2B2C4DF764C1E2E2D7B83494\" : {\"callbacks\" : {},\"color\" : \"\",\"id\" : \"F351833DB2B2C4DF764C1E2E2D7B83494\",\"layer\" : 6,\"menus\" : {},\"messages\" : {},\"parent\" : \"\",\"size\" : 1,\"title\" : \"(0,6,0)\",\"type\" : \"circle\",\"x\" : 0,\"y\" : 0},\"F722C89133771403E0CCFAE144569189B\" : {\"callbacks\" : {},\"color\" : \"\",\"id\" : \"F722C89133771403E0CCFAE144569189B\",\"layer\" : 8,\"menus\" : {},\"messages\" : {},\"parent\" : \"\",\"size\" : 1,\"title\" : \"(6,1,1)\",\"type\" : \"circle\",\"x\" : 0,\"y\" : 0},\"FAFFF64473C3747EFEC1E5EE0292FE3AD\" : {\"callbacks\" : {},\"color\" : \"\",\"id\" : \"FAFFF64473C3747EFEC1E5EE0292FE3AD\",\"layer\" : 8,\"menus\" : {},\"messages\" : {},\"parent\" : \"\",\"size\" : 1,\"title\" : \"(5,3,0)\",\"type\" : \"circle\",\"x\" : 0,\"y\" : 0},\"FB06E3EA9B69D442C546EF46A70D52672\" : {\"callbacks\" : {},\"color\" : \"\",\"id\" : \"FB06E3EA9B69D442C546EF46A70D52672\",\"layer\" : 6,\"menus\" : {},\"messages\" : {},\"parent\" : \"\",\"size\" : 1,\"title\" : \"(2,2,2)\",\"type\" : \"circle\",\"x\" : 0,\"y\" : 0},\"FF734C8C644A846E9BCE75D4022B6950E\" : {\"callbacks\" : {},\"color\" : \"\",\"id\" : \"FF734C8C644A846E9BCE75D4022B6950E\",\"layer\" : 6,\"menus\" : {},\"messages\" : {},\"parent\" : \"\",\"size\" : 1,\"title\" : \"(1,4,1)\",\"type\" : \"circle\",\"x\" : 0,\"y\" : 0},\"FFC3A0B991662428F4CE38F8CF94F0D17\" : {\"callbacks\" : {},\"color\" : \"\",\"id\" : \"FFC3A0B991662428F4CE38F8CF94F0D17\",\"layer\" : 6,\"menus\" : {},\"messages\" : {},\"parent\" : \"\",\"size\" : 1,\"title\" : \"(3,0,3)\",\"type\" : \"circle\",\"x\" : 0,\"y\" : 0}},\"simulation\" : true,\"type\" : \"undirected\"},\"height\" : 600,\"id\" : \"FF4F523761DCA4F0A9C7E6798707FADBC\",\"menus\" : {},\"messages\" : {},\"texTypesetting\" : true,\"title\" : \"Eliahou graph\",\"width\" : 800,\"zoomToFit\" : true},\"mime\" : \"application\\/vnd.francy+json\",\"version\" : \"2.0.3\"}"
     },
     "execution_count": 15,
     "metadata": {
      "application/vnd.francy+json": {}
     },
     "output_type": "execute_result"
    }
   ],
   "source": [
    "DrawEliahouGraph(f);"
   ]
  },
  {
   "cell_type": "markdown",
   "metadata": {},
   "source": [
    "## `DrawRosalesGraph(n,s)`\n",
    "\n",
    "Draws the Rosales graph associated to `n` in `s`. The semigroup `s` can be either a numerical or an affine semigroup. The vertices of the graph are the minimal generators `a` of `s` such that `n-a` is in `s`, and edges are pairs `ab` such that `n-(a+b)` is in `s`."
   ]
  },
  {
   "cell_type": "code",
   "execution_count": null,
   "metadata": {},
   "outputs": [
    {
     "data": {
      "application/vnd.francy+json": "{\"canvas\" : {\"graph\" : {\"collapsed\" : true,\"id\" : \"F4AD84004C582482774816957C10C5713\",\"links\" : {\"F1E24967999164EAFBC084CB8B3BE5226\" : {\"color\" : \"\",\"id\" : \"F1E24967999164EAFBC084CB8B3BE5226\",\"invisible\" : false,\"length\" : 0,\"source\" : \"F6A5121AD31C64625F4E97D89CF29E8B5\",\"target\" : \"F7508097B0051421F8494BAC118AE61A8\",\"weight\" : 0}},\"nodes\" : {\"F6A5121AD31C64625F4E97D89CF29E8B5\" : {\"callbacks\" : {},\"color\" : \"\",\"id\" : \"F6A5121AD31C64625F4E97D89CF29E8B5\",\"layer\" : 0,\"menus\" : {},\"messages\" : {},\"parent\" : \"\",\"size\" : 1,\"title\" : \"3\",\"type\" : \"circle\",\"x\" : 0,\"y\" : 0},\"F6C035210A14649B8ACC817A0F6EDA8E2\" : {\"callbacks\" : {},\"color\" : \"\",\"id\" : \"F6C035210A14649B8ACC817A0F6EDA8E2\",\"layer\" : 0,\"menus\" : {},\"messages\" : {},\"parent\" : \"\",\"size\" : 1,\"title\" : \"5\",\"type\" : \"circle\",\"x\" : 0,\"y\" : 0},\"F7508097B0051421F8494BAC118AE61A8\" : {\"callbacks\" : {},\"color\" : \"\",\"id\" : \"F7508097B0051421F8494BAC118AE61A8\",\"layer\" : 0,\"menus\" : {},\"messages\" : {},\"parent\" : \"\",\"size\" : 1,\"title\" : \"7\",\"type\" : \"circle\",\"x\" : 0,\"y\" : 0}},\"simulation\" : true,\"type\" : \"undirected\"},\"height\" : 600,\"id\" : \"F1BADA1905CED475B6CE2F7E74D18C48B\",\"menus\" : {},\"messages\" : {},\"texTypesetting\" : true,\"title\" : \"Rosales graph\",\"width\" : 800,\"zoomToFit\" : true},\"mime\" : \"application\\/vnd.francy+json\",\"version\" : \"2.0.3\"}"
     },
     "execution_count": 16,
     "metadata": {
      "application/vnd.francy+json": {}
     },
     "output_type": "execute_result"
    }
   ],
   "source": [
    "DrawRosalesGraph(10,s);"
   ]
  },
  {
   "cell_type": "code",
   "execution_count": 17,
   "metadata": {},
   "outputs": [
    {
     "data": {
      "text/plain": [
       "[ 10, 12, 14 ]"
      ]
     },
     "execution_count": 17,
     "metadata": {
      "text/plain": ""
     },
     "output_type": "execute_result"
    }
   ],
   "source": [
    "BettiElements(s);"
   ]
  },
  {
   "cell_type": "code",
   "execution_count": null,
   "metadata": {},
   "outputs": [],
   "source": []
  }
 ],
 "metadata": {
  "kernelspec": {
   "display_name": "GAP 4",
   "language": "gap",
   "name": "gap-4"
  },
  "language_info": {
   "codemirror_mode": "gap",
   "file_extension": ".g",
   "mimetype": "text/x-gap",
   "name": "GAP 4",
   "nbconvert_exporter": "",
   "pygments_lexer": "gap",
   "version": "4.14dev"
  }
 },
 "nbformat": 4,
 "nbformat_minor": 4
}
