{
 "cells": [
  {
   "cell_type": "code",
   "execution_count": 1,
   "metadata": {},
   "outputs": [
    {
     "name": "stdout",
     "output_type": "stream",
     "text": [
      "#I  Please load package NormalizInterface or 4ti2Interface\n",
      "#I  to have extended functionalities.\n",
      "#I  Please load package SingularInterface or singular (not both)\n",
      "#I  or GradedModules to have extended functionalities.\n"
     ]
    },
    {
     "data": {
      "text/plain": [
       "true"
      ]
     },
     "execution_count": 1,
     "metadata": {
      "text/plain": ""
     },
     "output_type": "execute_result"
    }
   ],
   "source": [
    "LoadPackage(\"FrancyMonoids\");"
   ]
  },
  {
   "cell_type": "markdown",
   "metadata": {},
   "source": [
    "## Trees"
   ]
  },
  {
   "cell_type": "code",
   "execution_count": 2,
   "metadata": {},
   "outputs": [
    {
     "data": {
      "text/plain": [
       "The numerical semigroup N"
      ]
     },
     "execution_count": 2,
     "metadata": {
      "text/plain": ""
     },
     "output_type": "execute_result"
    }
   ],
   "source": [
    "s:=NumericalSemigroup(1);"
   ]
  },
  {
   "cell_type": "markdown",
   "metadata": {},
   "source": [
    "##  `DrawTreeOfSonsOfNumericalSemigroup(s,l,gensfunc)`\n",
    "\n",
    "This function draws the thre of the sons of `s` up to level `l` with respect to `gensfunc` (a function that gets minimal generators according to a given variety of numerical semigroups, for instance, `MinimalGenerators`)"
   ]
  },
  {
   "cell_type": "code",
   "execution_count": 3,
   "metadata": {
    "scrolled": false
   },
   "outputs": [
    {
     "data": {
      "application/vnd.francy+json": "{\"version\" : \"0.6.0\",\"mime\" : \"application\\/vnd.francy+json\",\"canvas\" : {\"width\" : 800,\"height\" : 600,\"id\" : \"F4\",\"title\" : \"Sons of a numerical semigroup\",\"zoomToFit\" : true,\"texTypesetting\" : true,\"menus\" : {},\"graph\" : {\"type\" : \"tree\",\"id\" : \"F1\",\"simulation\" : true,\"collapsed\" : false,\"drag\" : false,\"showNeighbours\" : false,\"nodes\" : {\"F2\" : {\"x\" : 0,\"y\" : 0,\"type\" : \"circle\",\"size\" : 5,\"id\" : \"F2\",\"title\" : \"S\",\"color\" : \"\",\"highlight\" : true,\"layer\" : 0,\"parent\" : \"\",\"menus\" : {},\"messages\" : {\"F3\" : {\"type\" : \"default\",\"id\" : \"F3\",\"text\" : \"[ 1 ]\",\"title\" : \"\"}},\"callbacks\" : {}},\"F5\" : {\"x\" : 0,\"y\" : 0,\"type\" : \"circle\",\"size\" : 5,\"id\" : \"F5\",\"title\" : \"{2,3}\",\"color\" : \"\",\"highlight\" : true,\"layer\" : 0,\"parent\" : \"F2\",\"menus\" : {},\"messages\" : {},\"callbacks\" : {}},\"F6\" : {\"x\" : 0,\"y\" : 0,\"type\" : \"circle\",\"size\" : 5,\"id\" : \"F6\",\"title\" : \"{3,4,5}\",\"color\" : \"\",\"highlight\" : true,\"layer\" : 0,\"parent\" : \"F5\",\"menus\" : {},\"messages\" : {},\"callbacks\" : {}},\"F7\" : {\"x\" : 0,\"y\" : 0,\"type\" : \"circle\",\"size\" : 5,\"id\" : \"F7\",\"title\" : \"{4,5,6,7}\",\"color\" : \"\",\"highlight\" : true,\"layer\" : 0,\"parent\" : \"F6\",\"menus\" : {},\"messages\" : {},\"callbacks\" : {}},\"F8\" : {\"x\" : 0,\"y\" : 0,\"type\" : \"circle\",\"size\" : 5,\"id\" : \"F8\",\"title\" : \"{5,6,7,8,9}\",\"color\" : \"\",\"highlight\" : true,\"layer\" : 0,\"parent\" : \"F7\",\"menus\" : {},\"messages\" : {},\"callbacks\" : {}},\"F9\" : {\"x\" : 0,\"y\" : 0,\"type\" : \"circle\",\"size\" : 5,\"id\" : \"F9\",\"title\" : \"{6,7,8,9,10,11}\",\"color\" : \"\",\"highlight\" : true,\"layer\" : 0,\"parent\" : \"F8\",\"menus\" : {},\"messages\" : {},\"callbacks\" : {}},\"F10\" : {\"x\" : 0,\"y\" : 0,\"type\" : \"circle\",\"size\" : 5,\"id\" : \"F10\",\"title\" : \"{5,7,8,9,11}\",\"color\" : \"\",\"highlight\" : true,\"layer\" : 0,\"parent\" : \"F8\",\"menus\" : {},\"messages\" : {},\"callbacks\" : {}},\"F11\" : {\"x\" : 0,\"y\" : 0,\"type\" : \"circle\",\"size\" : 5,\"id\" : \"F11\",\"title\" : \"{5,6,8,9}\",\"color\" : \"\",\"highlight\" : true,\"layer\" : 0,\"parent\" : \"F8\",\"menus\" : {},\"messages\" : {},\"callbacks\" : {}},\"F12\" : {\"x\" : 0,\"y\" : 0,\"type\" : \"circle\",\"size\" : 5,\"id\" : \"F12\",\"title\" : \"{5,6,7,9}\",\"color\" : \"\",\"highlight\" : true,\"layer\" : 0,\"parent\" : \"F8\",\"menus\" : {},\"messages\" : {},\"callbacks\" : {}},\"F13\" : {\"x\" : 0,\"y\" : 0,\"type\" : \"circle\",\"size\" : 5,\"id\" : \"F13\",\"title\" : \"{5,6,7,8}\",\"color\" : \"\",\"highlight\" : true,\"layer\" : 0,\"parent\" : \"F8\",\"menus\" : {},\"messages\" : {},\"callbacks\" : {}},\"F14\" : {\"x\" : 0,\"y\" : 0,\"type\" : \"circle\",\"size\" : 5,\"id\" : \"F14\",\"title\" : \"{4,6,7,9}\",\"color\" : \"\",\"highlight\" : true,\"layer\" : 0,\"parent\" : \"F7\",\"menus\" : {},\"messages\" : {},\"callbacks\" : {}},\"F15\" : {\"x\" : 0,\"y\" : 0,\"type\" : \"circle\",\"size\" : 5,\"id\" : \"F15\",\"title\" : \"{4,7,9,10}\",\"color\" : \"\",\"highlight\" : true,\"layer\" : 0,\"parent\" : \"F14\",\"menus\" : {},\"messages\" : {},\"callbacks\" : {}},\"F16\" : {\"x\" : 0,\"y\" : 0,\"type\" : \"circle\",\"size\" : 5,\"id\" : \"F16\",\"title\" : \"{4,6,9,11}\",\"color\" : \"\",\"highlight\" : true,\"layer\" : 0,\"parent\" : \"F14\",\"menus\" : {},\"messages\" : {},\"callbacks\" : {}},\"F17\" : {\"x\" : 0,\"y\" : 0,\"type\" : \"circle\",\"size\" : 5,\"id\" : \"F17\",\"title\" : \"{4,6,7}\",\"color\" : \"\",\"highlight\" : true,\"layer\" : 0,\"parent\" : \"F14\",\"menus\" : {},\"messages\" : {},\"callbacks\" : {}},\"F18\" : {\"x\" : 0,\"y\" : 0,\"type\" : \"circle\",\"size\" : 5,\"id\" : \"F18\",\"title\" : \"{4,5,7}\",\"color\" : \"\",\"highlight\" : true,\"layer\" : 0,\"parent\" : \"F7\",\"menus\" : {},\"messages\" : {},\"callbacks\" : {}},\"F19\" : {\"x\" : 0,\"y\" : 0,\"type\" : \"circle\",\"size\" : 5,\"id\" : \"F19\",\"title\" : \"{4,5,11}\",\"color\" : \"\",\"highlight\" : true,\"layer\" : 0,\"parent\" : \"F18\",\"menus\" : {},\"messages\" : {},\"callbacks\" : {}},\"F20\" : {\"x\" : 0,\"y\" : 0,\"type\" : \"circle\",\"size\" : 5,\"id\" : \"F20\",\"title\" : \"{4,5,6}\",\"color\" : \"\",\"highlight\" : true,\"layer\" : 0,\"parent\" : \"F7\",\"menus\" : {},\"messages\" : {},\"callbacks\" : {}},\"F21\" : {\"x\" : 0,\"y\" : 0,\"type\" : \"circle\",\"size\" : 5,\"id\" : \"F21\",\"title\" : \"{3,5,7}\",\"color\" : \"\",\"highlight\" : true,\"layer\" : 0,\"parent\" : \"F6\",\"menus\" : {},\"messages\" : {},\"callbacks\" : {}},\"F22\" : {\"x\" : 0,\"y\" : 0,\"type\" : \"circle\",\"size\" : 5,\"id\" : \"F22\",\"title\" : \"{3,7,8}\",\"color\" : \"\",\"highlight\" : true,\"layer\" : 0,\"parent\" : \"F21\",\"menus\" : {},\"messages\" : {},\"callbacks\" : {}},\"F23\" : {\"x\" : 0,\"y\" : 0,\"type\" : \"circle\",\"size\" : 5,\"id\" : \"F23\",\"title\" : \"{3,8,10}\",\"color\" : \"\",\"highlight\" : true,\"layer\" : 0,\"parent\" : \"F22\",\"menus\" : {},\"messages\" : {},\"callbacks\" : {}},\"F24\" : {\"x\" : 0,\"y\" : 0,\"type\" : \"circle\",\"size\" : 5,\"id\" : \"F24\",\"title\" : \"{3,7,11}\",\"color\" : \"\",\"highlight\" : true,\"layer\" : 0,\"parent\" : \"F22\",\"menus\" : {},\"messages\" : {},\"callbacks\" : {}},\"F25\" : {\"x\" : 0,\"y\" : 0,\"type\" : \"circle\",\"size\" : 5,\"id\" : \"F25\",\"title\" : \"{3,5}\",\"color\" : \"\",\"highlight\" : true,\"layer\" : 0,\"parent\" : \"F21\",\"menus\" : {},\"messages\" : {},\"callbacks\" : {}},\"F26\" : {\"x\" : 0,\"y\" : 0,\"type\" : \"circle\",\"size\" : 5,\"id\" : \"F26\",\"title\" : \"{3,4}\",\"color\" : \"\",\"highlight\" : true,\"layer\" : 0,\"parent\" : \"F6\",\"menus\" : {},\"messages\" : {},\"callbacks\" : {}},\"F27\" : {\"x\" : 0,\"y\" : 0,\"type\" : \"circle\",\"size\" : 5,\"id\" : \"F27\",\"title\" : \"{2,5}\",\"color\" : \"\",\"highlight\" : true,\"layer\" : 0,\"parent\" : \"F5\",\"menus\" : {},\"messages\" : {},\"callbacks\" : {}},\"F28\" : {\"x\" : 0,\"y\" : 0,\"type\" : \"circle\",\"size\" : 5,\"id\" : \"F28\",\"title\" : \"{2,7}\",\"color\" : \"\",\"highlight\" : true,\"layer\" : 0,\"parent\" : \"F27\",\"menus\" : {},\"messages\" : {},\"callbacks\" : {}},\"F29\" : {\"x\" : 0,\"y\" : 0,\"type\" : \"circle\",\"size\" : 5,\"id\" : \"F29\",\"title\" : \"{2,9}\",\"color\" : \"\",\"highlight\" : true,\"layer\" : 0,\"parent\" : \"F28\",\"menus\" : {},\"messages\" : {},\"callbacks\" : {}},\"F30\" : {\"x\" : 0,\"y\" : 0,\"type\" : \"circle\",\"size\" : 5,\"id\" : \"F30\",\"title\" : \"{2,11}\",\"color\" : \"\",\"highlight\" : true,\"layer\" : 0,\"parent\" : \"F29\",\"menus\" : {},\"messages\" : {},\"callbacks\" : {}}},\"links\" : {}},\"messages\" : {}}}"
     },
     "execution_count": 3,
     "metadata": {
      "application/vnd.francy+json": {}
     },
     "output_type": "execute_result"
    }
   ],
   "source": [
    "DrawTreeOfSonsOfNumericalSemigroup(s,5,MinimalGenerators);"
   ]
  },
  {
   "cell_type": "code",
   "execution_count": 4,
   "metadata": {},
   "outputs": [
    {
     "data": {
      "text/plain": [
       "Numerical semigroup with 3 generators"
      ]
     },
     "execution_count": 4,
     "metadata": {
      "text/plain": ""
     },
     "output_type": "execute_result"
    }
   ],
   "source": [
    "s:=NumericalSemigroup(4,6,9);"
   ]
  },
  {
   "cell_type": "markdown",
   "metadata": {},
   "source": [
    "## `DrawTreeOfGluingsOfNumericalSemigroup(s,expand...)`\n",
    "\n",
    "Draws the decomposition of `s` as a gluing of numerical semigroups, and then proceeds recursively with each of the factors. Decomposition is not unique, and this is why a tree is drawn. The optional argument `expand` may be true or false, and it makes the tree fully expandable or not."
   ]
  },
  {
   "cell_type": "code",
   "execution_count": 5,
   "metadata": {},
   "outputs": [
    {
     "data": {
      "application/vnd.francy+json": "{\"version\" : \"0.6.0\",\"mime\" : \"application\\/vnd.francy+json\",\"canvas\" : {\"width\" : 800,\"height\" : 600,\"id\" : \"F33\",\"title\" : \"Gluings of a numerical semigroup\",\"zoomToFit\" : true,\"texTypesetting\" : false,\"menus\" : {},\"graph\" : {\"type\" : \"tree\",\"id\" : \"F31\",\"simulation\" : true,\"collapsed\" : false,\"drag\" : false,\"showNeighbours\" : false,\"nodes\" : {\"F32\" : {\"x\" : 0,\"y\" : 0,\"type\" : \"circle\",\"size\" : 1,\"id\" : \"F32\",\"title\" : \"〈4,6,9〉\",\"color\" : \"\",\"highlight\" : true,\"layer\" : 0,\"parent\" : \"\",\"menus\" : {},\"messages\" : {},\"callbacks\" : {}},\"F34\" : {\"x\" : 0,\"y\" : 0,\"type\" : \"square\",\"size\" : 1,\"id\" : \"F34\",\"title\" : \"〈4〉 + 〈6,9〉\",\"color\" : \"\",\"highlight\" : true,\"layer\" : 0,\"parent\" : \"F32\",\"menus\" : {},\"messages\" : {},\"callbacks\" : {}},\"F35\" : {\"x\" : 0,\"y\" : 0,\"type\" : \"circle\",\"size\" : 1,\"id\" : \"F35\",\"title\" : \"〈1〉\",\"color\" : \"\",\"highlight\" : true,\"layer\" : 0,\"parent\" : \"F34\",\"menus\" : {},\"messages\" : {},\"callbacks\" : {}},\"F36\" : {\"x\" : 0,\"y\" : 0,\"type\" : \"circle\",\"size\" : 1,\"id\" : \"F36\",\"title\" : \"〈2,3〉\",\"color\" : \"\",\"highlight\" : true,\"layer\" : 0,\"parent\" : \"F34\",\"menus\" : {},\"messages\" : {},\"callbacks\" : {}},\"F37\" : {\"x\" : 0,\"y\" : 0,\"type\" : \"square\",\"size\" : 1,\"id\" : \"F37\",\"title\" : \"〈2〉 + 〈3〉\",\"color\" : \"\",\"highlight\" : true,\"layer\" : 0,\"parent\" : \"F36\",\"menus\" : {},\"messages\" : {},\"callbacks\" : {}},\"F38\" : {\"x\" : 0,\"y\" : 0,\"type\" : \"circle\",\"size\" : 1,\"id\" : \"F38\",\"title\" : \"〈1〉\",\"color\" : \"\",\"highlight\" : true,\"layer\" : 0,\"parent\" : \"F37\",\"menus\" : {},\"messages\" : {},\"callbacks\" : {}},\"F39\" : {\"x\" : 0,\"y\" : 0,\"type\" : \"circle\",\"size\" : 1,\"id\" : \"F39\",\"title\" : \"〈1〉\",\"color\" : \"\",\"highlight\" : true,\"layer\" : 0,\"parent\" : \"F37\",\"menus\" : {},\"messages\" : {},\"callbacks\" : {}},\"F40\" : {\"x\" : 0,\"y\" : 0,\"type\" : \"square\",\"size\" : 1,\"id\" : \"F40\",\"title\" : \"〈4,6〉 + 〈9〉\",\"color\" : \"\",\"highlight\" : true,\"layer\" : 0,\"parent\" : \"F32\",\"menus\" : {},\"messages\" : {},\"callbacks\" : {}},\"F41\" : {\"x\" : 0,\"y\" : 0,\"type\" : \"circle\",\"size\" : 1,\"id\" : \"F41\",\"title\" : \"〈2,3〉\",\"color\" : \"\",\"highlight\" : true,\"layer\" : 0,\"parent\" : \"F40\",\"menus\" : {},\"messages\" : {},\"callbacks\" : {}},\"F42\" : {\"x\" : 0,\"y\" : 0,\"type\" : \"circle\",\"size\" : 1,\"id\" : \"F42\",\"title\" : \"〈1〉\",\"color\" : \"\",\"highlight\" : true,\"layer\" : 0,\"parent\" : \"F40\",\"menus\" : {},\"messages\" : {},\"callbacks\" : {}},\"F43\" : {\"x\" : 0,\"y\" : 0,\"type\" : \"square\",\"size\" : 1,\"id\" : \"F43\",\"title\" : \"〈2〉 + 〈3〉\",\"color\" : \"\",\"highlight\" : true,\"layer\" : 0,\"parent\" : \"F41\",\"menus\" : {},\"messages\" : {},\"callbacks\" : {}},\"F44\" : {\"x\" : 0,\"y\" : 0,\"type\" : \"circle\",\"size\" : 1,\"id\" : \"F44\",\"title\" : \"〈1〉\",\"color\" : \"\",\"highlight\" : true,\"layer\" : 0,\"parent\" : \"F43\",\"menus\" : {},\"messages\" : {},\"callbacks\" : {}},\"F45\" : {\"x\" : 0,\"y\" : 0,\"type\" : \"circle\",\"size\" : 1,\"id\" : \"F45\",\"title\" : \"〈1〉\",\"color\" : \"\",\"highlight\" : true,\"layer\" : 0,\"parent\" : \"F43\",\"menus\" : {},\"messages\" : {},\"callbacks\" : {}}},\"links\" : {}},\"messages\" : {}}}"
     },
     "execution_count": 5,
     "metadata": {
      "application/vnd.francy+json": {}
     },
     "output_type": "execute_result"
    }
   ],
   "source": [
    "DrawTreeOfGluingsOfNumericalSemigroup(s,true);"
   ]
  },
  {
   "cell_type": "markdown",
   "metadata": {},
   "source": [
    "## Hasse Diagrams"
   ]
  },
  {
   "cell_type": "code",
   "execution_count": 6,
   "metadata": {},
   "outputs": [
    {
     "data": {
      "text/plain": [
       "Numerical semigroup with 3 generators"
      ]
     },
     "execution_count": 6,
     "metadata": {
      "text/plain": ""
     },
     "output_type": "execute_result"
    }
   ],
   "source": [
    "s:=NumericalSemigroup(3,5,7);"
   ]
  },
  {
   "cell_type": "markdown",
   "metadata": {},
   "source": [
    "## `DrawHasseDiagramOfNumericalSemigroup(s, A)`\n",
    "\n",
    "Draws the Hasse diagram of `A` (a set of integers) with respect to the ordering induced by `s`: $a\\preceq b$ if $b-a$ is in `s`."
   ]
  },
  {
   "cell_type": "code",
   "execution_count": 7,
   "metadata": {
    "scrolled": false
   },
   "outputs": [
    {
     "data": {
      "application/vnd.francy+json": "{\"version\" : \"0.6.0\",\"mime\" : \"application\\/vnd.francy+json\",\"canvas\" : {\"width\" : 800,\"height\" : 600,\"id\" : \"F132\",\"title\" : \"Hasse diagram of numerical semigroup\",\"zoomToFit\" : true,\"texTypesetting\" : false,\"menus\" : {},\"graph\" : {\"type\" : \"directed\",\"id\" : \"F46\",\"simulation\" : true,\"collapsed\" : true,\"drag\" : true,\"showNeighbours\" : false,\"nodes\" : {\"F47\" : {\"x\" : 0,\"y\" : 0,\"type\" : \"circle\",\"size\" : 10,\"id\" : \"F47\",\"title\" : \"1\",\"color\" : \"\",\"highlight\" : true,\"layer\" : 0,\"parent\" : \"\",\"menus\" : {},\"messages\" : {},\"callbacks\" : {\"F48\" : {\"func\" : \"unknown\",\"id\" : \"F48\",\"trigger\" : \"click\",\"knownArgs\" : [\"1\"],\"requiredArgs\" : {}}}},\"F49\" : {\"x\" : 0,\"y\" : 0,\"type\" : \"circle\",\"size\" : 10,\"id\" : \"F49\",\"title\" : \"2\",\"color\" : \"\",\"highlight\" : true,\"layer\" : 0,\"parent\" : \"\",\"menus\" : {},\"messages\" : {},\"callbacks\" : {\"F50\" : {\"func\" : \"unknown\",\"id\" : \"F50\",\"trigger\" : \"click\",\"knownArgs\" : [\"2\"],\"requiredArgs\" : {}}}},\"F51\" : {\"x\" : 0,\"y\" : 0,\"type\" : \"circle\",\"size\" : 10,\"id\" : \"F51\",\"title\" : \"3\",\"color\" : \"\",\"highlight\" : true,\"layer\" : 0,\"parent\" : \"\",\"menus\" : {},\"messages\" : {},\"callbacks\" : {\"F52\" : {\"func\" : \"unknown\",\"id\" : \"F52\",\"trigger\" : \"click\",\"knownArgs\" : [\"3\"],\"requiredArgs\" : {}}}},\"F53\" : {\"x\" : 0,\"y\" : 0,\"type\" : \"circle\",\"size\" : 10,\"id\" : \"F53\",\"title\" : \"4\",\"color\" : \"\",\"highlight\" : true,\"layer\" : -1,\"parent\" : \"\",\"menus\" : {},\"messages\" : {},\"callbacks\" : {\"F54\" : {\"func\" : \"unknown\",\"id\" : \"F54\",\"trigger\" : \"click\",\"knownArgs\" : [\"4\"],\"requiredArgs\" : {}}}},\"F55\" : {\"x\" : 0,\"y\" : 0,\"type\" : \"circle\",\"size\" : 10,\"id\" : \"F55\",\"title\" : \"5\",\"color\" : \"\",\"highlight\" : true,\"layer\" : -1,\"parent\" : \"\",\"menus\" : {},\"messages\" : {},\"callbacks\" : {\"F56\" : {\"func\" : \"unknown\",\"id\" : \"F56\",\"trigger\" : \"click\",\"knownArgs\" : [\"5\"],\"requiredArgs\" : {}}}},\"F57\" : {\"x\" : 0,\"y\" : 0,\"type\" : \"circle\",\"size\" : 10,\"id\" : \"F57\",\"title\" : \"6\",\"color\" : \"\",\"highlight\" : true,\"layer\" : -1,\"parent\" : \"\",\"menus\" : {},\"messages\" : {},\"callbacks\" : {\"F58\" : {\"func\" : \"unknown\",\"id\" : \"F58\",\"trigger\" : \"click\",\"knownArgs\" : [\"6\"],\"requiredArgs\" : {}}}},\"F59\" : {\"x\" : 0,\"y\" : 0,\"type\" : \"circle\",\"size\" : 10,\"id\" : \"F59\",\"title\" : \"7\",\"color\" : \"\",\"highlight\" : true,\"layer\" : -2,\"parent\" : \"\",\"menus\" : {},\"messages\" : {},\"callbacks\" : {\"F60\" : {\"func\" : \"unknown\",\"id\" : \"F60\",\"trigger\" : \"click\",\"knownArgs\" : [\"7\"],\"requiredArgs\" : {}}}},\"F61\" : {\"x\" : 0,\"y\" : 0,\"type\" : \"circle\",\"size\" : 10,\"id\" : \"F61\",\"title\" : \"8\",\"color\" : \"\",\"highlight\" : true,\"layer\" : -2,\"parent\" : \"\",\"menus\" : {},\"messages\" : {},\"callbacks\" : {\"F62\" : {\"func\" : \"unknown\",\"id\" : \"F62\",\"trigger\" : \"click\",\"knownArgs\" : [\"8\"],\"requiredArgs\" : {}}}},\"F63\" : {\"x\" : 0,\"y\" : 0,\"type\" : \"circle\",\"size\" : 10,\"id\" : \"F63\",\"title\" : \"9\",\"color\" : \"\",\"highlight\" : true,\"layer\" : -2,\"parent\" : \"\",\"menus\" : {},\"messages\" : {},\"callbacks\" : {\"F64\" : {\"func\" : \"unknown\",\"id\" : \"F64\",\"trigger\" : \"click\",\"knownArgs\" : [\"9\"],\"requiredArgs\" : {}}}},\"F65\" : {\"x\" : 0,\"y\" : 0,\"type\" : \"circle\",\"size\" : 10,\"id\" : \"F65\",\"title\" : \"10\",\"color\" : \"\",\"highlight\" : true,\"layer\" : -3,\"parent\" : \"\",\"menus\" : {},\"messages\" : {},\"callbacks\" : {\"F66\" : {\"func\" : \"unknown\",\"id\" : \"F66\",\"trigger\" : \"click\",\"knownArgs\" : [\"10\"],\"requiredArgs\" : {}}}},\"F67\" : {\"x\" : 0,\"y\" : 0,\"type\" : \"circle\",\"size\" : 10,\"id\" : \"F67\",\"title\" : \"11\",\"color\" : \"\",\"highlight\" : true,\"layer\" : -3,\"parent\" : \"\",\"menus\" : {},\"messages\" : {},\"callbacks\" : {\"F68\" : {\"func\" : \"unknown\",\"id\" : \"F68\",\"trigger\" : \"click\",\"knownArgs\" : [\"11\"],\"requiredArgs\" : {}}}},\"F69\" : {\"x\" : 0,\"y\" : 0,\"type\" : \"circle\",\"size\" : 10,\"id\" : \"F69\",\"title\" : \"12\",\"color\" : \"\",\"highlight\" : true,\"layer\" : -3,\"parent\" : \"\",\"menus\" : {},\"messages\" : {},\"callbacks\" : {\"F70\" : {\"func\" : \"unknown\",\"id\" : \"F70\",\"trigger\" : \"click\",\"knownArgs\" : [\"12\"],\"requiredArgs\" : {}}}},\"F71\" : {\"x\" : 0,\"y\" : 0,\"type\" : \"circle\",\"size\" : 10,\"id\" : \"F71\",\"title\" : \"13\",\"color\" : \"\",\"highlight\" : true,\"layer\" : -4,\"parent\" : \"\",\"menus\" : {},\"messages\" : {},\"callbacks\" : {\"F72\" : {\"func\" : \"unknown\",\"id\" : \"F72\",\"trigger\" : \"click\",\"knownArgs\" : [\"13\"],\"requiredArgs\" : {}}}},\"F73\" : {\"x\" : 0,\"y\" : 0,\"type\" : \"circle\",\"size\" : 10,\"id\" : \"F73\",\"title\" : \"14\",\"color\" : \"\",\"highlight\" : true,\"layer\" : -4,\"parent\" : \"\",\"menus\" : {},\"messages\" : {},\"callbacks\" : {\"F74\" : {\"func\" : \"unknown\",\"id\" : \"F74\",\"trigger\" : \"click\",\"knownArgs\" : [\"14\"],\"requiredArgs\" : {}}}},\"F75\" : {\"x\" : 0,\"y\" : 0,\"type\" : \"circle\",\"size\" : 10,\"id\" : \"F75\",\"title\" : \"15\",\"color\" : \"\",\"highlight\" : true,\"layer\" : -4,\"parent\" : \"\",\"menus\" : {},\"messages\" : {},\"callbacks\" : {\"F76\" : {\"func\" : \"unknown\",\"id\" : \"F76\",\"trigger\" : \"click\",\"knownArgs\" : [\"15\"],\"requiredArgs\" : {}}}},\"F77\" : {\"x\" : 0,\"y\" : 0,\"type\" : \"circle\",\"size\" : 10,\"id\" : \"F77\",\"title\" : \"16\",\"color\" : \"\",\"highlight\" : true,\"layer\" : -5,\"parent\" : \"\",\"menus\" : {},\"messages\" : {},\"callbacks\" : {\"F78\" : {\"func\" : \"unknown\",\"id\" : \"F78\",\"trigger\" : \"click\",\"knownArgs\" : [\"16\"],\"requiredArgs\" : {}}}},\"F79\" : {\"x\" : 0,\"y\" : 0,\"type\" : \"circle\",\"size\" : 10,\"id\" : \"F79\",\"title\" : \"17\",\"color\" : \"\",\"highlight\" : true,\"layer\" : -5,\"parent\" : \"\",\"menus\" : {},\"messages\" : {},\"callbacks\" : {\"F80\" : {\"func\" : \"unknown\",\"id\" : \"F80\",\"trigger\" : \"click\",\"knownArgs\" : [\"17\"],\"requiredArgs\" : {}}}},\"F81\" : {\"x\" : 0,\"y\" : 0,\"type\" : \"circle\",\"size\" : 10,\"id\" : \"F81\",\"title\" : \"18\",\"color\" : \"\",\"highlight\" : true,\"layer\" : -5,\"parent\" : \"\",\"menus\" : {},\"messages\" : {},\"callbacks\" : {\"F82\" : {\"func\" : \"unknown\",\"id\" : \"F82\",\"trigger\" : \"click\",\"knownArgs\" : [\"18\"],\"requiredArgs\" : {}}}},\"F83\" : {\"x\" : 0,\"y\" : 0,\"type\" : \"circle\",\"size\" : 10,\"id\" : \"F83\",\"title\" : \"19\",\"color\" : \"\",\"highlight\" : true,\"layer\" : -6,\"parent\" : \"\",\"menus\" : {},\"messages\" : {},\"callbacks\" : {\"F84\" : {\"func\" : \"unknown\",\"id\" : \"F84\",\"trigger\" : \"click\",\"knownArgs\" : [\"19\"],\"requiredArgs\" : {}}}},\"F85\" : {\"x\" : 0,\"y\" : 0,\"type\" : \"circle\",\"size\" : 10,\"id\" : \"F85\",\"title\" : \"20\",\"color\" : \"\",\"highlight\" : true,\"layer\" : -6,\"parent\" : \"\",\"menus\" : {},\"messages\" : {},\"callbacks\" : {\"F86\" : {\"func\" : \"unknown\",\"id\" : \"F86\",\"trigger\" : \"click\",\"knownArgs\" : [\"20\"],\"requiredArgs\" : {}}}}},\"links\" : {\"F87\" : {\"source\" : \"F47\",\"weight\" : 1,\"id\" : \"F87\",\"color\" : \"\",\"target\" : \"F53\"},\"F88\" : {\"source\" : \"F47\",\"weight\" : 1,\"id\" : \"F88\",\"color\" : \"\",\"target\" : \"F57\"},\"F89\" : {\"source\" : \"F47\",\"weight\" : 1,\"id\" : \"F89\",\"color\" : \"\",\"target\" : \"F61\"},\"F90\" : {\"source\" : \"F49\",\"weight\" : 1,\"id\" : \"F90\",\"color\" : \"\",\"target\" : \"F55\"},\"F91\" : {\"source\" : \"F49\",\"weight\" : 1,\"id\" : \"F91\",\"color\" : \"\",\"target\" : \"F59\"},\"F92\" : {\"source\" : \"F49\",\"weight\" : 1,\"id\" : \"F92\",\"color\" : \"\",\"target\" : \"F63\"},\"F93\" : {\"source\" : \"F51\",\"weight\" : 1,\"id\" : \"F93\",\"color\" : \"\",\"target\" : \"F57\"},\"F94\" : {\"source\" : \"F51\",\"weight\" : 1,\"id\" : \"F94\",\"color\" : \"\",\"target\" : \"F61\"},\"F95\" : {\"source\" : \"F51\",\"weight\" : 1,\"id\" : \"F95\",\"color\" : \"\",\"target\" : \"F65\"},\"F96\" : {\"source\" : \"F53\",\"weight\" : 1,\"id\" : \"F96\",\"color\" : \"\",\"target\" : \"F59\"},\"F97\" : {\"source\" : \"F53\",\"weight\" : 1,\"id\" : \"F97\",\"color\" : \"\",\"target\" : \"F63\"},\"F98\" : {\"source\" : \"F53\",\"weight\" : 1,\"id\" : \"F98\",\"color\" : \"\",\"target\" : \"F67\"},\"F99\" : {\"source\" : \"F55\",\"weight\" : 1,\"id\" : \"F99\",\"color\" : \"\",\"target\" : \"F61\"},\"F100\" : {\"source\" : \"F55\",\"weight\" : 1,\"id\" : \"F100\",\"color\" : \"\",\"target\" : \"F65\"},\"F101\" : {\"source\" : \"F55\",\"weight\" : 1,\"id\" : \"F101\",\"color\" : \"\",\"target\" : \"F69\"},\"F102\" : {\"source\" : \"F57\",\"weight\" : 1,\"id\" : \"F102\",\"color\" : \"\",\"target\" : \"F63\"},\"F103\" : {\"source\" : \"F57\",\"weight\" : 1,\"id\" : \"F103\",\"color\" : \"\",\"target\" : \"F67\"},\"F104\" : {\"source\" : \"F57\",\"weight\" : 1,\"id\" : \"F104\",\"color\" : \"\",\"target\" : \"F71\"},\"F105\" : {\"source\" : \"F59\",\"weight\" : 1,\"id\" : \"F105\",\"color\" : \"\",\"target\" : \"F65\"},\"F106\" : {\"source\" : \"F59\",\"weight\" : 1,\"id\" : \"F106\",\"color\" : \"\",\"target\" : \"F69\"},\"F107\" : {\"source\" : \"F59\",\"weight\" : 1,\"id\" : \"F107\",\"color\" : \"\",\"target\" : \"F73\"},\"F108\" : {\"source\" : \"F61\",\"weight\" : 1,\"id\" : \"F108\",\"color\" : \"\",\"target\" : \"F67\"},\"F109\" : {\"source\" : \"F61\",\"weight\" : 1,\"id\" : \"F109\",\"color\" : \"\",\"target\" : \"F71\"},\"F110\" : {\"source\" : \"F61\",\"weight\" : 1,\"id\" : \"F110\",\"color\" : \"\",\"target\" : \"F75\"},\"F111\" : {\"source\" : \"F63\",\"weight\" : 1,\"id\" : \"F111\",\"color\" : \"\",\"target\" : \"F69\"},\"F112\" : {\"source\" : \"F63\",\"weight\" : 1,\"id\" : \"F112\",\"color\" : \"\",\"target\" : \"F73\"},\"F113\" : {\"source\" : \"F63\",\"weight\" : 1,\"id\" : \"F113\",\"color\" : \"\",\"target\" : \"F77\"},\"F114\" : {\"source\" : \"F65\",\"weight\" : 1,\"id\" : \"F114\",\"color\" : \"\",\"target\" : \"F71\"},\"F115\" : {\"source\" : \"F65\",\"weight\" : 1,\"id\" : \"F115\",\"color\" : \"\",\"target\" : \"F75\"},\"F116\" : {\"source\" : \"F65\",\"weight\" : 1,\"id\" : \"F116\",\"color\" : \"\",\"target\" : \"F79\"},\"F117\" : {\"source\" : \"F67\",\"weight\" : 1,\"id\" : \"F117\",\"color\" : \"\",\"target\" : \"F73\"},\"F118\" : {\"source\" : \"F67\",\"weight\" : 1,\"id\" : \"F118\",\"color\" : \"\",\"target\" : \"F77\"},\"F119\" : {\"source\" : \"F67\",\"weight\" : 1,\"id\" : \"F119\",\"color\" : \"\",\"target\" : \"F81\"},\"F120\" : {\"source\" : \"F69\",\"weight\" : 1,\"id\" : \"F120\",\"color\" : \"\",\"target\" : \"F75\"},\"F121\" : {\"source\" : \"F69\",\"weight\" : 1,\"id\" : \"F121\",\"color\" : \"\",\"target\" : \"F79\"},\"F122\" : {\"source\" : \"F69\",\"weight\" : 1,\"id\" : \"F122\",\"color\" : \"\",\"target\" : \"F83\"},\"F123\" : {\"source\" : \"F71\",\"weight\" : 1,\"id\" : \"F123\",\"color\" : \"\",\"target\" : \"F77\"},\"F124\" : {\"source\" : \"F71\",\"weight\" : 1,\"id\" : \"F124\",\"color\" : \"\",\"target\" : \"F81\"},\"F125\" : {\"source\" : \"F71\",\"weight\" : 1,\"id\" : \"F125\",\"color\" : \"\",\"target\" : \"F85\"},\"F126\" : {\"source\" : \"F73\",\"weight\" : 1,\"id\" : \"F126\",\"color\" : \"\",\"target\" : \"F79\"},\"F127\" : {\"source\" : \"F73\",\"weight\" : 1,\"id\" : \"F127\",\"color\" : \"\",\"target\" : \"F83\"},\"F128\" : {\"source\" : \"F75\",\"weight\" : 1,\"id\" : \"F128\",\"color\" : \"\",\"target\" : \"F81\"},\"F129\" : {\"source\" : \"F75\",\"weight\" : 1,\"id\" : \"F129\",\"color\" : \"\",\"target\" : \"F85\"},\"F130\" : {\"source\" : \"F77\",\"weight\" : 1,\"id\" : \"F130\",\"color\" : \"\",\"target\" : \"F83\"},\"F131\" : {\"source\" : \"F79\",\"weight\" : 1,\"id\" : \"F131\",\"color\" : \"\",\"target\" : \"F85\"}}},\"messages\" : {}}}"
     },
     "execution_count": 7,
     "metadata": {
      "application/vnd.francy+json": {}
     },
     "output_type": "execute_result"
    }
   ],
   "source": [
    "DrawHasseDiagramOfNumericalSemigroup(s,[1..20]);"
   ]
  },
  {
   "cell_type": "markdown",
   "metadata": {},
   "source": [
    "Of special interest is the Hasse diagram of an Apéry set or of the Betti elements."
   ]
  },
  {
   "cell_type": "code",
   "execution_count": 9,
   "metadata": {
    "scrolled": false
   },
   "outputs": [
    {
     "data": {
      "text/plain": [
       "Numerical semigroup with 4 generators"
      ]
     },
     "execution_count": 8,
     "metadata": {
      "text/plain": ""
     },
     "output_type": "execute_result"
    },
    {
     "data": {
      "application/vnd.francy+json": "{\"version\" : \"0.6.0\",\"mime\" : \"application\\/vnd.francy+json\",\"canvas\" : {\"width\" : 800,\"height\" : 600,\"id\" : \"F174\",\"title\" : \"Hasse diagram of numerical semigroup\",\"zoomToFit\" : true,\"texTypesetting\" : false,\"menus\" : {},\"graph\" : {\"type\" : \"directed\",\"id\" : \"F133\",\"simulation\" : true,\"collapsed\" : true,\"drag\" : true,\"showNeighbours\" : false,\"nodes\" : {\"F134\" : {\"x\" : 0,\"y\" : 0,\"type\" : \"circle\",\"size\" : 10,\"id\" : \"F134\",\"title\" : \"0\",\"color\" : \"\",\"highlight\" : true,\"layer\" : 0,\"parent\" : \"\",\"menus\" : {},\"messages\" : {},\"callbacks\" : {\"F135\" : {\"func\" : \"unknown\",\"id\" : \"F135\",\"trigger\" : \"click\",\"knownArgs\" : [\"0\"],\"requiredArgs\" : {}}}},\"F136\" : {\"x\" : 0,\"y\" : 0,\"type\" : \"circle\",\"size\" : 10,\"id\" : \"F136\",\"title\" : \"5\",\"color\" : \"\",\"highlight\" : true,\"layer\" : -1,\"parent\" : \"\",\"menus\" : {},\"messages\" : {},\"callbacks\" : {\"F137\" : {\"func\" : \"unknown\",\"id\" : \"F137\",\"trigger\" : \"click\",\"knownArgs\" : [\"5\"],\"requiredArgs\" : {}}}},\"F138\" : {\"x\" : 0,\"y\" : 0,\"type\" : \"circle\",\"size\" : 10,\"id\" : \"F138\",\"title\" : \"7\",\"color\" : \"\",\"highlight\" : true,\"layer\" : -1,\"parent\" : \"\",\"menus\" : {},\"messages\" : {},\"callbacks\" : {\"F139\" : {\"func\" : \"unknown\",\"id\" : \"F139\",\"trigger\" : \"click\",\"knownArgs\" : [\"7\"],\"requiredArgs\" : {}}}},\"F140\" : {\"x\" : 0,\"y\" : 0,\"type\" : \"circle\",\"size\" : 10,\"id\" : \"F140\",\"title\" : \"9\",\"color\" : \"\",\"highlight\" : true,\"layer\" : -1,\"parent\" : \"\",\"menus\" : {},\"messages\" : {},\"callbacks\" : {\"F141\" : {\"func\" : \"unknown\",\"id\" : \"F141\",\"trigger\" : \"click\",\"knownArgs\" : [\"9\"],\"requiredArgs\" : {}}}},\"F142\" : {\"x\" : 0,\"y\" : 0,\"type\" : \"circle\",\"size\" : 10,\"id\" : \"F142\",\"title\" : \"11\",\"color\" : \"\",\"highlight\" : true,\"layer\" : -1,\"parent\" : \"\",\"menus\" : {},\"messages\" : {},\"callbacks\" : {\"F143\" : {\"func\" : \"unknown\",\"id\" : \"F143\",\"trigger\" : \"click\",\"knownArgs\" : [\"11\"],\"requiredArgs\" : {}}}},\"F144\" : {\"x\" : 0,\"y\" : 0,\"type\" : \"circle\",\"size\" : 10,\"id\" : \"F144\",\"title\" : \"12\",\"color\" : \"\",\"highlight\" : true,\"layer\" : -2,\"parent\" : \"\",\"menus\" : {},\"messages\" : {},\"callbacks\" : {\"F145\" : {\"func\" : \"unknown\",\"id\" : \"F145\",\"trigger\" : \"click\",\"knownArgs\" : [\"12\"],\"requiredArgs\" : {}}}},\"F146\" : {\"x\" : 0,\"y\" : 0,\"type\" : \"circle\",\"size\" : 10,\"id\" : \"F146\",\"title\" : \"14\",\"color\" : \"\",\"highlight\" : true,\"layer\" : -2,\"parent\" : \"\",\"menus\" : {},\"messages\" : {},\"callbacks\" : {\"F147\" : {\"func\" : \"unknown\",\"id\" : \"F147\",\"trigger\" : \"click\",\"knownArgs\" : [\"14\"],\"requiredArgs\" : {}}}},\"F148\" : {\"x\" : 0,\"y\" : 0,\"type\" : \"circle\",\"size\" : 10,\"id\" : \"F148\",\"title\" : \"16\",\"color\" : \"\",\"highlight\" : true,\"layer\" : -2,\"parent\" : \"\",\"menus\" : {},\"messages\" : {},\"callbacks\" : {\"F149\" : {\"func\" : \"unknown\",\"id\" : \"F149\",\"trigger\" : \"click\",\"knownArgs\" : [\"16\"],\"requiredArgs\" : {}}}},\"F150\" : {\"x\" : 0,\"y\" : 0,\"type\" : \"circle\",\"size\" : 10,\"id\" : \"F150\",\"title\" : \"18\",\"color\" : \"\",\"highlight\" : true,\"layer\" : -2,\"parent\" : \"\",\"menus\" : {},\"messages\" : {},\"callbacks\" : {\"F151\" : {\"func\" : \"unknown\",\"id\" : \"F151\",\"trigger\" : \"click\",\"knownArgs\" : [\"18\"],\"requiredArgs\" : {}}}},\"F152\" : {\"x\" : 0,\"y\" : 0,\"type\" : \"circle\",\"size\" : 10,\"id\" : \"F152\",\"title\" : \"23\",\"color\" : \"\",\"highlight\" : true,\"layer\" : -3,\"parent\" : \"\",\"menus\" : {},\"messages\" : {},\"callbacks\" : {\"F153\" : {\"func\" : \"unknown\",\"id\" : \"F153\",\"trigger\" : \"click\",\"knownArgs\" : [\"23\"],\"requiredArgs\" : {}}}}},\"links\" : {\"F154\" : {\"source\" : \"F134\",\"weight\" : 1,\"id\" : \"F154\",\"color\" : \"\",\"target\" : \"F136\"},\"F155\" : {\"source\" : \"F134\",\"weight\" : 1,\"id\" : \"F155\",\"color\" : \"\",\"target\" : \"F138\"},\"F156\" : {\"source\" : \"F134\",\"weight\" : 1,\"id\" : \"F156\",\"color\" : \"\",\"target\" : \"F140\"},\"F157\" : {\"source\" : \"F134\",\"weight\" : 1,\"id\" : \"F157\",\"color\" : \"\",\"target\" : \"F142\"},\"F158\" : {\"source\" : \"F136\",\"weight\" : 1,\"id\" : \"F158\",\"color\" : \"\",\"target\" : \"F144\"},\"F159\" : {\"source\" : \"F136\",\"weight\" : 1,\"id\" : \"F159\",\"color\" : \"\",\"target\" : \"F146\"},\"F160\" : {\"source\" : \"F136\",\"weight\" : 1,\"id\" : \"F160\",\"color\" : \"\",\"target\" : \"F148\"},\"F161\" : {\"source\" : \"F138\",\"weight\" : 1,\"id\" : \"F161\",\"color\" : \"\",\"target\" : \"F144\"},\"F162\" : {\"source\" : \"F138\",\"weight\" : 1,\"id\" : \"F162\",\"color\" : \"\",\"target\" : \"F146\"},\"F163\" : {\"source\" : \"F138\",\"weight\" : 1,\"id\" : \"F163\",\"color\" : \"\",\"target\" : \"F148\"},\"F164\" : {\"source\" : \"F138\",\"weight\" : 1,\"id\" : \"F164\",\"color\" : \"\",\"target\" : \"F150\"},\"F165\" : {\"source\" : \"F140\",\"weight\" : 1,\"id\" : \"F165\",\"color\" : \"\",\"target\" : \"F146\"},\"F166\" : {\"source\" : \"F140\",\"weight\" : 1,\"id\" : \"F166\",\"color\" : \"\",\"target\" : \"F148\"},\"F167\" : {\"source\" : \"F140\",\"weight\" : 1,\"id\" : \"F167\",\"color\" : \"\",\"target\" : \"F150\"},\"F168\" : {\"source\" : \"F142\",\"weight\" : 1,\"id\" : \"F168\",\"color\" : \"\",\"target\" : \"F148\"},\"F169\" : {\"source\" : \"F142\",\"weight\" : 1,\"id\" : \"F169\",\"color\" : \"\",\"target\" : \"F150\"},\"F170\" : {\"source\" : \"F144\",\"weight\" : 1,\"id\" : \"F170\",\"color\" : \"\",\"target\" : \"F152\"},\"F171\" : {\"source\" : \"F146\",\"weight\" : 1,\"id\" : \"F171\",\"color\" : \"\",\"target\" : \"F152\"},\"F172\" : {\"source\" : \"F148\",\"weight\" : 1,\"id\" : \"F172\",\"color\" : \"\",\"target\" : \"F152\"},\"F173\" : {\"source\" : \"F150\",\"weight\" : 1,\"id\" : \"F173\",\"color\" : \"\",\"target\" : \"F152\"}}},\"messages\" : {}}}"
     },
     "execution_count": 9,
     "metadata": {
      "application/vnd.francy+json": {}
     },
     "output_type": "execute_result"
    }
   ],
   "source": [
    "s:=NumericalSemigroup(5,7,9,11);\n",
    "DrawHasseDiagramOfNumericalSemigroup(s,AperyList(s,10));"
   ]
  },
  {
   "cell_type": "markdown",
   "metadata": {},
   "source": [
    "## `DrawOverSemigroupsNumericalSemigroup(s)`\n",
    "\n",
    "Draws the Hasse diagram of oversemigroups of the numerical semigroup `s`."
   ]
  },
  {
   "cell_type": "code",
   "execution_count": 11,
   "metadata": {},
   "outputs": [
    {
     "data": {
      "text/plain": [
       "Numerical semigroup with 4 generators"
      ]
     },
     "execution_count": 10,
     "metadata": {
      "text/plain": ""
     },
     "output_type": "execute_result"
    },
    {
     "data": {
      "application/vnd.francy+json": "{\"version\" : \"0.6.0\",\"mime\" : \"application\\/vnd.francy+json\",\"canvas\" : {\"width\" : 800,\"height\" : 600,\"id\" : \"F213\",\"title\" : \"Oversemigroups\",\"zoomToFit\" : true,\"texTypesetting\" : true,\"menus\" : {},\"graph\" : {\"type\" : \"directed\",\"id\" : \"F175\",\"simulation\" : true,\"collapsed\" : true,\"drag\" : true,\"showNeighbours\" : false,\"nodes\" : {\"F176\" : {\"x\" : 0,\"y\" : 0,\"type\" : \"diamond\",\"size\" : 2,\"id\" : \"F176\",\"title\" : \"〈 1 〉\",\"color\" : \"\",\"highlight\" : true,\"layer\" : 0,\"parent\" : \"\",\"menus\" : {},\"messages\" : {},\"callbacks\" : {}},\"F177\" : {\"x\" : 0,\"y\" : 0,\"type\" : \"diamond\",\"size\" : 2,\"id\" : \"F177\",\"title\" : \"〈 2,3 〉\",\"color\" : \"\",\"highlight\" : true,\"layer\" : 1,\"parent\" : \"\",\"menus\" : {},\"messages\" : {},\"callbacks\" : {}},\"F178\" : {\"x\" : 0,\"y\" : 0,\"type\" : \"diamond\",\"size\" : 2,\"id\" : \"F178\",\"title\" : \"〈 2,5 〉\",\"color\" : \"\",\"highlight\" : true,\"layer\" : 2,\"parent\" : \"\",\"menus\" : {},\"messages\" : {},\"callbacks\" : {}},\"F179\" : {\"x\" : 0,\"y\" : 0,\"type\" : \"diamond\",\"size\" : 2,\"id\" : \"F179\",\"title\" : \"〈 3,4,5 〉\",\"color\" : \"\",\"highlight\" : true,\"layer\" : 2,\"parent\" : \"\",\"menus\" : {},\"messages\" : {},\"callbacks\" : {}},\"F180\" : {\"x\" : 0,\"y\" : 0,\"type\" : \"diamond\",\"size\" : 2,\"id\" : \"F180\",\"title\" : \"〈 3,5,7 〉\",\"color\" : \"\",\"highlight\" : true,\"layer\" : 3,\"parent\" : \"\",\"menus\" : {},\"messages\" : {},\"callbacks\" : {}},\"F181\" : {\"x\" : 0,\"y\" : 0,\"type\" : \"circle\",\"size\" : 2,\"id\" : \"F181\",\"title\" : \"〈 4,5,6,7 〉\",\"color\" : \"\",\"highlight\" : true,\"layer\" : 3,\"parent\" : \"\",\"menus\" : {},\"messages\" : {},\"callbacks\" : {}},\"F182\" : {\"x\" : 0,\"y\" : 0,\"type\" : \"diamond\",\"size\" : 2,\"id\" : \"F182\",\"title\" : \"〈 4,5,7 〉\",\"color\" : \"\",\"highlight\" : true,\"layer\" : 4,\"parent\" : \"\",\"menus\" : {},\"messages\" : {},\"callbacks\" : {}},\"F183\" : {\"x\" : 0,\"y\" : 0,\"type\" : \"circle\",\"size\" : 2,\"id\" : \"F183\",\"title\" : \"〈 5,6,7,8,9 〉\",\"color\" : \"\",\"highlight\" : true,\"layer\" : 4,\"parent\" : \"\",\"menus\" : {},\"messages\" : {},\"callbacks\" : {}},\"F184\" : {\"x\" : 0,\"y\" : 0,\"type\" : \"diamond\",\"size\" : 2,\"id\" : \"F184\",\"title\" : \"〈 5,6,7,8 〉\",\"color\" : \"\",\"highlight\" : true,\"layer\" : 5,\"parent\" : \"\",\"menus\" : {},\"messages\" : {},\"callbacks\" : {}},\"F185\" : {\"x\" : 0,\"y\" : 0,\"type\" : \"diamond\",\"size\" : 2,\"id\" : \"F185\",\"title\" : \"〈 5,6,7,9 〉\",\"color\" : \"\",\"highlight\" : true,\"layer\" : 5,\"parent\" : \"\",\"menus\" : {},\"messages\" : {},\"callbacks\" : {}},\"F186\" : {\"x\" : 0,\"y\" : 0,\"type\" : \"circle\",\"size\" : 2,\"id\" : \"F186\",\"title\" : \"〈 5,6,7 〉\",\"color\" : \"\",\"highlight\" : true,\"layer\" : 6,\"parent\" : \"\",\"menus\" : {},\"messages\" : {},\"callbacks\" : {}},\"F187\" : {\"x\" : 0,\"y\" : 0,\"type\" : \"circle\",\"size\" : 2,\"id\" : \"F187\",\"title\" : \"〈 5,7,8,9,11 〉\",\"color\" : \"\",\"highlight\" : true,\"layer\" : 5,\"parent\" : \"\",\"menus\" : {},\"messages\" : {},\"callbacks\" : {}},\"F188\" : {\"x\" : 0,\"y\" : 0,\"type\" : \"circle\",\"size\" : 2,\"id\" : \"F188\",\"title\" : \"〈 5,7,8,11 〉\",\"color\" : \"\",\"highlight\" : true,\"layer\" : 6,\"parent\" : \"\",\"menus\" : {},\"messages\" : {},\"callbacks\" : {}},\"F189\" : {\"x\" : 0,\"y\" : 0,\"type\" : \"circle\",\"size\" : 2,\"id\" : \"F189\",\"title\" : \"〈 5,7,9,11,13 〉\",\"color\" : \"\",\"highlight\" : true,\"layer\" : 6,\"parent\" : \"\",\"menus\" : {},\"messages\" : {},\"callbacks\" : {}},\"F190\" : {\"x\" : 0,\"y\" : 0,\"type\" : \"circle\",\"size\" : 2,\"id\" : \"F190\",\"title\" : \"〈 5,7,11,13 〉\",\"color\" : \"\",\"highlight\" : true,\"layer\" : 7,\"parent\" : \"\",\"menus\" : {},\"messages\" : {},\"callbacks\" : {}}},\"links\" : {\"F191\" : {\"source\" : \"F177\",\"weight\" : 1,\"id\" : \"F191\",\"color\" : \"\",\"target\" : \"F176\"},\"F192\" : {\"source\" : \"F178\",\"weight\" : 1,\"id\" : \"F192\",\"color\" : \"\",\"target\" : \"F177\"},\"F193\" : {\"source\" : \"F179\",\"weight\" : 1,\"id\" : \"F193\",\"color\" : \"\",\"target\" : \"F177\"},\"F194\" : {\"source\" : \"F181\",\"weight\" : 1,\"id\" : \"F194\",\"color\" : \"\",\"target\" : \"F178\"},\"F195\" : {\"source\" : \"F180\",\"weight\" : 1,\"id\" : \"F195\",\"color\" : \"\",\"target\" : \"F179\"},\"F196\" : {\"source\" : \"F181\",\"weight\" : 1,\"id\" : \"F196\",\"color\" : \"\",\"target\" : \"F179\"},\"F197\" : {\"source\" : \"F183\",\"weight\" : 1,\"id\" : \"F197\",\"color\" : \"\",\"target\" : \"F180\"},\"F198\" : {\"source\" : \"F182\",\"weight\" : 1,\"id\" : \"F198\",\"color\" : \"\",\"target\" : \"F181\"},\"F199\" : {\"source\" : \"F183\",\"weight\" : 1,\"id\" : \"F199\",\"color\" : \"\",\"target\" : \"F181\"},\"F200\" : {\"source\" : \"F187\",\"weight\" : 1,\"id\" : \"F200\",\"color\" : \"\",\"target\" : \"F182\"},\"F201\" : {\"source\" : \"F184\",\"weight\" : 1,\"id\" : \"F201\",\"color\" : \"\",\"target\" : \"F183\"},\"F202\" : {\"source\" : \"F185\",\"weight\" : 1,\"id\" : \"F202\",\"color\" : \"\",\"target\" : \"F183\"},\"F203\" : {\"source\" : \"F187\",\"weight\" : 1,\"id\" : \"F203\",\"color\" : \"\",\"target\" : \"F183\"},\"F204\" : {\"source\" : \"F186\",\"weight\" : 1,\"id\" : \"F204\",\"color\" : \"\",\"target\" : \"F184\"},\"F205\" : {\"source\" : \"F188\",\"weight\" : 1,\"id\" : \"F205\",\"color\" : \"\",\"target\" : \"F184\"},\"F206\" : {\"source\" : \"F186\",\"weight\" : 1,\"id\" : \"F206\",\"color\" : \"\",\"target\" : \"F185\"},\"F207\" : {\"source\" : \"F189\",\"weight\" : 1,\"id\" : \"F207\",\"color\" : \"\",\"target\" : \"F185\"},\"F208\" : {\"source\" : \"F190\",\"weight\" : 1,\"id\" : \"F208\",\"color\" : \"\",\"target\" : \"F186\"},\"F209\" : {\"source\" : \"F188\",\"weight\" : 1,\"id\" : \"F209\",\"color\" : \"\",\"target\" : \"F187\"},\"F210\" : {\"source\" : \"F189\",\"weight\" : 1,\"id\" : \"F210\",\"color\" : \"\",\"target\" : \"F187\"},\"F211\" : {\"source\" : \"F190\",\"weight\" : 1,\"id\" : \"F211\",\"color\" : \"\",\"target\" : \"F188\"},\"F212\" : {\"source\" : \"F190\",\"weight\" : 1,\"id\" : \"F212\",\"color\" : \"\",\"target\" : \"F189\"}}},\"messages\" : {}}}"
     },
     "execution_count": 11,
     "metadata": {
      "application/vnd.francy+json": {}
     },
     "output_type": "execute_result"
    }
   ],
   "source": [
    "s:=NumericalSemigroup(5,7,11,13);\n",
    "DrawOverSemigroupsNumericalSemigroup(s);"
   ]
  },
  {
   "cell_type": "markdown",
   "metadata": {},
   "source": [
    "## Graphs"
   ]
  },
  {
   "cell_type": "code",
   "execution_count": 12,
   "metadata": {},
   "outputs": [
    {
     "data": {
      "text/plain": [
       "Numerical semigroup with 3 generators"
      ]
     },
     "execution_count": 12,
     "metadata": {
      "text/plain": ""
     },
     "output_type": "execute_result"
    }
   ],
   "source": [
    "s:=NumericalSemigroup(3,5,7);"
   ]
  },
  {
   "cell_type": "code",
   "execution_count": 13,
   "metadata": {},
   "outputs": [
    {
     "data": {
      "text/plain": [
       "[ [ 10, 0, 0 ], [ 5, 3, 0 ], [ 0, 6, 0 ], [ 6, 1, 1 ], [ 1, 4, 1 ], [ 2, 2, 2 ], [ 3, 0, 3 ] ]"
      ]
     },
     "execution_count": 13,
     "metadata": {
      "text/plain": ""
     },
     "output_type": "execute_result"
    }
   ],
   "source": [
    "f:=FactorizationsElementWRTNumericalSemigroup(30,s);"
   ]
  },
  {
   "cell_type": "markdown",
   "metadata": {},
   "source": [
    "## `DrawFactorizationGraph(f)`\n",
    "\n",
    "Draws the factorization graph of a set of factorizations `f`, the complete graph with vertices the elements of `f`. Labels are labeled with distances between the nodes they join. It also draws a minimal spanning tree (with minimal distances) and thus one can read the Catenary degree from this tree."
   ]
  },
  {
   "cell_type": "code",
   "execution_count": 14,
   "metadata": {},
   "outputs": [
    {
     "data": {
      "application/vnd.francy+json": "{\"version\" : \"0.6.0\",\"mime\" : \"application\\/vnd.francy+json\",\"canvas\" : {\"width\" : 800,\"height\" : 600,\"id\" : \"F241\",\"title\" : \"Factorizations graph\",\"zoomToFit\" : true,\"texTypesetting\" : false,\"menus\" : {},\"graph\" : {\"type\" : \"undirected\",\"id\" : \"F214\",\"simulation\" : true,\"collapsed\" : true,\"drag\" : true,\"showNeighbours\" : true,\"nodes\" : {\"F215\" : {\"x\" : 0,\"y\" : 0,\"type\" : \"circle\",\"size\" : 1,\"id\" : \"F215\",\"title\" : \"(10,0,0)\",\"color\" : \"\",\"highlight\" : true,\"layer\" : 10,\"parent\" : \"\",\"menus\" : {},\"messages\" : {},\"callbacks\" : {}},\"F216\" : {\"x\" : 0,\"y\" : 0,\"type\" : \"circle\",\"size\" : 1,\"id\" : \"F216\",\"title\" : \"(5,3,0)\",\"color\" : \"\",\"highlight\" : true,\"layer\" : 8,\"parent\" : \"\",\"menus\" : {},\"messages\" : {},\"callbacks\" : {}},\"F217\" : {\"x\" : 0,\"y\" : 0,\"type\" : \"circle\",\"size\" : 1,\"id\" : \"F217\",\"title\" : \"(0,6,0)\",\"color\" : \"\",\"highlight\" : true,\"layer\" : 6,\"parent\" : \"\",\"menus\" : {},\"messages\" : {},\"callbacks\" : {}},\"F218\" : {\"x\" : 0,\"y\" : 0,\"type\" : \"circle\",\"size\" : 1,\"id\" : \"F218\",\"title\" : \"(6,1,1)\",\"color\" : \"\",\"highlight\" : true,\"layer\" : 8,\"parent\" : \"\",\"menus\" : {},\"messages\" : {},\"callbacks\" : {}},\"F219\" : {\"x\" : 0,\"y\" : 0,\"type\" : \"circle\",\"size\" : 1,\"id\" : \"F219\",\"title\" : \"(1,4,1)\",\"color\" : \"\",\"highlight\" : true,\"layer\" : 6,\"parent\" : \"\",\"menus\" : {},\"messages\" : {},\"callbacks\" : {}},\"F220\" : {\"x\" : 0,\"y\" : 0,\"type\" : \"circle\",\"size\" : 1,\"id\" : \"F220\",\"title\" : \"(2,2,2)\",\"color\" : \"\",\"highlight\" : true,\"layer\" : 6,\"parent\" : \"\",\"menus\" : {},\"messages\" : {},\"callbacks\" : {}},\"F221\" : {\"x\" : 0,\"y\" : 0,\"type\" : \"circle\",\"size\" : 1,\"id\" : \"F221\",\"title\" : \"(3,0,3)\",\"color\" : \"\",\"highlight\" : true,\"layer\" : 6,\"parent\" : \"\",\"menus\" : {},\"messages\" : {},\"callbacks\" : {}}},\"links\" : {\"F222\" : {\"source\" : \"F216\",\"weight\" : 1,\"id\" : \"F222\",\"title\" : \"2\",\"color\" : \"red\",\"target\" : \"F218\"},\"F223\" : {\"source\" : \"F217\",\"weight\" : 1,\"id\" : \"F223\",\"title\" : \"2\",\"color\" : \"red\",\"target\" : \"F219\"},\"F224\" : {\"source\" : \"F219\",\"weight\" : 1,\"id\" : \"F224\",\"title\" : \"2\",\"color\" : \"red\",\"target\" : \"F220\"},\"F225\" : {\"source\" : \"F220\",\"weight\" : 1,\"id\" : \"F225\",\"title\" : \"2\",\"color\" : \"red\",\"target\" : \"F221\"},\"F226\" : {\"source\" : \"F215\",\"weight\" : 1,\"id\" : \"F226\",\"title\" : \"4\",\"color\" : \"red\",\"target\" : \"F218\"},\"F227\" : {\"source\" : \"F216\",\"weight\" : 1,\"id\" : \"F227\",\"title\" : \"4\",\"color\" : \"red\",\"target\" : \"F219\"},\"F228\" : {\"source\" : \"F216\",\"weight\" : 1,\"id\" : \"F228\",\"title\" : \"4\",\"color\" : \"\",\"target\" : \"F220\"},\"F229\" : {\"source\" : \"F217\",\"weight\" : 1,\"id\" : \"F229\",\"title\" : \"4\",\"color\" : \"\",\"target\" : \"F220\"},\"F230\" : {\"source\" : \"F218\",\"weight\" : 1,\"id\" : \"F230\",\"title\" : \"4\",\"color\" : \"\",\"target\" : \"F220\"},\"F231\" : {\"source\" : \"F218\",\"weight\" : 1,\"id\" : \"F231\",\"title\" : \"4\",\"color\" : \"\",\"target\" : \"F221\"},\"F232\" : {\"source\" : \"F219\",\"weight\" : 1,\"id\" : \"F232\",\"title\" : \"4\",\"color\" : \"\",\"target\" : \"F221\"},\"F233\" : {\"source\" : \"F215\",\"weight\" : 1,\"id\" : \"F233\",\"title\" : \"5\",\"color\" : \"\",\"target\" : \"F216\"},\"F234\" : {\"source\" : \"F216\",\"weight\" : 1,\"id\" : \"F234\",\"title\" : \"5\",\"color\" : \"\",\"target\" : \"F217\"},\"F235\" : {\"source\" : \"F216\",\"weight\" : 1,\"id\" : \"F235\",\"title\" : \"5\",\"color\" : \"\",\"target\" : \"F221\"},\"F236\" : {\"source\" : \"F218\",\"weight\" : 1,\"id\" : \"F236\",\"title\" : \"5\",\"color\" : \"\",\"target\" : \"F219\"},\"F237\" : {\"source\" : \"F215\",\"weight\" : 1,\"id\" : \"F237\",\"title\" : \"7\",\"color\" : \"\",\"target\" : \"F221\"},\"F238\" : {\"source\" : \"F217\",\"weight\" : 1,\"id\" : \"F238\",\"title\" : \"7\",\"color\" : \"\",\"target\" : \"F218\"},\"F239\" : {\"source\" : \"F215\",\"weight\" : 1,\"id\" : \"F239\",\"title\" : \"8\",\"color\" : \"\",\"target\" : \"F220\"},\"F240\" : {\"source\" : \"F215\",\"weight\" : 1,\"id\" : \"F240\",\"title\" : \"9\",\"color\" : \"\",\"target\" : \"F219\"}}},\"messages\" : {}}}"
     },
     "execution_count": 14,
     "metadata": {
      "application/vnd.francy+json": {}
     },
     "output_type": "execute_result"
    }
   ],
   "source": [
    "DrawFactorizationGraph(f);"
   ]
  },
  {
   "cell_type": "markdown",
   "metadata": {},
   "source": [
    "## `DrawEliahouGraph(f)`\n",
    "\n",
    "Draws the Eliahou's graph associated to the set of factorizations `f`. The vertices of the graph are the elements in `f`, and two vertices are joined with an edge if they have common support. "
   ]
  },
  {
   "cell_type": "code",
   "execution_count": 15,
   "metadata": {},
   "outputs": [
    {
     "data": {
      "application/vnd.francy+json": "{\"version\" : \"0.6.0\",\"mime\" : \"application\\/vnd.francy+json\",\"canvas\" : {\"width\" : 800,\"height\" : 600,\"id\" : \"F269\",\"title\" : \"Eliahou graph\",\"zoomToFit\" : true,\"texTypesetting\" : false,\"menus\" : {},\"graph\" : {\"type\" : \"undirected\",\"id\" : \"F242\",\"simulation\" : true,\"collapsed\" : true,\"drag\" : true,\"showNeighbours\" : true,\"nodes\" : {\"F243\" : {\"x\" : 0,\"y\" : 0,\"type\" : \"circle\",\"size\" : 1,\"id\" : \"F243\",\"title\" : \"(10,0,0)\",\"color\" : \"\",\"highlight\" : true,\"layer\" : 10,\"parent\" : \"\",\"menus\" : {},\"messages\" : {},\"callbacks\" : {}},\"F244\" : {\"x\" : 0,\"y\" : 0,\"type\" : \"circle\",\"size\" : 1,\"id\" : \"F244\",\"title\" : \"(5,3,0)\",\"color\" : \"\",\"highlight\" : true,\"layer\" : 8,\"parent\" : \"\",\"menus\" : {},\"messages\" : {},\"callbacks\" : {}},\"F245\" : {\"x\" : 0,\"y\" : 0,\"type\" : \"circle\",\"size\" : 1,\"id\" : \"F245\",\"title\" : \"(0,6,0)\",\"color\" : \"\",\"highlight\" : true,\"layer\" : 6,\"parent\" : \"\",\"menus\" : {},\"messages\" : {},\"callbacks\" : {}},\"F246\" : {\"x\" : 0,\"y\" : 0,\"type\" : \"circle\",\"size\" : 1,\"id\" : \"F246\",\"title\" : \"(6,1,1)\",\"color\" : \"\",\"highlight\" : true,\"layer\" : 8,\"parent\" : \"\",\"menus\" : {},\"messages\" : {},\"callbacks\" : {}},\"F247\" : {\"x\" : 0,\"y\" : 0,\"type\" : \"circle\",\"size\" : 1,\"id\" : \"F247\",\"title\" : \"(1,4,1)\",\"color\" : \"\",\"highlight\" : true,\"layer\" : 6,\"parent\" : \"\",\"menus\" : {},\"messages\" : {},\"callbacks\" : {}},\"F248\" : {\"x\" : 0,\"y\" : 0,\"type\" : \"circle\",\"size\" : 1,\"id\" : \"F248\",\"title\" : \"(2,2,2)\",\"color\" : \"\",\"highlight\" : true,\"layer\" : 6,\"parent\" : \"\",\"menus\" : {},\"messages\" : {},\"callbacks\" : {}},\"F249\" : {\"x\" : 0,\"y\" : 0,\"type\" : \"circle\",\"size\" : 1,\"id\" : \"F249\",\"title\" : \"(3,0,3)\",\"color\" : \"\",\"highlight\" : true,\"layer\" : 6,\"parent\" : \"\",\"menus\" : {},\"messages\" : {},\"callbacks\" : {}}},\"links\" : {\"F250\" : {\"source\" : \"F243\",\"weight\" : 1,\"id\" : \"F250\",\"color\" : \"\",\"target\" : \"F244\"},\"F251\" : {\"source\" : \"F243\",\"weight\" : 1,\"id\" : \"F251\",\"color\" : \"\",\"target\" : \"F246\"},\"F252\" : {\"source\" : \"F243\",\"weight\" : 1,\"id\" : \"F252\",\"color\" : \"\",\"target\" : \"F247\"},\"F253\" : {\"source\" : \"F243\",\"weight\" : 1,\"id\" : \"F253\",\"color\" : \"\",\"target\" : \"F248\"},\"F254\" : {\"source\" : \"F243\",\"weight\" : 1,\"id\" : \"F254\",\"color\" : \"\",\"target\" : \"F249\"},\"F255\" : {\"source\" : \"F244\",\"weight\" : 1,\"id\" : \"F255\",\"color\" : \"\",\"target\" : \"F245\"},\"F256\" : {\"source\" : \"F244\",\"weight\" : 1,\"id\" : \"F256\",\"color\" : \"\",\"target\" : \"F246\"},\"F257\" : {\"source\" : \"F244\",\"weight\" : 1,\"id\" : \"F257\",\"color\" : \"\",\"target\" : \"F247\"},\"F258\" : {\"source\" : \"F244\",\"weight\" : 1,\"id\" : \"F258\",\"color\" : \"\",\"target\" : \"F248\"},\"F259\" : {\"source\" : \"F244\",\"weight\" : 1,\"id\" : \"F259\",\"color\" : \"\",\"target\" : \"F249\"},\"F260\" : {\"source\" : \"F245\",\"weight\" : 1,\"id\" : \"F260\",\"color\" : \"\",\"target\" : \"F246\"},\"F261\" : {\"source\" : \"F245\",\"weight\" : 1,\"id\" : \"F261\",\"color\" : \"\",\"target\" : \"F247\"},\"F262\" : {\"source\" : \"F245\",\"weight\" : 1,\"id\" : \"F262\",\"color\" : \"\",\"target\" : \"F248\"},\"F263\" : {\"source\" : \"F246\",\"weight\" : 1,\"id\" : \"F263\",\"color\" : \"\",\"target\" : \"F247\"},\"F264\" : {\"source\" : \"F246\",\"weight\" : 1,\"id\" : \"F264\",\"color\" : \"\",\"target\" : \"F248\"},\"F265\" : {\"source\" : \"F246\",\"weight\" : 1,\"id\" : \"F265\",\"color\" : \"\",\"target\" : \"F249\"},\"F266\" : {\"source\" : \"F247\",\"weight\" : 1,\"id\" : \"F266\",\"color\" : \"\",\"target\" : \"F248\"},\"F267\" : {\"source\" : \"F247\",\"weight\" : 1,\"id\" : \"F267\",\"color\" : \"\",\"target\" : \"F249\"},\"F268\" : {\"source\" : \"F248\",\"weight\" : 1,\"id\" : \"F268\",\"color\" : \"\",\"target\" : \"F249\"}}},\"messages\" : {}}}"
     },
     "execution_count": 15,
     "metadata": {
      "application/vnd.francy+json": {}
     },
     "output_type": "execute_result"
    }
   ],
   "source": [
    "DrawEliahouGraph(f);"
   ]
  },
  {
   "cell_type": "markdown",
   "metadata": {},
   "source": [
    "## `DrawRosalesGraph(n,s)`\n",
    "\n",
    "Draws the Rosales graph associated to `n` in `s`. The semigroup `s` can be either a numerical or an affine semigroup. The vertices of the graph are the minimal generators `a` of `s` such that `n-a` is in `s`, and edges are pairs `ab` such that `n-(a+b)` is in `s`."
   ]
  },
  {
   "cell_type": "code",
   "execution_count": 16,
   "metadata": {},
   "outputs": [
    {
     "data": {
      "application/vnd.francy+json": "{\"version\" : \"0.6.0\",\"mime\" : \"application\\/vnd.francy+json\",\"canvas\" : {\"width\" : 800,\"height\" : 600,\"id\" : \"F275\",\"title\" : \"Rosales graph\",\"zoomToFit\" : true,\"texTypesetting\" : false,\"menus\" : {},\"graph\" : {\"type\" : \"undirected\",\"id\" : \"F270\",\"simulation\" : true,\"collapsed\" : true,\"drag\" : true,\"showNeighbours\" : false,\"nodes\" : {\"F271\" : {\"x\" : 0,\"y\" : 0,\"type\" : \"circle\",\"size\" : 1,\"id\" : \"F271\",\"title\" : \"3\",\"color\" : \"\",\"highlight\" : true,\"layer\" : 0,\"parent\" : \"\",\"menus\" : {},\"messages\" : {},\"callbacks\" : {}},\"F272\" : {\"x\" : 0,\"y\" : 0,\"type\" : \"circle\",\"size\" : 1,\"id\" : \"F272\",\"title\" : \"5\",\"color\" : \"\",\"highlight\" : true,\"layer\" : 0,\"parent\" : \"\",\"menus\" : {},\"messages\" : {},\"callbacks\" : {}},\"F273\" : {\"x\" : 0,\"y\" : 0,\"type\" : \"circle\",\"size\" : 1,\"id\" : \"F273\",\"title\" : \"7\",\"color\" : \"\",\"highlight\" : true,\"layer\" : 0,\"parent\" : \"\",\"menus\" : {},\"messages\" : {},\"callbacks\" : {}}},\"links\" : {\"F274\" : {\"source\" : \"F271\",\"weight\" : 1,\"id\" : \"F274\",\"color\" : \"\",\"target\" : \"F273\"}}},\"messages\" : {}}}"
     },
     "execution_count": 16,
     "metadata": {
      "application/vnd.francy+json": {}
     },
     "output_type": "execute_result"
    }
   ],
   "source": [
    "DrawRosalesGraph(10,s);"
   ]
  },
  {
   "cell_type": "code",
   "execution_count": 17,
   "metadata": {},
   "outputs": [
    {
     "data": {
      "text/plain": [
       "[ 10, 12, 14 ]"
      ]
     },
     "execution_count": 17,
     "metadata": {
      "text/plain": ""
     },
     "output_type": "execute_result"
    }
   ],
   "source": [
    "BettiElements(s);"
   ]
  }
 ],
 "metadata": {
  "kernelspec": {
   "display_name": "GAP 4 (native)",
   "language": "gap",
   "name": "gap-native"
  },
  "language_info": {
   "codemirror_mode": "gap",
   "file_extension": ".g",
   "mimetype": "text/x-gap",
   "name": "GAP (native)",
   "nbconvert_exporter": "",
   "pygments_lexer": "gap",
   "version": "4.9.1"
  }
 },
 "nbformat": 4,
 "nbformat_minor": 2
}
