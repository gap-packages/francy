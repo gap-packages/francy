{
 "cells": [
  {
   "cell_type": "code",
   "execution_count": 1,
   "metadata": {},
   "outputs": [
    {
     "data": {
      "text/plain": [
       "true"
      ]
     },
     "execution_count": 1,
     "metadata": {
      "text/plain": ""
     },
     "output_type": "execute_result"
    }
   ],
   "source": [
    "LoadPackage(\"FrancyMonoids\");"
   ]
  },
  {
   "cell_type": "markdown",
   "metadata": {},
   "source": [
    "## Trees"
   ]
  },
  {
   "cell_type": "code",
   "execution_count": 2,
   "metadata": {},
   "outputs": [
    {
     "data": {
      "text/plain": [
       "<The numerical semigroup N>"
      ]
     },
     "execution_count": 2,
     "metadata": {
      "text/plain": ""
     },
     "output_type": "execute_result"
    }
   ],
   "source": [
    "s:=NumericalSemigroup(1);"
   ]
  },
  {
   "cell_type": "markdown",
   "metadata": {},
   "source": [
    "##  `DrawTreeOfSonsOfNumericalSemigroup(s,l,gensfunc)`\n",
    "\n",
    "This function draws the thre of the sons of `s` up to level `l` with respect to `gensfunc` (a function that gets minimal generators according to a given variety of numerical semigroups, for instance, `MinimalGenerators`)"
   ]
  },
  {
   "cell_type": "code",
   "execution_count": 3,
   "metadata": {},
   "outputs": [
    {
     "data": {
      "application/vnd.francy+json": "{\"canvas\" : {\"graph\" : {\"collapsed\" : false,\"id\" : \"F1527ED48A5FA4803A4760D4A4ECD67A4\",\"links\" : {},\"nodes\" : {\"F1624BA34B25A435C041AF6D48DC4B05A\" : {\"callbacks\" : {},\"color\" : \"\",\"id\" : \"F1624BA34B25A435C041AF6D48DC4B05A\",\"layer\" : 0,\"menus\" : {},\"messages\" : {},\"parent\" : \"F936E20B004D54A3D0C08E853E35C38A4\",\"size\" : 5,\"title\" : \"{3,4}\",\"type\" : \"circle\",\"x\" : 0,\"y\" : 0},\"F24D256E999DD4F10B4AA77CB43F8C970\" : {\"callbacks\" : {},\"color\" : \"\",\"id\" : \"F24D256E999DD4F10B4AA77CB43F8C970\",\"layer\" : 0,\"menus\" : {},\"messages\" : {},\"parent\" : \"F562A6F4EEB684370C4573A32DB918402\",\"size\" : 5,\"title\" : \"{2,5}\",\"type\" : \"circle\",\"x\" : 0,\"y\" : 0},\"F25646FAF2CD049E8BCF3C717AD009791\" : {\"callbacks\" : {},\"color\" : \"\",\"id\" : \"F25646FAF2CD049E8BCF3C717AD009791\",\"layer\" : 0,\"menus\" : {},\"messages\" : {},\"parent\" : \"F8A99C016EFFC4981F42448D9DBB9D09C\",\"size\" : 5,\"title\" : \"{4,5,11}\",\"type\" : \"circle\",\"x\" : 0,\"y\" : 0},\"F2BCA389AE5E74B703C862241C033D761\" : {\"callbacks\" : {},\"color\" : \"\",\"id\" : \"F2BCA389AE5E74B703C862241C033D761\",\"layer\" : 0,\"menus\" : {},\"messages\" : {},\"parent\" : \"F5934678072AB4FE24C1E02260B3AEC51\",\"size\" : 5,\"title\" : \"{5,6,7,8}\",\"type\" : \"circle\",\"x\" : 0,\"y\" : 0},\"F337FAD46A9324E8E2C35D39A0F55328C\" : {\"callbacks\" : {},\"color\" : \"\",\"id\" : \"F337FAD46A9324E8E2C35D39A0F55328C\",\"layer\" : 0,\"menus\" : {},\"messages\" : {},\"parent\" : \"F24D256E999DD4F10B4AA77CB43F8C970\",\"size\" : 5,\"title\" : \"{2,7}\",\"type\" : \"circle\",\"x\" : 0,\"y\" : 0},\"F385580564AD04AE4B45C1A31853FFE70\" : {\"callbacks\" : {},\"color\" : \"\",\"id\" : \"F385580564AD04AE4B45C1A31853FFE70\",\"layer\" : 0,\"menus\" : {},\"messages\" : {},\"parent\" : \"F936E20B004D54A3D0C08E853E35C38A4\",\"size\" : 5,\"title\" : \"{3,5,7}\",\"type\" : \"circle\",\"x\" : 0,\"y\" : 0},\"F40168CEA92334FC0148D276E79DE5B4B\" : {\"callbacks\" : {},\"color\" : \"\",\"id\" : \"F40168CEA92334FC0148D276E79DE5B4B\",\"layer\" : 0,\"menus\" : {},\"messages\" : {\"F2E04D2A449AB404484BE1DB2766E0E0A\" : {\"id\" : \"F2E04D2A449AB404484BE1DB2766E0E0A\",\"text\" : \"[ 1 ]\",\"title\" : \"\",\"type\" : \"default\"}},\"parent\" : \"\",\"size\" : 5,\"title\" : \"S\",\"type\" : \"circle\",\"x\" : 0,\"y\" : 0},\"F44A2C6E4244D44F27495B973576F964D\" : {\"callbacks\" : {},\"color\" : \"\",\"id\" : \"F44A2C6E4244D44F27495B973576F964D\",\"layer\" : 0,\"menus\" : {},\"messages\" : {},\"parent\" : \"F385580564AD04AE4B45C1A31853FFE70\",\"size\" : 5,\"title\" : \"{3,5}\",\"type\" : \"circle\",\"x\" : 0,\"y\" : 0},\"F483C58C84F764BA7ACE75701FDD9E22C\" : {\"callbacks\" : {},\"color\" : \"\",\"id\" : \"F483C58C84F764BA7ACE75701FDD9E22C\",\"layer\" : 0,\"menus\" : {},\"messages\" : {},\"parent\" : \"F5934678072AB4FE24C1E02260B3AEC51\",\"size\" : 5,\"title\" : \"{5,7,8,9,11}\",\"type\" : \"circle\",\"x\" : 0,\"y\" : 0},\"F49D53BC4B6634228A41F18F08AD2B33B\" : {\"callbacks\" : {},\"color\" : \"\",\"id\" : \"F49D53BC4B6634228A41F18F08AD2B33B\",\"layer\" : 0,\"menus\" : {},\"messages\" : {},\"parent\" : \"FB4034B434D55478FDCB0F67DDDF27F68\",\"size\" : 5,\"title\" : \"{4,6,7}\",\"type\" : \"circle\",\"x\" : 0,\"y\" : 0},\"F562A6F4EEB684370C4573A32DB918402\" : {\"callbacks\" : {},\"color\" : \"\",\"id\" : \"F562A6F4EEB684370C4573A32DB918402\",\"layer\" : 0,\"menus\" : {},\"messages\" : {},\"parent\" : \"F40168CEA92334FC0148D276E79DE5B4B\",\"size\" : 5,\"title\" : \"{2,3}\",\"type\" : \"circle\",\"x\" : 0,\"y\" : 0},\"F5934678072AB4FE24C1E02260B3AEC51\" : {\"callbacks\" : {},\"color\" : \"\",\"id\" : \"F5934678072AB4FE24C1E02260B3AEC51\",\"layer\" : 0,\"menus\" : {},\"messages\" : {},\"parent\" : \"F6E830FE3BA81486EBC7520C337511CD6\",\"size\" : 5,\"title\" : \"{5,6,7,8,9}\",\"type\" : \"circle\",\"x\" : 0,\"y\" : 0},\"F5B0F5DB65B16433ABCEF66241E15AE7D\" : {\"callbacks\" : {},\"color\" : \"\",\"id\" : \"F5B0F5DB65B16433ABCEF66241E15AE7D\",\"layer\" : 0,\"menus\" : {},\"messages\" : {},\"parent\" : \"FF151E849EF1240EC1C406B98F589C16A\",\"size\" : 5,\"title\" : \"{3,8,10}\",\"type\" : \"circle\",\"x\" : 0,\"y\" : 0},\"F657BF0E427734E064C54185308D62173\" : {\"callbacks\" : {},\"color\" : \"\",\"id\" : \"F657BF0E427734E064C54185308D62173\",\"layer\" : 0,\"menus\" : {},\"messages\" : {},\"parent\" : \"F6E830FE3BA81486EBC7520C337511CD6\",\"size\" : 5,\"title\" : \"{4,5,6}\",\"type\" : \"circle\",\"x\" : 0,\"y\" : 0},\"F6E830FE3BA81486EBC7520C337511CD6\" : {\"callbacks\" : {},\"color\" : \"\",\"id\" : \"F6E830FE3BA81486EBC7520C337511CD6\",\"layer\" : 0,\"menus\" : {},\"messages\" : {},\"parent\" : \"F936E20B004D54A3D0C08E853E35C38A4\",\"size\" : 5,\"title\" : \"{4,5,6,7}\",\"type\" : \"circle\",\"x\" : 0,\"y\" : 0},\"F8987EB361DA64586C40E112150E13098\" : {\"callbacks\" : {},\"color\" : \"\",\"id\" : \"F8987EB361DA64586C40E112150E13098\",\"layer\" : 0,\"menus\" : {},\"messages\" : {},\"parent\" : \"F5934678072AB4FE24C1E02260B3AEC51\",\"size\" : 5,\"title\" : \"{5,6,8,9}\",\"type\" : \"circle\",\"x\" : 0,\"y\" : 0},\"F8A99C016EFFC4981F42448D9DBB9D09C\" : {\"callbacks\" : {},\"color\" : \"\",\"id\" : \"F8A99C016EFFC4981F42448D9DBB9D09C\",\"layer\" : 0,\"menus\" : {},\"messages\" : {},\"parent\" : \"F6E830FE3BA81486EBC7520C337511CD6\",\"size\" : 5,\"title\" : \"{4,5,7}\",\"type\" : \"circle\",\"x\" : 0,\"y\" : 0},\"F936E20B004D54A3D0C08E853E35C38A4\" : {\"callbacks\" : {},\"color\" : \"\",\"id\" : \"F936E20B004D54A3D0C08E853E35C38A4\",\"layer\" : 0,\"menus\" : {},\"messages\" : {},\"parent\" : \"F562A6F4EEB684370C4573A32DB918402\",\"size\" : 5,\"title\" : \"{3,4,5}\",\"type\" : \"circle\",\"x\" : 0,\"y\" : 0},\"F9D274B33209A43CDD496AC84A6DDABFB\" : {\"callbacks\" : {},\"color\" : \"\",\"id\" : \"F9D274B33209A43CDD496AC84A6DDABFB\",\"layer\" : 0,\"menus\" : {},\"messages\" : {},\"parent\" : \"FF151E849EF1240EC1C406B98F589C16A\",\"size\" : 5,\"title\" : \"{3,7,11}\",\"type\" : \"circle\",\"x\" : 0,\"y\" : 0},\"FA927E80CEE7A424B2422AFBA0F2555D8\" : {\"callbacks\" : {},\"color\" : \"\",\"id\" : \"FA927E80CEE7A424B2422AFBA0F2555D8\",\"layer\" : 0,\"menus\" : {},\"messages\" : {},\"parent\" : \"F5934678072AB4FE24C1E02260B3AEC51\",\"size\" : 5,\"title\" : \"{5,6,7,9}\",\"type\" : \"circle\",\"x\" : 0,\"y\" : 0},\"FB4034B434D55478FDCB0F67DDDF27F68\" : {\"callbacks\" : {},\"color\" : \"\",\"id\" : \"FB4034B434D55478FDCB0F67DDDF27F68\",\"layer\" : 0,\"menus\" : {},\"messages\" : {},\"parent\" : \"F6E830FE3BA81486EBC7520C337511CD6\",\"size\" : 5,\"title\" : \"{4,6,7,9}\",\"type\" : \"circle\",\"x\" : 0,\"y\" : 0},\"FB479E00AD857461C3492CD2E9AC17C3B\" : {\"callbacks\" : {},\"color\" : \"\",\"id\" : \"FB479E00AD857461C3492CD2E9AC17C3B\",\"layer\" : 0,\"menus\" : {},\"messages\" : {},\"parent\" : \"FB4034B434D55478FDCB0F67DDDF27F68\",\"size\" : 5,\"title\" : \"{4,7,9,10}\",\"type\" : \"circle\",\"x\" : 0,\"y\" : 0},\"FCA0B0AA62F1B4E291C81B89B4C8E2DD5\" : {\"callbacks\" : {},\"color\" : \"\",\"id\" : \"FCA0B0AA62F1B4E291C81B89B4C8E2DD5\",\"layer\" : 0,\"menus\" : {},\"messages\" : {},\"parent\" : \"F337FAD46A9324E8E2C35D39A0F55328C\",\"size\" : 5,\"title\" : \"{2,9}\",\"type\" : \"circle\",\"x\" : 0,\"y\" : 0},\"FD3D02DA23FB04835D4982E75DD752FAB\" : {\"callbacks\" : {},\"color\" : \"\",\"id\" : \"FD3D02DA23FB04835D4982E75DD752FAB\",\"layer\" : 0,\"menus\" : {},\"messages\" : {},\"parent\" : \"FB4034B434D55478FDCB0F67DDDF27F68\",\"size\" : 5,\"title\" : \"{4,6,9,11}\",\"type\" : \"circle\",\"x\" : 0,\"y\" : 0},\"FE8CE86EAA1EB4A063481C01F4687D755\" : {\"callbacks\" : {},\"color\" : \"\",\"id\" : \"FE8CE86EAA1EB4A063481C01F4687D755\",\"layer\" : 0,\"menus\" : {},\"messages\" : {},\"parent\" : \"F5934678072AB4FE24C1E02260B3AEC51\",\"size\" : 5,\"title\" : \"{6,7,8,9,10,11}\",\"type\" : \"circle\",\"x\" : 0,\"y\" : 0},\"FEB46B2AD34B342CD4C95AAA1C78530F6\" : {\"callbacks\" : {},\"color\" : \"\",\"id\" : \"FEB46B2AD34B342CD4C95AAA1C78530F6\",\"layer\" : 0,\"menus\" : {},\"messages\" : {},\"parent\" : \"FCA0B0AA62F1B4E291C81B89B4C8E2DD5\",\"size\" : 5,\"title\" : \"{2,11}\",\"type\" : \"circle\",\"x\" : 0,\"y\" : 0},\"FF151E849EF1240EC1C406B98F589C16A\" : {\"callbacks\" : {},\"color\" : \"\",\"id\" : \"FF151E849EF1240EC1C406B98F589C16A\",\"layer\" : 0,\"menus\" : {},\"messages\" : {},\"parent\" : \"F385580564AD04AE4B45C1A31853FFE70\",\"size\" : 5,\"title\" : \"{3,7,8}\",\"type\" : \"circle\",\"x\" : 0,\"y\" : 0}},\"simulation\" : true,\"type\" : \"tree\"},\"height\" : 600,\"id\" : \"F73BA8F0160C048B6EC43BD311F163595\",\"menus\" : {},\"messages\" : {},\"texTypesetting\" : true,\"title\" : \"Sons of a numerical semigroup\",\"width\" : 800,\"zoomToFit\" : true},\"mime\" : \"application\\/vnd.francy+json\",\"version\" : \"1.2.4\"}"
     },
     "execution_count": 3,
     "metadata": {
      "application/vnd.francy+json": {}
     },
     "output_type": "execute_result"
    }
   ],
   "source": [
    "DrawTreeOfSonsOfNumericalSemigroup(s,5,MinimalGenerators);"
   ]
  },
  {
   "cell_type": "code",
   "execution_count": 4,
   "metadata": {},
   "outputs": [
    {
     "data": {
      "text/plain": [
       "<Numerical semigroup with 3 generators>"
      ]
     },
     "execution_count": 4,
     "metadata": {
      "text/plain": ""
     },
     "output_type": "execute_result"
    }
   ],
   "source": [
    "s:=NumericalSemigroup(4,6,9);"
   ]
  },
  {
   "cell_type": "markdown",
   "metadata": {},
   "source": [
    "## `DrawTreeOfGluingsOfNumericalSemigroup(s,expand...)`\n",
    "\n",
    "Draws the decomposition of `s` as a gluing of numerical semigroups, and then proceeds recursively with each of the factors. Decomposition is not unique, and this is why a tree is drawn. The optional argument `expand` may be true or false, and it makes the tree fully expandable or not."
   ]
  },
  {
   "cell_type": "code",
   "execution_count": 5,
   "metadata": {},
   "outputs": [
    {
     "data": {
      "application/vnd.francy+json": "{\"canvas\" : {\"graph\" : {\"collapsed\" : false,\"id\" : \"F8CDA665D2B21412454EF5554411A76C4\",\"links\" : {},\"nodes\" : {\"F092BF8CFE6824312D46B18D5283C070D\" : {\"callbacks\" : {},\"color\" : \"\",\"id\" : \"F092BF8CFE6824312D46B18D5283C070D\",\"layer\" : 0,\"menus\" : {},\"messages\" : {},\"parent\" : \"F478BFB29EBF349E7EC5C1E922026A702\",\"size\" : 1,\"title\" : \"〈1〉\",\"type\" : \"circle\",\"x\" : 0,\"y\" : 0},\"F156883B221B04A6084C09DF2261B0F7B\" : {\"callbacks\" : {},\"color\" : \"\",\"id\" : \"F156883B221B04A6084C09DF2261B0F7B\",\"layer\" : 0,\"menus\" : {},\"messages\" : {},\"parent\" : \"F249DB592AF524B84AC6F4C46812B710E\",\"size\" : 1,\"title\" : \"〈2,3〉\",\"type\" : \"circle\",\"x\" : 0,\"y\" : 0},\"F249DB592AF524B84AC6F4C46812B710E\" : {\"callbacks\" : {},\"color\" : \"\",\"id\" : \"F249DB592AF524B84AC6F4C46812B710E\",\"layer\" : 0,\"menus\" : {},\"messages\" : {},\"parent\" : \"FCEA3C6EE6E944BF42CFBFB2D0D5B78C3\",\"size\" : 1,\"title\" : \"〈4,6〉 + 〈9〉\",\"type\" : \"square\",\"x\" : 0,\"y\" : 0},\"F2E1A3496EC9C4E631C8627312B982900\" : {\"callbacks\" : {},\"color\" : \"\",\"id\" : \"F2E1A3496EC9C4E631C8627312B982900\",\"layer\" : 0,\"menus\" : {},\"messages\" : {},\"parent\" : \"FCF2B8E13B6134293640008C52AB94F6A\",\"size\" : 1,\"title\" : \"〈1〉\",\"type\" : \"circle\",\"x\" : 0,\"y\" : 0},\"F478BFB29EBF349E7EC5C1E922026A702\" : {\"callbacks\" : {},\"color\" : \"\",\"id\" : \"F478BFB29EBF349E7EC5C1E922026A702\",\"layer\" : 0,\"menus\" : {},\"messages\" : {},\"parent\" : \"F680499AAFD7B4D3CF4F8D277F9F435FE\",\"size\" : 1,\"title\" : \"〈2〉 + 〈3〉\",\"type\" : \"square\",\"x\" : 0,\"y\" : 0},\"F5CA77BCDC35C4A266433C1F77E681E8D\" : {\"callbacks\" : {},\"color\" : \"\",\"id\" : \"F5CA77BCDC35C4A266433C1F77E681E8D\",\"layer\" : 0,\"menus\" : {},\"messages\" : {},\"parent\" : \"F647F88C6DF11424D54B34F6A2E097A0F\",\"size\" : 1,\"title\" : \"〈1〉\",\"type\" : \"circle\",\"x\" : 0,\"y\" : 0},\"F647F88C6DF11424D54B34F6A2E097A0F\" : {\"callbacks\" : {},\"color\" : \"\",\"id\" : \"F647F88C6DF11424D54B34F6A2E097A0F\",\"layer\" : 0,\"menus\" : {},\"messages\" : {},\"parent\" : \"FCEA3C6EE6E944BF42CFBFB2D0D5B78C3\",\"size\" : 1,\"title\" : \"〈4〉 + 〈6,9〉\",\"type\" : \"square\",\"x\" : 0,\"y\" : 0},\"F680499AAFD7B4D3CF4F8D277F9F435FE\" : {\"callbacks\" : {},\"color\" : \"\",\"id\" : \"F680499AAFD7B4D3CF4F8D277F9F435FE\",\"layer\" : 0,\"menus\" : {},\"messages\" : {},\"parent\" : \"F647F88C6DF11424D54B34F6A2E097A0F\",\"size\" : 1,\"title\" : \"〈2,3〉\",\"type\" : \"circle\",\"x\" : 0,\"y\" : 0},\"F7FEF6E3A4BF640AADC2BCE7615F0C215\" : {\"callbacks\" : {},\"color\" : \"\",\"id\" : \"F7FEF6E3A4BF640AADC2BCE7615F0C215\",\"layer\" : 0,\"menus\" : {},\"messages\" : {},\"parent\" : \"F249DB592AF524B84AC6F4C46812B710E\",\"size\" : 1,\"title\" : \"〈1〉\",\"type\" : \"circle\",\"x\" : 0,\"y\" : 0},\"FA0509657BF8046272416B73979C67B1D\" : {\"callbacks\" : {},\"color\" : \"\",\"id\" : \"FA0509657BF8046272416B73979C67B1D\",\"layer\" : 0,\"menus\" : {},\"messages\" : {},\"parent\" : \"F478BFB29EBF349E7EC5C1E922026A702\",\"size\" : 1,\"title\" : \"〈1〉\",\"type\" : \"circle\",\"x\" : 0,\"y\" : 0},\"FCEA3C6EE6E944BF42CFBFB2D0D5B78C3\" : {\"callbacks\" : {},\"color\" : \"\",\"id\" : \"FCEA3C6EE6E944BF42CFBFB2D0D5B78C3\",\"layer\" : 0,\"menus\" : {},\"messages\" : {},\"parent\" : \"\",\"size\" : 1,\"title\" : \"〈4,6,9〉\",\"type\" : \"circle\",\"x\" : 0,\"y\" : 0},\"FCF2B8E13B6134293640008C52AB94F6A\" : {\"callbacks\" : {},\"color\" : \"\",\"id\" : \"FCF2B8E13B6134293640008C52AB94F6A\",\"layer\" : 0,\"menus\" : {},\"messages\" : {},\"parent\" : \"F156883B221B04A6084C09DF2261B0F7B\",\"size\" : 1,\"title\" : \"〈2〉 + 〈3〉\",\"type\" : \"square\",\"x\" : 0,\"y\" : 0},\"FE6711A37ACF8440AFC430BF113A62DE0\" : {\"callbacks\" : {},\"color\" : \"\",\"id\" : \"FE6711A37ACF8440AFC430BF113A62DE0\",\"layer\" : 0,\"menus\" : {},\"messages\" : {},\"parent\" : \"FCF2B8E13B6134293640008C52AB94F6A\",\"size\" : 1,\"title\" : \"〈1〉\",\"type\" : \"circle\",\"x\" : 0,\"y\" : 0}},\"simulation\" : true,\"type\" : \"tree\"},\"height\" : 600,\"id\" : \"F6B205968AEF8413704F091398B0BF144\",\"menus\" : {},\"messages\" : {},\"texTypesetting\" : false,\"title\" : \"Gluings of a numerical semigroup\",\"width\" : 800,\"zoomToFit\" : true},\"mime\" : \"application\\/vnd.francy+json\",\"version\" : \"1.2.4\"}"
     },
     "execution_count": 5,
     "metadata": {
      "application/vnd.francy+json": {}
     },
     "output_type": "execute_result"
    }
   ],
   "source": [
    "DrawTreeOfGluingsOfNumericalSemigroup(s,true);"
   ]
  },
  {
   "cell_type": "markdown",
   "metadata": {},
   "source": [
    "## Hasse Diagrams"
   ]
  },
  {
   "cell_type": "code",
   "execution_count": 6,
   "metadata": {},
   "outputs": [
    {
     "data": {
      "text/plain": [
       "<Numerical semigroup with 3 generators>"
      ]
     },
     "execution_count": 6,
     "metadata": {
      "text/plain": ""
     },
     "output_type": "execute_result"
    }
   ],
   "source": [
    "s:=NumericalSemigroup(3,5,7);"
   ]
  },
  {
   "cell_type": "markdown",
   "metadata": {},
   "source": [
    "## `DrawHasseDiagramOfNumericalSemigroup(s, A)`\n",
    "\n",
    "Draws the Hasse diagram of `A` (a set of integers) with respect to the ordering induced by `s`: $a\\preceq b$ if $b-a$ is in `s`."
   ]
  },
  {
   "cell_type": "code",
   "execution_count": 7,
   "metadata": {},
   "outputs": [
    {
     "data": {
      "application/vnd.francy+json": "{\"canvas\" : {\"graph\" : {\"collapsed\" : true,\"id\" : \"F33D166091CB647C4CC2BD52D64938CFE\",\"links\" : {\"F02354CCCDEA440FDE4F55CBF657CC8DA\" : {\"color\" : \"\",\"id\" : \"F02354CCCDEA440FDE4F55CBF657CC8DA\",\"invisible\" : false,\"length\" : 0,\"source\" : \"F2119C0FD41E648067C5973DCBFA92CA7\",\"target\" : \"F4D2296B1CC5B43338C1C5DE460990CCD\",\"weight\" : 0},\"F0256596C184F49977C8D83958B378174\" : {\"color\" : \"\",\"id\" : \"F0256596C184F49977C8D83958B378174\",\"invisible\" : false,\"length\" : 0,\"source\" : \"F9C3891C90FDE4D107C9BE8627F8CE82C\",\"target\" : \"F4D2296B1CC5B43338C1C5DE460990CCD\",\"weight\" : 0},\"F136DA220CEC641552CD7422E2D898598\" : {\"color\" : \"\",\"id\" : \"F136DA220CEC641552CD7422E2D898598\",\"invisible\" : false,\"length\" : 0,\"source\" : \"F970F146A2C42444BE4124CC9AAFED79B\",\"target\" : \"F9858C2BB2EE841CA3C8BDADBD16C58F7\",\"weight\" : 0},\"F1805C6AFCFBA46399C31647AF611863A\" : {\"color\" : \"\",\"id\" : \"F1805C6AFCFBA46399C31647AF611863A\",\"invisible\" : false,\"length\" : 0,\"source\" : \"F3E47FFF9271A4319D48F83F6FB58A54E\",\"target\" : \"F9C3891C90FDE4D107C9BE8627F8CE82C\",\"weight\" : 0},\"F18964FF8AE5645E94C0A0C7528826124\" : {\"color\" : \"\",\"id\" : \"F18964FF8AE5645E94C0A0C7528826124\",\"invisible\" : false,\"length\" : 0,\"source\" : \"FAF2212299F554661AC8854318787964C\",\"target\" : \"F7F1D7FB742114C06E4FC063B5496AB13\",\"weight\" : 0},\"F1C2AD257887E49B354559ACA57431202\" : {\"color\" : \"\",\"id\" : \"F1C2AD257887E49B354559ACA57431202\",\"invisible\" : false,\"length\" : 0,\"source\" : \"F2119C0FD41E648067C5973DCBFA92CA7\",\"target\" : \"F7DE664934CC54A8E949FCE0E96C8DA51\",\"weight\" : 0},\"F27D412FAD1B64033CC5133D8AD820427\" : {\"color\" : \"\",\"id\" : \"F27D412FAD1B64033CC5133D8AD820427\",\"invisible\" : false,\"length\" : 0,\"source\" : \"FAF2212299F554661AC8854318787964C\",\"target\" : \"F67830C090D44470134F7B5AA34200425\",\"weight\" : 0},\"F2CC890CDB17A4CEC3C789FD48FD65EE6\" : {\"color\" : \"\",\"id\" : \"F2CC890CDB17A4CEC3C789FD48FD65EE6\",\"invisible\" : false,\"length\" : 0,\"source\" : \"F110EEE288C46455E8C12F219D25B06CE\",\"target\" : \"FB1EB98958CE64386F434F2716C2822B0\",\"weight\" : 0},\"F359555E628F94B4914858D09B85E8F58\" : {\"color\" : \"\",\"id\" : \"F359555E628F94B4914858D09B85E8F58\",\"invisible\" : false,\"length\" : 0,\"source\" : \"F4A2BA0AF7CC2464894BA54A7A1D65CAB\",\"target\" : \"F04F528BB391C43906CAF0B89B8555048\",\"weight\" : 0},\"F36ABA6A3AB5C49A00C6A24E24923B3AE\" : {\"color\" : \"\",\"id\" : \"F36ABA6A3AB5C49A00C6A24E24923B3AE\",\"invisible\" : false,\"length\" : 0,\"source\" : \"F4A2BA0AF7CC2464894BA54A7A1D65CAB\",\"target\" : \"F9C3891C90FDE4D107C9BE8627F8CE82C\",\"weight\" : 0},\"F3703073ECB0D42CD0CA236ECD4058F05\" : {\"color\" : \"\",\"id\" : \"F3703073ECB0D42CD0CA236ECD4058F05\",\"invisible\" : false,\"length\" : 0,\"source\" : \"F5F9BDF43EB104E56DC517038F1CFEE06\",\"target\" : \"F3E47FFF9271A4319D48F83F6FB58A54E\",\"weight\" : 0},\"F3D1EB1FB27E24AD4143B15C0AFD1F816\" : {\"color\" : \"\",\"id\" : \"F3D1EB1FB27E24AD4143B15C0AFD1F816\",\"invisible\" : false,\"length\" : 0,\"source\" : \"F853959B08BF04E740CA9F4A47A8FD928\",\"target\" : \"F81B9D918765C4CCD44F4935D77D27AAF\",\"weight\" : 0},\"F3D6484452CA34524F43BAF07BD4926E4\" : {\"color\" : \"\",\"id\" : \"F3D6484452CA34524F43BAF07BD4926E4\",\"invisible\" : false,\"length\" : 0,\"source\" : \"F04F528BB391C43906CAF0B89B8555048\",\"target\" : \"F4D2296B1CC5B43338C1C5DE460990CCD\",\"weight\" : 0},\"F45AE79BA660C42DE34E07E00394C112A\" : {\"color\" : \"\",\"id\" : \"F45AE79BA660C42DE34E07E00394C112A\",\"invisible\" : false,\"length\" : 0,\"source\" : \"F970F146A2C42444BE4124CC9AAFED79B\",\"target\" : \"F67830C090D44470134F7B5AA34200425\",\"weight\" : 0},\"F4DF6CA211F2B430494BFA6F5C5DEBB71\" : {\"color\" : \"\",\"id\" : \"F4DF6CA211F2B430494BFA6F5C5DEBB71\",\"invisible\" : false,\"length\" : 0,\"source\" : \"F4A2BA0AF7CC2464894BA54A7A1D65CAB\",\"target\" : \"FB1EB98958CE64386F434F2716C2822B0\",\"weight\" : 0},\"F53CE4DC116B647496C39932FAA757FA1\" : {\"color\" : \"\",\"id\" : \"F53CE4DC116B647496C39932FAA757FA1\",\"invisible\" : false,\"length\" : 0,\"source\" : \"F2EA1F6E1DFCF4258E474E99521572819\",\"target\" : \"F9858C2BB2EE841CA3C8BDADBD16C58F7\",\"weight\" : 0},\"F57BA6A67946940F2D4B2661FF4F4826B\" : {\"color\" : \"\",\"id\" : \"F57BA6A67946940F2D4B2661FF4F4826B\",\"invisible\" : false,\"length\" : 0,\"source\" : \"F5F9BDF43EB104E56DC517038F1CFEE06\",\"target\" : \"F81B9D918765C4CCD44F4935D77D27AAF\",\"weight\" : 0},\"F6360FE1B7E794284645E7AC4D72AD66E\" : {\"color\" : \"\",\"id\" : \"F6360FE1B7E794284645E7AC4D72AD66E\",\"invisible\" : false,\"length\" : 0,\"source\" : \"F04F528BB391C43906CAF0B89B8555048\",\"target\" : \"F7DE664934CC54A8E949FCE0E96C8DA51\",\"weight\" : 0},\"F6679DCEA3D53408DBC8BFFE0F1F11353\" : {\"color\" : \"\",\"id\" : \"F6679DCEA3D53408DBC8BFFE0F1F11353\",\"invisible\" : false,\"length\" : 0,\"source\" : \"F2EA1F6E1DFCF4258E474E99521572819\",\"target\" : \"F2119C0FD41E648067C5973DCBFA92CA7\",\"weight\" : 0},\"F6D36D95A1C924F7E8443B1D7136CF539\" : {\"color\" : \"\",\"id\" : \"F6D36D95A1C924F7E8443B1D7136CF539\",\"invisible\" : false,\"length\" : 0,\"source\" : \"F9C3891C90FDE4D107C9BE8627F8CE82C\",\"target\" : \"FAF2212299F554661AC8854318787964C\",\"weight\" : 0},\"F6E0C2B2B28B24FB59489B082E4CA455A\" : {\"color\" : \"\",\"id\" : \"F6E0C2B2B28B24FB59489B082E4CA455A\",\"invisible\" : false,\"length\" : 0,\"source\" : \"F67830C090D44470134F7B5AA34200425\",\"target\" : \"F9F16DE43341A43B004CE7FBB930AE126\",\"weight\" : 0},\"F7558758FC07B443664E44B4473928E10\" : {\"color\" : \"\",\"id\" : \"F7558758FC07B443664E44B4473928E10\",\"invisible\" : false,\"length\" : 0,\"source\" : \"F853959B08BF04E740CA9F4A47A8FD928\",\"target\" : \"F3E47FFF9271A4319D48F83F6FB58A54E\",\"weight\" : 0},\"F791ABA932CC14DA464225A3565750CA6\" : {\"color\" : \"\",\"id\" : \"F791ABA932CC14DA464225A3565750CA6\",\"invisible\" : false,\"length\" : 0,\"source\" : \"F81B9D918765C4CCD44F4935D77D27AAF\",\"target\" : \"F2119C0FD41E648067C5973DCBFA92CA7\",\"weight\" : 0},\"F92CD5430B84849DD9CD90D99B583831B\" : {\"color\" : \"\",\"id\" : \"F92CD5430B84849DD9CD90D99B583831B\",\"invisible\" : false,\"length\" : 0,\"source\" : \"F2119C0FD41E648067C5973DCBFA92CA7\",\"target\" : \"F9F16DE43341A43B004CE7FBB930AE126\",\"weight\" : 0},\"F9A43C8FCD6C74227FC21AADB3E2CA461\" : {\"color\" : \"\",\"id\" : \"F9A43C8FCD6C74227FC21AADB3E2CA461\",\"invisible\" : false,\"length\" : 0,\"source\" : \"FB1EB98958CE64386F434F2716C2822B0\",\"target\" : \"FAF2212299F554661AC8854318787964C\",\"weight\" : 0},\"F9B632DC36C5E44C7EC0EA39011052F0F\" : {\"color\" : \"\",\"id\" : \"F9B632DC36C5E44C7EC0EA39011052F0F\",\"invisible\" : false,\"length\" : 0,\"source\" : \"F2EA1F6E1DFCF4258E474E99521572819\",\"target\" : \"F67830C090D44470134F7B5AA34200425\",\"weight\" : 0},\"FA09492CC66834D3FA49D9BC2782A8B9C\" : {\"color\" : \"\",\"id\" : \"FA09492CC66834D3FA49D9BC2782A8B9C\",\"invisible\" : false,\"length\" : 0,\"source\" : \"F970F146A2C42444BE4124CC9AAFED79B\",\"target\" : \"F7F1D7FB742114C06E4FC063B5496AB13\",\"weight\" : 0},\"FA0DAE844EF284974A48B5EC5A25FEEBA\" : {\"color\" : \"\",\"id\" : \"FA0DAE844EF284974A48B5EC5A25FEEBA\",\"invisible\" : false,\"length\" : 0,\"source\" : \"F110EEE288C46455E8C12F219D25B06CE\",\"target\" : \"FC35704E57C074EA2ECC855F305559522\",\"weight\" : 0},\"FA2AABC4DF5D24318AC2E664F1870EB5B\" : {\"color\" : \"\",\"id\" : \"FA2AABC4DF5D24318AC2E664F1870EB5B\",\"invisible\" : false,\"length\" : 0,\"source\" : \"F5F9BDF43EB104E56DC517038F1CFEE06\",\"target\" : \"F2EA1F6E1DFCF4258E474E99521572819\",\"weight\" : 0},\"FA97B288B63EB4DC1C46D7831AFDFE450\" : {\"color\" : \"\",\"id\" : \"FA97B288B63EB4DC1C46D7831AFDFE450\",\"invisible\" : false,\"length\" : 0,\"source\" : \"F9858C2BB2EE841CA3C8BDADBD16C58F7\",\"target\" : \"F7DE664934CC54A8E949FCE0E96C8DA51\",\"weight\" : 0},\"FADEAAE0EDF4B44F674224FE2047A155B\" : {\"color\" : \"\",\"id\" : \"FADEAAE0EDF4B44F674224FE2047A155B\",\"invisible\" : false,\"length\" : 0,\"source\" : \"F3E47FFF9271A4319D48F83F6FB58A54E\",\"target\" : \"F2119C0FD41E648067C5973DCBFA92CA7\",\"weight\" : 0},\"FB1906661CE7D4E641CBA1F14756427E8\" : {\"color\" : \"\",\"id\" : \"FB1906661CE7D4E641CBA1F14756427E8\",\"invisible\" : false,\"length\" : 0,\"source\" : \"F110EEE288C46455E8C12F219D25B06CE\",\"target\" : \"F9C3891C90FDE4D107C9BE8627F8CE82C\",\"weight\" : 0},\"FC749D687E9E6415EECBC0E553E7B858A\" : {\"color\" : \"\",\"id\" : \"FC749D687E9E6415EECBC0E553E7B858A\",\"invisible\" : false,\"length\" : 0,\"source\" : \"F04F528BB391C43906CAF0B89B8555048\",\"target\" : \"FAF2212299F554661AC8854318787964C\",\"weight\" : 0},\"FCFB5BF9FF27C4298BC45114FDD44DC4B\" : {\"color\" : \"\",\"id\" : \"FCFB5BF9FF27C4298BC45114FDD44DC4B\",\"invisible\" : false,\"length\" : 0,\"source\" : \"F9858C2BB2EE841CA3C8BDADBD16C58F7\",\"target\" : \"F9F16DE43341A43B004CE7FBB930AE126\",\"weight\" : 0},\"FD824F712C0514E15844479F8B52E48DF\" : {\"color\" : \"\",\"id\" : \"FD824F712C0514E15844479F8B52E48DF\",\"invisible\" : false,\"length\" : 0,\"source\" : \"FB1EB98958CE64386F434F2716C2822B0\",\"target\" : \"F2EA1F6E1DFCF4258E474E99521572819\",\"weight\" : 0},\"FD8A47A063C8B44B734CF2660C361D72F\" : {\"color\" : \"\",\"id\" : \"FD8A47A063C8B44B734CF2660C361D72F\",\"invisible\" : false,\"length\" : 0,\"source\" : \"FC35704E57C074EA2ECC855F305559522\",\"target\" : \"F2EA1F6E1DFCF4258E474E99521572819\",\"weight\" : 0},\"FDD44A4358F224F8F2CEA1C2BF27BA2A8\" : {\"color\" : \"\",\"id\" : \"FDD44A4358F224F8F2CEA1C2BF27BA2A8\",\"invisible\" : false,\"length\" : 0,\"source\" : \"F3E47FFF9271A4319D48F83F6FB58A54E\",\"target\" : \"F04F528BB391C43906CAF0B89B8555048\",\"weight\" : 0},\"FE1B42222CD274C73CC3D5C6CD5EACA95\" : {\"color\" : \"\",\"id\" : \"FE1B42222CD274C73CC3D5C6CD5EACA95\",\"invisible\" : false,\"length\" : 0,\"source\" : \"F81B9D918765C4CCD44F4935D77D27AAF\",\"target\" : \"F04F528BB391C43906CAF0B89B8555048\",\"weight\" : 0},\"FE3500768838348B16C669F181EE10EE6\" : {\"color\" : \"\",\"id\" : \"FE3500768838348B16C669F181EE10EE6\",\"invisible\" : false,\"length\" : 0,\"source\" : \"F9C3891C90FDE4D107C9BE8627F8CE82C\",\"target\" : \"F970F146A2C42444BE4124CC9AAFED79B\",\"weight\" : 0},\"FE9BB3DF5D5CC4BD32C91214F8674BB20\" : {\"color\" : \"\",\"id\" : \"FE9BB3DF5D5CC4BD32C91214F8674BB20\",\"invisible\" : false,\"length\" : 0,\"source\" : \"FC35704E57C074EA2ECC855F305559522\",\"target\" : \"F81B9D918765C4CCD44F4935D77D27AAF\",\"weight\" : 0},\"FEAD29794EE0F4F161C182A9BB2516A56\" : {\"color\" : \"\",\"id\" : \"FEAD29794EE0F4F161C182A9BB2516A56\",\"invisible\" : false,\"length\" : 0,\"source\" : \"F81B9D918765C4CCD44F4935D77D27AAF\",\"target\" : \"F9858C2BB2EE841CA3C8BDADBD16C58F7\",\"weight\" : 0},\"FEBE9B45836B84C6CA4873B07834A7D40\" : {\"color\" : \"\",\"id\" : \"FEBE9B45836B84C6CA4873B07834A7D40\",\"invisible\" : false,\"length\" : 0,\"source\" : \"FB1EB98958CE64386F434F2716C2822B0\",\"target\" : \"F970F146A2C42444BE4124CC9AAFED79B\",\"weight\" : 0},\"FEF23B77DD51B4EF0ACE13667CA8805E0\" : {\"color\" : \"\",\"id\" : \"FEF23B77DD51B4EF0ACE13667CA8805E0\",\"invisible\" : false,\"length\" : 0,\"source\" : \"FC35704E57C074EA2ECC855F305559522\",\"target\" : \"F970F146A2C42444BE4124CC9AAFED79B\",\"weight\" : 0},\"FF209466DF7EA411C3CCF928ACEE57A61\" : {\"color\" : \"\",\"id\" : \"FF209466DF7EA411C3CCF928ACEE57A61\",\"invisible\" : false,\"length\" : 0,\"source\" : \"F853959B08BF04E740CA9F4A47A8FD928\",\"target\" : \"F4A2BA0AF7CC2464894BA54A7A1D65CAB\",\"weight\" : 0},\"FFFA9A65DD69E41A7DC102EBFEC31FF08\" : {\"color\" : \"\",\"id\" : \"FFFA9A65DD69E41A7DC102EBFEC31FF08\",\"invisible\" : false,\"length\" : 0,\"source\" : \"F4D2296B1CC5B43338C1C5DE460990CCD\",\"target\" : \"F7F1D7FB742114C06E4FC063B5496AB13\",\"weight\" : 0}},\"nodes\" : {\"F04F528BB391C43906CAF0B89B8555048\" : {\"callbacks\" : {\"F89C3F8B439744C016CF3E3A5ED468F9F\" : {\"func\" : \"unknown\",\"id\" : \"F89C3F8B439744C016CF3E3A5ED468F9F\",\"knownArgs\" : [\"11\"],\"requiredArgs\" : {},\"trigger\" : \"click\"}},\"color\" : \"\",\"id\" : \"F04F528BB391C43906CAF0B89B8555048\",\"layer\" : -3,\"menus\" : {},\"messages\" : {},\"parent\" : \"\",\"size\" : 10,\"title\" : \"11\",\"type\" : \"circle\",\"x\" : 0,\"y\" : 0},\"F110EEE288C46455E8C12F219D25B06CE\" : {\"callbacks\" : {\"F7E5A6BE17F8A4EF0CCFAC644DB6C975E\" : {\"func\" : \"unknown\",\"id\" : \"F7E5A6BE17F8A4EF0CCFAC644DB6C975E\",\"knownArgs\" : [\"2\"],\"requiredArgs\" : {},\"trigger\" : \"click\"}},\"color\" : \"\",\"id\" : \"F110EEE288C46455E8C12F219D25B06CE\",\"layer\" : 0,\"menus\" : {},\"messages\" : {},\"parent\" : \"\",\"size\" : 10,\"title\" : \"2\",\"type\" : \"circle\",\"x\" : 0,\"y\" : 0},\"F2119C0FD41E648067C5973DCBFA92CA7\" : {\"callbacks\" : {\"F9C89E440A04A4F1D6C3803BEDACB0AD5\" : {\"func\" : \"unknown\",\"id\" : \"F9C89E440A04A4F1D6C3803BEDACB0AD5\",\"knownArgs\" : [\"13\"],\"requiredArgs\" : {},\"trigger\" : \"click\"}},\"color\" : \"\",\"id\" : \"F2119C0FD41E648067C5973DCBFA92CA7\",\"layer\" : -4,\"menus\" : {},\"messages\" : {},\"parent\" : \"\",\"size\" : 10,\"title\" : \"13\",\"type\" : \"circle\",\"x\" : 0,\"y\" : 0},\"F2EA1F6E1DFCF4258E474E99521572819\" : {\"callbacks\" : {\"F1BD6BA43AAE24670144789025A42D717\" : {\"func\" : \"unknown\",\"id\" : \"F1BD6BA43AAE24670144789025A42D717\",\"knownArgs\" : [\"10\"],\"requiredArgs\" : {},\"trigger\" : \"click\"}},\"color\" : \"\",\"id\" : \"F2EA1F6E1DFCF4258E474E99521572819\",\"layer\" : -3,\"menus\" : {},\"messages\" : {},\"parent\" : \"\",\"size\" : 10,\"title\" : \"10\",\"type\" : \"circle\",\"x\" : 0,\"y\" : 0},\"F3E47FFF9271A4319D48F83F6FB58A54E\" : {\"callbacks\" : {\"F2B93321C581A4FB7046137C8DFA125E3\" : {\"func\" : \"unknown\",\"id\" : \"F2B93321C581A4FB7046137C8DFA125E3\",\"knownArgs\" : [\"6\"],\"requiredArgs\" : {},\"trigger\" : \"click\"}},\"color\" : \"\",\"id\" : \"F3E47FFF9271A4319D48F83F6FB58A54E\",\"layer\" : -1,\"menus\" : {},\"messages\" : {},\"parent\" : \"\",\"size\" : 10,\"title\" : \"6\",\"type\" : \"circle\",\"x\" : 0,\"y\" : 0},\"F4A2BA0AF7CC2464894BA54A7A1D65CAB\" : {\"callbacks\" : {\"FFC078C693EE940B5B4FD97153BB06EFF\" : {\"func\" : \"unknown\",\"id\" : \"FFC078C693EE940B5B4FD97153BB06EFF\",\"knownArgs\" : [\"4\"],\"requiredArgs\" : {},\"trigger\" : \"click\"}},\"color\" : \"\",\"id\" : \"F4A2BA0AF7CC2464894BA54A7A1D65CAB\",\"layer\" : -1,\"menus\" : {},\"messages\" : {},\"parent\" : \"\",\"size\" : 10,\"title\" : \"4\",\"type\" : \"circle\",\"x\" : 0,\"y\" : 0},\"F4D2296B1CC5B43338C1C5DE460990CCD\" : {\"callbacks\" : {\"F3438ACA09B654BC91CC075ECA98F07C6\" : {\"func\" : \"unknown\",\"id\" : \"F3438ACA09B654BC91CC075ECA98F07C6\",\"knownArgs\" : [\"16\"],\"requiredArgs\" : {},\"trigger\" : \"click\"}},\"color\" : \"\",\"id\" : \"F4D2296B1CC5B43338C1C5DE460990CCD\",\"layer\" : -5,\"menus\" : {},\"messages\" : {},\"parent\" : \"\",\"size\" : 10,\"title\" : \"16\",\"type\" : \"circle\",\"x\" : 0,\"y\" : 0},\"F5F9BDF43EB104E56DC517038F1CFEE06\" : {\"callbacks\" : {\"F0F07C3E7BDFA4B877CB27500E79954DE\" : {\"func\" : \"unknown\",\"id\" : \"F0F07C3E7BDFA4B877CB27500E79954DE\",\"knownArgs\" : [\"3\"],\"requiredArgs\" : {},\"trigger\" : \"click\"}},\"color\" : \"\",\"id\" : \"F5F9BDF43EB104E56DC517038F1CFEE06\",\"layer\" : 0,\"menus\" : {},\"messages\" : {},\"parent\" : \"\",\"size\" : 10,\"title\" : \"3\",\"type\" : \"circle\",\"x\" : 0,\"y\" : 0},\"F67830C090D44470134F7B5AA34200425\" : {\"callbacks\" : {\"F968914A62AA341D32C50803908242D65\" : {\"func\" : \"unknown\",\"id\" : \"F968914A62AA341D32C50803908242D65\",\"knownArgs\" : [\"17\"],\"requiredArgs\" : {},\"trigger\" : \"click\"}},\"color\" : \"\",\"id\" : \"F67830C090D44470134F7B5AA34200425\",\"layer\" : -5,\"menus\" : {},\"messages\" : {},\"parent\" : \"\",\"size\" : 10,\"title\" : \"17\",\"type\" : \"circle\",\"x\" : 0,\"y\" : 0},\"F7DE664934CC54A8E949FCE0E96C8DA51\" : {\"callbacks\" : {\"F5A6663F41641444114F0333FC170200B\" : {\"func\" : \"unknown\",\"id\" : \"F5A6663F41641444114F0333FC170200B\",\"knownArgs\" : [\"18\"],\"requiredArgs\" : {},\"trigger\" : \"click\"}},\"color\" : \"\",\"id\" : \"F7DE664934CC54A8E949FCE0E96C8DA51\",\"layer\" : -5,\"menus\" : {},\"messages\" : {},\"parent\" : \"\",\"size\" : 10,\"title\" : \"18\",\"type\" : \"circle\",\"x\" : 0,\"y\" : 0},\"F7F1D7FB742114C06E4FC063B5496AB13\" : {\"callbacks\" : {\"FF6CF8986D0294BF9DC22F6064F9E016E\" : {\"func\" : \"unknown\",\"id\" : \"FF6CF8986D0294BF9DC22F6064F9E016E\",\"knownArgs\" : [\"19\"],\"requiredArgs\" : {},\"trigger\" : \"click\"}},\"color\" : \"\",\"id\" : \"F7F1D7FB742114C06E4FC063B5496AB13\",\"layer\" : -6,\"menus\" : {},\"messages\" : {},\"parent\" : \"\",\"size\" : 10,\"title\" : \"19\",\"type\" : \"circle\",\"x\" : 0,\"y\" : 0},\"F81B9D918765C4CCD44F4935D77D27AAF\" : {\"callbacks\" : {\"F51748C91491C48F054452C784CC1B07A\" : {\"func\" : \"unknown\",\"id\" : \"F51748C91491C48F054452C784CC1B07A\",\"knownArgs\" : [\"8\"],\"requiredArgs\" : {},\"trigger\" : \"click\"}},\"color\" : \"\",\"id\" : \"F81B9D918765C4CCD44F4935D77D27AAF\",\"layer\" : -2,\"menus\" : {},\"messages\" : {},\"parent\" : \"\",\"size\" : 10,\"title\" : \"8\",\"type\" : \"circle\",\"x\" : 0,\"y\" : 0},\"F853959B08BF04E740CA9F4A47A8FD928\" : {\"callbacks\" : {\"FBB4C5D238A794B74CC82EF892374DF55\" : {\"func\" : \"unknown\",\"id\" : \"FBB4C5D238A794B74CC82EF892374DF55\",\"knownArgs\" : [\"1\"],\"requiredArgs\" : {},\"trigger\" : \"click\"}},\"color\" : \"\",\"id\" : \"F853959B08BF04E740CA9F4A47A8FD928\",\"layer\" : 0,\"menus\" : {},\"messages\" : {},\"parent\" : \"\",\"size\" : 10,\"title\" : \"1\",\"type\" : \"circle\",\"x\" : 0,\"y\" : 0},\"F970F146A2C42444BE4124CC9AAFED79B\" : {\"callbacks\" : {\"FD34BC7E60442431F34B80F3841551853\" : {\"func\" : \"unknown\",\"id\" : \"FD34BC7E60442431F34B80F3841551853\",\"knownArgs\" : [\"12\"],\"requiredArgs\" : {},\"trigger\" : \"click\"}},\"color\" : \"\",\"id\" : \"F970F146A2C42444BE4124CC9AAFED79B\",\"layer\" : -3,\"menus\" : {},\"messages\" : {},\"parent\" : \"\",\"size\" : 10,\"title\" : \"12\",\"type\" : \"circle\",\"x\" : 0,\"y\" : 0},\"F9858C2BB2EE841CA3C8BDADBD16C58F7\" : {\"callbacks\" : {\"F710819A64EBF4AE84CA23D8BDCC8B908\" : {\"func\" : \"unknown\",\"id\" : \"F710819A64EBF4AE84CA23D8BDCC8B908\",\"knownArgs\" : [\"15\"],\"requiredArgs\" : {},\"trigger\" : \"click\"}},\"color\" : \"\",\"id\" : \"F9858C2BB2EE841CA3C8BDADBD16C58F7\",\"layer\" : -4,\"menus\" : {},\"messages\" : {},\"parent\" : \"\",\"size\" : 10,\"title\" : \"15\",\"type\" : \"circle\",\"x\" : 0,\"y\" : 0},\"F9C3891C90FDE4D107C9BE8627F8CE82C\" : {\"callbacks\" : {\"FAA3E793EDC274ED9FC0B38F7E88A0F14\" : {\"func\" : \"unknown\",\"id\" : \"FAA3E793EDC274ED9FC0B38F7E88A0F14\",\"knownArgs\" : [\"9\"],\"requiredArgs\" : {},\"trigger\" : \"click\"}},\"color\" : \"\",\"id\" : \"F9C3891C90FDE4D107C9BE8627F8CE82C\",\"layer\" : -2,\"menus\" : {},\"messages\" : {},\"parent\" : \"\",\"size\" : 10,\"title\" : \"9\",\"type\" : \"circle\",\"x\" : 0,\"y\" : 0},\"F9F16DE43341A43B004CE7FBB930AE126\" : {\"callbacks\" : {\"F4A1B5C652BAF4B32BC089373473CE181\" : {\"func\" : \"unknown\",\"id\" : \"F4A1B5C652BAF4B32BC089373473CE181\",\"knownArgs\" : [\"20\"],\"requiredArgs\" : {},\"trigger\" : \"click\"}},\"color\" : \"\",\"id\" : \"F9F16DE43341A43B004CE7FBB930AE126\",\"layer\" : -6,\"menus\" : {},\"messages\" : {},\"parent\" : \"\",\"size\" : 10,\"title\" : \"20\",\"type\" : \"circle\",\"x\" : 0,\"y\" : 0},\"FAF2212299F554661AC8854318787964C\" : {\"callbacks\" : {\"FFA5689F16CE74A06C49BE594FB20743F\" : {\"func\" : \"unknown\",\"id\" : \"FFA5689F16CE74A06C49BE594FB20743F\",\"knownArgs\" : [\"14\"],\"requiredArgs\" : {},\"trigger\" : \"click\"}},\"color\" : \"\",\"id\" : \"FAF2212299F554661AC8854318787964C\",\"layer\" : -4,\"menus\" : {},\"messages\" : {},\"parent\" : \"\",\"size\" : 10,\"title\" : \"14\",\"type\" : \"circle\",\"x\" : 0,\"y\" : 0},\"FB1EB98958CE64386F434F2716C2822B0\" : {\"callbacks\" : {\"FA15B5B4382A84A1794C60856939A771D\" : {\"func\" : \"unknown\",\"id\" : \"FA15B5B4382A84A1794C60856939A771D\",\"knownArgs\" : [\"7\"],\"requiredArgs\" : {},\"trigger\" : \"click\"}},\"color\" : \"\",\"id\" : \"FB1EB98958CE64386F434F2716C2822B0\",\"layer\" : -2,\"menus\" : {},\"messages\" : {},\"parent\" : \"\",\"size\" : 10,\"title\" : \"7\",\"type\" : \"circle\",\"x\" : 0,\"y\" : 0},\"FC35704E57C074EA2ECC855F305559522\" : {\"callbacks\" : {\"F09036891D814499EA414CFB2421DBA63\" : {\"func\" : \"unknown\",\"id\" : \"F09036891D814499EA414CFB2421DBA63\",\"knownArgs\" : [\"5\"],\"requiredArgs\" : {},\"trigger\" : \"click\"}},\"color\" : \"\",\"id\" : \"FC35704E57C074EA2ECC855F305559522\",\"layer\" : -1,\"menus\" : {},\"messages\" : {},\"parent\" : \"\",\"size\" : 10,\"title\" : \"5\",\"type\" : \"circle\",\"x\" : 0,\"y\" : 0}},\"simulation\" : true,\"type\" : \"directed\"},\"height\" : 600,\"id\" : \"F4FCA8076B12F4C97AC83F474EE6FBECE\",\"menus\" : {},\"messages\" : {},\"texTypesetting\" : false,\"title\" : \"Hasse diagram of numerical semigroup\",\"width\" : 800,\"zoomToFit\" : true},\"mime\" : \"application\\/vnd.francy+json\",\"version\" : \"1.2.4\"}"
     },
     "execution_count": 7,
     "metadata": {
      "application/vnd.francy+json": {}
     },
     "output_type": "execute_result"
    }
   ],
   "source": [
    "DrawHasseDiagramOfNumericalSemigroup(s,[1..20]);"
   ]
  },
  {
   "cell_type": "markdown",
   "metadata": {},
   "source": [
    "Of special interest is the Hasse diagram of an Apéry set or of the Betti elements."
   ]
  },
  {
   "cell_type": "code",
   "execution_count": 9,
   "metadata": {},
   "outputs": [
    {
     "data": {
      "text/plain": [
       "<Numerical semigroup with 4 generators>"
      ]
     },
     "execution_count": 8,
     "metadata": {
      "text/plain": ""
     },
     "output_type": "execute_result"
    },
    {
     "data": {
      "application/vnd.francy+json": "{\"canvas\" : {\"graph\" : {\"collapsed\" : true,\"id\" : \"FA6D4FFD9570F4CA9FCB2B39E56B522B7\",\"links\" : {\"F2B922943B0874816945F4B866862813C\" : {\"color\" : \"\",\"id\" : \"F2B922943B0874816945F4B866862813C\",\"invisible\" : false,\"length\" : 0,\"source\" : \"F08BD5071AA46473C8C44CADB7E3C3013\",\"target\" : \"FC35FC53DE7AE45C18C98FC151C64099E\",\"weight\" : 0},\"F31406C83EDB6414F24D1574BFF26838E\" : {\"color\" : \"\",\"id\" : \"F31406C83EDB6414F24D1574BFF26838E\",\"invisible\" : false,\"length\" : 0,\"source\" : \"FC35FC53DE7AE45C18C98FC151C64099E\",\"target\" : \"FAFFF64473C3747EFEC1E5EE0292FE3AD\",\"weight\" : 0},\"F40E3FEEC7A0240A444820EA6060D67FD\" : {\"color\" : \"\",\"id\" : \"F40E3FEEC7A0240A444820EA6060D67FD\",\"invisible\" : false,\"length\" : 0,\"source\" : \"F7C0E639DCCDC4A8C7C66D6852B395B07\",\"target\" : \"F166C1CB26CB74D79AC9B34FD538C2FF6\",\"weight\" : 0},\"F4859D49863424EAC6468396B4D2EA86F\" : {\"color\" : \"\",\"id\" : \"F4859D49863424EAC6468396B4D2EA86F\",\"invisible\" : false,\"length\" : 0,\"source\" : \"F0D9E2D8B685C48D4C4FEE556A5809E8D\",\"target\" : \"F4A75AF6792F54D35148CBD024088AB4F\",\"weight\" : 0},\"F4BF84B0D5D774411D457E3597CDAEA9B\" : {\"color\" : \"\",\"id\" : \"F4BF84B0D5D774411D457E3597CDAEA9B\",\"invisible\" : false,\"length\" : 0,\"source\" : \"F7C0E639DCCDC4A8C7C66D6852B395B07\",\"target\" : \"FC35FC53DE7AE45C18C98FC151C64099E\",\"weight\" : 0},\"F519E15F76FBE41DF8C5F458F1FDE6BD2\" : {\"color\" : \"\",\"id\" : \"F519E15F76FBE41DF8C5F458F1FDE6BD2\",\"invisible\" : false,\"length\" : 0,\"source\" : \"F7B34F5A7EF4A4BBB84DBA412D19DC06C\",\"target\" : \"FAFFF64473C3747EFEC1E5EE0292FE3AD\",\"weight\" : 0},\"F530A8CBABA834C4C346D59E458509FEB\" : {\"color\" : \"\",\"id\" : \"F530A8CBABA834C4C346D59E458509FEB\",\"invisible\" : false,\"length\" : 0,\"source\" : \"F4A75AF6792F54D35148CBD024088AB4F\",\"target\" : \"FAFFF64473C3747EFEC1E5EE0292FE3AD\",\"weight\" : 0},\"F722C89133771403E0CCFAE144569189B\" : {\"color\" : \"\",\"id\" : \"F722C89133771403E0CCFAE144569189B\",\"invisible\" : false,\"length\" : 0,\"source\" : \"F62F46DD205904B14547E0D7D9E955843\",\"target\" : \"F08BD5071AA46473C8C44CADB7E3C3013\",\"weight\" : 0},\"F7A2E4536D4F84B4F9CB9AAF0F1384EB3\" : {\"color\" : \"\",\"id\" : \"F7A2E4536D4F84B4F9CB9AAF0F1384EB3\",\"invisible\" : false,\"length\" : 0,\"source\" : \"F08BD5071AA46473C8C44CADB7E3C3013\",\"target\" : \"F7B34F5A7EF4A4BBB84DBA412D19DC06C\",\"weight\" : 0},\"F80C897DF3EE04D20E45F217505F9B3E1\" : {\"color\" : \"\",\"id\" : \"F80C897DF3EE04D20E45F217505F9B3E1\",\"invisible\" : false,\"length\" : 0,\"source\" : \"F7AAD0B6E78A84F658C0D45577BA228EE\",\"target\" : \"F166C1CB26CB74D79AC9B34FD538C2FF6\",\"weight\" : 0},\"FADB90A39215142E864FE2E4405AB66DB\" : {\"color\" : \"\",\"id\" : \"FADB90A39215142E864FE2E4405AB66DB\",\"invisible\" : false,\"length\" : 0,\"source\" : \"F7C0E639DCCDC4A8C7C66D6852B395B07\",\"target\" : \"F4A75AF6792F54D35148CBD024088AB4F\",\"weight\" : 0},\"FB06E3EA9B69D442C546EF46A70D52672\" : {\"color\" : \"\",\"id\" : \"FB06E3EA9B69D442C546EF46A70D52672\",\"invisible\" : false,\"length\" : 0,\"source\" : \"F62F46DD205904B14547E0D7D9E955843\",\"target\" : \"F7AAD0B6E78A84F658C0D45577BA228EE\",\"weight\" : 0},\"FBDB0A7BEBA184FD70C35D1E39E33A23F\" : {\"color\" : \"\",\"id\" : \"FBDB0A7BEBA184FD70C35D1E39E33A23F\",\"invisible\" : false,\"length\" : 0,\"source\" : \"F08BD5071AA46473C8C44CADB7E3C3013\",\"target\" : \"F166C1CB26CB74D79AC9B34FD538C2FF6\",\"weight\" : 0},\"FC507E11C66E04EC5741DB2FE22216490\" : {\"color\" : \"\",\"id\" : \"FC507E11C66E04EC5741DB2FE22216490\",\"invisible\" : false,\"length\" : 0,\"source\" : \"F166C1CB26CB74D79AC9B34FD538C2FF6\",\"target\" : \"FAFFF64473C3747EFEC1E5EE0292FE3AD\",\"weight\" : 0},\"FD218E606605F4CD4647DE90089CD5EC0\" : {\"color\" : \"\",\"id\" : \"FD218E606605F4CD4647DE90089CD5EC0\",\"invisible\" : false,\"length\" : 0,\"source\" : \"F0D9E2D8B685C48D4C4FEE556A5809E8D\",\"target\" : \"F166C1CB26CB74D79AC9B34FD538C2FF6\",\"weight\" : 0},\"FE9D079A1321343B9ACA4757B099210AD\" : {\"color\" : \"\",\"id\" : \"FE9D079A1321343B9ACA4757B099210AD\",\"invisible\" : false,\"length\" : 0,\"source\" : \"F7AAD0B6E78A84F658C0D45577BA228EE\",\"target\" : \"F4A75AF6792F54D35148CBD024088AB4F\",\"weight\" : 0},\"FF104D624E98A46D80414AFCB0F8D3684\" : {\"color\" : \"\",\"id\" : \"FF104D624E98A46D80414AFCB0F8D3684\",\"invisible\" : false,\"length\" : 0,\"source\" : \"F7C0E639DCCDC4A8C7C66D6852B395B07\",\"target\" : \"F7B34F5A7EF4A4BBB84DBA412D19DC06C\",\"weight\" : 0},\"FF734C8C644A846E9BCE75D4022B6950E\" : {\"color\" : \"\",\"id\" : \"FF734C8C644A846E9BCE75D4022B6950E\",\"invisible\" : false,\"length\" : 0,\"source\" : \"F62F46DD205904B14547E0D7D9E955843\",\"target\" : \"F7C0E639DCCDC4A8C7C66D6852B395B07\",\"weight\" : 0},\"FFC3A0B991662428F4CE38F8CF94F0D17\" : {\"color\" : \"\",\"id\" : \"FFC3A0B991662428F4CE38F8CF94F0D17\",\"invisible\" : false,\"length\" : 0,\"source\" : \"F62F46DD205904B14547E0D7D9E955843\",\"target\" : \"F0D9E2D8B685C48D4C4FEE556A5809E8D\",\"weight\" : 0},\"FFF44547515F843CD0CAED4432A482488\" : {\"color\" : \"\",\"id\" : \"FFF44547515F843CD0CAED4432A482488\",\"invisible\" : false,\"length\" : 0,\"source\" : \"F7AAD0B6E78A84F658C0D45577BA228EE\",\"target\" : \"F7B34F5A7EF4A4BBB84DBA412D19DC06C\",\"weight\" : 0}},\"nodes\" : {\"F08BD5071AA46473C8C44CADB7E3C3013\" : {\"callbacks\" : {\"FA94DAEE44F68439EF4DFDF0B1818DB0E\" : {\"func\" : \"unknown\",\"id\" : \"FA94DAEE44F68439EF4DFDF0B1818DB0E\",\"knownArgs\" : [\"5\"],\"requiredArgs\" : {},\"trigger\" : \"click\"}},\"color\" : \"\",\"id\" : \"F08BD5071AA46473C8C44CADB7E3C3013\",\"layer\" : -1,\"menus\" : {},\"messages\" : {},\"parent\" : \"\",\"size\" : 10,\"title\" : \"5\",\"type\" : \"circle\",\"x\" : 0,\"y\" : 0},\"F0D9E2D8B685C48D4C4FEE556A5809E8D\" : {\"callbacks\" : {\"F96C6E28C5C6B4AA1D4B271E243B481DC\" : {\"func\" : \"unknown\",\"id\" : \"F96C6E28C5C6B4AA1D4B271E243B481DC\",\"knownArgs\" : [\"11\"],\"requiredArgs\" : {},\"trigger\" : \"click\"}},\"color\" : \"\",\"id\" : \"F0D9E2D8B685C48D4C4FEE556A5809E8D\",\"layer\" : -1,\"menus\" : {},\"messages\" : {},\"parent\" : \"\",\"size\" : 10,\"title\" : \"11\",\"type\" : \"circle\",\"x\" : 0,\"y\" : 0},\"F166C1CB26CB74D79AC9B34FD538C2FF6\" : {\"callbacks\" : {\"F747F15B9665340B0C4CB0D4155AA2ED7\" : {\"func\" : \"unknown\",\"id\" : \"F747F15B9665340B0C4CB0D4155AA2ED7\",\"knownArgs\" : [\"16\"],\"requiredArgs\" : {},\"trigger\" : \"click\"}},\"color\" : \"\",\"id\" : \"F166C1CB26CB74D79AC9B34FD538C2FF6\",\"layer\" : -2,\"menus\" : {},\"messages\" : {},\"parent\" : \"\",\"size\" : 10,\"title\" : \"16\",\"type\" : \"circle\",\"x\" : 0,\"y\" : 0},\"F4A75AF6792F54D35148CBD024088AB4F\" : {\"callbacks\" : {\"F1E7FC6E907834A15E40D5A53AE1771E3\" : {\"func\" : \"unknown\",\"id\" : \"F1E7FC6E907834A15E40D5A53AE1771E3\",\"knownArgs\" : [\"18\"],\"requiredArgs\" : {},\"trigger\" : \"click\"}},\"color\" : \"\",\"id\" : \"F4A75AF6792F54D35148CBD024088AB4F\",\"layer\" : -2,\"menus\" : {},\"messages\" : {},\"parent\" : \"\",\"size\" : 10,\"title\" : \"18\",\"type\" : \"circle\",\"x\" : 0,\"y\" : 0},\"F62F46DD205904B14547E0D7D9E955843\" : {\"callbacks\" : {\"F8B2EC2D83E2B40C7A44A8E67D4A07E0C\" : {\"func\" : \"unknown\",\"id\" : \"F8B2EC2D83E2B40C7A44A8E67D4A07E0C\",\"knownArgs\" : [\"0\"],\"requiredArgs\" : {},\"trigger\" : \"click\"}},\"color\" : \"\",\"id\" : \"F62F46DD205904B14547E0D7D9E955843\",\"layer\" : 0,\"menus\" : {},\"messages\" : {},\"parent\" : \"\",\"size\" : 10,\"title\" : \"0\",\"type\" : \"circle\",\"x\" : 0,\"y\" : 0},\"F7AAD0B6E78A84F658C0D45577BA228EE\" : {\"callbacks\" : {\"F36777D75A20F4833B40674C390B4238C\" : {\"func\" : \"unknown\",\"id\" : \"F36777D75A20F4833B40674C390B4238C\",\"knownArgs\" : [\"9\"],\"requiredArgs\" : {},\"trigger\" : \"click\"}},\"color\" : \"\",\"id\" : \"F7AAD0B6E78A84F658C0D45577BA228EE\",\"layer\" : -1,\"menus\" : {},\"messages\" : {},\"parent\" : \"\",\"size\" : 10,\"title\" : \"9\",\"type\" : \"circle\",\"x\" : 0,\"y\" : 0},\"F7B34F5A7EF4A4BBB84DBA412D19DC06C\" : {\"callbacks\" : {\"FCC921B514236413C1C60069BF6FE2CCF\" : {\"func\" : \"unknown\",\"id\" : \"FCC921B514236413C1C60069BF6FE2CCF\",\"knownArgs\" : [\"14\"],\"requiredArgs\" : {},\"trigger\" : \"click\"}},\"color\" : \"\",\"id\" : \"F7B34F5A7EF4A4BBB84DBA412D19DC06C\",\"layer\" : -2,\"menus\" : {},\"messages\" : {},\"parent\" : \"\",\"size\" : 10,\"title\" : \"14\",\"type\" : \"circle\",\"x\" : 0,\"y\" : 0},\"F7C0E639DCCDC4A8C7C66D6852B395B07\" : {\"callbacks\" : {\"F3AA408B461EA4E51ECF930B0231BDDA8\" : {\"func\" : \"unknown\",\"id\" : \"F3AA408B461EA4E51ECF930B0231BDDA8\",\"knownArgs\" : [\"7\"],\"requiredArgs\" : {},\"trigger\" : \"click\"}},\"color\" : \"\",\"id\" : \"F7C0E639DCCDC4A8C7C66D6852B395B07\",\"layer\" : -1,\"menus\" : {},\"messages\" : {},\"parent\" : \"\",\"size\" : 10,\"title\" : \"7\",\"type\" : \"circle\",\"x\" : 0,\"y\" : 0},\"FAFFF64473C3747EFEC1E5EE0292FE3AD\" : {\"callbacks\" : {\"F351833DB2B2C4DF764C1E2E2D7B83494\" : {\"func\" : \"unknown\",\"id\" : \"F351833DB2B2C4DF764C1E2E2D7B83494\",\"knownArgs\" : [\"23\"],\"requiredArgs\" : {},\"trigger\" : \"click\"}},\"color\" : \"\",\"id\" : \"FAFFF64473C3747EFEC1E5EE0292FE3AD\",\"layer\" : -3,\"menus\" : {},\"messages\" : {},\"parent\" : \"\",\"size\" : 10,\"title\" : \"23\",\"type\" : \"circle\",\"x\" : 0,\"y\" : 0},\"FC35FC53DE7AE45C18C98FC151C64099E\" : {\"callbacks\" : {\"F2F4546141DD14B874C891045268AE376\" : {\"func\" : \"unknown\",\"id\" : \"F2F4546141DD14B874C891045268AE376\",\"knownArgs\" : [\"12\"],\"requiredArgs\" : {},\"trigger\" : \"click\"}},\"color\" : \"\",\"id\" : \"FC35FC53DE7AE45C18C98FC151C64099E\",\"layer\" : -2,\"menus\" : {},\"messages\" : {},\"parent\" : \"\",\"size\" : 10,\"title\" : \"12\",\"type\" : \"circle\",\"x\" : 0,\"y\" : 0}},\"simulation\" : true,\"type\" : \"directed\"},\"height\" : 600,\"id\" : \"FC67396A347EF42396CCE1392A2B1DA94\",\"menus\" : {},\"messages\" : {},\"texTypesetting\" : false,\"title\" : \"Hasse diagram of numerical semigroup\",\"width\" : 800,\"zoomToFit\" : true},\"mime\" : \"application\\/vnd.francy+json\",\"version\" : \"1.2.4\"}"
     },
     "execution_count": 9,
     "metadata": {
      "application/vnd.francy+json": {}
     },
     "output_type": "execute_result"
    }
   ],
   "source": [
    "s:=NumericalSemigroup(5,7,9,11);\n",
    "DrawHasseDiagramOfNumericalSemigroup(s,AperyList(s,10));"
   ]
  },
  {
   "cell_type": "markdown",
   "metadata": {},
   "source": [
    "## `DrawOverSemigroupsNumericalSemigroup(s)`\n",
    "\n",
    "Draws the Hasse diagram of oversemigroups of the numerical semigroup `s`."
   ]
  },
  {
   "cell_type": "code",
   "execution_count": 11,
   "metadata": {},
   "outputs": [
    {
     "data": {
      "text/plain": [
       "<Numerical semigroup with 4 generators>"
      ]
     },
     "execution_count": 10,
     "metadata": {
      "text/plain": ""
     },
     "output_type": "execute_result"
    },
    {
     "data": {
      "application/vnd.francy+json": "{\"canvas\" : {\"graph\" : {\"collapsed\" : true,\"id\" : \"F6A5121AD31C64625F4E97D89CF29E8B5\",\"links\" : {\"F0B29494D1B5848413430D9572D5E90E5\" : {\"color\" : \"\",\"id\" : \"F0B29494D1B5848413430D9572D5E90E5\",\"invisible\" : false,\"length\" : 0,\"source\" : \"F27F5129B556145D88C1EEF9B6F754BF5\",\"target\" : \"F1BADA1905CED475B6CE2F7E74D18C48B\",\"weight\" : 0},\"F11AB7ABF9A654A8F546DC49AD6F074D3\" : {\"color\" : \"\",\"id\" : \"F11AB7ABF9A654A8F546DC49AD6F074D3\",\"invisible\" : false,\"length\" : 0,\"source\" : \"F06266800F2F946578C08C74E9F40F197\",\"target\" : \"F617E21D94B224A5A24E2CB81EDB3C700\",\"weight\" : 0},\"F156CE530273A4FF4BC8D612A3006644C\" : {\"color\" : \"\",\"id\" : \"F156CE530273A4FF4BC8D612A3006644C\",\"invisible\" : false,\"length\" : 0,\"source\" : \"F71F38200E0054C7EF403D02044AF5246\",\"target\" : \"F1BADA1905CED475B6CE2F7E74D18C48B\",\"weight\" : 0},\"F1C4B960C9CF044718CE4EB76B05FD689\" : {\"color\" : \"\",\"id\" : \"F1C4B960C9CF044718CE4EB76B05FD689\",\"invisible\" : false,\"length\" : 0,\"source\" : \"F95650CB4DC2B497ECC23494B44091643\",\"target\" : \"FE2D5B19E10B143075CD4E3E9C32FC7D9\",\"weight\" : 0},\"F43D032DA5C8D43A89C9A63ECDE3D203C\" : {\"color\" : \"\",\"id\" : \"F43D032DA5C8D43A89C9A63ECDE3D203C\",\"invisible\" : false,\"length\" : 0,\"source\" : \"FBC65BA53D5C84B219C56CC7E5AB12F43\",\"target\" : \"F1ABAAED7E420457D2C41B7463EA9DB69\",\"weight\" : 0},\"F45F87755410543CB8CBCA180AA282828\" : {\"color\" : \"\",\"id\" : \"F45F87755410543CB8CBCA180AA282828\",\"invisible\" : false,\"length\" : 0,\"source\" : \"F27F5129B556145D88C1EEF9B6F754BF5\",\"target\" : \"F1E24967999164EAFBC084CB8B3BE5226\",\"weight\" : 0},\"F47C35BC641C643A804F9430FAF09A012\" : {\"color\" : \"\",\"id\" : \"F47C35BC641C643A804F9430FAF09A012\",\"invisible\" : false,\"length\" : 0,\"source\" : \"F28DA795EB34F48ACE4410BDC588A18B7\",\"target\" : \"F71F38200E0054C7EF403D02044AF5246\",\"weight\" : 0},\"F4D4FA9E0418E496E942371D6C0443863\" : {\"color\" : \"\",\"id\" : \"F4D4FA9E0418E496E942371D6C0443863\",\"invisible\" : false,\"length\" : 0,\"source\" : \"F1E24967999164EAFBC084CB8B3BE5226\",\"target\" : \"F7508097B0051421F8494BAC118AE61A8\",\"weight\" : 0},\"F52082063238442E7FC02EDFEE72EAAB1\" : {\"color\" : \"\",\"id\" : \"F52082063238442E7FC02EDFEE72EAAB1\",\"invisible\" : false,\"length\" : 0,\"source\" : \"FBC65BA53D5C84B219C56CC7E5AB12F43\",\"target\" : \"F617E21D94B224A5A24E2CB81EDB3C700\",\"weight\" : 0},\"F5CC93245A00D49D9A4B019C3C35330FE\" : {\"color\" : \"\",\"id\" : \"F5CC93245A00D49D9A4B019C3C35330FE\",\"invisible\" : false,\"length\" : 0,\"source\" : \"FE2D5B19E10B143075CD4E3E9C32FC7D9\",\"target\" : \"F1ABAAED7E420457D2C41B7463EA9DB69\",\"weight\" : 0},\"F5DA5948F09004A3F6C8E6CB17F555C69\" : {\"color\" : \"\",\"id\" : \"F5DA5948F09004A3F6C8E6CB17F555C69\",\"invisible\" : false,\"length\" : 0,\"source\" : \"F1ABAAED7E420457D2C41B7463EA9DB69\",\"target\" : \"F6F8EE7C984BB4267CC08537309017425\",\"weight\" : 0},\"F821F62644C814616A4B1BC8B6C84BF86\" : {\"color\" : \"\",\"id\" : \"F821F62644C814616A4B1BC8B6C84BF86\",\"invisible\" : false,\"length\" : 0,\"source\" : \"F06266800F2F946578C08C74E9F40F197\",\"target\" : \"F030A66BB7DF443F28C610E9D6CF2E0D2\",\"weight\" : 0},\"F8D51D6DAC55B49AE549D41B9BFD8251C\" : {\"color\" : \"\",\"id\" : \"F8D51D6DAC55B49AE549D41B9BFD8251C\",\"invisible\" : false,\"length\" : 0,\"source\" : \"F95650CB4DC2B497ECC23494B44091643\",\"target\" : \"F06266800F2F946578C08C74E9F40F197\",\"weight\" : 0},\"F93B656C985244A6F84A1EA8AC30DFF34\" : {\"color\" : \"\",\"id\" : \"F93B656C985244A6F84A1EA8AC30DFF34\",\"invisible\" : false,\"length\" : 0,\"source\" : \"F030A66BB7DF443F28C610E9D6CF2E0D2\",\"target\" : \"F28DA795EB34F48ACE4410BDC588A18B7\",\"weight\" : 0},\"FAA191CE2821A4089F440E767AEF47F56\" : {\"color\" : \"\",\"id\" : \"FAA191CE2821A4089F440E767AEF47F56\",\"invisible\" : false,\"length\" : 0,\"source\" : \"F95650CB4DC2B497ECC23494B44091643\",\"target\" : \"FBC65BA53D5C84B219C56CC7E5AB12F43\",\"weight\" : 0},\"FAD72204F294641BE74F729645B2DF99C\" : {\"color\" : \"\",\"id\" : \"FAD72204F294641BE74F729645B2DF99C\",\"invisible\" : false,\"length\" : 0,\"source\" : \"F6F8EE7C984BB4267CC08537309017425\",\"target\" : \"F27F5129B556145D88C1EEF9B6F754BF5\",\"weight\" : 0},\"FCC4667D36595473DB4C40F8D165DCC56\" : {\"color\" : \"\",\"id\" : \"FCC4667D36595473DB4C40F8D165DCC56\",\"invisible\" : false,\"length\" : 0,\"source\" : \"F28DA795EB34F48ACE4410BDC588A18B7\",\"target\" : \"F27F5129B556145D88C1EEF9B6F754BF5\",\"weight\" : 0},\"FDE9B1C87B3564BFC5C8503A1E2F992DE\" : {\"color\" : \"\",\"id\" : \"FDE9B1C87B3564BFC5C8503A1E2F992DE\",\"invisible\" : false,\"length\" : 0,\"source\" : \"F1BADA1905CED475B6CE2F7E74D18C48B\",\"target\" : \"F7508097B0051421F8494BAC118AE61A8\",\"weight\" : 0},\"FE9E7A812BA47493B742B035BD452D497\" : {\"color\" : \"\",\"id\" : \"FE9E7A812BA47493B742B035BD452D497\",\"invisible\" : false,\"length\" : 0,\"source\" : \"F7508097B0051421F8494BAC118AE61A8\",\"target\" : \"F6C035210A14649B8ACC817A0F6EDA8E2\",\"weight\" : 0},\"FF4D132FB82744BF8647C6F760249F232\" : {\"color\" : \"\",\"id\" : \"FF4D132FB82744BF8647C6F760249F232\",\"invisible\" : false,\"length\" : 0,\"source\" : \"FE2D5B19E10B143075CD4E3E9C32FC7D9\",\"target\" : \"F030A66BB7DF443F28C610E9D6CF2E0D2\",\"weight\" : 0},\"FF578C33DE881469B5C47CB6091DF2701\" : {\"color\" : \"\",\"id\" : \"FF578C33DE881469B5C47CB6091DF2701\",\"invisible\" : false,\"length\" : 0,\"source\" : \"F617E21D94B224A5A24E2CB81EDB3C700\",\"target\" : \"F28DA795EB34F48ACE4410BDC588A18B7\",\"weight\" : 0},\"FFEFD6E3481F84560DC672DBC193949D5\" : {\"color\" : \"\",\"id\" : \"FFEFD6E3481F84560DC672DBC193949D5\",\"invisible\" : false,\"length\" : 0,\"source\" : \"F1ABAAED7E420457D2C41B7463EA9DB69\",\"target\" : \"F28DA795EB34F48ACE4410BDC588A18B7\",\"weight\" : 0}},\"nodes\" : {\"F030A66BB7DF443F28C610E9D6CF2E0D2\" : {\"callbacks\" : {},\"color\" : \"\",\"id\" : \"F030A66BB7DF443F28C610E9D6CF2E0D2\",\"layer\" : 5,\"menus\" : {},\"messages\" : {},\"parent\" : \"\",\"size\" : 2,\"title\" : \"〈 5,6,7,9 〉\",\"type\" : \"diamond\",\"x\" : 0,\"y\" : 0},\"F06266800F2F946578C08C74E9F40F197\" : {\"callbacks\" : {},\"color\" : \"\",\"id\" : \"F06266800F2F946578C08C74E9F40F197\",\"layer\" : 6,\"menus\" : {},\"messages\" : {},\"parent\" : \"\",\"size\" : 2,\"title\" : \"〈 5,6,7 〉\",\"type\" : \"circle\",\"x\" : 0,\"y\" : 0},\"F1ABAAED7E420457D2C41B7463EA9DB69\" : {\"callbacks\" : {},\"color\" : \"\",\"id\" : \"F1ABAAED7E420457D2C41B7463EA9DB69\",\"layer\" : 5,\"menus\" : {},\"messages\" : {},\"parent\" : \"\",\"size\" : 2,\"title\" : \"〈 5,7,8,9,11 〉\",\"type\" : \"circle\",\"x\" : 0,\"y\" : 0},\"F1BADA1905CED475B6CE2F7E74D18C48B\" : {\"callbacks\" : {},\"color\" : \"\",\"id\" : \"F1BADA1905CED475B6CE2F7E74D18C48B\",\"layer\" : 2,\"menus\" : {},\"messages\" : {},\"parent\" : \"\",\"size\" : 2,\"title\" : \"〈 3,4,5 〉\",\"type\" : \"diamond\",\"x\" : 0,\"y\" : 0},\"F1E24967999164EAFBC084CB8B3BE5226\" : {\"callbacks\" : {},\"color\" : \"\",\"id\" : \"F1E24967999164EAFBC084CB8B3BE5226\",\"layer\" : 2,\"menus\" : {},\"messages\" : {},\"parent\" : \"\",\"size\" : 2,\"title\" : \"〈 2,5 〉\",\"type\" : \"diamond\",\"x\" : 0,\"y\" : 0},\"F27F5129B556145D88C1EEF9B6F754BF5\" : {\"callbacks\" : {},\"color\" : \"\",\"id\" : \"F27F5129B556145D88C1EEF9B6F754BF5\",\"layer\" : 3,\"menus\" : {},\"messages\" : {},\"parent\" : \"\",\"size\" : 2,\"title\" : \"〈 4,5,6,7 〉\",\"type\" : \"circle\",\"x\" : 0,\"y\" : 0},\"F28DA795EB34F48ACE4410BDC588A18B7\" : {\"callbacks\" : {},\"color\" : \"\",\"id\" : \"F28DA795EB34F48ACE4410BDC588A18B7\",\"layer\" : 4,\"menus\" : {},\"messages\" : {},\"parent\" : \"\",\"size\" : 2,\"title\" : \"〈 5,6,7,8,9 〉\",\"type\" : \"circle\",\"x\" : 0,\"y\" : 0},\"F617E21D94B224A5A24E2CB81EDB3C700\" : {\"callbacks\" : {},\"color\" : \"\",\"id\" : \"F617E21D94B224A5A24E2CB81EDB3C700\",\"layer\" : 5,\"menus\" : {},\"messages\" : {},\"parent\" : \"\",\"size\" : 2,\"title\" : \"〈 5,6,7,8 〉\",\"type\" : \"diamond\",\"x\" : 0,\"y\" : 0},\"F6C035210A14649B8ACC817A0F6EDA8E2\" : {\"callbacks\" : {},\"color\" : \"\",\"id\" : \"F6C035210A14649B8ACC817A0F6EDA8E2\",\"layer\" : 0,\"menus\" : {},\"messages\" : {},\"parent\" : \"\",\"size\" : 2,\"title\" : \"〈 1 〉\",\"type\" : \"diamond\",\"x\" : 0,\"y\" : 0},\"F6F8EE7C984BB4267CC08537309017425\" : {\"callbacks\" : {},\"color\" : \"\",\"id\" : \"F6F8EE7C984BB4267CC08537309017425\",\"layer\" : 4,\"menus\" : {},\"messages\" : {},\"parent\" : \"\",\"size\" : 2,\"title\" : \"〈 4,5,7 〉\",\"type\" : \"diamond\",\"x\" : 0,\"y\" : 0},\"F71F38200E0054C7EF403D02044AF5246\" : {\"callbacks\" : {},\"color\" : \"\",\"id\" : \"F71F38200E0054C7EF403D02044AF5246\",\"layer\" : 3,\"menus\" : {},\"messages\" : {},\"parent\" : \"\",\"size\" : 2,\"title\" : \"〈 3,5,7 〉\",\"type\" : \"diamond\",\"x\" : 0,\"y\" : 0},\"F7508097B0051421F8494BAC118AE61A8\" : {\"callbacks\" : {},\"color\" : \"\",\"id\" : \"F7508097B0051421F8494BAC118AE61A8\",\"layer\" : 1,\"menus\" : {},\"messages\" : {},\"parent\" : \"\",\"size\" : 2,\"title\" : \"〈 2,3 〉\",\"type\" : \"diamond\",\"x\" : 0,\"y\" : 0},\"F95650CB4DC2B497ECC23494B44091643\" : {\"callbacks\" : {},\"color\" : \"\",\"id\" : \"F95650CB4DC2B497ECC23494B44091643\",\"layer\" : 7,\"menus\" : {},\"messages\" : {},\"parent\" : \"\",\"size\" : 2,\"title\" : \"〈 5,7,11,13 〉\",\"type\" : \"circle\",\"x\" : 0,\"y\" : 0},\"FBC65BA53D5C84B219C56CC7E5AB12F43\" : {\"callbacks\" : {},\"color\" : \"\",\"id\" : \"FBC65BA53D5C84B219C56CC7E5AB12F43\",\"layer\" : 6,\"menus\" : {},\"messages\" : {},\"parent\" : \"\",\"size\" : 2,\"title\" : \"〈 5,7,8,11 〉\",\"type\" : \"circle\",\"x\" : 0,\"y\" : 0},\"FE2D5B19E10B143075CD4E3E9C32FC7D9\" : {\"callbacks\" : {},\"color\" : \"\",\"id\" : \"FE2D5B19E10B143075CD4E3E9C32FC7D9\",\"layer\" : 6,\"menus\" : {},\"messages\" : {},\"parent\" : \"\",\"size\" : 2,\"title\" : \"〈 5,7,9,11,13 〉\",\"type\" : \"circle\",\"x\" : 0,\"y\" : 0}},\"simulation\" : true,\"type\" : \"directed\"},\"height\" : 600,\"id\" : \"FE43DCE13CB6649C36CC831696F2CEBCE\",\"menus\" : {},\"messages\" : {},\"texTypesetting\" : true,\"title\" : \"Oversemigroups\",\"width\" : 800,\"zoomToFit\" : true},\"mime\" : \"application\\/vnd.francy+json\",\"version\" : \"1.2.4\"}"
     },
     "execution_count": 11,
     "metadata": {
      "application/vnd.francy+json": {}
     },
     "output_type": "execute_result"
    }
   ],
   "source": [
    "s:=NumericalSemigroup(5,7,11,13);\n",
    "DrawOverSemigroupsNumericalSemigroup(s);"
   ]
  },
  {
   "cell_type": "markdown",
   "metadata": {},
   "source": [
    "## Graphs"
   ]
  },
  {
   "cell_type": "code",
   "execution_count": 12,
   "metadata": {},
   "outputs": [
    {
     "data": {
      "text/plain": [
       "<Numerical semigroup with 3 generators>"
      ]
     },
     "execution_count": 12,
     "metadata": {
      "text/plain": ""
     },
     "output_type": "execute_result"
    }
   ],
   "source": [
    "s:=NumericalSemigroup(3,5,7);"
   ]
  },
  {
   "cell_type": "code",
   "execution_count": 13,
   "metadata": {},
   "outputs": [
    {
     "data": {
      "text/plain": [
       "[ [ 10, 0, 0 ], [ 5, 3, 0 ], [ 0, 6, 0 ], [ 6, 1, 1 ], [ 1, 4, 1 ],   [ 2, 2, 2 ], [ 3, 0, 3 ] ]"
      ]
     },
     "execution_count": 13,
     "metadata": {
      "text/plain": ""
     },
     "output_type": "execute_result"
    }
   ],
   "source": [
    "f:=FactorizationsElementWRTNumericalSemigroup(30,s);"
   ]
  },
  {
   "cell_type": "markdown",
   "metadata": {},
   "source": [
    "## `DrawFactorizationGraph(f)`\n",
    "\n",
    "Draws the factorization graph of a set of factorizations `f`, the complete graph with vertices the elements of `f`. Labels are labeled with distances between the nodes they join. It also draws a minimal spanning tree (with minimal distances) and thus one can read the Catenary degree from this tree."
   ]
  },
  {
   "cell_type": "code",
   "execution_count": 14,
   "metadata": {},
   "outputs": [
    {
     "data": {
      "application/vnd.francy+json": "{\"canvas\" : {\"graph\" : {\"collapsed\" : true,\"id\" : \"F3301FB43793C4A69A4EC686EFC4F9538\",\"links\" : {\"F09FC5F10CCA04990C4651EA07C3642CE\" : {\"color\" : \"red\",\"id\" : \"F09FC5F10CCA04990C4651EA07C3642CE\",\"invisible\" : false,\"length\" : 0,\"source\" : \"F1B6B68235A7E437DFCF81BEA26E75C0C\",\"target\" : \"F0BCCA6EC35044E83E4E20E12773E9529\",\"title\" : \"4\",\"weight\" : 0},\"F10508771E0FE4E25D4B9BF4F78D98070\" : {\"color\" : \"red\",\"id\" : \"F10508771E0FE4E25D4B9BF4F78D98070\",\"invisible\" : false,\"length\" : 0,\"source\" : \"F98D98E11581349F4CCD188BE5D359B8A\",\"target\" : \"F0BCCA6EC35044E83E4E20E12773E9529\",\"title\" : \"2\",\"weight\" : 0},\"F133AA750D37948C49CD64277A4D4CABE\" : {\"color\" : \"red\",\"id\" : \"F133AA750D37948C49CD64277A4D4CABE\",\"invisible\" : false,\"length\" : 0,\"source\" : \"F1B6B68235A7E437DFCF81BEA26E75C0C\",\"target\" : \"FF0EB83E4FF4F4DD0DCCD082849A3EDF7\",\"title\" : \"2\",\"weight\" : 0},\"F1B271900215E486904EBDB831D5D72C1\" : {\"color\" : \"\",\"id\" : \"F1B271900215E486904EBDB831D5D72C1\",\"invisible\" : false,\"length\" : 0,\"source\" : \"F98D98E11581349F4CCD188BE5D359B8A\",\"target\" : \"FF0EB83E4FF4F4DD0DCCD082849A3EDF7\",\"title\" : \"7\",\"weight\" : 0},\"F1B834577DEC84F608C35D5A57A94693B\" : {\"color\" : \"\",\"id\" : \"F1B834577DEC84F608C35D5A57A94693B\",\"invisible\" : false,\"length\" : 0,\"source\" : \"FB406D2A2A07140120C91C9B77B6E7F9A\",\"target\" : \"F1B6B68235A7E437DFCF81BEA26E75C0C\",\"title\" : \"5\",\"weight\" : 0},\"F1EFCB42D85F04623A426A786C3E699A2\" : {\"color\" : \"red\",\"id\" : \"F1EFCB42D85F04623A426A786C3E699A2\",\"invisible\" : false,\"length\" : 0,\"source\" : \"FB406D2A2A07140120C91C9B77B6E7F9A\",\"target\" : \"FF0EB83E4FF4F4DD0DCCD082849A3EDF7\",\"title\" : \"4\",\"weight\" : 0},\"F3667B112FC1A4AB1BC6DB2B2B4A15C15\" : {\"color\" : \"red\",\"id\" : \"F3667B112FC1A4AB1BC6DB2B2B4A15C15\",\"invisible\" : false,\"length\" : 0,\"source\" : \"FDF5DEE8563C64504246976347C518940\",\"target\" : \"F0DF39C8EF20942B90CED6D13E16699FC\",\"title\" : \"2\",\"weight\" : 0},\"F3835BC5FBDAF487FE4FCE96F4E6750FB\" : {\"color\" : \"red\",\"id\" : \"F3835BC5FBDAF487FE4FCE96F4E6750FB\",\"invisible\" : false,\"length\" : 0,\"source\" : \"F0BCCA6EC35044E83E4E20E12773E9529\",\"target\" : \"FDF5DEE8563C64504246976347C518940\",\"title\" : \"2\",\"weight\" : 0},\"F440B04F6A52D4AA1F429E45B52BA7981\" : {\"color\" : \"\",\"id\" : \"F440B04F6A52D4AA1F429E45B52BA7981\",\"invisible\" : false,\"length\" : 0,\"source\" : \"F1B6B68235A7E437DFCF81BEA26E75C0C\",\"target\" : \"F98D98E11581349F4CCD188BE5D359B8A\",\"title\" : \"5\",\"weight\" : 0},\"F483752ACE1D44C8E340C23EEFDA115C3\" : {\"color\" : \"\",\"id\" : \"F483752ACE1D44C8E340C23EEFDA115C3\",\"invisible\" : false,\"length\" : 0,\"source\" : \"FB406D2A2A07140120C91C9B77B6E7F9A\",\"target\" : \"F0BCCA6EC35044E83E4E20E12773E9529\",\"title\" : \"9\",\"weight\" : 0},\"F5EAB244EA8A4416A5C505C7FC8A42BED\" : {\"color\" : \"\",\"id\" : \"F5EAB244EA8A4416A5C505C7FC8A42BED\",\"invisible\" : false,\"length\" : 0,\"source\" : \"F1B6B68235A7E437DFCF81BEA26E75C0C\",\"target\" : \"FDF5DEE8563C64504246976347C518940\",\"title\" : \"4\",\"weight\" : 0},\"F8BA2D1746E5D4AE97446C6175C11B222\" : {\"color\" : \"\",\"id\" : \"F8BA2D1746E5D4AE97446C6175C11B222\",\"invisible\" : false,\"length\" : 0,\"source\" : \"FB406D2A2A07140120C91C9B77B6E7F9A\",\"target\" : \"F0DF39C8EF20942B90CED6D13E16699FC\",\"title\" : \"7\",\"weight\" : 0},\"F9D0B612C38F14EB304CD1464555FDA9B\" : {\"color\" : \"\",\"id\" : \"F9D0B612C38F14EB304CD1464555FDA9B\",\"invisible\" : false,\"length\" : 0,\"source\" : \"FF0EB83E4FF4F4DD0DCCD082849A3EDF7\",\"target\" : \"F0BCCA6EC35044E83E4E20E12773E9529\",\"title\" : \"5\",\"weight\" : 0},\"FCCAD584C6DF14B15B43C5212F6434086\" : {\"color\" : \"\",\"id\" : \"FCCAD584C6DF14B15B43C5212F6434086\",\"invisible\" : false,\"length\" : 0,\"source\" : \"FF0EB83E4FF4F4DD0DCCD082849A3EDF7\",\"target\" : \"FDF5DEE8563C64504246976347C518940\",\"title\" : \"4\",\"weight\" : 0},\"FD08759CBF0BE47427C3164044FF1BBFC\" : {\"color\" : \"\",\"id\" : \"FD08759CBF0BE47427C3164044FF1BBFC\",\"invisible\" : false,\"length\" : 0,\"source\" : \"FB406D2A2A07140120C91C9B77B6E7F9A\",\"target\" : \"FDF5DEE8563C64504246976347C518940\",\"title\" : \"8\",\"weight\" : 0},\"FDE5F1BF26AE843F29C0A15AADB27E2FB\" : {\"color\" : \"\",\"id\" : \"FDE5F1BF26AE843F29C0A15AADB27E2FB\",\"invisible\" : false,\"length\" : 0,\"source\" : \"FF0EB83E4FF4F4DD0DCCD082849A3EDF7\",\"target\" : \"F0DF39C8EF20942B90CED6D13E16699FC\",\"title\" : \"4\",\"weight\" : 0},\"FEB8CCE69689F438F8CBBE44D50CF4FE7\" : {\"color\" : \"\",\"id\" : \"FEB8CCE69689F438F8CBBE44D50CF4FE7\",\"invisible\" : false,\"length\" : 0,\"source\" : \"F0BCCA6EC35044E83E4E20E12773E9529\",\"target\" : \"F0DF39C8EF20942B90CED6D13E16699FC\",\"title\" : \"4\",\"weight\" : 0},\"FFA90F58BB99542E9EC9BB8734EF72B2F\" : {\"color\" : \"\",\"id\" : \"FFA90F58BB99542E9EC9BB8734EF72B2F\",\"invisible\" : false,\"length\" : 0,\"source\" : \"F1B6B68235A7E437DFCF81BEA26E75C0C\",\"target\" : \"F0DF39C8EF20942B90CED6D13E16699FC\",\"title\" : \"5\",\"weight\" : 0},\"FFB09B5E65BF7406644760DB6705B6F4D\" : {\"color\" : \"\",\"id\" : \"FFB09B5E65BF7406644760DB6705B6F4D\",\"invisible\" : false,\"length\" : 0,\"source\" : \"F98D98E11581349F4CCD188BE5D359B8A\",\"target\" : \"FDF5DEE8563C64504246976347C518940\",\"title\" : \"4\",\"weight\" : 0}},\"nodes\" : {\"F0BCCA6EC35044E83E4E20E12773E9529\" : {\"callbacks\" : {},\"color\" : \"\",\"id\" : \"F0BCCA6EC35044E83E4E20E12773E9529\",\"layer\" : 6,\"menus\" : {},\"messages\" : {},\"parent\" : \"\",\"size\" : 1,\"title\" : \"(1,4,1)\",\"type\" : \"circle\",\"x\" : 0,\"y\" : 0},\"F0DF39C8EF20942B90CED6D13E16699FC\" : {\"callbacks\" : {},\"color\" : \"\",\"id\" : \"F0DF39C8EF20942B90CED6D13E16699FC\",\"layer\" : 6,\"menus\" : {},\"messages\" : {},\"parent\" : \"\",\"size\" : 1,\"title\" : \"(3,0,3)\",\"type\" : \"circle\",\"x\" : 0,\"y\" : 0},\"F1B6B68235A7E437DFCF81BEA26E75C0C\" : {\"callbacks\" : {},\"color\" : \"\",\"id\" : \"F1B6B68235A7E437DFCF81BEA26E75C0C\",\"layer\" : 8,\"menus\" : {},\"messages\" : {},\"parent\" : \"\",\"size\" : 1,\"title\" : \"(5,3,0)\",\"type\" : \"circle\",\"x\" : 0,\"y\" : 0},\"F98D98E11581349F4CCD188BE5D359B8A\" : {\"callbacks\" : {},\"color\" : \"\",\"id\" : \"F98D98E11581349F4CCD188BE5D359B8A\",\"layer\" : 6,\"menus\" : {},\"messages\" : {},\"parent\" : \"\",\"size\" : 1,\"title\" : \"(0,6,0)\",\"type\" : \"circle\",\"x\" : 0,\"y\" : 0},\"FB406D2A2A07140120C91C9B77B6E7F9A\" : {\"callbacks\" : {},\"color\" : \"\",\"id\" : \"FB406D2A2A07140120C91C9B77B6E7F9A\",\"layer\" : 10,\"menus\" : {},\"messages\" : {},\"parent\" : \"\",\"size\" : 1,\"title\" : \"(10,0,0)\",\"type\" : \"circle\",\"x\" : 0,\"y\" : 0},\"FDF5DEE8563C64504246976347C518940\" : {\"callbacks\" : {},\"color\" : \"\",\"id\" : \"FDF5DEE8563C64504246976347C518940\",\"layer\" : 6,\"menus\" : {},\"messages\" : {},\"parent\" : \"\",\"size\" : 1,\"title\" : \"(2,2,2)\",\"type\" : \"circle\",\"x\" : 0,\"y\" : 0},\"FF0EB83E4FF4F4DD0DCCD082849A3EDF7\" : {\"callbacks\" : {},\"color\" : \"\",\"id\" : \"FF0EB83E4FF4F4DD0DCCD082849A3EDF7\",\"layer\" : 8,\"menus\" : {},\"messages\" : {},\"parent\" : \"\",\"size\" : 1,\"title\" : \"(6,1,1)\",\"type\" : \"circle\",\"x\" : 0,\"y\" : 0}},\"simulation\" : true,\"type\" : \"undirected\"},\"height\" : 600,\"id\" : \"F69678378585C43EF04EC1E71DCCF4C72\",\"menus\" : {},\"messages\" : {},\"texTypesetting\" : false,\"title\" : \"Factorizations graph\",\"width\" : 800,\"zoomToFit\" : true},\"mime\" : \"application\\/vnd.francy+json\",\"version\" : \"1.2.4\"}"
     },
     "execution_count": 14,
     "metadata": {
      "application/vnd.francy+json": {}
     },
     "output_type": "execute_result"
    }
   ],
   "source": [
    "DrawFactorizationGraph(f);"
   ]
  },
  {
   "cell_type": "markdown",
   "metadata": {},
   "source": [
    "## `DrawEliahouGraph(f)`\n",
    "\n",
    "Draws the Eliahou's graph associated to the set of factorizations `f`. The vertices of the graph are the elements in `f`, and two vertices are joined with an edge if they have common support. "
   ]
  },
  {
   "cell_type": "code",
   "execution_count": 15,
   "metadata": {},
   "outputs": [
    {
     "data": {
      "application/vnd.francy+json": "{\"canvas\" : {\"graph\" : {\"collapsed\" : true,\"id\" : \"F76489D08A0974BE57C75B48F7111A2D0\",\"links\" : {\"F028BE8942EE9476F2C02B6D8726CD9F9\" : {\"color\" : \"\",\"id\" : \"F028BE8942EE9476F2C02B6D8726CD9F9\",\"invisible\" : false,\"length\" : 0,\"source\" : \"F2E18A58B644D45C04C38AA1C374FDEE5\",\"target\" : \"FA20A223EF56E4E9B1467105C8871CE7F\",\"weight\" : 0},\"F0D50C81594834D68645852E620FAB416\" : {\"color\" : \"\",\"id\" : \"F0D50C81594834D68645852E620FAB416\",\"invisible\" : false,\"length\" : 0,\"source\" : \"FF6E1D782AC9B4FCA043B0B6630DB9D8D\",\"target\" : \"F2D29D479F82744506CAAE21BD671B14C\",\"weight\" : 0},\"F1667D3A1C74F4D950CDD49CC9F9508A9\" : {\"color\" : \"\",\"id\" : \"F1667D3A1C74F4D950CDD49CC9F9508A9\",\"invisible\" : false,\"length\" : 0,\"source\" : \"FF6E1D782AC9B4FCA043B0B6630DB9D8D\",\"target\" : \"FCD3B7A85C76D4470C4E6952CB0181378\",\"weight\" : 0},\"F17F8BB4C4D48492B3C0512F8EF09C843\" : {\"color\" : \"\",\"id\" : \"F17F8BB4C4D48492B3C0512F8EF09C843\",\"invisible\" : false,\"length\" : 0,\"source\" : \"F56C2F07DF8174CDEEC1ACACDA730C873\",\"target\" : \"FF6E1D782AC9B4FCA043B0B6630DB9D8D\",\"weight\" : 0},\"F20EE60331E6C43BDACF0B7895D37AB52\" : {\"color\" : \"\",\"id\" : \"F20EE60331E6C43BDACF0B7895D37AB52\",\"invisible\" : false,\"length\" : 0,\"source\" : \"F2E18A58B644D45C04C38AA1C374FDEE5\",\"target\" : \"FA6B207B32FF64C96F44362C0D8837B14\",\"weight\" : 0},\"F2F79359558704461CC5772B15AB287A3\" : {\"color\" : \"\",\"id\" : \"F2F79359558704461CC5772B15AB287A3\",\"invisible\" : false,\"length\" : 0,\"source\" : \"F2E18A58B644D45C04C38AA1C374FDEE5\",\"target\" : \"FF6E1D782AC9B4FCA043B0B6630DB9D8D\",\"weight\" : 0},\"F51B1160920F0413BE441BD8694743639\" : {\"color\" : \"\",\"id\" : \"F51B1160920F0413BE441BD8694743639\",\"invisible\" : false,\"length\" : 0,\"source\" : \"F56C2F07DF8174CDEEC1ACACDA730C873\",\"target\" : \"F2D29D479F82744506CAAE21BD671B14C\",\"weight\" : 0},\"F574BAA9105B34F245C0213ADCE3D1B63\" : {\"color\" : \"\",\"id\" : \"F574BAA9105B34F245C0213ADCE3D1B63\",\"invisible\" : false,\"length\" : 0,\"source\" : \"FA6B207B32FF64C96F44362C0D8837B14\",\"target\" : \"FA20A223EF56E4E9B1467105C8871CE7F\",\"weight\" : 0},\"F8114AE9D414740CA045F4EC15954DEED\" : {\"color\" : \"\",\"id\" : \"F8114AE9D414740CA045F4EC15954DEED\",\"invisible\" : false,\"length\" : 0,\"source\" : \"FF6E1D782AC9B4FCA043B0B6630DB9D8D\",\"target\" : \"FA20A223EF56E4E9B1467105C8871CE7F\",\"weight\" : 0},\"F91BEAFD6CBE54CF0BCE4C28E8F836B0D\" : {\"color\" : \"\",\"id\" : \"F91BEAFD6CBE54CF0BCE4C28E8F836B0D\",\"invisible\" : false,\"length\" : 0,\"source\" : \"FA20A223EF56E4E9B1467105C8871CE7F\",\"target\" : \"FCD3B7A85C76D4470C4E6952CB0181378\",\"weight\" : 0},\"F922EA25747AF42876CEA34DF663DB530\" : {\"color\" : \"\",\"id\" : \"F922EA25747AF42876CEA34DF663DB530\",\"invisible\" : false,\"length\" : 0,\"source\" : \"F2E18A58B644D45C04C38AA1C374FDEE5\",\"target\" : \"FCD3B7A85C76D4470C4E6952CB0181378\",\"weight\" : 0},\"F93ACC88AA197431FA4670899EF0A97DF\" : {\"color\" : \"\",\"id\" : \"F93ACC88AA197431FA4670899EF0A97DF\",\"invisible\" : false,\"length\" : 0,\"source\" : \"FA6B207B32FF64C96F44362C0D8837B14\",\"target\" : \"FF6E1D782AC9B4FCA043B0B6630DB9D8D\",\"weight\" : 0},\"FA85E2CA5118F4C797C9F51FCE1CE0070\" : {\"color\" : \"\",\"id\" : \"FA85E2CA5118F4C797C9F51FCE1CE0070\",\"invisible\" : false,\"length\" : 0,\"source\" : \"FA6B207B32FF64C96F44362C0D8837B14\",\"target\" : \"F56C2F07DF8174CDEEC1ACACDA730C873\",\"weight\" : 0},\"FAB4E368D5BAF4945E4438644E9D3E792\" : {\"color\" : \"\",\"id\" : \"FAB4E368D5BAF4945E4438644E9D3E792\",\"invisible\" : false,\"length\" : 0,\"source\" : \"F2D29D479F82744506CAAE21BD671B14C\",\"target\" : \"FA20A223EF56E4E9B1467105C8871CE7F\",\"weight\" : 0},\"FC2F16A7164BB4651642F03DEBB4E3BB7\" : {\"color\" : \"\",\"id\" : \"FC2F16A7164BB4651642F03DEBB4E3BB7\",\"invisible\" : false,\"length\" : 0,\"source\" : \"FA6B207B32FF64C96F44362C0D8837B14\",\"target\" : \"FCD3B7A85C76D4470C4E6952CB0181378\",\"weight\" : 0},\"FD54CF82DCD4E4C3ECC6611549578F332\" : {\"color\" : \"\",\"id\" : \"FD54CF82DCD4E4C3ECC6611549578F332\",\"invisible\" : false,\"length\" : 0,\"source\" : \"F2E18A58B644D45C04C38AA1C374FDEE5\",\"target\" : \"F2D29D479F82744506CAAE21BD671B14C\",\"weight\" : 0},\"FE58D859D22D643CF947B72F38C93B1D8\" : {\"color\" : \"\",\"id\" : \"FE58D859D22D643CF947B72F38C93B1D8\",\"invisible\" : false,\"length\" : 0,\"source\" : \"F56C2F07DF8174CDEEC1ACACDA730C873\",\"target\" : \"FA20A223EF56E4E9B1467105C8871CE7F\",\"weight\" : 0},\"FECC55847FF8C41688443C768752E9E1E\" : {\"color\" : \"\",\"id\" : \"FECC55847FF8C41688443C768752E9E1E\",\"invisible\" : false,\"length\" : 0,\"source\" : \"FA6B207B32FF64C96F44362C0D8837B14\",\"target\" : \"F2D29D479F82744506CAAE21BD671B14C\",\"weight\" : 0},\"FF787428F867C42C68C18DCBC6D4E9C90\" : {\"color\" : \"\",\"id\" : \"FF787428F867C42C68C18DCBC6D4E9C90\",\"invisible\" : false,\"length\" : 0,\"source\" : \"F2D29D479F82744506CAAE21BD671B14C\",\"target\" : \"FCD3B7A85C76D4470C4E6952CB0181378\",\"weight\" : 0}},\"nodes\" : {\"F2D29D479F82744506CAAE21BD671B14C\" : {\"callbacks\" : {},\"color\" : \"\",\"id\" : \"F2D29D479F82744506CAAE21BD671B14C\",\"layer\" : 6,\"menus\" : {},\"messages\" : {},\"parent\" : \"\",\"size\" : 1,\"title\" : \"(1,4,1)\",\"type\" : \"circle\",\"x\" : 0,\"y\" : 0},\"F2E18A58B644D45C04C38AA1C374FDEE5\" : {\"callbacks\" : {},\"color\" : \"\",\"id\" : \"F2E18A58B644D45C04C38AA1C374FDEE5\",\"layer\" : 10,\"menus\" : {},\"messages\" : {},\"parent\" : \"\",\"size\" : 1,\"title\" : \"(10,0,0)\",\"type\" : \"circle\",\"x\" : 0,\"y\" : 0},\"F56C2F07DF8174CDEEC1ACACDA730C873\" : {\"callbacks\" : {},\"color\" : \"\",\"id\" : \"F56C2F07DF8174CDEEC1ACACDA730C873\",\"layer\" : 6,\"menus\" : {},\"messages\" : {},\"parent\" : \"\",\"size\" : 1,\"title\" : \"(0,6,0)\",\"type\" : \"circle\",\"x\" : 0,\"y\" : 0},\"FA20A223EF56E4E9B1467105C8871CE7F\" : {\"callbacks\" : {},\"color\" : \"\",\"id\" : \"FA20A223EF56E4E9B1467105C8871CE7F\",\"layer\" : 6,\"menus\" : {},\"messages\" : {},\"parent\" : \"\",\"size\" : 1,\"title\" : \"(2,2,2)\",\"type\" : \"circle\",\"x\" : 0,\"y\" : 0},\"FA6B207B32FF64C96F44362C0D8837B14\" : {\"callbacks\" : {},\"color\" : \"\",\"id\" : \"FA6B207B32FF64C96F44362C0D8837B14\",\"layer\" : 8,\"menus\" : {},\"messages\" : {},\"parent\" : \"\",\"size\" : 1,\"title\" : \"(5,3,0)\",\"type\" : \"circle\",\"x\" : 0,\"y\" : 0},\"FCD3B7A85C76D4470C4E6952CB0181378\" : {\"callbacks\" : {},\"color\" : \"\",\"id\" : \"FCD3B7A85C76D4470C4E6952CB0181378\",\"layer\" : 6,\"menus\" : {},\"messages\" : {},\"parent\" : \"\",\"size\" : 1,\"title\" : \"(3,0,3)\",\"type\" : \"circle\",\"x\" : 0,\"y\" : 0},\"FF6E1D782AC9B4FCA043B0B6630DB9D8D\" : {\"callbacks\" : {},\"color\" : \"\",\"id\" : \"FF6E1D782AC9B4FCA043B0B6630DB9D8D\",\"layer\" : 8,\"menus\" : {},\"messages\" : {},\"parent\" : \"\",\"size\" : 1,\"title\" : \"(6,1,1)\",\"type\" : \"circle\",\"x\" : 0,\"y\" : 0}},\"simulation\" : true,\"type\" : \"undirected\"},\"height\" : 600,\"id\" : \"F33E8DCD735784D2F6C891367A6547E27\",\"menus\" : {},\"messages\" : {},\"texTypesetting\" : false,\"title\" : \"Eliahou graph\",\"width\" : 800,\"zoomToFit\" : true},\"mime\" : \"application\\/vnd.francy+json\",\"version\" : \"1.2.4\"}"
     },
     "execution_count": 15,
     "metadata": {
      "application/vnd.francy+json": {}
     },
     "output_type": "execute_result"
    }
   ],
   "source": [
    "DrawEliahouGraph(f);"
   ]
  },
  {
   "cell_type": "markdown",
   "metadata": {},
   "source": [
    "## `DrawRosalesGraph(n,s)`\n",
    "\n",
    "Draws the Rosales graph associated to `n` in `s`. The semigroup `s` can be either a numerical or an affine semigroup. The vertices of the graph are the minimal generators `a` of `s` such that `n-a` is in `s`, and edges are pairs `ab` such that `n-(a+b)` is in `s`."
   ]
  },
  {
   "cell_type": "code",
   "execution_count": 16,
   "metadata": {},
   "outputs": [
    {
     "data": {
      "application/vnd.francy+json": "{\"canvas\" : {\"graph\" : {\"collapsed\" : true,\"id\" : \"FBC05507BCBD547527CF9493026F1980E\",\"links\" : {\"F0F372D73E9F54A3D146C2DA2598608EE\" : {\"color\" : \"\",\"id\" : \"F0F372D73E9F54A3D146C2DA2598608EE\",\"invisible\" : false,\"length\" : 0,\"source\" : \"FDBEA4DF7B28142498CC0807708A661BF\",\"target\" : \"F22C7159FED2E421424FFA27127119CF7\",\"weight\" : 0}},\"nodes\" : {\"F22C7159FED2E421424FFA27127119CF7\" : {\"callbacks\" : {},\"color\" : \"\",\"id\" : \"F22C7159FED2E421424FFA27127119CF7\",\"layer\" : 0,\"menus\" : {},\"messages\" : {},\"parent\" : \"\",\"size\" : 1,\"title\" : \"7\",\"type\" : \"circle\",\"x\" : 0,\"y\" : 0},\"F35D32C01D94D4545EC569273FB40319D\" : {\"callbacks\" : {},\"color\" : \"\",\"id\" : \"F35D32C01D94D4545EC569273FB40319D\",\"layer\" : 0,\"menus\" : {},\"messages\" : {},\"parent\" : \"\",\"size\" : 1,\"title\" : \"5\",\"type\" : \"circle\",\"x\" : 0,\"y\" : 0},\"FDBEA4DF7B28142498CC0807708A661BF\" : {\"callbacks\" : {},\"color\" : \"\",\"id\" : \"FDBEA4DF7B28142498CC0807708A661BF\",\"layer\" : 0,\"menus\" : {},\"messages\" : {},\"parent\" : \"\",\"size\" : 1,\"title\" : \"3\",\"type\" : \"circle\",\"x\" : 0,\"y\" : 0}},\"simulation\" : true,\"type\" : \"undirected\"},\"height\" : 600,\"id\" : \"F091A28898E5948C92C6CAEF86BDF21CE\",\"menus\" : {},\"messages\" : {},\"texTypesetting\" : false,\"title\" : \"Rosales graph\",\"width\" : 800,\"zoomToFit\" : true},\"mime\" : \"application\\/vnd.francy+json\",\"version\" : \"1.2.4\"}"
     },
     "execution_count": 16,
     "metadata": {
      "application/vnd.francy+json": {}
     },
     "output_type": "execute_result"
    }
   ],
   "source": [
    "DrawRosalesGraph(10,s);"
   ]
  },
  {
   "cell_type": "code",
   "execution_count": 17,
   "metadata": {},
   "outputs": [
    {
     "data": {
      "text/plain": [
       "[ 10, 12, 14 ]"
      ]
     },
     "execution_count": 17,
     "metadata": {
      "text/plain": ""
     },
     "output_type": "execute_result"
    }
   ],
   "source": [
    "BettiElements(s);"
   ]
  },
  {
   "cell_type": "code",
   "execution_count": null,
   "metadata": {},
   "outputs": [],
   "source": []
  }
 ],
 "metadata": {
  "kernelspec": {
   "display_name": "GAP 4",
   "language": "gap",
   "name": "gap-4"
  },
  "language_info": {
   "codemirror_mode": "gap",
   "file_extension": ".g",
   "mimetype": "text/x-gap",
   "name": "GAP 4",
   "nbconvert_exporter": "",
   "pygments_lexer": "gap",
   "version": "4.13dev"
  }
 },
 "nbformat": 4,
 "nbformat_minor": 4
}
