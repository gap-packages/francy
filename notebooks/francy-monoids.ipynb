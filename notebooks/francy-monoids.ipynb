{
 "cells": [
  {
   "cell_type": "code",
   "execution_count": 1,
   "metadata": {},
   "outputs": [
    {
     "data": {
      "text/plain": [
       "true"
      ]
     },
     "execution_count": 1,
     "metadata": {
      "text/plain": ""
     },
     "output_type": "execute_result"
    }
   ],
   "source": [
    "LoadPackage(\"FrancyMonoids\");"
   ]
  },
  {
   "cell_type": "markdown",
   "metadata": {},
   "source": [
    "## Trees"
   ]
  },
  {
   "cell_type": "code",
   "execution_count": 2,
   "metadata": {},
   "outputs": [
    {
     "data": {
      "text/plain": [
       "<The numerical semigroup N>"
      ]
     },
     "execution_count": 2,
     "metadata": {
      "text/plain": ""
     },
     "output_type": "execute_result"
    }
   ],
   "source": [
    "s:=NumericalSemigroup(1);"
   ]
  },
  {
   "cell_type": "markdown",
   "metadata": {},
   "source": [
    "##  `DrawTreeOfSonsOfNumericalSemigroup(s,l,gensfunc)`\n",
    "\n",
    "This function draws the thre of the sons of `s` up to level `l` with respect to `gensfunc` (a function that gets minimal generators according to a given variety of numerical semigroups, for instance, `MinimalGenerators`)"
   ]
  },
  {
   "cell_type": "code",
   "execution_count": 3,
   "metadata": {},
   "outputs": [
    {
     "data": {
      "application/vnd.francy+json": "{\"canvas\" : {\"graph\" : {\"collapsed\" : false,\"id\" : \"F16F84EF01FBE4F14B485CA820A658A6B\",\"links\" : {},\"nodes\" : {\"F0868DA228962428204E306E7BA02C0BF\" : {\"callbacks\" : {},\"color\" : \"\",\"id\" : \"F0868DA228962428204E306E7BA02C0BF\",\"layer\" : 0,\"menus\" : {},\"messages\" : {},\"parent\" : \"F1AB14F00715746C17C7A051F4C4D50D1\",\"size\" : 5,\"title\" : \"{4,6,9,11}\",\"type\" : \"circle\",\"x\" : 0,\"y\" : 0},\"F12AC5E185BB641038431E4B4C3456293\" : {\"callbacks\" : {},\"color\" : \"\",\"id\" : \"F12AC5E185BB641038431E4B4C3456293\",\"layer\" : 0,\"menus\" : {},\"messages\" : {},\"parent\" : \"F366688A254054F9AFC43A6EA5008CAD2\",\"size\" : 5,\"title\" : \"{2,11}\",\"type\" : \"circle\",\"x\" : 0,\"y\" : 0},\"F1AB14F00715746C17C7A051F4C4D50D1\" : {\"callbacks\" : {},\"color\" : \"\",\"id\" : \"F1AB14F00715746C17C7A051F4C4D50D1\",\"layer\" : 0,\"menus\" : {},\"messages\" : {},\"parent\" : \"FCBE476E116664FC274E1019A4AFC3590\",\"size\" : 5,\"title\" : \"{4,6,7,9}\",\"type\" : \"circle\",\"x\" : 0,\"y\" : 0},\"F2A6C37797BF9484A0470FE1CE5464A41\" : {\"callbacks\" : {},\"color\" : \"\",\"id\" : \"F2A6C37797BF9484A0470FE1CE5464A41\",\"layer\" : 0,\"menus\" : {},\"messages\" : {},\"parent\" : \"F807B9742C5CC4FC40CAF33D4A0501971\",\"size\" : 5,\"title\" : \"{5,6,7,8}\",\"type\" : \"circle\",\"x\" : 0,\"y\" : 0},\"F2ED844CBF82047CA8C0E59ECD1D25F6A\" : {\"callbacks\" : {},\"color\" : \"\",\"id\" : \"F2ED844CBF82047CA8C0E59ECD1D25F6A\",\"layer\" : 0,\"menus\" : {},\"messages\" : {},\"parent\" : \"FB9F3D102AF6942D1348022740EF8E8ED\",\"size\" : 5,\"title\" : \"{4,5,11}\",\"type\" : \"circle\",\"x\" : 0,\"y\" : 0},\"F366688A254054F9AFC43A6EA5008CAD2\" : {\"callbacks\" : {},\"color\" : \"\",\"id\" : \"F366688A254054F9AFC43A6EA5008CAD2\",\"layer\" : 0,\"menus\" : {},\"messages\" : {},\"parent\" : \"F8F794C1FA828467404CA41218DCFC68D\",\"size\" : 5,\"title\" : \"{2,9}\",\"type\" : \"circle\",\"x\" : 0,\"y\" : 0},\"F36D7D8C8024E4D9B34DBDCE35F39E797\" : {\"callbacks\" : {},\"color\" : \"\",\"id\" : \"F36D7D8C8024E4D9B34DBDCE35F39E797\",\"layer\" : 0,\"menus\" : {},\"messages\" : {},\"parent\" : \"F3A62027A90C14B2E64ADFBE598DCAB1F\",\"size\" : 5,\"title\" : \"{3,8,10}\",\"type\" : \"circle\",\"x\" : 0,\"y\" : 0},\"F3A62027A90C14B2E64ADFBE598DCAB1F\" : {\"callbacks\" : {},\"color\" : \"\",\"id\" : \"F3A62027A90C14B2E64ADFBE598DCAB1F\",\"layer\" : 0,\"menus\" : {},\"messages\" : {},\"parent\" : \"F40528265F01D48195C823DDF5A14D7CF\",\"size\" : 5,\"title\" : \"{3,7,8}\",\"type\" : \"circle\",\"x\" : 0,\"y\" : 0},\"F40528265F01D48195C823DDF5A14D7CF\" : {\"callbacks\" : {},\"color\" : \"\",\"id\" : \"F40528265F01D48195C823DDF5A14D7CF\",\"layer\" : 0,\"menus\" : {},\"messages\" : {},\"parent\" : \"F550DCE4E3D6F49DF3CAB08FAB4D5D25B\",\"size\" : 5,\"title\" : \"{3,5,7}\",\"type\" : \"circle\",\"x\" : 0,\"y\" : 0},\"F4F18DC8FBC08428664203B7254BEDCFC\" : {\"callbacks\" : {},\"color\" : \"\",\"id\" : \"F4F18DC8FBC08428664203B7254BEDCFC\",\"layer\" : 0,\"menus\" : {},\"messages\" : {},\"parent\" : \"F3A62027A90C14B2E64ADFBE598DCAB1F\",\"size\" : 5,\"title\" : \"{3,7,11}\",\"type\" : \"circle\",\"x\" : 0,\"y\" : 0},\"F54CD4B05DD4246E92C0525D0F611334A\" : {\"callbacks\" : {},\"color\" : \"\",\"id\" : \"F54CD4B05DD4246E92C0525D0F611334A\",\"layer\" : 0,\"menus\" : {},\"messages\" : {},\"parent\" : \"F807B9742C5CC4FC40CAF33D4A0501971\",\"size\" : 5,\"title\" : \"{5,7,8,9,11}\",\"type\" : \"circle\",\"x\" : 0,\"y\" : 0},\"F550DCE4E3D6F49DF3CAB08FAB4D5D25B\" : {\"callbacks\" : {},\"color\" : \"\",\"id\" : \"F550DCE4E3D6F49DF3CAB08FAB4D5D25B\",\"layer\" : 0,\"menus\" : {},\"messages\" : {},\"parent\" : \"FC5452D576AF74C9EF4FB46A59E28D428\",\"size\" : 5,\"title\" : \"{3,4,5}\",\"type\" : \"circle\",\"x\" : 0,\"y\" : 0},\"F78F966D29C48478A349E56140B0752E8\" : {\"callbacks\" : {},\"color\" : \"\",\"id\" : \"F78F966D29C48478A349E56140B0752E8\",\"layer\" : 0,\"menus\" : {},\"messages\" : {},\"parent\" : \"F807B9742C5CC4FC40CAF33D4A0501971\",\"size\" : 5,\"title\" : \"{5,6,7,9}\",\"type\" : \"circle\",\"x\" : 0,\"y\" : 0},\"F793F564DFC7C41AD0C70B2CB648370C1\" : {\"callbacks\" : {},\"color\" : \"\",\"id\" : \"F793F564DFC7C41AD0C70B2CB648370C1\",\"layer\" : 0,\"menus\" : {},\"messages\" : {},\"parent\" : \"FCBE476E116664FC274E1019A4AFC3590\",\"size\" : 5,\"title\" : \"{4,5,6}\",\"type\" : \"circle\",\"x\" : 0,\"y\" : 0},\"F807B9742C5CC4FC40CAF33D4A0501971\" : {\"callbacks\" : {},\"color\" : \"\",\"id\" : \"F807B9742C5CC4FC40CAF33D4A0501971\",\"layer\" : 0,\"menus\" : {},\"messages\" : {},\"parent\" : \"FCBE476E116664FC274E1019A4AFC3590\",\"size\" : 5,\"title\" : \"{5,6,7,8,9}\",\"type\" : \"circle\",\"x\" : 0,\"y\" : 0},\"F8F794C1FA828467404CA41218DCFC68D\" : {\"callbacks\" : {},\"color\" : \"\",\"id\" : \"F8F794C1FA828467404CA41218DCFC68D\",\"layer\" : 0,\"menus\" : {},\"messages\" : {},\"parent\" : \"F9A4E435F8A234BBD34DD34C838182A5C\",\"size\" : 5,\"title\" : \"{2,7}\",\"type\" : \"circle\",\"x\" : 0,\"y\" : 0},\"F948734D11FBF42E464F04F2EE6D6C0DE\" : {\"callbacks\" : {},\"color\" : \"\",\"id\" : \"F948734D11FBF42E464F04F2EE6D6C0DE\",\"layer\" : 0,\"menus\" : {},\"messages\" : {},\"parent\" : \"F807B9742C5CC4FC40CAF33D4A0501971\",\"size\" : 5,\"title\" : \"{6,7,8,9,10,11}\",\"type\" : \"circle\",\"x\" : 0,\"y\" : 0},\"F9A4E435F8A234BBD34DD34C838182A5C\" : {\"callbacks\" : {},\"color\" : \"\",\"id\" : \"F9A4E435F8A234BBD34DD34C838182A5C\",\"layer\" : 0,\"menus\" : {},\"messages\" : {},\"parent\" : \"FC5452D576AF74C9EF4FB46A59E28D428\",\"size\" : 5,\"title\" : \"{2,5}\",\"type\" : \"circle\",\"x\" : 0,\"y\" : 0},\"FB9F3D102AF6942D1348022740EF8E8ED\" : {\"callbacks\" : {},\"color\" : \"\",\"id\" : \"FB9F3D102AF6942D1348022740EF8E8ED\",\"layer\" : 0,\"menus\" : {},\"messages\" : {},\"parent\" : \"FCBE476E116664FC274E1019A4AFC3590\",\"size\" : 5,\"title\" : \"{4,5,7}\",\"type\" : \"circle\",\"x\" : 0,\"y\" : 0},\"FBADFB1FBB15143125C5771BF1E49AAAC\" : {\"callbacks\" : {},\"color\" : \"\",\"id\" : \"FBADFB1FBB15143125C5771BF1E49AAAC\",\"layer\" : 0,\"menus\" : {},\"messages\" : {},\"parent\" : \"F40528265F01D48195C823DDF5A14D7CF\",\"size\" : 5,\"title\" : \"{3,5}\",\"type\" : \"circle\",\"x\" : 0,\"y\" : 0},\"FBC3E1C907D124ABCB4D37AFC978D49C0\" : {\"callbacks\" : {},\"color\" : \"\",\"id\" : \"FBC3E1C907D124ABCB4D37AFC978D49C0\",\"layer\" : 0,\"menus\" : {},\"messages\" : {},\"parent\" : \"F550DCE4E3D6F49DF3CAB08FAB4D5D25B\",\"size\" : 5,\"title\" : \"{3,4}\",\"type\" : \"circle\",\"x\" : 0,\"y\" : 0},\"FC5452D576AF74C9EF4FB46A59E28D428\" : {\"callbacks\" : {},\"color\" : \"\",\"id\" : \"FC5452D576AF74C9EF4FB46A59E28D428\",\"layer\" : 0,\"menus\" : {},\"messages\" : {},\"parent\" : \"FF74B9D246DD541C484E418CB16956DA0\",\"size\" : 5,\"title\" : \"{2,3}\",\"type\" : \"circle\",\"x\" : 0,\"y\" : 0},\"FC957E285E0B14173EC9381C00B082970\" : {\"callbacks\" : {},\"color\" : \"\",\"id\" : \"FC957E285E0B14173EC9381C00B082970\",\"layer\" : 0,\"menus\" : {},\"messages\" : {},\"parent\" : \"F807B9742C5CC4FC40CAF33D4A0501971\",\"size\" : 5,\"title\" : \"{5,6,8,9}\",\"type\" : \"circle\",\"x\" : 0,\"y\" : 0},\"FCBE476E116664FC274E1019A4AFC3590\" : {\"callbacks\" : {},\"color\" : \"\",\"id\" : \"FCBE476E116664FC274E1019A4AFC3590\",\"layer\" : 0,\"menus\" : {},\"messages\" : {},\"parent\" : \"F550DCE4E3D6F49DF3CAB08FAB4D5D25B\",\"size\" : 5,\"title\" : \"{4,5,6,7}\",\"type\" : \"circle\",\"x\" : 0,\"y\" : 0},\"FCC126CDF1E5242146C0BCE666332E9C4\" : {\"callbacks\" : {},\"color\" : \"\",\"id\" : \"FCC126CDF1E5242146C0BCE666332E9C4\",\"layer\" : 0,\"menus\" : {},\"messages\" : {},\"parent\" : \"F1AB14F00715746C17C7A051F4C4D50D1\",\"size\" : 5,\"title\" : \"{4,7,9,10}\",\"type\" : \"circle\",\"x\" : 0,\"y\" : 0},\"FEF76FDF6550246224C26BEBD124862CC\" : {\"callbacks\" : {},\"color\" : \"\",\"id\" : \"FEF76FDF6550246224C26BEBD124862CC\",\"layer\" : 0,\"menus\" : {},\"messages\" : {},\"parent\" : \"F1AB14F00715746C17C7A051F4C4D50D1\",\"size\" : 5,\"title\" : \"{4,6,7}\",\"type\" : \"circle\",\"x\" : 0,\"y\" : 0},\"FF74B9D246DD541C484E418CB16956DA0\" : {\"callbacks\" : {},\"color\" : \"\",\"id\" : \"FF74B9D246DD541C484E418CB16956DA0\",\"layer\" : 0,\"menus\" : {},\"messages\" : {\"F334DE0F3A9274F09AC133BF44D541601\" : {\"callback\" : {\"func\" : \"Remove\",\"id\" : \"FB704B29DD31C4062A4A90467202E2480\",\"knownArgs\" : [\"<object>\",\"<object>\"],\"requiredArgs\" : {},\"trigger\" : \"click\"},\"id\" : \"F334DE0F3A9274F09AC133BF44D541601\",\"text\" : \"[ 1 ]\",\"title\" : \"\",\"type\" : \"default\"}},\"parent\" : \"\",\"size\" : 5,\"title\" : \"S\",\"type\" : \"circle\",\"x\" : 0,\"y\" : 0}},\"simulation\" : true,\"type\" : \"tree\"},\"height\" : 600,\"id\" : \"F0935E1111DD14DF13C7643305440A90F\",\"menus\" : {},\"messages\" : {},\"texTypesetting\" : true,\"title\" : \"Sons of a numerical semigroup\",\"width\" : 800,\"zoomToFit\" : true},\"mime\" : \"application\\/vnd.francy+json\",\"version\" : \"2.0.0\"}"
     },
     "execution_count": 3,
     "metadata": {
      "application/vnd.francy+json": {}
     },
     "output_type": "execute_result"
    }
   ],
   "source": [
    "DrawTreeOfSonsOfNumericalSemigroup(s,5,MinimalGenerators);"
   ]
  },
  {
   "cell_type": "code",
   "execution_count": 4,
   "metadata": {},
   "outputs": [
    {
     "data": {
      "text/plain": [
       "<Numerical semigroup with 3 generators>"
      ]
     },
     "execution_count": 4,
     "metadata": {
      "text/plain": ""
     },
     "output_type": "execute_result"
    }
   ],
   "source": [
    "s:=NumericalSemigroup(4,6,9);"
   ]
  },
  {
   "cell_type": "markdown",
   "metadata": {},
   "source": [
    "## `DrawTreeOfGluingsOfNumericalSemigroup(s,expand...)`\n",
    "\n",
    "Draws the decomposition of `s` as a gluing of numerical semigroups, and then proceeds recursively with each of the factors. Decomposition is not unique, and this is why a tree is drawn. The optional argument `expand` may be true or false, and it makes the tree fully expandable or not."
   ]
  },
  {
   "cell_type": "code",
   "execution_count": 5,
   "metadata": {},
   "outputs": [
    {
     "data": {
      "application/vnd.francy+json": "{\"canvas\" : {\"graph\" : {\"collapsed\" : false,\"id\" : \"F6E20A7A3B1004032E4CE51E46A17101F\",\"links\" : {},\"nodes\" : {\"F06668D287B154619349F2436DCD72C18\" : {\"callbacks\" : {},\"color\" : \"\",\"id\" : \"F06668D287B154619349F2436DCD72C18\",\"layer\" : 0,\"menus\" : {},\"messages\" : {},\"parent\" : \"F9980C3AB1FE8467A0C39E0816714D39D\",\"size\" : 1,\"title\" : \"〈4,6〉 + 〈9〉\",\"type\" : \"square\",\"x\" : 0,\"y\" : 0},\"F0EFC447BC2A94F6A046EAA5CF1827861\" : {\"callbacks\" : {},\"color\" : \"\",\"id\" : \"F0EFC447BC2A94F6A046EAA5CF1827861\",\"layer\" : 0,\"menus\" : {},\"messages\" : {},\"parent\" : \"FA6051B31B0334002FC557EA064E34781\",\"size\" : 1,\"title\" : \"〈1〉\",\"type\" : \"circle\",\"x\" : 0,\"y\" : 0},\"F2140F5B9EB414493EC719FFE8D4BF2ED\" : {\"callbacks\" : {},\"color\" : \"\",\"id\" : \"F2140F5B9EB414493EC719FFE8D4BF2ED\",\"layer\" : 0,\"menus\" : {},\"messages\" : {},\"parent\" : \"F383B937CCF3547927CB4CC7779D548B7\",\"size\" : 1,\"title\" : \"〈1〉\",\"type\" : \"circle\",\"x\" : 0,\"y\" : 0},\"F2D93B026F585424AF4DCE24E0C2A49F8\" : {\"callbacks\" : {},\"color\" : \"\",\"id\" : \"F2D93B026F585424AF4DCE24E0C2A49F8\",\"layer\" : 0,\"menus\" : {},\"messages\" : {},\"parent\" : \"FA9ED231CB4E94792E44909958FE38065\",\"size\" : 1,\"title\" : \"〈2〉 + 〈3〉\",\"type\" : \"square\",\"x\" : 0,\"y\" : 0},\"F383B937CCF3547927CB4CC7779D548B7\" : {\"callbacks\" : {},\"color\" : \"\",\"id\" : \"F383B937CCF3547927CB4CC7779D548B7\",\"layer\" : 0,\"menus\" : {},\"messages\" : {},\"parent\" : \"F9980C3AB1FE8467A0C39E0816714D39D\",\"size\" : 1,\"title\" : \"〈4〉 + 〈6,9〉\",\"type\" : \"square\",\"x\" : 0,\"y\" : 0},\"F49BDA1295C9445F6F4EC266BF0A82D84\" : {\"callbacks\" : {},\"color\" : \"\",\"id\" : \"F49BDA1295C9445F6F4EC266BF0A82D84\",\"layer\" : 0,\"menus\" : {},\"messages\" : {},\"parent\" : \"F06668D287B154619349F2436DCD72C18\",\"size\" : 1,\"title\" : \"〈2,3〉\",\"type\" : \"circle\",\"x\" : 0,\"y\" : 0},\"F55F63E4544B84A3F14A229612277EA64\" : {\"callbacks\" : {},\"color\" : \"\",\"id\" : \"F55F63E4544B84A3F14A229612277EA64\",\"layer\" : 0,\"menus\" : {},\"messages\" : {},\"parent\" : \"F2D93B026F585424AF4DCE24E0C2A49F8\",\"size\" : 1,\"title\" : \"〈1〉\",\"type\" : \"circle\",\"x\" : 0,\"y\" : 0},\"F7220CDA1859D4FB5D44E4B78F5ED59EB\" : {\"callbacks\" : {},\"color\" : \"\",\"id\" : \"F7220CDA1859D4FB5D44E4B78F5ED59EB\",\"layer\" : 0,\"menus\" : {},\"messages\" : {},\"parent\" : \"F2D93B026F585424AF4DCE24E0C2A49F8\",\"size\" : 1,\"title\" : \"〈1〉\",\"type\" : \"circle\",\"x\" : 0,\"y\" : 0},\"F8DD0CA00423F4D774CF0766011BCA30F\" : {\"callbacks\" : {},\"color\" : \"\",\"id\" : \"F8DD0CA00423F4D774CF0766011BCA30F\",\"layer\" : 0,\"menus\" : {},\"messages\" : {},\"parent\" : \"FA6051B31B0334002FC557EA064E34781\",\"size\" : 1,\"title\" : \"〈1〉\",\"type\" : \"circle\",\"x\" : 0,\"y\" : 0},\"F94F08AE9E9724579DC4004270C597E1A\" : {\"callbacks\" : {},\"color\" : \"\",\"id\" : \"F94F08AE9E9724579DC4004270C597E1A\",\"layer\" : 0,\"menus\" : {},\"messages\" : {},\"parent\" : \"F06668D287B154619349F2436DCD72C18\",\"size\" : 1,\"title\" : \"〈1〉\",\"type\" : \"circle\",\"x\" : 0,\"y\" : 0},\"F9980C3AB1FE8467A0C39E0816714D39D\" : {\"callbacks\" : {},\"color\" : \"\",\"id\" : \"F9980C3AB1FE8467A0C39E0816714D39D\",\"layer\" : 0,\"menus\" : {},\"messages\" : {},\"parent\" : \"\",\"size\" : 1,\"title\" : \"〈4,6,9〉\",\"type\" : \"circle\",\"x\" : 0,\"y\" : 0},\"FA6051B31B0334002FC557EA064E34781\" : {\"callbacks\" : {},\"color\" : \"\",\"id\" : \"FA6051B31B0334002FC557EA064E34781\",\"layer\" : 0,\"menus\" : {},\"messages\" : {},\"parent\" : \"F49BDA1295C9445F6F4EC266BF0A82D84\",\"size\" : 1,\"title\" : \"〈2〉 + 〈3〉\",\"type\" : \"square\",\"x\" : 0,\"y\" : 0},\"FA9ED231CB4E94792E44909958FE38065\" : {\"callbacks\" : {},\"color\" : \"\",\"id\" : \"FA9ED231CB4E94792E44909958FE38065\",\"layer\" : 0,\"menus\" : {},\"messages\" : {},\"parent\" : \"F383B937CCF3547927CB4CC7779D548B7\",\"size\" : 1,\"title\" : \"〈2,3〉\",\"type\" : \"circle\",\"x\" : 0,\"y\" : 0}},\"simulation\" : true,\"type\" : \"tree\"},\"height\" : 600,\"id\" : \"FADAB64089636489B9C138F2DEEA6DF25\",\"menus\" : {},\"messages\" : {},\"texTypesetting\" : false,\"title\" : \"Gluings of a numerical semigroup\",\"width\" : 800,\"zoomToFit\" : true},\"mime\" : \"application\\/vnd.francy+json\",\"version\" : \"2.0.0\"}"
     },
     "execution_count": 5,
     "metadata": {
      "application/vnd.francy+json": {}
     },
     "output_type": "execute_result"
    }
   ],
   "source": [
    "DrawTreeOfGluingsOfNumericalSemigroup(s,true);"
   ]
  },
  {
   "cell_type": "markdown",
   "metadata": {},
   "source": [
    "## Hasse Diagrams"
   ]
  },
  {
   "cell_type": "code",
   "execution_count": 6,
   "metadata": {},
   "outputs": [
    {
     "data": {
      "text/plain": [
       "<Numerical semigroup with 3 generators>"
      ]
     },
     "execution_count": 6,
     "metadata": {
      "text/plain": ""
     },
     "output_type": "execute_result"
    }
   ],
   "source": [
    "s:=NumericalSemigroup(3,5,7);"
   ]
  },
  {
   "cell_type": "markdown",
   "metadata": {},
   "source": [
    "## `DrawHasseDiagramOfNumericalSemigroup(s, A)`\n",
    "\n",
    "Draws the Hasse diagram of `A` (a set of integers) with respect to the ordering induced by `s`: $a\\preceq b$ if $b-a$ is in `s`."
   ]
  },
  {
   "cell_type": "code",
   "execution_count": 7,
   "metadata": {},
   "outputs": [
    {
     "data": {
      "application/vnd.francy+json": "{\"canvas\" : {\"graph\" : {\"collapsed\" : true,\"id\" : \"F70C0C02B07B84DB34C05ECEED45E49C0\",\"links\" : {\"F04B841BB95E84A5014DCF7B2A0251FC3\" : {\"color\" : \"\",\"id\" : \"F04B841BB95E84A5014DCF7B2A0251FC3\",\"invisible\" : false,\"length\" : 0,\"source\" : \"F858A0120C4444F10ECA4C280DCA35730\",\"target\" : \"FB64AF9C0DF8844D5549A677F3E73A8E0\",\"weight\" : 0},\"F1527ED48A5FA4803A4760D4A4ECD67A4\" : {\"color\" : \"\",\"id\" : \"F1527ED48A5FA4803A4760D4A4ECD67A4\",\"invisible\" : false,\"length\" : 0,\"source\" : \"F330476CCC97F40C484795D0F126D75CE\",\"target\" : \"F0CEC88E53D9F4AD9243579FC2E221BF2\",\"weight\" : 0},\"F1624BA34B25A435C041AF6D48DC4B05A\" : {\"color\" : \"\",\"id\" : \"F1624BA34B25A435C041AF6D48DC4B05A\",\"invisible\" : false,\"length\" : 0,\"source\" : \"F16B6D4BBBDE549606C32412BD5FCAAC8\",\"target\" : \"FCF8B9FDB01264AD5446BBEFB8133E0D1\",\"weight\" : 0},\"F25646FAF2CD049E8BCF3C717AD009791\" : {\"color\" : \"\",\"id\" : \"F25646FAF2CD049E8BCF3C717AD009791\",\"invisible\" : false,\"length\" : 0,\"source\" : \"F395B367C2F9243410CB0A7E8BCCF58D6\",\"target\" : \"F0534FB53BDD644774C20549B32BA5956\",\"weight\" : 0},\"F2BCA389AE5E74B703C862241C033D761\" : {\"color\" : \"\",\"id\" : \"F2BCA389AE5E74B703C862241C033D761\",\"invisible\" : false,\"length\" : 0,\"source\" : \"FDF3C3C926F384025CC730F076C1FBC14\",\"target\" : \"FF220FEE8575C43BDFC303D047B8FC287\",\"weight\" : 0},\"F2E04D2A449AB404484BE1DB2766E0E0A\" : {\"color\" : \"\",\"id\" : \"F2E04D2A449AB404484BE1DB2766E0E0A\",\"invisible\" : false,\"length\" : 0,\"source\" : \"FE29E81CAF5734142D4115FBBCB27CD5C\",\"target\" : \"FDF3C3C926F384025CC730F076C1FBC14\",\"weight\" : 0},\"F32F85A285C36492DF41341B206CF469A\" : {\"color\" : \"\",\"id\" : \"F32F85A285C36492DF41341B206CF469A\",\"invisible\" : false,\"length\" : 0,\"source\" : \"F0B1E608E0B7844971C520DBC7A9E74A1\",\"target\" : \"FC31B35D78FF84F2B8C6FAADDC0DB0052\",\"weight\" : 0},\"F385580564AD04AE4B45C1A31853FFE70\" : {\"color\" : \"\",\"id\" : \"F385580564AD04AE4B45C1A31853FFE70\",\"invisible\" : false,\"length\" : 0,\"source\" : \"F12B892EB1F6944BD1CB9AEEA3E2DC31B\",\"target\" : \"F16B6D4BBBDE549606C32412BD5FCAAC8\",\"weight\" : 0},\"F3F10A2DC1ECE471C0CB1E7A1D6292133\" : {\"color\" : \"\",\"id\" : \"F3F10A2DC1ECE471C0CB1E7A1D6292133\",\"invisible\" : false,\"length\" : 0,\"source\" : \"F0B1E608E0B7844971C520DBC7A9E74A1\",\"target\" : \"FE29E81CAF5734142D4115FBBCB27CD5C\",\"weight\" : 0},\"F40168CEA92334FC0148D276E79DE5B4B\" : {\"color\" : \"\",\"id\" : \"F40168CEA92334FC0148D276E79DE5B4B\",\"invisible\" : false,\"length\" : 0,\"source\" : \"F330476CCC97F40C484795D0F126D75CE\",\"target\" : \"F12B892EB1F6944BD1CB9AEEA3E2DC31B\",\"weight\" : 0},\"F44A2C6E4244D44F27495B973576F964D\" : {\"color\" : \"\",\"id\" : \"F44A2C6E4244D44F27495B973576F964D\",\"invisible\" : false,\"length\" : 0,\"source\" : \"FF220FEE8575C43BDFC303D047B8FC287\",\"target\" : \"FFE870E8FBCFD498C64744438F77AB719\",\"weight\" : 0},\"F483C58C84F764BA7ACE75701FDD9E22C\" : {\"color\" : \"\",\"id\" : \"F483C58C84F764BA7ACE75701FDD9E22C\",\"invisible\" : false,\"length\" : 0,\"source\" : \"FC31B35D78FF84F2B8C6FAADDC0DB0052\",\"target\" : \"FE06BCD46747840705407AA26AB9BA35A\",\"weight\" : 0},\"F49D53BC4B6634228A41F18F08AD2B33B\" : {\"color\" : \"\",\"id\" : \"F49D53BC4B6634228A41F18F08AD2B33B\",\"invisible\" : false,\"length\" : 0,\"source\" : \"F0CEC88E53D9F4AD9243579FC2E221BF2\",\"target\" : \"FFE870E8FBCFD498C64744438F77AB719\",\"weight\" : 0},\"F562A6F4EEB684370C4573A32DB918402\" : {\"color\" : \"\",\"id\" : \"F562A6F4EEB684370C4573A32DB918402\",\"invisible\" : false,\"length\" : 0,\"source\" : \"FE29E81CAF5734142D4115FBBCB27CD5C\",\"target\" : \"FE06BCD46747840705407AA26AB9BA35A\",\"weight\" : 0},\"F5934678072AB4FE24C1E02260B3AEC51\" : {\"color\" : \"\",\"id\" : \"F5934678072AB4FE24C1E02260B3AEC51\",\"invisible\" : false,\"length\" : 0,\"source\" : \"FB64AF9C0DF8844D5549A677F3E73A8E0\",\"target\" : \"FF220FEE8575C43BDFC303D047B8FC287\",\"weight\" : 0},\"F5B0F5DB65B16433ABCEF66241E15AE7D\" : {\"color\" : \"\",\"id\" : \"F5B0F5DB65B16433ABCEF66241E15AE7D\",\"invisible\" : false,\"length\" : 0,\"source\" : \"FE06BCD46747840705407AA26AB9BA35A\",\"target\" : \"F0534FB53BDD644774C20549B32BA5956\",\"weight\" : 0},\"F5EFEB101EAFA4AD5BC6729B00FB31224\" : {\"color\" : \"\",\"id\" : \"F5EFEB101EAFA4AD5BC6729B00FB31224\",\"invisible\" : false,\"length\" : 0,\"source\" : \"F4358CADED853411B94A33DAB4A036C8D\",\"target\" : \"F395B367C2F9243410CB0A7E8BCCF58D6\",\"weight\" : 0},\"F657BF0E427734E064C54185308D62173\" : {\"color\" : \"\",\"id\" : \"F657BF0E427734E064C54185308D62173\",\"invisible\" : false,\"length\" : 0,\"source\" : \"F395B367C2F9243410CB0A7E8BCCF58D6\",\"target\" : \"FCF8B9FDB01264AD5446BBEFB8133E0D1\",\"weight\" : 0},\"F6B0D2D96936A4F02940D4BE2F53D08CF\" : {\"color\" : \"\",\"id\" : \"F6B0D2D96936A4F02940D4BE2F53D08CF\",\"invisible\" : false,\"length\" : 0,\"source\" : \"F137DB56349C44C86349415D8DBC577B4\",\"target\" : \"FE29E81CAF5734142D4115FBBCB27CD5C\",\"weight\" : 0},\"F6E830FE3BA81486EBC7520C337511CD6\" : {\"color\" : \"\",\"id\" : \"F6E830FE3BA81486EBC7520C337511CD6\",\"invisible\" : false,\"length\" : 0,\"source\" : \"FB64AF9C0DF8844D5549A677F3E73A8E0\",\"target\" : \"F12B892EB1F6944BD1CB9AEEA3E2DC31B\",\"weight\" : 0},\"F6FFD0DC6D901452F0C4BDBFB98CC8EA4\" : {\"color\" : \"\",\"id\" : \"F6FFD0DC6D901452F0C4BDBFB98CC8EA4\",\"invisible\" : false,\"length\" : 0,\"source\" : \"F6712D58088354743248E80CD0871AE9A\",\"target\" : \"FB64AF9C0DF8844D5549A677F3E73A8E0\",\"weight\" : 0},\"F73BA8F0160C048B6EC43BD311F163595\" : {\"color\" : \"\",\"id\" : \"F73BA8F0160C048B6EC43BD311F163595\",\"invisible\" : false,\"length\" : 0,\"source\" : \"FE29E81CAF5734142D4115FBBCB27CD5C\",\"target\" : \"F395B367C2F9243410CB0A7E8BCCF58D6\",\"weight\" : 0},\"F7CE460F59FF34ABCCC0A2DA6C499EBE1\" : {\"color\" : \"\",\"id\" : \"F7CE460F59FF34ABCCC0A2DA6C499EBE1\",\"invisible\" : false,\"length\" : 0,\"source\" : \"F6712D58088354743248E80CD0871AE9A\",\"target\" : \"F330476CCC97F40C484795D0F126D75CE\",\"weight\" : 0},\"F8987EB361DA64586C40E112150E13098\" : {\"color\" : \"\",\"id\" : \"F8987EB361DA64586C40E112150E13098\",\"invisible\" : false,\"length\" : 0,\"source\" : \"FC31B35D78FF84F2B8C6FAADDC0DB0052\",\"target\" : \"F16B6D4BBBDE549606C32412BD5FCAAC8\",\"weight\" : 0},\"F8A99C016EFFC4981F42448D9DBB9D09C\" : {\"color\" : \"\",\"id\" : \"F8A99C016EFFC4981F42448D9DBB9D09C\",\"invisible\" : false,\"length\" : 0,\"source\" : \"F395B367C2F9243410CB0A7E8BCCF58D6\",\"target\" : \"FF220FEE8575C43BDFC303D047B8FC287\",\"weight\" : 0},\"F936E20B004D54A3D0C08E853E35C38A4\" : {\"color\" : \"\",\"id\" : \"F936E20B004D54A3D0C08E853E35C38A4\",\"invisible\" : false,\"length\" : 0,\"source\" : \"FB64AF9C0DF8844D5549A677F3E73A8E0\",\"target\" : \"F0CEC88E53D9F4AD9243579FC2E221BF2\",\"weight\" : 0},\"F9D274B33209A43CDD496AC84A6DDABFB\" : {\"color\" : \"\",\"id\" : \"F9D274B33209A43CDD496AC84A6DDABFB\",\"invisible\" : false,\"length\" : 0,\"source\" : \"FE06BCD46747840705407AA26AB9BA35A\",\"target\" : \"FCF8B9FDB01264AD5446BBEFB8133E0D1\",\"weight\" : 0},\"FA927E80CEE7A424B2422AFBA0F2555D8\" : {\"color\" : \"\",\"id\" : \"FA927E80CEE7A424B2422AFBA0F2555D8\",\"invisible\" : false,\"length\" : 0,\"source\" : \"FDF3C3C926F384025CC730F076C1FBC14\",\"target\" : \"F12B892EB1F6944BD1CB9AEEA3E2DC31B\",\"weight\" : 0},\"FB044BBE020E04383F4C5C95C677AC07D\" : {\"color\" : \"\",\"id\" : \"FB044BBE020E04383F4C5C95C677AC07D\",\"invisible\" : false,\"length\" : 0,\"source\" : \"F4358CADED853411B94A33DAB4A036C8D\",\"target\" : \"FDF3C3C926F384025CC730F076C1FBC14\",\"weight\" : 0},\"FB2EF5C7DE1814CEC9CE0BD93A05AE5A9\" : {\"color\" : \"\",\"id\" : \"FB2EF5C7DE1814CEC9CE0BD93A05AE5A9\",\"invisible\" : false,\"length\" : 0,\"source\" : \"F858A0120C4444F10ECA4C280DCA35730\",\"target\" : \"F330476CCC97F40C484795D0F126D75CE\",\"weight\" : 0},\"FB4034B434D55478FDCB0F67DDDF27F68\" : {\"color\" : \"\",\"id\" : \"FB4034B434D55478FDCB0F67DDDF27F68\",\"invisible\" : false,\"length\" : 0,\"source\" : \"FDF3C3C926F384025CC730F076C1FBC14\",\"target\" : \"F0534FB53BDD644774C20549B32BA5956\",\"weight\" : 0},\"FB44F8E272E49437FD43BFC7AC2524DF4\" : {\"color\" : \"\",\"id\" : \"FB44F8E272E49437FD43BFC7AC2524DF4\",\"invisible\" : false,\"length\" : 0,\"source\" : \"F0B1E608E0B7844971C520DBC7A9E74A1\",\"target\" : \"F4358CADED853411B94A33DAB4A036C8D\",\"weight\" : 0},\"FB479E00AD857461C3492CD2E9AC17C3B\" : {\"color\" : \"\",\"id\" : \"FB479E00AD857461C3492CD2E9AC17C3B\",\"invisible\" : false,\"length\" : 0,\"source\" : \"F0CEC88E53D9F4AD9243579FC2E221BF2\",\"target\" : \"FE06BCD46747840705407AA26AB9BA35A\",\"weight\" : 0},\"FB4A5CE0FD8C84773440706490F3EEAA6\" : {\"color\" : \"\",\"id\" : \"FB4A5CE0FD8C84773440706490F3EEAA6\",\"invisible\" : false,\"length\" : 0,\"source\" : \"F26572242DF2F43D9AC72DA4D57B7AA81\",\"target\" : \"F6712D58088354743248E80CD0871AE9A\",\"weight\" : 0},\"FB6420EDE3EBF43D84C022594ED685445\" : {\"color\" : \"\",\"id\" : \"FB6420EDE3EBF43D84C022594ED685445\",\"invisible\" : false,\"length\" : 0,\"source\" : \"F26572242DF2F43D9AC72DA4D57B7AA81\",\"target\" : \"FE29E81CAF5734142D4115FBBCB27CD5C\",\"weight\" : 0},\"FC3BF146966EC4D04DCF185F67B457960\" : {\"color\" : \"\",\"id\" : \"FC3BF146966EC4D04DCF185F67B457960\",\"invisible\" : false,\"length\" : 0,\"source\" : \"F858A0120C4444F10ECA4C280DCA35730\",\"target\" : \"F137DB56349C44C86349415D8DBC577B4\",\"weight\" : 0},\"FC9F8E4D6C2AC4E1BCC02AF98B1B13AF8\" : {\"color\" : \"\",\"id\" : \"FC9F8E4D6C2AC4E1BCC02AF98B1B13AF8\",\"invisible\" : false,\"length\" : 0,\"source\" : \"F6712D58088354743248E80CD0871AE9A\",\"target\" : \"FDF3C3C926F384025CC730F076C1FBC14\",\"weight\" : 0},\"FCB30C5C48EDD45D744A771BD4CA25AD1\" : {\"color\" : \"\",\"id\" : \"FCB30C5C48EDD45D744A771BD4CA25AD1\",\"invisible\" : false,\"length\" : 0,\"source\" : \"F137DB56349C44C86349415D8DBC577B4\",\"target\" : \"F0CEC88E53D9F4AD9243579FC2E221BF2\",\"weight\" : 0},\"FCDAA11DED07240C1F4429FBD27CD81D3\" : {\"color\" : \"\",\"id\" : \"FCDAA11DED07240C1F4429FBD27CD81D3\",\"invisible\" : false,\"length\" : 0,\"source\" : \"F4358CADED853411B94A33DAB4A036C8D\",\"target\" : \"FB64AF9C0DF8844D5549A677F3E73A8E0\",\"weight\" : 0},\"FD3D02DA23FB04835D4982E75DD752FAB\" : {\"color\" : \"\",\"id\" : \"FD3D02DA23FB04835D4982E75DD752FAB\",\"invisible\" : false,\"length\" : 0,\"source\" : \"F0CEC88E53D9F4AD9243579FC2E221BF2\",\"target\" : \"F16B6D4BBBDE549606C32412BD5FCAAC8\",\"weight\" : 0},\"FE8CE86EAA1EB4A063481C01F4687D755\" : {\"color\" : \"\",\"id\" : \"FE8CE86EAA1EB4A063481C01F4687D755\",\"invisible\" : false,\"length\" : 0,\"source\" : \"FC31B35D78FF84F2B8C6FAADDC0DB0052\",\"target\" : \"F395B367C2F9243410CB0A7E8BCCF58D6\",\"weight\" : 0},\"FEA332E0097E749D3243339D7D5184871\" : {\"color\" : \"\",\"id\" : \"FEA332E0097E749D3243339D7D5184871\",\"invisible\" : false,\"length\" : 0,\"source\" : \"F330476CCC97F40C484795D0F126D75CE\",\"target\" : \"FC31B35D78FF84F2B8C6FAADDC0DB0052\",\"weight\" : 0},\"FEAA418A30A99453F84DD6D8EDCA03B7D\" : {\"color\" : \"\",\"id\" : \"FEAA418A30A99453F84DD6D8EDCA03B7D\",\"invisible\" : false,\"length\" : 0,\"source\" : \"F137DB56349C44C86349415D8DBC577B4\",\"target\" : \"FC31B35D78FF84F2B8C6FAADDC0DB0052\",\"weight\" : 0},\"FF151E849EF1240EC1C406B98F589C16A\" : {\"color\" : \"\",\"id\" : \"FF151E849EF1240EC1C406B98F589C16A\",\"invisible\" : false,\"length\" : 0,\"source\" : \"F12B892EB1F6944BD1CB9AEEA3E2DC31B\",\"target\" : \"FFE870E8FBCFD498C64744438F77AB719\",\"weight\" : 0},\"FFF716FCA2C214DC1DC6C7127F700805A\" : {\"color\" : \"\",\"id\" : \"FFF716FCA2C214DC1DC6C7127F700805A\",\"invisible\" : false,\"length\" : 0,\"source\" : \"F26572242DF2F43D9AC72DA4D57B7AA81\",\"target\" : \"F4358CADED853411B94A33DAB4A036C8D\",\"weight\" : 0}},\"nodes\" : {\"F0534FB53BDD644774C20549B32BA5956\" : {\"callbacks\" : {\"FA79F838DC78B4AEBF4D14426FF5AF0F4\" : {\"func\" : \"unknown\",\"id\" : \"FA79F838DC78B4AEBF4D14426FF5AF0F4\",\"knownArgs\" : [\"18\"],\"requiredArgs\" : {},\"trigger\" : \"click\"}},\"color\" : \"\",\"id\" : \"F0534FB53BDD644774C20549B32BA5956\",\"layer\" : -5,\"menus\" : {},\"messages\" : {},\"parent\" : \"\",\"size\" : 10,\"title\" : \"18\",\"type\" : \"circle\",\"x\" : 0,\"y\" : 0},\"F0B1E608E0B7844971C520DBC7A9E74A1\" : {\"callbacks\" : {\"F4D178A036EF742C2BC6C055D9B907FB9\" : {\"func\" : \"unknown\",\"id\" : \"F4D178A036EF742C2BC6C055D9B907FB9\",\"knownArgs\" : [\"3\"],\"requiredArgs\" : {},\"trigger\" : \"click\"}},\"color\" : \"\",\"id\" : \"F0B1E608E0B7844971C520DBC7A9E74A1\",\"layer\" : 0,\"menus\" : {},\"messages\" : {},\"parent\" : \"\",\"size\" : 10,\"title\" : \"3\",\"type\" : \"circle\",\"x\" : 0,\"y\" : 0},\"F0CEC88E53D9F4AD9243579FC2E221BF2\" : {\"callbacks\" : {\"F5CDD6C14340F4CE52CB819785F23B0BB\" : {\"func\" : \"unknown\",\"id\" : \"F5CDD6C14340F4CE52CB819785F23B0BB\",\"knownArgs\" : [\"12\"],\"requiredArgs\" : {},\"trigger\" : \"click\"}},\"color\" : \"\",\"id\" : \"F0CEC88E53D9F4AD9243579FC2E221BF2\",\"layer\" : -3,\"menus\" : {},\"messages\" : {},\"parent\" : \"\",\"size\" : 10,\"title\" : \"12\",\"type\" : \"circle\",\"x\" : 0,\"y\" : 0},\"F12B892EB1F6944BD1CB9AEEA3E2DC31B\" : {\"callbacks\" : {\"FA04511C0F9864CD49421236EAD4681D7\" : {\"func\" : \"unknown\",\"id\" : \"FA04511C0F9864CD49421236EAD4681D7\",\"knownArgs\" : [\"14\"],\"requiredArgs\" : {},\"trigger\" : \"click\"}},\"color\" : \"\",\"id\" : \"F12B892EB1F6944BD1CB9AEEA3E2DC31B\",\"layer\" : -4,\"menus\" : {},\"messages\" : {},\"parent\" : \"\",\"size\" : 10,\"title\" : \"14\",\"type\" : \"circle\",\"x\" : 0,\"y\" : 0},\"F137DB56349C44C86349415D8DBC577B4\" : {\"callbacks\" : {\"F972A7D3A2BD2428E84513487EA9965A8\" : {\"func\" : \"unknown\",\"id\" : \"F972A7D3A2BD2428E84513487EA9965A8\",\"knownArgs\" : [\"5\"],\"requiredArgs\" : {},\"trigger\" : \"click\"}},\"color\" : \"\",\"id\" : \"F137DB56349C44C86349415D8DBC577B4\",\"layer\" : -1,\"menus\" : {},\"messages\" : {},\"parent\" : \"\",\"size\" : 10,\"title\" : \"5\",\"type\" : \"circle\",\"x\" : 0,\"y\" : 0},\"F16B6D4BBBDE549606C32412BD5FCAAC8\" : {\"callbacks\" : {\"F6BF6D40B218C4097549934EF617AE244\" : {\"func\" : \"unknown\",\"id\" : \"F6BF6D40B218C4097549934EF617AE244\",\"knownArgs\" : [\"17\"],\"requiredArgs\" : {},\"trigger\" : \"click\"}},\"color\" : \"\",\"id\" : \"F16B6D4BBBDE549606C32412BD5FCAAC8\",\"layer\" : -5,\"menus\" : {},\"messages\" : {},\"parent\" : \"\",\"size\" : 10,\"title\" : \"17\",\"type\" : \"circle\",\"x\" : 0,\"y\" : 0},\"F26572242DF2F43D9AC72DA4D57B7AA81\" : {\"callbacks\" : {\"F1B09C45784694781CC3D3E68AF1F5CFF\" : {\"func\" : \"unknown\",\"id\" : \"F1B09C45784694781CC3D3E68AF1F5CFF\",\"knownArgs\" : [\"1\"],\"requiredArgs\" : {},\"trigger\" : \"click\"}},\"color\" : \"\",\"id\" : \"F26572242DF2F43D9AC72DA4D57B7AA81\",\"layer\" : 0,\"menus\" : {},\"messages\" : {},\"parent\" : \"\",\"size\" : 10,\"title\" : \"1\",\"type\" : \"circle\",\"x\" : 0,\"y\" : 0},\"F330476CCC97F40C484795D0F126D75CE\" : {\"callbacks\" : {\"FCD8CD831DB1B4C93CC1771842D80FD45\" : {\"func\" : \"unknown\",\"id\" : \"FCD8CD831DB1B4C93CC1771842D80FD45\",\"knownArgs\" : [\"7\"],\"requiredArgs\" : {},\"trigger\" : \"click\"}},\"color\" : \"\",\"id\" : \"F330476CCC97F40C484795D0F126D75CE\",\"layer\" : -2,\"menus\" : {},\"messages\" : {},\"parent\" : \"\",\"size\" : 10,\"title\" : \"7\",\"type\" : \"circle\",\"x\" : 0,\"y\" : 0},\"F395B367C2F9243410CB0A7E8BCCF58D6\" : {\"callbacks\" : {\"FF2206DA17A2A442A9C27B0E5619816C4\" : {\"func\" : \"unknown\",\"id\" : \"FF2206DA17A2A442A9C27B0E5619816C4\",\"knownArgs\" : [\"13\"],\"requiredArgs\" : {},\"trigger\" : \"click\"}},\"color\" : \"\",\"id\" : \"F395B367C2F9243410CB0A7E8BCCF58D6\",\"layer\" : -4,\"menus\" : {},\"messages\" : {},\"parent\" : \"\",\"size\" : 10,\"title\" : \"13\",\"type\" : \"circle\",\"x\" : 0,\"y\" : 0},\"F4358CADED853411B94A33DAB4A036C8D\" : {\"callbacks\" : {\"F8B6637E1BB054FCE7CD574E607BE624A\" : {\"func\" : \"unknown\",\"id\" : \"F8B6637E1BB054FCE7CD574E607BE624A\",\"knownArgs\" : [\"6\"],\"requiredArgs\" : {},\"trigger\" : \"click\"}},\"color\" : \"\",\"id\" : \"F4358CADED853411B94A33DAB4A036C8D\",\"layer\" : -1,\"menus\" : {},\"messages\" : {},\"parent\" : \"\",\"size\" : 10,\"title\" : \"6\",\"type\" : \"circle\",\"x\" : 0,\"y\" : 0},\"F6712D58088354743248E80CD0871AE9A\" : {\"callbacks\" : {\"FAE9D1BE0EA16438874B27FE539D34269\" : {\"func\" : \"unknown\",\"id\" : \"FAE9D1BE0EA16438874B27FE539D34269\",\"knownArgs\" : [\"4\"],\"requiredArgs\" : {},\"trigger\" : \"click\"}},\"color\" : \"\",\"id\" : \"F6712D58088354743248E80CD0871AE9A\",\"layer\" : -1,\"menus\" : {},\"messages\" : {},\"parent\" : \"\",\"size\" : 10,\"title\" : \"4\",\"type\" : \"circle\",\"x\" : 0,\"y\" : 0},\"F858A0120C4444F10ECA4C280DCA35730\" : {\"callbacks\" : {\"FD24388E504254B3ECC899D9748C5DE87\" : {\"func\" : \"unknown\",\"id\" : \"FD24388E504254B3ECC899D9748C5DE87\",\"knownArgs\" : [\"2\"],\"requiredArgs\" : {},\"trigger\" : \"click\"}},\"color\" : \"\",\"id\" : \"F858A0120C4444F10ECA4C280DCA35730\",\"layer\" : 0,\"menus\" : {},\"messages\" : {},\"parent\" : \"\",\"size\" : 10,\"title\" : \"2\",\"type\" : \"circle\",\"x\" : 0,\"y\" : 0},\"FB64AF9C0DF8844D5549A677F3E73A8E0\" : {\"callbacks\" : {\"FF8A6855F5AC54313B45FE0312895B7F2\" : {\"func\" : \"unknown\",\"id\" : \"FF8A6855F5AC54313B45FE0312895B7F2\",\"knownArgs\" : [\"9\"],\"requiredArgs\" : {},\"trigger\" : \"click\"}},\"color\" : \"\",\"id\" : \"FB64AF9C0DF8844D5549A677F3E73A8E0\",\"layer\" : -2,\"menus\" : {},\"messages\" : {},\"parent\" : \"\",\"size\" : 10,\"title\" : \"9\",\"type\" : \"circle\",\"x\" : 0,\"y\" : 0},\"FC31B35D78FF84F2B8C6FAADDC0DB0052\" : {\"callbacks\" : {\"F7634F3CE41084B803C4699F24E14D4A0\" : {\"func\" : \"unknown\",\"id\" : \"F7634F3CE41084B803C4699F24E14D4A0\",\"knownArgs\" : [\"10\"],\"requiredArgs\" : {},\"trigger\" : \"click\"}},\"color\" : \"\",\"id\" : \"FC31B35D78FF84F2B8C6FAADDC0DB0052\",\"layer\" : -3,\"menus\" : {},\"messages\" : {},\"parent\" : \"\",\"size\" : 10,\"title\" : \"10\",\"type\" : \"circle\",\"x\" : 0,\"y\" : 0},\"FCF8B9FDB01264AD5446BBEFB8133E0D1\" : {\"callbacks\" : {\"F24860B81D2DE491BE4F5F9B4D4A07C7F\" : {\"func\" : \"unknown\",\"id\" : \"F24860B81D2DE491BE4F5F9B4D4A07C7F\",\"knownArgs\" : [\"20\"],\"requiredArgs\" : {},\"trigger\" : \"click\"}},\"color\" : \"\",\"id\" : \"FCF8B9FDB01264AD5446BBEFB8133E0D1\",\"layer\" : -6,\"menus\" : {},\"messages\" : {},\"parent\" : \"\",\"size\" : 10,\"title\" : \"20\",\"type\" : \"circle\",\"x\" : 0,\"y\" : 0},\"FDF3C3C926F384025CC730F076C1FBC14\" : {\"callbacks\" : {\"F14734F04A2EC4D0174E3D02B7040ABE0\" : {\"func\" : \"unknown\",\"id\" : \"F14734F04A2EC4D0174E3D02B7040ABE0\",\"knownArgs\" : [\"11\"],\"requiredArgs\" : {},\"trigger\" : \"click\"}},\"color\" : \"\",\"id\" : \"FDF3C3C926F384025CC730F076C1FBC14\",\"layer\" : -3,\"menus\" : {},\"messages\" : {},\"parent\" : \"\",\"size\" : 10,\"title\" : \"11\",\"type\" : \"circle\",\"x\" : 0,\"y\" : 0},\"FE06BCD46747840705407AA26AB9BA35A\" : {\"callbacks\" : {\"FE051511DCE3D4A3A34FDD9BF5CDAD1E4\" : {\"func\" : \"unknown\",\"id\" : \"FE051511DCE3D4A3A34FDD9BF5CDAD1E4\",\"knownArgs\" : [\"15\"],\"requiredArgs\" : {},\"trigger\" : \"click\"}},\"color\" : \"\",\"id\" : \"FE06BCD46747840705407AA26AB9BA35A\",\"layer\" : -4,\"menus\" : {},\"messages\" : {},\"parent\" : \"\",\"size\" : 10,\"title\" : \"15\",\"type\" : \"circle\",\"x\" : 0,\"y\" : 0},\"FE29E81CAF5734142D4115FBBCB27CD5C\" : {\"callbacks\" : {\"FC17233E967514F6CE4F0F353D6A14C85\" : {\"func\" : \"unknown\",\"id\" : \"FC17233E967514F6CE4F0F353D6A14C85\",\"knownArgs\" : [\"8\"],\"requiredArgs\" : {},\"trigger\" : \"click\"}},\"color\" : \"\",\"id\" : \"FE29E81CAF5734142D4115FBBCB27CD5C\",\"layer\" : -2,\"menus\" : {},\"messages\" : {},\"parent\" : \"\",\"size\" : 10,\"title\" : \"8\",\"type\" : \"circle\",\"x\" : 0,\"y\" : 0},\"FF220FEE8575C43BDFC303D047B8FC287\" : {\"callbacks\" : {\"F4B6224E6E985455E6C182BA6BE9E14F8\" : {\"func\" : \"unknown\",\"id\" : \"F4B6224E6E985455E6C182BA6BE9E14F8\",\"knownArgs\" : [\"16\"],\"requiredArgs\" : {},\"trigger\" : \"click\"}},\"color\" : \"\",\"id\" : \"FF220FEE8575C43BDFC303D047B8FC287\",\"layer\" : -5,\"menus\" : {},\"messages\" : {},\"parent\" : \"\",\"size\" : 10,\"title\" : \"16\",\"type\" : \"circle\",\"x\" : 0,\"y\" : 0},\"FFE870E8FBCFD498C64744438F77AB719\" : {\"callbacks\" : {\"FC7D8DD2542844CD584F39D6A21CEE2C7\" : {\"func\" : \"unknown\",\"id\" : \"FC7D8DD2542844CD584F39D6A21CEE2C7\",\"knownArgs\" : [\"19\"],\"requiredArgs\" : {},\"trigger\" : \"click\"}},\"color\" : \"\",\"id\" : \"FFE870E8FBCFD498C64744438F77AB719\",\"layer\" : -6,\"menus\" : {},\"messages\" : {},\"parent\" : \"\",\"size\" : 10,\"title\" : \"19\",\"type\" : \"circle\",\"x\" : 0,\"y\" : 0}},\"simulation\" : true,\"type\" : \"directed\"},\"height\" : 600,\"id\" : \"F24D256E999DD4F10B4AA77CB43F8C970\",\"menus\" : {},\"messages\" : {},\"texTypesetting\" : false,\"title\" : \"Hasse diagram of numerical semigroup\",\"width\" : 800,\"zoomToFit\" : true},\"mime\" : \"application\\/vnd.francy+json\",\"version\" : \"2.0.0\"}"
     },
     "execution_count": 7,
     "metadata": {
      "application/vnd.francy+json": {}
     },
     "output_type": "execute_result"
    }
   ],
   "source": [
    "DrawHasseDiagramOfNumericalSemigroup(s,[1..20]);"
   ]
  },
  {
   "cell_type": "markdown",
   "metadata": {},
   "source": [
    "Of special interest is the Hasse diagram of an Apéry set or of the Betti elements."
   ]
  },
  {
   "cell_type": "code",
   "execution_count": 9,
   "metadata": {},
   "outputs": [
    {
     "data": {
      "text/plain": [
       "<Numerical semigroup with 4 generators>"
      ]
     },
     "execution_count": 8,
     "metadata": {
      "text/plain": ""
     },
     "output_type": "execute_result"
    },
    {
     "data": {
      "application/vnd.francy+json": "{\"canvas\" : {\"graph\" : {\"collapsed\" : true,\"id\" : \"FA4DEA8F633A6450E94691B5A644BBAB8\",\"links\" : {\"F092BF8CFE6824312D46B18D5283C070D\" : {\"color\" : \"\",\"id\" : \"F092BF8CFE6824312D46B18D5283C070D\",\"invisible\" : false,\"length\" : 0,\"source\" : \"FB9BE3EF1E8D64F674C931CF738FD9F96\",\"target\" : \"F98293EC29FB54AD84C22F9063B8C0533\",\"weight\" : 0},\"F156883B221B04A6084C09DF2261B0F7B\" : {\"color\" : \"\",\"id\" : \"F156883B221B04A6084C09DF2261B0F7B\",\"invisible\" : false,\"length\" : 0,\"source\" : \"FB9BE3EF1E8D64F674C931CF738FD9F96\",\"target\" : \"FD10B11D52F2C40C5540A152191D7F32D\",\"weight\" : 0},\"F249DB592AF524B84AC6F4C46812B710E\" : {\"color\" : \"\",\"id\" : \"F249DB592AF524B84AC6F4C46812B710E\",\"invisible\" : false,\"length\" : 0,\"source\" : \"FB9BE3EF1E8D64F674C931CF738FD9F96\",\"target\" : \"F8711BDBBA2A64A6534C462C55F3154AC\",\"weight\" : 0},\"F26D7C394901D4A243C96D3A27A0D9E50\" : {\"color\" : \"\",\"id\" : \"F26D7C394901D4A243C96D3A27A0D9E50\",\"invisible\" : false,\"length\" : 0,\"source\" : \"F8711BDBBA2A64A6534C462C55F3154AC\",\"target\" : \"FCA5F0FB4D74A4D976414C18490B400CF\",\"weight\" : 0},\"F2E1A3496EC9C4E631C8627312B982900\" : {\"color\" : \"\",\"id\" : \"F2E1A3496EC9C4E631C8627312B982900\",\"invisible\" : false,\"length\" : 0,\"source\" : \"F98293EC29FB54AD84C22F9063B8C0533\",\"target\" : \"F5627D2FD82124EB47460035A3D50A74A\",\"weight\" : 0},\"F433D8A4FD6F044B07CC2C74F3C275EC7\" : {\"color\" : \"\",\"id\" : \"F433D8A4FD6F044B07CC2C74F3C275EC7\",\"invisible\" : false,\"length\" : 0,\"source\" : \"F98293EC29FB54AD84C22F9063B8C0533\",\"target\" : \"F647F88C6DF11424D54B34F6A2E097A0F\",\"weight\" : 0},\"F4F0CFFE8ECB5433DDC5560333AB4F53F\" : {\"color\" : \"\",\"id\" : \"F4F0CFFE8ECB5433DDC5560333AB4F53F\",\"invisible\" : false,\"length\" : 0,\"source\" : \"FCEA3C6EE6E944BF42CFBFB2D0D5B78C3\",\"target\" : \"F680499AAFD7B4D3CF4F8D277F9F435FE\",\"weight\" : 0},\"F70320DD9A523491D9CA455CD68E56446\" : {\"color\" : \"\",\"id\" : \"F70320DD9A523491D9CA455CD68E56446\",\"invisible\" : false,\"length\" : 0,\"source\" : \"FD10B11D52F2C40C5540A152191D7F32D\",\"target\" : \"F647F88C6DF11424D54B34F6A2E097A0F\",\"weight\" : 0},\"F7B6536AF98C1453E14E1E4751312BA5F\" : {\"color\" : \"\",\"id\" : \"F7B6536AF98C1453E14E1E4751312BA5F\",\"invisible\" : false,\"length\" : 0,\"source\" : \"F5627D2FD82124EB47460035A3D50A74A\",\"target\" : \"F680499AAFD7B4D3CF4F8D277F9F435FE\",\"weight\" : 0},\"F7FEF6E3A4BF640AADC2BCE7615F0C215\" : {\"color\" : \"\",\"id\" : \"F7FEF6E3A4BF640AADC2BCE7615F0C215\",\"invisible\" : false,\"length\" : 0,\"source\" : \"F08E51F92BCD04C7B2CF2E880A6BBD53A\",\"target\" : \"F5627D2FD82124EB47460035A3D50A74A\",\"weight\" : 0},\"F8401EC6AD970422D9C2BB473F9B3BA1B\" : {\"color\" : \"\",\"id\" : \"F8401EC6AD970422D9C2BB473F9B3BA1B\",\"invisible\" : false,\"length\" : 0,\"source\" : \"F647F88C6DF11424D54B34F6A2E097A0F\",\"target\" : \"F680499AAFD7B4D3CF4F8D277F9F435FE\",\"weight\" : 0},\"F85FA145E6A4B4EDDF43A535EC30AA26D\" : {\"color\" : \"\",\"id\" : \"F85FA145E6A4B4EDDF43A535EC30AA26D\",\"invisible\" : false,\"length\" : 0,\"source\" : \"F98293EC29FB54AD84C22F9063B8C0533\",\"target\" : \"FCEA3C6EE6E944BF42CFBFB2D0D5B78C3\",\"weight\" : 0},\"F8CE604E7A9044A81F434B04E7E1C542B\" : {\"color\" : \"\",\"id\" : \"F8CE604E7A9044A81F434B04E7E1C542B\",\"invisible\" : false,\"length\" : 0,\"source\" : \"F98293EC29FB54AD84C22F9063B8C0533\",\"target\" : \"FCA5F0FB4D74A4D976414C18490B400CF\",\"weight\" : 0},\"F8FA8529529F64F919C99C43F99FE3434\" : {\"color\" : \"\",\"id\" : \"F8FA8529529F64F919C99C43F99FE3434\",\"invisible\" : false,\"length\" : 0,\"source\" : \"FD10B11D52F2C40C5540A152191D7F32D\",\"target\" : \"FCEA3C6EE6E944BF42CFBFB2D0D5B78C3\",\"weight\" : 0},\"FA0509657BF8046272416B73979C67B1D\" : {\"color\" : \"\",\"id\" : \"FA0509657BF8046272416B73979C67B1D\",\"invisible\" : false,\"length\" : 0,\"source\" : \"FB9BE3EF1E8D64F674C931CF738FD9F96\",\"target\" : \"F08E51F92BCD04C7B2CF2E880A6BBD53A\",\"weight\" : 0},\"FA4BC1F0013494DD69C1F36E220BBC114\" : {\"color\" : \"\",\"id\" : \"FA4BC1F0013494DD69C1F36E220BBC114\",\"invisible\" : false,\"length\" : 0,\"source\" : \"FCA5F0FB4D74A4D976414C18490B400CF\",\"target\" : \"F680499AAFD7B4D3CF4F8D277F9F435FE\",\"weight\" : 0},\"FAD51BB353C9B4081A4F63CAE5523108D\" : {\"color\" : \"\",\"id\" : \"FAD51BB353C9B4081A4F63CAE5523108D\",\"invisible\" : false,\"length\" : 0,\"source\" : \"F8711BDBBA2A64A6534C462C55F3154AC\",\"target\" : \"FCEA3C6EE6E944BF42CFBFB2D0D5B78C3\",\"weight\" : 0},\"FB08E8CB8A4224EC52428D6D7E487552B\" : {\"color\" : \"\",\"id\" : \"FB08E8CB8A4224EC52428D6D7E487552B\",\"invisible\" : false,\"length\" : 0,\"source\" : \"F8711BDBBA2A64A6534C462C55F3154AC\",\"target\" : \"F647F88C6DF11424D54B34F6A2E097A0F\",\"weight\" : 0},\"FCF2B8E13B6134293640008C52AB94F6A\" : {\"color\" : \"\",\"id\" : \"FCF2B8E13B6134293640008C52AB94F6A\",\"invisible\" : false,\"length\" : 0,\"source\" : \"F08E51F92BCD04C7B2CF2E880A6BBD53A\",\"target\" : \"FCA5F0FB4D74A4D976414C18490B400CF\",\"weight\" : 0},\"FE6711A37ACF8440AFC430BF113A62DE0\" : {\"color\" : \"\",\"id\" : \"FE6711A37ACF8440AFC430BF113A62DE0\",\"invisible\" : false,\"length\" : 0,\"source\" : \"F08E51F92BCD04C7B2CF2E880A6BBD53A\",\"target\" : \"FCEA3C6EE6E944BF42CFBFB2D0D5B78C3\",\"weight\" : 0}},\"nodes\" : {\"F08E51F92BCD04C7B2CF2E880A6BBD53A\" : {\"callbacks\" : {\"FC6F50468BB554826CCBAA39771237E2F\" : {\"func\" : \"unknown\",\"id\" : \"FC6F50468BB554826CCBAA39771237E2F\",\"knownArgs\" : [\"5\"],\"requiredArgs\" : {},\"trigger\" : \"click\"}},\"color\" : \"\",\"id\" : \"F08E51F92BCD04C7B2CF2E880A6BBD53A\",\"layer\" : -1,\"menus\" : {},\"messages\" : {},\"parent\" : \"\",\"size\" : 10,\"title\" : \"5\",\"type\" : \"circle\",\"x\" : 0,\"y\" : 0},\"F5627D2FD82124EB47460035A3D50A74A\" : {\"callbacks\" : {\"F4FAF4A4604454510DC6986ED4D05ABC6\" : {\"func\" : \"unknown\",\"id\" : \"F4FAF4A4604454510DC6986ED4D05ABC6\",\"knownArgs\" : [\"12\"],\"requiredArgs\" : {},\"trigger\" : \"click\"}},\"color\" : \"\",\"id\" : \"F5627D2FD82124EB47460035A3D50A74A\",\"layer\" : -2,\"menus\" : {},\"messages\" : {},\"parent\" : \"\",\"size\" : 10,\"title\" : \"12\",\"type\" : \"circle\",\"x\" : 0,\"y\" : 0},\"F647F88C6DF11424D54B34F6A2E097A0F\" : {\"callbacks\" : {\"F5CA77BCDC35C4A266433C1F77E681E8D\" : {\"func\" : \"unknown\",\"id\" : \"F5CA77BCDC35C4A266433C1F77E681E8D\",\"knownArgs\" : [\"18\"],\"requiredArgs\" : {},\"trigger\" : \"click\"}},\"color\" : \"\",\"id\" : \"F647F88C6DF11424D54B34F6A2E097A0F\",\"layer\" : -2,\"menus\" : {},\"messages\" : {},\"parent\" : \"\",\"size\" : 10,\"title\" : \"18\",\"type\" : \"circle\",\"x\" : 0,\"y\" : 0},\"F680499AAFD7B4D3CF4F8D277F9F435FE\" : {\"callbacks\" : {\"F478BFB29EBF349E7EC5C1E922026A702\" : {\"func\" : \"unknown\",\"id\" : \"F478BFB29EBF349E7EC5C1E922026A702\",\"knownArgs\" : [\"23\"],\"requiredArgs\" : {},\"trigger\" : \"click\"}},\"color\" : \"\",\"id\" : \"F680499AAFD7B4D3CF4F8D277F9F435FE\",\"layer\" : -3,\"menus\" : {},\"messages\" : {},\"parent\" : \"\",\"size\" : 10,\"title\" : \"23\",\"type\" : \"circle\",\"x\" : 0,\"y\" : 0},\"F8711BDBBA2A64A6534C462C55F3154AC\" : {\"callbacks\" : {\"F50C7CE8D8D244FD22CC449CAB3AD0367\" : {\"func\" : \"unknown\",\"id\" : \"F50C7CE8D8D244FD22CC449CAB3AD0367\",\"knownArgs\" : [\"9\"],\"requiredArgs\" : {},\"trigger\" : \"click\"}},\"color\" : \"\",\"id\" : \"F8711BDBBA2A64A6534C462C55F3154AC\",\"layer\" : -1,\"menus\" : {},\"messages\" : {},\"parent\" : \"\",\"size\" : 10,\"title\" : \"9\",\"type\" : \"circle\",\"x\" : 0,\"y\" : 0},\"F98293EC29FB54AD84C22F9063B8C0533\" : {\"callbacks\" : {\"F14016DD34B6544FCC49D2056591EE05D\" : {\"func\" : \"unknown\",\"id\" : \"F14016DD34B6544FCC49D2056591EE05D\",\"knownArgs\" : [\"7\"],\"requiredArgs\" : {},\"trigger\" : \"click\"}},\"color\" : \"\",\"id\" : \"F98293EC29FB54AD84C22F9063B8C0533\",\"layer\" : -1,\"menus\" : {},\"messages\" : {},\"parent\" : \"\",\"size\" : 10,\"title\" : \"7\",\"type\" : \"circle\",\"x\" : 0,\"y\" : 0},\"FB9BE3EF1E8D64F674C931CF738FD9F96\" : {\"callbacks\" : {\"FE56D3640EBDB4A4C8C6140D8147B109B\" : {\"func\" : \"unknown\",\"id\" : \"FE56D3640EBDB4A4C8C6140D8147B109B\",\"knownArgs\" : [\"0\"],\"requiredArgs\" : {},\"trigger\" : \"click\"}},\"color\" : \"\",\"id\" : \"FB9BE3EF1E8D64F674C931CF738FD9F96\",\"layer\" : 0,\"menus\" : {},\"messages\" : {},\"parent\" : \"\",\"size\" : 10,\"title\" : \"0\",\"type\" : \"circle\",\"x\" : 0,\"y\" : 0},\"FCA5F0FB4D74A4D976414C18490B400CF\" : {\"callbacks\" : {\"F8CDA665D2B21412454EF5554411A76C4\" : {\"func\" : \"unknown\",\"id\" : \"F8CDA665D2B21412454EF5554411A76C4\",\"knownArgs\" : [\"14\"],\"requiredArgs\" : {},\"trigger\" : \"click\"}},\"color\" : \"\",\"id\" : \"FCA5F0FB4D74A4D976414C18490B400CF\",\"layer\" : -2,\"menus\" : {},\"messages\" : {},\"parent\" : \"\",\"size\" : 10,\"title\" : \"14\",\"type\" : \"circle\",\"x\" : 0,\"y\" : 0},\"FCEA3C6EE6E944BF42CFBFB2D0D5B78C3\" : {\"callbacks\" : {\"F6B205968AEF8413704F091398B0BF144\" : {\"func\" : \"unknown\",\"id\" : \"F6B205968AEF8413704F091398B0BF144\",\"knownArgs\" : [\"16\"],\"requiredArgs\" : {},\"trigger\" : \"click\"}},\"color\" : \"\",\"id\" : \"FCEA3C6EE6E944BF42CFBFB2D0D5B78C3\",\"layer\" : -2,\"menus\" : {},\"messages\" : {},\"parent\" : \"\",\"size\" : 10,\"title\" : \"16\",\"type\" : \"circle\",\"x\" : 0,\"y\" : 0},\"FD10B11D52F2C40C5540A152191D7F32D\" : {\"callbacks\" : {\"FFD0D1F5EC6A9444CDC6B143E7E342BF3\" : {\"func\" : \"unknown\",\"id\" : \"FFD0D1F5EC6A9444CDC6B143E7E342BF3\",\"knownArgs\" : [\"11\"],\"requiredArgs\" : {},\"trigger\" : \"click\"}},\"color\" : \"\",\"id\" : \"FD10B11D52F2C40C5540A152191D7F32D\",\"layer\" : -1,\"menus\" : {},\"messages\" : {},\"parent\" : \"\",\"size\" : 10,\"title\" : \"11\",\"type\" : \"circle\",\"x\" : 0,\"y\" : 0}},\"simulation\" : true,\"type\" : \"directed\"},\"height\" : 600,\"id\" : \"F3EB974EF77F440E00437069CE9D32AB6\",\"menus\" : {},\"messages\" : {},\"texTypesetting\" : false,\"title\" : \"Hasse diagram of numerical semigroup\",\"width\" : 800,\"zoomToFit\" : true},\"mime\" : \"application\\/vnd.francy+json\",\"version\" : \"2.0.0\"}"
     },
     "execution_count": 9,
     "metadata": {
      "application/vnd.francy+json": {}
     },
     "output_type": "execute_result"
    }
   ],
   "source": [
    "s:=NumericalSemigroup(5,7,9,11);\n",
    "DrawHasseDiagramOfNumericalSemigroup(s,AperyList(s,10));"
   ]
  },
  {
   "cell_type": "markdown",
   "metadata": {},
   "source": [
    "## `DrawOverSemigroupsNumericalSemigroup(s)`\n",
    "\n",
    "Draws the Hasse diagram of oversemigroups of the numerical semigroup `s`."
   ]
  },
  {
   "cell_type": "code",
   "execution_count": 11,
   "metadata": {},
   "outputs": [
    {
     "data": {
      "text/plain": [
       "<Numerical semigroup with 4 generators>"
      ]
     },
     "execution_count": 10,
     "metadata": {
      "text/plain": ""
     },
     "output_type": "execute_result"
    },
    {
     "data": {
      "application/vnd.francy+json": "{\"canvas\" : {\"graph\" : {\"collapsed\" : true,\"id\" : \"F110EEE288C46455E8C12F219D25B06CE\",\"links\" : {\"F04F528BB391C43906CAF0B89B8555048\" : {\"color\" : \"\",\"id\" : \"F04F528BB391C43906CAF0B89B8555048\",\"invisible\" : false,\"length\" : 0,\"source\" : \"F4A2BA0AF7CC2464894BA54A7A1D65CAB\",\"target\" : \"F5F9BDF43EB104E56DC517038F1CFEE06\",\"weight\" : 0},\"F1BD6BA43AAE24670144789025A42D717\" : {\"color\" : \"\",\"id\" : \"F1BD6BA43AAE24670144789025A42D717\",\"invisible\" : false,\"length\" : 0,\"source\" : \"F0F07C3E7BDFA4B877CB27500E79954DE\",\"target\" : \"F5F9BDF43EB104E56DC517038F1CFEE06\",\"weight\" : 0},\"F2119C0FD41E648067C5973DCBFA92CA7\" : {\"color\" : \"\",\"id\" : \"F2119C0FD41E648067C5973DCBFA92CA7\",\"invisible\" : false,\"length\" : 0,\"source\" : \"F3E47FFF9271A4319D48F83F6FB58A54E\",\"target\" : \"FFC078C693EE940B5B4FD97153BB06EFF\",\"weight\" : 0},\"F2EA1F6E1DFCF4258E474E99521572819\" : {\"color\" : \"\",\"id\" : \"F2EA1F6E1DFCF4258E474E99521572819\",\"invisible\" : false,\"length\" : 0,\"source\" : \"F5F9BDF43EB104E56DC517038F1CFEE06\",\"target\" : \"F7E5A6BE17F8A4EF0CCFAC644DB6C975E\",\"weight\" : 0},\"F3438ACA09B654BC91CC075ECA98F07C6\" : {\"color\" : \"\",\"id\" : \"F3438ACA09B654BC91CC075ECA98F07C6\",\"invisible\" : false,\"length\" : 0,\"source\" : \"FA15B5B4382A84A1794C60856939A771D\",\"target\" : \"F2B93321C581A4FB7046137C8DFA125E3\",\"weight\" : 0},\"F4A1B5C652BAF4B32BC089373473CE181\" : {\"color\" : \"\",\"id\" : \"F4A1B5C652BAF4B32BC089373473CE181\",\"invisible\" : false,\"length\" : 0,\"source\" : \"FAA3E793EDC274ED9FC0B38F7E88A0F14\",\"target\" : \"F9C3891C90FDE4D107C9BE8627F8CE82C\",\"weight\" : 0},\"F4D2296B1CC5B43338C1C5DE460990CCD\" : {\"color\" : \"\",\"id\" : \"F4D2296B1CC5B43338C1C5DE460990CCD\",\"invisible\" : false,\"length\" : 0,\"source\" : \"F81B9D918765C4CCD44F4935D77D27AAF\",\"target\" : \"F3E47FFF9271A4319D48F83F6FB58A54E\",\"weight\" : 0},\"F5A6663F41641444114F0333FC170200B\" : {\"color\" : \"\",\"id\" : \"F5A6663F41641444114F0333FC170200B\",\"invisible\" : false,\"length\" : 0,\"source\" : \"FAA3E793EDC274ED9FC0B38F7E88A0F14\",\"target\" : \"FA15B5B4382A84A1794C60856939A771D\",\"weight\" : 0},\"F67830C090D44470134F7B5AA34200425\" : {\"color\" : \"\",\"id\" : \"F67830C090D44470134F7B5AA34200425\",\"invisible\" : false,\"length\" : 0,\"source\" : \"F51748C91491C48F054452C784CC1B07A\",\"target\" : \"F2B93321C581A4FB7046137C8DFA125E3\",\"weight\" : 0},\"F710819A64EBF4AE84CA23D8BDCC8B908\" : {\"color\" : \"\",\"id\" : \"F710819A64EBF4AE84CA23D8BDCC8B908\",\"invisible\" : false,\"length\" : 0,\"source\" : \"FB1EB98958CE64386F434F2716C2822B0\",\"target\" : \"F3E47FFF9271A4319D48F83F6FB58A54E\",\"weight\" : 0},\"F7DE664934CC54A8E949FCE0E96C8DA51\" : {\"color\" : \"\",\"id\" : \"F7DE664934CC54A8E949FCE0E96C8DA51\",\"invisible\" : false,\"length\" : 0,\"source\" : \"F9C3891C90FDE4D107C9BE8627F8CE82C\",\"target\" : \"FB1EB98958CE64386F434F2716C2822B0\",\"weight\" : 0},\"F7F1D7FB742114C06E4FC063B5496AB13\" : {\"color\" : \"\",\"id\" : \"F7F1D7FB742114C06E4FC063B5496AB13\",\"invisible\" : false,\"length\" : 0,\"source\" : \"F51748C91491C48F054452C784CC1B07A\",\"target\" : \"F81B9D918765C4CCD44F4935D77D27AAF\",\"weight\" : 0},\"F89C3F8B439744C016CF3E3A5ED468F9F\" : {\"color\" : \"\",\"id\" : \"F89C3F8B439744C016CF3E3A5ED468F9F\",\"invisible\" : false,\"length\" : 0,\"source\" : \"FC35704E57C074EA2ECC855F305559522\",\"target\" : \"F0F07C3E7BDFA4B877CB27500E79954DE\",\"weight\" : 0},\"F968914A62AA341D32C50803908242D65\" : {\"color\" : \"\",\"id\" : \"F968914A62AA341D32C50803908242D65\",\"invisible\" : false,\"length\" : 0,\"source\" : \"FA15B5B4382A84A1794C60856939A771D\",\"target\" : \"FB1EB98958CE64386F434F2716C2822B0\",\"weight\" : 0},\"F970F146A2C42444BE4124CC9AAFED79B\" : {\"color\" : \"\",\"id\" : \"F970F146A2C42444BE4124CC9AAFED79B\",\"invisible\" : false,\"length\" : 0,\"source\" : \"FFC078C693EE940B5B4FD97153BB06EFF\",\"target\" : \"F4A2BA0AF7CC2464894BA54A7A1D65CAB\",\"weight\" : 0},\"F9858C2BB2EE841CA3C8BDADBD16C58F7\" : {\"color\" : \"\",\"id\" : \"F9858C2BB2EE841CA3C8BDADBD16C58F7\",\"invisible\" : false,\"length\" : 0,\"source\" : \"F2B93321C581A4FB7046137C8DFA125E3\",\"target\" : \"F3E47FFF9271A4319D48F83F6FB58A54E\",\"weight\" : 0},\"F9C89E440A04A4F1D6C3803BEDACB0AD5\" : {\"color\" : \"\",\"id\" : \"F9C89E440A04A4F1D6C3803BEDACB0AD5\",\"invisible\" : false,\"length\" : 0,\"source\" : \"F09036891D814499EA414CFB2421DBA63\",\"target\" : \"FC35704E57C074EA2ECC855F305559522\",\"weight\" : 0},\"F9F16DE43341A43B004CE7FBB930AE126\" : {\"color\" : \"\",\"id\" : \"F9F16DE43341A43B004CE7FBB930AE126\",\"invisible\" : false,\"length\" : 0,\"source\" : \"FAA3E793EDC274ED9FC0B38F7E88A0F14\",\"target\" : \"F51748C91491C48F054452C784CC1B07A\",\"weight\" : 0},\"FAF2212299F554661AC8854318787964C\" : {\"color\" : \"\",\"id\" : \"FAF2212299F554661AC8854318787964C\",\"invisible\" : false,\"length\" : 0,\"source\" : \"F3E47FFF9271A4319D48F83F6FB58A54E\",\"target\" : \"FC35704E57C074EA2ECC855F305559522\",\"weight\" : 0},\"FD34BC7E60442431F34B80F3841551853\" : {\"color\" : \"\",\"id\" : \"FD34BC7E60442431F34B80F3841551853\",\"invisible\" : false,\"length\" : 0,\"source\" : \"FC35704E57C074EA2ECC855F305559522\",\"target\" : \"F4A2BA0AF7CC2464894BA54A7A1D65CAB\",\"weight\" : 0},\"FF6CF8986D0294BF9DC22F6064F9E016E\" : {\"color\" : \"\",\"id\" : \"FF6CF8986D0294BF9DC22F6064F9E016E\",\"invisible\" : false,\"length\" : 0,\"source\" : \"F9C3891C90FDE4D107C9BE8627F8CE82C\",\"target\" : \"F81B9D918765C4CCD44F4935D77D27AAF\",\"weight\" : 0},\"FFA5689F16CE74A06C49BE594FB20743F\" : {\"color\" : \"\",\"id\" : \"FFA5689F16CE74A06C49BE594FB20743F\",\"invisible\" : false,\"length\" : 0,\"source\" : \"F81B9D918765C4CCD44F4935D77D27AAF\",\"target\" : \"F09036891D814499EA414CFB2421DBA63\",\"weight\" : 0}},\"nodes\" : {\"F09036891D814499EA414CFB2421DBA63\" : {\"callbacks\" : {},\"color\" : \"\",\"id\" : \"F09036891D814499EA414CFB2421DBA63\",\"layer\" : 4,\"menus\" : {},\"messages\" : {},\"parent\" : \"\",\"size\" : 2,\"title\" : \"〈 4,5,7 〉\",\"type\" : \"diamond\",\"x\" : 0,\"y\" : 0},\"F0F07C3E7BDFA4B877CB27500E79954DE\" : {\"callbacks\" : {},\"color\" : \"\",\"id\" : \"F0F07C3E7BDFA4B877CB27500E79954DE\",\"layer\" : 2,\"menus\" : {},\"messages\" : {},\"parent\" : \"\",\"size\" : 2,\"title\" : \"〈 2,5 〉\",\"type\" : \"diamond\",\"x\" : 0,\"y\" : 0},\"F2B93321C581A4FB7046137C8DFA125E3\" : {\"callbacks\" : {},\"color\" : \"\",\"id\" : \"F2B93321C581A4FB7046137C8DFA125E3\",\"layer\" : 5,\"menus\" : {},\"messages\" : {},\"parent\" : \"\",\"size\" : 2,\"title\" : \"〈 5,6,7,8 〉\",\"type\" : \"diamond\",\"x\" : 0,\"y\" : 0},\"F3E47FFF9271A4319D48F83F6FB58A54E\" : {\"callbacks\" : {},\"color\" : \"\",\"id\" : \"F3E47FFF9271A4319D48F83F6FB58A54E\",\"layer\" : 4,\"menus\" : {},\"messages\" : {},\"parent\" : \"\",\"size\" : 2,\"title\" : \"〈 5,6,7,8,9 〉\",\"type\" : \"circle\",\"x\" : 0,\"y\" : 0},\"F4A2BA0AF7CC2464894BA54A7A1D65CAB\" : {\"callbacks\" : {},\"color\" : \"\",\"id\" : \"F4A2BA0AF7CC2464894BA54A7A1D65CAB\",\"layer\" : 2,\"menus\" : {},\"messages\" : {},\"parent\" : \"\",\"size\" : 2,\"title\" : \"〈 3,4,5 〉\",\"type\" : \"diamond\",\"x\" : 0,\"y\" : 0},\"F51748C91491C48F054452C784CC1B07A\" : {\"callbacks\" : {},\"color\" : \"\",\"id\" : \"F51748C91491C48F054452C784CC1B07A\",\"layer\" : 6,\"menus\" : {},\"messages\" : {},\"parent\" : \"\",\"size\" : 2,\"title\" : \"〈 5,7,8,11 〉\",\"type\" : \"circle\",\"x\" : 0,\"y\" : 0},\"F5F9BDF43EB104E56DC517038F1CFEE06\" : {\"callbacks\" : {},\"color\" : \"\",\"id\" : \"F5F9BDF43EB104E56DC517038F1CFEE06\",\"layer\" : 1,\"menus\" : {},\"messages\" : {},\"parent\" : \"\",\"size\" : 2,\"title\" : \"〈 2,3 〉\",\"type\" : \"diamond\",\"x\" : 0,\"y\" : 0},\"F7E5A6BE17F8A4EF0CCFAC644DB6C975E\" : {\"callbacks\" : {},\"color\" : \"\",\"id\" : \"F7E5A6BE17F8A4EF0CCFAC644DB6C975E\",\"layer\" : 0,\"menus\" : {},\"messages\" : {},\"parent\" : \"\",\"size\" : 2,\"title\" : \"〈 1 〉\",\"type\" : \"diamond\",\"x\" : 0,\"y\" : 0},\"F81B9D918765C4CCD44F4935D77D27AAF\" : {\"callbacks\" : {},\"color\" : \"\",\"id\" : \"F81B9D918765C4CCD44F4935D77D27AAF\",\"layer\" : 5,\"menus\" : {},\"messages\" : {},\"parent\" : \"\",\"size\" : 2,\"title\" : \"〈 5,7,8,9,11 〉\",\"type\" : \"circle\",\"x\" : 0,\"y\" : 0},\"F9C3891C90FDE4D107C9BE8627F8CE82C\" : {\"callbacks\" : {},\"color\" : \"\",\"id\" : \"F9C3891C90FDE4D107C9BE8627F8CE82C\",\"layer\" : 6,\"menus\" : {},\"messages\" : {},\"parent\" : \"\",\"size\" : 2,\"title\" : \"〈 5,7,9,11,13 〉\",\"type\" : \"circle\",\"x\" : 0,\"y\" : 0},\"FA15B5B4382A84A1794C60856939A771D\" : {\"callbacks\" : {},\"color\" : \"\",\"id\" : \"FA15B5B4382A84A1794C60856939A771D\",\"layer\" : 6,\"menus\" : {},\"messages\" : {},\"parent\" : \"\",\"size\" : 2,\"title\" : \"〈 5,6,7 〉\",\"type\" : \"circle\",\"x\" : 0,\"y\" : 0},\"FAA3E793EDC274ED9FC0B38F7E88A0F14\" : {\"callbacks\" : {},\"color\" : \"\",\"id\" : \"FAA3E793EDC274ED9FC0B38F7E88A0F14\",\"layer\" : 7,\"menus\" : {},\"messages\" : {},\"parent\" : \"\",\"size\" : 2,\"title\" : \"〈 5,7,11,13 〉\",\"type\" : \"circle\",\"x\" : 0,\"y\" : 0},\"FB1EB98958CE64386F434F2716C2822B0\" : {\"callbacks\" : {},\"color\" : \"\",\"id\" : \"FB1EB98958CE64386F434F2716C2822B0\",\"layer\" : 5,\"menus\" : {},\"messages\" : {},\"parent\" : \"\",\"size\" : 2,\"title\" : \"〈 5,6,7,9 〉\",\"type\" : \"diamond\",\"x\" : 0,\"y\" : 0},\"FC35704E57C074EA2ECC855F305559522\" : {\"callbacks\" : {},\"color\" : \"\",\"id\" : \"FC35704E57C074EA2ECC855F305559522\",\"layer\" : 3,\"menus\" : {},\"messages\" : {},\"parent\" : \"\",\"size\" : 2,\"title\" : \"〈 4,5,6,7 〉\",\"type\" : \"circle\",\"x\" : 0,\"y\" : 0},\"FFC078C693EE940B5B4FD97153BB06EFF\" : {\"callbacks\" : {},\"color\" : \"\",\"id\" : \"FFC078C693EE940B5B4FD97153BB06EFF\",\"layer\" : 3,\"menus\" : {},\"messages\" : {},\"parent\" : \"\",\"size\" : 2,\"title\" : \"〈 3,5,7 〉\",\"type\" : \"diamond\",\"x\" : 0,\"y\" : 0}},\"simulation\" : true,\"type\" : \"directed\"},\"height\" : 600,\"id\" : \"FF209466DF7EA411C3CCF928ACEE57A61\",\"menus\" : {},\"messages\" : {},\"texTypesetting\" : true,\"title\" : \"Oversemigroups\",\"width\" : 800,\"zoomToFit\" : true},\"mime\" : \"application\\/vnd.francy+json\",\"version\" : \"2.0.0\"}"
     },
     "execution_count": 11,
     "metadata": {
      "application/vnd.francy+json": {}
     },
     "output_type": "execute_result"
    }
   ],
   "source": [
    "s:=NumericalSemigroup(5,7,11,13);\n",
    "DrawOverSemigroupsNumericalSemigroup(s);"
   ]
  },
  {
   "cell_type": "markdown",
   "metadata": {},
   "source": [
    "## Graphs"
   ]
  },
  {
   "cell_type": "code",
   "execution_count": 12,
   "metadata": {},
   "outputs": [
    {
     "data": {
      "text/plain": [
       "<Numerical semigroup with 3 generators>"
      ]
     },
     "execution_count": 12,
     "metadata": {
      "text/plain": ""
     },
     "output_type": "execute_result"
    }
   ],
   "source": [
    "s:=NumericalSemigroup(3,5,7);"
   ]
  },
  {
   "cell_type": "code",
   "execution_count": 13,
   "metadata": {},
   "outputs": [
    {
     "data": {
      "text/plain": [
       "[ [ 10, 0, 0 ], [ 5, 3, 0 ], [ 0, 6, 0 ], [ 6, 1, 1 ], [ 1, 4, 1 ],   [ 2, 2, 2 ], [ 3, 0, 3 ] ]"
      ]
     },
     "execution_count": 13,
     "metadata": {
      "text/plain": ""
     },
     "output_type": "execute_result"
    }
   ],
   "source": [
    "f:=FactorizationsElementWRTNumericalSemigroup(30,s);"
   ]
  },
  {
   "cell_type": "markdown",
   "metadata": {},
   "source": [
    "## `DrawFactorizationGraph(f)`\n",
    "\n",
    "Draws the factorization graph of a set of factorizations `f`, the complete graph with vertices the elements of `f`. Labels are labeled with distances between the nodes they join. It also draws a minimal spanning tree (with minimal distances) and thus one can read the Catenary degree from this tree."
   ]
  },
  {
   "cell_type": "code",
   "execution_count": 14,
   "metadata": {},
   "outputs": [
    {
     "data": {
      "application/vnd.francy+json": "{\"canvas\" : {\"graph\" : {\"collapsed\" : true,\"id\" : \"FADEAAE0EDF4B44F674224FE2047A155B\",\"links\" : {\"F02354CCCDEA440FDE4F55CBF657CC8DA\" : {\"color\" : \"\",\"id\" : \"F02354CCCDEA440FDE4F55CBF657CC8DA\",\"invisible\" : false,\"length\" : 0,\"source\" : \"FD824F712C0514E15844479F8B52E48DF\",\"target\" : \"FEBE9B45836B84C6CA4873B07834A7D40\",\"title\" : \"5\",\"weight\" : 0},\"F0256596C184F49977C8D83958B378174\" : {\"color\" : \"red\",\"id\" : \"F0256596C184F49977C8D83958B378174\",\"invisible\" : false,\"length\" : 0,\"source\" : \"F9A43C8FCD6C74227FC21AADB3E2CA461\",\"target\" : \"F791ABA932CC14DA464225A3565750CA6\",\"title\" : \"2\",\"weight\" : 0},\"F136DA220CEC641552CD7422E2D898598\" : {\"color\" : \"\",\"id\" : \"F136DA220CEC641552CD7422E2D898598\",\"invisible\" : false,\"length\" : 0,\"source\" : \"FE1B42222CD274C73CC3D5C6CD5EACA95\",\"target\" : \"FEAD29794EE0F4F161C182A9BB2516A56\",\"title\" : \"4\",\"weight\" : 0},\"F18964FF8AE5645E94C0A0C7528826124\" : {\"color\" : \"\",\"id\" : \"F18964FF8AE5645E94C0A0C7528826124\",\"invisible\" : false,\"length\" : 0,\"source\" : \"FD824F712C0514E15844479F8B52E48DF\",\"target\" : \"FE3500768838348B16C669F181EE10EE6\",\"title\" : \"7\",\"weight\" : 0},\"F1C2AD257887E49B354559ACA57431202\" : {\"color\" : \"\",\"id\" : \"F1C2AD257887E49B354559ACA57431202\",\"invisible\" : false,\"length\" : 0,\"source\" : \"FEBE9B45836B84C6CA4873B07834A7D40\",\"target\" : \"F9A43C8FCD6C74227FC21AADB3E2CA461\",\"title\" : \"5\",\"weight\" : 0},\"F27D412FAD1B64033CC5133D8AD820427\" : {\"color\" : \"\",\"id\" : \"F27D412FAD1B64033CC5133D8AD820427\",\"invisible\" : false,\"length\" : 0,\"source\" : \"FE1B42222CD274C73CC3D5C6CD5EACA95\",\"target\" : \"F791ABA932CC14DA464225A3565750CA6\",\"title\" : \"5\",\"weight\" : 0},\"F3D6484452CA34524F43BAF07BD4926E4\" : {\"color\" : \"\",\"id\" : \"F3D6484452CA34524F43BAF07BD4926E4\",\"invisible\" : false,\"length\" : 0,\"source\" : \"FEBE9B45836B84C6CA4873B07834A7D40\",\"target\" : \"FEAD29794EE0F4F161C182A9BB2516A56\",\"title\" : \"4\",\"weight\" : 0},\"F45AE79BA660C42DE34E07E00394C112A\" : {\"color\" : \"\",\"id\" : \"F45AE79BA660C42DE34E07E00394C112A\",\"invisible\" : false,\"length\" : 0,\"source\" : \"FE1B42222CD274C73CC3D5C6CD5EACA95\",\"target\" : \"FE3500768838348B16C669F181EE10EE6\",\"title\" : \"4\",\"weight\" : 0},\"F53CE4DC116B647496C39932FAA757FA1\" : {\"color\" : \"red\",\"id\" : \"F53CE4DC116B647496C39932FAA757FA1\",\"invisible\" : false,\"length\" : 0,\"source\" : \"FEAD29794EE0F4F161C182A9BB2516A56\",\"target\" : \"FE3500768838348B16C669F181EE10EE6\",\"title\" : \"2\",\"weight\" : 0},\"F6360FE1B7E794284645E7AC4D72AD66E\" : {\"color\" : \"\",\"id\" : \"F6360FE1B7E794284645E7AC4D72AD66E\",\"invisible\" : false,\"length\" : 0,\"source\" : \"F9A43C8FCD6C74227FC21AADB3E2CA461\",\"target\" : \"FEAD29794EE0F4F161C182A9BB2516A56\",\"title\" : \"4\",\"weight\" : 0},\"F6679DCEA3D53408DBC8BFFE0F1F11353\" : {\"color\" : \"red\",\"id\" : \"F6679DCEA3D53408DBC8BFFE0F1F11353\",\"invisible\" : false,\"length\" : 0,\"source\" : \"F791ABA932CC14DA464225A3565750CA6\",\"target\" : \"FEAD29794EE0F4F161C182A9BB2516A56\",\"title\" : \"2\",\"weight\" : 0},\"F6D36D95A1C924F7E8443B1D7136CF539\" : {\"color\" : \"red\",\"id\" : \"F6D36D95A1C924F7E8443B1D7136CF539\",\"invisible\" : false,\"length\" : 0,\"source\" : \"FEBE9B45836B84C6CA4873B07834A7D40\",\"target\" : \"FE1B42222CD274C73CC3D5C6CD5EACA95\",\"title\" : \"2\",\"weight\" : 0},\"F92CD5430B84849DD9CD90D99B583831B\" : {\"color\" : \"\",\"id\" : \"F92CD5430B84849DD9CD90D99B583831B\",\"invisible\" : false,\"length\" : 0,\"source\" : \"FEBE9B45836B84C6CA4873B07834A7D40\",\"target\" : \"FE3500768838348B16C669F181EE10EE6\",\"title\" : \"5\",\"weight\" : 0},\"F9B632DC36C5E44C7EC0EA39011052F0F\" : {\"color\" : \"red\",\"id\" : \"F9B632DC36C5E44C7EC0EA39011052F0F\",\"invisible\" : false,\"length\" : 0,\"source\" : \"FD824F712C0514E15844479F8B52E48DF\",\"target\" : \"FE1B42222CD274C73CC3D5C6CD5EACA95\",\"title\" : \"4\",\"weight\" : 0},\"FA09492CC66834D3FA49D9BC2782A8B9C\" : {\"color\" : \"\",\"id\" : \"FA09492CC66834D3FA49D9BC2782A8B9C\",\"invisible\" : false,\"length\" : 0,\"source\" : \"F791ABA932CC14DA464225A3565750CA6\",\"target\" : \"FE3500768838348B16C669F181EE10EE6\",\"title\" : \"4\",\"weight\" : 0},\"FA97B288B63EB4DC1C46D7831AFDFE450\" : {\"color\" : \"\",\"id\" : \"FA97B288B63EB4DC1C46D7831AFDFE450\",\"invisible\" : false,\"length\" : 0,\"source\" : \"F9A43C8FCD6C74227FC21AADB3E2CA461\",\"target\" : \"FE1B42222CD274C73CC3D5C6CD5EACA95\",\"title\" : \"7\",\"weight\" : 0},\"FC749D687E9E6415EECBC0E553E7B858A\" : {\"color\" : \"red\",\"id\" : \"FC749D687E9E6415EECBC0E553E7B858A\",\"invisible\" : false,\"length\" : 0,\"source\" : \"FEBE9B45836B84C6CA4873B07834A7D40\",\"target\" : \"F791ABA932CC14DA464225A3565750CA6\",\"title\" : \"4\",\"weight\" : 0},\"FCFB5BF9FF27C4298BC45114FDD44DC4B\" : {\"color\" : \"\",\"id\" : \"FCFB5BF9FF27C4298BC45114FDD44DC4B\",\"invisible\" : false,\"length\" : 0,\"source\" : \"FD824F712C0514E15844479F8B52E48DF\",\"target\" : \"FEAD29794EE0F4F161C182A9BB2516A56\",\"title\" : \"8\",\"weight\" : 0},\"FFFA9A65DD69E41A7DC102EBFEC31FF08\" : {\"color\" : \"\",\"id\" : \"FFFA9A65DD69E41A7DC102EBFEC31FF08\",\"invisible\" : false,\"length\" : 0,\"source\" : \"FD824F712C0514E15844479F8B52E48DF\",\"target\" : \"F791ABA932CC14DA464225A3565750CA6\",\"title\" : \"9\",\"weight\" : 0}},\"nodes\" : {\"F791ABA932CC14DA464225A3565750CA6\" : {\"callbacks\" : {},\"color\" : \"\",\"id\" : \"F791ABA932CC14DA464225A3565750CA6\",\"layer\" : 6,\"menus\" : {},\"messages\" : {},\"parent\" : \"\",\"size\" : 1,\"title\" : \"(1,4,1)\",\"type\" : \"circle\",\"x\" : 0,\"y\" : 0},\"F9A43C8FCD6C74227FC21AADB3E2CA461\" : {\"callbacks\" : {},\"color\" : \"\",\"id\" : \"F9A43C8FCD6C74227FC21AADB3E2CA461\",\"layer\" : 6,\"menus\" : {},\"messages\" : {},\"parent\" : \"\",\"size\" : 1,\"title\" : \"(0,6,0)\",\"type\" : \"circle\",\"x\" : 0,\"y\" : 0},\"FD824F712C0514E15844479F8B52E48DF\" : {\"callbacks\" : {},\"color\" : \"\",\"id\" : \"FD824F712C0514E15844479F8B52E48DF\",\"layer\" : 10,\"menus\" : {},\"messages\" : {},\"parent\" : \"\",\"size\" : 1,\"title\" : \"(10,0,0)\",\"type\" : \"circle\",\"x\" : 0,\"y\" : 0},\"FE1B42222CD274C73CC3D5C6CD5EACA95\" : {\"callbacks\" : {},\"color\" : \"\",\"id\" : \"FE1B42222CD274C73CC3D5C6CD5EACA95\",\"layer\" : 8,\"menus\" : {},\"messages\" : {},\"parent\" : \"\",\"size\" : 1,\"title\" : \"(6,1,1)\",\"type\" : \"circle\",\"x\" : 0,\"y\" : 0},\"FE3500768838348B16C669F181EE10EE6\" : {\"callbacks\" : {},\"color\" : \"\",\"id\" : \"FE3500768838348B16C669F181EE10EE6\",\"layer\" : 6,\"menus\" : {},\"messages\" : {},\"parent\" : \"\",\"size\" : 1,\"title\" : \"(3,0,3)\",\"type\" : \"circle\",\"x\" : 0,\"y\" : 0},\"FEAD29794EE0F4F161C182A9BB2516A56\" : {\"callbacks\" : {},\"color\" : \"\",\"id\" : \"FEAD29794EE0F4F161C182A9BB2516A56\",\"layer\" : 6,\"menus\" : {},\"messages\" : {},\"parent\" : \"\",\"size\" : 1,\"title\" : \"(2,2,2)\",\"type\" : \"circle\",\"x\" : 0,\"y\" : 0},\"FEBE9B45836B84C6CA4873B07834A7D40\" : {\"callbacks\" : {},\"color\" : \"\",\"id\" : \"FEBE9B45836B84C6CA4873B07834A7D40\",\"layer\" : 8,\"menus\" : {},\"messages\" : {},\"parent\" : \"\",\"size\" : 1,\"title\" : \"(5,3,0)\",\"type\" : \"circle\",\"x\" : 0,\"y\" : 0}},\"simulation\" : true,\"type\" : \"undirected\"},\"height\" : 600,\"id\" : \"F6E0C2B2B28B24FB59489B082E4CA455A\",\"menus\" : {},\"messages\" : {},\"texTypesetting\" : false,\"title\" : \"Factorizations graph\",\"width\" : 800,\"zoomToFit\" : true},\"mime\" : \"application\\/vnd.francy+json\",\"version\" : \"2.0.0\"}"
     },
     "execution_count": 14,
     "metadata": {
      "application/vnd.francy+json": {}
     },
     "output_type": "execute_result"
    }
   ],
   "source": [
    "DrawFactorizationGraph(f);"
   ]
  },
  {
   "cell_type": "markdown",
   "metadata": {},
   "source": [
    "## `DrawEliahouGraph(f)`\n",
    "\n",
    "Draws the Eliahou's graph associated to the set of factorizations `f`. The vertices of the graph are the elements in `f`, and two vertices are joined with an edge if they have common support. "
   ]
  },
  {
   "cell_type": "code",
   "execution_count": 15,
   "metadata": {},
   "outputs": [
    {
     "data": {
      "application/vnd.francy+json": "{\"canvas\" : {\"graph\" : {\"collapsed\" : true,\"id\" : \"FB907730C25514029140EED895D7E2DA4\",\"links\" : {\"F0D9E2D8B685C48D4C4FEE556A5809E8D\" : {\"color\" : \"\",\"id\" : \"F0D9E2D8B685C48D4C4FEE556A5809E8D\",\"invisible\" : false,\"length\" : 0,\"source\" : \"F931F2A4445BA49A6349CE2276EE2443E\",\"target\" : \"F6168681479FB4B8194A95519B4B2B007\",\"weight\" : 0},\"F166C1CB26CB74D79AC9B34FD538C2FF6\" : {\"color\" : \"\",\"id\" : \"F166C1CB26CB74D79AC9B34FD538C2FF6\",\"invisible\" : false,\"length\" : 0,\"source\" : \"F6168681479FB4B8194A95519B4B2B007\",\"target\" : \"F62F46DD205904B14547E0D7D9E955843\",\"weight\" : 0},\"F1E7FC6E907834A15E40D5A53AE1771E3\" : {\"color\" : \"\",\"id\" : \"F1E7FC6E907834A15E40D5A53AE1771E3\",\"invisible\" : false,\"length\" : 0,\"source\" : \"FA6D4FFD9570F4CA9FCB2B39E56B522B7\",\"target\" : \"F8B2EC2D83E2B40C7A44A8E67D4A07E0C\",\"weight\" : 0},\"F2F4546141DD14B874C891045268AE376\" : {\"color\" : \"\",\"id\" : \"F2F4546141DD14B874C891045268AE376\",\"invisible\" : false,\"length\" : 0,\"source\" : \"F931F2A4445BA49A6349CE2276EE2443E\",\"target\" : \"F8B2EC2D83E2B40C7A44A8E67D4A07E0C\",\"weight\" : 0},\"F351833DB2B2C4DF764C1E2E2D7B83494\" : {\"color\" : \"\",\"id\" : \"F351833DB2B2C4DF764C1E2E2D7B83494\",\"invisible\" : false,\"length\" : 0,\"source\" : \"F62F46DD205904B14547E0D7D9E955843\",\"target\" : \"F8B2EC2D83E2B40C7A44A8E67D4A07E0C\",\"weight\" : 0},\"F36777D75A20F4833B40674C390B4238C\" : {\"color\" : \"\",\"id\" : \"F36777D75A20F4833B40674C390B4238C\",\"invisible\" : false,\"length\" : 0,\"source\" : \"F336503C53E0B446FCCC7C0CC0223C6D3\",\"target\" : \"F08BD5071AA46473C8C44CADB7E3C3013\",\"weight\" : 0},\"F3AA408B461EA4E51ECF930B0231BDDA8\" : {\"color\" : \"\",\"id\" : \"F3AA408B461EA4E51ECF930B0231BDDA8\",\"invisible\" : false,\"length\" : 0,\"source\" : \"F336503C53E0B446FCCC7C0CC0223C6D3\",\"target\" : \"F62F46DD205904B14547E0D7D9E955843\",\"weight\" : 0},\"F4A75AF6792F54D35148CBD024088AB4F\" : {\"color\" : \"\",\"id\" : \"F4A75AF6792F54D35148CBD024088AB4F\",\"invisible\" : false,\"length\" : 0,\"source\" : \"FA6D4FFD9570F4CA9FCB2B39E56B522B7\",\"target\" : \"F62F46DD205904B14547E0D7D9E955843\",\"weight\" : 0},\"F722C89133771403E0CCFAE144569189B\" : {\"color\" : \"\",\"id\" : \"F722C89133771403E0CCFAE144569189B\",\"invisible\" : false,\"length\" : 0,\"source\" : \"F62F46DD205904B14547E0D7D9E955843\",\"target\" : \"F08BD5071AA46473C8C44CADB7E3C3013\",\"weight\" : 0},\"F747F15B9665340B0C4CB0D4155AA2ED7\" : {\"color\" : \"\",\"id\" : \"F747F15B9665340B0C4CB0D4155AA2ED7\",\"invisible\" : false,\"length\" : 0,\"source\" : \"F6168681479FB4B8194A95519B4B2B007\",\"target\" : \"F8B2EC2D83E2B40C7A44A8E67D4A07E0C\",\"weight\" : 0},\"F7AAD0B6E78A84F658C0D45577BA228EE\" : {\"color\" : \"\",\"id\" : \"F7AAD0B6E78A84F658C0D45577BA228EE\",\"invisible\" : false,\"length\" : 0,\"source\" : \"F336503C53E0B446FCCC7C0CC0223C6D3\",\"target\" : \"F8B2EC2D83E2B40C7A44A8E67D4A07E0C\",\"weight\" : 0},\"F7B34F5A7EF4A4BBB84DBA412D19DC06C\" : {\"color\" : \"\",\"id\" : \"F7B34F5A7EF4A4BBB84DBA412D19DC06C\",\"invisible\" : false,\"length\" : 0,\"source\" : \"F931F2A4445BA49A6349CE2276EE2443E\",\"target\" : \"F08BD5071AA46473C8C44CADB7E3C3013\",\"weight\" : 0},\"F7C0E639DCCDC4A8C7C66D6852B395B07\" : {\"color\" : \"\",\"id\" : \"F7C0E639DCCDC4A8C7C66D6852B395B07\",\"invisible\" : false,\"length\" : 0,\"source\" : \"F336503C53E0B446FCCC7C0CC0223C6D3\",\"target\" : \"FA6D4FFD9570F4CA9FCB2B39E56B522B7\",\"weight\" : 0},\"F96C6E28C5C6B4AA1D4B271E243B481DC\" : {\"color\" : \"\",\"id\" : \"F96C6E28C5C6B4AA1D4B271E243B481DC\",\"invisible\" : false,\"length\" : 0,\"source\" : \"F931F2A4445BA49A6349CE2276EE2443E\",\"target\" : \"FA6D4FFD9570F4CA9FCB2B39E56B522B7\",\"weight\" : 0},\"FA94DAEE44F68439EF4DFDF0B1818DB0E\" : {\"color\" : \"\",\"id\" : \"FA94DAEE44F68439EF4DFDF0B1818DB0E\",\"invisible\" : false,\"length\" : 0,\"source\" : \"F336503C53E0B446FCCC7C0CC0223C6D3\",\"target\" : \"F931F2A4445BA49A6349CE2276EE2443E\",\"weight\" : 0},\"FAFFF64473C3747EFEC1E5EE0292FE3AD\" : {\"color\" : \"\",\"id\" : \"FAFFF64473C3747EFEC1E5EE0292FE3AD\",\"invisible\" : false,\"length\" : 0,\"source\" : \"FA6D4FFD9570F4CA9FCB2B39E56B522B7\",\"target\" : \"F08BD5071AA46473C8C44CADB7E3C3013\",\"weight\" : 0},\"FC35FC53DE7AE45C18C98FC151C64099E\" : {\"color\" : \"\",\"id\" : \"FC35FC53DE7AE45C18C98FC151C64099E\",\"invisible\" : false,\"length\" : 0,\"source\" : \"F931F2A4445BA49A6349CE2276EE2443E\",\"target\" : \"F62F46DD205904B14547E0D7D9E955843\",\"weight\" : 0},\"FCC921B514236413C1C60069BF6FE2CCF\" : {\"color\" : \"\",\"id\" : \"FCC921B514236413C1C60069BF6FE2CCF\",\"invisible\" : false,\"length\" : 0,\"source\" : \"F6168681479FB4B8194A95519B4B2B007\",\"target\" : \"FA6D4FFD9570F4CA9FCB2B39E56B522B7\",\"weight\" : 0},\"FF734C8C644A846E9BCE75D4022B6950E\" : {\"color\" : \"\",\"id\" : \"FF734C8C644A846E9BCE75D4022B6950E\",\"invisible\" : false,\"length\" : 0,\"source\" : \"F8B2EC2D83E2B40C7A44A8E67D4A07E0C\",\"target\" : \"F08BD5071AA46473C8C44CADB7E3C3013\",\"weight\" : 0}},\"nodes\" : {\"F08BD5071AA46473C8C44CADB7E3C3013\" : {\"callbacks\" : {},\"color\" : \"\",\"id\" : \"F08BD5071AA46473C8C44CADB7E3C3013\",\"layer\" : 6,\"menus\" : {},\"messages\" : {},\"parent\" : \"\",\"size\" : 1,\"title\" : \"(3,0,3)\",\"type\" : \"circle\",\"x\" : 0,\"y\" : 0},\"F336503C53E0B446FCCC7C0CC0223C6D3\" : {\"callbacks\" : {},\"color\" : \"\",\"id\" : \"F336503C53E0B446FCCC7C0CC0223C6D3\",\"layer\" : 10,\"menus\" : {},\"messages\" : {},\"parent\" : \"\",\"size\" : 1,\"title\" : \"(10,0,0)\",\"type\" : \"circle\",\"x\" : 0,\"y\" : 0},\"F6168681479FB4B8194A95519B4B2B007\" : {\"callbacks\" : {},\"color\" : \"\",\"id\" : \"F6168681479FB4B8194A95519B4B2B007\",\"layer\" : 6,\"menus\" : {},\"messages\" : {},\"parent\" : \"\",\"size\" : 1,\"title\" : \"(0,6,0)\",\"type\" : \"circle\",\"x\" : 0,\"y\" : 0},\"F62F46DD205904B14547E0D7D9E955843\" : {\"callbacks\" : {},\"color\" : \"\",\"id\" : \"F62F46DD205904B14547E0D7D9E955843\",\"layer\" : 6,\"menus\" : {},\"messages\" : {},\"parent\" : \"\",\"size\" : 1,\"title\" : \"(1,4,1)\",\"type\" : \"circle\",\"x\" : 0,\"y\" : 0},\"F8B2EC2D83E2B40C7A44A8E67D4A07E0C\" : {\"callbacks\" : {},\"color\" : \"\",\"id\" : \"F8B2EC2D83E2B40C7A44A8E67D4A07E0C\",\"layer\" : 6,\"menus\" : {},\"messages\" : {},\"parent\" : \"\",\"size\" : 1,\"title\" : \"(2,2,2)\",\"type\" : \"circle\",\"x\" : 0,\"y\" : 0},\"F931F2A4445BA49A6349CE2276EE2443E\" : {\"callbacks\" : {},\"color\" : \"\",\"id\" : \"F931F2A4445BA49A6349CE2276EE2443E\",\"layer\" : 8,\"menus\" : {},\"messages\" : {},\"parent\" : \"\",\"size\" : 1,\"title\" : \"(5,3,0)\",\"type\" : \"circle\",\"x\" : 0,\"y\" : 0},\"FA6D4FFD9570F4CA9FCB2B39E56B522B7\" : {\"callbacks\" : {},\"color\" : \"\",\"id\" : \"FA6D4FFD9570F4CA9FCB2B39E56B522B7\",\"layer\" : 8,\"menus\" : {},\"messages\" : {},\"parent\" : \"\",\"size\" : 1,\"title\" : \"(6,1,1)\",\"type\" : \"circle\",\"x\" : 0,\"y\" : 0}},\"simulation\" : true,\"type\" : \"undirected\"},\"height\" : 600,\"id\" : \"FB06E3EA9B69D442C546EF46A70D52672\",\"menus\" : {},\"messages\" : {},\"texTypesetting\" : false,\"title\" : \"Eliahou graph\",\"width\" : 800,\"zoomToFit\" : true},\"mime\" : \"application\\/vnd.francy+json\",\"version\" : \"2.0.0\"}"
     },
     "execution_count": 15,
     "metadata": {
      "application/vnd.francy+json": {}
     },
     "output_type": "execute_result"
    }
   ],
   "source": [
    "DrawEliahouGraph(f);"
   ]
  },
  {
   "cell_type": "markdown",
   "metadata": {},
   "source": [
    "## `DrawRosalesGraph(n,s)`\n",
    "\n",
    "Draws the Rosales graph associated to `n` in `s`. The semigroup `s` can be either a numerical or an affine semigroup. The vertices of the graph are the minimal generators `a` of `s` such that `n-a` is in `s`, and edges are pairs `ab` such that `n-(a+b)` is in `s`."
   ]
  },
  {
   "cell_type": "code",
   "execution_count": 16,
   "metadata": {},
   "outputs": [
    {
     "data": {
      "application/vnd.francy+json": "{\"canvas\" : {\"graph\" : {\"collapsed\" : true,\"id\" : \"FF104D624E98A46D80414AFCB0F8D3684\",\"links\" : {\"F80C897DF3EE04D20E45F217505F9B3E1\" : {\"color\" : \"\",\"id\" : \"F80C897DF3EE04D20E45F217505F9B3E1\",\"invisible\" : false,\"length\" : 0,\"source\" : \"F40E3FEEC7A0240A444820EA6060D67FD\",\"target\" : \"FFF44547515F843CD0CAED4432A482488\",\"weight\" : 0}},\"nodes\" : {\"F40E3FEEC7A0240A444820EA6060D67FD\" : {\"callbacks\" : {},\"color\" : \"\",\"id\" : \"F40E3FEEC7A0240A444820EA6060D67FD\",\"layer\" : 0,\"menus\" : {},\"messages\" : {},\"parent\" : \"\",\"size\" : 1,\"title\" : \"3\",\"type\" : \"circle\",\"x\" : 0,\"y\" : 0},\"FADB90A39215142E864FE2E4405AB66DB\" : {\"callbacks\" : {},\"color\" : \"\",\"id\" : \"FADB90A39215142E864FE2E4405AB66DB\",\"layer\" : 0,\"menus\" : {},\"messages\" : {},\"parent\" : \"\",\"size\" : 1,\"title\" : \"5\",\"type\" : \"circle\",\"x\" : 0,\"y\" : 0},\"FFF44547515F843CD0CAED4432A482488\" : {\"callbacks\" : {},\"color\" : \"\",\"id\" : \"FFF44547515F843CD0CAED4432A482488\",\"layer\" : 0,\"menus\" : {},\"messages\" : {},\"parent\" : \"\",\"size\" : 1,\"title\" : \"7\",\"type\" : \"circle\",\"x\" : 0,\"y\" : 0}},\"simulation\" : true,\"type\" : \"undirected\"},\"height\" : 600,\"id\" : \"FE9D079A1321343B9ACA4757B099210AD\",\"menus\" : {},\"messages\" : {},\"texTypesetting\" : false,\"title\" : \"Rosales graph\",\"width\" : 800,\"zoomToFit\" : true},\"mime\" : \"application\\/vnd.francy+json\",\"version\" : \"2.0.0\"}"
     },
     "execution_count": 16,
     "metadata": {
      "application/vnd.francy+json": {}
     },
     "output_type": "execute_result"
    }
   ],
   "source": [
    "DrawRosalesGraph(10,s);"
   ]
  },
  {
   "cell_type": "code",
   "execution_count": 17,
   "metadata": {},
   "outputs": [
    {
     "data": {
      "text/plain": [
       "[ 10, 12, 14 ]"
      ]
     },
     "execution_count": 17,
     "metadata": {
      "text/plain": ""
     },
     "output_type": "execute_result"
    }
   ],
   "source": [
    "BettiElements(s);"
   ]
  },
  {
   "cell_type": "code",
   "execution_count": null,
   "metadata": {},
   "outputs": [],
   "source": []
  }
 ],
 "metadata": {
  "kernelspec": {
   "display_name": "GAP 4",
   "language": "gap",
   "name": "gap-4"
  },
  "language_info": {
   "codemirror_mode": "gap",
   "file_extension": ".g",
   "mimetype": "text/x-gap",
   "name": "GAP 4",
   "nbconvert_exporter": "",
   "pygments_lexer": "gap",
   "version": "4.13dev"
  }
 },
 "nbformat": 4,
 "nbformat_minor": 4
}
