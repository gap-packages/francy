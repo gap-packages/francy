{
 "cells": [
  {
   "cell_type": "code",
   "execution_count": 1,
   "id": "86e8e22a-3079-4679-8ab5-a84d7d4367e2",
   "metadata": {},
   "outputs": [
    {
     "data": {
      "text/plain": [
       "true"
      ]
     },
     "execution_count": 1,
     "metadata": {
      "text/plain": ""
     },
     "output_type": "execute_result"
    }
   ],
   "source": [
    "LoadPackage(\"francy\");"
   ]
  },
  {
   "cell_type": "code",
   "execution_count": null,
   "id": "ba744a77-3731-4616-8387-65e43992a31a",
   "metadata": {},
   "outputs": [
    {
     "data": {
      "application/vnd.francy+json": "{\"canvas\" : {\"graph\" : {\"collapsed\" : true,\"id\" : \"F793F564DFC7C41AD0C70B2CB648370C1\",\"links\" : {},\"nodes\" : {\"F40528265F01D48195C823DDF5A14D7CF\" : {\"callbacks\" : {},\"color\" : \"\",\"id\" : \"F40528265F01D48195C823DDF5A14D7CF\",\"layer\" : 0,\"menus\" : {},\"messages\" : {\"F12AC5E185BB641038431E4B4C3456293\" : {\"callback\" : {\"func\" : \"Remove\",\"id\" : \"F4509A7188928455C64B962BCBF295BF1\",\"knownArgs\" : [\"<object>\",\"<object>\"],\"requiredArgs\" : {},\"trigger\" : \"click\"},\"id\" : \"F12AC5E185BB641038431E4B4C3456293\",\"text\" : \"Hello\",\"title\" : \"Oops\",\"type\" : \"error\"},\"F18FE4D8176C446357C71A0CC5EE3A37F\" : {\"callback\" : {\"func\" : \"Remove\",\"id\" : \"F893471BC9EC94849B42DB8268A9D1AB6\",\"knownArgs\" : [\"<object>\",\"<object>\"],\"requiredArgs\" : {},\"trigger\" : \"click\"},\"id\" : \"F18FE4D8176C446357C71A0CC5EE3A37F\",\"text\" : \"Hello\",\"title\" : \"\",\"type\" : \"success\"},\"F8C1F96C773474A8154A4C46BB113E35E\" : {\"callback\" : {\"func\" : \"Remove\",\"id\" : \"F98C36F7AB1D945CC9C7DE79A8C6E8CC7\",\"knownArgs\" : [\"<object>\",\"<object>\"],\"requiredArgs\" : {},\"trigger\" : \"click\"},\"id\" : \"F8C1F96C773474A8154A4C46BB113E35E\",\"text\" : \"Hello\",\"title\" : \"\",\"type\" : \"warning\"},\"F9980C3AB1FE8467A0C39E0816714D39D\" : {\"callback\" : {\"func\" : \"Remove\",\"id\" : \"FADAB64089636489B9C138F2DEEA6DF25\",\"knownArgs\" : [\"<object>\",\"<object>\"],\"requiredArgs\" : {},\"trigger\" : \"click\"},\"id\" : \"F9980C3AB1FE8467A0C39E0816714D39D\",\"text\" : \"World\",\"title\" : \"Hello\",\"type\" : \"default\"},\"FBC3E1C907D124ABCB4D37AFC978D49C0\" : {\"callback\" : {\"func\" : \"Remove\",\"id\" : \"F9A4E435F8A234BBD34DD34C838182A5C\",\"knownArgs\" : [\"<object>\",\"<object>\"],\"requiredArgs\" : {},\"trigger\" : \"click\"},\"id\" : \"FBC3E1C907D124ABCB4D37AFC978D49C0\",\"text\" : \"Hello $x^2$\",\"title\" : \"\",\"type\" : \"info\"}},\"parent\" : \"\",\"size\" : 10,\"title\" : \"\",\"type\" : \"circle\",\"x\" : 0,\"y\" : 0}},\"simulation\" : true,\"type\" : \"undirected\"},\"height\" : 250,\"id\" : \"F2ED844CBF82047CA8C0E59ECD1D25F6A\",\"menus\" : {\"F36D7D8C8024E4D9B34DBDCE35F39E797\" : {\"callback\" : {\"func\" : \"HelloWorld\",\"id\" : \"F3A62027A90C14B2E64ADFBE598DCAB1F\",\"knownArgs\" : [],\"requiredArgs\" : {},\"trigger\" : \"click\"},\"id\" : \"F36D7D8C8024E4D9B34DBDCE35F39E797\",\"menus\" : {},\"title\" : \"Hello Menu Action\"}},\"messages\" : {\"F4F18DC8FBC08428664203B7254BEDCFC\" : {\"callback\" : {\"func\" : \"Remove\",\"id\" : \"FBADFB1FBB15143125C5771BF1E49AAAC\",\"knownArgs\" : [\"<object>\",\"<object>\"],\"requiredArgs\" : {},\"trigger\" : \"click\"},\"id\" : \"F4F18DC8FBC08428664203B7254BEDCFC\",\"text\" : \"Hello $x^2$\",\"title\" : \"\",\"type\" : \"info\"},\"F682E684B60AC4F4CCCEED7EAB57AE7DA\" : {\"callback\" : {\"func\" : \"Remove\",\"id\" : \"FE3F02797F57E4022DCE98F0FCF04CBA8\",\"knownArgs\" : [\"<object>\",\"<object>\"],\"requiredArgs\" : {},\"trigger\" : \"click\"},\"id\" : \"F682E684B60AC4F4CCCEED7EAB57AE7DA\",\"text\" : \"Hello\",\"title\" : \"\",\"type\" : \"warning\"},\"F70650600519E474F5465932AD7970059\" : {\"callback\" : {\"func\" : \"Remove\",\"id\" : \"FAC5309F8108F4A06F49F78E45EF88986\",\"knownArgs\" : [\"<object>\",\"<object>\"],\"requiredArgs\" : {},\"trigger\" : \"click\"},\"id\" : \"F70650600519E474F5465932AD7970059\",\"text\" : \"Hello\",\"title\" : \"\",\"type\" : \"success\"},\"F8F794C1FA828467404CA41218DCFC68D\" : {\"callback\" : {\"func\" : \"Remove\",\"id\" : \"F366688A254054F9AFC43A6EA5008CAD2\",\"knownArgs\" : [\"<object>\",\"<object>\"],\"requiredArgs\" : {},\"trigger\" : \"click\"},\"id\" : \"F8F794C1FA828467404CA41218DCFC68D\",\"text\" : \"Hello\",\"title\" : \"Oops\",\"type\" : \"error\"},\"FEE444EE1F5F64CD1BC9BD25BD64986EE\" : {\"callback\" : {\"func\" : \"Remove\",\"id\" : \"F6E20A7A3B1004032E4CE51E46A17101F\",\"knownArgs\" : [\"<object>\",\"<object>\"],\"requiredArgs\" : {},\"trigger\" : \"click\"},\"id\" : \"FEE444EE1F5F64CD1BC9BD25BD64986EE\",\"text\" : \"World\",\"title\" : \"Hello\",\"type\" : \"default\"}},\"texTypesetting\" : true,\"title\" : \"Example Canvas \\/ Shape with Messages\",\"width\" : 800,\"zoomToFit\" : true},\"mime\" : \"application\\/vnd.francy+json\",\"version\" : \"1.2.4\"}"
     },
     "execution_count": 23,
     "metadata": {
      "application/vnd.francy+json": {}
     },
     "output_type": "execute_result"
    }
   ],
   "source": [
    "canvas5 := Canvas(\"Example Canvas / Shape with Messages\");;\n",
    "SetTexTypesetting(canvas5, true);;\n",
    "SetHeight(canvas5, 250);;\n",
    "\n",
    "graph := Graph(GraphType.UNDIRECTED);; # will go throughout graphs later\n",
    "shape := Shape(ShapeType.CIRCLE);; # will go throughout shapes later\n",
    "Add(graph, shape);;\n",
    "Add(canvas5, graph);;\n",
    "\n",
    "HelloWorld := function()\n",
    "    Add(canvas5, FrancyMessage(\"Something!\"));\n",
    "    return Draw(canvas5);\n",
    "end;;\n",
    "\n",
    "callback := Callback(HelloWorld);;\n",
    "menu := Menu(\"Hello Menu Action\", callback);;\n",
    "Add(canvas5, menu);;\n",
    "\n",
    "Add(canvas5, FrancyMessage(FrancyMessageType.INFO, \"Hello $x^2$\"));;\n",
    "Add(shape, FrancyMessage(FrancyMessageType.INFO, \"Hello $x^2$\"));;\n",
    "Add(canvas5, FrancyMessage(FrancyMessageType.ERROR, \"Oops\", \"Hello\"));;\n",
    "Add(shape, FrancyMessage(FrancyMessageType.ERROR, \"Oops\", \"Hello\"));;\n",
    "Add(canvas5, FrancyMessage(FrancyMessageType.WARNING, \"Hello\"));;\n",
    "Add(shape, FrancyMessage(FrancyMessageType.WARNING, \"Hello\"));;\n",
    "Add(canvas5, FrancyMessage(FrancyMessageType.SUCCESS, \"Hello\"));;\n",
    "Add(shape, FrancyMessage(FrancyMessageType.SUCCESS, \"Hello\"));;\n",
    "Add(canvas5, FrancyMessage(\"Hello\", \"World\"));;\n",
    "Add(shape, FrancyMessage(\"Hello\", \"World\"));;\n",
    "\n",
    "Draw(canvas5);"
   ]
  },
  {
   "cell_type": "code",
   "execution_count": 25,
   "id": "40293eda-f940-46d6-92a1-5d68c26767c7",
   "metadata": {},
   "outputs": [
    {
     "data": {
      "text/plain": [
       "function(  ) ... end"
      ]
     },
     "execution_count": 24,
     "metadata": {
      "text/plain": ""
     },
     "output_type": "execute_result"
    },
    {
     "data": {
      "application/vnd.francy+json": "{\"canvas\" : {\"graph\" : {\"collapsed\" : true,\"id\" : \"F94F08AE9E9724579DC4004270C597E1A\",\"links\" : {},\"nodes\" : {},\"simulation\" : true,\"type\" : \"directed\"},\"height\" : 600,\"id\" : \"F7220CDA1859D4FB5D44E4B78F5ED59EB\",\"menus\" : {\"F2B929BF53E274CED6C033077FD182A78\" : {\"callback\" : {\"func\" : \"unknown\",\"id\" : \"F0EFC447BC2A94F6A046EAA5CF1827861\",\"knownArgs\" : [\"<object>\"],\"requiredArgs\" : {},\"trigger\" : \"click\"},\"id\" : \"F2B929BF53E274CED6C033077FD182A78\",\"menus\" : {},\"title\" : \"Remove msg 1\"},\"F360FDB11B96046EC64EACF2FF9DF2819\" : {\"callback\" : {\"func\" : \"unknown\",\"id\" : \"F3513C9B110C7438B64E6A4A2EF887B49\",\"knownArgs\" : [\"<object>\"],\"requiredArgs\" : {},\"trigger\" : \"click\"},\"id\" : \"F360FDB11B96046EC64EACF2FF9DF2819\",\"menus\" : {},\"title\" : \"Remove msgs 1,2\"},\"F37407350D8344221FCDF6B0C4FACDF6E\" : {\"callback\" : {\"func\" : \"unknown\",\"id\" : \"F9F3EBB45E0E542B3FC53FCD55E436659\",\"knownArgs\" : [\"<object>\"],\"requiredArgs\" : {},\"trigger\" : \"click\"},\"id\" : \"F37407350D8344221FCDF6B0C4FACDF6E\",\"menus\" : {},\"title\" : \"Remove msg 2\"},\"F8DD0CA00423F4D774CF0766011BCA30F\" : {\"callback\" : {\"func\" : \"unknown\",\"id\" : \"FA6051B31B0334002FC557EA064E34781\",\"knownArgs\" : [\"<object>\"],\"requiredArgs\" : {},\"trigger\" : \"click\"},\"id\" : \"F8DD0CA00423F4D774CF0766011BCA30F\",\"menus\" : {},\"title\" : \"Put msg 1\"},\"FC3F97C37978E48F7ACDF22F2D8EEEAC7\" : {\"callback\" : {\"func\" : \"unknown\",\"id\" : \"FBD9E398833344A7ADC806BAD17402604\",\"knownArgs\" : [\"<object>\"],\"requiredArgs\" : {},\"trigger\" : \"click\"},\"id\" : \"FC3F97C37978E48F7ACDF22F2D8EEEAC7\",\"menus\" : {},\"title\" : \"Put msg 2\"}},\"messages\" : {},\"texTypesetting\" : true,\"title\" : \"test\",\"width\" : 800,\"zoomToFit\" : true},\"mime\" : \"application\\/vnd.francy+json\",\"version\" : \"1.2.4\"}"
     },
     "execution_count": 25,
     "metadata": {
      "application/vnd.francy+json": {}
     },
     "output_type": "execute_result"
    }
   ],
   "source": [
    "TestFrancyMsg:=function()\n",
    "    local canvas,msg1,msg2,graph,cbf,cb,menu;\n",
    "    \n",
    "    canvas:=Canvas(\"test\");\n",
    "    \n",
    "    msg1:=FrancyMessage(FrancyMessageType.INFO, \"Hello world!\");\n",
    "    msg2:=FrancyMessage(FrancyMessageType.INFO, \"Power to the people!\");\n",
    "    \n",
    "    graph := Graph(GraphType.DIRECTED);\n",
    "    Add(canvas,graph);\n",
    "    \n",
    "    ###################\n",
    "    cbf:=function(canvas)\n",
    "        Add(canvas,msg1);\n",
    "        return Draw(canvas);\n",
    "    end;\n",
    "    cb:=Callback(cbf,[canvas]);\n",
    "    menu:=Menu(\"Put msg 1\",cb);\n",
    "    Add(canvas,menu);\n",
    "    ###################\n",
    "    cbf:=function(canvas)\n",
    "        Remove(canvas,msg1);\n",
    "        return Draw(canvas);\n",
    "    end;\n",
    "    cb:=Callback(cbf,[canvas]);\n",
    "    menu:=Menu(\"Remove msg 1\",cb);\n",
    "    Add(canvas,menu);\n",
    "    ###################\n",
    "    cbf:=function(canvas)\n",
    "        Add(canvas,msg2);\n",
    "        return Draw(canvas);\n",
    "    end;\n",
    "    cb:=Callback(cbf,[canvas]);\n",
    "    menu:=Menu(\"Put msg 2\",cb);\n",
    "    Add(canvas,menu);\n",
    "    ###################\n",
    "    cbf:=function(canvas)\n",
    "        Remove(canvas,msg2);\n",
    "        return Draw(canvas);\n",
    "    end;\n",
    "    cb:=Callback(cbf,[canvas]);\n",
    "    menu:=Menu(\"Remove msg 2\",cb);\n",
    "    Add(canvas,menu);\n",
    "    ###################\n",
    "    cbf:=function(canvas)\n",
    "        Remove(canvas,msg1);\n",
    "        Remove(canvas,msg2);\n",
    "        return Draw(canvas);\n",
    "    end;\n",
    "    cb:=Callback(cbf,[canvas]);\n",
    "    menu:=Menu(\"Remove msgs 1,2\",cb);\n",
    "    Add(canvas,menu);\n",
    "    ###################\n",
    "    \n",
    "    return Draw(canvas);\n",
    "end;\n",
    "TestFrancyMsg();"
   ]
  },
  {
   "cell_type": "code",
   "execution_count": null,
   "id": "017f1fff-4458-4160-a890-3ca1c0849bb4",
   "metadata": {},
   "outputs": [],
   "source": []
  }
 ],
 "metadata": {
  "kernelspec": {
   "display_name": "GAP 4",
   "language": "gap",
   "name": "gap-4"
  },
  "language_info": {
   "codemirror_mode": "gap",
   "file_extension": ".g",
   "mimetype": "text/x-gap",
   "name": "GAP 4",
   "nbconvert_exporter": "",
   "pygments_lexer": "gap",
   "version": "4.13dev"
  }
 },
 "nbformat": 4,
 "nbformat_minor": 5
}
