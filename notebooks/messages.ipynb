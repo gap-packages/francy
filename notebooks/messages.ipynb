{
 "cells": [
  {
   "cell_type": "code",
   "execution_count": null,
   "id": "86e8e22a-3079-4679-8ab5-a84d7d4367e2",
   "metadata": {},
   "outputs": [
    {
     "data": {
      "text/plain": [
       "true"
      ]
     },
     "execution_count": 1,
     "metadata": {
      "text/plain": ""
     },
     "output_type": "execute_result"
    }
   ],
   "source": [
    "LoadPackage(\"francy\");"
   ]
  },
  {
   "cell_type": "code",
   "execution_count": 23,
   "id": "ba744a77-3731-4616-8387-65e43992a31a",
   "metadata": {},
   "outputs": [
    {
     "data": {
      "application/vnd.francy+json": "{\"canvas\" : {\"graph\" : {\"collapsed\" : true,\"id\" : \"FC957E285E0B14173EC9381C00B082970\",\"links\" : {},\"nodes\" : {\"F78F966D29C48478A349E56140B0752E8\" : {\"callbacks\" : {},\"color\" : \"\",\"id\" : \"F78F966D29C48478A349E56140B0752E8\",\"layer\" : 0,\"menus\" : {},\"messages\" : {\"F366688A254054F9AFC43A6EA5008CAD2\" : {\"callback\" : {\"func\" : \"Remove\",\"id\" : \"F12AC5E185BB641038431E4B4C3456293\",\"knownArgs\" : [\"<object>\",\"<object>\"],\"requiredArgs\" : {},\"trigger\" : \"click\"},\"id\" : \"F366688A254054F9AFC43A6EA5008CAD2\",\"text\" : \"Hello\",\"title\" : \"\",\"type\" : \"success\"},\"F40528265F01D48195C823DDF5A14D7CF\" : {\"callback\" : {\"func\" : \"Remove\",\"id\" : \"F3A62027A90C14B2E64ADFBE598DCAB1F\",\"knownArgs\" : [\"<object>\",\"<object>\"],\"requiredArgs\" : {},\"trigger\" : \"click\"},\"id\" : \"F40528265F01D48195C823DDF5A14D7CF\",\"text\" : \"Hello\",\"title\" : \"Oops\",\"type\" : \"error\"},\"FBADFB1FBB15143125C5771BF1E49AAAC\" : {\"callback\" : {\"func\" : \"Remove\",\"id\" : \"FBC3E1C907D124ABCB4D37AFC978D49C0\",\"knownArgs\" : [\"<object>\",\"<object>\"],\"requiredArgs\" : {},\"trigger\" : \"click\"},\"id\" : \"FBADFB1FBB15143125C5771BF1E49AAAC\",\"text\" : \"Hello\",\"title\" : \"\",\"type\" : \"warning\"},\"FE3F02797F57E4022DCE98F0FCF04CBA8\" : {\"callback\" : {\"func\" : \"Remove\",\"id\" : \"F8C1F96C773474A8154A4C46BB113E35E\",\"knownArgs\" : [\"<object>\",\"<object>\"],\"requiredArgs\" : {},\"trigger\" : \"click\"},\"id\" : \"FE3F02797F57E4022DCE98F0FCF04CBA8\",\"text\" : \"World\",\"title\" : \"Hello\",\"type\" : \"default\"},\"FEF76FDF6550246224C26BEBD124862CC\" : {\"callback\" : {\"func\" : \"Remove\",\"id\" : \"FB9F3D102AF6942D1348022740EF8E8ED\",\"knownArgs\" : [\"<object>\",\"<object>\"],\"requiredArgs\" : {},\"trigger\" : \"click\"},\"id\" : \"FEF76FDF6550246224C26BEBD124862CC\",\"text\" : \"Hello $x^2$\",\"title\" : \"\",\"type\" : \"info\"}},\"parent\" : \"\",\"size\" : 10,\"title\" : \"\",\"type\" : \"circle\",\"x\" : 0,\"y\" : 0}},\"simulation\" : true,\"type\" : \"undirected\"},\"height\" : 250,\"id\" : \"F54CD4B05DD4246E92C0525D0F611334A\",\"menus\" : {\"F1AB14F00715746C17C7A051F4C4D50D1\" : {\"callback\" : {\"func\" : \"HelloWorld\",\"id\" : \"F2A6C37797BF9484A0470FE1CE5464A41\",\"knownArgs\" : [],\"requiredArgs\" : {},\"trigger\" : \"click\"},\"id\" : \"F1AB14F00715746C17C7A051F4C4D50D1\",\"menus\" : {},\"title\" : \"Hello Menu Action\"}},\"messages\" : {\"F2ED844CBF82047CA8C0E59ECD1D25F6A\" : {\"callback\" : {\"func\" : \"Remove\",\"id\" : \"F793F564DFC7C41AD0C70B2CB648370C1\",\"knownArgs\" : [\"<object>\",\"<object>\"],\"requiredArgs\" : {},\"trigger\" : \"click\"},\"id\" : \"F2ED844CBF82047CA8C0E59ECD1D25F6A\",\"text\" : \"Hello\",\"title\" : \"Oops\",\"type\" : \"error\"},\"F36D7D8C8024E4D9B34DBDCE35F39E797\" : {\"callback\" : {\"func\" : \"Remove\",\"id\" : \"F4F18DC8FBC08428664203B7254BEDCFC\",\"knownArgs\" : [\"<object>\",\"<object>\"],\"requiredArgs\" : {},\"trigger\" : \"click\"},\"id\" : \"F36D7D8C8024E4D9B34DBDCE35F39E797\",\"text\" : \"Hello\",\"title\" : \"\",\"type\" : \"warning\"},\"F4509A7188928455C64B962BCBF295BF1\" : {\"callback\" : {\"func\" : \"Remove\",\"id\" : \"F682E684B60AC4F4CCCEED7EAB57AE7DA\",\"knownArgs\" : [\"<object>\",\"<object>\"],\"requiredArgs\" : {},\"trigger\" : \"click\"},\"id\" : \"F4509A7188928455C64B962BCBF295BF1\",\"text\" : \"World\",\"title\" : \"Hello\",\"type\" : \"default\"},\"F9A4E435F8A234BBD34DD34C838182A5C\" : {\"callback\" : {\"func\" : \"Remove\",\"id\" : \"F8F794C1FA828467404CA41218DCFC68D\",\"knownArgs\" : [\"<object>\",\"<object>\"],\"requiredArgs\" : {},\"trigger\" : \"click\"},\"id\" : \"F9A4E435F8A234BBD34DD34C838182A5C\",\"text\" : \"Hello\",\"title\" : \"\",\"type\" : \"success\"},\"FCC126CDF1E5242146C0BCE666332E9C4\" : {\"callback\" : {\"func\" : \"Remove\",\"id\" : \"F0868DA228962428204E306E7BA02C0BF\",\"knownArgs\" : [\"<object>\",\"<object>\"],\"requiredArgs\" : {},\"trigger\" : \"click\"},\"id\" : \"FCC126CDF1E5242146C0BCE666332E9C4\",\"text\" : \"Hello $x^2$\",\"title\" : \"\",\"type\" : \"info\"}},\"texTypesetting\" : true,\"title\" : \"Example Canvas \\/ Shape with Messages\",\"width\" : 800,\"zoomToFit\" : true},\"mime\" : \"application\\/vnd.francy+json\",\"version\" : \"2.0.3\"}"
     },
     "execution_count": 23,
     "metadata": {
      "application/vnd.francy+json": {}
     },
     "output_type": "execute_result"
    }
   ],
   "source": [
    "canvas5 := Canvas(\"Example Canvas / Shape with Messages\");;\n",
    "SetTexTypesetting(canvas5, true);;\n",
    "SetHeight(canvas5, 250);;\n",
    "\n",
    "graph := Graph(GraphType.UNDIRECTED);; # will go throughout graphs later\n",
    "shape := Shape(ShapeType.CIRCLE);; # will go throughout shapes later\n",
    "Add(graph, shape);;\n",
    "Add(canvas5, graph);;\n",
    "\n",
    "HelloWorld := function()\n",
    "    Add(canvas5, FrancyMessage(\"Something!\"));\n",
    "    return Draw(canvas5);\n",
    "end;;\n",
    "\n",
    "callback := Callback(HelloWorld);;\n",
    "menu := Menu(\"Hello Menu Action\", callback);;\n",
    "Add(canvas5, menu);;\n",
    "\n",
    "Add(canvas5, FrancyMessage(FrancyMessageType.INFO, \"Hello $x^2$\"));;\n",
    "Add(shape, FrancyMessage(FrancyMessageType.INFO, \"Hello $x^2$\"));;\n",
    "Add(canvas5, FrancyMessage(FrancyMessageType.ERROR, \"Oops\", \"Hello\"));;\n",
    "Add(shape, FrancyMessage(FrancyMessageType.ERROR, \"Oops\", \"Hello\"));;\n",
    "Add(canvas5, FrancyMessage(FrancyMessageType.WARNING, \"Hello\"));;\n",
    "Add(shape, FrancyMessage(FrancyMessageType.WARNING, \"Hello\"));;\n",
    "Add(canvas5, FrancyMessage(FrancyMessageType.SUCCESS, \"Hello\"));;\n",
    "Add(shape, FrancyMessage(FrancyMessageType.SUCCESS, \"Hello\"));;\n",
    "Add(canvas5, FrancyMessage(\"Hello\", \"World\"));;\n",
    "Add(shape, FrancyMessage(\"Hello\", \"World\"));;\n",
    "\n",
    "Draw(canvas5);"
   ]
  },
  {
   "cell_type": "code",
   "execution_count": null,
   "id": "40293eda-f940-46d6-92a1-5d68c26767c7",
   "metadata": {},
   "outputs": [
    {
     "data": {
      "text/plain": [
       "function(  ) ... end"
      ]
     },
     "execution_count": 24,
     "metadata": {
      "text/plain": ""
     },
     "output_type": "execute_result"
    },
    {
     "data": {
      "application/vnd.francy+json": "{\"canvas\" : {\"graph\" : {\"collapsed\" : true,\"id\" : \"FA9ED231CB4E94792E44909958FE38065\",\"links\" : {},\"nodes\" : {},\"simulation\" : true,\"type\" : \"directed\"},\"height\" : 600,\"id\" : \"FADAB64089636489B9C138F2DEEA6DF25\",\"menus\" : {\"F06668D287B154619349F2436DCD72C18\" : {\"callback\" : {\"func\" : \"unknown\",\"id\" : \"F7220CDA1859D4FB5D44E4B78F5ED59EB\",\"knownArgs\" : [\"<object>\"],\"requiredArgs\" : {},\"trigger\" : \"click\"},\"id\" : \"F06668D287B154619349F2436DCD72C18\",\"menus\" : {},\"title\" : \"Remove msg 1\"},\"F2B929BF53E274CED6C033077FD182A78\" : {\"callback\" : {\"func\" : \"unknown\",\"id\" : \"F0EFC447BC2A94F6A046EAA5CF1827861\",\"knownArgs\" : [\"<object>\"],\"requiredArgs\" : {},\"trigger\" : \"click\"},\"id\" : \"F2B929BF53E274CED6C033077FD182A78\",\"menus\" : {},\"title\" : \"Remove msgs 1,2\"},\"F55F63E4544B84A3F14A229612277EA64\" : {\"callback\" : {\"func\" : \"unknown\",\"id\" : \"F2D93B026F585424AF4DCE24E0C2A49F8\",\"knownArgs\" : [\"<object>\"],\"requiredArgs\" : {},\"trigger\" : \"click\"},\"id\" : \"F55F63E4544B84A3F14A229612277EA64\",\"menus\" : {},\"title\" : \"Put msg 1\"},\"F8DD0CA00423F4D774CF0766011BCA30F\" : {\"callback\" : {\"func\" : \"unknown\",\"id\" : \"FA6051B31B0334002FC557EA064E34781\",\"knownArgs\" : [\"<object>\"],\"requiredArgs\" : {},\"trigger\" : \"click\"},\"id\" : \"F8DD0CA00423F4D774CF0766011BCA30F\",\"menus\" : {},\"title\" : \"Remove msg 2\"},\"F94F08AE9E9724579DC4004270C597E1A\" : {\"callback\" : {\"func\" : \"unknown\",\"id\" : \"F49BDA1295C9445F6F4EC266BF0A82D84\",\"knownArgs\" : [\"<object>\"],\"requiredArgs\" : {},\"trigger\" : \"click\"},\"id\" : \"F94F08AE9E9724579DC4004270C597E1A\",\"menus\" : {},\"title\" : \"Put msg 2\"}},\"messages\" : {},\"texTypesetting\" : true,\"title\" : \"test\",\"width\" : 800,\"zoomToFit\" : true},\"mime\" : \"application\\/vnd.francy+json\",\"version\" : \"2.0.3\"}"
     },
     "execution_count": 25,
     "metadata": {
      "application/vnd.francy+json": {}
     },
     "output_type": "execute_result"
    }
   ],
   "source": [
    "TestFrancyMsg:=function()\n",
    "    local canvas,msg1,msg2,graph,cbf,cb,menu;\n",
    "    \n",
    "    canvas:=Canvas(\"test\");\n",
    "    \n",
    "    msg1:=FrancyMessage(FrancyMessageType.INFO, \"Hello world!\");\n",
    "    msg2:=FrancyMessage(FrancyMessageType.INFO, \"Power to the people!\");\n",
    "    \n",
    "    graph := Graph(GraphType.DIRECTED);\n",
    "    Add(canvas,graph);\n",
    "    \n",
    "    ###################\n",
    "    cbf:=function(canvas)\n",
    "        Add(canvas,msg1);\n",
    "        return Draw(canvas);\n",
    "    end;\n",
    "    cb:=Callback(cbf,[canvas]);\n",
    "    menu:=Menu(\"Put msg 1\",cb);\n",
    "    Add(canvas,menu);\n",
    "    ###################\n",
    "    cbf:=function(canvas)\n",
    "        Remove(canvas,msg1);\n",
    "        return Draw(canvas);\n",
    "    end;\n",
    "    cb:=Callback(cbf,[canvas]);\n",
    "    menu:=Menu(\"Remove msg 1\",cb);\n",
    "    Add(canvas,menu);\n",
    "    ###################\n",
    "    cbf:=function(canvas)\n",
    "        Add(canvas,msg2);\n",
    "        return Draw(canvas);\n",
    "    end;\n",
    "    cb:=Callback(cbf,[canvas]);\n",
    "    menu:=Menu(\"Put msg 2\",cb);\n",
    "    Add(canvas,menu);\n",
    "    ###################\n",
    "    cbf:=function(canvas)\n",
    "        Remove(canvas,msg2);\n",
    "        return Draw(canvas);\n",
    "    end;\n",
    "    cb:=Callback(cbf,[canvas]);\n",
    "    menu:=Menu(\"Remove msg 2\",cb);\n",
    "    Add(canvas,menu);\n",
    "    ###################\n",
    "    cbf:=function(canvas)\n",
    "        Remove(canvas,msg1);\n",
    "        Remove(canvas,msg2);\n",
    "        return Draw(canvas);\n",
    "    end;\n",
    "    cb:=Callback(cbf,[canvas]);\n",
    "    menu:=Menu(\"Remove msgs 1,2\",cb);\n",
    "    Add(canvas,menu);\n",
    "    ###################\n",
    "    \n",
    "    return Draw(canvas);\n",
    "end;\n",
    "TestFrancyMsg();"
   ]
  },
  {
   "cell_type": "code",
   "execution_count": null,
   "id": "017f1fff-4458-4160-a890-3ca1c0849bb4",
   "metadata": {},
   "outputs": [],
   "source": []
  }
 ],
 "metadata": {
  "kernelspec": {
   "display_name": "GAP 4",
   "language": "gap",
   "name": "gap-4"
  },
  "language_info": {
   "codemirror_mode": "gap",
   "file_extension": ".g",
   "mimetype": "text/x-gap",
   "name": "GAP 4",
   "nbconvert_exporter": "",
   "pygments_lexer": "gap",
   "version": "4.14dev"
  }
 },
 "nbformat": 4,
 "nbformat_minor": 5
}
