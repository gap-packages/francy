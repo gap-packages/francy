{
 "cells": [
  {
   "cell_type": "markdown",
   "metadata": {},
   "source": [
    " "
   ]
  },
  {
   "cell_type": "markdown",
   "metadata": {},
   "source": [
    "<hr/>\n",
    "<div style=\"display: block; margin: 50px 0 50px 0; margin-left: 5%\">\n",
    "<h1 style=\"text-align: left;\">Francy - An Interactive Discrete Mathematics Framework for GAP</h1>\n",
    "</div>"
   ]
  },
  {
   "cell_type": "markdown",
   "metadata": {},
   "source": [
    "<hr/>\n",
    "<div style=\"display: block; margin: 50px 0 50px 0\">\n",
    "    <div style=\"text-align: left; float: left;\">\n",
    "        <h2>Manuel Martins</h2>\n",
    "        <h3>Universidade Aberta, Lisbon - Portugal</h3>\n",
    "        <h4>manuelmachadomartins@gmail.com</h4>\n",
    "    </div>\n",
    "    <div style=\"text-align: left; float: right;\">\n",
    "        <h2>Markus Pfeiffer</h2>\n",
    "        <h3>University of St Andrews, St Andrews - Scotland</h3>\n",
    "        <h4>markus.pfeiffer@morphism.de</h4>\n",
    "    </div>\n",
    "</div>"
   ]
  },
  {
   "cell_type": "markdown",
   "metadata": {},
   "source": [
    "<hr/>\n",
    "<div style=\"display: block; margin: 50px 0 50px 0\">\n",
    "<h1 style=\"text-align: center\">Agenda</h1>\n",
    "\n",
    "<h3>\n",
    "    <ol type=\"1\">\n",
    "    <li>Motivation</li>\n",
    "    <li>Solution</li>\n",
    "    <li>Features</li>\n",
    "    <li>Hands-on</li>\n",
    "    <li>Future</li>\n",
    "    </ol>\n",
    "</h3>\n",
    "</div>"
   ]
  },
  {
   "cell_type": "markdown",
   "metadata": {},
   "source": [
    "<hr/>\n",
    "<div style=\"display: block; margin: 50px 0 50px 0\">\n",
    "<h1 style=\"text-align: center\">1. Motivation</h1>\n",
    "\n",
    "<h3><ul><li>Francy arose from the necessity of having a lightweight framework for building interactive graphics, generated from GAP, running primarily on the web, primarily in a Jupyter Notebook.</li></ul></h3>\n",
    "\n",
    "<h2 style=\"text-align: left; margin-left: 10%\">1.1 What is Francy?</h2>\n",
    "\n",
    "<h3>\n",
    "<ul>\n",
    "    <li>an interface to draw graphics using objects;</li>\n",
    "    <li>based on simple concepts of drawing and graph theory;</li>\n",
    "    <li>2 components:</li>\n",
    "    <ol type=\"1\">\n",
    "        <li>a GAP package that is responsible for the semantic representation of graphics;</li>\n",
    "        <li>a GUI library that is responsible for generating the actual interactive graphical representation.</li>\n",
    "    </ol>\n",
    "</ul>\n",
    "</h3>\n",
    "</div>"
   ]
  },
  {
   "cell_type": "markdown",
   "metadata": {},
   "source": [
    "<hr/>\n",
    "<div style=\"display: block; margin: 50px 0 50px 0\">\n",
    "<h1 style=\"text-align: center\">2. Solution</h1>\n",
    "\n",
    "<h2 style=\"text-align: left; margin-left: 10%\">2.1 GAP Package</h2>\n",
    "\n",
    "<h3>\n",
    "<ul>\n",
    "    <li>provides a semantic representation of graphics is provided by a thin layer.</li>\n",
    "    <li>uses JSON, a lightweight, text-based, language-independent data interchange format.</li>\n",
    "    <li>follows a JSON Schema, and is identified with the application/vnd.francy+json MIME type.</li>\n",
    "</ul>\n",
    "</h3>\n",
    "\n",
    "<h2 style=\"text-align: left; margin-left: 10%\">2.2 GUI Library - Javascript</h2>\n",
    "\n",
    "<h3>\n",
    "<ul>\n",
    "    <li>based on d3.js, for rendering the semantic representation produced by the GAP package;</li>\n",
    "    <li>this library is distributed both as a browser module and as a Jupyter extension.</li>\n",
    "</ul>\n",
    "</h3>\n",
    "\n",
    "<h2 style=\"text-align: left; margin-left: 10%\">2.3 Jupyter GAP Kernel</h2>\n",
    "\n",
    "<h3>\n",
    "<ul>\n",
    "    <li>pure GAP package that implements the Jupyter Kernel specification;</li>\n",
    "    <li>\"glues\" everything together.</li>\n",
    "</ul>\n",
    "</h3>\n",
    "\n",
    "<h3>\n",
    "The Jupyter extension can be used in Jupyter Notebooks or Jupyter Lab, using the Jupyter GAP Kernel and the MIME type application/vnd.francy+json to render the document.\n",
    "</h3>\n",
    "<h3>\n",
    "This creates an abstraction and allows the development of new GUI libraries, \n",
    "using different data rendering dependencies or even different programming languages, independently of the GAP package.\n",
    "</h3>\n",
    "</div>"
   ]
  },
  {
   "cell_type": "markdown",
   "metadata": {},
   "source": [
    "<hr/>\n",
    "<div style=\"display: block; margin: 50px 0 0 0\">\n",
    "<h1 style=\"text-align: center\">3. Features</h1>\n",
    "\n",
    "<h3>\n",
    "<ul>\n",
    "    <li>allows the creation of directed and undirected graphs, trees, line charts, bar charts and scatter charts;</li>\n",
    "    <li>enables interaction with graphical objects by clicking, selecting, dragging and zooming;</li>\n",
    "</ul>\n",
    "</h3>\n",
    "<h2 style=\"text-align: left; margin-left: 10%\">3.1 How to install</h2>\n",
    "</div>\n",
    "\n",
    "### 1. download latest release and extract the GAP package to GAP packages directory\n",
    "\n",
    "```bash\n",
    "user@local:~$ wget https://github.com/mcmartins/francy/archive/v0.8.2.tar.gz && \\\n",
    "    mkdir -p $GAPROOT/pkg/francy && \\\n",
    "    tar xzvf v0.8.2.tar.gz -C $GAPROOT/pkg/francy francy-0.8.2/gap\n",
    "```\n",
    "\n",
    "### 2. install latest jupyter extension using pip and install on Jupyter lab and/or notebook\n",
    "\n",
    "```bash\n",
    "user@local:~$ pip install jupyter_francy\n",
    "user@local:~$ jupyter lab build # for JupyterLab\n",
    "user@local:~$ jupyter nbextension enable --py --sys-prefix jupyter_francy # for Notebook\n",
    "```\n",
    "<div style=\"display: block; margin: 0 0 50px 0\"/>"
   ]
  },
  {
   "cell_type": "markdown",
   "metadata": {},
   "source": [
    "<hr/>\n",
    "<div style=\"display: block; margin: 50px 0 50px 0\">\n",
    "<h1 style=\"text-align: center\">4. Hands-on</h1>\n",
    "</div>"
   ]
  },
  {
   "cell_type": "code",
   "execution_count": 2,
   "metadata": {},
   "outputs": [
    {
     "data": {
      "text/plain": [
       "true"
      ]
     },
     "execution_count": 1,
     "metadata": {
      "text/plain": ""
     },
     "output_type": "execute_result"
    },
    {
     "data": {
      "text/plain": [
       "true"
      ]
     },
     "execution_count": 2,
     "metadata": {
      "text/plain": ""
     },
     "output_type": "execute_result"
    }
   ],
   "source": [
    "LoadPackage(\"francy\");\n",
    "LoadPackage(\"digraph\");"
   ]
  },
  {
   "cell_type": "code",
   "execution_count": 3,
   "metadata": {},
   "outputs": [
    {
     "data": {
      "text/plain": [
       "function( G ) ... end"
      ]
     },
     "execution_count": 3,
     "metadata": {
      "text/plain": ""
     },
     "output_type": "execute_result"
    }
   ],
   "source": [
    "FrancyDigraphs := function(G)\n",
    "    local as, d, v, e, graph, nodes, m, IsGroupSimple, canvas, i;\n",
    "\n",
    "    as := AllSubgroups(G);\n",
    "\n",
    "    d := Digraph(as, {H, K} -> IsSubgroup(H, K));;\n",
    "    v := DigraphVertices(d);;\n",
    "    e := DigraphEdges(d);;\n",
    "\n",
    "    graph := Graph(GraphType.DIRECTED);;\n",
    "    canvas := Canvas(Concatenation(\"Subgroups Digraph of \", String(G)));;\n",
    "    Add(canvas, graph);;\n",
    "\n",
    "    nodes := [];;\n",
    "\n",
    "    m := FrancyMessage(FrancyMessageType.INFO, \"Simple Groups\", \n",
    "        \"A group is simple if it is nontrivial and has no nontrivial normal subgroups.\");;\n",
    "    \n",
    "    IsGroupSimple := function(i)\n",
    "        Add(canvas, m);;\n",
    "        if IsSimpleGroup(as[i]) then\n",
    "            Add(canvas, FrancyMessage(\"Simple\", Concatenation(\"The vertex \", \n",
    "                String(i), \", representing the subgroup \", String(as[i]), \", is simple.\")));;\n",
    "        else\n",
    "            Add(canvas, FrancyMessage(\"Not Simple\", Concatenation(\"The vertex \", \n",
    "                String(i), \", representing the subgroup \", String(as[i]), \", is not simple.\")));;\n",
    "        fi;;\n",
    "        return Draw(canvas);\n",
    "    end;;\n",
    "\n",
    "    for i in v do\n",
    "        nodes[i] := Shape(ShapeType.CIRCLE, String(i));;\n",
    "        Add(nodes[i], Menu(\"Simple\", Callback(IsGroupSimple, [i])));;\n",
    "        Add(graph, nodes[i]);;\n",
    "    od;;\n",
    "\n",
    "    for i in e do\n",
    "        Add(graph, Link(nodes[i[1]], nodes[i[2]]));;\n",
    "    od;;\n",
    "\n",
    "    return Draw(canvas);\n",
    "end;"
   ]
  },
  {
   "cell_type": "code",
   "execution_count": 4,
   "metadata": {},
   "outputs": [
    {
     "data": {
      "text/plain": [
       "<group of size 4 with 2 generators>"
      ]
     },
     "execution_count": 4,
     "metadata": {
      "text/plain": ""
     },
     "output_type": "execute_result"
    }
   ],
   "source": [
    "G := DihedralGroup(4);"
   ]
  },
  {
   "cell_type": "code",
   "execution_count": 5,
   "metadata": {},
   "outputs": [
    {
     "data": {
      "image/svg+xml": [
       "<?xml version=\"1.0\" encoding=\"UTF-8\" standalone=\"no\"?>\n",
       "<!DOCTYPE svg PUBLIC \"-//W3C//DTD SVG 1.1//EN\"\n",
       " \"http://www.w3.org/Graphics/SVG/1.1/DTD/svg11.dtd\">\n",
       "<!-- Generated by graphviz version 2.40.1 (20161225.0304)\n",
       " -->\n",
       "<!-- Title: hgn Pages: 1 -->\n",
       "<svg width=\"220pt\" height=\"188pt\"\n",
       " viewBox=\"0.00 0.00 220.01 188.00\" xmlns=\"http://www.w3.org/2000/svg\" xmlns:xlink=\"http://www.w3.org/1999/xlink\">\n",
       "<g id=\"graph0\" class=\"graph\" transform=\"scale(1 1) rotate(0) translate(4 184)\">\n",
       "<title>hgn</title>\n",
       "<polygon fill=\"#ffffff\" stroke=\"transparent\" points=\"-4,4 -4,-184 216.0143,-184 216.0143,4 -4,4\"/>\n",
       "<!-- 1 -->\n",
       "<g id=\"node1\" class=\"node\">\n",
       "<title>1</title>\n",
       "<ellipse fill=\"none\" stroke=\"#000000\" cx=\"68.0143\" cy=\"-18\" rx=\"18\" ry=\"18\"/>\n",
       "<text text-anchor=\"middle\" x=\"68.0143\" y=\"-14.3\" font-family=\"Times,serif\" font-size=\"14.00\" fill=\"#000000\">1</text>\n",
       "</g>\n",
       "<!-- 1&#45;&gt;1 -->\n",
       "<g id=\"edge1\" class=\"edge\">\n",
       "<title>1&#45;&gt;1</title>\n",
       "<path fill=\"none\" stroke=\"#000000\" d=\"M82.056,-29.7565C92.9269,-34.1532 104.0143,-30.2344 104.0143,-18 104.0143,-9.5889 98.7738,-5.1081 91.9659,-4.5578\"/>\n",
       "<polygon fill=\"#000000\" stroke=\"#000000\" points=\"91.3274,-1.116 82.056,-6.2435 92.5014,-8.0169 91.3274,-1.116\"/>\n",
       "</g>\n",
       "<!-- 2 -->\n",
       "<g id=\"node2\" class=\"node\">\n",
       "<title>2</title>\n",
       "<ellipse fill=\"none\" stroke=\"#000000\" cx=\"32.0143\" cy=\"-90\" rx=\"18\" ry=\"18\"/>\n",
       "<text text-anchor=\"middle\" x=\"32.0143\" y=\"-86.3\" font-family=\"Times,serif\" font-size=\"14.00\" fill=\"#000000\">2</text>\n",
       "</g>\n",
       "<!-- 2&#45;&gt;1 -->\n",
       "<g id=\"edge2\" class=\"edge\">\n",
       "<title>2&#45;&gt;1</title>\n",
       "<path fill=\"none\" stroke=\"#000000\" d=\"M40.1832,-73.6621C44.648,-64.7326 50.2768,-53.475 55.3021,-43.4243\"/>\n",
       "<polygon fill=\"#000000\" stroke=\"#000000\" points=\"58.536,-44.7828 59.8777,-34.2733 52.275,-41.6523 58.536,-44.7828\"/>\n",
       "</g>\n",
       "<!-- 2&#45;&gt;2 -->\n",
       "<g id=\"edge3\" class=\"edge\">\n",
       "<title>2&#45;&gt;2</title>\n",
       "<path fill=\"none\" stroke=\"#000000\" d=\"M46.056,-101.7565C56.9269,-106.1532 68.0143,-102.2344 68.0143,-90 68.0143,-81.5889 62.7738,-77.1081 55.9659,-76.5578\"/>\n",
       "<polygon fill=\"#000000\" stroke=\"#000000\" points=\"55.3274,-73.116 46.056,-78.2435 56.5014,-80.0169 55.3274,-73.116\"/>\n",
       "</g>\n",
       "<!-- 3 -->\n",
       "<g id=\"node3\" class=\"node\">\n",
       "<title>3</title>\n",
       "<ellipse fill=\"none\" stroke=\"#000000\" cx=\"104.0143\" cy=\"-90\" rx=\"18\" ry=\"18\"/>\n",
       "<text text-anchor=\"middle\" x=\"104.0143\" y=\"-86.3\" font-family=\"Times,serif\" font-size=\"14.00\" fill=\"#000000\">3</text>\n",
       "</g>\n",
       "<!-- 3&#45;&gt;1 -->\n",
       "<g id=\"edge4\" class=\"edge\">\n",
       "<title>3&#45;&gt;1</title>\n",
       "<path fill=\"none\" stroke=\"#000000\" d=\"M95.8453,-73.6621C91.3806,-64.7326 85.7518,-53.475 80.7264,-43.4243\"/>\n",
       "<polygon fill=\"#000000\" stroke=\"#000000\" points=\"83.7536,-41.6523 76.1509,-34.2733 77.4926,-44.7828 83.7536,-41.6523\"/>\n",
       "</g>\n",
       "<!-- 3&#45;&gt;3 -->\n",
       "<g id=\"edge5\" class=\"edge\">\n",
       "<title>3&#45;&gt;3</title>\n",
       "<path fill=\"none\" stroke=\"#000000\" d=\"M118.056,-101.7565C128.9269,-106.1532 140.0143,-102.2344 140.0143,-90 140.0143,-81.5889 134.7738,-77.1081 127.9659,-76.5578\"/>\n",
       "<polygon fill=\"#000000\" stroke=\"#000000\" points=\"127.3274,-73.116 118.056,-78.2435 128.5014,-80.0169 127.3274,-73.116\"/>\n",
       "</g>\n",
       "<!-- 4 -->\n",
       "<g id=\"node4\" class=\"node\">\n",
       "<title>4</title>\n",
       "<ellipse fill=\"none\" stroke=\"#000000\" cx=\"176.0143\" cy=\"-90\" rx=\"18\" ry=\"18\"/>\n",
       "<text text-anchor=\"middle\" x=\"176.0143\" y=\"-86.3\" font-family=\"Times,serif\" font-size=\"14.00\" fill=\"#000000\">4</text>\n",
       "</g>\n",
       "<!-- 4&#45;&gt;1 -->\n",
       "<g id=\"edge6\" class=\"edge\">\n",
       "<title>4&#45;&gt;1</title>\n",
       "<path fill=\"none\" stroke=\"#000000\" d=\"M160.9973,-79.9887C143.0443,-68.02 112.7818,-47.845 91.6747,-33.7736\"/>\n",
       "<polygon fill=\"#000000\" stroke=\"#000000\" points=\"93.5138,-30.7932 83.2518,-28.1584 89.6309,-36.6176 93.5138,-30.7932\"/>\n",
       "</g>\n",
       "<!-- 4&#45;&gt;4 -->\n",
       "<g id=\"edge7\" class=\"edge\">\n",
       "<title>4&#45;&gt;4</title>\n",
       "<path fill=\"none\" stroke=\"#000000\" d=\"M190.056,-101.7565C200.9269,-106.1532 212.0143,-102.2344 212.0143,-90 212.0143,-81.5889 206.7738,-77.1081 199.9659,-76.5578\"/>\n",
       "<polygon fill=\"#000000\" stroke=\"#000000\" points=\"199.3274,-73.116 190.056,-78.2435 200.5014,-80.0169 199.3274,-73.116\"/>\n",
       "</g>\n",
       "<!-- 5 -->\n",
       "<g id=\"node5\" class=\"node\">\n",
       "<title>5</title>\n",
       "<ellipse fill=\"none\" stroke=\"#000000\" cx=\"68.0143\" cy=\"-162\" rx=\"18\" ry=\"18\"/>\n",
       "<text text-anchor=\"middle\" x=\"68.0143\" y=\"-158.3\" font-family=\"Times,serif\" font-size=\"14.00\" fill=\"#000000\">5</text>\n",
       "</g>\n",
       "<!-- 5&#45;&gt;1 -->\n",
       "<g id=\"edge8\" class=\"edge\">\n",
       "<title>5&#45;&gt;1</title>\n",
       "<path fill=\"none\" stroke=\"#000000\" d=\"M51.8562,-153.5796C36.57,-144.6005 14.5852,-128.8093 5.0143,-108 -1.6714,-93.4638 -1.6714,-86.5362 5.0143,-72 12.8654,-54.9299 29.07,-41.2365 43.078,-31.9101\"/>\n",
       "<polygon fill=\"#000000\" stroke=\"#000000\" points=\"45.2335,-34.6903 51.8562,-26.4204 41.5218,-28.7553 45.2335,-34.6903\"/>\n",
       "</g>\n",
       "<!-- 5&#45;&gt;2 -->\n",
       "<g id=\"edge9\" class=\"edge\">\n",
       "<title>5&#45;&gt;2</title>\n",
       "<path fill=\"none\" stroke=\"#000000\" d=\"M59.8453,-145.6621C55.3806,-136.7326 49.7518,-125.475 44.7264,-115.4243\"/>\n",
       "<polygon fill=\"#000000\" stroke=\"#000000\" points=\"47.7536,-113.6523 40.1509,-106.2733 41.4926,-116.7828 47.7536,-113.6523\"/>\n",
       "</g>\n",
       "<!-- 5&#45;&gt;3 -->\n",
       "<g id=\"edge10\" class=\"edge\">\n",
       "<title>5&#45;&gt;3</title>\n",
       "<path fill=\"none\" stroke=\"#000000\" d=\"M76.1832,-145.6621C80.648,-136.7326 86.2768,-125.475 91.3021,-115.4243\"/>\n",
       "<polygon fill=\"#000000\" stroke=\"#000000\" points=\"94.536,-116.7828 95.8777,-106.2733 88.275,-113.6523 94.536,-116.7828\"/>\n",
       "</g>\n",
       "<!-- 5&#45;&gt;4 -->\n",
       "<g id=\"edge11\" class=\"edge\">\n",
       "<title>5&#45;&gt;4</title>\n",
       "<path fill=\"none\" stroke=\"#000000\" d=\"M83.0312,-151.9887C100.9843,-140.02 131.2468,-119.845 152.3539,-105.7736\"/>\n",
       "<polygon fill=\"#000000\" stroke=\"#000000\" points=\"154.3977,-108.6176 160.7767,-100.1584 150.5147,-102.7932 154.3977,-108.6176\"/>\n",
       "</g>\n",
       "<!-- 5&#45;&gt;5 -->\n",
       "<g id=\"edge12\" class=\"edge\">\n",
       "<title>5&#45;&gt;5</title>\n",
       "<path fill=\"none\" stroke=\"#000000\" d=\"M82.056,-173.7565C92.9269,-178.1532 104.0143,-174.2344 104.0143,-162 104.0143,-153.5889 98.7738,-149.1081 91.9659,-148.5578\"/>\n",
       "<polygon fill=\"#000000\" stroke=\"#000000\" points=\"91.3274,-145.116 82.056,-150.2435 92.5014,-152.0169 91.3274,-145.116\"/>\n",
       "</g>\n",
       "</g>\n",
       "</svg>\n"
      ]
     },
     "execution_count": 5,
     "metadata": {
      "image/svg+xml": {
       "height": 500,
       "width": 500
      }
     },
     "output_type": "execute_result"
    }
   ],
   "source": [
    "JupyterSplashDot(DotDigraph(Digraph(AllSubgroups(G), {H, K} -> IsSubgroup(H, K))));"
   ]
  },
  {
   "cell_type": "code",
   "execution_count": 6,
   "metadata": {},
   "outputs": [
    {
     "data": {
      "application/vnd.francy+json": "{\"version\" : \"1.2.4\",\"mime\" : \"application\\/vnd.francy+json\",\"canvas\" : {\"width\" : 800,\"id\" : \"F2\",\"height\" : 600,\"title\" : \"Subgroups Digraph of Group( [ f1, f2 ] )\",\"zoomToFit\" : true,\"texTypesetting\" : false,\"menus\" : {},\"graph\" : {\"type\" : \"directed\",\"id\" : \"F1\",\"simulation\" : true,\"collapsed\" : true,\"nodes\" : {\"F4\" : {\"x\" : 0,\"y\" : 0,\"type\" : \"circle\",\"id\" : \"F4\",\"size\" : 10,\"title\" : \"1\",\"layer\" : 0,\"color\" : \"\",\"parent\" : \"\",\"menus\" : {\"F6\" : {\"id\" : \"F6\",\"title\" : \"Simple\",\"callback\" : {\"func\" : \"unknown\",\"id\" : \"F5\",\"trigger\" : \"click\",\"knownArgs\" : [\"1\"],\"requiredArgs\" : {}},\"menus\" : {}}},\"messages\" : {},\"callbacks\" : {}},\"F7\" : {\"x\" : 0,\"y\" : 0,\"type\" : \"circle\",\"id\" : \"F7\",\"size\" : 10,\"title\" : \"2\",\"layer\" : 0,\"color\" : \"\",\"parent\" : \"\",\"menus\" : {\"F9\" : {\"id\" : \"F9\",\"title\" : \"Simple\",\"callback\" : {\"func\" : \"unknown\",\"id\" : \"F8\",\"trigger\" : \"click\",\"knownArgs\" : [\"2\"],\"requiredArgs\" : {}},\"menus\" : {}}},\"messages\" : {},\"callbacks\" : {}},\"F10\" : {\"x\" : 0,\"y\" : 0,\"type\" : \"circle\",\"id\" : \"F10\",\"size\" : 10,\"title\" : \"3\",\"layer\" : 0,\"color\" : \"\",\"parent\" : \"\",\"menus\" : {\"F12\" : {\"id\" : \"F12\",\"title\" : \"Simple\",\"callback\" : {\"func\" : \"unknown\",\"id\" : \"F11\",\"trigger\" : \"click\",\"knownArgs\" : [\"3\"],\"requiredArgs\" : {}},\"menus\" : {}}},\"messages\" : {},\"callbacks\" : {}},\"F13\" : {\"x\" : 0,\"y\" : 0,\"type\" : \"circle\",\"id\" : \"F13\",\"size\" : 10,\"title\" : \"4\",\"layer\" : 0,\"color\" : \"\",\"parent\" : \"\",\"menus\" : {\"F15\" : {\"id\" : \"F15\",\"title\" : \"Simple\",\"callback\" : {\"func\" : \"unknown\",\"id\" : \"F14\",\"trigger\" : \"click\",\"knownArgs\" : [\"4\"],\"requiredArgs\" : {}},\"menus\" : {}}},\"messages\" : {},\"callbacks\" : {}},\"F16\" : {\"x\" : 0,\"y\" : 0,\"type\" : \"circle\",\"id\" : \"F16\",\"size\" : 10,\"title\" : \"5\",\"layer\" : 0,\"color\" : \"\",\"parent\" : \"\",\"menus\" : {\"F18\" : {\"id\" : \"F18\",\"title\" : \"Simple\",\"callback\" : {\"func\" : \"unknown\",\"id\" : \"F17\",\"trigger\" : \"click\",\"knownArgs\" : [\"5\"],\"requiredArgs\" : {}},\"menus\" : {}}},\"messages\" : {},\"callbacks\" : {}}},\"links\" : {\"F19\" : {\"id\" : \"F19\",\"source\" : \"F4\",\"length\" : 0,\"weight\" : 0,\"target\" : \"F4\",\"color\" : \"\",\"invisible\" : false},\"F20\" : {\"id\" : \"F20\",\"source\" : \"F7\",\"length\" : 0,\"weight\" : 0,\"target\" : \"F4\",\"color\" : \"\",\"invisible\" : false},\"F21\" : {\"id\" : \"F21\",\"source\" : \"F7\",\"length\" : 0,\"weight\" : 0,\"target\" : \"F7\",\"color\" : \"\",\"invisible\" : false},\"F22\" : {\"id\" : \"F22\",\"source\" : \"F10\",\"length\" : 0,\"weight\" : 0,\"target\" : \"F4\",\"color\" : \"\",\"invisible\" : false},\"F23\" : {\"id\" : \"F23\",\"source\" : \"F10\",\"length\" : 0,\"weight\" : 0,\"target\" : \"F10\",\"color\" : \"\",\"invisible\" : false},\"F24\" : {\"id\" : \"F24\",\"source\" : \"F13\",\"length\" : 0,\"weight\" : 0,\"target\" : \"F4\",\"color\" : \"\",\"invisible\" : false},\"F25\" : {\"id\" : \"F25\",\"source\" : \"F13\",\"length\" : 0,\"weight\" : 0,\"target\" : \"F13\",\"color\" : \"\",\"invisible\" : false},\"F26\" : {\"id\" : \"F26\",\"source\" : \"F16\",\"length\" : 0,\"weight\" : 0,\"target\" : \"F4\",\"color\" : \"\",\"invisible\" : false},\"F27\" : {\"id\" : \"F27\",\"source\" : \"F16\",\"length\" : 0,\"weight\" : 0,\"target\" : \"F7\",\"color\" : \"\",\"invisible\" : false},\"F28\" : {\"id\" : \"F28\",\"source\" : \"F16\",\"length\" : 0,\"weight\" : 0,\"target\" : \"F10\",\"color\" : \"\",\"invisible\" : false},\"F29\" : {\"id\" : \"F29\",\"source\" : \"F16\",\"length\" : 0,\"weight\" : 0,\"target\" : \"F13\",\"color\" : \"\",\"invisible\" : false},\"F30\" : {\"id\" : \"F30\",\"source\" : \"F16\",\"length\" : 0,\"weight\" : 0,\"target\" : \"F16\",\"color\" : \"\",\"invisible\" : false}}},\"messages\" : {}}}"
     },
     "execution_count": 6,
     "metadata": {
      "application/vnd.francy+json": {}
     },
     "output_type": "execute_result"
    }
   ],
   "source": [
    "FrancyDigraphs(G);"
   ]
  },
  {
   "cell_type": "markdown",
   "metadata": {},
   "source": [
    "<h2 style=\"text-align: left; margin-left: 10%\">4.1 More examples</h2>\n",
    "\n",
    "<h3>Try these notebooks:</h3>\n",
    "\n",
    "1. [Francy Features](francy-features.ipynb)\n",
    "2. [Subgroup Lattice](subgroup-lattice.ipynb)\n",
    "3. [Francy Monoids](francy-monoids.ipynb)"
   ]
  },
  {
   "cell_type": "markdown",
   "metadata": {},
   "source": [
    "<hr/>\n",
    "<div style=\"display: block; margin: 50px 0 50px 0\">\n",
    "<h1 style=\"text-align: center\">5. Future</h1>\n",
    "\n",
    "<h3>\n",
    "<ul>\n",
    "    <li>rendering multiple topological graphs on the same canvas.</li>\n",
    "    <li>allow the creation of \"free graphics\" using lines and text.</li>\n",
    "    <li>introduce new concepts like tables for matrices representations.</li>\n",
    "    <li>validate the JSON against its JSON Schema between GAP and GUI.</li>\n",
    "    <li>rendering is done on SVG which might be \"heavy\" when loading huge graphs.</li>\n",
    "<ul>\n",
    "</h3>\n",
    "</div>"
   ]
  },
  {
   "cell_type": "markdown",
   "metadata": {},
   "source": [
    "<hr/>\n",
    "<div style=\"display: block; margin: 50px 0 50px 0\">\n",
    "<h1 style=\"text-align: center\">Questions?</h1>\n",
    "<br/>\n",
    "<h1 style=\"margin-left: 10%\">Thanks!</h1>\n",
    "</div>"
   ]
  },
  {
   "cell_type": "code",
   "execution_count": null,
   "metadata": {},
   "outputs": [],
   "source": []
  }
 ],
 "metadata": {
  "kernelspec": {
   "display_name": "GAP 4",
   "language": "gap",
   "name": "gap-4"
  },
  "language_info": {
   "codemirror_mode": "gap",
   "file_extension": ".g",
   "mimetype": "text/x-gap",
   "name": "GAP 4",
   "nbconvert_exporter": "",
   "pygments_lexer": "gap",
   "version": "4.dev"
  }
 },
 "nbformat": 4,
 "nbformat_minor": 2
}
