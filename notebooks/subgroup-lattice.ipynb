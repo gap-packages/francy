{
 "cells": [
  {
   "cell_type": "markdown",
   "metadata": {},
   "source": [
    "# Subgroup Lattice"
   ]
  },
  {
   "cell_type": "markdown",
   "metadata": {},
   "source": [
    "This is a draft version of the Subgroup Lattice module, inspired by the XGAP version, and implements few features. At the moment is possible to explore the lattice by right clicking a node and explore its properties, and by generating all subgroups lattice."
   ]
  },
  {
   "cell_type": "code",
   "execution_count": 1,
   "metadata": {},
   "outputs": [
    {
     "data": {
      "text/plain": [
       "true"
      ]
     },
     "execution_count": 1,
     "metadata": {
      "text/plain": ""
     },
     "output_type": "execute_result"
    }
   ],
   "source": [
    "LoadPackage(\"subgrouplattice\");"
   ]
  },
  {
   "cell_type": "code",
   "execution_count": 12,
   "metadata": {
    "scrolled": false
   },
   "outputs": [
    {
     "data": {
      "text/plain": [
       "Sym( [ 1 .. 5 ] )"
      ]
     },
     "execution_count": 11,
     "metadata": {
      "text/plain": ""
     },
     "output_type": "execute_result"
    },
    {
     "data": {
      "application/vnd.francy+json": "{\"version\" : \"1.2.4\",\"mime\" : \"application\\/vnd.francy+json\",\"canvas\" : {\"width\" : 800,\"id\" : \"F5593\",\"height\" : 600,\"title\" : \"GraphicSubgroupLattice\",\"zoomToFit\" : true,\"texTypesetting\" : false,\"menus\" : {\"F5635\" : {\"id\" : \"F5635\",\"title\" : \"Subgroup Lattice\",\"callback\" : {},\"menus\" : {\"F5637\" : {\"id\" : \"F5637\",\"title\" : \"All Subgroups\",\"callback\" : {\"func\" : \"unknown\",\"id\" : \"F5636\",\"trigger\" : \"click\",\"knownArgs\" : [\"<object>\",\"SymmetricGroup( [ 1 .. 5 ] )\"],\"requiredArgs\" : {}},\"menus\" : {}}}}},\"graph\" : {\"type\" : \"directed\",\"id\" : \"F5595\",\"simulation\" : true,\"collapsed\" : true,\"nodes\" : {\"F5596\" : {\"x\" : 0,\"y\" : 0,\"type\" : \"diamond\",\"id\" : \"F5596\",\"size\" : 10,\"title\" : \"G\",\"layer\" : -4,\"parent\" : \"\",\"color\" : \"\",\"selected\" : true,\"menus\" : {\"F5598\" : {\"id\" : \"F5598\",\"title\" : \"Size\",\"callback\" : {\"func\" : \"unknown\",\"id\" : \"F5597\",\"trigger\" : \"click\",\"knownArgs\" : [\"<object>\",\"Group( [ (4,5), (1,2,4,3) ] )\"],\"requiredArgs\" : {}},\"menus\" : {}},\"F5600\" : {\"id\" : \"F5600\",\"title\" : \"IsAbelian\",\"callback\" : {\"func\" : \"unknown\",\"id\" : \"F5599\",\"trigger\" : \"click\",\"knownArgs\" : [\"<object>\",\"Group( [ (4,5), (1,2,4,3) ] )\"],\"requiredArgs\" : {}},\"menus\" : {}},\"F5602\" : {\"id\" : \"F5602\",\"title\" : \"IsCyclic\",\"callback\" : {\"func\" : \"unknown\",\"id\" : \"F5601\",\"trigger\" : \"click\",\"knownArgs\" : [\"<object>\",\"Group( [ (4,5), (1,2,4,3) ] )\"],\"requiredArgs\" : {}},\"menus\" : {}},\"F5604\" : {\"id\" : \"F5604\",\"title\" : \"IsNilpotent\",\"callback\" : {\"func\" : \"unknown\",\"id\" : \"F5603\",\"trigger\" : \"click\",\"knownArgs\" : [\"<object>\",\"Group( [ (4,5), (1,2,4,3) ] )\"],\"requiredArgs\" : {}},\"menus\" : {}},\"F5606\" : {\"id\" : \"F5606\",\"title\" : \"IsNormal\",\"callback\" : {\"func\" : \"unknown\",\"id\" : \"F5605\",\"trigger\" : \"click\",\"knownArgs\" : [\"<object>\",\"Group( [ (4,5), (1,2,4,3) ] )\",\"SymmetricGroup( [ 1 .. 5 ] )\"],\"requiredArgs\" : {}},\"menus\" : {}},\"F5608\" : {\"id\" : \"F5608\",\"title\" : \"IsPerfect\",\"callback\" : {\"func\" : \"unknown\",\"id\" : \"F5607\",\"trigger\" : \"click\",\"knownArgs\" : [\"<object>\",\"Group( [ (4,5), (1,2,4,3) ] )\"],\"requiredArgs\" : {}},\"menus\" : {}},\"F5610\" : {\"id\" : \"F5610\",\"title\" : \"IsSimple\",\"callback\" : {\"func\" : \"unknown\",\"id\" : \"F5609\",\"trigger\" : \"click\",\"knownArgs\" : [\"<object>\",\"Group( [ (4,5), (1,2,4,3) ] )\"],\"requiredArgs\" : {}},\"menus\" : {}},\"F5612\" : {\"id\" : \"F5612\",\"title\" : \"IsSolvable\",\"callback\" : {\"func\" : \"unknown\",\"id\" : \"F5611\",\"trigger\" : \"click\",\"knownArgs\" : [\"<object>\",\"Group( [ (4,5), (1,2,4,3) ] )\"],\"requiredArgs\" : {}},\"menus\" : {}},\"F5614\" : {\"id\" : \"F5614\",\"title\" : \"Isomorphism\",\"callback\" : {\"func\" : \"unknown\",\"id\" : \"F5613\",\"trigger\" : \"click\",\"knownArgs\" : [\"<object>\",\"Group( [ (4,5), (1,2,4,3) ] )\"],\"requiredArgs\" : {}},\"menus\" : {}}},\"messages\" : {},\"callbacks\" : {}},\"F5615\" : {\"x\" : 0,\"y\" : 0,\"type\" : \"diamond\",\"id\" : \"F5615\",\"size\" : 10,\"title\" : \"1\",\"layer\" : 0,\"parent\" : \"\",\"color\" : \"\",\"menus\" : {\"F5617\" : {\"id\" : \"F5617\",\"title\" : \"Size\",\"callback\" : {\"func\" : \"unknown\",\"id\" : \"F5616\",\"trigger\" : \"click\",\"knownArgs\" : [\"<object>\",\"Group( () )\"],\"requiredArgs\" : {}},\"menus\" : {}},\"F5619\" : {\"id\" : \"F5619\",\"title\" : \"IsAbelian\",\"callback\" : {\"func\" : \"unknown\",\"id\" : \"F5618\",\"trigger\" : \"click\",\"knownArgs\" : [\"<object>\",\"Group( () )\"],\"requiredArgs\" : {}},\"menus\" : {}},\"F5621\" : {\"id\" : \"F5621\",\"title\" : \"IsCyclic\",\"callback\" : {\"func\" : \"unknown\",\"id\" : \"F5620\",\"trigger\" : \"click\",\"knownArgs\" : [\"<object>\",\"Group( () )\"],\"requiredArgs\" : {}},\"menus\" : {}},\"F5623\" : {\"id\" : \"F5623\",\"title\" : \"IsNilpotent\",\"callback\" : {\"func\" : \"unknown\",\"id\" : \"F5622\",\"trigger\" : \"click\",\"knownArgs\" : [\"<object>\",\"Group( () )\"],\"requiredArgs\" : {}},\"menus\" : {}},\"F5625\" : {\"id\" : \"F5625\",\"title\" : \"IsNormal\",\"callback\" : {\"func\" : \"unknown\",\"id\" : \"F5624\",\"trigger\" : \"click\",\"knownArgs\" : [\"<object>\",\"Group( () )\",\"SymmetricGroup( [ 1 .. 5 ] )\"],\"requiredArgs\" : {}},\"menus\" : {}},\"F5627\" : {\"id\" : \"F5627\",\"title\" : \"IsPerfect\",\"callback\" : {\"func\" : \"unknown\",\"id\" : \"F5626\",\"trigger\" : \"click\",\"knownArgs\" : [\"<object>\",\"Group( () )\"],\"requiredArgs\" : {}},\"menus\" : {}},\"F5629\" : {\"id\" : \"F5629\",\"title\" : \"IsSimple\",\"callback\" : {\"func\" : \"unknown\",\"id\" : \"F5628\",\"trigger\" : \"click\",\"knownArgs\" : [\"<object>\",\"Group( () )\"],\"requiredArgs\" : {}},\"menus\" : {}},\"F5631\" : {\"id\" : \"F5631\",\"title\" : \"IsSolvable\",\"callback\" : {\"func\" : \"unknown\",\"id\" : \"F5630\",\"trigger\" : \"click\",\"knownArgs\" : [\"<object>\",\"Group( () )\"],\"requiredArgs\" : {}},\"menus\" : {}},\"F5633\" : {\"id\" : \"F5633\",\"title\" : \"Isomorphism\",\"callback\" : {\"func\" : \"unknown\",\"id\" : \"F5632\",\"trigger\" : \"click\",\"knownArgs\" : [\"<object>\",\"Group( () )\"],\"requiredArgs\" : {}},\"menus\" : {}}},\"messages\" : {},\"callbacks\" : {}}},\"links\" : {\"F5634\" : {\"id\" : \"F5634\",\"source\" : \"F5615\",\"length\" : 0,\"weight\" : 0,\"target\" : \"F5596\",\"color\" : \"\",\"invisible\" : false}}},\"messages\" : {\"F5594\" : {\"type\" : \"default\",\"id\" : \"F5594\",\"text\" : \"There are 16 levels in this Group.\",\"title\" : \"\"}},\"latticeType\" : {\"menus\" : [\"rec( func := function ( poset, G ) local L, cls, len, sz, graphHasse, max, rep, z, t, i, j, k, nodes, last, knownArgs, m, cb; L := LatticeSubgroups( G ); cls := ConjugacyClassesSubgroups( L ); len := [ ]; sz := [ ]; for i in cls do Add( len, Size( i ) ); AddSet( sz, Size( Representative( i ) ) ); od; graphHasse := poset!.graph; graphHasse!.nodes := rec( ); graphHasse!.links := rec( ); nodes := [ ]; sz := Reversed( sz ); for i in [ 1 .. Length( cls ) ] do nodes[i] := [ ]; for j in [ 1 .. len[i] ] do if len[i] = 1 then nodes[i][j] := Shape( ShapeType.DIAMOND, String( i ) ); else nodes[i][j] := Shape( ShapeType.CIRCLE, String( i ) ); fi; SetLayer( nodes[i][j], - Size( Representative( cls[i] ) ) ); for m in poset!.latticeType.contextMenus do knownArgs := [ poset, Representative( cls[i] ) ]; if m.group = true then Add( knownArgs, G ); fi; cb := Callback( m.func, knownArgs ); Add( nodes[i][j], Menu( m.name, cb ) ); od; if i = Length( cls ) and j = len[i] then SetTitle( nodes[i][j], \\\"G\\\" ); fi; Add( graphHasse, nodes[i][j] ); od; od; last := rec( o := 0, n := 0 ); for i in [ 1 .. Length( cls ) ] do for j in [ 1 .. len[i] ] do if Layer( nodes[i][j] ) <> last.o then last.o := Layer( nodes[i][j] ); last.n := last.n - 2; fi; SetLayer( nodes[i][j], last.n ); od; od; max := MaximalSubgroupsLattice( L ); for i in [ 1 .. Length( cls ) ] do for j in max[i] do rep := ClassElementLattice( cls[i], 1 ); for k in [ 1 .. len[i] ] do if k = 1 then z := j[2]; else t := cls[i]!.normalizerTransversal[k]; z := ClassElementLattice( cls[j[1]], 1 ); z := cls[j[1]]!.normalizerTransversal[j[2]] * t; z := PositionCanonical( cls[j[1]]!.normalizerTransversal, z ); fi; Add( graphHasse, Link( nodes[j[1]][z], nodes[i][k] ) ); od; od; od; return Draw( poset ); end, group := true, multiple := false, name := \\\"All Subgroups\\\" )\"],\"contextMenus\" : [\"rec( func := function ( poset, n ) local message; message := FrancyMessage( FrancyMessageType.INFO, \\\"Size\\\", String( Size( n ) ) ); Add( poset, message ); return Draw( poset ); end, group := false, name := \\\"Size\\\" )\",\"rec( func := function ( poset, n ) local message; message := FrancyMessage( FrancyMessageType.INFO, \\\"Is commutative?\\\", String( IsCommutative( n ) ) ); Add( poset, message ); return Draw( poset ); end, group := false, name := \\\"IsAbelian\\\" )\",\"rec( func := function ( poset, n ) local message; message := FrancyMessage( FrancyMessageType.INFO, \\\"Is cyclic?\\\", String( IsCyclic( n ) ) ); Add( poset, message ); return Draw( poset ); end, group := false, name := \\\"IsCyclic\\\" )\",\"rec( func := function ( poset, n ) local message; message := FrancyMessage( FrancyMessageType.INFO, \\\"Is NilpotentGroup?\\\", String( IsNilpotentGroup( n ) ) ); Add( poset, message ); return Draw( poset ); end, group := false, name := \\\"IsNilpotent\\\" )\",\"rec( func := function ( poset, n ) local message; message := FrancyMessage( FrancyMessageType.INFO, \\\"Is normal?\\\", String( IsNormal( n ) ) ); Add( poset, message ); return Draw( poset ); end, group := true, name := \\\"IsNormal\\\" )\",\"rec( func := function ( poset, n ) local message; message := FrancyMessage( FrancyMessageType.INFO, \\\"Is perfect group?\\\", String( IsPerfectGroup( n ) ) ); Add( poset, message ); return Draw( poset ); end, group := false, name := \\\"IsPerfect\\\" )\",\"rec( func := function ( poset, n ) local message; message := FrancyMessage( FrancyMessageType.INFO, \\\"Is simple group?\\\", String( IsSimpleGroup( n ) ) ); Add( poset, message ); return Draw( poset ); end, group := false, name := \\\"IsSimple\\\" )\",\"rec( func := function ( poset, n ) local message; message := FrancyMessage( FrancyMessageType.INFO, \\\"Is solvable group?\\\", String( IsSolvableGroup( n ) ) ); Add( poset, message ); return Draw( poset ); end, group := false, name := \\\"IsSolvable\\\" )\",\"rec( func := function ( poset, n ) local message; message := FrancyMessage( FrancyMessageType.INFO, \\\"Isomorphism\\\", String( IdGroup( n ) ) ); Add( poset, message ); return Draw( poset ); end, group := false, name := \\\"Isomorphism\\\" )\"],\"knowsLevels\" : true,\"trivial\" : true,\"hasse\" : true,\"canCompare\" : true}}}"
     },
     "execution_count": 12,
     "metadata": {
      "application/vnd.francy+json": {}
     },
     "output_type": "execute_result"
    }
   ],
   "source": [
    "G := SymmetricGroup(5); #G := PSL(2, 7); #G := DihedralGroup(44);\n",
    "GraphicSubgroupLattice(G);"
   ]
  },
  {
   "cell_type": "code",
   "execution_count": null,
   "metadata": {},
   "outputs": [],
   "source": []
  }
 ],
 "metadata": {
  "kernelspec": {
   "display_name": "GAP 4",
   "language": "gap",
   "name": "gap-4"
  },
  "language_info": {
   "codemirror_mode": "gap",
   "file_extension": ".g",
   "mimetype": "text/x-gap",
   "name": "GAP 4",
   "nbconvert_exporter": "",
   "pygments_lexer": "gap",
   "version": "4.dev"
  }
 },
 "nbformat": 4,
 "nbformat_minor": 2
}
