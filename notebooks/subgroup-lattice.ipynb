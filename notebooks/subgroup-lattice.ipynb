{
 "cells": [
  {
   "cell_type": "markdown",
   "metadata": {},
   "source": [
    "# Subgroup Lattice"
   ]
  },
  {
   "cell_type": "markdown",
   "metadata": {},
   "source": [
    "This is a draft version of the Subgroup Lattice module, inspired by the XGAP version, and implements few features. At the moment is possible to explore the lattice by right clicking a node and explore its properties, and by generating all subgroups lattice."
   ]
  },
  {
   "cell_type": "code",
   "execution_count": 1,
   "metadata": {},
   "outputs": [
    {
     "name": "stdout",
     "output_type": "stream",
     "text": [
      "#E  component `License' must be bound to a nonempty string containing an SPDX \\\n",
      "ID\n",
      "#E Validation of package subgrouplattice from /opt/master/pkg/subgroup-lattice\\\n",
      "/ failed\n"
     ]
    },
    {
     "data": {
      "text/plain": [
       "true"
      ]
     },
     "execution_count": 1,
     "metadata": {
      "text/plain": ""
     },
     "output_type": "execute_result"
    }
   ],
   "source": [
    "LoadPackage(\"subgrouplattice\");"
   ]
  },
  {
   "cell_type": "code",
   "execution_count": 3,
   "metadata": {},
   "outputs": [
    {
     "data": {
      "text/plain": [
       "Sym( [ 1 .. 5 ] )"
      ]
     },
     "execution_count": 2,
     "metadata": {
      "text/plain": ""
     },
     "output_type": "execute_result"
    },
    {
     "data": {
      "application/vnd.francy+json": "{\"canvas\" : {\"graph\" : {\"collapsed\" : true,\"id\" : \"F334DE0F3A9274F09AC133BF44D541601\",\"links\" : {\"F0B5D0EAD560D44435482C4D808E51F92\" : {\"color\" : \"\",\"id\" : \"F0B5D0EAD560D44435482C4D808E51F92\",\"invisible\" : false,\"length\" : 0,\"source\" : \"FD19968E271394AB3ECA4C7C764700C9F\",\"target\" : \"F81BE1DB2766E4E0A9CD23BF440168CEA\",\"weight\" : 0}},\"nodes\" : {\"F81BE1DB2766E4E0A9CD23BF440168CEA\" : {\"callbacks\" : {},\"color\" : \"\",\"id\" : \"F81BE1DB2766E4E0A9CD23BF440168CEA\",\"layer\" : -4,\"menus\" : {\"F186A671D56DB4CBF24847C5532A29236\" : {\"callback\" : {\"func\" : \"unknown\",\"id\" : \"F5D89EB47B1F0421CE4434B8E483C58C8\",\"knownArgs\" : [\"<object>\",\"Group( [ (4,5), (1,2,4,3) ] )\",\"SymmetricGroup( [ 1 .. 5 ] )\"],\"requiredArgs\" : {},\"trigger\" : \"click\"},\"id\" : \"F186A671D56DB4CBF24847C5532A29236\",\"menus\" : {},\"title\" : \"IsNormal\"},\"F1F4D8F5F726D47B3243F58B76C072A34\" : {\"callback\" : {\"func\" : \"unknown\",\"id\" : \"FBC0F9084A94D4A5154300512E8CE86EA\",\"knownArgs\" : [\"<object>\",\"Group( [ (4,5), (1,2,4,3) ] )\"],\"requiredArgs\" : {},\"trigger\" : \"click\"},\"id\" : \"F1F4D8F5F726D47B3243F58B76C072A34\",\"menus\" : {},\"title\" : \"IsNilpotent\"},\"F3681C01F468747553443F84B4B8320DD\" : {\"callback\" : {\"func\" : \"unknown\",\"id\" : \"F4A1E02260B3A4C51DCBCCD8E6E830FE3\",\"knownArgs\" : [\"<object>\",\"Group( [ (4,5), (1,2,4,3) ] )\"],\"requiredArgs\" : {},\"trigger\" : \"click\"},\"id\" : \"F3681C01F468747553443F84B4B8320DD\",\"menus\" : {},\"title\" : \"IsCyclic\"},\"F5AA94FA3ABB8412CFC6FF39225646FAF\" : {\"callback\" : {\"func\" : \"unknown\",\"id\" : \"FBAF3C717AD00479134BDCECE8A99C016\",\"knownArgs\" : [\"<object>\",\"Group( [ (4,5), (1,2,4,3) ] )\"],\"requiredArgs\" : {},\"trigger\" : \"click\"},\"id\" : \"F5AA94FA3ABB8412CFC6FF39225646FAF\",\"menus\" : {},\"title\" : \"Isomorphism\"},\"F7BFED0F7E9BD49281CA20FDE73BA8F01\" : {\"callback\" : {\"func\" : \"unknown\",\"id\" : \"FED43BD311F1645952CBCA2D62E04D2A4\",\"knownArgs\" : [\"<object>\",\"Group( [ (4,5), (1,2,4,3) ] )\"],\"requiredArgs\" : {},\"trigger\" : \"click\"},\"id\" : \"F7BFED0F7E9BD49281CA20FDE73BA8F01\",\"menus\" : {},\"title\" : \"Size\"},\"F9689B0A5D9F340BD1CA8354EB4034B43\" : {\"callback\" : {\"func\" : \"unknown\",\"id\" : \"F3C862241C03347618CC2C321D1659C7F\",\"knownArgs\" : [\"<object>\",\"Group( [ (4,5), (1,2,4,3) ] )\"],\"requiredArgs\" : {},\"trigger\" : \"click\"},\"id\" : \"F9689B0A5D9F340BD1CA8354EB4034B43\",\"menus\" : {},\"title\" : \"IsSimple\"},\"FA61F18F08AD2433B7C3323F6D3D02DA2\" : {\"callback\" : {\"func\" : \"unknown\",\"id\" : \"F3492CD2E9AC14C3B4C594079689EC21F\",\"knownArgs\" : [\"<object>\",\"Group( [ (4,5), (1,2,4,3) ] )\"],\"requiredArgs\" : {},\"trigger\" : \"click\"},\"id\" : \"FA61F18F08AD2433B7C3323F6D3D02DA2\",\"menus\" : {},\"title\" : \"IsSolvable\"},\"FBC7520C337514CD6B4E203A6936E20B0\" : {\"callback\" : {\"func\" : \"unknown\",\"id\" : \"FC1573A32DB9144024C61550588FCAD96\",\"knownArgs\" : [\"<object>\",\"Group( [ (4,5), (1,2,4,3) ] )\"],\"requiredArgs\" : {},\"trigger\" : \"click\"},\"id\" : \"FBC7520C337514CD6B4E203A6936E20B0\",\"menus\" : {},\"title\" : \"IsAbelian\"},\"FBE9CCAE9D6E449490CFC5350A927E80C\" : {\"callback\" : {\"func\" : \"unknown\",\"id\" : \"FC50E112150E14098345A429BCFF8F217\",\"knownArgs\" : [\"<object>\",\"Group( [ (4,5), (1,2,4,3) ] )\"],\"requiredArgs\" : {},\"trigger\" : \"click\"},\"id\" : \"FBE9CCAE9D6E449490CFC5350A927E80C\",\"menus\" : {},\"title\" : \"IsPerfect\"}},\"messages\" : {},\"parent\" : \"\",\"selected\" : true,\"size\" : 10,\"title\" : \"G\",\"type\" : \"diamond\",\"x\" : 0,\"y\" : 0},\"FD19968E271394AB3ECA4C7C764700C9F\" : {\"callbacks\" : {},\"color\" : \"\",\"id\" : \"FD19968E271394AB3ECA4C7C764700C9F\",\"layer\" : 0,\"menus\" : {\"F0F90D88D468C4481A4712288FEFB98E3\" : {\"callback\" : {\"func\" : \"unknown\",\"id\" : \"F877C965AD46D48EC84152AAF7FE47568\",\"knownArgs\" : [\"<object>\",\"Group( () )\"],\"requiredArgs\" : {},\"trigger\" : \"click\"},\"id\" : \"F0F90D88D468C4481A4712288FEFB98E3\",\"menus\" : {},\"title\" : \"IsSimple\"},\"F61380FB378404452243A72D044A2C6E4\" : {\"callback\" : {\"func\" : \"unknown\",\"id\" : \"F7495B973576F464DDC96A8F49D274B33\",\"knownArgs\" : [\"<object>\",\"Group( () )\"],\"requiredArgs\" : {},\"trigger\" : \"click\"},\"id\" : \"F61380FB378404452243A72D044A2C6E4\",\"menus\" : {},\"title\" : \"IsNilpotent\"},\"F793CEBDDAB8942634CF8297B1CB5FA49\" : {\"callback\" : {\"func\" : \"unknown\",\"id\" : \"FE669EEF5AA53490A341246EF0011E0CD\",\"knownArgs\" : [\"<object>\",\"Group( () )\"],\"requiredArgs\" : {},\"trigger\" : \"click\"},\"id\" : \"F793CEBDDAB8942634CF8297B1CB5FA49\",\"menus\" : {},\"title\" : \"IsAbelian\"},\"F8B6140D8147B409BBC9ECCE924D85D85\" : {\"callback\" : {\"func\" : \"unknown\",\"id\" : \"F3CE43D926429448EBC7742FBB7AF5A60\",\"knownArgs\" : [\"<object>\",\"Group( () )\"],\"requiredArgs\" : {},\"trigger\" : \"click\"},\"id\" : \"F8B6140D8147B409BBC9ECCE924D85D85\",\"menus\" : {},\"title\" : \"Isomorphism\"},\"F8F0A3CC562164ED0EC880CFDE4A0224B\" : {\"callback\" : {\"func\" : \"unknown\",\"id\" : \"F2C35D39A0F55428CE47C913C24D256E9\",\"knownArgs\" : [\"<object>\",\"Group( () )\"],\"requiredArgs\" : {},\"trigger\" : \"click\"},\"id\" : \"F8F0A3CC562164ED0EC880CFDE4A0224B\",\"menus\" : {},\"title\" : \"IsPerfect\"},\"FB45C1A31853F4E7034D936EE657BF0E4\" : {\"callback\" : {\"func\" : \"unknown\",\"id\" : \"F4B54185308D64173D446718184BA30DD\",\"knownArgs\" : [\"<object>\",\"Group( () )\"],\"requiredArgs\" : {},\"trigger\" : \"click\"},\"id\" : \"FB45C1A31853F4E7034D936EE657BF0E4\",\"menus\" : {},\"title\" : \"Size\"},\"FB6AA77CB43F849707C4762657C31E35A\" : {\"callback\" : {\"func\" : \"unknown\",\"id\" : \"F021AF6D48DC4405A5C2E52552E057B2D\",\"knownArgs\" : [\"<object>\",\"Group( () )\",\"SymmetricGroup( [ 1 .. 5 ] )\"],\"requiredArgs\" : {},\"trigger\" : \"click\"},\"id\" : \"FB6AA77CB43F849707C4762657C31E35A\",\"menus\" : {},\"title\" : \"IsNormal\"},\"FB96D4BCC6525463B5C0B9868B9BE3EF1\" : {\"callback\" : {\"func\" : \"unknown\",\"id\" : \"F97691B5A644B4AB814AC9ED1B96E73F4\",\"knownArgs\" : [\"<object>\",\"Group( () )\"],\"requiredArgs\" : {},\"trigger\" : \"click\"},\"id\" : \"FB96D4BCC6525463B5C0B9868B9BE3EF1\",\"menus\" : {},\"title\" : \"IsSolvable\"},\"FBEEF66241E154E7D6C83A696F151E849\" : {\"callback\" : {\"func\" : \"unknown\",\"id\" : \"F1F406B98F589416A54E8E377E3DFC6CD\",\"knownArgs\" : [\"<object>\",\"Group( () )\"],\"requiredArgs\" : {},\"trigger\" : \"click\"},\"id\" : \"FBEEF66241E154E7D6C83A696F151E849\",\"menus\" : {},\"title\" : \"IsCyclic\"}},\"messages\" : {},\"parent\" : \"\",\"size\" : 10,\"title\" : \"1\",\"type\" : \"diamond\",\"x\" : 0,\"y\" : 0}},\"simulation\" : true,\"type\" : \"directed\"},\"height\" : 600,\"id\" : \"FFF362CF34FE34521EC835B679ACE7338\",\"latticeType\" : {\"canCompare\" : true,\"contextMenus\" : [\"rec( func := function ( poset, n ) local message; message := FrancyMessage( FrancyMessageType.INFO, \\\"Size\\\", String( Size( n ) ) ); Add( poset, message ); return Draw( poset ); end, group := false, name := \\\"Size\\\" )\",\"rec( func := function ( poset, n ) local message; message := FrancyMessage( FrancyMessageType.INFO, \\\"Is commutative?\\\", String( IsCommutative( n ) ) ); Add( poset, message ); return Draw( poset ); end, group := false, name := \\\"IsAbelian\\\" )\",\"rec( func := function ( poset, n ) local message; message := FrancyMessage( FrancyMessageType.INFO, \\\"Is cyclic?\\\", String( IsCyclic( n ) ) ); Add( poset, message ); return Draw( poset ); end, group := false, name := \\\"IsCyclic\\\" )\",\"rec( func := function ( poset, n ) local message; message := FrancyMessage( FrancyMessageType.INFO, \\\"Is NilpotentGroup?\\\", String( IsNilpotentGroup( n ) ) ); Add( poset, message ); return Draw( poset ); end, group := false, name := \\\"IsNilpotent\\\" )\",\"rec( func := function ( poset, n ) local message; message := FrancyMessage( FrancyMessageType.INFO, \\\"Is normal?\\\", String( IsNormal( n ) ) ); Add( poset, message ); return Draw( poset ); end, group := true, name := \\\"IsNormal\\\" )\",\"rec( func := function ( poset, n ) local message; message := FrancyMessage( FrancyMessageType.INFO, \\\"Is perfect group?\\\", String( IsPerfectGroup( n ) ) ); Add( poset, message ); return Draw( poset ); end, group := false, name := \\\"IsPerfect\\\" )\",\"rec( func := function ( poset, n ) local message; message := FrancyMessage( FrancyMessageType.INFO, \\\"Is simple group?\\\", String( IsSimpleGroup( n ) ) ); Add( poset, message ); return Draw( poset ); end, group := false, name := \\\"IsSimple\\\" )\",\"rec( func := function ( poset, n ) local message; message := FrancyMessage( FrancyMessageType.INFO, \\\"Is solvable group?\\\", String( IsSolvableGroup( n ) ) ); Add( poset, message ); return Draw( poset ); end, group := false, name := \\\"IsSolvable\\\" )\",\"rec( func := function ( poset, n ) local message; message := FrancyMessage( FrancyMessageType.INFO, \\\"Isomorphism\\\", String( IdGroup( n ) ) ); Add( poset, message ); return Draw( poset ); end, group := false, name := \\\"Isomorphism\\\" )\"],\"hasse\" : true,\"knowsLevels\" : true,\"menus\" : [\"rec( func := function ( poset, G ) local L, cls, len, sz, graphHasse, max, rep, z, t, i, j, k, nodes, last, knownArgs, m, cb; L := LatticeSubgroups( G ); cls := ConjugacyClassesSubgroups( L ); len := [  ]; sz := [  ]; for i in cls do Add( len, Size( i ) ); AddSet( sz, Size( Representative( i ) ) ); od; graphHasse := poset!.graph; graphHasse!.nodes := rec(  ); graphHasse!.links := rec(  ); nodes := [  ]; sz := Reversed( sz ); for i in [ 1 .. Length( cls ) ] do nodes[i] := [  ]; for j in [ 1 .. len[i] ] do if len[i] = 1 then nodes[i][j] := Shape( ShapeType.DIAMOND, String( i ) ); else nodes[i][j] := Shape( ShapeType.CIRCLE, String( i ) ); fi; SetLayer( nodes[i][j], - Size( Representative( cls[i] ) ) ); for m in poset!.latticeType.contextMenus do knownArgs := [ poset, Representative( cls[i] ) ]; if m.group = true then Add( knownArgs, G ); fi; cb := Callback( m.func, knownArgs ); Add( nodes[i][j], Menu( m.name, cb ) ); od; if i = Length( cls ) and j = len[i] then SetTitle( nodes[i][j], \\\"G\\\" ); fi; Add( graphHasse, nodes[i][j] ); od; od; last := rec( o := 0, n := 0 ); for i in [ 1 .. Length( cls ) ] do for j in [ 1 .. len[i] ] do if Layer( nodes[i][j] ) <> last.o then last.o := Layer( nodes[i][j] ); last.n := last.n - 2; fi; SetLayer( nodes[i][j], last.n ); od; od; max := MaximalSubgroupsLattice( L ); for i in [ 1 .. Length( cls ) ] do for j in max[i] do rep := ClassElementLattice( cls[i], 1 ); for k in [ 1 .. len[i] ] do if k = 1 then z := j[2]; else t := cls[i]!.normalizerTransversal[k]; z := ClassElementLattice( cls[j[1]], 1 ); z := cls[j[1]]!.normalizerTransversal[j[2]] * t; z := PositionCanonical( cls[j[1]]!.normalizerTransversal, z ); fi; Add( graphHasse, Link( nodes[j[1]][z], nodes[i][k] ) ); od; od; od; return Draw( poset ); end, group := true, multiple := false, name := \\\"All Subgroups\\\" )\"],\"trivial\" : true},\"menus\" : {\"FC9BAA39771234E2F04E023576E11E6EC\" : {\"callback\" : {},\"id\" : \"FC9BAA39771234E2F04E023576E11E6EC\",\"menus\" : {\"FC59D2056591E405D74C59BF298293EC2\" : {\"callback\" : {\"func\" : \"unknown\",\"id\" : \"F4B22F9063B8C4533AC949C62C6F50468\",\"knownArgs\" : [\"<object>\",\"SymmetricGroup( [ 1 .. 5 ] )\"],\"requiredArgs\" : {},\"trigger\" : \"click\"},\"id\" : \"FC59D2056591E405D74C59BF298293EC2\",\"menus\" : {},\"title\" : \"All Subgroups\"}},\"title\" : \"Subgroup Lattice\"}},\"messages\" : {\"F16F84EF01FBE4F14B485CA820A658A6B\" : {\"callback\" : {\"func\" : \"Remove\",\"id\" : \"FF74B9D246DD541C484E418CB16956DA0\",\"knownArgs\" : [\"<object>\",\"<object>\"],\"requiredArgs\" : {},\"trigger\" : \"click\"},\"id\" : \"F16F84EF01FBE4F14B485CA820A658A6B\",\"text\" : \"There are 16 levels in this Group.\",\"title\" : \"\",\"type\" : \"default\"}},\"texTypesetting\" : true,\"title\" : \"GraphicSubgroupLattice\",\"width\" : 800,\"zoomToFit\" : true},\"mime\" : \"application\\/vnd.francy+json\",\"version\" : \"2.0.3\"}"
     },
     "execution_count": 3,
     "metadata": {
      "application/vnd.francy+json": {}
     },
     "output_type": "execute_result"
    }
   ],
   "source": [
    "G := SymmetricGroup(5); #G := PSL(2, 7); #G := DihedralGroup(44);\n",
    "GraphicSubgroupLattice(G);"
   ]
  },
  {
   "cell_type": "code",
   "execution_count": null,
   "metadata": {},
   "outputs": [],
   "source": []
  }
 ],
 "metadata": {
  "kernelspec": {
   "display_name": "GAP 4",
   "language": "gap",
   "name": "gap-4"
  },
  "language_info": {
   "codemirror_mode": "gap",
   "file_extension": ".g",
   "mimetype": "text/x-gap",
   "name": "GAP 4",
   "nbconvert_exporter": "",
   "pygments_lexer": "gap",
   "version": "4.14dev"
  }
 },
 "nbformat": 4,
 "nbformat_minor": 4
}
