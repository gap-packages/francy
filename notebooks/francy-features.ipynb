{
 "cells": [
  {
   "cell_type": "markdown",
   "metadata": {},
   "source": [
    "# Francy Package\n",
    "\n",
    "Francy is responsible for creating a representational structure that can be rendered using pretty much any UI framework\n",
    "in any language for any OS.\n",
    "\n",
    "Francy JS renders this model in Jupyter, and allows interactivity with GAP."
   ]
  },
  {
   "cell_type": "markdown",
   "metadata": {},
   "source": [
    "# Draw\n",
    "\n",
    "Draw is the main function of Francy. It renders a canvas and all the child objects in Jupyter environment or any other environment which connects to GAP somehow, e.g. a webssh console with websockets, etc.\n",
    "\n",
    "### DrawSplash\n",
    "\n",
    "DrawSplash uses Draw to generate the data and creates a Static HTML Page that can be embedded or viewed in any browser, in \"offline\" mode.\n",
    "\n",
    "**NOTE: When using this, there will be no interaction back to gap as there is no kernel orchestrating the communication between francy and gap! This might change in the future, but no plans to implement such functionality using websockets at the moment.**"
   ]
  },
  {
   "cell_type": "markdown",
   "metadata": {},
   "source": [
    "# Load Package"
   ]
  },
  {
   "cell_type": "code",
   "execution_count": 1,
   "metadata": {},
   "outputs": [
    {
     "data": {
      "text/plain": [
       "true"
      ]
     },
     "execution_count": 1,
     "metadata": {
      "text/plain": ""
     },
     "output_type": "execute_result"
    }
   ],
   "source": [
    "LoadPackage(\"francy\");"
   ]
  },
  {
   "cell_type": "markdown",
   "metadata": {},
   "source": [
    "# Canvas\n",
    "\n",
    "Canvas are the base where graphics are produced. A Canvas is constituted by a Main Menu and an area where the graphics are produced.\n",
    "\n",
    "## How to create a Canvas?\n",
    "\n",
    "It is possible to set some default configurations for the canvas:\n",
    "\n",
    "```gap\n",
    "gap> defaults := CanvasDefaults;\n",
    "gap> Sanitize(defaults);\n",
    "rec( height := 600, width := 800, zoomToFit := true )\n",
    "gap> SetWidth(defaults, 830);\n",
    "gap> SetHeight(defaults, 630);\n",
    "gap> SetZoomToFit(defaults, false);\n",
    "gap> SetTexTypesetting(defaults, true);\n",
    "gap> canvas := Canvas(\"Example Canvas\", defaults);\n",
    "\n",
    "```\n",
    "\n",
    "Or it can be done after, by:\n",
    "\n",
    "```gap\n",
    "gap> canvas := Canvas(\"Example Canvas\");\n",
    "gap> SetWidth(canvas, 850);\n",
    "gap> SetHeight(canvas, 650);\n",
    "gap> SetZoomToFit(canvas, true);\n",
    "```"
   ]
  },
  {
   "cell_type": "code",
   "execution_count": 19,
   "metadata": {},
   "outputs": [
    {
     "data": {
      "application/vnd.francy+json": "{\"canvas\" : {\"graph\" : {\"collapsed\" : true,\"id\" : \"F8F419FE8CFAC4BB2E4B26A36CFD237A4\",\"links\" : {},\"nodes\" : {\"FB06212CEB92941256CD0C925F3CC61FD\" : {\"callbacks\" : {},\"color\" : \"\",\"id\" : \"FB06212CEB92941256CD0C925F3CC61FD\",\"layer\" : 0,\"menus\" : {\"FF74B9D246DD541C484E418CB16956DA0\" : {\"callback\" : {\"func\" : \"HelloWorld\",\"id\" : \"F1DE6EE59E29D4239443125A0840082FE\",\"knownArgs\" : [],\"requiredArgs\" : {\"FFF362CF34FE34521EC835B679ACE7338\" : {\"id\" : \"FFF362CF34FE34521EC835B679ACE7338\",\"title\" : \"Your Name?\",\"type\" : \"text\",\"value\" : \"\"}},\"trigger\" : \"click\"},\"id\" : \"FF74B9D246DD541C484E418CB16956DA0\",\"menus\" : {},\"title\" : \"Hello Menu Action\"}},\"messages\" : {},\"parent\" : \"\",\"size\" : 10,\"title\" : \"$x^2$\",\"type\" : \"circle\",\"x\" : 0,\"y\" : 0}},\"simulation\" : true,\"type\" : \"undirected\"},\"height\" : 450,\"id\" : \"F6C78AAF6F91848E45432FDFD90DDE4F8\",\"menus\" : {\"F16F84EF01FBE4F14B485CA820A658A6B\" : {\"callback\" : {},\"id\" : \"F16F84EF01FBE4F14B485CA820A658A6B\",\"menus\" : {\"FF74B9D246DD541C484E418CB16956DA0\" : {\"callback\" : {\"func\" : \"HelloWorld\",\"id\" : \"F1DE6EE59E29D4239443125A0840082FE\",\"knownArgs\" : [],\"requiredArgs\" : {\"FFF362CF34FE34521EC835B679ACE7338\" : {\"id\" : \"FFF362CF34FE34521EC835B679ACE7338\",\"title\" : \"Your Name?\",\"type\" : \"text\",\"value\" : \"\"}},\"trigger\" : \"click\"},\"id\" : \"FF74B9D246DD541C484E418CB16956DA0\",\"menus\" : {},\"title\" : \"Hello Menu Action\"}},\"title\" : \"Example Menu Holder\"},\"FF74B9D246DD541C484E418CB16956DA0\" : {\"callback\" : {\"func\" : \"HelloWorld\",\"id\" : \"F1DE6EE59E29D4239443125A0840082FE\",\"knownArgs\" : [],\"requiredArgs\" : {\"FFF362CF34FE34521EC835B679ACE7338\" : {\"id\" : \"FFF362CF34FE34521EC835B679ACE7338\",\"title\" : \"Your Name?\",\"type\" : \"text\",\"value\" : \"\"}},\"trigger\" : \"click\"},\"id\" : \"FF74B9D246DD541C484E418CB16956DA0\",\"menus\" : {},\"title\" : \"Hello Menu Action\"}},\"messages\" : {},\"texTypesetting\" : true,\"title\" : \"Callbacks in action\",\"width\" : 800,\"zoomToFit\" : true},\"mime\" : \"application\\/vnd.francy+json\",\"version\" : \"1.2.4\"}"
     },
     "execution_count": 19,
     "metadata": {
      "application/vnd.francy+json": {}
     },
     "output_type": "execute_result"
    }
   ],
   "source": [
    "canvas := Canvas(\"Callbacks in action\");;\n",
    "SetTexTypesetting(canvas, true);;\n",
    "SetHeight(canvas, 450);;\n",
    "\n",
    "graph := Graph(GraphType.UNDIRECTED);; # will go throughout graphs later\n",
    "shape := Shape(ShapeType.CIRCLE, \"$x^2$\");; # will go throughout shapes later\n",
    "Add(graph, shape);;\n",
    "Add(canvas, graph);;\n",
    "\n",
    "HelloWorld := function(name)\n",
    "    Add(canvas, FrancyMessage(Concatenation(\"Hello, \", name))); #  will go throughout messages later\n",
    "    return Draw(canvas);\n",
    "end;;\n",
    "\n",
    "callback1 := Callback(HelloWorld);;\n",
    "arg1 := RequiredArg(ArgType.STRING, \"Your Name?\");;\n",
    "Add(callback1, arg1);;\n",
    "\n",
    "menu := Menu(\"Example Menu Holder\");;\n",
    "menu1 := Menu( \"Hello Menu Action\", callback1 );;\n",
    "Add(menu, menu1);;\n",
    "\n",
    "Add(canvas, menu);;\n",
    "Add(canvas, menu1);;\n",
    "Add(shape, menu1);;\n",
    "\n",
    "Draw(canvas);"
   ]
  },
  {
   "cell_type": "markdown",
   "metadata": {},
   "source": [
    "# Menus\n",
    "\n",
    "Menus can be added to the Canvas, where they will be added to the Main Menu on the Top, or to Shapes, where they will appear as Context Menu - Mouse right click.\n",
    "\n",
    "The Main Menu has by default a Menu entry called Francy with 3 Sub Menus: Zoom to Fit, Save to PNG and About. When a Graph is produce the Main Menu will also contain a Menu entry called Graph Options with 3 Sub Menus: Enable/Disable Drag, Enable/Disable Neighbours, Clear Selected Nodes.\n",
    "\n",
    "# Callbacks\n",
    "\n",
    "A Callback is a function that is triggered in GAP and can be added to Menus and/or Shapes.\n",
    "\n",
    "## How to create a Callback?\n",
    "\n",
    "Callbacks can be created in many different ways, and it will depend on what you want to do.\n",
    "\n",
    "Callbacks are triggered with mouse events. Available TriggerTypes are:\n",
    "\n",
    "* TriggerType.DOUBLE_CLICK\n",
    "* TriggerType.RIGHT_CLICK\n",
    "* TriggerType.CLICK\n",
    "\n",
    "*NOTE: No matter what you choose for TriggerType on a callback that is used on a Menu will always default to TriggerType.CLICK!*\n",
    "\n",
    "Calling a Simple function that doesn't require any argument is the simplest form:\n",
    "\n",
    "```gap\n",
    "gap> MyFunction := function()\n",
    ">    # Must return allways! This is because GAP CallFuncList is used and requires it\n",
    ">    return;\n",
    "> end;\n",
    "gap> callback := Callback(MyFunction); # defaults to CLICK event\n",
    "gap> callback := Callback(TriggerType.DOUBLE_CLICK, MyFunction);\n",
    "```\n",
    "\n",
    "Calling a Function with a \"known\" argument is also simple:\n",
    "\n",
    "```gap\n",
    "gap> canvas := Canvas(\"Callbacks in Action!\");\n",
    "gap> MyFunction := function(someKnownArg)\n",
    ">    # Do some crazy computation\n",
    ">    # Redraw\n",
    ">  return Draw(canvas);\n",
    "> end;\n",
    "gap> something := NumericalSemigroup(10,11,19);\n",
    "gap> callback := Callback(MyFunction, [something]);\n",
    "```\n",
    "\n",
    "What if we want the user to give some input? Well, this is the case you have \"required\" arguments:\n",
    "\n",
    "```gap\n",
    "gap> canvas := Canvas(\"Callbacks in Action!\");\n",
    "gap> MyFunction := function(someKnownArg, someUserInputArg)\n",
    ">    # Do Some Crazy computation\n",
    ">    # Redraw\n",
    ">    return Draw(canvas);\n",
    "> end;\n",
    "gap> something := NumericalSemigroup(10,11,19);\n",
    "gap> callback := Callback(MyFunction, [something]);\n",
    "gap> arg := RequiredArg(ArgType.NUMBER, \"Give me a Prime?\");\n",
    "gap> Add(callback, arg);\n",
    "```\n",
    "\n",
    "It is possible to add a confirmation message that gets displayed before executing the callback:\n",
    "\n",
    "```gap\n",
    "...\n",
    "gap> SetConfirmMessage(callback, \"This is a confirmation message! Click OK to proceed...\");\n",
    "```\n",
    "\n",
    "Required Arguments type defines the data type. Available ArgTypes are:\n",
    "\n",
    "* ArgType.SELECT\n",
    "* ArgType.BOOLEAN\n",
    "* ArgType.STRING\n",
    "* ArgType.NUMBER\n",
    "\n",
    "\n",
    "## How to create a Menu?\n",
    "\n",
    "Menus can include a Callback or not. Menus without callback are useful for holding Submenus.\n",
    "\n",
    "```gap\n",
    "gap> callback := Callback(MyCallbackFunction);\n",
    "gap> menu := Menu(\"Example Holder Menu\");\n",
    "gap> submenu := Menu(\"I'm a Submenu!\", callback);\n",
    "gap> Add(menu, submenu);\n",
    "gap> Add(canvas, menu);\n",
    "```\n",
    "\n",
    "Or as a top Menu:\n",
    "\n",
    "```gap\n",
    "gap> callback := Callback(MyCallbackFunction);\n",
    "gap> menu := Menu(\"Menu\", callback);\n",
    "gap> Add(canvas, menu);\n",
    "```\n",
    "\n",
    "The same menu objects can be used in Shapes:\n",
    "* NOTE: Submenus are flatenned in context menus!*\n",
    "\n",
    "```gap\n",
    "gap> shape := Shape(SpaheType.CIRCLE); # will go throughout shapes and graphs later\n",
    "gap> Add(shape, menu);\n",
    "```"
   ]
  },
  {
   "cell_type": "code",
   "execution_count": 41,
   "metadata": {},
   "outputs": [
    {
     "data": {
      "application/vnd.francy+json": "{\"canvas\" : {\"graph\" : {\"collapsed\" : true,\"id\" : \"F807B9742C5CC4FC40CAF33D4A0501971\",\"links\" : {},\"nodes\" : {\"F948734D11FBF42E464F04F2EE6D6C0DE\" : {\"callbacks\" : {\"F54CD4B05DD4246E92C0525D0F611334A\" : {\"confirm\" : \"This is a confirmation message...\",\"func\" : \"HelloWorld\",\"id\" : \"F54CD4B05DD4246E92C0525D0F611334A\",\"knownArgs\" : [],\"requiredArgs\" : {\"F78F966D29C48478A349E56140B0752E8\" : {\"id\" : \"F78F966D29C48478A349E56140B0752E8\",\"title\" : \"Selected Nodes\",\"type\" : \"select\",\"value\" : \"\"},\"FC957E285E0B14173EC9381C00B082970\" : {\"id\" : \"FC957E285E0B14173EC9381C00B082970\",\"title\" : \"Your Name?\",\"type\" : \"text\",\"value\" : \"\"}},\"trigger\" : \"click\"}},\"color\" : \"#2E8B57\",\"id\" : \"F948734D11FBF42E464F04F2EE6D6C0DE\",\"layer\" : 0,\"menus\" : {\"F1AB14F00715746C17C7A051F4C4D50D1\" : {\"callback\" : {\"confirm\" : \"This is a confirmation message...\",\"func\" : \"HelloWorld\",\"id\" : \"F54CD4B05DD4246E92C0525D0F611334A\",\"knownArgs\" : [],\"requiredArgs\" : {\"F78F966D29C48478A349E56140B0752E8\" : {\"id\" : \"F78F966D29C48478A349E56140B0752E8\",\"title\" : \"Selected Nodes\",\"type\" : \"select\",\"value\" : \"\"},\"FC957E285E0B14173EC9381C00B082970\" : {\"id\" : \"FC957E285E0B14173EC9381C00B082970\",\"title\" : \"Your Name?\",\"type\" : \"text\",\"value\" : \"\"}},\"trigger\" : \"click\"},\"id\" : \"F1AB14F00715746C17C7A051F4C4D50D1\",\"menus\" : {},\"title\" : \"Hello Menu Action\"}},\"messages\" : {},\"parent\" : \"\",\"size\" : 10,\"title\" : \"test\",\"type\" : \"circle\",\"x\" : 0,\"y\" : 0}},\"simulation\" : true,\"type\" : \"undirected\"},\"height\" : 450,\"id\" : \"FCBE476E116664FC274E1019A4AFC3590\",\"menus\" : {\"F1AB14F00715746C17C7A051F4C4D50D1\" : {\"callback\" : {\"confirm\" : \"This is a confirmation message...\",\"func\" : \"HelloWorld\",\"id\" : \"F54CD4B05DD4246E92C0525D0F611334A\",\"knownArgs\" : [],\"requiredArgs\" : {\"F78F966D29C48478A349E56140B0752E8\" : {\"id\" : \"F78F966D29C48478A349E56140B0752E8\",\"title\" : \"Selected Nodes\",\"type\" : \"select\",\"value\" : \"\"},\"FC957E285E0B14173EC9381C00B082970\" : {\"id\" : \"FC957E285E0B14173EC9381C00B082970\",\"title\" : \"Your Name?\",\"type\" : \"text\",\"value\" : \"\"}},\"trigger\" : \"click\"},\"id\" : \"F1AB14F00715746C17C7A051F4C4D50D1\",\"menus\" : {},\"title\" : \"Hello Menu Action\"},\"F2A6C37797BF9484A0470FE1CE5464A41\" : {\"callback\" : {},\"id\" : \"F2A6C37797BF9484A0470FE1CE5464A41\",\"menus\" : {\"F1AB14F00715746C17C7A051F4C4D50D1\" : {\"callback\" : {\"confirm\" : \"This is a confirmation message...\",\"func\" : \"HelloWorld\",\"id\" : \"F54CD4B05DD4246E92C0525D0F611334A\",\"knownArgs\" : [],\"requiredArgs\" : {\"F78F966D29C48478A349E56140B0752E8\" : {\"id\" : \"F78F966D29C48478A349E56140B0752E8\",\"title\" : \"Selected Nodes\",\"type\" : \"select\",\"value\" : \"\"},\"FC957E285E0B14173EC9381C00B082970\" : {\"id\" : \"FC957E285E0B14173EC9381C00B082970\",\"title\" : \"Your Name?\",\"type\" : \"text\",\"value\" : \"\"}},\"trigger\" : \"click\"},\"id\" : \"F1AB14F00715746C17C7A051F4C4D50D1\",\"menus\" : {},\"title\" : \"Hello Menu Action\"}},\"title\" : \"Example Menu Holder\"}},\"messages\" : {},\"texTypesetting\" : true,\"title\" : \"Callbacks in action\",\"width\" : 800,\"zoomToFit\" : true},\"mime\" : \"application\\/vnd.francy+json\",\"version\" : \"1.2.4\"}"
     },
     "execution_count": 41,
     "metadata": {
      "application/vnd.francy+json": {}
     },
     "output_type": "execute_result"
    }
   ],
   "source": [
    "canvas2 := Canvas(\"Callbacks in action\");;\n",
    "SetHeight(canvas2, 450);;\n",
    "\n",
    "graph := Graph(GraphType.UNDIRECTED);; # will go throughout graphs later\n",
    "shape := Shape(ShapeType.CIRCLE, \"test\");; # will go throughout shapes later\n",
    "SetColor(shape, \"#2E8B57\");;\n",
    "Add(graph, shape);;\n",
    "Add(canvas2, graph);;\n",
    "\n",
    "HelloWorld := function(name, node)\n",
    "    Add(canvas2, FrancyMessage(Concatenation(\"Hello, \", name, \" - Selected Node ID: \",String(node)))); #  will go throughout messages later\n",
    "    return Draw(canvas2);\n",
    "end;;\n",
    "\n",
    "callback1 := Callback(HelloWorld);;\n",
    "SetConfirmMessage(callback1, \"This is a confirmation message...\");;\n",
    "arg1 := RequiredArg(ArgType.STRING, \"Your Name?\");;\n",
    "arg2 := RequiredArg(ArgType.SELECT, \"Selected Nodes\");;\n",
    "Add(callback1, arg1);;\n",
    "Add(callback1, arg2);;\n",
    "\n",
    "Add(shape, callback1);;\n",
    "\n",
    "menu := Menu(\"Example Menu Holder\");;\n",
    "menu1 := Menu( \"Hello Menu Action\", callback1 );;\n",
    "Add(menu, menu1);;\n",
    "\n",
    "Add(canvas2, menu);;\n",
    "Add(canvas2, menu1);;\n",
    "Add(shape, menu1);;\n",
    "\n",
    "Draw(canvas2);"
   ]
  },
  {
   "cell_type": "code",
   "execution_count": 58,
   "metadata": {},
   "outputs": [
    {
     "data": {
      "application/vnd.francy+json": "{\"canvas\" : {\"graph\" : {\"collapsed\" : true,\"id\" : \"F40528265F01D48195C823DDF5A14D7CF\",\"links\" : {\"FBC3E1C907D124ABCB4D37AFC978D49C0\" : {\"color\" : \"red\",\"id\" : \"FBC3E1C907D124ABCB4D37AFC978D49C0\",\"invisible\" : false,\"length\" : 0,\"source\" : \"F3A62027A90C14B2E64ADFBE598DCAB1F\",\"target\" : \"F36D7D8C8024E4D9B34DBDCE35F39E797\",\"title\" : \"or\",\"weight\" : 2}},\"nodes\" : {\"F36D7D8C8024E4D9B34DBDCE35F39E797\" : {\"callbacks\" : {\"FBADFB1FBB15143125C5771BF1E49AAAC\" : {\"func\" : \"WhichNode\",\"id\" : \"FBADFB1FBB15143125C5771BF1E49AAAC\",\"knownArgs\" : [\"<object>\"],\"requiredArgs\" : {},\"trigger\" : \"click\"}},\"color\" : \"\",\"id\" : \"F36D7D8C8024E4D9B34DBDCE35F39E797\",\"layer\" : 0,\"menus\" : {},\"messages\" : {},\"parent\" : \"\",\"size\" : 10,\"title\" : \"Click Me 2\",\"type\" : \"circle\",\"x\" : 0,\"y\" : 0},\"F3A62027A90C14B2E64ADFBE598DCAB1F\" : {\"callbacks\" : {\"F4F18DC8FBC08428664203B7254BEDCFC\" : {\"func\" : \"WhichNode\",\"id\" : \"F4F18DC8FBC08428664203B7254BEDCFC\",\"knownArgs\" : [\"<object>\"],\"requiredArgs\" : {},\"trigger\" : \"click\"}},\"color\" : \"\",\"id\" : \"F3A62027A90C14B2E64ADFBE598DCAB1F\",\"layer\" : 0,\"menus\" : {},\"messages\" : {},\"parent\" : \"\",\"size\" : 10,\"title\" : \"Click Me 1\",\"type\" : \"circle\",\"x\" : 0,\"y\" : 0}},\"simulation\" : true,\"type\" : \"directed\"},\"height\" : 450,\"id\" : \"F793F564DFC7C41AD0C70B2CB648370C1\",\"menus\" : {},\"messages\" : {},\"texTypesetting\" : true,\"title\" : \"Example Callbacks with Known Arguments\",\"width\" : 800,\"zoomToFit\" : true},\"mime\" : \"application\\/vnd.francy+json\",\"version\" : \"1.2.4\"}"
     },
     "execution_count": 58,
     "metadata": {
      "application/vnd.francy+json": {}
     },
     "output_type": "execute_result"
    }
   ],
   "source": [
    "canvas3 := Canvas(\"Example Callbacks with Known Arguments\");;\n",
    "SetHeight(canvas3, 450);;\n",
    "\n",
    "graph := Graph(GraphType.DIRECTED);;\n",
    "\n",
    "shape := Shape(ShapeType.CIRCLE, \"Click Me 1\");;\n",
    "shape1 := Shape(ShapeType.CIRCLE, \"Click Me 2\");;\n",
    "Add(graph, shape);;\n",
    "Add(graph, shape1);;\n",
    "\n",
    "WhichNode := function(node)\n",
    "    Add(canvas3, FrancyMessage(node!.title));\n",
    "    return Draw(canvas3);\n",
    "end;;\n",
    "\n",
    "Add(shape, Callback(WhichNode, [shape]));; # similar to Add(shape, Callback(TriggerEvent.CLICK, WhichNode, [shape]));\n",
    "Add(shape1, Callback(WhichNode, [shape1]));; # similar to Add(shape1, Callback(TriggerEvent.CLICK, WhichNode, [shape1]));\n",
    "\n",
    "link := Link(shape, shape1);;\n",
    "SetWeight(link, 2);;\n",
    "SetColor(link, \"red\");;\n",
    "SetTitle(link, \"or\");;\n",
    "Add(graph, link);;\n",
    "\n",
    "Add(canvas3, graph);;\n",
    "\n",
    "Draw(canvas3);"
   ]
  },
  {
   "cell_type": "markdown",
   "metadata": {},
   "source": [
    "# Messages\n",
    "\n",
    "Messages are usefull for providing information to the user. Messages can be added to the Canvas and/or to Shapes.\n",
    "\n",
    "Messages added to a Canvas are displayed as messages using colors to differentiate types, they appear on the top left corner and can be dismissed by clicking on them.\n",
    "\n",
    "Messages added to a Shape are displayed as tooltips and their types are not taken in account, they appear when the user moves the mouse hover the Shape.\n",
    "\n",
    "## How to create Messages?\n",
    "\n",
    "Once again, creating messages is fairly simple and depends on the purpose of the message.\n",
    "\n",
    "Messages can be of the following types:\n",
    "\n",
    "* FrancyMessageType.INFO\n",
    "* FrancyMessageType.ERROR\n",
    "* FrancyMessageType.SUCCESS\n",
    "* FrancyMessageType.WARNING\n",
    "* FrancyMessageType.DEFAULT\n",
    "\n",
    "The simplest Message with the default type would be:\n",
    "\n",
    "```gap\n",
    "gap> FrancyMessage(\"Hello\", \"World\"); # title and text\n",
    "gap> FrancyMessage(\"Hello\"); # without title\n",
    "```\n",
    "\n",
    "Messages with a custom type:\n",
    "\n",
    "```gap\n",
    "gap> FrancyMessage(FrancyMessageType.INFO, \"Hello\", \"World\"); # title and text\n",
    "gap> FrancyMessage(FrancyMessageType.INFO, \"Hello World\"); # without title\n",
    "```"
   ]
  },
  {
   "cell_type": "code",
   "execution_count": 70,
   "metadata": {},
   "outputs": [
    {
     "data": {
      "application/vnd.francy+json": "{\"canvas\" : {\"graph\" : {\"collapsed\" : true,\"id\" : \"FE3F02797F57E4022DCE98F0FCF04CBA8\",\"links\" : {},\"nodes\" : {\"F8C1F96C773474A8154A4C46BB113E35E\" : {\"callbacks\" : {\"F70650600519E474F5465932AD7970059\" : {\"func\" : \"WhichNode\",\"id\" : \"F70650600519E474F5465932AD7970059\",\"knownArgs\" : [\"<object>\",\"<object>\"],\"requiredArgs\" : {},\"trigger\" : \"click\"}},\"color\" : \"\",\"id\" : \"F8C1F96C773474A8154A4C46BB113E35E\",\"layer\" : 0,\"menus\" : {},\"messages\" : {},\"parent\" : \"\",\"size\" : 10,\"title\" : \"Click Me\",\"type\" : \"circle\",\"x\" : 0,\"y\" : 0},\"F98C36F7AB1D945CC9C7DE79A8C6E8CC7\" : {\"callbacks\" : {\"FAC5309F8108F4A06F49F78E45EF88986\" : {\"func\" : \"WhichNode\",\"id\" : \"FAC5309F8108F4A06F49F78E45EF88986\",\"knownArgs\" : [\"<object>\",\"<object>\"],\"requiredArgs\" : {},\"trigger\" : \"click\"}},\"color\" : \"\",\"id\" : \"F98C36F7AB1D945CC9C7DE79A8C6E8CC7\",\"layer\" : 0,\"menus\" : {},\"messages\" : {},\"parent\" : \"\",\"size\" : 10,\"title\" : \"Click Me\",\"type\" : \"circle\",\"x\" : 0,\"y\" : 0}},\"simulation\" : true,\"type\" : \"directed\"},\"height\" : 450,\"id\" : \"F682E684B60AC4F4CCCEED7EAB57AE7DA\",\"menus\" : {},\"messages\" : {},\"texTypesetting\" : true,\"title\" : \"Example Callbacks with Known Arguments\",\"width\" : 800,\"zoomToFit\" : true},\"mime\" : \"application\\/vnd.francy+json\",\"version\" : \"1.2.4\"}"
     },
     "execution_count": 70,
     "metadata": {
      "application/vnd.francy+json": {}
     },
     "output_type": "execute_result"
    }
   ],
   "source": [
    "canvas4 := Canvas(\"Example Callbacks with Known Arguments\");;\n",
    "SetHeight(canvas4, 450);;\n",
    "\n",
    "graph := Graph(GraphType.DIRECTED);;\n",
    "Add(canvas4, graph);;\n",
    "\n",
    "shape := Shape(ShapeType.CIRCLE, \"Click Me\");;\n",
    "shape1 := Shape(ShapeType.CIRCLE, \"Click Me\");;\n",
    "Add(graph, shape);;\n",
    "Add(graph, shape1);;\n",
    "\n",
    "WhichNode := function(c, node)\n",
    "    Add(c, FrancyMessage(String(node!.title)));\n",
    "    return Draw(c);\n",
    "end;;\n",
    "\n",
    "Add(shape, Callback(WhichNode, [canvas4, shape]));; # similar to Add(shape, Callback(TriggerEvent.CLICK, WhichNode, [shape]));\n",
    "Add(shape1, Callback(WhichNode, [canvas4, shape1]));; # similar to Add(shape1, Callback(TriggerEvent.CLICK, WhichNode, [shape1]));\n",
    "\n",
    "Draw(canvas4);"
   ]
  },
  {
   "cell_type": "code",
   "execution_count": 88,
   "metadata": {},
   "outputs": [
    {
     "data": {
      "application/vnd.francy+json": "{\"canvas\" : {\"graph\" : {\"collapsed\" : true,\"id\" : \"F383B937CCF3547927CB4CC7779D548B7\",\"links\" : {},\"nodes\" : {\"F2140F5B9EB414493EC719FFE8D4BF2ED\" : {\"callbacks\" : {},\"color\" : \"\",\"id\" : \"F2140F5B9EB414493EC719FFE8D4BF2ED\",\"layer\" : 0,\"menus\" : {},\"messages\" : {\"F2ACDFEAF7704468DD44BC4CFBDA98CDD\" : {\"callback\" : {\"func\" : \"Remove\",\"id\" : \"F8DCD5BBDED624AE18C514461B4AAEA75\",\"knownArgs\" : [\"<object>\",\"<object>\"],\"requiredArgs\" : {},\"trigger\" : \"click\"},\"id\" : \"F2ACDFEAF7704468DD44BC4CFBDA98CDD\",\"text\" : \"World\",\"title\" : \"Hello\",\"type\" : \"default\"},\"F2B929BF53E274CED6C033077FD182A78\" : {\"callback\" : {\"func\" : \"Remove\",\"id\" : \"FBD9E398833344A7ADC806BAD17402604\",\"knownArgs\" : [\"<object>\",\"<object>\"],\"requiredArgs\" : {},\"trigger\" : \"click\"},\"id\" : \"F2B929BF53E274CED6C033077FD182A78\",\"text\" : \"Hello\",\"title\" : \"\",\"type\" : \"warning\"},\"F37407350D8344221FCDF6B0C4FACDF6E\" : {\"callback\" : {\"func\" : \"Remove\",\"id\" : \"F3513C9B110C7438B64E6A4A2EF887B49\",\"knownArgs\" : [\"<object>\",\"<object>\"],\"requiredArgs\" : {},\"trigger\" : \"click\"},\"id\" : \"F37407350D8344221FCDF6B0C4FACDF6E\",\"text\" : \"Hello\",\"title\" : \"\",\"type\" : \"success\"},\"F55F63E4544B84A3F14A229612277EA64\" : {\"callback\" : {\"func\" : \"Remove\",\"id\" : \"F7220CDA1859D4FB5D44E4B78F5ED59EB\",\"knownArgs\" : [\"<object>\",\"<object>\"],\"requiredArgs\" : {},\"trigger\" : \"click\"},\"id\" : \"F55F63E4544B84A3F14A229612277EA64\",\"text\" : \"Hello $x^2$\",\"title\" : \"\",\"type\" : \"info\"},\"F94F08AE9E9724579DC4004270C597E1A\" : {\"callback\" : {\"func\" : \"Remove\",\"id\" : \"FA6051B31B0334002FC557EA064E34781\",\"knownArgs\" : [\"<object>\",\"<object>\"],\"requiredArgs\" : {},\"trigger\" : \"click\"},\"id\" : \"F94F08AE9E9724579DC4004270C597E1A\",\"text\" : \"Hello\",\"title\" : \"Oops\",\"type\" : \"error\"}},\"parent\" : \"\",\"size\" : 10,\"title\" : \"\",\"type\" : \"circle\",\"x\" : 0,\"y\" : 0}},\"simulation\" : true,\"type\" : \"undirected\"},\"height\" : 250,\"id\" : \"FADAB64089636489B9C138F2DEEA6DF25\",\"menus\" : {},\"messages\" : {\"F06668D287B154619349F2436DCD72C18\" : {\"callback\" : {\"func\" : \"Remove\",\"id\" : \"F49BDA1295C9445F6F4EC266BF0A82D84\",\"knownArgs\" : [\"<object>\",\"<object>\"],\"requiredArgs\" : {},\"trigger\" : \"click\"},\"id\" : \"F06668D287B154619349F2436DCD72C18\",\"text\" : \"Hello\",\"title\" : \"Oops\",\"type\" : \"error\"},\"F360FDB11B96046EC64EACF2FF9DF2819\" : {\"callback\" : {\"func\" : \"Remove\",\"id\" : \"FA78183C1D3CA418F3CC3C83037C3C6B8\",\"knownArgs\" : [\"<object>\",\"<object>\"],\"requiredArgs\" : {},\"trigger\" : \"click\"},\"id\" : \"F360FDB11B96046EC64EACF2FF9DF2819\",\"text\" : \"World\",\"title\" : \"Hello\",\"type\" : \"default\"},\"F8DD0CA00423F4D774CF0766011BCA30F\" : {\"callback\" : {\"func\" : \"Remove\",\"id\" : \"F0EFC447BC2A94F6A046EAA5CF1827861\",\"knownArgs\" : [\"<object>\",\"<object>\"],\"requiredArgs\" : {},\"trigger\" : \"click\"},\"id\" : \"F8DD0CA00423F4D774CF0766011BCA30F\",\"text\" : \"Hello\",\"title\" : \"\",\"type\" : \"warning\"},\"FA9ED231CB4E94792E44909958FE38065\" : {\"callback\" : {\"func\" : \"Remove\",\"id\" : \"F2D93B026F585424AF4DCE24E0C2A49F8\",\"knownArgs\" : [\"<object>\",\"<object>\"],\"requiredArgs\" : {},\"trigger\" : \"click\"},\"id\" : \"FA9ED231CB4E94792E44909958FE38065\",\"text\" : \"Hello $x^2$\",\"title\" : \"\",\"type\" : \"info\"},\"FC3F97C37978E48F7ACDF22F2D8EEEAC7\" : {\"callback\" : {\"func\" : \"Remove\",\"id\" : \"F9F3EBB45E0E542B3FC53FCD55E436659\",\"knownArgs\" : [\"<object>\",\"<object>\"],\"requiredArgs\" : {},\"trigger\" : \"click\"},\"id\" : \"FC3F97C37978E48F7ACDF22F2D8EEEAC7\",\"text\" : \"Hello\",\"title\" : \"\",\"type\" : \"success\"}},\"texTypesetting\" : true,\"title\" : \"Example Canvas \\/ Shape with Messages\",\"width\" : 800,\"zoomToFit\" : true},\"mime\" : \"application\\/vnd.francy+json\",\"version\" : \"1.2.4\"}"
     },
     "execution_count": 88,
     "metadata": {
      "application/vnd.francy+json": {}
     },
     "output_type": "execute_result"
    }
   ],
   "source": [
    "canvas5 := Canvas(\"Example Canvas / Shape with Messages\");;\n",
    "SetTexTypesetting(canvas5, true);;\n",
    "SetHeight(canvas5, 250);;\n",
    "\n",
    "graph := Graph(GraphType.UNDIRECTED);; # will go throughout graphs later\n",
    "shape := Shape(ShapeType.CIRCLE);; # will go throughout shapes later\n",
    "Add(graph, shape);;\n",
    "Add(canvas5, graph);;\n",
    "\n",
    "Add(canvas5, FrancyMessage(FrancyMessageType.INFO, \"Hello $x^2$\"));;\n",
    "Add(shape, FrancyMessage(FrancyMessageType.INFO, \"Hello $x^2$\"));;\n",
    "Add(canvas5, FrancyMessage(FrancyMessageType.ERROR, \"Oops\", \"Hello\"));;\n",
    "Add(shape, FrancyMessage(FrancyMessageType.ERROR, \"Oops\", \"Hello\"));;\n",
    "Add(canvas5, FrancyMessage(FrancyMessageType.WARNING, \"Hello\"));;\n",
    "Add(shape, FrancyMessage(FrancyMessageType.WARNING, \"Hello\"));;\n",
    "Add(canvas5, FrancyMessage(FrancyMessageType.SUCCESS, \"Hello\"));;\n",
    "Add(shape, FrancyMessage(FrancyMessageType.SUCCESS, \"Hello\"));;\n",
    "Add(canvas5, FrancyMessage(\"Hello\", \"World\"));;\n",
    "Add(shape, FrancyMessage(\"Hello\", \"World\"));;\n",
    "\n",
    "Draw(canvas5);"
   ]
  },
  {
   "cell_type": "markdown",
   "metadata": {},
   "source": [
    "# Graphs\n",
    "\n",
    "Graphs, according to wikipedia: *a graph is a structure amounting to a set of objects in which some pairs of the objects are in some sense \"related\"*\n",
    "\n",
    "In Francy, Graphs can be created using Shapes (nodes) and Links (edges). Francy, in this case the D3 library, will try its best to shape the graph according to a set of \"forces\". If the Shapes provide x and y coordinates, these will be used instead and the graph will be fixed to those.\n",
    "\n",
    "Supported GraphTypes are:\n",
    "\n",
    "* GraphType.UNDIRECTED\n",
    "* GraphType.DIRECTED\n",
    "* GraphType.TREE\n",
    "\n",
    "By default, Graphs are created with default options set to:\n",
    "\n",
    "* GraphDefaults.simulation [true] - does not work on type **tree**. applies d3 forces to the diagram and arranges the nodes without fixed positions\n",
    "* GraphDefaults.collapsed [true] - only works on type **tree**! whether the graph will be collapsed or not by default.\n",
    "\n",
    "Supported ShapeTypes are (Node Shapes):\n",
    "\n",
    "* ShapeType.TRIANGLE\n",
    "* ShapeType.DIAMOND\n",
    "* ShapeType.CIRCLE\n",
    "* ShapeType.SQUARE\n",
    "* ShapeType.CROSS\n",
    "* ShapeType.STAR\n",
    "* ShapeType.WYE\n",
    "\n",
    "By default, Shapes are created with default options set to:\n",
    "\n",
    "* ShapeDefaults.layer [0] - used to create hasse diagrams to set indexes\n",
    "* ShapeDefaults.size [10]\n",
    "* ShapeDefaults.x [0] - x position in canvas\n",
    "* ShapeDefaults.y [0] - y position in canvas\n",
    "\n",
    "*NOTE: Please note that Francy is not a Graph Library and thus no graph operations, in mathematical terms, are available*\n",
    "\n",
    "## How to create Graphs?\n",
    "\n",
    "Let's see how to create a graph of each type, starting with the Hasse. The Hasse diagram requires the layer to be set, in order to fix y positions to this layer option:\n",
    "\n",
    "```gap\n",
    "gap> graph := Graph(GraphType.UNDIRECTED);\n",
    "gap> shape := Shape(ShapeType.CIRCLE, \"Title\");\n",
    "gap> SetLayer(shape, 1);\n",
    "gap> shape1 := Shape(ShapeType.CIRCLE);\n",
    "gap> SetLayer(shape1, 2);\n",
    "gap> link := Link(shape, shape1);\n",
    "gap> Add(graph, shape);\n",
    "gap> Add(graph, shape1);\n",
    "gap> Add(graph, link);\n",
    "```\n",
    "\n",
    "*NOTE: This might change in order to ease the creation of HASSE diagrams without having to specify the layer. Suggestions are welcome!*\n",
    "\n",
    "A Directed graph instead is simpler:\n",
    "\n",
    "```gap\n",
    "gap> graph := Graph(GraphType.DIRECTED);\n",
    "gap> shape := Shape(ShapeType.CIRCLE, \"Title\");\n",
    "gap> shape1 := Shape(ShapeType.CIRCLE);\n",
    "gap> link := Link(shape, shape1);\n",
    "gap> Add(graph, shape);\n",
    "gap> Add(graph, shape1);\n",
    "gap> Add(graph, link);\n",
    "```\n",
    "\n",
    "Undirected graphs are as simple as Directed ones, but the arrows are not present:\n",
    "\n",
    "```gap\n",
    "gap> graph := Graph(GraphType.UNDIRECTED);\n",
    "gap> shape := Shape(ShapeType.CIRCLE, \"Title\");\n",
    "gap> shape1 := Shape(ShapeType.CIRCLE);\n",
    "gap> link := Link(shape, shape1);\n",
    "gap> Add(graph, shape);\n",
    "gap> Add(graph, shape1);\n",
    "gap> Add(graph, link);\n",
    "```\n",
    "\n",
    "Tree graphs are as simple as the previous ones, but you need to specify the parent node:\n",
    "\n",
    "```gap\n",
    "gap> graph := Graph(GraphType.TREE);\n",
    "gap> shape := Shape(ShapeType.CIRCLE, \"Title\");\n",
    "gap> shape1 := Shape(ShapeType.CIRCLE);\n",
    "gap> Add(graph, shape);\n",
    "gap> Add(graph, shape1);\n",
    "gap> SetParentShape(shape1, shape);\n",
    "```\n",
    "\n",
    "**NOTE: Blue nodes are clickable on trees and allows to expand and collapse.**"
   ]
  },
  {
   "cell_type": "code",
   "execution_count": 101,
   "metadata": {},
   "outputs": [
    {
     "data": {
      "application/vnd.francy+json": "{\"canvas\" : {\"graph\" : {\"collapsed\" : true,\"id\" : \"F4D178A036EF742C2BC6C055D9B907FB9\",\"links\" : {\"F137DB56349C44C86349415D8DBC577B4\" : {\"color\" : \"\",\"id\" : \"F137DB56349C44C86349415D8DBC577B4\",\"invisible\" : false,\"length\" : 0,\"source\" : \"F6712D58088354743248E80CD0871AE9A\",\"target\" : \"FAE9D1BE0EA16438874B27FE539D34269\",\"weight\" : 0}},\"nodes\" : {\"F6712D58088354743248E80CD0871AE9A\" : {\"callbacks\" : {},\"color\" : \"\",\"id\" : \"F6712D58088354743248E80CD0871AE9A\",\"layer\" : 1,\"menus\" : {},\"messages\" : {},\"parent\" : \"\",\"size\" : 10,\"title\" : \"G\",\"type\" : \"circle\",\"x\" : 0,\"y\" : 0},\"FAE9D1BE0EA16438874B27FE539D34269\" : {\"callbacks\" : {},\"color\" : \"\",\"id\" : \"FAE9D1BE0EA16438874B27FE539D34269\",\"layer\" : 2,\"menus\" : {},\"messages\" : {},\"parent\" : \"\",\"size\" : 10,\"title\" : \"1\",\"type\" : \"circle\",\"x\" : 0,\"y\" : 0}},\"simulation\" : true,\"type\" : \"undirected\"},\"height\" : 450,\"id\" : \"F0B1E608E0B7844971C520DBC7A9E74A1\",\"menus\" : {},\"messages\" : {},\"texTypesetting\" : true,\"title\" : \"Example Hasse Graph\",\"width\" : 800,\"zoomToFit\" : true},\"mime\" : \"application\\/vnd.francy+json\",\"version\" : \"1.2.4\"}"
     },
     "execution_count": 101,
     "metadata": {
      "application/vnd.francy+json": {}
     },
     "output_type": "execute_result"
    }
   ],
   "source": [
    "canvas6 := Canvas(\"Example Hasse Graph\");;\n",
    "SetHeight(canvas6, 450);;\n",
    "\n",
    "graph := Graph(GraphType.UNDIRECTED);;\n",
    "\n",
    "shape := Shape(ShapeType.CIRCLE, \"G\");;\n",
    "SetLayer(shape, 1);;\n",
    "shape1 := Shape(ShapeType.CIRCLE, \"1\");;\n",
    "SetLayer(shape1, 2);;\n",
    "Add(graph, shape);;\n",
    "Add(graph, shape1);;\n",
    "\n",
    "link := Link(shape, shape1);;\n",
    "Add(graph, link);;\n",
    "\n",
    "Add(canvas6, graph);;\n",
    "\n",
    "Draw(canvas6);"
   ]
  },
  {
   "cell_type": "code",
   "execution_count": 114,
   "metadata": {},
   "outputs": [
    {
     "data": {
      "application/vnd.francy+json": "{\"canvas\" : {\"graph\" : {\"collapsed\" : true,\"id\" : \"FC17233E967514F6CE4F0F353D6A14C85\",\"links\" : {\"FC31B35D78FF84F2B8C6FAADDC0DB0052\" : {\"color\" : \"\",\"id\" : \"FC31B35D78FF84F2B8C6FAADDC0DB0052\",\"invisible\" : false,\"length\" : 0,\"source\" : \"FB64AF9C0DF8844D5549A677F3E73A8E0\",\"target\" : \"FF8A6855F5AC54313B45FE0312895B7F2\",\"weight\" : 0}},\"nodes\" : {\"FB64AF9C0DF8844D5549A677F3E73A8E0\" : {\"callbacks\" : {},\"color\" : \"\",\"id\" : \"FB64AF9C0DF8844D5549A677F3E73A8E0\",\"layer\" : 1,\"menus\" : {},\"messages\" : {},\"parent\" : \"\",\"size\" : 10,\"title\" : \"G\",\"type\" : \"circle\",\"x\" : 0,\"y\" : 0},\"FF8A6855F5AC54313B45FE0312895B7F2\" : {\"callbacks\" : {},\"color\" : \"\",\"id\" : \"FF8A6855F5AC54313B45FE0312895B7F2\",\"layer\" : 2,\"menus\" : {},\"messages\" : {},\"parent\" : \"\",\"size\" : 10,\"title\" : \"1\",\"type\" : \"circle\",\"x\" : 0,\"y\" : 0}},\"simulation\" : true,\"type\" : \"directed\"},\"height\" : 450,\"id\" : \"FE29E81CAF5734142D4115FBBCB27CD5C\",\"menus\" : {},\"messages\" : {},\"texTypesetting\" : true,\"title\" : \"Example Directed Graph\",\"width\" : 800,\"zoomToFit\" : true},\"mime\" : \"application\\/vnd.francy+json\",\"version\" : \"1.2.4\"}"
     },
     "execution_count": 114,
     "metadata": {
      "application/vnd.francy+json": {}
     },
     "output_type": "execute_result"
    }
   ],
   "source": [
    "canvas7 := Canvas(\"Example Directed Graph\");;\n",
    "SetHeight(canvas7, 450);;\n",
    "\n",
    "graph := Graph(GraphType.DIRECTED);;\n",
    "\n",
    "shape := Shape(ShapeType.CIRCLE, \"G\");;\n",
    "SetLayer(shape, 1);;\n",
    "shape1 := Shape(ShapeType.CIRCLE, \"1\");;\n",
    "SetLayer(shape1, 2);;\n",
    "Add(graph, shape);;\n",
    "Add(graph, shape1);;\n",
    "\n",
    "link := Link(shape, shape1);;\n",
    "Add(graph, link);;\n",
    "\n",
    "Add(canvas7, graph);;\n",
    "\n",
    "Draw(canvas7);"
   ]
  },
  {
   "cell_type": "code",
   "execution_count": 127,
   "metadata": {},
   "outputs": [
    {
     "data": {
      "application/vnd.francy+json": "{\"canvas\" : {\"graph\" : {\"collapsed\" : true,\"id\" : \"FF2206DA17A2A442A9C27B0E5619816C4\",\"links\" : {\"FE06BCD46747840705407AA26AB9BA35A\" : {\"color\" : \"\",\"id\" : \"FE06BCD46747840705407AA26AB9BA35A\",\"invisible\" : false,\"length\" : 0,\"source\" : \"F12B892EB1F6944BD1CB9AEEA3E2DC31B\",\"target\" : \"FA04511C0F9864CD49421236EAD4681D7\",\"weight\" : 0}},\"nodes\" : {\"F12B892EB1F6944BD1CB9AEEA3E2DC31B\" : {\"callbacks\" : {},\"color\" : \"\",\"id\" : \"F12B892EB1F6944BD1CB9AEEA3E2DC31B\",\"layer\" : 1,\"menus\" : {},\"messages\" : {},\"parent\" : \"\",\"size\" : 10,\"title\" : \"G\",\"type\" : \"circle\",\"x\" : 0,\"y\" : 0},\"FA04511C0F9864CD49421236EAD4681D7\" : {\"callbacks\" : {},\"color\" : \"\",\"id\" : \"FA04511C0F9864CD49421236EAD4681D7\",\"layer\" : 2,\"menus\" : {},\"messages\" : {},\"parent\" : \"\",\"size\" : 10,\"title\" : \"1\",\"type\" : \"circle\",\"x\" : 0,\"y\" : 0}},\"simulation\" : true,\"type\" : \"undirected\"},\"height\" : 450,\"id\" : \"F395B367C2F9243410CB0A7E8BCCF58D6\",\"menus\" : {},\"messages\" : {},\"texTypesetting\" : true,\"title\" : \"Example Undirected Graph\",\"width\" : 800,\"zoomToFit\" : true},\"mime\" : \"application\\/vnd.francy+json\",\"version\" : \"1.2.4\"}"
     },
     "execution_count": 127,
     "metadata": {
      "application/vnd.francy+json": {}
     },
     "output_type": "execute_result"
    }
   ],
   "source": [
    "canvas8 := Canvas(\"Example Undirected Graph\");;\n",
    "SetHeight(canvas8, 450);;\n",
    "\n",
    "graph := Graph(GraphType.UNDIRECTED);;\n",
    "\n",
    "shape := Shape(ShapeType.CIRCLE, \"G\");;\n",
    "SetLayer(shape, 1);;\n",
    "shape1 := Shape(ShapeType.CIRCLE, \"1\");;\n",
    "SetLayer(shape1, 2);;\n",
    "Add(graph, shape);;\n",
    "Add(graph, shape1);;\n",
    "\n",
    "link := Link(shape, shape1);;\n",
    "Add(graph, link);;\n",
    "\n",
    "Add(canvas8, graph);;\n",
    "\n",
    "Draw(canvas8);"
   ]
  },
  {
   "cell_type": "code",
   "execution_count": 151,
   "metadata": {},
   "outputs": [
    {
     "data": {
      "application/vnd.francy+json": "{\"canvas\" : {\"graph\" : {\"collapsed\" : true,\"id\" : \"FA79F838DC78B4AEBF4D14426FF5AF0F4\",\"links\" : {\"F04B841BB95E84A5014DCF7B2A0251FC3\" : {\"color\" : \"\",\"id\" : \"F04B841BB95E84A5014DCF7B2A0251FC3\",\"invisible\" : false,\"length\" : 0,\"source\" : \"FC3BF146966EC4D04DCF185F67B457960\",\"target\" : \"FC7D8DD2542844CD584F39D6A21CEE2C7\",\"weight\" : 0},\"F24860B81D2DE491BE4F5F9B4D4A07C7F\" : {\"color\" : \"\",\"id\" : \"F24860B81D2DE491BE4F5F9B4D4A07C7F\",\"invisible\" : false,\"length\" : 0,\"source\" : \"FFE870E8FBCFD498C64744438F77AB719\",\"target\" : \"FCF8B9FDB01264AD5446BBEFB8133E0D1\",\"weight\" : 0},\"F32F85A285C36492DF41341B206CF469A\" : {\"color\" : \"\",\"id\" : \"F32F85A285C36492DF41341B206CF469A\",\"invisible\" : false,\"length\" : 0,\"source\" : \"FB44F8E272E49437FD43BFC7AC2524DF4\",\"target\" : \"FC7D8DD2542844CD584F39D6A21CEE2C7\",\"weight\" : 0},\"F3F10A2DC1ECE471C0CB1E7A1D6292133\" : {\"color\" : \"\",\"id\" : \"F3F10A2DC1ECE471C0CB1E7A1D6292133\",\"invisible\" : false,\"length\" : 0,\"source\" : \"FCF8B9FDB01264AD5446BBEFB8133E0D1\",\"target\" : \"FB44F8E272E49437FD43BFC7AC2524DF4\",\"weight\" : 0},\"FB2EF5C7DE1814CEC9CE0BD93A05AE5A9\" : {\"color\" : \"\",\"id\" : \"FB2EF5C7DE1814CEC9CE0BD93A05AE5A9\",\"invisible\" : false,\"length\" : 0,\"source\" : \"FCF8B9FDB01264AD5446BBEFB8133E0D1\",\"target\" : \"FC3BF146966EC4D04DCF185F67B457960\",\"weight\" : 0},\"FB6420EDE3EBF43D84C022594ED685445\" : {\"color\" : \"\",\"id\" : \"FB6420EDE3EBF43D84C022594ED685445\",\"invisible\" : false,\"length\" : 0,\"source\" : \"FB4A5CE0FD8C84773440706490F3EEAA6\",\"target\" : \"FC7D8DD2542844CD584F39D6A21CEE2C7\",\"weight\" : 0},\"FFF716FCA2C214DC1DC6C7127F700805A\" : {\"color\" : \"\",\"id\" : \"FFF716FCA2C214DC1DC6C7127F700805A\",\"invisible\" : false,\"length\" : 0,\"source\" : \"FCF8B9FDB01264AD5446BBEFB8133E0D1\",\"target\" : \"FB4A5CE0FD8C84773440706490F3EEAA6\",\"weight\" : 0}},\"nodes\" : {\"FB44F8E272E49437FD43BFC7AC2524DF4\" : {\"callbacks\" : {},\"color\" : \"\",\"id\" : \"FB44F8E272E49437FD43BFC7AC2524DF4\",\"layer\" : 0,\"menus\" : {},\"messages\" : {},\"parent\" : \"\",\"size\" : 10,\"title\" : \"SG4\",\"type\" : \"star\",\"x\" : 0,\"y\" : 0},\"FB4A5CE0FD8C84773440706490F3EEAA6\" : {\"callbacks\" : {},\"color\" : \"\",\"id\" : \"FB4A5CE0FD8C84773440706490F3EEAA6\",\"layer\" : 0,\"menus\" : {},\"messages\" : {},\"parent\" : \"\",\"size\" : 10,\"title\" : \"SG2\",\"type\" : \"triangle\",\"x\" : 0,\"y\" : 0},\"FC3BF146966EC4D04DCF185F67B457960\" : {\"callbacks\" : {},\"color\" : \"\",\"id\" : \"FC3BF146966EC4D04DCF185F67B457960\",\"layer\" : 0,\"menus\" : {},\"messages\" : {},\"parent\" : \"\",\"size\" : 10,\"title\" : \"SG3\",\"type\" : \"cross\",\"x\" : 0,\"y\" : 0},\"FC7D8DD2542844CD584F39D6A21CEE2C7\" : {\"callbacks\" : {},\"color\" : \"\",\"id\" : \"FC7D8DD2542844CD584F39D6A21CEE2C7\",\"layer\" : 0,\"menus\" : {},\"messages\" : {},\"parent\" : \"\",\"size\" : 10,\"title\" : \"1\",\"type\" : \"wye\",\"x\" : 0,\"y\" : 0},\"FCF8B9FDB01264AD5446BBEFB8133E0D1\" : {\"callbacks\" : {},\"color\" : \"\",\"id\" : \"FCF8B9FDB01264AD5446BBEFB8133E0D1\",\"layer\" : 0,\"menus\" : {},\"messages\" : {},\"parent\" : \"\",\"size\" : 10,\"title\" : \"SG1\",\"type\" : \"square\",\"x\" : 0,\"y\" : 0},\"FFE870E8FBCFD498C64744438F77AB719\" : {\"callbacks\" : {},\"color\" : \"\",\"id\" : \"FFE870E8FBCFD498C64744438F77AB719\",\"layer\" : 0,\"menus\" : {},\"messages\" : {},\"parent\" : \"\",\"size\" : 10,\"title\" : \"G\",\"type\" : \"diamond\",\"x\" : 0,\"y\" : 0}},\"simulation\" : true,\"type\" : \"undirected\"},\"height\" : 450,\"id\" : \"F0534FB53BDD644774C20549B32BA5956\",\"menus\" : {},\"messages\" : {},\"texTypesetting\" : true,\"title\" : \"Example Multiple Shapes Graph\",\"width\" : 800,\"zoomToFit\" : true},\"mime\" : \"application\\/vnd.francy+json\",\"version\" : \"1.2.4\"}"
     },
     "execution_count": 151,
     "metadata": {
      "application/vnd.francy+json": {}
     },
     "output_type": "execute_result"
    }
   ],
   "source": [
    "canvas9 := Canvas(\"Example Multiple Shapes Graph\");;\n",
    "SetHeight(canvas9, 450);;\n",
    "\n",
    "graph := Graph(GraphType.UNDIRECTED);;\n",
    "\n",
    "shapeG := Shape(ShapeType.DIAMOND, \"G\");;\n",
    "Add(graph, shapeG);;\n",
    "shape1 := Shape(ShapeType.WYE, \"1\");;\n",
    "Add(graph, shape1);;\n",
    "\n",
    "shapeSG1 := Shape(ShapeType.SQUARE, \"SG1\");;\n",
    "Add(graph, shapeSG1);;\n",
    "Add(graph, Link(shapeG, shapeSG1));;\n",
    "\n",
    "shapeSG2 := Shape(ShapeType.TRIANGLE, \"SG2\");;\n",
    "Add(graph, shapeSG2);;\n",
    "Add(graph, Link(shapeSG1, shapeSG2));;\n",
    "Add(graph, Link(shapeSG2, shape1));;\n",
    "\n",
    "shapeSG3 := Shape(ShapeType.CROSS, \"SG3\");;\n",
    "Add(graph, shapeSG3);;\n",
    "Add(graph, Link(shapeSG1, shapeSG3));;\n",
    "Add(graph, Link(shapeSG3, shape1));;\n",
    "\n",
    "shapeSG4 := Shape(ShapeType.STAR, \"SG4\");;\n",
    "Add(graph, shapeSG4);;\n",
    "Add(graph, Link(shapeSG1, shapeSG4));;\n",
    "Add(graph, Link(shapeSG4, shape1));;\n",
    "\n",
    "Add(canvas9, graph);;\n",
    "\n",
    "Draw(canvas9);"
   ]
  },
  {
   "cell_type": "code",
   "execution_count": 168,
   "metadata": {},
   "outputs": [
    {
     "data": {
      "application/vnd.francy+json": "{\"canvas\" : {\"graph\" : {\"collapsed\" : false,\"id\" : \"FCDAA11DED07240C1F4429FBD27CD81D3\",\"links\" : {},\"nodes\" : {\"F1527ED48A5FA4803A4760D4A4ECD67A4\" : {\"callbacks\" : {},\"color\" : \"\",\"id\" : \"F1527ED48A5FA4803A4760D4A4ECD67A4\",\"layer\" : 0,\"menus\" : {},\"messages\" : {},\"parent\" : \"FB044BBE020E04383F4C5C95C677AC07D\",\"size\" : 10,\"title\" : \"SG2\",\"type\" : \"circle\",\"x\" : 0,\"y\" : 0},\"F5EFEB101EAFA4AD5BC6729B00FB31224\" : {\"callbacks\" : {},\"color\" : \"\",\"id\" : \"F5EFEB101EAFA4AD5BC6729B00FB31224\",\"layer\" : 0,\"menus\" : {},\"messages\" : {},\"parent\" : \"\",\"size\" : 10,\"title\" : \"1\",\"type\" : \"square\",\"x\" : 0,\"y\" : 0},\"FB044BBE020E04383F4C5C95C677AC07D\" : {\"callbacks\" : {},\"color\" : \"\",\"id\" : \"FB044BBE020E04383F4C5C95C677AC07D\",\"layer\" : 0,\"menus\" : {},\"messages\" : {},\"parent\" : \"F5EFEB101EAFA4AD5BC6729B00FB31224\",\"size\" : 10,\"title\" : \"G\",\"type\" : \"circle\",\"x\" : 0,\"y\" : 0},\"FEA332E0097E749D3243339D7D5184871\" : {\"callbacks\" : {},\"color\" : \"\",\"id\" : \"FEA332E0097E749D3243339D7D5184871\",\"layer\" : 0,\"menus\" : {},\"messages\" : {},\"parent\" : \"FB044BBE020E04383F4C5C95C677AC07D\",\"size\" : 10,\"title\" : \"SG1\",\"type\" : \"circle\",\"x\" : 0,\"y\" : 0}},\"simulation\" : true,\"type\" : \"tree\"},\"height\" : 450,\"id\" : \"FCB30C5C48EDD45D744A771BD4CA25AD1\",\"menus\" : {},\"messages\" : {},\"texTypesetting\" : true,\"title\" : \"Example Tree Graph\",\"width\" : 800,\"zoomToFit\" : true},\"mime\" : \"application\\/vnd.francy+json\",\"version\" : \"1.2.4\"}"
     },
     "execution_count": 168,
     "metadata": {
      "application/vnd.francy+json": {}
     },
     "output_type": "execute_result"
    }
   ],
   "source": [
    "canvas10 := Canvas(\"Example Tree Graph\");;\n",
    "SetHeight(canvas10, 450);;\n",
    "\n",
    "graph := Graph(GraphType.TREE);;\n",
    "SetCollapsed(graph, false);;\n",
    "\n",
    "shapeG := Shape(ShapeType.CIRCLE, \"G\");;\n",
    "Add(graph, shapeG);;\n",
    "\n",
    "shape1 := Shape(ShapeType.SQUARE, \"1\");;\n",
    "Add(graph, shape1);;\n",
    "\n",
    "shapeSG1 := Shape(ShapeType.CIRCLE, \"SG1\");;\n",
    "Add(graph, shapeSG1);;\n",
    "\n",
    "shapeSG2 := Shape(ShapeType.CIRCLE, \"SG2\");;\n",
    "Add(graph, shapeSG2);;\n",
    "\n",
    "\n",
    "SetParentShape(shapeG, shape1);;\n",
    "SetParentShape(shapeSG1, shapeG);;\n",
    "SetParentShape(shapeSG2, shapeG);;\n",
    "\n",
    "Add(canvas10, graph);;\n",
    "\n",
    "Draw(canvas10);"
   ]
  },
  {
   "cell_type": "markdown",
   "metadata": {},
   "source": [
    "# Charts\n",
    "\n",
    "Charts are another graphical way to represent data.\n",
    "\n",
    "Supported ChartTypes:\n",
    "\n",
    "* ChartType.LINE\n",
    "* ChartType.BAR\n",
    "* ChartType.SCATTER\n",
    "\n",
    "By default, Chart are created with default options set to:\n",
    "\n",
    "* ChartDefaults.labels [true]\n",
    "* ChartDefaults.legend [true]\n",
    "\n",
    "## How to create Charts?\n",
    "\n",
    "Let's see how to create a Chart of each type, starting with the LINE. LINE Charts don't support providing a custom domain, this needs more work!\n",
    "\n",
    "```gap\n",
    "gap> chart := Chart(ChartType.LINE);\n",
    "gap> SetAxisXTitle(chart, \"X Axis\");\n",
    "gap> SetAxisYTitle(chart, \"Y Axis\");\n",
    "\n",
    "gap> data1 := Dataset(\"data1\", [100,20,30,47,90]);\n",
    "gap> data2 := Dataset(\"data2\", [51,60,72,38,97]);\n",
    "gap> data3 := Dataset(\"data3\", [50,60,70,80,90]);\n",
    "\n",
    "gap> Add(chart, [data1, data2, data3]);\n",
    "```\n",
    "\n",
    "The same data in a Bar Chart:\n",
    "\n",
    "```gap\n",
    "gap> chart := Chart(ChartType.BAR);\n",
    "gap> SetAxisXTitle(chart, \"X Axis\");\n",
    "gap> SetAxisXDomain(chart, [\"domain1\", \"domain2\", \"domain3\", \"domain4\", \"domain5\"]);\n",
    "gap> SetAxisYTitle(chart, \"Y Axis\");\n",
    "\n",
    "gap> data1 := Dataset(\"data1\", [100,20,30,47,90]);\n",
    "gap> data2 := Dataset(\"data2\", [51,60,72,38,97]);\n",
    "gap> data3 := Dataset(\"data3\", [50,60,70,80,90]);\n",
    "\n",
    "gap> Add(chart, [data1, data2, data3]);\n",
    "```\n",
    "\n",
    "Same data in a SCATTER Chart:\n",
    "\n",
    "\n",
    "```gap\n",
    "gap> chart := Chart(ChartType.SCATTER);\n",
    "gap> SetAxisXTitle(chart, \"X Axis\");\n",
    "gap> SetAxisYTitle(chart, \"Y Axis\");\n",
    "\n",
    "gap> data1 := Dataset(\"data1\", [100,20,30,47,90]);\n",
    "gap> data2 := Dataset(\"data2\", [51,60,72,38,97]);\n",
    "gap> data3 := Dataset(\"data3\", [50,60,70,80,90]);\n",
    "\n",
    "gap> Add(chart, [data1, data2, data3]);\n",
    "```\n",
    "\n",
    "**NOTE: Charts need more work in general**"
   ]
  },
  {
   "cell_type": "code",
   "execution_count": 179,
   "metadata": {},
   "outputs": [
    {
     "data": {
      "application/vnd.francy+json": "{\"canvas\" : {\"chart\" : {\"axis\" : {\"x\" : {\"domain\" : [],\"scale\" : \"linear\",\"title\" : \"X Axis\"},\"y\" : {\"domain\" : [],\"scale\" : \"linear\",\"title\" : \"Y Axis\"}},\"data\" : {\"data1\" : [\"100\",\"20\",\"30\",\"47\",\"90\"],\"data2\" : [\"51\",\"60\",\"72\",\"38\",\"97\"],\"data3\" : [\"50\",\"60\",\"70\",\"80\",\"90\"]},\"id\" : \"F5934678072AB4FE24C1E02260B3AEC51\",\"showLegend\" : true,\"type\" : \"line\"},\"height\" : 400,\"id\" : \"F6E830FE3BA81486EBC7520C337511CD6\",\"menus\" : {},\"messages\" : {},\"texTypesetting\" : true,\"title\" : \"Example Line Chart\",\"width\" : 800,\"zoomToFit\" : true},\"mime\" : \"application\\/vnd.francy+json\",\"version\" : \"1.2.4\"}"
     },
     "execution_count": 179,
     "metadata": {
      "application/vnd.francy+json": {}
     },
     "output_type": "execute_result"
    }
   ],
   "source": [
    "canvas11 := Canvas(\"Example Line Chart\");;\n",
    "SetHeight(canvas11, 400);;\n",
    "\n",
    "chart := Chart(ChartType.LINE);;\n",
    "SetAxisXTitle(chart, \"X Axis\");;\n",
    "SetAxisYTitle(chart, \"Y Axis\");;\n",
    "\n",
    "data1 := Dataset(\"data1\", [100,20,30,47,90]);;\n",
    "data2 := Dataset(\"data2\", [51,60,72,38,97]);;\n",
    "data3 := Dataset(\"data3\", [50,60,70,80,90]);;\n",
    "\n",
    "Add(chart, [data1, data2, data3]);;\n",
    "Add(canvas11, chart);;\n",
    "\n",
    "Draw(canvas11);"
   ]
  },
  {
   "cell_type": "code",
   "execution_count": 191,
   "metadata": {},
   "outputs": [
    {
     "data": {
      "application/vnd.francy+json": "{\"canvas\" : {\"chart\" : {\"axis\" : {\"x\" : {\"domain\" : [\"domain1\",\"domain2\",\"domain3\",\"domain4\",\"domain5\"],\"scale\" : \"band\",\"title\" : \"X Axis\"},\"y\" : {\"domain\" : [],\"scale\" : \"linear\",\"title\" : \"Y Axis\"}},\"data\" : {\"data1\" : [\"100\",\"20\",\"30\",\"47\",\"90\"],\"data2\" : [\"51\",\"60\",\"72\",\"38\",\"97\"],\"data3\" : [\"50\",\"60\",\"70\",\"80\",\"90\"]},\"id\" : \"FB479E00AD857461C3492CD2E9AC17C3B\",\"showLegend\" : true,\"type\" : \"bar\"},\"height\" : 400,\"id\" : \"FB4034B434D55478FDCB0F67DDDF27F68\",\"menus\" : {},\"messages\" : {},\"texTypesetting\" : true,\"title\" : \"Example Bar Chart\",\"width\" : 800,\"zoomToFit\" : true},\"mime\" : \"application\\/vnd.francy+json\",\"version\" : \"1.2.4\"}"
     },
     "execution_count": 191,
     "metadata": {
      "application/vnd.francy+json": {}
     },
     "output_type": "execute_result"
    }
   ],
   "source": [
    "canvas12 := Canvas(\"Example Bar Chart\");;\n",
    "SetHeight(canvas12, 400);;\n",
    "\n",
    "chart := Chart(ChartType.BAR);;\n",
    "SetAxisXTitle(chart, \"X Axis\");;\n",
    "SetAxisXDomain(chart, [\"domain1\", \"domain2\", \"domain3\", \"domain4\", \"domain5\"]);;\n",
    "SetAxisYTitle(chart, \"Y Axis\");;\n",
    "\n",
    "data1 := Dataset(\"data1\", [100,20,30,47,90]);;\n",
    "data2 := Dataset(\"data2\", [51,60,72,38,97]);;\n",
    "data3 := Dataset(\"data3\", [50,60,70,80,90]);;\n",
    "\n",
    "Add(chart, [data1, data2, data3]);;\n",
    "Add(canvas12, chart);;\n",
    "\n",
    "Draw(canvas12);"
   ]
  },
  {
   "cell_type": "code",
   "execution_count": 202,
   "metadata": {},
   "outputs": [
    {
     "data": {
      "application/vnd.francy+json": "{\"canvas\" : {\"chart\" : {\"axis\" : {\"x\" : {\"domain\" : [],\"scale\" : \"linear\",\"title\" : \"X Axis\"},\"y\" : {\"domain\" : [],\"scale\" : \"linear\",\"title\" : \"Y Axis\"}},\"data\" : {\"data1\" : [\"100\",\"20\",\"30\",\"47\",\"90\"],\"data2\" : [\"51\",\"60\",\"72\",\"38\",\"97\"],\"data3\" : [\"50\",\"60\",\"70\",\"80\",\"90\"]},\"id\" : \"FF151E849EF1240EC1C406B98F589C16A\",\"showLegend\" : true,\"type\" : \"scatter\"},\"height\" : 400,\"id\" : \"F385580564AD04AE4B45C1A31853FFE70\",\"menus\" : {},\"messages\" : {},\"texTypesetting\" : true,\"title\" : \"Example Scatter Chart\",\"width\" : 800,\"zoomToFit\" : true},\"mime\" : \"application\\/vnd.francy+json\",\"version\" : \"1.2.4\"}"
     },
     "execution_count": 202,
     "metadata": {
      "application/vnd.francy+json": {}
     },
     "output_type": "execute_result"
    }
   ],
   "source": [
    "canvas13 := Canvas(\"Example Scatter Chart\");;\n",
    "SetHeight(canvas13, 400);;\n",
    "\n",
    "chart := Chart(ChartType.SCATTER);;\n",
    "SetAxisXTitle(chart, \"X Axis\");;\n",
    "SetAxisYTitle(chart, \"Y Axis\");;\n",
    "\n",
    "data1 := Dataset(\"data1\", [100,20,30,47,90]);;\n",
    "data2 := Dataset(\"data2\", [51,60,72,38,97]);;\n",
    "data3 := Dataset(\"data3\", [50,60,70,80,90]);;\n",
    "\n",
    "Add(chart, [data1, data2, data3]);;\n",
    "Add(canvas13, chart);;\n",
    "\n",
    "Draw(canvas13);"
   ]
  },
  {
   "cell_type": "code",
   "execution_count": null,
   "metadata": {},
   "outputs": [],
   "source": []
  }
 ],
 "metadata": {
  "kernelspec": {
   "display_name": "GAP 4",
   "language": "gap",
   "name": "gap-4"
  },
  "language_info": {
   "codemirror_mode": "gap",
   "file_extension": ".g",
   "mimetype": "text/x-gap",
   "name": "GAP 4",
   "nbconvert_exporter": "",
   "pygments_lexer": "gap",
   "version": "4.13dev"
  },
  "widgets": {
   "application/vnd.jupyter.widget-state+json": {
    "state": {},
    "version_major": 2,
    "version_minor": 0
   }
  }
 },
 "nbformat": 4,
 "nbformat_minor": 4
}
