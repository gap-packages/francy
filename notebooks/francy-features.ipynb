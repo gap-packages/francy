{
 "cells": [
  {
   "cell_type": "code",
   "execution_count": 235,
   "metadata": {},
   "outputs": [
    {
     "data": {
      "text/plain": [
       "true"
      ]
     },
     "execution_count": 235,
     "metadata": {
      "text/plain": ""
     },
     "output_type": "execute_result"
    }
   ],
   "source": [
    "LoadPackage(\"francy\");"
   ]
  },
  {
   "cell_type": "markdown",
   "metadata": {},
   "source": [
    "# Francy Package\n",
    "\n",
    "Francy is responsible for creating a representational structure that can be rendered using pretty much any UI framework\n",
    "in any language for any OS.\n",
    "\n",
    "Francy JS renders this model in Jupyter, and allows interactivity with GAP."
   ]
  },
  {
   "cell_type": "markdown",
   "metadata": {},
   "source": [
    "# Draw\n",
    "\n",
    "Draw is the main function of Francy. It renders a canvas and all the child objects in Jupyter environment or any other environment which connects to GAP somehow, e.g. a webssh console with websockets, etc.\n",
    "\n",
    "### DrawSplash\n",
    "\n",
    "DrawSplash uses Draw to generate the data and creates a Static HTML Page that can be embedded or viewed in any browser, in \"offline\" mode.\n",
    "\n",
    "**NOTE: When using this, there will be no interaction back to gap as there is no kernel orchestrating the communication between francy and gap! This might change in the future, but no plans to implement such functionality using websockets at the moment.**"
   ]
  },
  {
   "cell_type": "markdown",
   "metadata": {},
   "source": [
    "# Canvas\n",
    "\n",
    "Canvas are the base where graphics are produced. A Canvas is constituted by a Main Menu and an area where the graphics are produced.\n",
    "\n",
    "## How to create a Canvas?\n",
    "\n",
    "It is possible to set some default configurations for the canvas:\n",
    "\n",
    "```gap\n",
    "gap> defaults := CanvasDefaults;\n",
    "gap> Sanitize(defaults);\n",
    "rec( height := 600, width := 800, zoomToFit := true )\n",
    "gap> SetWidth(defaults, 830);\n",
    "gap> SetHeight(defaults, 630);\n",
    "gap> SetZoomToFit(defaults, false);\n",
    "gap> SetTexTypesetting(defaults, true);\n",
    "gap> canvas := Canvas(\"Example Canvas\", defaults);\n",
    "\n",
    "```\n",
    "\n",
    "Or it can be done after, by:\n",
    "\n",
    "```gap\n",
    "gap> canvas := Canvas(\"Example Canvas\");\n",
    "gap> SetWidth(canvas, 850);\n",
    "gap> SetHeight(canvas, 650);\n",
    "gap> SetZoomToFit(canvas, true);\n",
    "```"
   ]
  },
  {
   "cell_type": "code",
   "execution_count": 253,
   "metadata": {},
   "outputs": [
    {
     "data": {
      "application/vnd.francy+json": "{\"version\" : \"0.6.0\",\"mime\" : \"application\\/vnd.francy+json\",\"canvas\" : {\"width\" : 800,\"id\" : \"F106\",\"height\" : 100,\"title\" : \"Callbacks in action\",\"zoomToFit\" : true,\"texTypesetting\" : true,\"menus\" : {\"F112\" : {\"id\" : \"F112\",\"title\" : \"Hello Menu Action\",\"callback\" : {\"func\" : \"HelloWorld\",\"id\" : \"F109\",\"trigger\" : \"click\",\"knownArgs\" : [],\"requiredArgs\" : {\"F110\" : {\"type\" : \"text\",\"id\" : \"F110\",\"title\" : \"Your Name?\",\"value\" : \"\"}}},\"menus\" : {}},\"F111\" : {\"id\" : \"F111\",\"title\" : \"Example Menu Holder\",\"callback\" : {},\"menus\" : {\"F112\" : {\"id\" : \"F112\",\"title\" : \"Hello Menu Action\",\"callback\" : {\"func\" : \"HelloWorld\",\"id\" : \"F109\",\"trigger\" : \"click\",\"knownArgs\" : [],\"requiredArgs\" : {\"F110\" : {\"type\" : \"text\",\"id\" : \"F110\",\"title\" : \"Your Name?\",\"value\" : \"\"}}},\"menus\" : {}}}}},\"graph\" : {\"type\" : \"undirected\",\"id\" : \"F107\",\"simulation\" : true,\"collapsed\" : true,\"drag\" : false,\"showNeighbours\" : false,\"nodes\" : {\"F108\" : {\"x\" : 0,\"y\" : 0,\"type\" : \"circle\",\"id\" : \"F108\",\"size\" : 10,\"title\" : \"$x^2$\",\"color\" : \"\",\"highlight\" : true,\"layer\" : 0,\"parent\" : \"\",\"menus\" : {\"F112\" : {\"id\" : \"F112\",\"title\" : \"Hello Menu Action\",\"callback\" : {\"func\" : \"HelloWorld\",\"id\" : \"F109\",\"trigger\" : \"click\",\"knownArgs\" : [],\"requiredArgs\" : {\"F110\" : {\"type\" : \"text\",\"id\" : \"F110\",\"title\" : \"Your Name?\",\"value\" : \"\"}}},\"menus\" : {}}},\"messages\" : {},\"callbacks\" : {}}},\"links\" : {}},\"messages\" : {}}}"
     },
     "execution_count": 253,
     "metadata": {
      "application/vnd.francy+json": {}
     },
     "output_type": "execute_result"
    }
   ],
   "source": [
    "canvas := Canvas(\"Callbacks in action\");;\n",
    "SetTexTypesetting(canvas, true);;\n",
    "SetHeight(canvas, 100);;\n",
    "\n",
    "graph := Graph(GraphType.UNDIRECTED);; # will go throughout graphs later\n",
    "shape := Shape(ShapeType.CIRCLE, \"$x^2$\");; # will go throughout shapes later\n",
    "Add(graph, shape);;\n",
    "Add(canvas, graph);;\n",
    "\n",
    "HelloWorld := function(name)\n",
    "    Add(canvas, FrancyMessage(Concatenation(\"Hello, \", name))); #  will go throughout messages later\n",
    "    return Draw(canvas);\n",
    "end;;\n",
    "\n",
    "callback1 := Callback(HelloWorld);;\n",
    "arg1 := RequiredArg(ArgType.STRING, \"Your Name?\");;\n",
    "Add(callback1, arg1);;\n",
    "\n",
    "menu := Menu(\"Example Menu Holder\");;\n",
    "menu1 := Menu( \"Hello Menu Action\", callback1 );;\n",
    "Add(menu, menu1);;\n",
    "\n",
    "Add(canvas, menu);;\n",
    "Add(canvas, menu1);;\n",
    "Add(shape, menu1);;\n",
    "\n",
    "Draw(canvas);"
   ]
  },
  {
   "cell_type": "markdown",
   "metadata": {},
   "source": [
    "# Menus\n",
    "\n",
    "Menus can be added to the Canvas, where they will be added to the Main Menu on the Top, or to Shapes, ahere they will appear as Context Menu - Mouse right click.\n",
    "\n",
    "The Main Menu has by default a Menu entry called Francy with 3 Sub Menus: Zoom to Fit, Save to PNG and About.\n",
    "\n",
    "*NOTE: Save to PNG is broken at the moment due to some bug in the library used, when executed on Jupyter!*\n",
    "\n",
    "# Callbacks\n",
    "\n",
    "A Callback is a function that is triggered in GAP and can be added to Menus and/or Shapes.\n",
    "\n",
    "## How to create a Callback?\n",
    "\n",
    "Callbacks can be created in many different ways, and it will depend on what you want to do.\n",
    "\n",
    "Callbacks are triggered with mouse events. Available TriggerTypes are:\n",
    "\n",
    "* TriggerType.DOUBLE_CLICK\n",
    "* TriggerType.RIGHT_CLICK\n",
    "* TriggerType.CLICK\n",
    "\n",
    "*NOTE: No matter what you choose for TriggerType on a callback that is used on a Menu will always default to TriggerType.CLICK!*\n",
    "\n",
    "Calling a Simple function that doesn't require any argument is the simplest form:\n",
    "\n",
    "```gap\n",
    "gap> MyFunction := function()\n",
    ">    # Must return allways! This is because GAP CallFuncList is used and requires it\n",
    ">    return;\n",
    "> end;\n",
    "gap> callback := Callback(MyFunction); # defaults to CLICK event\n",
    "gap> callback := Callback(TriggerType.DOUBLE_CLICK, MyFunction);\n",
    "```\n",
    "\n",
    "Calling a Function with a \"known\" argument is also simple:\n",
    "\n",
    "```gap\n",
    "gap> canvas := Canvas(\"Callbacks in Action!\");\n",
    "gap> MyFunction := function(someKnownArg)\n",
    ">    # Do some crazy computation\n",
    ">    # Redraw\n",
    ">  return Draw(canvas);\n",
    "> end;\n",
    "gap> something := NumericalSemigroup(10,11,19);\n",
    "gap> callback := Callback(MyFunction, [something]);\n",
    "```\n",
    "\n",
    "What if we want the user to give some input? Well, this is the case you have \"required\" arguments:\n",
    "\n",
    "```gap\n",
    "gap> canvas := Canvas(\"Callbacks in Action!\");\n",
    "gap> MyFunction := function(someKnownArg, someUserInputArg)\n",
    ">    # Do Some Crazy computation\n",
    ">    # Redraw\n",
    ">    return Draw(canvas);\n",
    "> end;\n",
    "gap> something := NumericalSemigroup(10,11,19);\n",
    "gap> callback := Callback(MyFunction, [something]);\n",
    "gap> arg := RequiredArg(ArgType.NUMBER, \"Give me a Prime?\");\n",
    "gap> Add(callback, arg);\n",
    "```\n",
    "\n",
    "Required Arguments type defines the data type. Available ArgTypes are:\n",
    "\n",
    "* ArgType.BOOLEAN\n",
    "* ArgType.STRING\n",
    "* ArgType.NUMBER\n",
    "\n",
    "\n",
    "## How to create a Menu?\n",
    "\n",
    "Menus can include a Callback or not. Menus without callback are useful for holding Submenus.\n",
    "\n",
    "```gap\n",
    "gap> callback := Callback(MyCallbackFunction);\n",
    "gap> menu := Menu(\"Example Holder Menu\");\n",
    "gap> submenu := Menu(\"I'm a Submenu!\", callback);\n",
    "gap> Add(menu, submenu);\n",
    "gap> Add(canvas, menu);\n",
    "```\n",
    "\n",
    "Or as a top Menu:\n",
    "\n",
    "```gap\n",
    "gap> callback := Callback(MyCallbackFunction);\n",
    "gap> menu := Menu(\"Menu\", callback);\n",
    "gap> Add(canvas, menu);\n",
    "```\n",
    "\n",
    "The same menu objects can be used in Shapes:\n",
    "* NOTE: Submenus are flatenned in context menus!*\n",
    "\n",
    "```gap\n",
    "gap> shape := Shape(SpaheType.CIRCLE); # will go throughout shapes and graphs later\n",
    "gap> Add(shape, menu);\n",
    "```"
   ]
  },
  {
   "cell_type": "code",
   "execution_count": 271,
   "metadata": {},
   "outputs": [
    {
     "data": {
      "application/vnd.francy+json": "{\"version\" : \"0.6.0\",\"mime\" : \"application\\/vnd.francy+json\",\"canvas\" : {\"width\" : 800,\"id\" : \"F113\",\"height\" : 100,\"title\" : \"Callbacks in action\",\"zoomToFit\" : true,\"texTypesetting\" : false,\"menus\" : {\"F119\" : {\"id\" : \"F119\",\"title\" : \"Hello Menu Action\",\"callback\" : {\"func\" : \"HelloWorld\",\"id\" : \"F116\",\"trigger\" : \"click\",\"knownArgs\" : [],\"requiredArgs\" : {\"F117\" : {\"type\" : \"text\",\"id\" : \"F117\",\"title\" : \"Your Name?\",\"value\" : \"\"}}},\"menus\" : {}},\"F118\" : {\"id\" : \"F118\",\"title\" : \"Example Menu Holder\",\"callback\" : {},\"menus\" : {\"F119\" : {\"id\" : \"F119\",\"title\" : \"Hello Menu Action\",\"callback\" : {\"func\" : \"HelloWorld\",\"id\" : \"F116\",\"trigger\" : \"click\",\"knownArgs\" : [],\"requiredArgs\" : {\"F117\" : {\"type\" : \"text\",\"id\" : \"F117\",\"title\" : \"Your Name?\",\"value\" : \"\"}}},\"menus\" : {}}}}},\"graph\" : {\"type\" : \"undirected\",\"id\" : \"F114\",\"simulation\" : true,\"collapsed\" : true,\"drag\" : false,\"showNeighbours\" : false,\"nodes\" : {\"F115\" : {\"x\" : 0,\"y\" : 0,\"type\" : \"circle\",\"id\" : \"F115\",\"size\" : 10,\"title\" : \"\",\"color\" : \"#2E8B57\",\"highlight\" : true,\"layer\" : 0,\"parent\" : \"\",\"menus\" : {\"F119\" : {\"id\" : \"F119\",\"title\" : \"Hello Menu Action\",\"callback\" : {\"func\" : \"HelloWorld\",\"id\" : \"F116\",\"trigger\" : \"click\",\"knownArgs\" : [],\"requiredArgs\" : {\"F117\" : {\"type\" : \"text\",\"id\" : \"F117\",\"title\" : \"Your Name?\",\"value\" : \"\"}}},\"menus\" : {}}},\"messages\" : {},\"callbacks\" : {}}},\"links\" : {}},\"messages\" : {}}}"
     },
     "execution_count": 271,
     "metadata": {
      "application/vnd.francy+json": {}
     },
     "output_type": "execute_result"
    }
   ],
   "source": [
    "canvas := Canvas(\"Callbacks in action\");;\n",
    "SetHeight(canvas, 100);;\n",
    "\n",
    "graph := Graph(GraphType.UNDIRECTED);; # will go throughout graphs later\n",
    "shape := Shape(ShapeType.CIRCLE);; # will go throughout shapes later\n",
    "SetColor(shape, \"#2E8B57\");;\n",
    "Add(graph, shape);;\n",
    "Add(canvas, graph);;\n",
    "\n",
    "HelloWorld := function(name)\n",
    "    Add(canvas, FrancyMessage(Concatenation(\"Hello, \", name))); #  will go throughout messages later\n",
    "    return Draw(canvas);\n",
    "end;;\n",
    "\n",
    "callback1 := Callback(HelloWorld);;\n",
    "arg1 := RequiredArg(ArgType.STRING, \"Your Name?\");;\n",
    "Add(callback1, arg1);;\n",
    "\n",
    "menu := Menu(\"Example Menu Holder\");;\n",
    "menu1 := Menu( \"Hello Menu Action\", callback1 );;\n",
    "Add(menu, menu1);;\n",
    "\n",
    "Add(canvas, menu);;\n",
    "Add(canvas, menu1);;\n",
    "Add(shape, menu1);;\n",
    "\n",
    "Draw(canvas);"
   ]
  },
  {
   "cell_type": "code",
   "execution_count": 288,
   "metadata": {},
   "outputs": [
    {
     "data": {
      "application/vnd.francy+json": "{\"version\" : \"0.6.0\",\"mime\" : \"application\\/vnd.francy+json\",\"canvas\" : {\"width\" : 800,\"id\" : \"F120\",\"height\" : 100,\"title\" : \"Example Callbacks with Known Arguments\",\"zoomToFit\" : true,\"texTypesetting\" : false,\"menus\" : {},\"graph\" : {\"type\" : \"directed\",\"id\" : \"F121\",\"simulation\" : true,\"collapsed\" : true,\"drag\" : false,\"showNeighbours\" : false,\"nodes\" : {\"F122\" : {\"x\" : 0,\"y\" : 0,\"type\" : \"circle\",\"id\" : \"F122\",\"size\" : 10,\"title\" : \"Click Me 1\",\"color\" : \"\",\"highlight\" : true,\"layer\" : 0,\"parent\" : \"\",\"menus\" : {},\"messages\" : {},\"callbacks\" : {\"F124\" : {\"func\" : \"WhichNode\",\"id\" : \"F124\",\"trigger\" : \"click\",\"knownArgs\" : [\"<object>\"],\"requiredArgs\" : {}}}},\"F123\" : {\"x\" : 0,\"y\" : 0,\"type\" : \"circle\",\"id\" : \"F123\",\"size\" : 10,\"title\" : \"Click Me 2\",\"color\" : \"\",\"highlight\" : true,\"layer\" : 0,\"parent\" : \"\",\"menus\" : {},\"messages\" : {},\"callbacks\" : {\"F125\" : {\"func\" : \"WhichNode\",\"id\" : \"F125\",\"trigger\" : \"click\",\"knownArgs\" : [\"<object>\"],\"requiredArgs\" : {}}}}},\"links\" : {\"F126\" : {\"id\" : \"F126\",\"source\" : \"F122\",\"weight\" : 2,\"title\" : \"or\",\"color\" : \"red\",\"target\" : \"F123\"}}},\"messages\" : {}}}"
     },
     "execution_count": 288,
     "metadata": {
      "application/vnd.francy+json": {}
     },
     "output_type": "execute_result"
    }
   ],
   "source": [
    "canvas := Canvas(\"Example Callbacks with Known Arguments\");;\n",
    "SetHeight(canvas, 100);;\n",
    "\n",
    "graph := Graph(GraphType.DIRECTED);;\n",
    "\n",
    "shape := Shape(ShapeType.CIRCLE, \"Click Me 1\");;\n",
    "shape1 := Shape(ShapeType.CIRCLE, \"Click Me 2\");;\n",
    "Add(graph, shape);;\n",
    "Add(graph, shape1);;\n",
    "\n",
    "WhichNode := function(node)\n",
    "    Add(canvas, FrancyMessage(node!.title));\n",
    "    return Draw(canvas);\n",
    "end;;\n",
    "\n",
    "Add(shape, Callback(WhichNode, [shape]));; # similar to Add(shape, Callback(TriggerEvent.CLICK, WhichNode, [shape]));\n",
    "Add(shape1, Callback(WhichNode, [shape1]));; # similar to Add(shape1, Callback(TriggerEvent.CLICK, WhichNode, [shape1]));\n",
    "\n",
    "link := Link(shape, shape1);;\n",
    "SetWeight(link, 2);;\n",
    "SetColor(link, \"red\");;\n",
    "SetTitle(link, \"or\");;\n",
    "Add(graph, link);;\n",
    "\n",
    "Add(canvas, graph);;\n",
    "\n",
    "Draw(canvas);"
   ]
  },
  {
   "cell_type": "markdown",
   "metadata": {},
   "source": [
    "# Messages\n",
    "\n",
    "Messages are usefull for providing information to the user. Messages can be added to the Canvas and/or to Shapes.\n",
    "\n",
    "Messages added to a Canvas are displayed as messages using colors to differentiate types, they appear on the top left corner and can be dismissed by clicking on them.\n",
    "\n",
    "Messages added to a Shape are displayed as tooltips and their types are not taken in account, they appear when the user moves the mouse hover the Shape.\n",
    "\n",
    "## How to create Messages?\n",
    "\n",
    "Once again, creating messages is fairly simple and depends on the purpose of the message.\n",
    "\n",
    "Messages can be of the following types:\n",
    "\n",
    "* FrancyMessageType.INFO\n",
    "* FrancyMessageType.ERROR\n",
    "* FrancyMessageType.SUCCESS\n",
    "* FrancyMessageType.WARNING\n",
    "* FrancyMessageType.DEFAULT\n",
    "\n",
    "The simplest Message with the default type would be:\n",
    "\n",
    "```gap\n",
    "gap> FrancyMessage(\"Hello\", \"World\"); # title and text\n",
    "gap> FrancyMessage(\"Hello\"); # without title\n",
    "```\n",
    "\n",
    "Messages with a custom type:\n",
    "\n",
    "```gap\n",
    "gap> FrancyMessage(FrancyMessageType.INFO, \"Hello\", \"World\"); # title and text\n",
    "gap> FrancyMessage(FrancyMessageType.INFO, \"Hello\"); # without title\n",
    "```"
   ]
  },
  {
   "cell_type": "code",
   "execution_count": 300,
   "metadata": {},
   "outputs": [
    {
     "data": {
      "application/vnd.francy+json": "{\"version\" : \"0.6.0\",\"mime\" : \"application\\/vnd.francy+json\",\"canvas\" : {\"width\" : 800,\"id\" : \"F127\",\"height\" : 100,\"title\" : \"Example Callbacks with Known Arguments\",\"zoomToFit\" : true,\"texTypesetting\" : false,\"menus\" : {},\"graph\" : {\"type\" : \"directed\",\"id\" : \"F128\",\"simulation\" : true,\"collapsed\" : true,\"drag\" : false,\"showNeighbours\" : false,\"nodes\" : {\"F129\" : {\"x\" : 0,\"y\" : 0,\"type\" : \"circle\",\"id\" : \"F129\",\"size\" : 10,\"title\" : \"Click Me\",\"color\" : \"\",\"highlight\" : true,\"layer\" : 0,\"parent\" : \"\",\"menus\" : {},\"messages\" : {},\"callbacks\" : {\"F131\" : {\"func\" : \"WhichNode\",\"id\" : \"F131\",\"trigger\" : \"click\",\"knownArgs\" : [\"<object>\",\"<object>\"],\"requiredArgs\" : {}}}},\"F130\" : {\"x\" : 0,\"y\" : 0,\"type\" : \"circle\",\"id\" : \"F130\",\"size\" : 10,\"title\" : \"Click Me\",\"color\" : \"\",\"highlight\" : true,\"layer\" : 0,\"parent\" : \"\",\"menus\" : {},\"messages\" : {},\"callbacks\" : {\"F132\" : {\"func\" : \"WhichNode\",\"id\" : \"F132\",\"trigger\" : \"click\",\"knownArgs\" : [\"<object>\",\"<object>\"],\"requiredArgs\" : {}}}}},\"links\" : {}},\"messages\" : {}}}"
     },
     "execution_count": 300,
     "metadata": {
      "application/vnd.francy+json": {}
     },
     "output_type": "execute_result"
    }
   ],
   "source": [
    "canvas := Canvas(\"Example Callbacks with Known Arguments\");;\n",
    "SetHeight(canvas, 100);;\n",
    "\n",
    "graph := Graph(GraphType.DIRECTED);;\n",
    "Add(canvas, graph);;\n",
    "\n",
    "shape := Shape(ShapeType.CIRCLE, \"Click Me\");;\n",
    "shape1 := Shape(ShapeType.CIRCLE, \"Click Me\");;\n",
    "Add(graph, shape);;\n",
    "Add(graph, shape1);;\n",
    "\n",
    "WhichNode := function(c, node)\n",
    "    Add(c, FrancyMessage(String(node!.title)));\n",
    "    return Draw(c);\n",
    "end;;\n",
    "\n",
    "Add(shape, Callback(WhichNode, [canvas, shape]));; # similar to Add(shape, Callback(TriggerEvent.CLICK, WhichNode, [shape]));\n",
    "Add(shape1, Callback(WhichNode, [canvas, shape1]));; # similar to Add(shape1, Callback(TriggerEvent.CLICK, WhichNode, [shape1]));\n",
    "\n",
    "Draw(canvas);"
   ]
  },
  {
   "cell_type": "code",
   "execution_count": 318,
   "metadata": {},
   "outputs": [
    {
     "data": {
      "application/vnd.francy+json": "{\"version\" : \"0.6.0\",\"mime\" : \"application\\/vnd.francy+json\",\"canvas\" : {\"width\" : 800,\"id\" : \"F133\",\"height\" : 100,\"title\" : \"Example Canvas \\/ Shape with Messages\",\"zoomToFit\" : true,\"texTypesetting\" : true,\"menus\" : {},\"graph\" : {\"type\" : \"undirected\",\"id\" : \"F134\",\"simulation\" : true,\"collapsed\" : true,\"drag\" : false,\"showNeighbours\" : false,\"nodes\" : {\"F135\" : {\"x\" : 0,\"y\" : 0,\"type\" : \"circle\",\"id\" : \"F135\",\"size\" : 10,\"title\" : \"\",\"color\" : \"\",\"highlight\" : true,\"layer\" : 0,\"parent\" : \"\",\"menus\" : {},\"messages\" : {\"F137\" : {\"type\" : \"info\",\"id\" : \"F137\",\"text\" : \"Hello $x^2$\",\"title\" : \"\"},\"F139\" : {\"type\" : \"error\",\"id\" : \"F139\",\"text\" : \"Hello\",\"title\" : \"Oops\"},\"F141\" : {\"type\" : \"warning\",\"id\" : \"F141\",\"text\" : \"Hello\",\"title\" : \"\"},\"F143\" : {\"type\" : \"success\",\"id\" : \"F143\",\"text\" : \"Hello\",\"title\" : \"\"},\"F145\" : {\"type\" : \"default\",\"id\" : \"F145\",\"text\" : \"World\",\"title\" : \"Hello\"}},\"callbacks\" : {}}},\"links\" : {}},\"messages\" : {\"F136\" : {\"type\" : \"info\",\"id\" : \"F136\",\"text\" : \"Hello $x^2$\",\"title\" : \"\"},\"F138\" : {\"type\" : \"error\",\"id\" : \"F138\",\"text\" : \"Hello\",\"title\" : \"Oops\"},\"F140\" : {\"type\" : \"warning\",\"id\" : \"F140\",\"text\" : \"Hello\",\"title\" : \"\"},\"F142\" : {\"type\" : \"success\",\"id\" : \"F142\",\"text\" : \"Hello\",\"title\" : \"\"},\"F144\" : {\"type\" : \"default\",\"id\" : \"F144\",\"text\" : \"World\",\"title\" : \"Hello\"}}}}"
     },
     "execution_count": 318,
     "metadata": {
      "application/vnd.francy+json": {}
     },
     "output_type": "execute_result"
    }
   ],
   "source": [
    "canvas := Canvas(\"Example Canvas / Shape with Messages\");;\n",
    "SetTexTypesetting(canvas, true);;\n",
    "SetHeight(canvas, 100);;\n",
    "\n",
    "graph := Graph(GraphType.UNDIRECTED);; # will go throughout graphs later\n",
    "shape := Shape(ShapeType.CIRCLE);; # will go throughout shapes later\n",
    "Add(graph, shape);;\n",
    "Add(canvas, graph);;\n",
    "\n",
    "Add(canvas, FrancyMessage(FrancyMessageType.INFO, \"Hello $x^2$\"));;\n",
    "Add(shape, FrancyMessage(FrancyMessageType.INFO, \"Hello $x^2$\"));;\n",
    "Add(canvas, FrancyMessage(FrancyMessageType.ERROR, \"Oops\", \"Hello\"));;\n",
    "Add(shape, FrancyMessage(FrancyMessageType.ERROR, \"Oops\", \"Hello\"));;\n",
    "Add(canvas, FrancyMessage(FrancyMessageType.WARNING, \"Hello\"));;\n",
    "Add(shape, FrancyMessage(FrancyMessageType.WARNING, \"Hello\"));;\n",
    "Add(canvas, FrancyMessage(FrancyMessageType.SUCCESS, \"Hello\"));;\n",
    "Add(shape, FrancyMessage(FrancyMessageType.SUCCESS, \"Hello\"));;\n",
    "Add(canvas, FrancyMessage(\"Hello\", \"World\"));;\n",
    "Add(shape, FrancyMessage(\"Hello\", \"World\"));;\n",
    "\n",
    "Draw(canvas);"
   ]
  },
  {
   "cell_type": "markdown",
   "metadata": {},
   "source": [
    "# Graphs\n",
    "\n",
    "Graphs, according to wikipedia: *a graph is a structure amounting to a set of objects in which some pairs of the objects are in some sense \"related\"*\n",
    "\n",
    "In Francy, Graphs can be created using Shapes (nodes) and Links (edges). Francy, in this case the D3 library, will try its best to shape the graph according to a set of \"forces\". If the Shapes provide x and y coordinates, these will be used instead and the graph will be fixed to those.\n",
    "\n",
    "Supported GraphTypes are:\n",
    "\n",
    "* GraphType.UNDIRECTED\n",
    "* GraphType.DIRECTED\n",
    "* GraphType.TREE\n",
    "\n",
    "By default, Graphs are created with default options set to:\n",
    "\n",
    "* GraphDefaults.simulation [true] - does not work on type **tree**. applies d3 forces to the diagram and arranges the nodes without fixed positions\n",
    "* GraphDefaults.drag [true] - does not work on type **tree**. allows the user to interact my dragging noes around\n",
    "* GraphDefaults.collapsed [true] - only works on type **tree**! whether the graph will be collapsed or not by default.\n",
    "* GraphDefaults.showNeighbours [true] - does not work on type **tree**. Whether default behavior of clicking is to show the neighbours of the selected node.\n",
    "\n",
    "Supported ShapeTypes are (Node Shapes):\n",
    "\n",
    "* ShapeType.TRIANGLE\n",
    "* ShapeType.DIAMOND\n",
    "* ShapeType.CIRCLE\n",
    "* ShapeType.SQUARE\n",
    "* ShapeType.CROSS\n",
    "* ShapeType.STAR\n",
    "* ShapeType.WYE\n",
    "\n",
    "By default, Shapes are created with default options set to:\n",
    "\n",
    "* ShapeDefaults.highlight [true]\n",
    "* ShapeDefaults.layer [0] - used to creat hasse diagrams to set indexes\n",
    "* ShapeDefaults.size [10]\n",
    "* ShapeDefaults.x [0] - x position in canvas\n",
    "* ShapeDefaults.y [0] - y position in canvas\n",
    "\n",
    "*NOTE: Please note that Francy is not a Graph Library and thus no graph operations, in mathematical terms, are available*\n",
    "\n",
    "## How to create Graphs?\n",
    "\n",
    "Let's see how to create a graph of each type, starting with the Hasse. The Hasse diagram requires the layer to be set, in order to fix y positions to this layer option:\n",
    "\n",
    "```gap\n",
    "gap> graph := Graph(GraphType.UNDIRECTED);\n",
    "gap> shape := Shape(ShapeType.CIRCLE, \"Title\");\n",
    "gap> SetLayer(shape, 1);\n",
    "gap> shape1 := Shape(ShapeType.CIRCLE);\n",
    "gap> SetLayer(shape1, 2);\n",
    "gap> link := Link(shape, shape1);\n",
    "gap> Add(graph, shape);\n",
    "gap> Add(graph, shape1);\n",
    "gap> Add(graph, link);\n",
    "```\n",
    "\n",
    "*NOTE: This might change in order to ease the creation of HASSE diagrams without having to specify the layer. Suggestions are welcome!*\n",
    "\n",
    "A Directed graph instead is simpler:\n",
    "\n",
    "```gap\n",
    "gap> graph := Graph(GraphType.DIRECTED);\n",
    "gap> shape := Shape(ShapeType.CIRCLE, \"Title\");\n",
    "gap> shape1 := Shape(ShapeType.CIRCLE);\n",
    "gap> link := Link(shape, shape1);\n",
    "gap> Add(graph, shape);\n",
    "gap> Add(graph, shape1);\n",
    "gap> Add(graph, link);\n",
    "```\n",
    "\n",
    "Undirected graphs are as simple as Directed ones, but the arrows are not present:\n",
    "\n",
    "```gap\n",
    "gap> graph := Graph(GraphType.UNDIRECTED);\n",
    "gap> shape := Shape(ShapeType.CIRCLE, \"Title\");\n",
    "gap> shape1 := Shape(ShapeType.CIRCLE);\n",
    "gap> link := Link(shape, shape1);\n",
    "gap> Add(graph, shape);\n",
    "gap> Add(graph, shape1);\n",
    "gap> Add(graph, link);\n",
    "```\n",
    "\n",
    "Tree graphs are as simple as the previous ones, but you need to specify the parent node:\n",
    "\n",
    "```gap\n",
    "gap> graph := Graph(GraphType.TREE);\n",
    "gap> shape := Shape(ShapeType.CIRCLE, \"Title\");\n",
    "gap> shape1 := Shape(ShapeType.CIRCLE);\n",
    "gap> Add(graph, shape);\n",
    "gap> Add(graph, shape1);\n",
    "gap> SetParentShape(shape1, shape);\n",
    "```\n",
    "\n",
    "**NOTE: Blue nodes are clickable on trees and allows to expand and collapse.**"
   ]
  },
  {
   "cell_type": "code",
   "execution_count": 331,
   "metadata": {},
   "outputs": [
    {
     "data": {
      "application/vnd.francy+json": "{\"version\" : \"0.6.0\",\"mime\" : \"application\\/vnd.francy+json\",\"canvas\" : {\"width\" : 800,\"id\" : \"F146\",\"height\" : 100,\"title\" : \"Example HASSE Graph\",\"zoomToFit\" : true,\"texTypesetting\" : false,\"menus\" : {},\"graph\" : {\"type\" : \"undirected\",\"id\" : \"F147\",\"simulation\" : true,\"collapsed\" : true,\"drag\" : false,\"showNeighbours\" : false,\"nodes\" : {\"F148\" : {\"x\" : 0,\"y\" : 0,\"type\" : \"circle\",\"id\" : \"F148\",\"size\" : 10,\"title\" : \"G\",\"color\" : \"\",\"highlight\" : true,\"layer\" : 1,\"parent\" : \"\",\"menus\" : {},\"messages\" : {},\"callbacks\" : {}},\"F149\" : {\"x\" : 0,\"y\" : 0,\"type\" : \"circle\",\"id\" : \"F149\",\"size\" : 10,\"title\" : \"1\",\"color\" : \"\",\"highlight\" : true,\"layer\" : 2,\"parent\" : \"\",\"menus\" : {},\"messages\" : {},\"callbacks\" : {}}},\"links\" : {\"F150\" : {\"id\" : \"F150\",\"source\" : \"F148\",\"weight\" : 1,\"color\" : \"\",\"target\" : \"F149\"}}},\"messages\" : {}}}"
     },
     "execution_count": 331,
     "metadata": {
      "application/vnd.francy+json": {}
     },
     "output_type": "execute_result"
    }
   ],
   "source": [
    "canvas := Canvas(\"Example HASSE Graph\");;\n",
    "SetHeight(canvas, 100);;\n",
    "\n",
    "graph := Graph(GraphType.UNDIRECTED);;\n",
    "\n",
    "shape := Shape(ShapeType.CIRCLE, \"G\");;\n",
    "SetLayer(shape, 1);;\n",
    "shape1 := Shape(ShapeType.CIRCLE, \"1\");;\n",
    "SetLayer(shape1, 2);;\n",
    "Add(graph, shape);;\n",
    "Add(graph, shape1);;\n",
    "\n",
    "link := Link(shape, shape1);;\n",
    "Add(graph, link);;\n",
    "\n",
    "Add(canvas, graph);;\n",
    "\n",
    "Draw(canvas);"
   ]
  },
  {
   "cell_type": "code",
   "execution_count": 344,
   "metadata": {},
   "outputs": [
    {
     "data": {
      "application/vnd.francy+json": "{\"version\" : \"0.6.0\",\"mime\" : \"application\\/vnd.francy+json\",\"canvas\" : {\"width\" : 800,\"id\" : \"F151\",\"height\" : 100,\"title\" : \"Example DIRECTED Graph\",\"zoomToFit\" : true,\"texTypesetting\" : false,\"menus\" : {},\"graph\" : {\"type\" : \"directed\",\"id\" : \"F152\",\"simulation\" : true,\"collapsed\" : true,\"drag\" : false,\"showNeighbours\" : false,\"nodes\" : {\"F153\" : {\"x\" : 0,\"y\" : 0,\"type\" : \"circle\",\"id\" : \"F153\",\"size\" : 10,\"title\" : \"G\",\"color\" : \"\",\"highlight\" : true,\"layer\" : 1,\"parent\" : \"\",\"menus\" : {},\"messages\" : {},\"callbacks\" : {}},\"F154\" : {\"x\" : 0,\"y\" : 0,\"type\" : \"circle\",\"id\" : \"F154\",\"size\" : 10,\"title\" : \"1\",\"color\" : \"\",\"highlight\" : true,\"layer\" : 2,\"parent\" : \"\",\"menus\" : {},\"messages\" : {},\"callbacks\" : {}}},\"links\" : {\"F155\" : {\"id\" : \"F155\",\"source\" : \"F153\",\"weight\" : 1,\"color\" : \"\",\"target\" : \"F154\"}}},\"messages\" : {}}}"
     },
     "execution_count": 344,
     "metadata": {
      "application/vnd.francy+json": {}
     },
     "output_type": "execute_result"
    }
   ],
   "source": [
    "canvas := Canvas(\"Example DIRECTED Graph\");;\n",
    "SetHeight(canvas, 100);;\n",
    "\n",
    "graph := Graph(GraphType.DIRECTED);;\n",
    "\n",
    "shape := Shape(ShapeType.CIRCLE, \"G\");;\n",
    "SetLayer(shape, 1);;\n",
    "shape1 := Shape(ShapeType.CIRCLE, \"1\");;\n",
    "SetLayer(shape1, 2);;\n",
    "Add(graph, shape);;\n",
    "Add(graph, shape1);;\n",
    "\n",
    "link := Link(shape, shape1);;\n",
    "Add(graph, link);;\n",
    "\n",
    "Add(canvas, graph);;\n",
    "\n",
    "Draw(canvas);"
   ]
  },
  {
   "cell_type": "code",
   "execution_count": 357,
   "metadata": {},
   "outputs": [
    {
     "data": {
      "application/vnd.francy+json": "{\"version\" : \"0.6.0\",\"mime\" : \"application\\/vnd.francy+json\",\"canvas\" : {\"width\" : 800,\"id\" : \"F156\",\"height\" : 100,\"title\" : \"Example UNDIRECTED Graph\",\"zoomToFit\" : true,\"texTypesetting\" : false,\"menus\" : {},\"graph\" : {\"type\" : \"undirected\",\"id\" : \"F157\",\"simulation\" : true,\"collapsed\" : true,\"drag\" : false,\"showNeighbours\" : false,\"nodes\" : {\"F158\" : {\"x\" : 0,\"y\" : 0,\"type\" : \"circle\",\"id\" : \"F158\",\"size\" : 10,\"title\" : \"G\",\"color\" : \"\",\"highlight\" : true,\"layer\" : 1,\"parent\" : \"\",\"menus\" : {},\"messages\" : {},\"callbacks\" : {}},\"F159\" : {\"x\" : 0,\"y\" : 0,\"type\" : \"circle\",\"id\" : \"F159\",\"size\" : 10,\"title\" : \"1\",\"color\" : \"\",\"highlight\" : true,\"layer\" : 2,\"parent\" : \"\",\"menus\" : {},\"messages\" : {},\"callbacks\" : {}}},\"links\" : {\"F160\" : {\"id\" : \"F160\",\"source\" : \"F158\",\"weight\" : 1,\"color\" : \"\",\"target\" : \"F159\"}}},\"messages\" : {}}}"
     },
     "execution_count": 357,
     "metadata": {
      "application/vnd.francy+json": {}
     },
     "output_type": "execute_result"
    }
   ],
   "source": [
    "canvas := Canvas(\"Example UNDIRECTED Graph\");;\n",
    "SetHeight(canvas, 100);;\n",
    "\n",
    "graph := Graph(GraphType.UNDIRECTED);;\n",
    "\n",
    "shape := Shape(ShapeType.CIRCLE, \"G\");;\n",
    "SetLayer(shape, 1);;\n",
    "shape1 := Shape(ShapeType.CIRCLE, \"1\");;\n",
    "SetLayer(shape1, 2);;\n",
    "Add(graph, shape);;\n",
    "Add(graph, shape1);;\n",
    "\n",
    "link := Link(shape, shape1);;\n",
    "Add(graph, link);;\n",
    "\n",
    "Add(canvas, graph);;\n",
    "\n",
    "Draw(canvas);"
   ]
  },
  {
   "cell_type": "code",
   "execution_count": 381,
   "metadata": {},
   "outputs": [
    {
     "data": {
      "application/vnd.francy+json": "{\"version\" : \"0.6.0\",\"mime\" : \"application\\/vnd.francy+json\",\"canvas\" : {\"width\" : 800,\"id\" : \"F161\",\"height\" : 100,\"title\" : \"Example Multiple Shapes Graph\",\"zoomToFit\" : true,\"texTypesetting\" : false,\"menus\" : {},\"graph\" : {\"type\" : \"undirected\",\"id\" : \"F162\",\"simulation\" : true,\"collapsed\" : true,\"drag\" : false,\"showNeighbours\" : false,\"nodes\" : {\"F163\" : {\"x\" : 0,\"y\" : 0,\"type\" : \"diamond\",\"id\" : \"F163\",\"size\" : 10,\"title\" : \"G\",\"color\" : \"\",\"highlight\" : true,\"layer\" : 0,\"parent\" : \"\",\"menus\" : {},\"messages\" : {},\"callbacks\" : {}},\"F164\" : {\"x\" : 0,\"y\" : 0,\"type\" : \"wye\",\"id\" : \"F164\",\"size\" : 10,\"title\" : \"1\",\"color\" : \"\",\"highlight\" : true,\"layer\" : 0,\"parent\" : \"\",\"menus\" : {},\"messages\" : {},\"callbacks\" : {}},\"F165\" : {\"x\" : 0,\"y\" : 0,\"type\" : \"square\",\"id\" : \"F165\",\"size\" : 10,\"title\" : \"SG1\",\"color\" : \"\",\"highlight\" : true,\"layer\" : 0,\"parent\" : \"\",\"menus\" : {},\"messages\" : {},\"callbacks\" : {}},\"F167\" : {\"x\" : 0,\"y\" : 0,\"type\" : \"triangle\",\"id\" : \"F167\",\"size\" : 10,\"title\" : \"SG2\",\"color\" : \"\",\"highlight\" : true,\"layer\" : 0,\"parent\" : \"\",\"menus\" : {},\"messages\" : {},\"callbacks\" : {}},\"F170\" : {\"x\" : 0,\"y\" : 0,\"type\" : \"cross\",\"id\" : \"F170\",\"size\" : 10,\"title\" : \"SG3\",\"color\" : \"\",\"highlight\" : true,\"layer\" : 0,\"parent\" : \"\",\"menus\" : {},\"messages\" : {},\"callbacks\" : {}},\"F173\" : {\"x\" : 0,\"y\" : 0,\"type\" : \"star\",\"id\" : \"F173\",\"size\" : 10,\"title\" : \"SG4\",\"color\" : \"\",\"highlight\" : true,\"layer\" : 0,\"parent\" : \"\",\"menus\" : {},\"messages\" : {},\"callbacks\" : {}}},\"links\" : {\"F166\" : {\"id\" : \"F166\",\"source\" : \"F163\",\"weight\" : 1,\"color\" : \"\",\"target\" : \"F165\"},\"F168\" : {\"id\" : \"F168\",\"source\" : \"F165\",\"weight\" : 1,\"color\" : \"\",\"target\" : \"F167\"},\"F169\" : {\"id\" : \"F169\",\"source\" : \"F167\",\"weight\" : 1,\"color\" : \"\",\"target\" : \"F164\"},\"F171\" : {\"id\" : \"F171\",\"source\" : \"F165\",\"weight\" : 1,\"color\" : \"\",\"target\" : \"F170\"},\"F172\" : {\"id\" : \"F172\",\"source\" : \"F170\",\"weight\" : 1,\"color\" : \"\",\"target\" : \"F164\"},\"F174\" : {\"id\" : \"F174\",\"source\" : \"F165\",\"weight\" : 1,\"color\" : \"\",\"target\" : \"F173\"},\"F175\" : {\"id\" : \"F175\",\"source\" : \"F173\",\"weight\" : 1,\"color\" : \"\",\"target\" : \"F164\"}}},\"messages\" : {}}}"
     },
     "execution_count": 381,
     "metadata": {
      "application/vnd.francy+json": {}
     },
     "output_type": "execute_result"
    }
   ],
   "source": [
    "canvas := Canvas(\"Example Multiple Shapes Graph\");;\n",
    "SetHeight(canvas, 100);;\n",
    "\n",
    "graph := Graph(GraphType.UNDIRECTED);;\n",
    "\n",
    "shapeG := Shape(ShapeType.DIAMOND, \"G\");;\n",
    "Add(graph, shapeG);;\n",
    "shape1 := Shape(ShapeType.WYE, \"1\");;\n",
    "Add(graph, shape1);;\n",
    "\n",
    "shapeSG1 := Shape(ShapeType.SQUARE, \"SG1\");;\n",
    "Add(graph, shapeSG1);;\n",
    "Add(graph, Link(shapeG, shapeSG1));;\n",
    "\n",
    "shapeSG2 := Shape(ShapeType.TRIANGLE, \"SG2\");;\n",
    "Add(graph, shapeSG2);;\n",
    "Add(graph, Link(shapeSG1, shapeSG2));;\n",
    "Add(graph, Link(shapeSG2, shape1));;\n",
    "\n",
    "shapeSG3 := Shape(ShapeType.CROSS, \"SG3\");;\n",
    "Add(graph, shapeSG3);;\n",
    "Add(graph, Link(shapeSG1, shapeSG3));;\n",
    "Add(graph, Link(shapeSG3, shape1));;\n",
    "\n",
    "shapeSG4 := Shape(ShapeType.STAR, \"SG4\");;\n",
    "Add(graph, shapeSG4);;\n",
    "Add(graph, Link(shapeSG1, shapeSG4));;\n",
    "Add(graph, Link(shapeSG4, shape1));;\n",
    "\n",
    "Add(canvas, graph);;\n",
    "\n",
    "Draw(canvas);"
   ]
  },
  {
   "cell_type": "code",
   "execution_count": 403,
   "metadata": {},
   "outputs": [
    {
     "data": {
      "application/vnd.francy+json": "{\"version\" : \"0.6.0\",\"mime\" : \"application\\/vnd.francy+json\",\"canvas\" : {\"width\" : 800,\"id\" : \"F176\",\"height\" : 100,\"title\" : \"Example Multiple Shapes Graph\",\"zoomToFit\" : true,\"texTypesetting\" : false,\"menus\" : {},\"graph\" : {\"type\" : \"tree\",\"id\" : \"F177\",\"simulation\" : true,\"collapsed\" : false,\"drag\" : false,\"showNeighbours\" : false,\"nodes\" : {\"F178\" : {\"x\" : 0,\"y\" : 0,\"type\" : \"circle\",\"id\" : \"F178\",\"size\" : 10,\"title\" : \"G\",\"color\" : \"\",\"highlight\" : true,\"layer\" : 0,\"parent\" : \"\",\"menus\" : {},\"messages\" : {},\"callbacks\" : {}},\"F179\" : {\"x\" : 0,\"y\" : 0,\"type\" : \"square\",\"id\" : \"F179\",\"size\" : 10,\"title\" : \"1\",\"color\" : \"\",\"highlight\" : true,\"layer\" : 0,\"parent\" : \"F183\",\"menus\" : {},\"messages\" : {},\"callbacks\" : {}},\"F180\" : {\"x\" : 0,\"y\" : 0,\"type\" : \"circle\",\"id\" : \"F180\",\"size\" : 10,\"title\" : \"SG1\",\"color\" : \"\",\"highlight\" : true,\"layer\" : 0,\"parent\" : \"\",\"menus\" : {},\"messages\" : {},\"callbacks\" : {}},\"F181\" : {\"x\" : 0,\"y\" : 0,\"type\" : \"square\",\"id\" : \"F181\",\"size\" : 10,\"title\" : \"SG2\",\"color\" : \"\",\"highlight\" : true,\"layer\" : 0,\"parent\" : \"F178\",\"menus\" : {},\"messages\" : {},\"callbacks\" : {}},\"F182\" : {\"x\" : 0,\"y\" : 0,\"type\" : \"circle\",\"id\" : \"F182\",\"size\" : 10,\"title\" : \"SG3\",\"color\" : \"\",\"highlight\" : true,\"layer\" : 0,\"parent\" : \"F178\",\"menus\" : {},\"messages\" : {},\"callbacks\" : {}},\"F183\" : {\"x\" : 0,\"y\" : 0,\"type\" : \"circle\",\"id\" : \"F183\",\"size\" : 10,\"title\" : \"SG4\",\"color\" : \"\",\"highlight\" : true,\"layer\" : 0,\"parent\" : \"F182\",\"menus\" : {},\"messages\" : {},\"callbacks\" : {}}},\"links\" : {}},\"messages\" : {}}}"
     },
     "execution_count": 403,
     "metadata": {
      "application/vnd.francy+json": {}
     },
     "output_type": "execute_result"
    }
   ],
   "source": [
    "canvas := Canvas(\"Example Multiple Shapes Graph\");;\n",
    "SetHeight(canvas, 100);;\n",
    "\n",
    "graph := Graph(GraphType.TREE);;\n",
    "SetCollapsed(graph, false);;\n",
    "\n",
    "shapeG := Shape(ShapeType.CIRCLE, \"G\");;\n",
    "Add(graph, shapeG);;\n",
    "\n",
    "shape1 := Shape(ShapeType.SQUARE, \"1\");;\n",
    "Add(graph, shape1);;\n",
    "\n",
    "shapeSG1 := Shape(ShapeType.CIRCLE, \"SG1\");;\n",
    "Add(graph, shapeSG1);;\n",
    "\n",
    "shapeSG2 := Shape(ShapeType.SQUARE, \"SG2\");;\n",
    "Add(graph, shapeSG2);;\n",
    "\n",
    "shapeSG3 := Shape(ShapeType.CIRCLE, \"SG3\");;\n",
    "Add(graph, shapeSG3);;\n",
    "\n",
    "shapeSG4 := Shape(ShapeType.CIRCLE, \"SG4\");;\n",
    "Add(graph, shapeSG4);;\n",
    "\n",
    "SetParentShape(shapeSG2, shapeG);;\n",
    "SetParentShape(shapeSG3, shapeG);;\n",
    "SetParentShape(shapeSG4, shapeSG3);;\n",
    "SetParentShape(shape1, shapeSG4);;\n",
    "\n",
    "Add(canvas, graph);;\n",
    "\n",
    "Draw(canvas);"
   ]
  },
  {
   "cell_type": "markdown",
   "metadata": {},
   "source": [
    "# Charts\n",
    "\n",
    "Charts are another graphical way to represent data.\n",
    "\n",
    "Supported ChartTypes:\n",
    "\n",
    "* ChartType.LINE\n",
    "* ChartType.BAR\n",
    "* ChartType.SCATTER\n",
    "\n",
    "By default, Chart are created with default options set to:\n",
    "\n",
    "* ChartDefaults.labels [true]\n",
    "* ChartDefaults.legend [true]\n",
    "\n",
    "## How to create Charts?\n",
    "\n",
    "Let's see how to create a Chart of each type, starting with the LINE. LINE Charts don't support providing a custom domain, this needs more work!\n",
    "\n",
    "```gap\n",
    "gap> chart := Chart(ChartType.LINE);\n",
    "gap> SetAxisXTitle(chart, \"X Axis\");\n",
    "gap> SetAxisYTitle(chart, \"Y Axis\");\n",
    "\n",
    "gap> data1 := Dataset(\"data1\", [100,20,30,47,90]);\n",
    "gap> data2 := Dataset(\"data2\", [51,60,72,38,97]);\n",
    "gap> data3 := Dataset(\"data3\", [50,60,70,80,90]);\n",
    "\n",
    "gap> Add(chart, [data1, data2, data3]);\n",
    "```\n",
    "\n",
    "The same data in a Bar Chart:\n",
    "\n",
    "```gap\n",
    "gap> chart := Chart(ChartType.BAR);\n",
    "gap> SetAxisXTitle(chart, \"X Axis\");\n",
    "gap> SetAxisXDomain(chart, [\"domain1\", \"domain2\", \"domain3\", \"domain4\", \"domain5\"]);\n",
    "gap> SetAxisYTitle(chart, \"Y Axis\");\n",
    "\n",
    "gap> data1 := Dataset(\"data1\", [100,20,30,47,90]);\n",
    "gap> data2 := Dataset(\"data2\", [51,60,72,38,97]);\n",
    "gap> data3 := Dataset(\"data3\", [50,60,70,80,90]);\n",
    "\n",
    "gap> Add(chart, [data1, data2, data3]);\n",
    "```\n",
    "\n",
    "Same data in a SCATTER Chart:\n",
    "\n",
    "\n",
    "```gap\n",
    "gap> chart := Chart(ChartType.SCATTER);\n",
    "gap> SetAxisXTitle(chart, \"X Axis\");\n",
    "gap> SetAxisYTitle(chart, \"Y Axis\");\n",
    "\n",
    "gap> data1 := Dataset(\"data1\", [100,20,30,47,90]);\n",
    "gap> data2 := Dataset(\"data2\", [51,60,72,38,97]);\n",
    "gap> data3 := Dataset(\"data3\", [50,60,70,80,90]);\n",
    "\n",
    "gap> Add(chart, [data1, data2, data3]);\n",
    "```\n",
    "\n",
    "**NOTE: Charts need more work in general**"
   ]
  },
  {
   "cell_type": "code",
   "execution_count": 414,
   "metadata": {},
   "outputs": [
    {
     "data": {
      "application/vnd.francy+json": "{\"version\" : \"0.6.0\",\"mime\" : \"application\\/vnd.francy+json\",\"canvas\" : {\"width\" : 800,\"id\" : \"F184\",\"height\" : 200,\"title\" : \"Example LINE Chart\",\"zoomToFit\" : true,\"texTypesetting\" : false,\"menus\" : {},\"chart\" : {\"type\" : \"line\",\"data\" : {\"data1\" : [\"100\",\"20\",\"30\",\"47\",\"90\"],\"data2\" : [\"51\",\"60\",\"72\",\"38\",\"97\"],\"data3\" : [\"50\",\"60\",\"70\",\"80\",\"90\"]},\"id\" : \"F185\",\"showLegend\" : true,\"axis\" : {\"x\" : {\"domain\" : [],\"title\" : \"X Axis\",\"scale\" : \"linear\"},\"y\" : {\"domain\" : [],\"title\" : \"Y Axis\",\"scale\" : \"linear\"}}},\"messages\" : {}}}"
     },
     "execution_count": 414,
     "metadata": {
      "application/vnd.francy+json": {}
     },
     "output_type": "execute_result"
    }
   ],
   "source": [
    "canvas := Canvas(\"Example LINE Chart\");;\n",
    "SetHeight(canvas, 200);;\n",
    "\n",
    "chart := Chart(ChartType.LINE);;\n",
    "SetAxisXTitle(chart, \"X Axis\");;\n",
    "SetAxisYTitle(chart, \"Y Axis\");;\n",
    "\n",
    "data1 := Dataset(\"data1\", [100,20,30,47,90]);;\n",
    "data2 := Dataset(\"data2\", [51,60,72,38,97]);;\n",
    "data3 := Dataset(\"data3\", [50,60,70,80,90]);;\n",
    "\n",
    "Add(chart, [data1, data2, data3]);;\n",
    "Add(canvas, chart);;\n",
    "\n",
    "Draw(canvas);"
   ]
  },
  {
   "cell_type": "code",
   "execution_count": 426,
   "metadata": {},
   "outputs": [
    {
     "data": {
      "application/vnd.francy+json": "{\"version\" : \"0.6.0\",\"mime\" : \"application\\/vnd.francy+json\",\"canvas\" : {\"width\" : 800,\"id\" : \"F186\",\"height\" : 200,\"title\" : \"Example BAR Chart\",\"zoomToFit\" : true,\"texTypesetting\" : false,\"menus\" : {},\"chart\" : {\"type\" : \"bar\",\"data\" : {\"data1\" : [\"100\",\"20\",\"30\",\"47\",\"90\"],\"data2\" : [\"51\",\"60\",\"72\",\"38\",\"97\"],\"data3\" : [\"50\",\"60\",\"70\",\"80\",\"90\"]},\"id\" : \"F187\",\"showLegend\" : true,\"axis\" : {\"x\" : {\"domain\" : [\"domain1\",\"domain2\",\"domain3\",\"domain4\",\"domain5\"],\"title\" : \"X Axis\",\"scale\" : \"band\"},\"y\" : {\"domain\" : [],\"title\" : \"Y Axis\",\"scale\" : \"linear\"}}},\"messages\" : {}}}"
     },
     "execution_count": 426,
     "metadata": {
      "application/vnd.francy+json": {}
     },
     "output_type": "execute_result"
    }
   ],
   "source": [
    "canvas := Canvas(\"Example BAR Chart\");;\n",
    "SetHeight(canvas, 200);;\n",
    "\n",
    "chart := Chart(ChartType.BAR);;\n",
    "SetAxisXTitle(chart, \"X Axis\");;\n",
    "SetAxisXDomain(chart, [\"domain1\", \"domain2\", \"domain3\", \"domain4\", \"domain5\"]);;\n",
    "SetAxisYTitle(chart, \"Y Axis\");;\n",
    "\n",
    "data1 := Dataset(\"data1\", [100,20,30,47,90]);;\n",
    "data2 := Dataset(\"data2\", [51,60,72,38,97]);;\n",
    "data3 := Dataset(\"data3\", [50,60,70,80,90]);;\n",
    "\n",
    "Add(chart, [data1, data2, data3]);;\n",
    "Add(canvas, chart);;\n",
    "\n",
    "Draw(canvas);"
   ]
  },
  {
   "cell_type": "code",
   "execution_count": 437,
   "metadata": {},
   "outputs": [
    {
     "data": {
      "application/vnd.francy+json": "{\"version\" : \"0.6.0\",\"mime\" : \"application\\/vnd.francy+json\",\"canvas\" : {\"width\" : 800,\"id\" : \"F188\",\"height\" : 200,\"title\" : \"Example SCATTER Chart\",\"zoomToFit\" : true,\"texTypesetting\" : false,\"menus\" : {},\"chart\" : {\"type\" : \"scatter\",\"data\" : {\"data1\" : [\"100\",\"20\",\"30\",\"47\",\"90\"],\"data2\" : [\"51\",\"60\",\"72\",\"38\",\"97\"],\"data3\" : [\"50\",\"60\",\"70\",\"80\",\"90\"]},\"id\" : \"F189\",\"showLegend\" : true,\"axis\" : {\"x\" : {\"domain\" : [],\"title\" : \"X Axis\",\"scale\" : \"linear\"},\"y\" : {\"domain\" : [],\"title\" : \"Y Axis\",\"scale\" : \"linear\"}}},\"messages\" : {}}}"
     },
     "execution_count": 437,
     "metadata": {
      "application/vnd.francy+json": {}
     },
     "output_type": "execute_result"
    }
   ],
   "source": [
    "canvas := Canvas(\"Example SCATTER Chart\");;\n",
    "SetHeight(canvas, 200);;\n",
    "\n",
    "chart := Chart(ChartType.SCATTER);;\n",
    "SetAxisXTitle(chart, \"X Axis\");;\n",
    "SetAxisYTitle(chart, \"Y Axis\");;\n",
    "\n",
    "data1 := Dataset(\"data1\", [100,20,30,47,90]);;\n",
    "data2 := Dataset(\"data2\", [51,60,72,38,97]);;\n",
    "data3 := Dataset(\"data3\", [50,60,70,80,90]);;\n",
    "\n",
    "Add(chart, [data1, data2, data3]);;\n",
    "Add(canvas, chart);;\n",
    "\n",
    "Draw(canvas);"
   ]
  },
  {
   "cell_type": "code",
   "execution_count": null,
   "metadata": {},
   "outputs": [],
   "source": []
  }
 ],
 "metadata": {
  "kernelspec": {
   "display_name": "GAP 4 (native)",
   "language": "gap",
   "name": "gap-native"
  },
  "language_info": {
   "codemirror_mode": "gap",
   "file_extension": ".g",
   "mimetype": "text/x-gap",
   "name": "GAP (native)",
   "nbconvert_exporter": "",
   "pygments_lexer": "gap",
   "version": "4.dev"
  }
 },
 "nbformat": 4,
 "nbformat_minor": 2
}
