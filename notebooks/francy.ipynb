{
 "cells": [
  {
   "cell_type": "markdown",
   "metadata": {},
   "source": [
    "### Load Francy Package"
   ]
  },
  {
   "cell_type": "code",
   "execution_count": 3,
   "metadata": {},
   "outputs": [
    {
     "name": "stdout",
     "output_type": "stream",
     "text": [
      "#I  Please load package NormalizInterface or 4ti2Interface\n",
      "#I  to have extended functionalities.\n",
      "#I  Please load package SingularInterface or singular (not both)\n",
      "#I  or GradedModules to have extended functionalities.\n"
     ]
    },
    {
     "data": {
      "text/plain": [
       "true"
      ]
     },
     "execution_count": 1,
     "metadata": {
      "text/plain": ""
     },
     "output_type": "execute_result"
    },
    {
     "data": {
      "text/plain": [
       "true"
      ]
     },
     "execution_count": 2,
     "metadata": {
      "text/plain": ""
     },
     "output_type": "execute_result"
    },
    {
     "data": {
      "text/plain": [
       "true"
      ]
     },
     "execution_count": 3,
     "metadata": {
      "text/plain": ""
     },
     "output_type": "execute_result"
    }
   ],
   "source": [
    "LoadPackage(\"francy\");\n",
    "LoadPackage(\"digraph\");\n",
    "LoadPackage(\"num\");"
   ]
  },
  {
   "cell_type": "markdown",
   "metadata": {},
   "source": [
    "### An attempt to LatticeSubgroups By Markus"
   ]
  },
  {
   "cell_type": "code",
   "execution_count": 7,
   "metadata": {},
   "outputs": [
    {
     "data": {
      "application/vnd.francy+json": "{\"version\" : \"0.8.0\",\"mime\" : \"application\\/vnd.francy+json\",\"canvas\" : {\"width\" : 800,\"id\" : \"F1\",\"height\" : 600,\"title\" : \"Lattice Subgroups\",\"zoomToFit\" : true,\"texTypesetting\" : false,\"menus\" : {},\"graph\" : {\"type\" : \"undirected\",\"id\" : \"F2\",\"simulation\" : true,\"collapsed\" : true,\"drag\" : false,\"showNeighbours\" : true,\"nodes\" : {\"F3\" : {\"x\" : 0,\"y\" : 0,\"type\" : \"circle\",\"id\" : \"F3\",\"size\" : 10,\"title\" : \"1\",\"color\" : \"\",\"highlight\" : true,\"layer\" : 1,\"parent\" : \"\",\"menus\" : {},\"messages\" : {},\"callbacks\" : {}},\"F4\" : {\"x\" : 0,\"y\" : 0,\"type\" : \"diamond\",\"id\" : \"F4\",\"size\" : 10,\"title\" : \"2\",\"color\" : \"\",\"highlight\" : true,\"layer\" : 2,\"parent\" : \"\",\"menus\" : {},\"messages\" : {},\"callbacks\" : {}},\"F5\" : {\"x\" : 0,\"y\" : 0,\"type\" : \"diamond\",\"id\" : \"F5\",\"size\" : 10,\"title\" : \"2\",\"color\" : \"\",\"highlight\" : true,\"layer\" : 2,\"parent\" : \"\",\"menus\" : {},\"messages\" : {},\"callbacks\" : {}},\"F6\" : {\"x\" : 0,\"y\" : 0,\"type\" : \"diamond\",\"id\" : \"F6\",\"size\" : 10,\"title\" : \"2\",\"color\" : \"\",\"highlight\" : true,\"layer\" : 2,\"parent\" : \"\",\"menus\" : {},\"messages\" : {},\"callbacks\" : {}},\"F7\" : {\"x\" : 0,\"y\" : 0,\"type\" : \"diamond\",\"id\" : \"F7\",\"size\" : 10,\"title\" : \"3\",\"color\" : \"\",\"highlight\" : true,\"layer\" : 2,\"parent\" : \"\",\"menus\" : {},\"messages\" : {},\"callbacks\" : {}},\"F8\" : {\"x\" : 0,\"y\" : 0,\"type\" : \"diamond\",\"id\" : \"F8\",\"size\" : 10,\"title\" : \"3\",\"color\" : \"\",\"highlight\" : true,\"layer\" : 2,\"parent\" : \"\",\"menus\" : {},\"messages\" : {},\"callbacks\" : {}},\"F9\" : {\"x\" : 0,\"y\" : 0,\"type\" : \"diamond\",\"id\" : \"F9\",\"size\" : 10,\"title\" : \"3\",\"color\" : \"\",\"highlight\" : true,\"layer\" : 2,\"parent\" : \"\",\"menus\" : {},\"messages\" : {},\"callbacks\" : {}},\"F10\" : {\"x\" : 0,\"y\" : 0,\"type\" : \"diamond\",\"id\" : \"F10\",\"size\" : 10,\"title\" : \"3\",\"color\" : \"\",\"highlight\" : true,\"layer\" : 2,\"parent\" : \"\",\"menus\" : {},\"messages\" : {},\"callbacks\" : {}},\"F11\" : {\"x\" : 0,\"y\" : 0,\"type\" : \"diamond\",\"id\" : \"F11\",\"size\" : 10,\"title\" : \"3\",\"color\" : \"\",\"highlight\" : true,\"layer\" : 2,\"parent\" : \"\",\"menus\" : {},\"messages\" : {},\"callbacks\" : {}},\"F12\" : {\"x\" : 0,\"y\" : 0,\"type\" : \"diamond\",\"id\" : \"F12\",\"size\" : 10,\"title\" : \"3\",\"color\" : \"\",\"highlight\" : true,\"layer\" : 2,\"parent\" : \"\",\"menus\" : {},\"messages\" : {},\"callbacks\" : {}},\"F13\" : {\"x\" : 0,\"y\" : 0,\"type\" : \"diamond\",\"id\" : \"F13\",\"size\" : 10,\"title\" : \"4\",\"color\" : \"\",\"highlight\" : true,\"layer\" : 3,\"parent\" : \"\",\"menus\" : {},\"messages\" : {},\"callbacks\" : {}},\"F14\" : {\"x\" : 0,\"y\" : 0,\"type\" : \"diamond\",\"id\" : \"F14\",\"size\" : 10,\"title\" : \"4\",\"color\" : \"\",\"highlight\" : true,\"layer\" : 3,\"parent\" : \"\",\"menus\" : {},\"messages\" : {},\"callbacks\" : {}},\"F15\" : {\"x\" : 0,\"y\" : 0,\"type\" : \"diamond\",\"id\" : \"F15\",\"size\" : 10,\"title\" : \"4\",\"color\" : \"\",\"highlight\" : true,\"layer\" : 3,\"parent\" : \"\",\"menus\" : {},\"messages\" : {},\"callbacks\" : {}},\"F16\" : {\"x\" : 0,\"y\" : 0,\"type\" : \"diamond\",\"id\" : \"F16\",\"size\" : 10,\"title\" : \"4\",\"color\" : \"\",\"highlight\" : true,\"layer\" : 3,\"parent\" : \"\",\"menus\" : {},\"messages\" : {},\"callbacks\" : {}},\"F17\" : {\"x\" : 0,\"y\" : 0,\"type\" : \"circle\",\"id\" : \"F17\",\"size\" : 10,\"title\" : \"5\",\"color\" : \"\",\"highlight\" : true,\"layer\" : 4,\"parent\" : \"\",\"menus\" : {},\"messages\" : {},\"callbacks\" : {}},\"F18\" : {\"x\" : 0,\"y\" : 0,\"type\" : \"diamond\",\"id\" : \"F18\",\"size\" : 10,\"title\" : \"6\",\"color\" : \"\",\"highlight\" : true,\"layer\" : 4,\"parent\" : \"\",\"menus\" : {},\"messages\" : {},\"callbacks\" : {}},\"F19\" : {\"x\" : 0,\"y\" : 0,\"type\" : \"diamond\",\"id\" : \"F19\",\"size\" : 10,\"title\" : \"6\",\"color\" : \"\",\"highlight\" : true,\"layer\" : 4,\"parent\" : \"\",\"menus\" : {},\"messages\" : {},\"callbacks\" : {}},\"F20\" : {\"x\" : 0,\"y\" : 0,\"type\" : \"diamond\",\"id\" : \"F20\",\"size\" : 10,\"title\" : \"6\",\"color\" : \"\",\"highlight\" : true,\"layer\" : 4,\"parent\" : \"\",\"menus\" : {},\"messages\" : {},\"callbacks\" : {}},\"F21\" : {\"x\" : 0,\"y\" : 0,\"type\" : \"diamond\",\"id\" : \"F21\",\"size\" : 10,\"title\" : \"7\",\"color\" : \"\",\"highlight\" : true,\"layer\" : 4,\"parent\" : \"\",\"menus\" : {},\"messages\" : {},\"callbacks\" : {}},\"F22\" : {\"x\" : 0,\"y\" : 0,\"type\" : \"diamond\",\"id\" : \"F22\",\"size\" : 10,\"title\" : \"7\",\"color\" : \"\",\"highlight\" : true,\"layer\" : 4,\"parent\" : \"\",\"menus\" : {},\"messages\" : {},\"callbacks\" : {}},\"F23\" : {\"x\" : 0,\"y\" : 0,\"type\" : \"diamond\",\"id\" : \"F23\",\"size\" : 10,\"title\" : \"7\",\"color\" : \"\",\"highlight\" : true,\"layer\" : 4,\"parent\" : \"\",\"menus\" : {},\"messages\" : {},\"callbacks\" : {}},\"F24\" : {\"x\" : 0,\"y\" : 0,\"type\" : \"diamond\",\"id\" : \"F24\",\"size\" : 10,\"title\" : \"8\",\"color\" : \"\",\"highlight\" : true,\"layer\" : 6,\"parent\" : \"\",\"menus\" : {},\"messages\" : {},\"callbacks\" : {}},\"F25\" : {\"x\" : 0,\"y\" : 0,\"type\" : \"diamond\",\"id\" : \"F25\",\"size\" : 10,\"title\" : \"8\",\"color\" : \"\",\"highlight\" : true,\"layer\" : 6,\"parent\" : \"\",\"menus\" : {},\"messages\" : {},\"callbacks\" : {}},\"F26\" : {\"x\" : 0,\"y\" : 0,\"type\" : \"diamond\",\"id\" : \"F26\",\"size\" : 10,\"title\" : \"8\",\"color\" : \"\",\"highlight\" : true,\"layer\" : 6,\"parent\" : \"\",\"menus\" : {},\"messages\" : {},\"callbacks\" : {}},\"F27\" : {\"x\" : 0,\"y\" : 0,\"type\" : \"diamond\",\"id\" : \"F27\",\"size\" : 10,\"title\" : \"8\",\"color\" : \"\",\"highlight\" : true,\"layer\" : 6,\"parent\" : \"\",\"menus\" : {},\"messages\" : {},\"callbacks\" : {}},\"F28\" : {\"x\" : 0,\"y\" : 0,\"type\" : \"diamond\",\"id\" : \"F28\",\"size\" : 10,\"title\" : \"9\",\"color\" : \"\",\"highlight\" : true,\"layer\" : 8,\"parent\" : \"\",\"menus\" : {},\"messages\" : {},\"callbacks\" : {}},\"F29\" : {\"x\" : 0,\"y\" : 0,\"type\" : \"diamond\",\"id\" : \"F29\",\"size\" : 10,\"title\" : \"9\",\"color\" : \"\",\"highlight\" : true,\"layer\" : 8,\"parent\" : \"\",\"menus\" : {},\"messages\" : {},\"callbacks\" : {}},\"F30\" : {\"x\" : 0,\"y\" : 0,\"type\" : \"diamond\",\"id\" : \"F30\",\"size\" : 10,\"title\" : \"9\",\"color\" : \"\",\"highlight\" : true,\"layer\" : 8,\"parent\" : \"\",\"menus\" : {},\"messages\" : {},\"callbacks\" : {}},\"F31\" : {\"x\" : 0,\"y\" : 0,\"type\" : \"circle\",\"id\" : \"F31\",\"size\" : 10,\"title\" : \"10\",\"color\" : \"\",\"highlight\" : true,\"layer\" : 12,\"parent\" : \"\",\"menus\" : {},\"messages\" : {},\"callbacks\" : {}},\"F32\" : {\"x\" : 0,\"y\" : 0,\"type\" : \"circle\",\"id\" : \"F32\",\"size\" : 10,\"title\" : \"11\",\"color\" : \"\",\"highlight\" : true,\"layer\" : 24,\"parent\" : \"\",\"menus\" : {},\"messages\" : {},\"callbacks\" : {}}},\"links\" : {\"F33\" : {\"id\" : \"F33\",\"source\" : \"F4\",\"weight\" : 1,\"color\" : \"\",\"target\" : \"F3\"},\"F34\" : {\"id\" : \"F34\",\"source\" : \"F5\",\"weight\" : 1,\"color\" : \"\",\"target\" : \"F3\"},\"F35\" : {\"id\" : \"F35\",\"source\" : \"F6\",\"weight\" : 1,\"color\" : \"\",\"target\" : \"F3\"},\"F36\" : {\"id\" : \"F36\",\"source\" : \"F7\",\"weight\" : 1,\"color\" : \"\",\"target\" : \"F3\"},\"F37\" : {\"id\" : \"F37\",\"source\" : \"F8\",\"weight\" : 1,\"color\" : \"\",\"target\" : \"F3\"},\"F38\" : {\"id\" : \"F38\",\"source\" : \"F9\",\"weight\" : 1,\"color\" : \"\",\"target\" : \"F3\"},\"F39\" : {\"id\" : \"F39\",\"source\" : \"F10\",\"weight\" : 1,\"color\" : \"\",\"target\" : \"F3\"},\"F40\" : {\"id\" : \"F40\",\"source\" : \"F11\",\"weight\" : 1,\"color\" : \"\",\"target\" : \"F3\"},\"F41\" : {\"id\" : \"F41\",\"source\" : \"F12\",\"weight\" : 1,\"color\" : \"\",\"target\" : \"F3\"},\"F42\" : {\"id\" : \"F42\",\"source\" : \"F13\",\"weight\" : 1,\"color\" : \"\",\"target\" : \"F3\"},\"F43\" : {\"id\" : \"F43\",\"source\" : \"F14\",\"weight\" : 1,\"color\" : \"\",\"target\" : \"F3\"},\"F44\" : {\"id\" : \"F44\",\"source\" : \"F15\",\"weight\" : 1,\"color\" : \"\",\"target\" : \"F3\"},\"F45\" : {\"id\" : \"F45\",\"source\" : \"F16\",\"weight\" : 1,\"color\" : \"\",\"target\" : \"F3\"},\"F46\" : {\"id\" : \"F46\",\"source\" : \"F17\",\"weight\" : 1,\"color\" : \"\",\"target\" : \"F4\"},\"F47\" : {\"id\" : \"F47\",\"source\" : \"F17\",\"weight\" : 1,\"color\" : \"\",\"target\" : \"F5\"},\"F48\" : {\"id\" : \"F48\",\"source\" : \"F17\",\"weight\" : 1,\"color\" : \"\",\"target\" : \"F6\"},\"F49\" : {\"id\" : \"F49\",\"source\" : \"F18\",\"weight\" : 1,\"color\" : \"\",\"target\" : \"F7\"},\"F50\" : {\"id\" : \"F50\",\"source\" : \"F19\",\"weight\" : 1,\"color\" : \"\",\"target\" : \"F8\"},\"F51\" : {\"id\" : \"F51\",\"source\" : \"F20\",\"weight\" : 1,\"color\" : \"\",\"target\" : \"F9\"},\"F52\" : {\"id\" : \"F52\",\"source\" : \"F18\",\"weight\" : 1,\"color\" : \"\",\"target\" : \"F12\"},\"F53\" : {\"id\" : \"F53\",\"source\" : \"F19\",\"weight\" : 1,\"color\" : \"\",\"target\" : \"F11\"},\"F54\" : {\"id\" : \"F54\",\"source\" : \"F20\",\"weight\" : 1,\"color\" : \"\",\"target\" : \"F10\"},\"F55\" : {\"id\" : \"F55\",\"source\" : \"F18\",\"weight\" : 1,\"color\" : \"\",\"target\" : \"F6\"},\"F56\" : {\"id\" : \"F56\",\"source\" : \"F19\",\"weight\" : 1,\"color\" : \"\",\"target\" : \"F4\"},\"F57\" : {\"id\" : \"F57\",\"source\" : \"F20\",\"weight\" : 1,\"color\" : \"\",\"target\" : \"F5\"},\"F58\" : {\"id\" : \"F58\",\"source\" : \"F21\",\"weight\" : 1,\"color\" : \"\",\"target\" : \"F6\"},\"F59\" : {\"id\" : \"F59\",\"source\" : \"F22\",\"weight\" : 1,\"color\" : \"\",\"target\" : \"F4\"},\"F60\" : {\"id\" : \"F60\",\"source\" : \"F23\",\"weight\" : 1,\"color\" : \"\",\"target\" : \"F5\"},\"F61\" : {\"id\" : \"F61\",\"source\" : \"F24\",\"weight\" : 1,\"color\" : \"\",\"target\" : \"F13\"},\"F62\" : {\"id\" : \"F62\",\"source\" : \"F25\",\"weight\" : 1,\"color\" : \"\",\"target\" : \"F14\"},\"F63\" : {\"id\" : \"F63\",\"source\" : \"F26\",\"weight\" : 1,\"color\" : \"\",\"target\" : \"F15\"},\"F64\" : {\"id\" : \"F64\",\"source\" : \"F27\",\"weight\" : 1,\"color\" : \"\",\"target\" : \"F16\"},\"F65\" : {\"id\" : \"F65\",\"source\" : \"F24\",\"weight\" : 1,\"color\" : \"\",\"target\" : \"F7\"},\"F66\" : {\"id\" : \"F66\",\"source\" : \"F25\",\"weight\" : 1,\"color\" : \"\",\"target\" : \"F11\"},\"F67\" : {\"id\" : \"F67\",\"source\" : \"F26\",\"weight\" : 1,\"color\" : \"\",\"target\" : \"F11\"},\"F68\" : {\"id\" : \"F68\",\"source\" : \"F27\",\"weight\" : 1,\"color\" : \"\",\"target\" : \"F10\"},\"F69\" : {\"id\" : \"F69\",\"source\" : \"F24\",\"weight\" : 1,\"color\" : \"\",\"target\" : \"F8\"},\"F70\" : {\"id\" : \"F70\",\"source\" : \"F25\",\"weight\" : 1,\"color\" : \"\",\"target\" : \"F12\"},\"F71\" : {\"id\" : \"F71\",\"source\" : \"F26\",\"weight\" : 1,\"color\" : \"\",\"target\" : \"F10\"},\"F72\" : {\"id\" : \"F72\",\"source\" : \"F27\",\"weight\" : 1,\"color\" : \"\",\"target\" : \"F12\"},\"F73\" : {\"id\" : \"F73\",\"source\" : \"F24\",\"weight\" : 1,\"color\" : \"\",\"target\" : \"F9\"},\"F74\" : {\"id\" : \"F74\",\"source\" : \"F25\",\"weight\" : 1,\"color\" : \"\",\"target\" : \"F9\"},\"F75\" : {\"id\" : \"F75\",\"source\" : \"F26\",\"weight\" : 1,\"color\" : \"\",\"target\" : \"F7\"},\"F76\" : {\"id\" : \"F76\",\"source\" : \"F27\",\"weight\" : 1,\"color\" : \"\",\"target\" : \"F8\"},\"F77\" : {\"id\" : \"F77\",\"source\" : \"F28\",\"weight\" : 1,\"color\" : \"\",\"target\" : \"F21\"},\"F78\" : {\"id\" : \"F78\",\"source\" : \"F29\",\"weight\" : 1,\"color\" : \"\",\"target\" : \"F22\"},\"F79\" : {\"id\" : \"F79\",\"source\" : \"F30\",\"weight\" : 1,\"color\" : \"\",\"target\" : \"F23\"},\"F80\" : {\"id\" : \"F80\",\"source\" : \"F28\",\"weight\" : 1,\"color\" : \"\",\"target\" : \"F18\"},\"F81\" : {\"id\" : \"F81\",\"source\" : \"F29\",\"weight\" : 1,\"color\" : \"\",\"target\" : \"F19\"},\"F82\" : {\"id\" : \"F82\",\"source\" : \"F30\",\"weight\" : 1,\"color\" : \"\",\"target\" : \"F20\"},\"F83\" : {\"id\" : \"F83\",\"source\" : \"F28\",\"weight\" : 1,\"color\" : \"\",\"target\" : \"F17\"},\"F84\" : {\"id\" : \"F84\",\"source\" : \"F29\",\"weight\" : 1,\"color\" : \"\",\"target\" : \"F17\"},\"F85\" : {\"id\" : \"F85\",\"source\" : \"F30\",\"weight\" : 1,\"color\" : \"\",\"target\" : \"F17\"},\"F86\" : {\"id\" : \"F86\",\"source\" : \"F31\",\"weight\" : 1,\"color\" : \"\",\"target\" : \"F17\"},\"F87\" : {\"id\" : \"F87\",\"source\" : \"F31\",\"weight\" : 1,\"color\" : \"\",\"target\" : \"F13\"},\"F88\" : {\"id\" : \"F88\",\"source\" : \"F31\",\"weight\" : 1,\"color\" : \"\",\"target\" : \"F14\"},\"F89\" : {\"id\" : \"F89\",\"source\" : \"F31\",\"weight\" : 1,\"color\" : \"\",\"target\" : \"F15\"},\"F90\" : {\"id\" : \"F90\",\"source\" : \"F31\",\"weight\" : 1,\"color\" : \"\",\"target\" : \"F16\"},\"F91\" : {\"id\" : \"F91\",\"source\" : \"F32\",\"weight\" : 1,\"color\" : \"\",\"target\" : \"F31\"},\"F92\" : {\"id\" : \"F92\",\"source\" : \"F32\",\"weight\" : 1,\"color\" : \"\",\"target\" : \"F28\"},\"F93\" : {\"id\" : \"F93\",\"source\" : \"F32\",\"weight\" : 1,\"color\" : \"\",\"target\" : \"F29\"},\"F94\" : {\"id\" : \"F94\",\"source\" : \"F32\",\"weight\" : 1,\"color\" : \"\",\"target\" : \"F30\"},\"F95\" : {\"id\" : \"F95\",\"source\" : \"F32\",\"weight\" : 1,\"color\" : \"\",\"target\" : \"F24\"},\"F96\" : {\"id\" : \"F96\",\"source\" : \"F32\",\"weight\" : 1,\"color\" : \"\",\"target\" : \"F25\"},\"F97\" : {\"id\" : \"F97\",\"source\" : \"F32\",\"weight\" : 1,\"color\" : \"\",\"target\" : \"F26\"},\"F98\" : {\"id\" : \"F98\",\"source\" : \"F32\",\"weight\" : 1,\"color\" : \"\",\"target\" : \"F27\"}}},\"messages\" : {}}}"
     },
     "execution_count": 7,
     "metadata": {
      "application/vnd.francy+json": {}
     },
     "output_type": "execute_result"
    }
   ],
   "source": [
    "DisplayLatticeSubgroups := function(L)\n",
    "    local cls, len, sz, max, rep, z, t, i, j, k, graphHasse, nodes;\n",
    "    cls:=ConjugacyClassesSubgroups(L);\n",
    "    len:=[];\n",
    "    sz:=[];\n",
    "    for i in cls do\n",
    "        Add(len,Size(i));\n",
    "        AddSet(sz,Size(Representative(i)));\n",
    "    od;\n",
    "\n",
    "    graphHasse := Graph(GraphType.UNDIRECTED);\n",
    "    SetShowNeighbours(graphHasse,true);\n",
    "\n",
    "    nodes := [];\n",
    "    # subgroup nodes, also acccording to size\n",
    "    for i in [1..Length(cls)] do\n",
    "        nodes[i] := [];\n",
    "        for j in [1..len[i]] do\n",
    "            if len[i]=1 then\n",
    "                nodes[i][j] := Shape(ShapeType.CIRCLE, String(i));\n",
    "                SetLayer(nodes[i][j], Size(Representative(cls[i])));\n",
    "                # AppendTo(file,\"\\\"\",i,\"x\",j,\"\\\" [label=\\\"\",i,\"\\\", shape=box];\\n\");\n",
    "            else\n",
    "                nodes[i][j] := Shape(ShapeType.DIAMOND, String(i));\n",
    "                SetLayer(nodes[i][j], Size(Representative(cls[i])));\n",
    "                # AppendTo(file,\"\\\"\",i,\"x\",j,\"\\\" [label=\\\"\",i,\"-\",j,\"\\\", shape=circle];\\n\");\n",
    "            fi;\n",
    "            Add(graphHasse, nodes[i][j]);\n",
    "        od;\n",
    "    od;\n",
    "\n",
    "    max:=MaximalSubgroupsLattice(L);\n",
    "    for i in [1..Length(cls)] do\n",
    "        for j in max[i] do\n",
    "            rep:=ClassElementLattice(cls[i],1);\n",
    "            for k in [1..len[i]] do\n",
    "                if k=1 then\n",
    "                    z:=j[2];\n",
    "                else\n",
    "                    t:=cls[i]!.normalizerTransversal[k];\n",
    "                    z:=ClassElementLattice(cls[j[1]],1); # force computation of transv.\n",
    "                    z:=cls[j[1]]!.normalizerTransversal[j[2]]*t;\n",
    "                    z:=PositionCanonical(cls[j[1]]!.normalizerTransversal,z);\n",
    "                fi;\n",
    "                Add(graphHasse, Link(nodes[i][k],nodes[j[1]][z]));\n",
    "          od;\n",
    "        od;\n",
    "      od;\n",
    "    return graphHasse;\n",
    "end;;\n",
    "\n",
    "canvas := Canvas(\"Lattice Subgroups\");;\n",
    "Add(canvas, DisplayLatticeSubgroups(LatticeSubgroups(SymmetricGroup(4))));;\n",
    "Draw(canvas);"
   ]
  },
  {
   "cell_type": "markdown",
   "metadata": {},
   "source": [
    "## Digraphs"
   ]
  },
  {
   "cell_type": "code",
   "execution_count": 22,
   "metadata": {},
   "outputs": [
    {
     "data": {
      "application/vnd.francy+json": "{\"version\" : \"0.8.0\",\"mime\" : \"application\\/vnd.francy+json\",\"canvas\" : {\"width\" : 800,\"id\" : \"F134\",\"height\" : 600,\"title\" : \"Subgroups Digraph of SymmetricGroup( [ 1 .. 3 ] )\",\"zoomToFit\" : true,\"texTypesetting\" : false,\"menus\" : {},\"graph\" : {\"type\" : \"directed\",\"id\" : \"F99\",\"simulation\" : true,\"collapsed\" : true,\"drag\" : true,\"showNeighbours\" : false,\"nodes\" : {\"F101\" : {\"x\" : 0,\"y\" : 0,\"type\" : \"circle\",\"id\" : \"F101\",\"size\" : 10,\"title\" : \"1\",\"color\" : \"#0c9460\",\"highlight\" : true,\"layer\" : 0,\"parent\" : \"\",\"menus\" : {\"F103\" : {\"id\" : \"F103\",\"title\" : \"Is this subgroup simple?\",\"callback\" : {\"func\" : \"IsGroupSimple\",\"id\" : \"F102\",\"trigger\" : \"click\",\"knownArgs\" : [\"1\"],\"requiredArgs\" : {}},\"menus\" : {}}},\"messages\" : {},\"callbacks\" : {}},\"F104\" : {\"x\" : 0,\"y\" : 0,\"type\" : \"circle\",\"id\" : \"F104\",\"size\" : 10,\"title\" : \"2\",\"color\" : \"#0c9460\",\"highlight\" : true,\"layer\" : 0,\"parent\" : \"\",\"menus\" : {\"F106\" : {\"id\" : \"F106\",\"title\" : \"Is this subgroup simple?\",\"callback\" : {\"func\" : \"IsGroupSimple\",\"id\" : \"F105\",\"trigger\" : \"click\",\"knownArgs\" : [\"2\"],\"requiredArgs\" : {}},\"menus\" : {}}},\"messages\" : {},\"callbacks\" : {}},\"F107\" : {\"x\" : 0,\"y\" : 0,\"type\" : \"circle\",\"id\" : \"F107\",\"size\" : 10,\"title\" : \"3\",\"color\" : \"#0c9460\",\"highlight\" : true,\"layer\" : 0,\"parent\" : \"\",\"menus\" : {\"F109\" : {\"id\" : \"F109\",\"title\" : \"Is this subgroup simple?\",\"callback\" : {\"func\" : \"IsGroupSimple\",\"id\" : \"F108\",\"trigger\" : \"click\",\"knownArgs\" : [\"3\"],\"requiredArgs\" : {}},\"menus\" : {}}},\"messages\" : {},\"callbacks\" : {}},\"F110\" : {\"x\" : 0,\"y\" : 0,\"type\" : \"circle\",\"id\" : \"F110\",\"size\" : 10,\"title\" : \"4\",\"color\" : \"#0c9460\",\"highlight\" : true,\"layer\" : 0,\"parent\" : \"\",\"menus\" : {\"F112\" : {\"id\" : \"F112\",\"title\" : \"Is this subgroup simple?\",\"callback\" : {\"func\" : \"IsGroupSimple\",\"id\" : \"F111\",\"trigger\" : \"click\",\"knownArgs\" : [\"4\"],\"requiredArgs\" : {}},\"menus\" : {}}},\"messages\" : {},\"callbacks\" : {}},\"F113\" : {\"x\" : 0,\"y\" : 0,\"type\" : \"circle\",\"id\" : \"F113\",\"size\" : 10,\"title\" : \"5\",\"color\" : \"#0c9460\",\"highlight\" : true,\"layer\" : 0,\"parent\" : \"\",\"menus\" : {\"F115\" : {\"id\" : \"F115\",\"title\" : \"Is this subgroup simple?\",\"callback\" : {\"func\" : \"IsGroupSimple\",\"id\" : \"F114\",\"trigger\" : \"click\",\"knownArgs\" : [\"5\"],\"requiredArgs\" : {}},\"menus\" : {}}},\"messages\" : {},\"callbacks\" : {}},\"F116\" : {\"x\" : 0,\"y\" : 0,\"type\" : \"circle\",\"id\" : \"F116\",\"size\" : 10,\"title\" : \"6\",\"color\" : \"#0c9460\",\"highlight\" : true,\"layer\" : 0,\"parent\" : \"\",\"menus\" : {\"F118\" : {\"id\" : \"F118\",\"title\" : \"Is this subgroup simple?\",\"callback\" : {\"func\" : \"IsGroupSimple\",\"id\" : \"F117\",\"trigger\" : \"click\",\"knownArgs\" : [\"6\"],\"requiredArgs\" : {}},\"menus\" : {}}},\"messages\" : {},\"callbacks\" : {}}},\"links\" : {\"F119\" : {\"id\" : \"F119\",\"source\" : \"F101\",\"weight\" : 1,\"color\" : \"\",\"target\" : \"F101\"},\"F120\" : {\"id\" : \"F120\",\"source\" : \"F104\",\"weight\" : 1,\"color\" : \"\",\"target\" : \"F101\"},\"F121\" : {\"id\" : \"F121\",\"source\" : \"F104\",\"weight\" : 1,\"color\" : \"\",\"target\" : \"F104\"},\"F122\" : {\"id\" : \"F122\",\"source\" : \"F107\",\"weight\" : 1,\"color\" : \"\",\"target\" : \"F101\"},\"F123\" : {\"id\" : \"F123\",\"source\" : \"F107\",\"weight\" : 1,\"color\" : \"\",\"target\" : \"F107\"},\"F124\" : {\"id\" : \"F124\",\"source\" : \"F110\",\"weight\" : 1,\"color\" : \"\",\"target\" : \"F101\"},\"F125\" : {\"id\" : \"F125\",\"source\" : \"F110\",\"weight\" : 1,\"color\" : \"\",\"target\" : \"F110\"},\"F126\" : {\"id\" : \"F126\",\"source\" : \"F113\",\"weight\" : 1,\"color\" : \"\",\"target\" : \"F101\"},\"F127\" : {\"id\" : \"F127\",\"source\" : \"F113\",\"weight\" : 1,\"color\" : \"\",\"target\" : \"F113\"},\"F128\" : {\"id\" : \"F128\",\"source\" : \"F116\",\"weight\" : 1,\"color\" : \"\",\"target\" : \"F101\"},\"F129\" : {\"id\" : \"F129\",\"source\" : \"F116\",\"weight\" : 1,\"color\" : \"\",\"target\" : \"F104\"},\"F130\" : {\"id\" : \"F130\",\"source\" : \"F116\",\"weight\" : 1,\"color\" : \"\",\"target\" : \"F107\"},\"F131\" : {\"id\" : \"F131\",\"source\" : \"F116\",\"weight\" : 1,\"color\" : \"\",\"target\" : \"F110\"},\"F132\" : {\"id\" : \"F132\",\"source\" : \"F116\",\"weight\" : 1,\"color\" : \"\",\"target\" : \"F113\"},\"F133\" : {\"id\" : \"F133\",\"source\" : \"F116\",\"weight\" : 1,\"color\" : \"\",\"target\" : \"F116\"}}},\"messages\" : {}}}"
     },
     "execution_count": 22,
     "metadata": {
      "application/vnd.francy+json": {}
     },
     "output_type": "execute_result"
    }
   ],
   "source": [
    "G := SymmetricGroup(3);;\n",
    "as := AllSubgroups(G);;\n",
    "d := Digraph(as, {H, K} -> IsSubgroup(H, K));;\n",
    "\n",
    "vertices := DigraphVertices(d);;\n",
    "edges := DigraphEdges(d);;\n",
    "\n",
    "graph := Graph(GraphType.DIRECTED);;\n",
    "SetDrag(graph, true);;\n",
    "nodes := [];;\n",
    "\n",
    "simpleGroupMessage := FrancyMessage(FrancyMessageType.INFO, \"Simple Groups\", \"A group is simple if it is nontrivial and has no nontrivial normal subgroups.\");;\n",
    "\n",
    "IsGroupSimple := function(i)\n",
    "    Add(canvas, simpleGroupMessage);;\n",
    "    if IsSimpleGroup(as[i]) then\n",
    "        Add(canvas, FrancyMessage(\"Simple\", Concatenation(\"The vertex \", String(i), \", representing the subgroup \", String(as[i]), \", is simple.\")));;\n",
    "    else\n",
    "        Add(canvas, FrancyMessage(\"Not Simple\", Concatenation(\"The vertex \", String(i), \", representing the subgroup \", String(as[i]), \", is not simple.\")));;\n",
    "    fi;;\n",
    "    return Draw(canvas);\n",
    "end;;\n",
    "    \n",
    "for i in vertices do;\n",
    "    nodes[i] := Shape(ShapeType.CIRCLE, String(i));;\n",
    "    SetColor(nodes[i], \"#0c9460\");;\n",
    "    Add(nodes[i], Menu(\"Is this subgroup simple?\", Callback(IsGroupSimple, [i])));;\n",
    "    Add(graph, nodes[i]);;\n",
    "od;;\n",
    "\n",
    "for i in edges do\n",
    "    Add(graph, Link(nodes[i[1]], nodes[i[2]]));;\n",
    "od;;\n",
    "\n",
    "canvas := Canvas(Concatenation(\"Subgroups Digraph of \", String(G)));;\n",
    "Add(canvas, graph);;\n",
    "Draw(canvas);"
   ]
  }
 ],
 "metadata": {
  "celltoolbar": "Raw Cell Format",
  "kernelspec": {
   "display_name": "GAP 4 (native)",
   "language": "gap",
   "name": "gap-native"
  },
  "language_info": {
   "codemirror_mode": "gap",
   "file_extension": ".g",
   "mimetype": "text/x-gap",
   "name": "GAP (native)",
   "nbconvert_exporter": "",
   "pygments_lexer": "gap",
   "version": "4.dev"
  }
 },
 "nbformat": 4,
 "nbformat_minor": 2
}
