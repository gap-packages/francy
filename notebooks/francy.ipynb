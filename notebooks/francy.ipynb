{
 "cells": [
  {
   "cell_type": "markdown",
   "metadata": {},
   "source": [
    "### Load Francy Package"
   ]
  },
  {
   "cell_type": "code",
   "execution_count": 2,
   "metadata": {},
   "outputs": [
    {
     "name": "stdout",
     "output_type": "stream",
     "text": [
      "#I  equal requirements in multiple declarations for operation `JUPYTER_ViewString'\n",
      "\n",
      "#I  Please load package NormalizInterface or 4ti2Interface\n",
      "#I  to have extended functionalities.\n",
      "#I  Please load package SingularInterface or singular (not both)\n",
      "#I  or GradedModules to have extended functionalities.\n"
     ]
    },
    {
     "data": {
      "text/plain": [
       "true"
      ]
     },
     "execution_count": 1,
     "metadata": {
      "text/plain": "true"
     },
     "output_type": "execute_result"
    },
    {
     "data": {
      "text/plain": [
       "true"
      ]
     },
     "execution_count": 2,
     "metadata": {
      "text/plain": "true"
     },
     "output_type": "execute_result"
    }
   ],
   "source": [
    "LoadPackage(\"francy\");\n",
    "LoadPackage(\"num\");"
   ]
  },
  {
   "cell_type": "markdown",
   "metadata": {},
   "source": [
    "# Callbacks\n",
    "\n",
    "Click on the menu to add nodes to the canvas.\n",
    "\n",
    "Try adding 500 of each.\n",
    "\n",
    "Zoom in and out using the mouse wheel."
   ]
  },
  {
   "cell_type": "code",
   "execution_count": 17,
   "metadata": {},
   "outputs": [
    {
     "data": {
      "text/plain": [
       "<IsFrancyObject/IsCanvas>"
      ]
     },
     "execution_count": 3,
     "metadata": {
      "text/plain": "<IsFrancyObject/IsCanvas>"
     },
     "output_type": "execute_result"
    },
    {
     "data": {
      "text/plain": [
       "<IsFrancyObject/IsFrancyGraph>"
      ]
     },
     "execution_count": 4,
     "metadata": {
      "text/plain": "<IsFrancyObject/IsFrancyGraph>"
     },
     "output_type": "execute_result"
    },
    {
     "data": {
      "text/plain": [
       "function( st, n ) ... end"
      ]
     },
     "execution_count": 5,
     "metadata": {
      "text/plain": "function( st, n ) ... end"
     },
     "output_type": "execute_result"
    },
    {
     "data": {
      "text/plain": [
       "function(  ) ... end"
      ]
     },
     "execution_count": 6,
     "metadata": {
      "text/plain": "function(  ) ... end"
     },
     "output_type": "execute_result"
    },
    {
     "data": {
      "text/plain": [
       "<IsFrancyObject/IsCallback>"
      ]
     },
     "execution_count": 7,
     "metadata": {
      "text/plain": "<IsFrancyObject/IsCallback>"
     },
     "output_type": "execute_result"
    },
    {
     "data": {
      "text/plain": [
       "<IsFrancyObject/IsCallback>"
      ]
     },
     "execution_count": 8,
     "metadata": {
      "text/plain": "<IsFrancyObject/IsCallback>"
     },
     "output_type": "execute_result"
    },
    {
     "data": {
      "text/plain": [
       "<IsFrancyObject/IsMenu>"
      ]
     },
     "execution_count": 10,
     "metadata": {
      "text/plain": "<IsFrancyObject/IsMenu>"
     },
     "output_type": "execute_result"
    },
    {
     "data": {
      "text/plain": [
       "<IsFrancyObject/IsCallback>"
      ]
     },
     "execution_count": 11,
     "metadata": {
      "text/plain": "<IsFrancyObject/IsCallback>"
     },
     "output_type": "execute_result"
    },
    {
     "data": {
      "text/plain": [
       "<IsFrancyObject/IsCallback>"
      ]
     },
     "execution_count": 12,
     "metadata": {
      "text/plain": "<IsFrancyObject/IsCallback>"
     },
     "output_type": "execute_result"
    },
    {
     "data": {
      "text/plain": [
       "<IsFrancyObject/IsMenu>"
      ]
     },
     "execution_count": 14,
     "metadata": {
      "text/plain": "<IsFrancyObject/IsMenu>"
     },
     "output_type": "execute_result"
    },
    {
     "data": {
      "text/plain": [
       "<IsFrancyObject/IsMenu>"
      ]
     },
     "execution_count": 15,
     "metadata": {
      "text/plain": "<IsFrancyObject/IsMenu>"
     },
     "output_type": "execute_result"
    },
    {
     "data": {
      "application/vnd.francy+json": "{\"version\" : \"0.5.0\",\"mime\" : \"application\\/vnd.francy+json\",\"canvas\" : {\"width\" : 800,\"height\" : 600,\"id\" : \"F1\",\"title\" : \"Add Shapes on demand\",\"zoomToFit\" : true,\"menus\" : {\"F5\" : {\"id\" : \"F5\",\"title\" : \"Add Circle\",\"callback\" : {\"func\" : \"AddShape\",\"id\" : \"F3\",\"trigger\" : \"click\",\"knownArgs\" : [\"<object>\"],\"requiredArgs\" : {\"F4\" : {\"type\" : \"number\",\"id\" : \"F4\",\"title\" : \"How many Circles?\",\"value\" : \"\"}}},\"menus\" : {}},\"F8\" : {\"id\" : \"F8\",\"title\" : \"Add Square\",\"callback\" : {\"func\" : \"AddShape\",\"id\" : \"F6\",\"trigger\" : \"click\",\"knownArgs\" : [\"<object>\"],\"requiredArgs\" : {\"F7\" : {\"type\" : \"number\",\"id\" : \"F7\",\"title\" : \"How many Squares?\",\"value\" : \"\"}}},\"menus\" : {}},\"F10\" : {\"id\" : \"F10\",\"title\" : \"Clear\",\"callback\" : {\"func\" : \"ClearGraph\",\"id\" : \"F9\",\"trigger\" : \"click\",\"knownArgs\" : [],\"requiredArgs\" : {}},\"menus\" : {}}},\"graph\" : {\"type\" : \"hasse\",\"id\" : \"F2\",\"simulation\" : true,\"collapsed\" : true,\"drag\" : false,\"showNeighbours\" : false,\"nodes\" : {},\"links\" : {}},\"messages\" : {}}}"
     },
     "execution_count": 17,
     "metadata": {
      "text/plain": "~empty~"
     },
     "output_type": "execute_result"
    }
   ],
   "source": [
    "canvas := Canvas(\"Add Shapes on demand\");\n",
    "\n",
    "graph := Graph(GraphType.HASSE);\n",
    "\n",
    "AddShape := function(st, n)\n",
    "    local i, shape;\n",
    "    for i in [1..Int(n)] do\n",
    "        shape := Shape(st, String(i));\n",
    "        SetLayer(shape, Random([1..16]));\n",
    "        Add(graph, shape);\n",
    "    od;\n",
    "    return Draw(canvas);\n",
    "end;\n",
    "\n",
    "ClearGraph := function()\n",
    "    UnsetNodes(graph);\n",
    "    return Draw(canvas);\n",
    "end;\n",
    "\n",
    "callback1 := Callback(AddShape, [ShapeType.CIRCLE]);\n",
    "arg1 := RequiredArg(ArgType.NUMBER, \"How many Circles?\");\n",
    "Add(callback1, arg1);\n",
    "menu1 := Menu( \"Add Circle\", callback1 );\n",
    "\n",
    "callback2 := Callback(AddShape, [ShapeType.SQUARE]);\n",
    "arg2 := RequiredArg(ArgType.NUMBER, \"How many Squares?\");\n",
    "Add(callback2, arg2);\n",
    "menu2 := Menu( \"Add Square\", callback2 );\n",
    "\n",
    "menu3 := Menu( \"Clear\", Callback(ClearGraph));\n",
    "\n",
    "Add(canvas, [graph, menu1, menu2, menu3]);\n",
    "\n",
    "Draw(canvas);"
   ]
  },
  {
   "cell_type": "markdown",
   "metadata": {},
   "source": [
    "### An attempt to LatticeSubgroups By Markus"
   ]
  },
  {
   "cell_type": "code",
   "execution_count": 21,
   "metadata": {},
   "outputs": [
    {
     "data": {
      "text/plain": [
       "function( L ) ... end"
      ]
     },
     "execution_count": 18,
     "metadata": {
      "text/plain": "function( L ) ... end"
     },
     "output_type": "execute_result"
    },
    {
     "data": {
      "application/vnd.francy+json": "{\"version\" : \"0.5.0\",\"mime\" : \"application\\/vnd.francy+json\",\"canvas\" : {\"width\" : 800,\"height\" : 600,\"id\" : \"F11\",\"title\" : \"Lattice Subgroups\",\"zoomToFit\" : true,\"menus\" : {},\"graph\" : {\"type\" : \"hasse\",\"id\" : \"F12\",\"simulation\" : true,\"collapsed\" : true,\"drag\" : false,\"showNeighbours\" : false,\"nodes\" : {\"F13\" : {\"x\" : 0,\"y\" : 0,\"type\" : \"circle\",\"size\" : 10,\"id\" : \"F13\",\"title\" : \"1\",\"layer\" : 1,\"highlight\" : true,\"parent\" : \"\",\"menus\" : {},\"messages\" : {},\"callbacks\" : {}},\"F14\" : {\"x\" : 0,\"y\" : 0,\"type\" : \"diamond\",\"size\" : 10,\"id\" : \"F14\",\"title\" : \"2\",\"layer\" : 2,\"highlight\" : true,\"parent\" : \"\",\"menus\" : {},\"messages\" : {},\"callbacks\" : {}},\"F15\" : {\"x\" : 0,\"y\" : 0,\"type\" : \"diamond\",\"size\" : 10,\"id\" : \"F15\",\"title\" : \"2\",\"layer\" : 2,\"highlight\" : true,\"parent\" : \"\",\"menus\" : {},\"messages\" : {},\"callbacks\" : {}},\"F16\" : {\"x\" : 0,\"y\" : 0,\"type\" : \"diamond\",\"size\" : 10,\"id\" : \"F16\",\"title\" : \"2\",\"layer\" : 2,\"highlight\" : true,\"parent\" : \"\",\"menus\" : {},\"messages\" : {},\"callbacks\" : {}},\"F17\" : {\"x\" : 0,\"y\" : 0,\"type\" : \"diamond\",\"size\" : 10,\"id\" : \"F17\",\"title\" : \"3\",\"layer\" : 2,\"highlight\" : true,\"parent\" : \"\",\"menus\" : {},\"messages\" : {},\"callbacks\" : {}},\"F18\" : {\"x\" : 0,\"y\" : 0,\"type\" : \"diamond\",\"size\" : 10,\"id\" : \"F18\",\"title\" : \"3\",\"layer\" : 2,\"highlight\" : true,\"parent\" : \"\",\"menus\" : {},\"messages\" : {},\"callbacks\" : {}},\"F19\" : {\"x\" : 0,\"y\" : 0,\"type\" : \"diamond\",\"size\" : 10,\"id\" : \"F19\",\"title\" : \"3\",\"layer\" : 2,\"highlight\" : true,\"parent\" : \"\",\"menus\" : {},\"messages\" : {},\"callbacks\" : {}},\"F20\" : {\"x\" : 0,\"y\" : 0,\"type\" : \"diamond\",\"size\" : 10,\"id\" : \"F20\",\"title\" : \"3\",\"layer\" : 2,\"highlight\" : true,\"parent\" : \"\",\"menus\" : {},\"messages\" : {},\"callbacks\" : {}},\"F21\" : {\"x\" : 0,\"y\" : 0,\"type\" : \"diamond\",\"size\" : 10,\"id\" : \"F21\",\"title\" : \"3\",\"layer\" : 2,\"highlight\" : true,\"parent\" : \"\",\"menus\" : {},\"messages\" : {},\"callbacks\" : {}},\"F22\" : {\"x\" : 0,\"y\" : 0,\"type\" : \"diamond\",\"size\" : 10,\"id\" : \"F22\",\"title\" : \"3\",\"layer\" : 2,\"highlight\" : true,\"parent\" : \"\",\"menus\" : {},\"messages\" : {},\"callbacks\" : {}},\"F23\" : {\"x\" : 0,\"y\" : 0,\"type\" : \"diamond\",\"size\" : 10,\"id\" : \"F23\",\"title\" : \"4\",\"layer\" : 3,\"highlight\" : true,\"parent\" : \"\",\"menus\" : {},\"messages\" : {},\"callbacks\" : {}},\"F24\" : {\"x\" : 0,\"y\" : 0,\"type\" : \"diamond\",\"size\" : 10,\"id\" : \"F24\",\"title\" : \"4\",\"layer\" : 3,\"highlight\" : true,\"parent\" : \"\",\"menus\" : {},\"messages\" : {},\"callbacks\" : {}},\"F25\" : {\"x\" : 0,\"y\" : 0,\"type\" : \"diamond\",\"size\" : 10,\"id\" : \"F25\",\"title\" : \"4\",\"layer\" : 3,\"highlight\" : true,\"parent\" : \"\",\"menus\" : {},\"messages\" : {},\"callbacks\" : {}},\"F26\" : {\"x\" : 0,\"y\" : 0,\"type\" : \"diamond\",\"size\" : 10,\"id\" : \"F26\",\"title\" : \"4\",\"layer\" : 3,\"highlight\" : true,\"parent\" : \"\",\"menus\" : {},\"messages\" : {},\"callbacks\" : {}},\"F27\" : {\"x\" : 0,\"y\" : 0,\"type\" : \"circle\",\"size\" : 10,\"id\" : \"F27\",\"title\" : \"5\",\"layer\" : 4,\"highlight\" : true,\"parent\" : \"\",\"menus\" : {},\"messages\" : {},\"callbacks\" : {}},\"F28\" : {\"x\" : 0,\"y\" : 0,\"type\" : \"diamond\",\"size\" : 10,\"id\" : \"F28\",\"title\" : \"6\",\"layer\" : 4,\"highlight\" : true,\"parent\" : \"\",\"menus\" : {},\"messages\" : {},\"callbacks\" : {}},\"F29\" : {\"x\" : 0,\"y\" : 0,\"type\" : \"diamond\",\"size\" : 10,\"id\" : \"F29\",\"title\" : \"6\",\"layer\" : 4,\"highlight\" : true,\"parent\" : \"\",\"menus\" : {},\"messages\" : {},\"callbacks\" : {}},\"F30\" : {\"x\" : 0,\"y\" : 0,\"type\" : \"diamond\",\"size\" : 10,\"id\" : \"F30\",\"title\" : \"6\",\"layer\" : 4,\"highlight\" : true,\"parent\" : \"\",\"menus\" : {},\"messages\" : {},\"callbacks\" : {}},\"F31\" : {\"x\" : 0,\"y\" : 0,\"type\" : \"diamond\",\"size\" : 10,\"id\" : \"F31\",\"title\" : \"7\",\"layer\" : 4,\"highlight\" : true,\"parent\" : \"\",\"menus\" : {},\"messages\" : {},\"callbacks\" : {}},\"F32\" : {\"x\" : 0,\"y\" : 0,\"type\" : \"diamond\",\"size\" : 10,\"id\" : \"F32\",\"title\" : \"7\",\"layer\" : 4,\"highlight\" : true,\"parent\" : \"\",\"menus\" : {},\"messages\" : {},\"callbacks\" : {}},\"F33\" : {\"x\" : 0,\"y\" : 0,\"type\" : \"diamond\",\"size\" : 10,\"id\" : \"F33\",\"title\" : \"7\",\"layer\" : 4,\"highlight\" : true,\"parent\" : \"\",\"menus\" : {},\"messages\" : {},\"callbacks\" : {}},\"F34\" : {\"x\" : 0,\"y\" : 0,\"type\" : \"diamond\",\"size\" : 10,\"id\" : \"F34\",\"title\" : \"8\",\"layer\" : 6,\"highlight\" : true,\"parent\" : \"\",\"menus\" : {},\"messages\" : {},\"callbacks\" : {}},\"F35\" : {\"x\" : 0,\"y\" : 0,\"type\" : \"diamond\",\"size\" : 10,\"id\" : \"F35\",\"title\" : \"8\",\"layer\" : 6,\"highlight\" : true,\"parent\" : \"\",\"menus\" : {},\"messages\" : {},\"callbacks\" : {}},\"F36\" : {\"x\" : 0,\"y\" : 0,\"type\" : \"diamond\",\"size\" : 10,\"id\" : \"F36\",\"title\" : \"8\",\"layer\" : 6,\"highlight\" : true,\"parent\" : \"\",\"menus\" : {},\"messages\" : {},\"callbacks\" : {}},\"F37\" : {\"x\" : 0,\"y\" : 0,\"type\" : \"diamond\",\"size\" : 10,\"id\" : \"F37\",\"title\" : \"8\",\"layer\" : 6,\"highlight\" : true,\"parent\" : \"\",\"menus\" : {},\"messages\" : {},\"callbacks\" : {}},\"F38\" : {\"x\" : 0,\"y\" : 0,\"type\" : \"diamond\",\"size\" : 10,\"id\" : \"F38\",\"title\" : \"9\",\"layer\" : 8,\"highlight\" : true,\"parent\" : \"\",\"menus\" : {},\"messages\" : {},\"callbacks\" : {}},\"F39\" : {\"x\" : 0,\"y\" : 0,\"type\" : \"diamond\",\"size\" : 10,\"id\" : \"F39\",\"title\" : \"9\",\"layer\" : 8,\"highlight\" : true,\"parent\" : \"\",\"menus\" : {},\"messages\" : {},\"callbacks\" : {}},\"F40\" : {\"x\" : 0,\"y\" : 0,\"type\" : \"diamond\",\"size\" : 10,\"id\" : \"F40\",\"title\" : \"9\",\"layer\" : 8,\"highlight\" : true,\"parent\" : \"\",\"menus\" : {},\"messages\" : {},\"callbacks\" : {}},\"F41\" : {\"x\" : 0,\"y\" : 0,\"type\" : \"circle\",\"size\" : 10,\"id\" : \"F41\",\"title\" : \"10\",\"layer\" : 12,\"highlight\" : true,\"parent\" : \"\",\"menus\" : {},\"messages\" : {},\"callbacks\" : {}},\"F42\" : {\"x\" : 0,\"y\" : 0,\"type\" : \"circle\",\"size\" : 10,\"id\" : \"F42\",\"title\" : \"11\",\"layer\" : 24,\"highlight\" : true,\"parent\" : \"\",\"menus\" : {},\"messages\" : {},\"callbacks\" : {}}},\"links\" : {\"F43\" : {\"source\" : \"F14\",\"id\" : \"F43\",\"target\" : \"F13\"},\"F44\" : {\"source\" : \"F15\",\"id\" : \"F44\",\"target\" : \"F13\"},\"F45\" : {\"source\" : \"F16\",\"id\" : \"F45\",\"target\" : \"F13\"},\"F46\" : {\"source\" : \"F17\",\"id\" : \"F46\",\"target\" : \"F13\"},\"F47\" : {\"source\" : \"F18\",\"id\" : \"F47\",\"target\" : \"F13\"},\"F48\" : {\"source\" : \"F19\",\"id\" : \"F48\",\"target\" : \"F13\"},\"F49\" : {\"source\" : \"F20\",\"id\" : \"F49\",\"target\" : \"F13\"},\"F50\" : {\"source\" : \"F21\",\"id\" : \"F50\",\"target\" : \"F13\"},\"F51\" : {\"source\" : \"F22\",\"id\" : \"F51\",\"target\" : \"F13\"},\"F52\" : {\"source\" : \"F23\",\"id\" : \"F52\",\"target\" : \"F13\"},\"F53\" : {\"source\" : \"F24\",\"id\" : \"F53\",\"target\" : \"F13\"},\"F54\" : {\"source\" : \"F25\",\"id\" : \"F54\",\"target\" : \"F13\"},\"F55\" : {\"source\" : \"F26\",\"id\" : \"F55\",\"target\" : \"F13\"},\"F56\" : {\"source\" : \"F27\",\"id\" : \"F56\",\"target\" : \"F14\"},\"F57\" : {\"source\" : \"F27\",\"id\" : \"F57\",\"target\" : \"F15\"},\"F58\" : {\"source\" : \"F27\",\"id\" : \"F58\",\"target\" : \"F16\"},\"F59\" : {\"source\" : \"F28\",\"id\" : \"F59\",\"target\" : \"F17\"},\"F60\" : {\"source\" : \"F29\",\"id\" : \"F60\",\"target\" : \"F18\"},\"F61\" : {\"source\" : \"F30\",\"id\" : \"F61\",\"target\" : \"F19\"},\"F62\" : {\"source\" : \"F28\",\"id\" : \"F62\",\"target\" : \"F22\"},\"F63\" : {\"source\" : \"F29\",\"id\" : \"F63\",\"target\" : \"F21\"},\"F64\" : {\"source\" : \"F30\",\"id\" : \"F64\",\"target\" : \"F20\"},\"F65\" : {\"source\" : \"F28\",\"id\" : \"F65\",\"target\" : \"F16\"},\"F66\" : {\"source\" : \"F29\",\"id\" : \"F66\",\"target\" : \"F14\"},\"F67\" : {\"source\" : \"F30\",\"id\" : \"F67\",\"target\" : \"F15\"},\"F68\" : {\"source\" : \"F31\",\"id\" : \"F68\",\"target\" : \"F16\"},\"F69\" : {\"source\" : \"F32\",\"id\" : \"F69\",\"target\" : \"F14\"},\"F70\" : {\"source\" : \"F33\",\"id\" : \"F70\",\"target\" : \"F15\"},\"F71\" : {\"source\" : \"F34\",\"id\" : \"F71\",\"target\" : \"F23\"},\"F72\" : {\"source\" : \"F35\",\"id\" : \"F72\",\"target\" : \"F24\"},\"F73\" : {\"source\" : \"F36\",\"id\" : \"F73\",\"target\" : \"F25\"},\"F74\" : {\"source\" : \"F37\",\"id\" : \"F74\",\"target\" : \"F26\"},\"F75\" : {\"source\" : \"F34\",\"id\" : \"F75\",\"target\" : \"F17\"},\"F76\" : {\"source\" : \"F35\",\"id\" : \"F76\",\"target\" : \"F21\"},\"F77\" : {\"source\" : \"F36\",\"id\" : \"F77\",\"target\" : \"F21\"},\"F78\" : {\"source\" : \"F37\",\"id\" : \"F78\",\"target\" : \"F20\"},\"F79\" : {\"source\" : \"F34\",\"id\" : \"F79\",\"target\" : \"F18\"},\"F80\" : {\"source\" : \"F35\",\"id\" : \"F80\",\"target\" : \"F22\"},\"F81\" : {\"source\" : \"F36\",\"id\" : \"F81\",\"target\" : \"F20\"},\"F82\" : {\"source\" : \"F37\",\"id\" : \"F82\",\"target\" : \"F22\"},\"F83\" : {\"source\" : \"F34\",\"id\" : \"F83\",\"target\" : \"F19\"},\"F84\" : {\"source\" : \"F35\",\"id\" : \"F84\",\"target\" : \"F19\"},\"F85\" : {\"source\" : \"F36\",\"id\" : \"F85\",\"target\" : \"F17\"},\"F86\" : {\"source\" : \"F37\",\"id\" : \"F86\",\"target\" : \"F18\"},\"F87\" : {\"source\" : \"F38\",\"id\" : \"F87\",\"target\" : \"F31\"},\"F88\" : {\"source\" : \"F39\",\"id\" : \"F88\",\"target\" : \"F32\"},\"F89\" : {\"source\" : \"F40\",\"id\" : \"F89\",\"target\" : \"F33\"},\"F90\" : {\"source\" : \"F38\",\"id\" : \"F90\",\"target\" : \"F28\"},\"F91\" : {\"source\" : \"F39\",\"id\" : \"F91\",\"target\" : \"F29\"},\"F92\" : {\"source\" : \"F40\",\"id\" : \"F92\",\"target\" : \"F30\"},\"F93\" : {\"source\" : \"F38\",\"id\" : \"F93\",\"target\" : \"F27\"},\"F94\" : {\"source\" : \"F39\",\"id\" : \"F94\",\"target\" : \"F27\"},\"F95\" : {\"source\" : \"F40\",\"id\" : \"F95\",\"target\" : \"F27\"},\"F96\" : {\"source\" : \"F41\",\"id\" : \"F96\",\"target\" : \"F27\"},\"F97\" : {\"source\" : \"F41\",\"id\" : \"F97\",\"target\" : \"F23\"},\"F98\" : {\"source\" : \"F41\",\"id\" : \"F98\",\"target\" : \"F24\"},\"F99\" : {\"source\" : \"F41\",\"id\" : \"F99\",\"target\" : \"F25\"},\"F100\" : {\"source\" : \"F41\",\"id\" : \"F100\",\"target\" : \"F26\"},\"F101\" : {\"source\" : \"F42\",\"id\" : \"F101\",\"target\" : \"F41\"},\"F102\" : {\"source\" : \"F42\",\"id\" : \"F102\",\"target\" : \"F38\"},\"F103\" : {\"source\" : \"F42\",\"id\" : \"F103\",\"target\" : \"F39\"},\"F104\" : {\"source\" : \"F42\",\"id\" : \"F104\",\"target\" : \"F40\"},\"F105\" : {\"source\" : \"F42\",\"id\" : \"F105\",\"target\" : \"F34\"},\"F106\" : {\"source\" : \"F42\",\"id\" : \"F106\",\"target\" : \"F35\"},\"F107\" : {\"source\" : \"F42\",\"id\" : \"F107\",\"target\" : \"F36\"},\"F108\" : {\"source\" : \"F42\",\"id\" : \"F108\",\"target\" : \"F37\"}}},\"messages\" : {}}}"
     },
     "execution_count": 21,
     "metadata": {
      "text/plain": "~empty~"
     },
     "output_type": "execute_result"
    }
   ],
   "source": [
    "DisplayLatticeSubgroups := function(L)\n",
    "    local cls, len, sz, max, rep, z, t, i, j, k, graphHasse, nodes;\n",
    "    cls:=ConjugacyClassesSubgroups(L);\n",
    "    len:=[];\n",
    "    sz:=[];\n",
    "    for i in cls do\n",
    "        Add(len,Size(i));\n",
    "        AddSet(sz,Size(Representative(i)));\n",
    "    od;\n",
    "\n",
    "    graphHasse := Graph(GraphType.HASSE);\n",
    "\n",
    "    nodes := [];\n",
    "    # subgroup nodes, also acccording to size\n",
    "    for i in [1..Length(cls)] do\n",
    "        nodes[i] := [];\n",
    "        for j in [1..len[i]] do\n",
    "            if len[i]=1 then\n",
    "                nodes[i][j] := Shape(ShapeType.CIRCLE, String(i));\n",
    "                SetLayer(nodes[i][j], Size(Representative(cls[i])));\n",
    "                # AppendTo(file,\"\\\"\",i,\"x\",j,\"\\\" [label=\\\"\",i,\"\\\", shape=box];\\n\");\n",
    "            else\n",
    "                nodes[i][j] := Shape(ShapeType.DIAMOND, String(i));\n",
    "                SetLayer(nodes[i][j], Size(Representative(cls[i])));\n",
    "                # AppendTo(file,\"\\\"\",i,\"x\",j,\"\\\" [label=\\\"\",i,\"-\",j,\"\\\", shape=circle];\\n\");\n",
    "            fi;\n",
    "            Add(graphHasse, nodes[i][j]);\n",
    "        od;\n",
    "    od;\n",
    "\n",
    "    max:=MaximalSubgroupsLattice(L);\n",
    "    for i in [1..Length(cls)] do\n",
    "        for j in max[i] do\n",
    "            rep:=ClassElementLattice(cls[i],1);\n",
    "            for k in [1..len[i]] do\n",
    "                if k=1 then\n",
    "                    z:=j[2];\n",
    "                else\n",
    "                    t:=cls[i]!.normalizerTransversal[k];\n",
    "                    z:=ClassElementLattice(cls[j[1]],1); # force computation of transv.\n",
    "                    z:=cls[j[1]]!.normalizerTransversal[j[2]]*t;\n",
    "                    z:=PositionCanonical(cls[j[1]]!.normalizerTransversal,z);\n",
    "                fi;\n",
    "                Add(graphHasse, Link(nodes[i][k],nodes[j[1]][z]));\n",
    "          od;\n",
    "        od;\n",
    "      od;\n",
    "    return graphHasse;\n",
    "end;\n",
    "\n",
    "canvas3 := Canvas(\"Lattice Subgroups\");;\n",
    "Add(canvas3, DisplayLatticeSubgroups(LatticeSubgroups(SymmetricGroup(4))));\n",
    "Draw(canvas3);"
   ]
  }
 ],
 "metadata": {
  "kernelspec": {
   "display_name": "GAP 4 (native)",
   "language": "gap",
   "name": "gap-native"
  },
  "language_info": {
   "codemirror_mode": "gap",
   "file_extension": ".g",
   "mimetype": "text/x-gap",
   "name": "GAP (native)",
   "nbconvert_exporter": "",
   "pygments_lexer": "gap",
   "version": "4.dev"
  }
 },
 "nbformat": 4,
 "nbformat_minor": 2
}
