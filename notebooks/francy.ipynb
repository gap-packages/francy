{
 "cells": [
  {
   "cell_type": "markdown",
   "metadata": {},
   "source": [
    "### Load Francy Package"
   ]
  },
  {
   "cell_type": "code",
   "execution_count": 2,
   "metadata": {},
   "outputs": [
    {
     "name": "stdout",
     "output_type": "stream",
     "text": [
      "#I  equal requirements in multiple declarations for operation `JUPYTER_ViewString'\n",
      "\n",
      "#I  method installed for Add matches more than one declaration\n",
      "#I  method installed for Remove matches more than one declaration\n",
      "#I  Please load package NormalizInterface or 4ti2Interface\n",
      "#I  to have extended functionalities.\n",
      "#I  Please load package SingularInterface or singular (not both)\n",
      "#I  or GradedModules to have extended functionalities.\n"
     ]
    },
    {
     "data": {
      "text/plain": [
       "true"
      ]
     },
     "execution_count": 1,
     "metadata": {
      "text/plain": "true"
     },
     "output_type": "execute_result"
    },
    {
     "data": {
      "text/plain": [
       "true"
      ]
     },
     "execution_count": 2,
     "metadata": {
      "text/plain": "true"
     },
     "output_type": "execute_result"
    }
   ],
   "source": [
    "LoadPackage(\"francy\");\n",
    "LoadPackage(\"num\");"
   ]
  },
  {
   "cell_type": "markdown",
   "metadata": {},
   "source": [
    "# Callbacks\n",
    "\n",
    "Click on the menu to add nodes to the canvas.\n",
    "\n",
    "Try adding 500 of each.\n",
    "\n",
    "Zoom in and out using the mouse wheel."
   ]
  },
  {
   "cell_type": "code",
   "execution_count": null,
   "metadata": {},
   "outputs": [
    {
     "data": {
      "text/plain": [
       "<IsFrancyObject/IsCanvas>"
      ]
     },
     "execution_count": 3,
     "metadata": {
      "text/plain": "<IsFrancyObject/IsCanvas>"
     },
     "output_type": "execute_result"
    },
    {
     "data": {
      "text/plain": [
       "<IsFrancyObject/IsFrancyGraph>"
      ]
     },
     "execution_count": 4,
     "metadata": {
      "text/plain": "<IsFrancyObject/IsFrancyGraph>"
     },
     "output_type": "execute_result"
    },
    {
     "data": {
      "text/plain": [
       "function( st, n ) ... end"
      ]
     },
     "execution_count": 5,
     "metadata": {
      "text/plain": "function( st, n ) ... end"
     },
     "output_type": "execute_result"
    },
    {
     "data": {
      "text/plain": [
       "function(  ) ... end"
      ]
     },
     "execution_count": 6,
     "metadata": {
      "text/plain": "function(  ) ... end"
     },
     "output_type": "execute_result"
    },
    {
     "data": {
      "text/plain": [
       "<IsFrancyObject/IsCallback>"
      ]
     },
     "execution_count": 7,
     "metadata": {
      "text/plain": "<IsFrancyObject/IsCallback>"
     },
     "output_type": "execute_result"
    },
    {
     "data": {
      "text/plain": [
       "<IsFrancyObject/IsCallback>"
      ]
     },
     "execution_count": 8,
     "metadata": {
      "text/plain": "<IsFrancyObject/IsCallback>"
     },
     "output_type": "execute_result"
    },
    {
     "data": {
      "text/plain": [
       "<IsFrancyObject/IsMenu>"
      ]
     },
     "execution_count": 10,
     "metadata": {
      "text/plain": "<IsFrancyObject/IsMenu>"
     },
     "output_type": "execute_result"
    },
    {
     "data": {
      "text/plain": [
       "<IsFrancyObject/IsCallback>"
      ]
     },
     "execution_count": 11,
     "metadata": {
      "text/plain": "<IsFrancyObject/IsCallback>"
     },
     "output_type": "execute_result"
    },
    {
     "data": {
      "text/plain": [
       "<IsFrancyObject/IsCallback>"
      ]
     },
     "execution_count": 12,
     "metadata": {
      "text/plain": "<IsFrancyObject/IsCallback>"
     },
     "output_type": "execute_result"
    },
    {
     "data": {
      "text/plain": [
       "<IsFrancyObject/IsMenu>"
      ]
     },
     "execution_count": 14,
     "metadata": {
      "text/plain": "<IsFrancyObject/IsMenu>"
     },
     "output_type": "execute_result"
    },
    {
     "data": {
      "text/plain": [
       "<IsFrancyObject/IsMenu>"
      ]
     },
     "execution_count": 15,
     "metadata": {
      "text/plain": "<IsFrancyObject/IsMenu>"
     },
     "output_type": "execute_result"
    },
    {
     "data": {
      "application/vnd.francy+json": "{\"version\" : \"0.5.0\",\"mime\" : \"application\\/vnd.francy+json\",\"canvas\" : {\"width\" : 800,\"height\" : 600,\"id\" : \"F1\",\"title\" : \"Add Shapes on demand\",\"zoomToFit\" : true,\"menus\" : {\"F5\" : {\"id\" : \"F5\",\"title\" : \"Add Circle\",\"callback\" : {\"func\" : \"AddShape\",\"id\" : \"F3\",\"trigger\" : \"click\",\"knownArgs\" : [\"<object>\"],\"requiredArgs\" : {\"F4\" : {\"type\" : \"number\",\"id\" : \"F4\",\"title\" : \"How many Circles?\",\"value\" : \"\"}}},\"menus\" : {}},\"F8\" : {\"id\" : \"F8\",\"title\" : \"Add Square\",\"callback\" : {\"func\" : \"AddShape\",\"id\" : \"F6\",\"trigger\" : \"click\",\"knownArgs\" : [\"<object>\"],\"requiredArgs\" : {\"F7\" : {\"type\" : \"number\",\"id\" : \"F7\",\"title\" : \"How many Squares?\",\"value\" : \"\"}}},\"menus\" : {}},\"F10\" : {\"id\" : \"F10\",\"title\" : \"Clear\",\"callback\" : {\"func\" : \"ClearGraph\",\"id\" : \"F9\",\"trigger\" : \"click\",\"knownArgs\" : [],\"requiredArgs\" : {}},\"menus\" : {}}},\"graph\" : {\"type\" : \"hasse\",\"id\" : \"F2\",\"simulation\" : true,\"collapsed\" : true,\"drag\" : false,\"showNeighbours\" : false,\"nodes\" : {},\"links\" : {}},\"messages\" : {}}}"
     },
     "execution_count": 17,
     "metadata": {
      "text/plain": "~empty~"
     },
     "output_type": "execute_result"
    }
   ],
   "source": [
    "canvas := Canvas(\"Add Shapes on demand\");\n",
    "\n",
    "graph := Graph(GraphType.HASSE);\n",
    "\n",
    "AddShape := function(st, n)\n",
    "    local i, shape;\n",
    "    for i in [1..Int(n)] do\n",
    "        shape := Shape(st, String(i));\n",
    "        SetLayer(shape, Random([1..16]));\n",
    "        Add(graph, shape);\n",
    "    od;\n",
    "    return Draw(canvas);\n",
    "end;\n",
    "\n",
    "ClearGraph := function()\n",
    "    UnsetNodes(graph);\n",
    "    return Draw(canvas);\n",
    "end;\n",
    "\n",
    "callback1 := Callback(AddShape, [ShapeType.CIRCLE]);\n",
    "arg1 := RequiredArg(ArgType.NUMBER, \"How many Circles?\");\n",
    "Add(callback1, arg1);\n",
    "menu1 := Menu( \"Add Circle\", callback1 );\n",
    "\n",
    "callback2 := Callback(AddShape, [ShapeType.SQUARE]);\n",
    "arg2 := RequiredArg(ArgType.NUMBER, \"How many Squares?\");\n",
    "Add(callback2, arg2);\n",
    "menu2 := Menu( \"Add Square\", callback2 );\n",
    "\n",
    "menu3 := Menu( \"Clear\", Callback(ClearGraph));\n",
    "\n",
    "Add(canvas, [graph, menu1, menu2, menu3]);\n",
    "\n",
    "Draw(canvas);"
   ]
  },
  {
   "cell_type": "markdown",
   "metadata": {},
   "source": [
    "### An attempt to LatticeSubgroups By Markus"
   ]
  },
  {
   "cell_type": "code",
   "execution_count": null,
   "metadata": {},
   "outputs": [],
   "source": [
    "DisplayLatticeSubgroups := function(L)\n",
    "    local cls, len, sz, max, rep, z, t, i, j, k, graphHasse, nodes;\n",
    "    cls:=ConjugacyClassesSubgroups(L);\n",
    "    len:=[];\n",
    "    sz:=[];\n",
    "    for i in cls do\n",
    "        Add(len,Size(i));\n",
    "        AddSet(sz,Size(Representative(i)));\n",
    "    od;\n",
    "\n",
    "    graphHasse := Graph(GraphType.HASSE);\n",
    "\n",
    "    nodes := [];\n",
    "    # subgroup nodes, also acccording to size\n",
    "    for i in [1..Length(cls)] do\n",
    "        nodes[i] := [];\n",
    "        for j in [1..len[i]] do\n",
    "            if len[i]=1 then\n",
    "                nodes[i][j] := Shape(ShapeType.CIRCLE, String(i));\n",
    "                SetLayer(nodes[i][j], Size(Representative(cls[i])));\n",
    "                # AppendTo(file,\"\\\"\",i,\"x\",j,\"\\\" [label=\\\"\",i,\"\\\", shape=box];\\n\");\n",
    "            else\n",
    "                nodes[i][j] := Shape(ShapeType.DIAMOND, String(i));\n",
    "                SetLayer(nodes[i][j], Size(Representative(cls[i])));\n",
    "                # AppendTo(file,\"\\\"\",i,\"x\",j,\"\\\" [label=\\\"\",i,\"-\",j,\"\\\", shape=circle];\\n\");\n",
    "            fi;\n",
    "            Add(graphHasse, nodes[i][j]);\n",
    "        od;\n",
    "    od;\n",
    "\n",
    "    max:=MaximalSubgroupsLattice(L);\n",
    "    for i in [1..Length(cls)] do\n",
    "        for j in max[i] do\n",
    "            rep:=ClassElementLattice(cls[i],1);\n",
    "            for k in [1..len[i]] do\n",
    "                if k=1 then\n",
    "                    z:=j[2];\n",
    "                else\n",
    "                    t:=cls[i]!.normalizerTransversal[k];\n",
    "                    z:=ClassElementLattice(cls[j[1]],1); # force computation of transv.\n",
    "                    z:=cls[j[1]]!.normalizerTransversal[j[2]]*t;\n",
    "                    z:=PositionCanonical(cls[j[1]]!.normalizerTransversal,z);\n",
    "                fi;\n",
    "                Add(graphHasse, Link(nodes[i][k],nodes[j[1]][z]));\n",
    "          od;\n",
    "        od;\n",
    "      od;\n",
    "    return graphHasse;\n",
    "end;\n",
    "\n",
    "canvas3 := Canvas(\"Lattice Subgroups\");;\n",
    "Add(canvas3, DisplayLatticeSubgroups(LatticeSubgroups(SymmetricGroup(4))));\n",
    "Draw(canvas3);"
   ]
  },
  {
   "cell_type": "code",
   "execution_count": null,
   "metadata": {},
   "outputs": [],
   "source": []
  },
  {
   "cell_type": "code",
   "execution_count": null,
   "metadata": {},
   "outputs": [],
   "source": []
  }
 ],
 "metadata": {
  "kernelspec": {
   "display_name": "GAP 4 (native)",
   "language": "gap",
   "name": "gap-native"
  },
  "language_info": {
   "codemirror_mode": "gap",
   "file_extension": ".g",
   "mimetype": "text/x-gap",
   "name": "GAP (native)",
   "nbconvert_exporter": "",
   "pygments_lexer": "gap",
   "version": "4.dev"
  }
 },
 "nbformat": 4,
 "nbformat_minor": 2
}
