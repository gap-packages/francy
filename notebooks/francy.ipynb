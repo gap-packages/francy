{
 "cells": [
  {
   "cell_type": "markdown",
   "metadata": {},
   "source": [
    "### Load Francy Package"
   ]
  },
  {
   "cell_type": "code",
   "execution_count": 3,
   "metadata": {},
   "outputs": [
    {
     "name": "stdout",
     "output_type": "stream",
     "text": [
      "#I  Please load package NormalizInterface or 4ti2Interface\n",
      "#I  to have extended functionalities.\n",
      "#I  Please load package SingularInterface or singular (not both)\n",
      "#I  or GradedModules to have extended functionalities.\n"
     ]
    },
    {
     "data": {
      "text/plain": [
       "true"
      ]
     },
     "execution_count": 1,
     "metadata": {
      "text/plain": ""
     },
     "output_type": "execute_result"
    },
    {
     "data": {
      "text/plain": [
       "true"
      ]
     },
     "execution_count": 2,
     "metadata": {
      "text/plain": ""
     },
     "output_type": "execute_result"
    },
    {
     "data": {
      "text/plain": [
       "true"
      ]
     },
     "execution_count": 3,
     "metadata": {
      "text/plain": ""
     },
     "output_type": "execute_result"
    }
   ],
   "source": [
    "LoadPackage(\"francy\");\n",
    "LoadPackage(\"digraph\");\n",
    "LoadPackage(\"num\");"
   ]
  },
  {
   "cell_type": "markdown",
   "metadata": {},
   "source": [
    "### An attempt to LatticeSubgroups By Markus"
   ]
  },
  {
   "cell_type": "code",
   "execution_count": 113,
   "metadata": {},
   "outputs": [
    {
     "data": {
      "application/vnd.francy+json": "{\"version\" : \"0.6.0\",\"mime\" : \"application\\/vnd.francy+json\",\"canvas\" : {\"width\" : 800,\"id\" : \"F385\",\"height\" : 600,\"title\" : \"Lattice Subgroups\",\"zoomToFit\" : true,\"texTypesetting\" : false,\"menus\" : {},\"graph\" : {\"type\" : \"undirected\",\"id\" : \"F386\",\"simulation\" : true,\"collapsed\" : true,\"drag\" : false,\"showNeighbours\" : true,\"nodes\" : {\"F387\" : {\"x\" : 0,\"y\" : 0,\"type\" : \"circle\",\"id\" : \"F387\",\"size\" : 10,\"title\" : \"1\",\"color\" : \"\",\"highlight\" : true,\"layer\" : 1,\"parent\" : \"\",\"menus\" : {},\"messages\" : {},\"callbacks\" : {}},\"F388\" : {\"x\" : 0,\"y\" : 0,\"type\" : \"diamond\",\"id\" : \"F388\",\"size\" : 10,\"title\" : \"2\",\"color\" : \"\",\"highlight\" : true,\"layer\" : 2,\"parent\" : \"\",\"menus\" : {},\"messages\" : {},\"callbacks\" : {}},\"F389\" : {\"x\" : 0,\"y\" : 0,\"type\" : \"diamond\",\"id\" : \"F389\",\"size\" : 10,\"title\" : \"2\",\"color\" : \"\",\"highlight\" : true,\"layer\" : 2,\"parent\" : \"\",\"menus\" : {},\"messages\" : {},\"callbacks\" : {}},\"F390\" : {\"x\" : 0,\"y\" : 0,\"type\" : \"diamond\",\"id\" : \"F390\",\"size\" : 10,\"title\" : \"2\",\"color\" : \"\",\"highlight\" : true,\"layer\" : 2,\"parent\" : \"\",\"menus\" : {},\"messages\" : {},\"callbacks\" : {}},\"F391\" : {\"x\" : 0,\"y\" : 0,\"type\" : \"diamond\",\"id\" : \"F391\",\"size\" : 10,\"title\" : \"3\",\"color\" : \"\",\"highlight\" : true,\"layer\" : 2,\"parent\" : \"\",\"menus\" : {},\"messages\" : {},\"callbacks\" : {}},\"F392\" : {\"x\" : 0,\"y\" : 0,\"type\" : \"diamond\",\"id\" : \"F392\",\"size\" : 10,\"title\" : \"3\",\"color\" : \"\",\"highlight\" : true,\"layer\" : 2,\"parent\" : \"\",\"menus\" : {},\"messages\" : {},\"callbacks\" : {}},\"F393\" : {\"x\" : 0,\"y\" : 0,\"type\" : \"diamond\",\"id\" : \"F393\",\"size\" : 10,\"title\" : \"3\",\"color\" : \"\",\"highlight\" : true,\"layer\" : 2,\"parent\" : \"\",\"menus\" : {},\"messages\" : {},\"callbacks\" : {}},\"F394\" : {\"x\" : 0,\"y\" : 0,\"type\" : \"diamond\",\"id\" : \"F394\",\"size\" : 10,\"title\" : \"3\",\"color\" : \"\",\"highlight\" : true,\"layer\" : 2,\"parent\" : \"\",\"menus\" : {},\"messages\" : {},\"callbacks\" : {}},\"F395\" : {\"x\" : 0,\"y\" : 0,\"type\" : \"diamond\",\"id\" : \"F395\",\"size\" : 10,\"title\" : \"3\",\"color\" : \"\",\"highlight\" : true,\"layer\" : 2,\"parent\" : \"\",\"menus\" : {},\"messages\" : {},\"callbacks\" : {}},\"F396\" : {\"x\" : 0,\"y\" : 0,\"type\" : \"diamond\",\"id\" : \"F396\",\"size\" : 10,\"title\" : \"3\",\"color\" : \"\",\"highlight\" : true,\"layer\" : 2,\"parent\" : \"\",\"menus\" : {},\"messages\" : {},\"callbacks\" : {}},\"F397\" : {\"x\" : 0,\"y\" : 0,\"type\" : \"diamond\",\"id\" : \"F397\",\"size\" : 10,\"title\" : \"4\",\"color\" : \"\",\"highlight\" : true,\"layer\" : 3,\"parent\" : \"\",\"menus\" : {},\"messages\" : {},\"callbacks\" : {}},\"F398\" : {\"x\" : 0,\"y\" : 0,\"type\" : \"diamond\",\"id\" : \"F398\",\"size\" : 10,\"title\" : \"4\",\"color\" : \"\",\"highlight\" : true,\"layer\" : 3,\"parent\" : \"\",\"menus\" : {},\"messages\" : {},\"callbacks\" : {}},\"F399\" : {\"x\" : 0,\"y\" : 0,\"type\" : \"diamond\",\"id\" : \"F399\",\"size\" : 10,\"title\" : \"4\",\"color\" : \"\",\"highlight\" : true,\"layer\" : 3,\"parent\" : \"\",\"menus\" : {},\"messages\" : {},\"callbacks\" : {}},\"F400\" : {\"x\" : 0,\"y\" : 0,\"type\" : \"diamond\",\"id\" : \"F400\",\"size\" : 10,\"title\" : \"4\",\"color\" : \"\",\"highlight\" : true,\"layer\" : 3,\"parent\" : \"\",\"menus\" : {},\"messages\" : {},\"callbacks\" : {}},\"F401\" : {\"x\" : 0,\"y\" : 0,\"type\" : \"circle\",\"id\" : \"F401\",\"size\" : 10,\"title\" : \"5\",\"color\" : \"\",\"highlight\" : true,\"layer\" : 4,\"parent\" : \"\",\"menus\" : {},\"messages\" : {},\"callbacks\" : {}},\"F402\" : {\"x\" : 0,\"y\" : 0,\"type\" : \"diamond\",\"id\" : \"F402\",\"size\" : 10,\"title\" : \"6\",\"color\" : \"\",\"highlight\" : true,\"layer\" : 4,\"parent\" : \"\",\"menus\" : {},\"messages\" : {},\"callbacks\" : {}},\"F403\" : {\"x\" : 0,\"y\" : 0,\"type\" : \"diamond\",\"id\" : \"F403\",\"size\" : 10,\"title\" : \"6\",\"color\" : \"\",\"highlight\" : true,\"layer\" : 4,\"parent\" : \"\",\"menus\" : {},\"messages\" : {},\"callbacks\" : {}},\"F404\" : {\"x\" : 0,\"y\" : 0,\"type\" : \"diamond\",\"id\" : \"F404\",\"size\" : 10,\"title\" : \"6\",\"color\" : \"\",\"highlight\" : true,\"layer\" : 4,\"parent\" : \"\",\"menus\" : {},\"messages\" : {},\"callbacks\" : {}},\"F405\" : {\"x\" : 0,\"y\" : 0,\"type\" : \"diamond\",\"id\" : \"F405\",\"size\" : 10,\"title\" : \"7\",\"color\" : \"\",\"highlight\" : true,\"layer\" : 4,\"parent\" : \"\",\"menus\" : {},\"messages\" : {},\"callbacks\" : {}},\"F406\" : {\"x\" : 0,\"y\" : 0,\"type\" : \"diamond\",\"id\" : \"F406\",\"size\" : 10,\"title\" : \"7\",\"color\" : \"\",\"highlight\" : true,\"layer\" : 4,\"parent\" : \"\",\"menus\" : {},\"messages\" : {},\"callbacks\" : {}},\"F407\" : {\"x\" : 0,\"y\" : 0,\"type\" : \"diamond\",\"id\" : \"F407\",\"size\" : 10,\"title\" : \"7\",\"color\" : \"\",\"highlight\" : true,\"layer\" : 4,\"parent\" : \"\",\"menus\" : {},\"messages\" : {},\"callbacks\" : {}},\"F408\" : {\"x\" : 0,\"y\" : 0,\"type\" : \"diamond\",\"id\" : \"F408\",\"size\" : 10,\"title\" : \"8\",\"color\" : \"\",\"highlight\" : true,\"layer\" : 6,\"parent\" : \"\",\"menus\" : {},\"messages\" : {},\"callbacks\" : {}},\"F409\" : {\"x\" : 0,\"y\" : 0,\"type\" : \"diamond\",\"id\" : \"F409\",\"size\" : 10,\"title\" : \"8\",\"color\" : \"\",\"highlight\" : true,\"layer\" : 6,\"parent\" : \"\",\"menus\" : {},\"messages\" : {},\"callbacks\" : {}},\"F410\" : {\"x\" : 0,\"y\" : 0,\"type\" : \"diamond\",\"id\" : \"F410\",\"size\" : 10,\"title\" : \"8\",\"color\" : \"\",\"highlight\" : true,\"layer\" : 6,\"parent\" : \"\",\"menus\" : {},\"messages\" : {},\"callbacks\" : {}},\"F411\" : {\"x\" : 0,\"y\" : 0,\"type\" : \"diamond\",\"id\" : \"F411\",\"size\" : 10,\"title\" : \"8\",\"color\" : \"\",\"highlight\" : true,\"layer\" : 6,\"parent\" : \"\",\"menus\" : {},\"messages\" : {},\"callbacks\" : {}},\"F412\" : {\"x\" : 0,\"y\" : 0,\"type\" : \"diamond\",\"id\" : \"F412\",\"size\" : 10,\"title\" : \"9\",\"color\" : \"\",\"highlight\" : true,\"layer\" : 8,\"parent\" : \"\",\"menus\" : {},\"messages\" : {},\"callbacks\" : {}},\"F413\" : {\"x\" : 0,\"y\" : 0,\"type\" : \"diamond\",\"id\" : \"F413\",\"size\" : 10,\"title\" : \"9\",\"color\" : \"\",\"highlight\" : true,\"layer\" : 8,\"parent\" : \"\",\"menus\" : {},\"messages\" : {},\"callbacks\" : {}},\"F414\" : {\"x\" : 0,\"y\" : 0,\"type\" : \"diamond\",\"id\" : \"F414\",\"size\" : 10,\"title\" : \"9\",\"color\" : \"\",\"highlight\" : true,\"layer\" : 8,\"parent\" : \"\",\"menus\" : {},\"messages\" : {},\"callbacks\" : {}},\"F415\" : {\"x\" : 0,\"y\" : 0,\"type\" : \"circle\",\"id\" : \"F415\",\"size\" : 10,\"title\" : \"10\",\"color\" : \"\",\"highlight\" : true,\"layer\" : 12,\"parent\" : \"\",\"menus\" : {},\"messages\" : {},\"callbacks\" : {}},\"F416\" : {\"x\" : 0,\"y\" : 0,\"type\" : \"circle\",\"id\" : \"F416\",\"size\" : 10,\"title\" : \"11\",\"color\" : \"\",\"highlight\" : true,\"layer\" : 24,\"parent\" : \"\",\"menus\" : {},\"messages\" : {},\"callbacks\" : {}}},\"links\" : {\"F417\" : {\"id\" : \"F417\",\"source\" : \"F388\",\"weight\" : 1,\"color\" : \"\",\"target\" : \"F387\"},\"F418\" : {\"id\" : \"F418\",\"source\" : \"F389\",\"weight\" : 1,\"color\" : \"\",\"target\" : \"F387\"},\"F419\" : {\"id\" : \"F419\",\"source\" : \"F390\",\"weight\" : 1,\"color\" : \"\",\"target\" : \"F387\"},\"F420\" : {\"id\" : \"F420\",\"source\" : \"F391\",\"weight\" : 1,\"color\" : \"\",\"target\" : \"F387\"},\"F421\" : {\"id\" : \"F421\",\"source\" : \"F392\",\"weight\" : 1,\"color\" : \"\",\"target\" : \"F387\"},\"F422\" : {\"id\" : \"F422\",\"source\" : \"F393\",\"weight\" : 1,\"color\" : \"\",\"target\" : \"F387\"},\"F423\" : {\"id\" : \"F423\",\"source\" : \"F394\",\"weight\" : 1,\"color\" : \"\",\"target\" : \"F387\"},\"F424\" : {\"id\" : \"F424\",\"source\" : \"F395\",\"weight\" : 1,\"color\" : \"\",\"target\" : \"F387\"},\"F425\" : {\"id\" : \"F425\",\"source\" : \"F396\",\"weight\" : 1,\"color\" : \"\",\"target\" : \"F387\"},\"F426\" : {\"id\" : \"F426\",\"source\" : \"F397\",\"weight\" : 1,\"color\" : \"\",\"target\" : \"F387\"},\"F427\" : {\"id\" : \"F427\",\"source\" : \"F398\",\"weight\" : 1,\"color\" : \"\",\"target\" : \"F387\"},\"F428\" : {\"id\" : \"F428\",\"source\" : \"F399\",\"weight\" : 1,\"color\" : \"\",\"target\" : \"F387\"},\"F429\" : {\"id\" : \"F429\",\"source\" : \"F400\",\"weight\" : 1,\"color\" : \"\",\"target\" : \"F387\"},\"F430\" : {\"id\" : \"F430\",\"source\" : \"F401\",\"weight\" : 1,\"color\" : \"\",\"target\" : \"F388\"},\"F431\" : {\"id\" : \"F431\",\"source\" : \"F401\",\"weight\" : 1,\"color\" : \"\",\"target\" : \"F389\"},\"F432\" : {\"id\" : \"F432\",\"source\" : \"F401\",\"weight\" : 1,\"color\" : \"\",\"target\" : \"F390\"},\"F433\" : {\"id\" : \"F433\",\"source\" : \"F402\",\"weight\" : 1,\"color\" : \"\",\"target\" : \"F391\"},\"F434\" : {\"id\" : \"F434\",\"source\" : \"F403\",\"weight\" : 1,\"color\" : \"\",\"target\" : \"F392\"},\"F435\" : {\"id\" : \"F435\",\"source\" : \"F404\",\"weight\" : 1,\"color\" : \"\",\"target\" : \"F393\"},\"F436\" : {\"id\" : \"F436\",\"source\" : \"F402\",\"weight\" : 1,\"color\" : \"\",\"target\" : \"F396\"},\"F437\" : {\"id\" : \"F437\",\"source\" : \"F403\",\"weight\" : 1,\"color\" : \"\",\"target\" : \"F395\"},\"F438\" : {\"id\" : \"F438\",\"source\" : \"F404\",\"weight\" : 1,\"color\" : \"\",\"target\" : \"F394\"},\"F439\" : {\"id\" : \"F439\",\"source\" : \"F402\",\"weight\" : 1,\"color\" : \"\",\"target\" : \"F390\"},\"F440\" : {\"id\" : \"F440\",\"source\" : \"F403\",\"weight\" : 1,\"color\" : \"\",\"target\" : \"F388\"},\"F441\" : {\"id\" : \"F441\",\"source\" : \"F404\",\"weight\" : 1,\"color\" : \"\",\"target\" : \"F389\"},\"F442\" : {\"id\" : \"F442\",\"source\" : \"F405\",\"weight\" : 1,\"color\" : \"\",\"target\" : \"F390\"},\"F443\" : {\"id\" : \"F443\",\"source\" : \"F406\",\"weight\" : 1,\"color\" : \"\",\"target\" : \"F388\"},\"F444\" : {\"id\" : \"F444\",\"source\" : \"F407\",\"weight\" : 1,\"color\" : \"\",\"target\" : \"F389\"},\"F445\" : {\"id\" : \"F445\",\"source\" : \"F408\",\"weight\" : 1,\"color\" : \"\",\"target\" : \"F397\"},\"F446\" : {\"id\" : \"F446\",\"source\" : \"F409\",\"weight\" : 1,\"color\" : \"\",\"target\" : \"F398\"},\"F447\" : {\"id\" : \"F447\",\"source\" : \"F410\",\"weight\" : 1,\"color\" : \"\",\"target\" : \"F399\"},\"F448\" : {\"id\" : \"F448\",\"source\" : \"F411\",\"weight\" : 1,\"color\" : \"\",\"target\" : \"F400\"},\"F449\" : {\"id\" : \"F449\",\"source\" : \"F408\",\"weight\" : 1,\"color\" : \"\",\"target\" : \"F391\"},\"F450\" : {\"id\" : \"F450\",\"source\" : \"F409\",\"weight\" : 1,\"color\" : \"\",\"target\" : \"F395\"},\"F451\" : {\"id\" : \"F451\",\"source\" : \"F410\",\"weight\" : 1,\"color\" : \"\",\"target\" : \"F395\"},\"F452\" : {\"id\" : \"F452\",\"source\" : \"F411\",\"weight\" : 1,\"color\" : \"\",\"target\" : \"F394\"},\"F453\" : {\"id\" : \"F453\",\"source\" : \"F408\",\"weight\" : 1,\"color\" : \"\",\"target\" : \"F392\"},\"F454\" : {\"id\" : \"F454\",\"source\" : \"F409\",\"weight\" : 1,\"color\" : \"\",\"target\" : \"F396\"},\"F455\" : {\"id\" : \"F455\",\"source\" : \"F410\",\"weight\" : 1,\"color\" : \"\",\"target\" : \"F394\"},\"F456\" : {\"id\" : \"F456\",\"source\" : \"F411\",\"weight\" : 1,\"color\" : \"\",\"target\" : \"F396\"},\"F457\" : {\"id\" : \"F457\",\"source\" : \"F408\",\"weight\" : 1,\"color\" : \"\",\"target\" : \"F393\"},\"F458\" : {\"id\" : \"F458\",\"source\" : \"F409\",\"weight\" : 1,\"color\" : \"\",\"target\" : \"F393\"},\"F459\" : {\"id\" : \"F459\",\"source\" : \"F410\",\"weight\" : 1,\"color\" : \"\",\"target\" : \"F391\"},\"F460\" : {\"id\" : \"F460\",\"source\" : \"F411\",\"weight\" : 1,\"color\" : \"\",\"target\" : \"F392\"},\"F461\" : {\"id\" : \"F461\",\"source\" : \"F412\",\"weight\" : 1,\"color\" : \"\",\"target\" : \"F405\"},\"F462\" : {\"id\" : \"F462\",\"source\" : \"F413\",\"weight\" : 1,\"color\" : \"\",\"target\" : \"F406\"},\"F463\" : {\"id\" : \"F463\",\"source\" : \"F414\",\"weight\" : 1,\"color\" : \"\",\"target\" : \"F407\"},\"F464\" : {\"id\" : \"F464\",\"source\" : \"F412\",\"weight\" : 1,\"color\" : \"\",\"target\" : \"F402\"},\"F465\" : {\"id\" : \"F465\",\"source\" : \"F413\",\"weight\" : 1,\"color\" : \"\",\"target\" : \"F403\"},\"F466\" : {\"id\" : \"F466\",\"source\" : \"F414\",\"weight\" : 1,\"color\" : \"\",\"target\" : \"F404\"},\"F467\" : {\"id\" : \"F467\",\"source\" : \"F412\",\"weight\" : 1,\"color\" : \"\",\"target\" : \"F401\"},\"F468\" : {\"id\" : \"F468\",\"source\" : \"F413\",\"weight\" : 1,\"color\" : \"\",\"target\" : \"F401\"},\"F469\" : {\"id\" : \"F469\",\"source\" : \"F414\",\"weight\" : 1,\"color\" : \"\",\"target\" : \"F401\"},\"F470\" : {\"id\" : \"F470\",\"source\" : \"F415\",\"weight\" : 1,\"color\" : \"\",\"target\" : \"F401\"},\"F471\" : {\"id\" : \"F471\",\"source\" : \"F415\",\"weight\" : 1,\"color\" : \"\",\"target\" : \"F397\"},\"F472\" : {\"id\" : \"F472\",\"source\" : \"F415\",\"weight\" : 1,\"color\" : \"\",\"target\" : \"F398\"},\"F473\" : {\"id\" : \"F473\",\"source\" : \"F415\",\"weight\" : 1,\"color\" : \"\",\"target\" : \"F399\"},\"F474\" : {\"id\" : \"F474\",\"source\" : \"F415\",\"weight\" : 1,\"color\" : \"\",\"target\" : \"F400\"},\"F475\" : {\"id\" : \"F475\",\"source\" : \"F416\",\"weight\" : 1,\"color\" : \"\",\"target\" : \"F415\"},\"F476\" : {\"id\" : \"F476\",\"source\" : \"F416\",\"weight\" : 1,\"color\" : \"\",\"target\" : \"F412\"},\"F477\" : {\"id\" : \"F477\",\"source\" : \"F416\",\"weight\" : 1,\"color\" : \"\",\"target\" : \"F413\"},\"F478\" : {\"id\" : \"F478\",\"source\" : \"F416\",\"weight\" : 1,\"color\" : \"\",\"target\" : \"F414\"},\"F479\" : {\"id\" : \"F479\",\"source\" : \"F416\",\"weight\" : 1,\"color\" : \"\",\"target\" : \"F408\"},\"F480\" : {\"id\" : \"F480\",\"source\" : \"F416\",\"weight\" : 1,\"color\" : \"\",\"target\" : \"F409\"},\"F481\" : {\"id\" : \"F481\",\"source\" : \"F416\",\"weight\" : 1,\"color\" : \"\",\"target\" : \"F410\"},\"F482\" : {\"id\" : \"F482\",\"source\" : \"F416\",\"weight\" : 1,\"color\" : \"\",\"target\" : \"F411\"}}},\"messages\" : {}}}"
     },
     "execution_count": 113,
     "metadata": {
      "application/vnd.francy+json": {}
     },
     "output_type": "execute_result"
    }
   ],
   "source": [
    "DisplayLatticeSubgroups := function(L)\n",
    "    local cls, len, sz, max, rep, z, t, i, j, k, graphHasse, nodes;\n",
    "    cls:=ConjugacyClassesSubgroups(L);\n",
    "    len:=[];\n",
    "    sz:=[];\n",
    "    for i in cls do\n",
    "        Add(len,Size(i));\n",
    "        AddSet(sz,Size(Representative(i)));\n",
    "    od;\n",
    "\n",
    "    graphHasse := Graph(GraphType.UNDIRECTED);\n",
    "    SetShowNeighbours(graphHasse,true);\n",
    "\n",
    "    nodes := [];\n",
    "    # subgroup nodes, also acccording to size\n",
    "    for i in [1..Length(cls)] do\n",
    "        nodes[i] := [];\n",
    "        for j in [1..len[i]] do\n",
    "            if len[i]=1 then\n",
    "                nodes[i][j] := Shape(ShapeType.CIRCLE, String(i));\n",
    "                SetLayer(nodes[i][j], Size(Representative(cls[i])));\n",
    "                # AppendTo(file,\"\\\"\",i,\"x\",j,\"\\\" [label=\\\"\",i,\"\\\", shape=box];\\n\");\n",
    "            else\n",
    "                nodes[i][j] := Shape(ShapeType.DIAMOND, String(i));\n",
    "                SetLayer(nodes[i][j], Size(Representative(cls[i])));\n",
    "                # AppendTo(file,\"\\\"\",i,\"x\",j,\"\\\" [label=\\\"\",i,\"-\",j,\"\\\", shape=circle];\\n\");\n",
    "            fi;\n",
    "            Add(graphHasse, nodes[i][j]);\n",
    "        od;\n",
    "    od;\n",
    "\n",
    "    max:=MaximalSubgroupsLattice(L);\n",
    "    for i in [1..Length(cls)] do\n",
    "        for j in max[i] do\n",
    "            rep:=ClassElementLattice(cls[i],1);\n",
    "            for k in [1..len[i]] do\n",
    "                if k=1 then\n",
    "                    z:=j[2];\n",
    "                else\n",
    "                    t:=cls[i]!.normalizerTransversal[k];\n",
    "                    z:=ClassElementLattice(cls[j[1]],1); # force computation of transv.\n",
    "                    z:=cls[j[1]]!.normalizerTransversal[j[2]]*t;\n",
    "                    z:=PositionCanonical(cls[j[1]]!.normalizerTransversal,z);\n",
    "                fi;\n",
    "                Add(graphHasse, Link(nodes[i][k],nodes[j[1]][z]));\n",
    "          od;\n",
    "        od;\n",
    "      od;\n",
    "    return graphHasse;\n",
    "end;;\n",
    "\n",
    "canvas := Canvas(\"Lattice Subgroups\");;\n",
    "Add(canvas, DisplayLatticeSubgroups(LatticeSubgroups(SymmetricGroup(4))));;\n",
    "Draw(canvas);"
   ]
  },
  {
   "cell_type": "markdown",
   "metadata": {},
   "source": [
    "## Digraphs"
   ]
  },
  {
   "cell_type": "code",
   "execution_count": 128,
   "metadata": {},
   "outputs": [
    {
     "data": {
      "application/vnd.francy+json": "{\"version\" : \"0.6.0\",\"mime\" : \"application\\/vnd.francy+json\",\"canvas\" : {\"width\" : 800,\"id\" : \"F518\",\"height\" : 600,\"title\" : \"Subgroups Digraph of SymmetricGroup( [ 1 .. 3 ] )\",\"zoomToFit\" : true,\"texTypesetting\" : false,\"menus\" : {},\"graph\" : {\"type\" : \"directed\",\"id\" : \"F483\",\"simulation\" : true,\"collapsed\" : true,\"drag\" : true,\"showNeighbours\" : false,\"nodes\" : {\"F485\" : {\"x\" : 0,\"y\" : 0,\"type\" : \"circle\",\"id\" : \"F485\",\"size\" : 10,\"title\" : \"1\",\"color\" : \"#0c9460\",\"highlight\" : true,\"layer\" : 0,\"parent\" : \"\",\"menus\" : {\"F487\" : {\"id\" : \"F487\",\"title\" : \"Is this subgroup simple?\",\"callback\" : {\"func\" : \"IsGroupSimple\",\"id\" : \"F486\",\"trigger\" : \"click\",\"knownArgs\" : [\"1\"],\"requiredArgs\" : {}},\"menus\" : {}}},\"messages\" : {},\"callbacks\" : {}},\"F488\" : {\"x\" : 0,\"y\" : 0,\"type\" : \"circle\",\"id\" : \"F488\",\"size\" : 10,\"title\" : \"2\",\"color\" : \"#0c9460\",\"highlight\" : true,\"layer\" : 0,\"parent\" : \"\",\"menus\" : {\"F490\" : {\"id\" : \"F490\",\"title\" : \"Is this subgroup simple?\",\"callback\" : {\"func\" : \"IsGroupSimple\",\"id\" : \"F489\",\"trigger\" : \"click\",\"knownArgs\" : [\"2\"],\"requiredArgs\" : {}},\"menus\" : {}}},\"messages\" : {},\"callbacks\" : {}},\"F491\" : {\"x\" : 0,\"y\" : 0,\"type\" : \"circle\",\"id\" : \"F491\",\"size\" : 10,\"title\" : \"3\",\"color\" : \"#0c9460\",\"highlight\" : true,\"layer\" : 0,\"parent\" : \"\",\"menus\" : {\"F493\" : {\"id\" : \"F493\",\"title\" : \"Is this subgroup simple?\",\"callback\" : {\"func\" : \"IsGroupSimple\",\"id\" : \"F492\",\"trigger\" : \"click\",\"knownArgs\" : [\"3\"],\"requiredArgs\" : {}},\"menus\" : {}}},\"messages\" : {},\"callbacks\" : {}},\"F494\" : {\"x\" : 0,\"y\" : 0,\"type\" : \"circle\",\"id\" : \"F494\",\"size\" : 10,\"title\" : \"4\",\"color\" : \"#0c9460\",\"highlight\" : true,\"layer\" : 0,\"parent\" : \"\",\"menus\" : {\"F496\" : {\"id\" : \"F496\",\"title\" : \"Is this subgroup simple?\",\"callback\" : {\"func\" : \"IsGroupSimple\",\"id\" : \"F495\",\"trigger\" : \"click\",\"knownArgs\" : [\"4\"],\"requiredArgs\" : {}},\"menus\" : {}}},\"messages\" : {},\"callbacks\" : {}},\"F497\" : {\"x\" : 0,\"y\" : 0,\"type\" : \"circle\",\"id\" : \"F497\",\"size\" : 10,\"title\" : \"5\",\"color\" : \"#0c9460\",\"highlight\" : true,\"layer\" : 0,\"parent\" : \"\",\"menus\" : {\"F499\" : {\"id\" : \"F499\",\"title\" : \"Is this subgroup simple?\",\"callback\" : {\"func\" : \"IsGroupSimple\",\"id\" : \"F498\",\"trigger\" : \"click\",\"knownArgs\" : [\"5\"],\"requiredArgs\" : {}},\"menus\" : {}}},\"messages\" : {},\"callbacks\" : {}},\"F500\" : {\"x\" : 0,\"y\" : 0,\"type\" : \"circle\",\"id\" : \"F500\",\"size\" : 10,\"title\" : \"6\",\"color\" : \"#0c9460\",\"highlight\" : true,\"layer\" : 0,\"parent\" : \"\",\"menus\" : {\"F502\" : {\"id\" : \"F502\",\"title\" : \"Is this subgroup simple?\",\"callback\" : {\"func\" : \"IsGroupSimple\",\"id\" : \"F501\",\"trigger\" : \"click\",\"knownArgs\" : [\"6\"],\"requiredArgs\" : {}},\"menus\" : {}}},\"messages\" : {},\"callbacks\" : {}}},\"links\" : {\"F503\" : {\"id\" : \"F503\",\"source\" : \"F485\",\"weight\" : 1,\"color\" : \"\",\"target\" : \"F485\"},\"F504\" : {\"id\" : \"F504\",\"source\" : \"F488\",\"weight\" : 1,\"color\" : \"\",\"target\" : \"F485\"},\"F505\" : {\"id\" : \"F505\",\"source\" : \"F488\",\"weight\" : 1,\"color\" : \"\",\"target\" : \"F488\"},\"F506\" : {\"id\" : \"F506\",\"source\" : \"F491\",\"weight\" : 1,\"color\" : \"\",\"target\" : \"F485\"},\"F507\" : {\"id\" : \"F507\",\"source\" : \"F491\",\"weight\" : 1,\"color\" : \"\",\"target\" : \"F491\"},\"F508\" : {\"id\" : \"F508\",\"source\" : \"F494\",\"weight\" : 1,\"color\" : \"\",\"target\" : \"F485\"},\"F509\" : {\"id\" : \"F509\",\"source\" : \"F494\",\"weight\" : 1,\"color\" : \"\",\"target\" : \"F494\"},\"F510\" : {\"id\" : \"F510\",\"source\" : \"F497\",\"weight\" : 1,\"color\" : \"\",\"target\" : \"F485\"},\"F511\" : {\"id\" : \"F511\",\"source\" : \"F497\",\"weight\" : 1,\"color\" : \"\",\"target\" : \"F497\"},\"F512\" : {\"id\" : \"F512\",\"source\" : \"F500\",\"weight\" : 1,\"color\" : \"\",\"target\" : \"F485\"},\"F513\" : {\"id\" : \"F513\",\"source\" : \"F500\",\"weight\" : 1,\"color\" : \"\",\"target\" : \"F488\"},\"F514\" : {\"id\" : \"F514\",\"source\" : \"F500\",\"weight\" : 1,\"color\" : \"\",\"target\" : \"F491\"},\"F515\" : {\"id\" : \"F515\",\"source\" : \"F500\",\"weight\" : 1,\"color\" : \"\",\"target\" : \"F494\"},\"F516\" : {\"id\" : \"F516\",\"source\" : \"F500\",\"weight\" : 1,\"color\" : \"\",\"target\" : \"F497\"},\"F517\" : {\"id\" : \"F517\",\"source\" : \"F500\",\"weight\" : 1,\"color\" : \"\",\"target\" : \"F500\"}}},\"messages\" : {}}}"
     },
     "execution_count": 128,
     "metadata": {
      "application/vnd.francy+json": {}
     },
     "output_type": "execute_result"
    }
   ],
   "source": [
    "G := SymmetricGroup(3);;\n",
    "as := AllSubgroups(G);;\n",
    "d := Digraph(as, {H, K} -> IsSubgroup(H, K));;\n",
    "\n",
    "vertices := DigraphVertices(d);;\n",
    "edges := DigraphEdges(d);;\n",
    "\n",
    "graph := Graph(GraphType.DIRECTED);;\n",
    "SetDrag(graph, true);;\n",
    "nodes := [];;\n",
    "\n",
    "simpleGroupMessage := FrancyMessage(FrancyMessageType.INFO, \"Simple Groups\", \"A group is simple if it is nontrivial and has no nontrivial normal subgroups.\");;\n",
    "\n",
    "IsGroupSimple := function(i)\n",
    "    Add(canvas, simpleGroupMessage);;\n",
    "    if IsSimpleGroup(as[i]) then\n",
    "        Add(canvas, FrancyMessage(\"Simple\", Concatenation(\"The vertex \", String(i), \", representing the subgroup \", String(as[i]), \", is simple.\")));;\n",
    "    else\n",
    "        Add(canvas, FrancyMessage(\"Not Simple\", Concatenation(\"The vertex \", String(i), \", representing the subgroup \", String(as[i]), \", is not simple.\")));;\n",
    "    fi;;\n",
    "    return Draw(canvas);\n",
    "end;;\n",
    "    \n",
    "for i in vertices do;\n",
    "    nodes[i] := Shape(ShapeType.CIRCLE, String(i));;\n",
    "    SetColor(nodes[i], \"#0c9460\");;\n",
    "    Add(nodes[i], Menu(\"Is this subgroup simple?\", Callback(IsGroupSimple, [i])));;\n",
    "    Add(graph, nodes[i]);;\n",
    "od;;\n",
    "\n",
    "for i in edges do\n",
    "    Add(graph, Link(nodes[i[1]], nodes[i[2]]));;\n",
    "od;;\n",
    "\n",
    "canvas := Canvas(Concatenation(\"Subgroups Digraph of \", String(G)));;\n",
    "Add(canvas, graph);;\n",
    "Draw(canvas);"
   ]
  },
  {
   "cell_type": "code",
   "execution_count": null,
   "metadata": {},
   "outputs": [],
   "source": []
  }
 ],
 "metadata": {
  "kernelspec": {
   "display_name": "GAP 4 (native)",
   "language": "gap",
   "name": "gap-native"
  },
  "language_info": {
   "codemirror_mode": "gap",
   "file_extension": ".g",
   "mimetype": "text/x-gap",
   "name": "GAP (native)",
   "nbconvert_exporter": "",
   "pygments_lexer": "gap",
   "version": "4.dev"
  }
 },
 "nbformat": 4,
 "nbformat_minor": 2
}
