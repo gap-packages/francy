{
 "cells": [
  {
   "cell_type": "markdown",
   "metadata": {},
   "source": [
    "# Numerical semigroups with `francy`\n",
    "\n",
    "## Load `francy` Package"
   ]
  },
  {
   "cell_type": "code",
   "execution_count": 2,
   "metadata": {},
   "outputs": [
    {
     "name": "stdout",
     "output_type": "stream",
     "text": [
      "\u0003#I  \u0003\u0003equal requirements in multiple declaratio\u0003ns for operation `JUPYTER_ViewString'\n",
      "\u0003\u0003\n",
      "\u0003\u0003#I  \u0003\u0003Please load package NormalizInterface or \u00034ti2Interface\u0003\u0003\n",
      "\u0003\u0003#I  \u0003\u0003to have extended functionalities.\u0003\u0003\n",
      "\u0003\u0003#I  \u0003\u0003Please load package SingularInterface or \u0003singular (not both)\u0003\u0003\n",
      "\u0003\u0003#I  \u0003\u0003or GradedModules to have extended functio\u0003nalities.\u0003\u0003\n",
      "\u0003"
     ]
    },
    {
     "data": {
      "text/plain": [
       "true"
      ]
     },
     "execution_count": 1,
     "metadata": {},
     "output_type": "execute_result"
    },
    {
     "data": {
      "text/plain": [
       "true"
      ]
     },
     "execution_count": 2,
     "metadata": {},
     "output_type": "execute_result"
    }
   ],
   "source": [
    "LoadPackage(\"francy\");\n",
    "LoadPackage(\"num\");"
   ]
  },
  {
   "cell_type": "markdown",
   "metadata": {},
   "source": [
    "## Drawing Apéry sets"
   ]
  },
  {
   "cell_type": "markdown",
   "metadata": {},
   "source": [
    "This example draws the Apéry set of a numerical semigrup with respect to its multiplicity. By passing over a node with the mouse, the set of factorizations with respect to the minimal generating system of the numerical semigroup is displayed. Clicking a node produces a message with the same information."
   ]
  },
  {
   "cell_type": "code",
   "execution_count": 3,
   "metadata": {},
   "outputs": [
    {
     "data": {
      "text/plain": [
       "function( arg... ) ... end"
      ]
     },
     "execution_count": 3,
     "metadata": {},
     "output_type": "execute_result"
    }
   ],
   "source": [
    "apery:=function(arg)\n",
    "    local ap,c,hasse, s, n, r, graphHasse, aps, es, canvas, i, order, showfacts, message;\n",
    "    # rel is a list of lists with two elements representin a binary relation\n",
    "    # hasse(rel) removes from rel the pairs [x,y] such that there exists\n",
    "    # z with [x,z],[z,y] in rel\n",
    "    hasse:=function(rel)\n",
    "      local dom, out;\n",
    "      dom:=Flat(rel);\n",
    "      out:=Filtered(rel, p-> ForAny(dom, x->([p[1],x] in rel) and ([x,p[2]] in rel)));\n",
    "      return Difference(rel,out);\n",
    "    end;\n",
    "\n",
    "    order:=function(x)\n",
    "        return Maximum(LengthsOfFactorizationsElementWRTNumericalSemigroup(x,s));\n",
    "    end;\n",
    "\n",
    "    showfacts:=function(x)\n",
    "        message := FrancyMessage(Concatenation(String(x), \" factors as \"), \n",
    "                    String(FactorizationsElementWRTNumericalSemigroup(x,s)));\n",
    "        SetId(message, Concatenation(\"message-for-\", String(x)));\n",
    "        Add(canvas, message);\n",
    "        return Draw(canvas);\n",
    "    end;\n",
    "    if Length(arg)=1 then\n",
    "        s:=arg[1];\n",
    "        n:=MultiplicityOfNumericalSemigroup(s);\n",
    "    fi;\n",
    "    if Length(arg)=2 then\n",
    "        s:=arg[1];\n",
    "        n:=arg[2];\n",
    "    fi;\n",
    "    if Length(arg)>2 then\n",
    "        Error(\"The number of arguments must be one or two\");\n",
    "    fi;\n",
    "  \n",
    "    graphHasse := Graph(GraphType.HASSE);\n",
    "    SetSimulation(graphHasse,true);\n",
    "    SetDrag(graphHasse,true);\n",
    "    ap:=AperyList(s,n);\n",
    "    c:=Cartesian([1..n],[1..n]);\n",
    "    c:=Filtered(c, p-> ap[p[2]]<>ap[p[1]]);\n",
    "    c:=Filtered(c, p-> ap[p[1]]-ap[p[2]] in s);\n",
    "    c:=hasse(c);\n",
    "    aps:=[];\n",
    "    for i in [1..n] do\n",
    "        aps[i]:=Shape(ShapeType!.CIRCLE, String(ap[i]));\n",
    "        SetLayer(aps[i],-order(ap[i]));\n",
    "        Add(aps[i],Callback(showfacts,[ap[i]]));\n",
    "        Add(aps[i],FrancyMessage(String(FactorizationsElementWRTNumericalSemigroup(ap[i],s))));\n",
    "        Add(graphHasse,aps[i]);\n",
    "    od;\n",
    "    for r in c do\n",
    "        Add(graphHasse,Link(aps[r[1]],aps[r[2]]));\n",
    "    od;\n",
    "    canvas:=Canvas(\"Apery\");\n",
    "    Add(canvas,graphHasse);\n",
    "    return Draw(canvas);    \n",
    "end;"
   ]
  },
  {
   "cell_type": "code",
   "execution_count": 4,
   "metadata": {
    "scrolled": false
   },
   "outputs": [
    {
     "data": {
      "application/vnd.francy+json": "{\"version\" : \"0.5.4\",\"mime\" : \"application\\/vnd.francy+json\",\"canvas\" : {\"width\" : 800,\"height\" : 600,\"id\" : \"F45\",\"title\" : \"Apery\",\"zoomToFit\" : true,\"texTypesetting\" : false,\"menus\" : {},\"graph\" : {\"type\" : \"hasse\",\"id\" : \"F1\",\"simulation\" : true,\"collapsed\" : true,\"drag\" : true,\"showNeighbours\" : false,\"nodes\" : {\"F2\" : {\"x\" : 0,\"y\" : 0,\"type\" : \"circle\",\"size\" : 10,\"id\" : \"F2\",\"title\" : \"0\",\"highlight\" : true,\"layer\" : 0,\"parent\" : \"\",\"menus\" : {},\"messages\" : {\"F4\" : {\"type\" : \"default\",\"id\" : \"F4\",\"text\" : \"[ [ 0, 0, 0 ] ]\",\"title\" : \"\"}},\"callbacks\" : {\"F3\" : {\"func\" : \"unknown\",\"id\" : \"F3\",\"trigger\" : \"click\",\"knownArgs\" : [\"0\"],\"requiredArgs\" : {}}}},\"F5\" : {\"x\" : 0,\"y\" : 0,\"type\" : \"circle\",\"size\" : 10,\"id\" : \"F5\",\"title\" : \"31\",\"highlight\" : true,\"layer\" : -1,\"parent\" : \"\",\"menus\" : {},\"messages\" : {\"F7\" : {\"type\" : \"default\",\"id\" : \"F7\",\"text\" : \"[ [ 0, 0, 1 ] ]\",\"title\" : \"\"}},\"callbacks\" : {\"F6\" : {\"func\" : \"unknown\",\"id\" : \"F6\",\"trigger\" : \"click\",\"knownArgs\" : [\"31\"],\"requiredArgs\" : {}}}},\"F8\" : {\"x\" : 0,\"y\" : 0,\"type\" : \"circle\",\"size\" : 10,\"id\" : \"F8\",\"title\" : \"62\",\"highlight\" : true,\"layer\" : -2,\"parent\" : \"\",\"menus\" : {},\"messages\" : {\"F10\" : {\"type\" : \"default\",\"id\" : \"F10\",\"text\" : \"[ [ 0, 0, 2 ] ]\",\"title\" : \"\"}},\"callbacks\" : {\"F9\" : {\"func\" : \"unknown\",\"id\" : \"F9\",\"trigger\" : \"click\",\"knownArgs\" : [\"62\"],\"requiredArgs\" : {}}}},\"F11\" : {\"x\" : 0,\"y\" : 0,\"type\" : \"circle\",\"size\" : 10,\"id\" : \"F11\",\"title\" : \"93\",\"highlight\" : true,\"layer\" : -3,\"parent\" : \"\",\"menus\" : {},\"messages\" : {\"F13\" : {\"type\" : \"default\",\"id\" : \"F13\",\"text\" : \"[ [ 0, 0, 3 ] ]\",\"title\" : \"\"}},\"callbacks\" : {\"F12\" : {\"func\" : \"unknown\",\"id\" : \"F12\",\"trigger\" : \"click\",\"knownArgs\" : [\"93\"],\"requiredArgs\" : {}}}},\"F14\" : {\"x\" : 0,\"y\" : 0,\"type\" : \"circle\",\"size\" : 10,\"id\" : \"F14\",\"title\" : \"54\",\"highlight\" : true,\"layer\" : -2,\"parent\" : \"\",\"menus\" : {},\"messages\" : {\"F16\" : {\"type\" : \"default\",\"id\" : \"F16\",\"text\" : \"[ [ 0, 2, 0 ] ]\",\"title\" : \"\"}},\"callbacks\" : {\"F15\" : {\"func\" : \"unknown\",\"id\" : \"F15\",\"trigger\" : \"click\",\"knownArgs\" : [\"54\"],\"requiredArgs\" : {}}}},\"F17\" : {\"x\" : 0,\"y\" : 0,\"type\" : \"circle\",\"size\" : 10,\"id\" : \"F17\",\"title\" : \"85\",\"highlight\" : true,\"layer\" : -3,\"parent\" : \"\",\"menus\" : {},\"messages\" : {\"F19\" : {\"type\" : \"default\",\"id\" : \"F19\",\"text\" : \"[ [ 0, 2, 1 ] ]\",\"title\" : \"\"}},\"callbacks\" : {\"F18\" : {\"func\" : \"unknown\",\"id\" : \"F18\",\"trigger\" : \"click\",\"knownArgs\" : [\"85\"],\"requiredArgs\" : {}}}},\"F20\" : {\"x\" : 0,\"y\" : 0,\"type\" : \"circle\",\"size\" : 10,\"id\" : \"F20\",\"title\" : \"116\",\"highlight\" : true,\"layer\" : -4,\"parent\" : \"\",\"menus\" : {},\"messages\" : {\"F22\" : {\"type\" : \"default\",\"id\" : \"F22\",\"text\" : \"[ [ 0, 2, 2 ] ]\",\"title\" : \"\"}},\"callbacks\" : {\"F21\" : {\"func\" : \"unknown\",\"id\" : \"F21\",\"trigger\" : \"click\",\"knownArgs\" : [\"116\"],\"requiredArgs\" : {}}}},\"F23\" : {\"x\" : 0,\"y\" : 0,\"type\" : \"circle\",\"size\" : 10,\"id\" : \"F23\",\"title\" : \"27\",\"highlight\" : true,\"layer\" : -1,\"parent\" : \"\",\"menus\" : {},\"messages\" : {\"F25\" : {\"type\" : \"default\",\"id\" : \"F25\",\"text\" : \"[ [ 0, 1, 0 ] ]\",\"title\" : \"\"}},\"callbacks\" : {\"F24\" : {\"func\" : \"unknown\",\"id\" : \"F24\",\"trigger\" : \"click\",\"knownArgs\" : [\"27\"],\"requiredArgs\" : {}}}},\"F26\" : {\"x\" : 0,\"y\" : 0,\"type\" : \"circle\",\"size\" : 10,\"id\" : \"F26\",\"title\" : \"58\",\"highlight\" : true,\"layer\" : -2,\"parent\" : \"\",\"menus\" : {},\"messages\" : {\"F28\" : {\"type\" : \"default\",\"id\" : \"F28\",\"text\" : \"[ [ 0, 1, 1 ] ]\",\"title\" : \"\"}},\"callbacks\" : {\"F27\" : {\"func\" : \"unknown\",\"id\" : \"F27\",\"trigger\" : \"click\",\"knownArgs\" : [\"58\"],\"requiredArgs\" : {}}}},\"F29\" : {\"x\" : 0,\"y\" : 0,\"type\" : \"circle\",\"size\" : 10,\"id\" : \"F29\",\"title\" : \"89\",\"highlight\" : true,\"layer\" : -3,\"parent\" : \"\",\"menus\" : {},\"messages\" : {\"F31\" : {\"type\" : \"default\",\"id\" : \"F31\",\"text\" : \"[ [ 0, 1, 2 ] ]\",\"title\" : \"\"}},\"callbacks\" : {\"F30\" : {\"func\" : \"unknown\",\"id\" : \"F30\",\"trigger\" : \"click\",\"knownArgs\" : [\"89\"],\"requiredArgs\" : {}}}}},\"links\" : {\"F32\" : {\"source\" : \"F5\",\"id\" : \"F32\",\"target\" : \"F2\"},\"F33\" : {\"source\" : \"F8\",\"id\" : \"F33\",\"target\" : \"F5\"},\"F34\" : {\"source\" : \"F11\",\"id\" : \"F34\",\"target\" : \"F8\"},\"F35\" : {\"source\" : \"F14\",\"id\" : \"F35\",\"target\" : \"F23\"},\"F36\" : {\"source\" : \"F17\",\"id\" : \"F36\",\"target\" : \"F14\"},\"F37\" : {\"source\" : \"F17\",\"id\" : \"F37\",\"target\" : \"F26\"},\"F38\" : {\"source\" : \"F20\",\"id\" : \"F38\",\"target\" : \"F17\"},\"F39\" : {\"source\" : \"F20\",\"id\" : \"F39\",\"target\" : \"F29\"},\"F40\" : {\"source\" : \"F23\",\"id\" : \"F40\",\"target\" : \"F2\"},\"F41\" : {\"source\" : \"F26\",\"id\" : \"F41\",\"target\" : \"F5\"},\"F42\" : {\"source\" : \"F26\",\"id\" : \"F42\",\"target\" : \"F23\"},\"F43\" : {\"source\" : \"F29\",\"id\" : \"F43\",\"target\" : \"F8\"},\"F44\" : {\"source\" : \"F29\",\"id\" : \"F44\",\"target\" : \"F26\"}}},\"messages\" : {}}}"
     },
     "execution_count": 4,
     "metadata": {},
     "output_type": "execute_result"
    }
   ],
   "source": [
    "apery(NumericalSemigroup(10,51,27,31));"
   ]
  },
  {
   "cell_type": "markdown",
   "metadata": {},
   "source": [
    "## Drawing sons of numerical semigroups"
   ]
  },
  {
   "cell_type": "markdown",
   "metadata": {},
   "source": [
    "This example shows how to draw the sons of a numerical semigroup in the tree of numerical semigroups. If we click on a node, then the sets of sons of that node are added to the canvas, and if the node is a leaf, a warning message is displayed.\n",
    "\n",
    "Passing the mouse over a node shows the set of minimal generators of the node."
   ]
  },
  {
   "cell_type": "code",
   "execution_count": 10,
   "metadata": {},
   "outputs": [
    {
     "data": {
      "text/plain": [
       "function( s ) ... end"
      ]
     },
     "execution_count": 10,
     "metadata": {},
     "output_type": "execute_result"
    }
   ],
   "source": [
    "sons:=function(s)\n",
    "    local gens, frb, desc, graphHasse, d, shpr, shp, canvas, sonsf, i, gn, lbl;\n",
    "    \n",
    "    \n",
    "    sonsf:=function(s,n)\n",
    "        local gens, frb, desc, d, shp, i, lbl, gn;\n",
    "\n",
    "        frb:=FrobeniusNumber(s);\n",
    "        gens:=Filtered(MinimalGenerators(s), x-> x>frb);\n",
    "        desc:=List(gens, g->RemoveMinimalGeneratorFromNumericalSemigroup(g,s));\n",
    "        gn:=Genus(s);\n",
    "        i:=0;\n",
    "        for d in desc do\n",
    "            i:=i+1;\n",
    "            lbl:=String(MinimalGenerators(d));\n",
    "            shp:=Shape(ShapeType!.CIRCLE, lbl);\n",
    "            SetId(shp,lbl);\n",
    "            SetLayer(shp,Genus(d));\n",
    "            Add(shp,Callback(sonsf,[d,shp]));\n",
    "            Add(shp,FrancyMessage(String(MinimalGenerators(d))));\n",
    "            Add(graphHasse,shp);\n",
    "            Add(graphHasse,Link(n,shp));\n",
    "        od;\n",
    "        if desc<>[] then \n",
    "            return Draw(canvas);\n",
    "        fi;\n",
    "        Add(canvas, FrancyMessage(FrancyMessageType.WARNING, \"This semigroup is a leaf\"));\n",
    "        return Draw(canvas);\n",
    "    end;\n",
    "    \n",
    "    frb:=FrobeniusNumber(s);\n",
    "    gens:=Filtered(MinimalGenerators(s), x-> x>frb);\n",
    "    desc:=List(gens, g->RemoveMinimalGeneratorFromNumericalSemigroup(g,s));\n",
    "    gn:=Genus(s);\n",
    "\n",
    "    graphHasse := Graph(GraphType.HASSE);\n",
    "    shpr:=Shape(ShapeType!.CIRCLE, String(MinimalGenerators(s)));\n",
    "    Add(shpr,FrancyMessage(String(MinimalGenerators(s))));\n",
    "    SetLayer(shpr,Genus(s));\n",
    "    Add(graphHasse,shpr);\n",
    "    i:=0;\n",
    "    for d in desc do\n",
    "        i:=i+1;\n",
    "        lbl:=String(MinimalGenerators(d));\n",
    "        shp:=Shape(ShapeType!.CIRCLE, lbl);\n",
    "        SetId(shp,lbl);\n",
    "        SetLayer(shp,Genus(d));\n",
    "        Add(shp,Callback(sonsf,[d,shp]));\n",
    "        Add(shp,FrancyMessage(String(MinimalGenerators(d))));\n",
    "        Add(graphHasse,shp);\n",
    "        Add(graphHasse,Link(shpr,shp));\n",
    "    od;\n",
    "    canvas:=Canvas(\"Sons of a numerical semigroup\");\n",
    "    Add(canvas,graphHasse);\n",
    "    return Draw(canvas);    \n",
    "end;"
   ]
  },
  {
   "cell_type": "code",
   "execution_count": 11,
   "metadata": {
    "scrolled": false
   },
   "outputs": [
    {
     "data": {
      "application/vnd.francy+json": "{\"version\" : \"0.5.4\",\"mime\" : \"application\\/vnd.francy+json\",\"canvas\" : {\"width\" : 800,\"height\" : 600,\"id\" : \"F85\",\"title\" : \"Sons of a numerical semigroup\",\"zoomToFit\" : true,\"texTypesetting\" : false,\"menus\" : {},\"graph\" : {\"type\" : \"hasse\",\"id\" : \"F74\",\"simulation\" : true,\"collapsed\" : true,\"drag\" : false,\"showNeighbours\" : false,\"nodes\" : {\"[ 3, 7, 8 ]\" : {\"x\" : 0,\"y\" : 0,\"type\" : \"circle\",\"size\" : 10,\"id\" : \"[ 3, 7, 8 ]\",\"title\" : \"[ 3, 7, 8 ]\",\"highlight\" : true,\"layer\" : 4,\"parent\" : \"\",\"menus\" : {},\"messages\" : {\"F79\" : {\"type\" : \"default\",\"id\" : \"F79\",\"text\" : \"[ 3, 7, 8 ]\",\"title\" : \"\"}},\"callbacks\" : {\"F78\" : {\"func\" : \"unknown\",\"id\" : \"F78\",\"trigger\" : \"click\",\"knownArgs\" : [\"<object>\",\"<object>\"],\"requiredArgs\" : {}}}},\"[ 3, 5 ]\" : {\"x\" : 0,\"y\" : 0,\"type\" : \"circle\",\"size\" : 10,\"id\" : \"[ 3, 5 ]\",\"title\" : \"[ 3, 5 ]\",\"highlight\" : true,\"layer\" : 4,\"parent\" : \"\",\"menus\" : {},\"messages\" : {\"F83\" : {\"type\" : \"default\",\"id\" : \"F83\",\"text\" : \"[ 3, 5 ]\",\"title\" : \"\"}},\"callbacks\" : {\"F82\" : {\"func\" : \"unknown\",\"id\" : \"F82\",\"trigger\" : \"click\",\"knownArgs\" : [\"<object>\",\"<object>\"],\"requiredArgs\" : {}}}},\"F75\" : {\"x\" : 0,\"y\" : 0,\"type\" : \"circle\",\"size\" : 10,\"id\" : \"F75\",\"title\" : \"[ 3, 5, 7 ]\",\"highlight\" : true,\"layer\" : 3,\"parent\" : \"\",\"menus\" : {},\"messages\" : {\"F76\" : {\"type\" : \"default\",\"id\" : \"F76\",\"text\" : \"[ 3, 5, 7 ]\",\"title\" : \"\"}},\"callbacks\" : {}}},\"links\" : {\"F80\" : {\"source\" : \"F75\",\"id\" : \"F80\",\"target\" : \"[ 3, 7, 8 ]\"},\"F84\" : {\"source\" : \"F75\",\"id\" : \"F84\",\"target\" : \"[ 3, 5 ]\"}}},\"messages\" : {}}}"
     },
     "execution_count": 11,
     "metadata": {},
     "output_type": "execute_result"
    }
   ],
   "source": [
    "sons(NumericalSemigroup(3,5,7));"
   ]
  },
  {
   "cell_type": "markdown",
   "metadata": {},
   "source": [
    "# Tree of numerical semigroups\n",
    "\n",
    "Now we draw the sons of a numerical semigroup `s` in the tree of numerical semigroups up to level `l`."
   ]
  },
  {
   "cell_type": "code",
   "execution_count": 7,
   "metadata": {},
   "outputs": [
    {
     "data": {
      "text/plain": [
       "function( s, l, generators ) ... end"
      ]
     },
     "execution_count": 7,
     "metadata": {},
     "output_type": "execute_result"
    }
   ],
   "source": [
    "sonstree:=function(s,l,generators)\n",
    "    local gens, frb, desc, graphTreee, d, shpr, shp, canvas, sonsf;\n",
    "\n",
    "\n",
    "    sonsf:=function(s,n,lv)\n",
    "        local gens, frb, desc, d, shp;\n",
    "        if lv=0 then\n",
    "            return ;\n",
    "        fi;\n",
    "        frb:=FrobeniusNumber(s);\n",
    "        gens:=Filtered(generators(s), x-> x>frb);\n",
    "        desc:=List(gens, g->RemoveMinimalGeneratorFromNumericalSemigroup(g,s));\n",
    "        for d in desc do\n",
    "        shp:=Shape(ShapeType!.CIRCLE, String(generators(d)));\n",
    "            SetSize(shp,5);\n",
    "            Add(graphTreee,shp);\n",
    "            SetParentNode(shp,n);\n",
    "            sonsf(d,shp,lv-1);\n",
    "        od;\n",
    "        if desc<>[] then\n",
    "            return ;\n",
    "        fi;\n",
    "        #Add(canvas, FrancyMessage(FrancyMessageType.WARNING, \"This semigroup is a leaf\"));\n",
    "        return ;\n",
    "    end;\n",
    "\n",
    "    frb:=FrobeniusNumber(s);\n",
    "    gens:=Filtered(generators(s), x-> x>frb);\n",
    "    desc:=List(gens, g->RemoveMinimalGeneratorFromNumericalSemigroup(g,s));\n",
    "\n",
    "    graphTreee := Graph(GraphType.TREE);\n",
    "    SetCollapsed(graphTreee,false);\n",
    "    shpr:=Shape(ShapeType!.CIRCLE, \"S\");\n",
    "    SetSize(shpr,5);\n",
    "    Add(shpr,FrancyMessage(String(generators(s))));\n",
    "    Add(graphTreee,shpr);\n",
    "    canvas:=Canvas(\"Sons of a numerical semigroup\");\n",
    "    Add(canvas,graphTreee);\n",
    "    sonsf(s,shpr,l);\n",
    "    return Draw(canvas);\n",
    "end;"
   ]
  },
  {
   "cell_type": "markdown",
   "metadata": {},
   "source": [
    "Darker dots correspond either to leaves or to elements with highest genus. Blue nodes can be collapsed by clicking.  "
   ]
  },
  {
   "cell_type": "code",
   "execution_count": 8,
   "metadata": {},
   "outputs": [
    {
     "data": {
      "application/vnd.francy+json": "{\"version\" : \"0.5.4\",\"mime\" : \"application\\/vnd.francy+json\",\"canvas\" : {\"width\" : 800,\"height\" : 600,\"id\" : \"F61\",\"title\" : \"Sons of a numerical semigroup\",\"zoomToFit\" : true,\"texTypesetting\" : false,\"menus\" : {},\"graph\" : {\"type\" : \"tree\",\"id\" : \"F58\",\"simulation\" : true,\"collapsed\" : false,\"drag\" : false,\"showNeighbours\" : false,\"nodes\" : {\"F59\" : {\"x\" : 0,\"y\" : 0,\"type\" : \"circle\",\"size\" : 5,\"id\" : \"F59\",\"title\" : \"S\",\"highlight\" : true,\"layer\" : 0,\"parent\" : \"\",\"menus\" : {},\"messages\" : {\"F60\" : {\"type\" : \"default\",\"id\" : \"F60\",\"text\" : \"[ 1 ]\",\"title\" : \"\"}},\"callbacks\" : {}},\"F62\" : {\"x\" : 0,\"y\" : 0,\"type\" : \"circle\",\"size\" : 5,\"id\" : \"F62\",\"title\" : \"[ 2, 3 ]\",\"highlight\" : true,\"layer\" : 0,\"parent\" : \"F59\",\"menus\" : {},\"messages\" : {},\"callbacks\" : {}},\"F63\" : {\"x\" : 0,\"y\" : 0,\"type\" : \"circle\",\"size\" : 5,\"id\" : \"F63\",\"title\" : \"[ 3 .. 5 ]\",\"highlight\" : true,\"layer\" : 0,\"parent\" : \"F62\",\"menus\" : {},\"messages\" : {},\"callbacks\" : {}},\"F64\" : {\"x\" : 0,\"y\" : 0,\"type\" : \"circle\",\"size\" : 5,\"id\" : \"F64\",\"title\" : \"[ 4 .. 7 ]\",\"highlight\" : true,\"layer\" : 0,\"parent\" : \"F63\",\"menus\" : {},\"messages\" : {},\"callbacks\" : {}},\"F65\" : {\"x\" : 0,\"y\" : 0,\"type\" : \"circle\",\"size\" : 5,\"id\" : \"F65\",\"title\" : \"[ 5 .. 9 ]\",\"highlight\" : true,\"layer\" : 0,\"parent\" : \"F64\",\"menus\" : {},\"messages\" : {},\"callbacks\" : {}},\"F66\" : {\"x\" : 0,\"y\" : 0,\"type\" : \"circle\",\"size\" : 5,\"id\" : \"F66\",\"title\" : \"[ 4, 6, 7, 9 ]\",\"highlight\" : true,\"layer\" : 0,\"parent\" : \"F64\",\"menus\" : {},\"messages\" : {},\"callbacks\" : {}},\"F67\" : {\"x\" : 0,\"y\" : 0,\"type\" : \"circle\",\"size\" : 5,\"id\" : \"F67\",\"title\" : \"[ 4, 5, 7 ]\",\"highlight\" : true,\"layer\" : 0,\"parent\" : \"F64\",\"menus\" : {},\"messages\" : {},\"callbacks\" : {}},\"F68\" : {\"x\" : 0,\"y\" : 0,\"type\" : \"circle\",\"size\" : 5,\"id\" : \"F68\",\"title\" : \"[ 4, 5, 6 ]\",\"highlight\" : true,\"layer\" : 0,\"parent\" : \"F64\",\"menus\" : {},\"messages\" : {},\"callbacks\" : {}},\"F69\" : {\"x\" : 0,\"y\" : 0,\"type\" : \"circle\",\"size\" : 5,\"id\" : \"F69\",\"title\" : \"[ 3, 5, 7 ]\",\"highlight\" : true,\"layer\" : 0,\"parent\" : \"F63\",\"menus\" : {},\"messages\" : {},\"callbacks\" : {}},\"F70\" : {\"x\" : 0,\"y\" : 0,\"type\" : \"circle\",\"size\" : 5,\"id\" : \"F70\",\"title\" : \"[ 3, 7, 8 ]\",\"highlight\" : true,\"layer\" : 0,\"parent\" : \"F69\",\"menus\" : {},\"messages\" : {},\"callbacks\" : {}},\"F71\" : {\"x\" : 0,\"y\" : 0,\"type\" : \"circle\",\"size\" : 5,\"id\" : \"F71\",\"title\" : \"[ 3, 5 ]\",\"highlight\" : true,\"layer\" : 0,\"parent\" : \"F69\",\"menus\" : {},\"messages\" : {},\"callbacks\" : {}},\"F72\" : {\"x\" : 0,\"y\" : 0,\"type\" : \"circle\",\"size\" : 5,\"id\" : \"F72\",\"title\" : \"[ 3, 4 ]\",\"highlight\" : true,\"layer\" : 0,\"parent\" : \"F63\",\"menus\" : {},\"messages\" : {},\"callbacks\" : {}},\"F73\" : {\"x\" : 0,\"y\" : 0,\"type\" : \"circle\",\"size\" : 5,\"id\" : \"F73\",\"title\" : \"[ 2, 5 ]\",\"highlight\" : true,\"layer\" : 0,\"parent\" : \"F62\",\"menus\" : {},\"messages\" : {},\"callbacks\" : {}},\"F74\" : {\"x\" : 0,\"y\" : 0,\"type\" : \"circle\",\"size\" : 5,\"id\" : \"F74\",\"title\" : \"[ 2, 7 ]\",\"highlight\" : true,\"layer\" : 0,\"parent\" : \"F73\",\"menus\" : {},\"messages\" : {},\"callbacks\" : {}},\"F75\" : {\"x\" : 0,\"y\" : 0,\"type\" : \"circle\",\"size\" : 5,\"id\" : \"F75\",\"title\" : \"[ 2, 9 ]\",\"highlight\" : true,\"layer\" : 0,\"parent\" : \"F74\",\"menus\" : {},\"messages\" : {},\"callbacks\" : {}}},\"links\" : {}},\"messages\" : {}}}"
     },
     "execution_count": 8,
     "metadata": {},
     "output_type": "execute_result"
    }
   ],
   "source": [
    "sonstree(NumericalSemigroup(1),4,MinimalGenerators);"
   ]
  },
  {
   "cell_type": "markdown",
   "metadata": {},
   "source": [
    "And we can get also the tree of Arf numerical semigroups"
   ]
  },
  {
   "cell_type": "code",
   "execution_count": 9,
   "metadata": {},
   "outputs": [
    {
     "data": {
      "application/vnd.francy+json": "{\"version\" : \"0.5.4\",\"mime\" : \"application\\/vnd.francy+json\",\"canvas\" : {\"width\" : 800,\"height\" : 600,\"id\" : \"F79\",\"title\" : \"Sons of a numerical semigroup\",\"zoomToFit\" : true,\"texTypesetting\" : false,\"menus\" : {},\"graph\" : {\"type\" : \"tree\",\"id\" : \"F76\",\"simulation\" : true,\"collapsed\" : false,\"drag\" : false,\"showNeighbours\" : false,\"nodes\" : {\"F77\" : {\"x\" : 0,\"y\" : 0,\"type\" : \"circle\",\"size\" : 5,\"id\" : \"F77\",\"title\" : \"S\",\"highlight\" : true,\"layer\" : 0,\"parent\" : \"\",\"menus\" : {},\"messages\" : {\"F78\" : {\"type\" : \"default\",\"id\" : \"F78\",\"text\" : \"[ 1 ]\",\"title\" : \"\"}},\"callbacks\" : {}},\"F80\" : {\"x\" : 0,\"y\" : 0,\"type\" : \"circle\",\"size\" : 5,\"id\" : \"F80\",\"title\" : \"[ 2, 3 ]\",\"highlight\" : true,\"layer\" : 0,\"parent\" : \"F77\",\"menus\" : {},\"messages\" : {},\"callbacks\" : {}},\"F81\" : {\"x\" : 0,\"y\" : 0,\"type\" : \"circle\",\"size\" : 5,\"id\" : \"F81\",\"title\" : \"[ 3, 4 ]\",\"highlight\" : true,\"layer\" : 0,\"parent\" : \"F80\",\"menus\" : {},\"messages\" : {},\"callbacks\" : {}},\"F82\" : {\"x\" : 0,\"y\" : 0,\"type\" : \"circle\",\"size\" : 5,\"id\" : \"F82\",\"title\" : \"[ 4, 5 ]\",\"highlight\" : true,\"layer\" : 0,\"parent\" : \"F81\",\"menus\" : {},\"messages\" : {},\"callbacks\" : {}},\"F83\" : {\"x\" : 0,\"y\" : 0,\"type\" : \"circle\",\"size\" : 5,\"id\" : \"F83\",\"title\" : \"[ 5, 6 ]\",\"highlight\" : true,\"layer\" : 0,\"parent\" : \"F82\",\"menus\" : {},\"messages\" : {},\"callbacks\" : {}},\"F84\" : {\"x\" : 0,\"y\" : 0,\"type\" : \"circle\",\"size\" : 5,\"id\" : \"F84\",\"title\" : \"[ 6, 7 ]\",\"highlight\" : true,\"layer\" : 0,\"parent\" : \"F83\",\"menus\" : {},\"messages\" : {},\"callbacks\" : {}},\"F85\" : {\"x\" : 0,\"y\" : 0,\"type\" : \"circle\",\"size\" : 5,\"id\" : \"F85\",\"title\" : \"[ 7, 8 ]\",\"highlight\" : true,\"layer\" : 0,\"parent\" : \"F84\",\"menus\" : {},\"messages\" : {},\"callbacks\" : {}},\"F86\" : {\"x\" : 0,\"y\" : 0,\"type\" : \"circle\",\"size\" : 5,\"id\" : \"F86\",\"title\" : \"[ 8, 9 ]\",\"highlight\" : true,\"layer\" : 0,\"parent\" : \"F85\",\"menus\" : {},\"messages\" : {},\"callbacks\" : {}},\"F87\" : {\"x\" : 0,\"y\" : 0,\"type\" : \"circle\",\"size\" : 5,\"id\" : \"F87\",\"title\" : \"[ 9, 10 ]\",\"highlight\" : true,\"layer\" : 0,\"parent\" : \"F86\",\"menus\" : {},\"messages\" : {},\"callbacks\" : {}},\"F88\" : {\"x\" : 0,\"y\" : 0,\"type\" : \"circle\",\"size\" : 5,\"id\" : \"F88\",\"title\" : \"[ 8, 10, 11 ]\",\"highlight\" : true,\"layer\" : 0,\"parent\" : \"F86\",\"menus\" : {},\"messages\" : {},\"callbacks\" : {}},\"F89\" : {\"x\" : 0,\"y\" : 0,\"type\" : \"circle\",\"size\" : 5,\"id\" : \"F89\",\"title\" : \"[ 7, 9, 10 ]\",\"highlight\" : true,\"layer\" : 0,\"parent\" : \"F85\",\"menus\" : {},\"messages\" : {},\"callbacks\" : {}},\"F90\" : {\"x\" : 0,\"y\" : 0,\"type\" : \"circle\",\"size\" : 5,\"id\" : \"F90\",\"title\" : \"[ 7, 10, 11 ]\",\"highlight\" : true,\"layer\" : 0,\"parent\" : \"F89\",\"menus\" : {},\"messages\" : {},\"callbacks\" : {}},\"F91\" : {\"x\" : 0,\"y\" : 0,\"type\" : \"circle\",\"size\" : 5,\"id\" : \"F91\",\"title\" : \"[ 7, 9, 12 ]\",\"highlight\" : true,\"layer\" : 0,\"parent\" : \"F89\",\"menus\" : {},\"messages\" : {},\"callbacks\" : {}},\"F92\" : {\"x\" : 0,\"y\" : 0,\"type\" : \"circle\",\"size\" : 5,\"id\" : \"F92\",\"title\" : \"[ 6, 8, 9 ]\",\"highlight\" : true,\"layer\" : 0,\"parent\" : \"F84\",\"menus\" : {},\"messages\" : {},\"callbacks\" : {}},\"F93\" : {\"x\" : 0,\"y\" : 0,\"type\" : \"circle\",\"size\" : 5,\"id\" : \"F93\",\"title\" : \"[ 6, 9, 10 ]\",\"highlight\" : true,\"layer\" : 0,\"parent\" : \"F92\",\"menus\" : {},\"messages\" : {},\"callbacks\" : {}},\"F94\" : {\"x\" : 0,\"y\" : 0,\"type\" : \"circle\",\"size\" : 5,\"id\" : \"F94\",\"title\" : \"[ 6, 10, 11 ]\",\"highlight\" : true,\"layer\" : 0,\"parent\" : \"F93\",\"menus\" : {},\"messages\" : {},\"callbacks\" : {}},\"F95\" : {\"x\" : 0,\"y\" : 0,\"type\" : \"circle\",\"size\" : 5,\"id\" : \"F95\",\"title\" : \"[ 6, 9, 11 ]\",\"highlight\" : true,\"layer\" : 0,\"parent\" : \"F93\",\"menus\" : {},\"messages\" : {},\"callbacks\" : {}},\"F96\" : {\"x\" : 0,\"y\" : 0,\"type\" : \"circle\",\"size\" : 5,\"id\" : \"F96\",\"title\" : \"[ 6, 8, 11 ]\",\"highlight\" : true,\"layer\" : 0,\"parent\" : \"F92\",\"menus\" : {},\"messages\" : {},\"callbacks\" : {}},\"F97\" : {\"x\" : 0,\"y\" : 0,\"type\" : \"circle\",\"size\" : 5,\"id\" : \"F97\",\"title\" : \"[ 6, 8, 13 ]\",\"highlight\" : true,\"layer\" : 0,\"parent\" : \"F96\",\"menus\" : {},\"messages\" : {},\"callbacks\" : {}},\"F98\" : {\"x\" : 0,\"y\" : 0,\"type\" : \"circle\",\"size\" : 5,\"id\" : \"F98\",\"title\" : \"[ 5, 7, 8 ]\",\"highlight\" : true,\"layer\" : 0,\"parent\" : \"F83\",\"menus\" : {},\"messages\" : {},\"callbacks\" : {}},\"F99\" : {\"x\" : 0,\"y\" : 0,\"type\" : \"circle\",\"size\" : 5,\"id\" : \"F99\",\"title\" : \"[ 5, 8, 9 ]\",\"highlight\" : true,\"layer\" : 0,\"parent\" : \"F98\",\"menus\" : {},\"messages\" : {},\"callbacks\" : {}},\"F100\" : {\"x\" : 0,\"y\" : 0,\"type\" : \"circle\",\"size\" : 5,\"id\" : \"F100\",\"title\" : \"[ 5, 9 ]\",\"highlight\" : true,\"layer\" : 0,\"parent\" : \"F99\",\"menus\" : {},\"messages\" : {},\"callbacks\" : {}},\"F101\" : {\"x\" : 0,\"y\" : 0,\"type\" : \"circle\",\"size\" : 5,\"id\" : \"F101\",\"title\" : \"[ 5, 11 ]\",\"highlight\" : true,\"layer\" : 0,\"parent\" : \"F100\",\"menus\" : {},\"messages\" : {},\"callbacks\" : {}},\"F102\" : {\"x\" : 0,\"y\" : 0,\"type\" : \"circle\",\"size\" : 5,\"id\" : \"F102\",\"title\" : \"[ 5, 8 ]\",\"highlight\" : true,\"layer\" : 0,\"parent\" : \"F99\",\"menus\" : {},\"messages\" : {},\"callbacks\" : {}},\"F103\" : {\"x\" : 0,\"y\" : 0,\"type\" : \"circle\",\"size\" : 5,\"id\" : \"F103\",\"title\" : \"[ 5, 7 ]\",\"highlight\" : true,\"layer\" : 0,\"parent\" : \"F98\",\"menus\" : {},\"messages\" : {},\"callbacks\" : {}},\"F104\" : {\"x\" : 0,\"y\" : 0,\"type\" : \"circle\",\"size\" : 5,\"id\" : \"F104\",\"title\" : \"[ 4, 6, 7 ]\",\"highlight\" : true,\"layer\" : 0,\"parent\" : \"F82\",\"menus\" : {},\"messages\" : {},\"callbacks\" : {}},\"F105\" : {\"x\" : 0,\"y\" : 0,\"type\" : \"circle\",\"size\" : 5,\"id\" : \"F105\",\"title\" : \"[ 4, 7 ]\",\"highlight\" : true,\"layer\" : 0,\"parent\" : \"F104\",\"menus\" : {},\"messages\" : {},\"callbacks\" : {}},\"F106\" : {\"x\" : 0,\"y\" : 0,\"type\" : \"circle\",\"size\" : 5,\"id\" : \"F106\",\"title\" : \"[ 4, 9 ]\",\"highlight\" : true,\"layer\" : 0,\"parent\" : \"F105\",\"menus\" : {},\"messages\" : {},\"callbacks\" : {}},\"F107\" : {\"x\" : 0,\"y\" : 0,\"type\" : \"circle\",\"size\" : 5,\"id\" : \"F107\",\"title\" : \"[ 4, 10, 11 ]\",\"highlight\" : true,\"layer\" : 0,\"parent\" : \"F106\",\"menus\" : {},\"messages\" : {},\"callbacks\" : {}},\"F108\" : {\"x\" : 0,\"y\" : 0,\"type\" : \"circle\",\"size\" : 5,\"id\" : \"F108\",\"title\" : \"[ 4, 11 ]\",\"highlight\" : true,\"layer\" : 0,\"parent\" : \"F107\",\"menus\" : {},\"messages\" : {},\"callbacks\" : {}},\"F109\" : {\"x\" : 0,\"y\" : 0,\"type\" : \"circle\",\"size\" : 5,\"id\" : \"F109\",\"title\" : \"[ 4, 10, 13 ]\",\"highlight\" : true,\"layer\" : 0,\"parent\" : \"F107\",\"menus\" : {},\"messages\" : {},\"callbacks\" : {}},\"F110\" : {\"x\" : 0,\"y\" : 0,\"type\" : \"circle\",\"size\" : 5,\"id\" : \"F110\",\"title\" : \"[ 4, 6, 9 ]\",\"highlight\" : true,\"layer\" : 0,\"parent\" : \"F104\",\"menus\" : {},\"messages\" : {},\"callbacks\" : {}},\"F111\" : {\"x\" : 0,\"y\" : 0,\"type\" : \"circle\",\"size\" : 5,\"id\" : \"F111\",\"title\" : \"[ 4, 6, 11 ]\",\"highlight\" : true,\"layer\" : 0,\"parent\" : \"F110\",\"menus\" : {},\"messages\" : {},\"callbacks\" : {}},\"F112\" : {\"x\" : 0,\"y\" : 0,\"type\" : \"circle\",\"size\" : 5,\"id\" : \"F112\",\"title\" : \"[ 4, 6, 13 ]\",\"highlight\" : true,\"layer\" : 0,\"parent\" : \"F111\",\"menus\" : {},\"messages\" : {},\"callbacks\" : {}},\"F113\" : {\"x\" : 0,\"y\" : 0,\"type\" : \"circle\",\"size\" : 5,\"id\" : \"F113\",\"title\" : \"[ 4, 6, 15 ]\",\"highlight\" : true,\"layer\" : 0,\"parent\" : \"F112\",\"menus\" : {},\"messages\" : {},\"callbacks\" : {}},\"F114\" : {\"x\" : 0,\"y\" : 0,\"type\" : \"circle\",\"size\" : 5,\"id\" : \"F114\",\"title\" : \"[ 3, 5 ]\",\"highlight\" : true,\"layer\" : 0,\"parent\" : \"F81\",\"menus\" : {},\"messages\" : {},\"callbacks\" : {}},\"F115\" : {\"x\" : 0,\"y\" : 0,\"type\" : \"circle\",\"size\" : 5,\"id\" : \"F115\",\"title\" : \"[ 3, 7 ]\",\"highlight\" : true,\"layer\" : 0,\"parent\" : \"F114\",\"menus\" : {},\"messages\" : {},\"callbacks\" : {}},\"F116\" : {\"x\" : 0,\"y\" : 0,\"type\" : \"circle\",\"size\" : 5,\"id\" : \"F116\",\"title\" : \"[ 3, 8 ]\",\"highlight\" : true,\"layer\" : 0,\"parent\" : \"F115\",\"menus\" : {},\"messages\" : {},\"callbacks\" : {}},\"F117\" : {\"x\" : 0,\"y\" : 0,\"type\" : \"circle\",\"size\" : 5,\"id\" : \"F117\",\"title\" : \"[ 3, 10 ]\",\"highlight\" : true,\"layer\" : 0,\"parent\" : \"F116\",\"menus\" : {},\"messages\" : {},\"callbacks\" : {}},\"F118\" : {\"x\" : 0,\"y\" : 0,\"type\" : \"circle\",\"size\" : 5,\"id\" : \"F118\",\"title\" : \"[ 3, 11 ]\",\"highlight\" : true,\"layer\" : 0,\"parent\" : \"F117\",\"menus\" : {},\"messages\" : {},\"callbacks\" : {}},\"F119\" : {\"x\" : 0,\"y\" : 0,\"type\" : \"circle\",\"size\" : 5,\"id\" : \"F119\",\"title\" : \"[ 3, 13 ]\",\"highlight\" : true,\"layer\" : 0,\"parent\" : \"F118\",\"menus\" : {},\"messages\" : {},\"callbacks\" : {}},\"F120\" : {\"x\" : 0,\"y\" : 0,\"type\" : \"circle\",\"size\" : 5,\"id\" : \"F120\",\"title\" : \"[ 2, 5 ]\",\"highlight\" : true,\"layer\" : 0,\"parent\" : \"F80\",\"menus\" : {},\"messages\" : {},\"callbacks\" : {}},\"F121\" : {\"x\" : 0,\"y\" : 0,\"type\" : \"circle\",\"size\" : 5,\"id\" : \"F121\",\"title\" : \"[ 2, 7 ]\",\"highlight\" : true,\"layer\" : 0,\"parent\" : \"F120\",\"menus\" : {},\"messages\" : {},\"callbacks\" : {}},\"F122\" : {\"x\" : 0,\"y\" : 0,\"type\" : \"circle\",\"size\" : 5,\"id\" : \"F122\",\"title\" : \"[ 2, 9 ]\",\"highlight\" : true,\"layer\" : 0,\"parent\" : \"F121\",\"menus\" : {},\"messages\" : {},\"callbacks\" : {}},\"F123\" : {\"x\" : 0,\"y\" : 0,\"type\" : \"circle\",\"size\" : 5,\"id\" : \"F123\",\"title\" : \"[ 2, 11 ]\",\"highlight\" : true,\"layer\" : 0,\"parent\" : \"F122\",\"menus\" : {},\"messages\" : {},\"callbacks\" : {}},\"F124\" : {\"x\" : 0,\"y\" : 0,\"type\" : \"circle\",\"size\" : 5,\"id\" : \"F124\",\"title\" : \"[ 2, 13 ]\",\"highlight\" : true,\"layer\" : 0,\"parent\" : \"F123\",\"menus\" : {},\"messages\" : {},\"callbacks\" : {}},\"F125\" : {\"x\" : 0,\"y\" : 0,\"type\" : \"circle\",\"size\" : 5,\"id\" : \"F125\",\"title\" : \"[ 2, 15 ]\",\"highlight\" : true,\"layer\" : 0,\"parent\" : \"F124\",\"menus\" : {},\"messages\" : {},\"callbacks\" : {}},\"F126\" : {\"x\" : 0,\"y\" : 0,\"type\" : \"circle\",\"size\" : 5,\"id\" : \"F126\",\"title\" : \"[ 2, 17 ]\",\"highlight\" : true,\"layer\" : 0,\"parent\" : \"F125\",\"menus\" : {},\"messages\" : {},\"callbacks\" : {}}},\"links\" : {}},\"messages\" : {}}}"
     },
     "execution_count": 9,
     "metadata": {},
     "output_type": "execute_result"
    }
   ],
   "source": [
    "sonstree(NumericalSemigroup(1),8,ArfCharactersOfArfNumericalSemigroup);"
   ]
  },
  {
   "cell_type": "markdown",
   "metadata": {},
   "source": [
    "## Oversemigroups"
   ]
  },
  {
   "cell_type": "code",
   "execution_count": 25,
   "metadata": {},
   "outputs": [
    {
     "data": {
      "text/plain": [
       "function( s ) ... end"
      ]
     },
     "execution_count": 25,
     "metadata": {},
     "output_type": "execute_result"
    }
   ],
   "source": [
    "oversemigroups:=function(s)\n",
    "    local ov, graphHasse, canvas,c,i,r,ovs,n,hasse;\n",
    "    \n",
    "    hasse:=function(rel)\n",
    "      local dom, out;\n",
    "      dom:=Flat(rel);\n",
    "      out:=Filtered(rel, p-> ForAny(dom, x->([p[1],x] in rel) and ([x,p[2]] in rel)));\n",
    "      return Difference(rel,out);\n",
    "    end;\n",
    "\n",
    "    ov:=OverSemigroupsNumericalSemigroup(s);\n",
    "    n:=Length(ov);\n",
    "    graphHasse := Graph(GraphType.HASSE);\n",
    "    SetSimulation(graphHasse,true);\n",
    "    SetDrag(graphHasse,true);\n",
    "    c:=Cartesian([1..n],[1..n]);\n",
    "    c:=Filtered(c, p-> p[2]<>p[1]);\n",
    "    c:=Filtered(c, p-> IsSubset(ov[p[1]],ov[p[2]]));\n",
    "    c:=hasse(c);\n",
    "    ovs:=[];\n",
    "    for i in [1..n] do\n",
    "        if IsIrreducible(ov[i]) then\n",
    "            ovs[i]:=Shape(ShapeType!.DIAMOND, String(MinimalGenerators(ov[i])));\n",
    "        else\n",
    "            ovs[i]:=Shape(ShapeType!.CIRCLE, String(MinimalGenerators(ov[i])));\n",
    "        fi;\n",
    "        SetLayer(ovs[i],Genus(ov[i]));\n",
    "    SetSize(ovs[i],2);\n",
    "    Add(graphHasse,ovs[i]);\n",
    "    od;\n",
    "    for r in c do\n",
    "        Add(graphHasse,Link(ovs[r[1]],ovs[r[2]]));\n",
    "    od;\n",
    "    canvas:=Canvas(\"Oversemigroups\");\n",
    "    Add(canvas,graphHasse);\n",
    "    return Draw(canvas);    \n",
    "end;"
   ]
  },
  {
   "cell_type": "markdown",
   "metadata": {},
   "source": [
    "A Hasse diagram of the set of oversemigroups of the given numerical semigroup is displayed. Irreducible numerical semigroups are drawn as diamonds. "
   ]
  },
  {
   "cell_type": "code",
   "execution_count": 37,
   "metadata": {
    "scrolled": false
   },
   "outputs": [
    {
     "data": {
      "application/vnd.francy+json": "{\"version\" : \"0.5.4\",\"mime\" : \"application\\/vnd.francy+json\",\"canvas\" : {\"width\" : 800,\"height\" : 600,\"id\" : \"F890\",\"title\" : \"Oversemigroups\",\"zoomToFit\" : true,\"texTypesetting\" : false,\"menus\" : {},\"graph\" : {\"type\" : \"hasse\",\"id\" : \"F846\",\"simulation\" : true,\"collapsed\" : true,\"drag\" : true,\"showNeighbours\" : false,\"nodes\" : {\"F847\" : {\"x\" : 0,\"y\" : 0,\"type\" : \"diamond\",\"size\" : 2,\"id\" : \"F847\",\"title\" : \"[ 1 ]\",\"highlight\" : true,\"layer\" : 0,\"parent\" : \"\",\"menus\" : {},\"messages\" : {},\"callbacks\" : {}},\"F848\" : {\"x\" : 0,\"y\" : 0,\"type\" : \"diamond\",\"size\" : 2,\"id\" : \"F848\",\"title\" : \"[ 2, 3 ]\",\"highlight\" : true,\"layer\" : 1,\"parent\" : \"\",\"menus\" : {},\"messages\" : {},\"callbacks\" : {}},\"F849\" : {\"x\" : 0,\"y\" : 0,\"type\" : \"diamond\",\"size\" : 2,\"id\" : \"F849\",\"title\" : \"[ 2, 5 ]\",\"highlight\" : true,\"layer\" : 2,\"parent\" : \"\",\"menus\" : {},\"messages\" : {},\"callbacks\" : {}},\"F850\" : {\"x\" : 0,\"y\" : 0,\"type\" : \"diamond\",\"size\" : 2,\"id\" : \"F850\",\"title\" : \"[ 2, 7 ]\",\"highlight\" : true,\"layer\" : 3,\"parent\" : \"\",\"menus\" : {},\"messages\" : {},\"callbacks\" : {}},\"F851\" : {\"x\" : 0,\"y\" : 0,\"type\" : \"diamond\",\"size\" : 2,\"id\" : \"F851\",\"title\" : \"[ 3, 4, 5 ]\",\"highlight\" : true,\"layer\" : 2,\"parent\" : \"\",\"menus\" : {},\"messages\" : {},\"callbacks\" : {}},\"F852\" : {\"x\" : 0,\"y\" : 0,\"type\" : \"diamond\",\"size\" : 2,\"id\" : \"F852\",\"title\" : \"[ 3, 4 ]\",\"highlight\" : true,\"layer\" : 3,\"parent\" : \"\",\"menus\" : {},\"messages\" : {},\"callbacks\" : {}},\"F853\" : {\"x\" : 0,\"y\" : 0,\"type\" : \"diamond\",\"size\" : 2,\"id\" : \"F853\",\"title\" : \"[ 3, 5, 7 ]\",\"highlight\" : true,\"layer\" : 3,\"parent\" : \"\",\"menus\" : {},\"messages\" : {},\"callbacks\" : {}},\"F854\" : {\"x\" : 0,\"y\" : 0,\"type\" : \"circle\",\"size\" : 2,\"id\" : \"F854\",\"title\" : \"[ 3, 7, 8 ]\",\"highlight\" : true,\"layer\" : 4,\"parent\" : \"\",\"menus\" : {},\"messages\" : {},\"callbacks\" : {}},\"F855\" : {\"x\" : 0,\"y\" : 0,\"type\" : \"diamond\",\"size\" : 2,\"id\" : \"F855\",\"title\" : \"[ 3, 7, 11 ]\",\"highlight\" : true,\"layer\" : 5,\"parent\" : \"\",\"menus\" : {},\"messages\" : {},\"callbacks\" : {}},\"F856\" : {\"x\" : 0,\"y\" : 0,\"type\" : \"circle\",\"size\" : 2,\"id\" : \"F856\",\"title\" : \"[ 4, 5, 6, 7 ]\",\"highlight\" : true,\"layer\" : 3,\"parent\" : \"\",\"menus\" : {},\"messages\" : {},\"callbacks\" : {}},\"F857\" : {\"x\" : 0,\"y\" : 0,\"type\" : \"circle\",\"size\" : 2,\"id\" : \"F857\",\"title\" : \"[ 4, 6, 7, 9 ]\",\"highlight\" : true,\"layer\" : 4,\"parent\" : \"\",\"menus\" : {},\"messages\" : {},\"callbacks\" : {}},\"F858\" : {\"x\" : 0,\"y\" : 0,\"type\" : \"circle\",\"size\" : 2,\"id\" : \"F858\",\"title\" : \"[ 5, 6, 7, 8, 9 ]\",\"highlight\" : true,\"layer\" : 4,\"parent\" : \"\",\"menus\" : {},\"messages\" : {},\"callbacks\" : {}},\"F859\" : {\"x\" : 0,\"y\" : 0,\"type\" : \"diamond\",\"size\" : 2,\"id\" : \"F859\",\"title\" : \"[ 5, 6, 7, 9 ]\",\"highlight\" : true,\"layer\" : 5,\"parent\" : \"\",\"menus\" : {},\"messages\" : {},\"callbacks\" : {}},\"F860\" : {\"x\" : 0,\"y\" : 0,\"type\" : \"circle\",\"size\" : 2,\"id\" : \"F860\",\"title\" : \"[ 6, 7, 8, 9, 10, 11 ]\",\"highlight\" : true,\"layer\" : 5,\"parent\" : \"\",\"menus\" : {},\"messages\" : {},\"callbacks\" : {}},\"F861\" : {\"x\" : 0,\"y\" : 0,\"type\" : \"diamond\",\"size\" : 2,\"id\" : \"F861\",\"title\" : \"[ 6, 7, 8, 9, 11 ]\",\"highlight\" : true,\"layer\" : 6,\"parent\" : \"\",\"menus\" : {},\"messages\" : {},\"callbacks\" : {}},\"F862\" : {\"x\" : 0,\"y\" : 0,\"type\" : \"circle\",\"size\" : 2,\"id\" : \"F862\",\"title\" : \"[ 6, 7, 9, 10, 11 ]\",\"highlight\" : true,\"layer\" : 6,\"parent\" : \"\",\"menus\" : {},\"messages\" : {},\"callbacks\" : {}},\"F863\" : {\"x\" : 0,\"y\" : 0,\"type\" : \"circle\",\"size\" : 2,\"id\" : \"F863\",\"title\" : \"[ 6, 7, 9, 11 ]\",\"highlight\" : true,\"layer\" : 7,\"parent\" : \"\",\"menus\" : {},\"messages\" : {},\"callbacks\" : {}}},\"links\" : {\"F864\" : {\"source\" : \"F847\",\"id\" : \"F864\",\"target\" : \"F848\"},\"F865\" : {\"source\" : \"F848\",\"id\" : \"F865\",\"target\" : \"F849\"},\"F866\" : {\"source\" : \"F848\",\"id\" : \"F866\",\"target\" : \"F851\"},\"F867\" : {\"source\" : \"F849\",\"id\" : \"F867\",\"target\" : \"F850\"},\"F868\" : {\"source\" : \"F849\",\"id\" : \"F868\",\"target\" : \"F856\"},\"F869\" : {\"source\" : \"F850\",\"id\" : \"F869\",\"target\" : \"F857\"},\"F870\" : {\"source\" : \"F851\",\"id\" : \"F870\",\"target\" : \"F852\"},\"F871\" : {\"source\" : \"F851\",\"id\" : \"F871\",\"target\" : \"F853\"},\"F872\" : {\"source\" : \"F851\",\"id\" : \"F872\",\"target\" : \"F856\"},\"F873\" : {\"source\" : \"F852\",\"id\" : \"F873\",\"target\" : \"F854\"},\"F874\" : {\"source\" : \"F852\",\"id\" : \"F874\",\"target\" : \"F857\"},\"F875\" : {\"source\" : \"F853\",\"id\" : \"F875\",\"target\" : \"F854\"},\"F876\" : {\"source\" : \"F853\",\"id\" : \"F876\",\"target\" : \"F858\"},\"F877\" : {\"source\" : \"F854\",\"id\" : \"F877\",\"target\" : \"F855\"},\"F878\" : {\"source\" : \"F854\",\"id\" : \"F878\",\"target\" : \"F860\"},\"F879\" : {\"source\" : \"F855\",\"id\" : \"F879\",\"target\" : \"F862\"},\"F880\" : {\"source\" : \"F856\",\"id\" : \"F880\",\"target\" : \"F857\"},\"F881\" : {\"source\" : \"F856\",\"id\" : \"F881\",\"target\" : \"F858\"},\"F882\" : {\"source\" : \"F857\",\"id\" : \"F882\",\"target\" : \"F860\"},\"F883\" : {\"source\" : \"F858\",\"id\" : \"F883\",\"target\" : \"F859\"},\"F884\" : {\"source\" : \"F858\",\"id\" : \"F884\",\"target\" : \"F860\"},\"F885\" : {\"source\" : \"F859\",\"id\" : \"F885\",\"target\" : \"F862\"},\"F886\" : {\"source\" : \"F860\",\"id\" : \"F886\",\"target\" : \"F861\"},\"F887\" : {\"source\" : \"F860\",\"id\" : \"F887\",\"target\" : \"F862\"},\"F888\" : {\"source\" : \"F861\",\"id\" : \"F888\",\"target\" : \"F863\"},\"F889\" : {\"source\" : \"F862\",\"id\" : \"F889\",\"target\" : \"F863\"}}},\"messages\" : {}}}"
     },
     "execution_count": 37,
     "metadata": {},
     "output_type": "execute_result"
    }
   ],
   "source": [
    "oversemigroups(NumericalSemigroup(6,7,9,11));"
   ]
  }
 ],
 "metadata": {
  "kernelspec": {
   "display_name": "GAP 4 (native)",
   "language": "gap",
   "name": "gap-native"
  },
  "language_info": {
   "codemirror_mode": "gap",
   "file_extension": ".g",
   "mimetype": "text/x-gap",
   "name": "GAP (native)",
   "nbconvert_exporter": "",
   "pygments_lexer": "gap",
   "version": "4.dev"
  }
 },
 "nbformat": 4,
 "nbformat_minor": 2
}
