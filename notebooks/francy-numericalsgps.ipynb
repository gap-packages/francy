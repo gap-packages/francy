{
 "cells": [
  {
   "cell_type": "markdown",
   "metadata": {},
   "source": [
    "# Numerical semigroups with `francy`\n",
    "\n",
    "## Load `francy` Package"
   ]
  },
  {
   "cell_type": "code",
   "execution_count": null,
   "metadata": {},
   "outputs": [],
   "source": []
  },
  {
   "cell_type": "code",
   "execution_count": 2,
   "metadata": {},
   "outputs": [
    {
     "name": "stdout",
     "output_type": "stream",
     "text": [
      "#I  equal requirements in multiple declarations for operation `JUPYTER_ViewString'\n",
      "\n",
      "#I  Please load package NormalizInterface or 4ti2Interface\n",
      "#I  to have extended functionalities.\n",
      "#I  Please load package SingularInterface or singular (not both)\n",
      "#I  or GradedModules to have extended functionalities.\n"
     ]
    },
    {
     "data": {
      "text/plain": [
       "true"
      ]
     },
     "execution_count": 1,
     "metadata": {
      "text/plain": "true"
     },
     "output_type": "execute_result"
    },
    {
     "data": {
      "text/plain": [
       "true"
      ]
     },
     "execution_count": 2,
     "metadata": {
      "text/plain": "true"
     },
     "output_type": "execute_result"
    }
   ],
   "source": [
    "LoadPackage(\"francy\");\n",
    "LoadPackage(\"num\");"
   ]
  },
  {
   "cell_type": "markdown",
   "metadata": {},
   "source": [
    "## Drawing Apéry sets"
   ]
  },
  {
   "cell_type": "markdown",
   "metadata": {},
   "source": [
    "This example draws the Apéry set of a numerical semigrup with respect to its multiplicity. By passing over a node with the mouse, the set of factorizations with respect to the minimal generating system of the numerical semigroup is displayed. Clicking a node produces a message with the same information."
   ]
  },
  {
   "cell_type": "code",
   "execution_count": 3,
   "metadata": {},
   "outputs": [
    {
     "data": {
      "text/plain": [
       "function( arg... ) ... end"
      ]
     },
     "execution_count": 3,
     "metadata": {
      "text/plain": "function( arg... ) ... end"
     },
     "output_type": "execute_result"
    }
   ],
   "source": [
    "apery:=function(arg)\n",
    "    local ap,c,hasse, s, n, r, graphHasse, aps, es, canvas, i, order, showfacts, message;\n",
    "    # rel is a list of lists with two elements representin a binary relation\n",
    "    # hasse(rel) removes from rel the pairs [x,y] such that there exists\n",
    "    # z with [x,z],[z,y] in rel\n",
    "    hasse:=function(rel)\n",
    "      local dom, out;\n",
    "      dom:=Flat(rel);\n",
    "      out:=Filtered(rel, p-> ForAny(dom, x->([p[1],x] in rel) and ([x,p[2]] in rel)));\n",
    "      return Difference(rel,out);\n",
    "    end;\n",
    "\n",
    "    order:=function(x)\n",
    "        return Maximum(LengthsOfFactorizationsElementWRTNumericalSemigroup(x,s));\n",
    "    end;\n",
    "\n",
    "    showfacts:=function(x)\n",
    "        message := FrancyMessage(Concatenation(String(x), \" factors as \"), \n",
    "                    String(FactorizationsElementWRTNumericalSemigroup(x,s)));\n",
    "        SetId(message, Concatenation(\"message-for-\", String(x)));\n",
    "        Add(canvas, message);\n",
    "        return Draw(canvas);\n",
    "    end;\n",
    "    if Length(arg)=1 then\n",
    "        s:=arg[1];\n",
    "        n:=MultiplicityOfNumericalSemigroup(s);\n",
    "    fi;\n",
    "    if Length(arg)=2 then\n",
    "        s:=arg[1];\n",
    "        n:=arg[2];\n",
    "    fi;\n",
    "    if Length(arg)>2 then\n",
    "        Error(\"The number of arguments must be one or two\");\n",
    "    fi;\n",
    "  \n",
    "    graphHasse := Graph(GraphType.HASSE);\n",
    "    SetSimulation(graphHasse,true);\n",
    "    SetDrag(graphHasse,true);\n",
    "    ap:=AperyList(s,n);\n",
    "    c:=Cartesian([1..n],[1..n]);\n",
    "    c:=Filtered(c, p-> ap[p[2]]<>ap[p[1]]);\n",
    "    c:=Filtered(c, p-> ap[p[1]]-ap[p[2]] in s);\n",
    "    c:=hasse(c);\n",
    "    aps:=[];\n",
    "    for i in [1..n] do\n",
    "        aps[i]:=Shape(ShapeType!.CIRCLE, String(ap[i]));\n",
    "        SetLayer(aps[i],-order(ap[i]));\n",
    "        Add(aps[i],Callback(showfacts,[ap[i]]));\n",
    "        Add(aps[i],FrancyMessage(Concatenation(\"{\",\n",
    "            JoinStringsWithSeparator(List(FactorizationsElementWRTNumericalSemigroup(ap[i],s), \n",
    "            f->Concatenation(\"(\",JoinStringsWithSeparator(f,\",\"),\")\")),\",\"),\")\")));\n",
    "        Add(graphHasse,aps[i]);\n",
    "    od;\n",
    "    for r in c do\n",
    "        Add(graphHasse,Link(aps[r[1]],aps[r[2]]));\n",
    "    od;\n",
    "    canvas:=Canvas(\"Apery\");\n",
    "    Add(canvas,graphHasse);\n",
    "    return Draw(canvas);    \n",
    "end;"
   ]
  },
  {
   "cell_type": "code",
   "execution_count": 4,
   "metadata": {
    "scrolled": false
   },
   "outputs": [
    {
     "data": {
      "application/vnd.francy+json": "{\"version\" : \"0.6.0\",\"mime\" : \"application\\/vnd.francy+json\",\"canvas\" : {\"width\" : 800,\"height\" : 600,\"id\" : \"F45\",\"title\" : \"Apery\",\"zoomToFit\" : true,\"texTypesetting\" : false,\"menus\" : {},\"graph\" : {\"type\" : \"hasse\",\"id\" : \"F1\",\"simulation\" : true,\"collapsed\" : true,\"drag\" : true,\"showNeighbours\" : false,\"nodes\" : {\"F2\" : {\"x\" : 0,\"y\" : 0,\"type\" : \"circle\",\"size\" : 10,\"id\" : \"F2\",\"title\" : \"0\",\"layer\" : 0,\"color\" : \"\",\"highlight\" : true,\"parent\" : \"\",\"menus\" : {},\"messages\" : {\"F4\" : {\"type\" : \"default\",\"id\" : \"F4\",\"text\" : \"{(0,0,0))\",\"title\" : \"\"}},\"callbacks\" : {\"F3\" : {\"func\" : \"unknown\",\"id\" : \"F3\",\"trigger\" : \"click\",\"knownArgs\" : [\"0\"],\"requiredArgs\" : {}}}},\"F5\" : {\"x\" : 0,\"y\" : 0,\"type\" : \"circle\",\"size\" : 10,\"id\" : \"F5\",\"title\" : \"31\",\"layer\" : -1,\"color\" : \"\",\"highlight\" : true,\"parent\" : \"\",\"menus\" : {},\"messages\" : {\"F7\" : {\"type\" : \"default\",\"id\" : \"F7\",\"text\" : \"{(0,0,1))\",\"title\" : \"\"}},\"callbacks\" : {\"F6\" : {\"func\" : \"unknown\",\"id\" : \"F6\",\"trigger\" : \"click\",\"knownArgs\" : [\"31\"],\"requiredArgs\" : {}}}},\"F8\" : {\"x\" : 0,\"y\" : 0,\"type\" : \"circle\",\"size\" : 10,\"id\" : \"F8\",\"title\" : \"62\",\"layer\" : -2,\"color\" : \"\",\"highlight\" : true,\"parent\" : \"\",\"menus\" : {},\"messages\" : {\"F10\" : {\"type\" : \"default\",\"id\" : \"F10\",\"text\" : \"{(0,0,2))\",\"title\" : \"\"}},\"callbacks\" : {\"F9\" : {\"func\" : \"unknown\",\"id\" : \"F9\",\"trigger\" : \"click\",\"knownArgs\" : [\"62\"],\"requiredArgs\" : {}}}},\"F11\" : {\"x\" : 0,\"y\" : 0,\"type\" : \"circle\",\"size\" : 10,\"id\" : \"F11\",\"title\" : \"93\",\"layer\" : -3,\"color\" : \"\",\"highlight\" : true,\"parent\" : \"\",\"menus\" : {},\"messages\" : {\"F13\" : {\"type\" : \"default\",\"id\" : \"F13\",\"text\" : \"{(0,0,3))\",\"title\" : \"\"}},\"callbacks\" : {\"F12\" : {\"func\" : \"unknown\",\"id\" : \"F12\",\"trigger\" : \"click\",\"knownArgs\" : [\"93\"],\"requiredArgs\" : {}}}},\"F14\" : {\"x\" : 0,\"y\" : 0,\"type\" : \"circle\",\"size\" : 10,\"id\" : \"F14\",\"title\" : \"54\",\"layer\" : -2,\"color\" : \"\",\"highlight\" : true,\"parent\" : \"\",\"menus\" : {},\"messages\" : {\"F16\" : {\"type\" : \"default\",\"id\" : \"F16\",\"text\" : \"{(0,2,0))\",\"title\" : \"\"}},\"callbacks\" : {\"F15\" : {\"func\" : \"unknown\",\"id\" : \"F15\",\"trigger\" : \"click\",\"knownArgs\" : [\"54\"],\"requiredArgs\" : {}}}},\"F17\" : {\"x\" : 0,\"y\" : 0,\"type\" : \"circle\",\"size\" : 10,\"id\" : \"F17\",\"title\" : \"85\",\"layer\" : -3,\"color\" : \"\",\"highlight\" : true,\"parent\" : \"\",\"menus\" : {},\"messages\" : {\"F19\" : {\"type\" : \"default\",\"id\" : \"F19\",\"text\" : \"{(0,2,1))\",\"title\" : \"\"}},\"callbacks\" : {\"F18\" : {\"func\" : \"unknown\",\"id\" : \"F18\",\"trigger\" : \"click\",\"knownArgs\" : [\"85\"],\"requiredArgs\" : {}}}},\"F20\" : {\"x\" : 0,\"y\" : 0,\"type\" : \"circle\",\"size\" : 10,\"id\" : \"F20\",\"title\" : \"116\",\"layer\" : -4,\"color\" : \"\",\"highlight\" : true,\"parent\" : \"\",\"menus\" : {},\"messages\" : {\"F22\" : {\"type\" : \"default\",\"id\" : \"F22\",\"text\" : \"{(0,2,2))\",\"title\" : \"\"}},\"callbacks\" : {\"F21\" : {\"func\" : \"unknown\",\"id\" : \"F21\",\"trigger\" : \"click\",\"knownArgs\" : [\"116\"],\"requiredArgs\" : {}}}},\"F23\" : {\"x\" : 0,\"y\" : 0,\"type\" : \"circle\",\"size\" : 10,\"id\" : \"F23\",\"title\" : \"27\",\"layer\" : -1,\"color\" : \"\",\"highlight\" : true,\"parent\" : \"\",\"menus\" : {},\"messages\" : {\"F25\" : {\"type\" : \"default\",\"id\" : \"F25\",\"text\" : \"{(0,1,0))\",\"title\" : \"\"}},\"callbacks\" : {\"F24\" : {\"func\" : \"unknown\",\"id\" : \"F24\",\"trigger\" : \"click\",\"knownArgs\" : [\"27\"],\"requiredArgs\" : {}}}},\"F26\" : {\"x\" : 0,\"y\" : 0,\"type\" : \"circle\",\"size\" : 10,\"id\" : \"F26\",\"title\" : \"58\",\"layer\" : -2,\"color\" : \"\",\"highlight\" : true,\"parent\" : \"\",\"menus\" : {},\"messages\" : {\"F28\" : {\"type\" : \"default\",\"id\" : \"F28\",\"text\" : \"{(0,1,1))\",\"title\" : \"\"}},\"callbacks\" : {\"F27\" : {\"func\" : \"unknown\",\"id\" : \"F27\",\"trigger\" : \"click\",\"knownArgs\" : [\"58\"],\"requiredArgs\" : {}}}},\"F29\" : {\"x\" : 0,\"y\" : 0,\"type\" : \"circle\",\"size\" : 10,\"id\" : \"F29\",\"title\" : \"89\",\"layer\" : -3,\"color\" : \"\",\"highlight\" : true,\"parent\" : \"\",\"menus\" : {},\"messages\" : {\"F31\" : {\"type\" : \"default\",\"id\" : \"F31\",\"text\" : \"{(0,1,2))\",\"title\" : \"\"}},\"callbacks\" : {\"F30\" : {\"func\" : \"unknown\",\"id\" : \"F30\",\"trigger\" : \"click\",\"knownArgs\" : [\"89\"],\"requiredArgs\" : {}}}}},\"links\" : {\"F32\" : {\"source\" : \"F5\",\"weight\" : 1,\"id\" : \"F32\",\"target\" : \"F2\",\"color\" : \"\"},\"F33\" : {\"source\" : \"F8\",\"weight\" : 1,\"id\" : \"F33\",\"target\" : \"F5\",\"color\" : \"\"},\"F34\" : {\"source\" : \"F11\",\"weight\" : 1,\"id\" : \"F34\",\"target\" : \"F8\",\"color\" : \"\"},\"F35\" : {\"source\" : \"F14\",\"weight\" : 1,\"id\" : \"F35\",\"target\" : \"F23\",\"color\" : \"\"},\"F36\" : {\"source\" : \"F17\",\"weight\" : 1,\"id\" : \"F36\",\"target\" : \"F14\",\"color\" : \"\"},\"F37\" : {\"source\" : \"F17\",\"weight\" : 1,\"id\" : \"F37\",\"target\" : \"F26\",\"color\" : \"\"},\"F38\" : {\"source\" : \"F20\",\"weight\" : 1,\"id\" : \"F38\",\"target\" : \"F17\",\"color\" : \"\"},\"F39\" : {\"source\" : \"F20\",\"weight\" : 1,\"id\" : \"F39\",\"target\" : \"F29\",\"color\" : \"\"},\"F40\" : {\"source\" : \"F23\",\"weight\" : 1,\"id\" : \"F40\",\"target\" : \"F2\",\"color\" : \"\"},\"F41\" : {\"source\" : \"F26\",\"weight\" : 1,\"id\" : \"F41\",\"target\" : \"F5\",\"color\" : \"\"},\"F42\" : {\"source\" : \"F26\",\"weight\" : 1,\"id\" : \"F42\",\"target\" : \"F23\",\"color\" : \"\"},\"F43\" : {\"source\" : \"F29\",\"weight\" : 1,\"id\" : \"F43\",\"target\" : \"F8\",\"color\" : \"\"},\"F44\" : {\"source\" : \"F29\",\"weight\" : 1,\"id\" : \"F44\",\"target\" : \"F26\",\"color\" : \"\"}}},\"messages\" : {}}}"
     },
     "execution_count": 4,
     "metadata": {
      "text/plain": "~empty~"
     },
     "output_type": "execute_result"
    }
   ],
   "source": [
    "apery(NumericalSemigroup(10,51,27,31));"
   ]
  },
  {
   "cell_type": "markdown",
   "metadata": {},
   "source": [
    "## Drawing sons of numerical semigroups"
   ]
  },
  {
   "cell_type": "markdown",
   "metadata": {},
   "source": [
    "This example shows how to draw the sons of a numerical semigroup in the tree of numerical semigroups. If we click on a node, then the sets of sons of that node are added to the canvas, and if the node is a leaf, a warning message is displayed.\n",
    "\n",
    "Passing the mouse over a node shows the set of minimal generators of the node."
   ]
  },
  {
   "cell_type": "code",
   "execution_count": 5,
   "metadata": {},
   "outputs": [
    {
     "data": {
      "text/plain": [
       "function( s ) ... end"
      ]
     },
     "execution_count": 5,
     "metadata": {
      "text/plain": "function( s ) ... end"
     },
     "output_type": "execute_result"
    }
   ],
   "source": [
    "sons:=function(s)\n",
    "    local gens, frb, desc, graphHasse, d, shpr, shp, canvas, sonsf, i, gn, lbl;\n",
    "    \n",
    "    \n",
    "    sonsf:=function(s,n)\n",
    "        local gens, frb, desc, d, shp, i, lbl, gn;\n",
    "\n",
    "        frb:=FrobeniusNumber(s);\n",
    "        gens:=Filtered(MinimalGenerators(s), x-> x>frb);\n",
    "        desc:=List(gens, g->RemoveMinimalGeneratorFromNumericalSemigroup(g,s));\n",
    "        gn:=Genus(s);\n",
    "        i:=0;\n",
    "        for d in desc do\n",
    "            i:=i+1;\n",
    "            lbl:=Concatenation(\"〈\",JoinStringsWithSeparator(MinimalGenerators(d),\",\"),\"〉\");\n",
    "            shp:=Shape(ShapeType!.CIRCLE, lbl);\n",
    "            SetId(shp,lbl);\n",
    "            SetLayer(shp,Genus(d));\n",
    "            SetSize(shp,1);\n",
    "            Add(shp,Callback(sonsf,[d,shp]));\n",
    "            Add(shp,FrancyMessage(String(MinimalGenerators(d))));\n",
    "            Add(graphHasse,shp);\n",
    "            Add(graphHasse,Link(n,shp));\n",
    "        od;\n",
    "        if desc<>[] then \n",
    "            return Draw(canvas);\n",
    "        fi;\n",
    "        Add(canvas, FrancyMessage(FrancyMessageType.WARNING, \"This semigroup is a leaf\"));\n",
    "        return Draw(canvas);\n",
    "    end;\n",
    "    \n",
    "    frb:=FrobeniusNumber(s);\n",
    "    gens:=Filtered(MinimalGenerators(s), x-> x>frb);\n",
    "    desc:=List(gens, g->RemoveMinimalGeneratorFromNumericalSemigroup(g,s));\n",
    "    gn:=Genus(s);\n",
    "\n",
    "    graphHasse := Graph(GraphType.HASSE);\n",
    "    lbl:=Concatenation(\"〈\",JoinStringsWithSeparator(MinimalGenerators(s),\",\"),\"〉\");\n",
    "    shpr:=Shape(ShapeType!.CIRCLE, lbl);\n",
    "    SetSize(shpr,1);\n",
    "    Add(shpr,FrancyMessage(String(MinimalGenerators(s))));\n",
    "    SetLayer(shpr,Genus(s));\n",
    "    Add(graphHasse,shpr);\n",
    "    i:=0;\n",
    "    for d in desc do\n",
    "        i:=i+1;\n",
    "        lbl:=Concatenation(\"〈\",JoinStringsWithSeparator(MinimalGenerators(d),\",\"),\"〉\");\n",
    "        shp:=Shape(ShapeType!.CIRCLE, lbl);\n",
    "        SetId(shp,lbl);\n",
    "        SetLayer(shp,Genus(d));\n",
    "        SetSize(shp,1);\n",
    "        Add(shp,Callback(sonsf,[d,shp]));\n",
    "        Add(shp,FrancyMessage(String(MinimalGenerators(d))));\n",
    "        Add(graphHasse,shp);\n",
    "        Add(graphHasse,Link(shpr,shp));\n",
    "    od;\n",
    "    canvas:=Canvas(\"Sons of a numerical semigroup\");\n",
    "    Add(canvas,graphHasse);\n",
    "    return Draw(canvas);    \n",
    "end;"
   ]
  },
  {
   "cell_type": "code",
   "execution_count": 6,
   "metadata": {
    "scrolled": false
   },
   "outputs": [
    {
     "data": {
      "application/vnd.francy+json": "{\"version\" : \"0.6.0\",\"mime\" : \"application\\/vnd.francy+json\",\"canvas\" : {\"width\" : 800,\"height\" : 600,\"id\" : \"F57\",\"title\" : \"Sons of a numerical semigroup\",\"zoomToFit\" : true,\"texTypesetting\" : false,\"menus\" : {},\"graph\" : {\"type\" : \"hasse\",\"id\" : \"F46\",\"simulation\" : true,\"collapsed\" : true,\"drag\" : false,\"showNeighbours\" : false,\"nodes\" : {\"F47\" : {\"x\" : 0,\"y\" : 0,\"type\" : \"circle\",\"size\" : 1,\"id\" : \"F47\",\"title\" : \"〈3,5,7〉\",\"layer\" : 3,\"color\" : \"\",\"highlight\" : true,\"parent\" : \"\",\"menus\" : {},\"messages\" : {\"F48\" : {\"type\" : \"default\",\"id\" : \"F48\",\"text\" : \"[ 3, 5, 7 ]\",\"title\" : \"\"}},\"callbacks\" : {}},\"〈3,7,8〉\" : {\"x\" : 0,\"y\" : 0,\"type\" : \"circle\",\"size\" : 1,\"id\" : \"〈3,7,8〉\",\"title\" : \"〈3,7,8〉\",\"layer\" : 4,\"color\" : \"\",\"highlight\" : true,\"parent\" : \"\",\"menus\" : {},\"messages\" : {\"F51\" : {\"type\" : \"default\",\"id\" : \"F51\",\"text\" : \"[ 3, 7, 8 ]\",\"title\" : \"\"}},\"callbacks\" : {\"F50\" : {\"func\" : \"unknown\",\"id\" : \"F50\",\"trigger\" : \"click\",\"knownArgs\" : [\"<object>\",\"<object>\"],\"requiredArgs\" : {}}}},\"〈3,5〉\" : {\"x\" : 0,\"y\" : 0,\"type\" : \"circle\",\"size\" : 1,\"id\" : \"〈3,5〉\",\"title\" : \"〈3,5〉\",\"layer\" : 4,\"color\" : \"\",\"highlight\" : true,\"parent\" : \"\",\"menus\" : {},\"messages\" : {\"F55\" : {\"type\" : \"default\",\"id\" : \"F55\",\"text\" : \"[ 3, 5 ]\",\"title\" : \"\"}},\"callbacks\" : {\"F54\" : {\"func\" : \"unknown\",\"id\" : \"F54\",\"trigger\" : \"click\",\"knownArgs\" : [\"<object>\",\"<object>\"],\"requiredArgs\" : {}}}}},\"links\" : {\"F52\" : {\"source\" : \"F47\",\"weight\" : 1,\"id\" : \"F52\",\"target\" : \"〈3,7,8〉\",\"color\" : \"\"},\"F56\" : {\"source\" : \"F47\",\"weight\" : 1,\"id\" : \"F56\",\"target\" : \"〈3,5〉\",\"color\" : \"\"}}},\"messages\" : {}}}"
     },
     "execution_count": 6,
     "metadata": {
      "text/plain": "~empty~"
     },
     "output_type": "execute_result"
    }
   ],
   "source": [
    "sons(NumericalSemigroup(3,5,7));"
   ]
  },
  {
   "cell_type": "markdown",
   "metadata": {},
   "source": [
    "# Tree of numerical semigroups\n",
    "\n",
    "Now we draw the sons of a numerical semigroup `s` in the tree of numerical semigroups up to level `l`."
   ]
  },
  {
   "cell_type": "code",
   "execution_count": 7,
   "metadata": {},
   "outputs": [
    {
     "data": {
      "text/plain": [
       "function( s, l, generators ) ... end"
      ]
     },
     "execution_count": 7,
     "metadata": {
      "text/plain": "function( s, l, generators ) ... end"
     },
     "output_type": "execute_result"
    }
   ],
   "source": [
    "sonstree:=function(s,l,generators)\n",
    "    local gens, frb, desc, graphTreee, d, shpr, shp, canvas, sonsf, lbl;\n",
    "\n",
    "\n",
    "    sonsf:=function(s,n,lv)\n",
    "        local gens, frb, desc, d, shp;\n",
    "        if lv=0 then\n",
    "            return ;\n",
    "        fi;\n",
    "        frb:=FrobeniusNumber(s);\n",
    "        gens:=Filtered(generators(s), x-> x>frb);\n",
    "        desc:=List(gens, g->RemoveMinimalGeneratorFromNumericalSemigroup(g,s));\n",
    "        for d in desc do\n",
    "            lbl:=Concatenation(\"{\",JoinStringsWithSeparator(generators(d),\",\"),\"}\");\n",
    "            shp:=Shape(ShapeType!.CIRCLE, lbl);\n",
    "            SetSize(shp,5);\n",
    "            Add(graphTreee,shp);\n",
    "            SetParentNode(shp,n);\n",
    "            sonsf(d,shp,lv-1);\n",
    "        od;\n",
    "        if desc<>[] then\n",
    "            return ;\n",
    "        fi;\n",
    "        #Add(canvas, FrancyMessage(FrancyMessageType.WARNING, \"This semigroup is a leaf\"));\n",
    "        return ;\n",
    "    end;\n",
    "\n",
    "    frb:=FrobeniusNumber(s);\n",
    "    gens:=Filtered(generators(s), x-> x>frb);\n",
    "    desc:=List(gens, g->RemoveMinimalGeneratorFromNumericalSemigroup(g,s));\n",
    "\n",
    "    graphTreee := Graph(GraphType.TREE);\n",
    "    SetCollapsed(graphTreee,false);\n",
    "    shpr:=Shape(ShapeType!.CIRCLE, \"S\");\n",
    "    SetSize(shpr,5);\n",
    "    Add(shpr,FrancyMessage(String(generators(s))));\n",
    "    Add(graphTreee,shpr);\n",
    "    canvas:=Canvas(\"Sons of a numerical semigroup\");\n",
    "    Add(canvas,graphTreee);\n",
    "    sonsf(s,shpr,l);\n",
    "    return Draw(canvas);\n",
    "end;"
   ]
  },
  {
   "cell_type": "markdown",
   "metadata": {},
   "source": [
    "Darker dots correspond either to leaves or to elements with highest genus. Blue nodes can be collapsed by clicking.  "
   ]
  },
  {
   "cell_type": "code",
   "execution_count": 8,
   "metadata": {},
   "outputs": [
    {
     "data": {
      "application/vnd.francy+json": "{\"version\" : \"0.6.0\",\"mime\" : \"application\\/vnd.francy+json\",\"canvas\" : {\"width\" : 800,\"height\" : 600,\"id\" : \"F61\",\"title\" : \"Sons of a numerical semigroup\",\"zoomToFit\" : true,\"texTypesetting\" : false,\"menus\" : {},\"graph\" : {\"type\" : \"tree\",\"id\" : \"F58\",\"simulation\" : true,\"collapsed\" : false,\"drag\" : false,\"showNeighbours\" : false,\"nodes\" : {\"F59\" : {\"x\" : 0,\"y\" : 0,\"type\" : \"circle\",\"size\" : 5,\"id\" : \"F59\",\"title\" : \"S\",\"layer\" : 0,\"color\" : \"\",\"highlight\" : true,\"parent\" : \"\",\"menus\" : {},\"messages\" : {\"F60\" : {\"type\" : \"default\",\"id\" : \"F60\",\"text\" : \"[ 1 ]\",\"title\" : \"\"}},\"callbacks\" : {}},\"F62\" : {\"x\" : 0,\"y\" : 0,\"type\" : \"circle\",\"size\" : 5,\"id\" : \"F62\",\"title\" : \"{2,3}\",\"layer\" : 0,\"color\" : \"\",\"highlight\" : true,\"parent\" : \"F59\",\"menus\" : {},\"messages\" : {},\"callbacks\" : {}},\"F63\" : {\"x\" : 0,\"y\" : 0,\"type\" : \"circle\",\"size\" : 5,\"id\" : \"F63\",\"title\" : \"{3,4,5}\",\"layer\" : 0,\"color\" : \"\",\"highlight\" : true,\"parent\" : \"F62\",\"menus\" : {},\"messages\" : {},\"callbacks\" : {}},\"F64\" : {\"x\" : 0,\"y\" : 0,\"type\" : \"circle\",\"size\" : 5,\"id\" : \"F64\",\"title\" : \"{4,5,6,7}\",\"layer\" : 0,\"color\" : \"\",\"highlight\" : true,\"parent\" : \"F63\",\"menus\" : {},\"messages\" : {},\"callbacks\" : {}},\"F65\" : {\"x\" : 0,\"y\" : 0,\"type\" : \"circle\",\"size\" : 5,\"id\" : \"F65\",\"title\" : \"{5,6,7,8,9}\",\"layer\" : 0,\"color\" : \"\",\"highlight\" : true,\"parent\" : \"F64\",\"menus\" : {},\"messages\" : {},\"callbacks\" : {}},\"F66\" : {\"x\" : 0,\"y\" : 0,\"type\" : \"circle\",\"size\" : 5,\"id\" : \"F66\",\"title\" : \"{4,6,7,9}\",\"layer\" : 0,\"color\" : \"\",\"highlight\" : true,\"parent\" : \"F64\",\"menus\" : {},\"messages\" : {},\"callbacks\" : {}},\"F67\" : {\"x\" : 0,\"y\" : 0,\"type\" : \"circle\",\"size\" : 5,\"id\" : \"F67\",\"title\" : \"{4,5,7}\",\"layer\" : 0,\"color\" : \"\",\"highlight\" : true,\"parent\" : \"F64\",\"menus\" : {},\"messages\" : {},\"callbacks\" : {}},\"F68\" : {\"x\" : 0,\"y\" : 0,\"type\" : \"circle\",\"size\" : 5,\"id\" : \"F68\",\"title\" : \"{4,5,6}\",\"layer\" : 0,\"color\" : \"\",\"highlight\" : true,\"parent\" : \"F64\",\"menus\" : {},\"messages\" : {},\"callbacks\" : {}},\"F69\" : {\"x\" : 0,\"y\" : 0,\"type\" : \"circle\",\"size\" : 5,\"id\" : \"F69\",\"title\" : \"{3,5,7}\",\"layer\" : 0,\"color\" : \"\",\"highlight\" : true,\"parent\" : \"F63\",\"menus\" : {},\"messages\" : {},\"callbacks\" : {}},\"F70\" : {\"x\" : 0,\"y\" : 0,\"type\" : \"circle\",\"size\" : 5,\"id\" : \"F70\",\"title\" : \"{3,7,8}\",\"layer\" : 0,\"color\" : \"\",\"highlight\" : true,\"parent\" : \"F69\",\"menus\" : {},\"messages\" : {},\"callbacks\" : {}},\"F71\" : {\"x\" : 0,\"y\" : 0,\"type\" : \"circle\",\"size\" : 5,\"id\" : \"F71\",\"title\" : \"{3,5}\",\"layer\" : 0,\"color\" : \"\",\"highlight\" : true,\"parent\" : \"F69\",\"menus\" : {},\"messages\" : {},\"callbacks\" : {}},\"F72\" : {\"x\" : 0,\"y\" : 0,\"type\" : \"circle\",\"size\" : 5,\"id\" : \"F72\",\"title\" : \"{3,4}\",\"layer\" : 0,\"color\" : \"\",\"highlight\" : true,\"parent\" : \"F63\",\"menus\" : {},\"messages\" : {},\"callbacks\" : {}},\"F73\" : {\"x\" : 0,\"y\" : 0,\"type\" : \"circle\",\"size\" : 5,\"id\" : \"F73\",\"title\" : \"{2,5}\",\"layer\" : 0,\"color\" : \"\",\"highlight\" : true,\"parent\" : \"F62\",\"menus\" : {},\"messages\" : {},\"callbacks\" : {}},\"F74\" : {\"x\" : 0,\"y\" : 0,\"type\" : \"circle\",\"size\" : 5,\"id\" : \"F74\",\"title\" : \"{2,7}\",\"layer\" : 0,\"color\" : \"\",\"highlight\" : true,\"parent\" : \"F73\",\"menus\" : {},\"messages\" : {},\"callbacks\" : {}},\"F75\" : {\"x\" : 0,\"y\" : 0,\"type\" : \"circle\",\"size\" : 5,\"id\" : \"F75\",\"title\" : \"{2,9}\",\"layer\" : 0,\"color\" : \"\",\"highlight\" : true,\"parent\" : \"F74\",\"menus\" : {},\"messages\" : {},\"callbacks\" : {}}},\"links\" : {}},\"messages\" : {}}}"
     },
     "execution_count": 8,
     "metadata": {
      "text/plain": "~empty~"
     },
     "output_type": "execute_result"
    }
   ],
   "source": [
    "sonstree(NumericalSemigroup(1),4,MinimalGenerators);"
   ]
  },
  {
   "cell_type": "markdown",
   "metadata": {},
   "source": [
    "And we can get also the tree of Arf numerical semigroups"
   ]
  },
  {
   "cell_type": "code",
   "execution_count": 9,
   "metadata": {},
   "outputs": [
    {
     "data": {
      "application/vnd.francy+json": "{\"version\" : \"0.6.0\",\"mime\" : \"application\\/vnd.francy+json\",\"canvas\" : {\"width\" : 800,\"height\" : 600,\"id\" : \"F79\",\"title\" : \"Sons of a numerical semigroup\",\"zoomToFit\" : true,\"texTypesetting\" : false,\"menus\" : {},\"graph\" : {\"type\" : \"tree\",\"id\" : \"F76\",\"simulation\" : true,\"collapsed\" : false,\"drag\" : false,\"showNeighbours\" : false,\"nodes\" : {\"F77\" : {\"x\" : 0,\"y\" : 0,\"type\" : \"circle\",\"size\" : 5,\"id\" : \"F77\",\"title\" : \"S\",\"layer\" : 0,\"color\" : \"\",\"highlight\" : true,\"parent\" : \"\",\"menus\" : {},\"messages\" : {\"F78\" : {\"type\" : \"default\",\"id\" : \"F78\",\"text\" : \"[ 1 ]\",\"title\" : \"\"}},\"callbacks\" : {}},\"F80\" : {\"x\" : 0,\"y\" : 0,\"type\" : \"circle\",\"size\" : 5,\"id\" : \"F80\",\"title\" : \"{2,3}\",\"layer\" : 0,\"color\" : \"\",\"highlight\" : true,\"parent\" : \"F77\",\"menus\" : {},\"messages\" : {},\"callbacks\" : {}},\"F81\" : {\"x\" : 0,\"y\" : 0,\"type\" : \"circle\",\"size\" : 5,\"id\" : \"F81\",\"title\" : \"{3,4}\",\"layer\" : 0,\"color\" : \"\",\"highlight\" : true,\"parent\" : \"F80\",\"menus\" : {},\"messages\" : {},\"callbacks\" : {}},\"F82\" : {\"x\" : 0,\"y\" : 0,\"type\" : \"circle\",\"size\" : 5,\"id\" : \"F82\",\"title\" : \"{4,5}\",\"layer\" : 0,\"color\" : \"\",\"highlight\" : true,\"parent\" : \"F81\",\"menus\" : {},\"messages\" : {},\"callbacks\" : {}},\"F83\" : {\"x\" : 0,\"y\" : 0,\"type\" : \"circle\",\"size\" : 5,\"id\" : \"F83\",\"title\" : \"{5,6}\",\"layer\" : 0,\"color\" : \"\",\"highlight\" : true,\"parent\" : \"F82\",\"menus\" : {},\"messages\" : {},\"callbacks\" : {}},\"F84\" : {\"x\" : 0,\"y\" : 0,\"type\" : \"circle\",\"size\" : 5,\"id\" : \"F84\",\"title\" : \"{6,7}\",\"layer\" : 0,\"color\" : \"\",\"highlight\" : true,\"parent\" : \"F83\",\"menus\" : {},\"messages\" : {},\"callbacks\" : {}},\"F85\" : {\"x\" : 0,\"y\" : 0,\"type\" : \"circle\",\"size\" : 5,\"id\" : \"F85\",\"title\" : \"{7,8}\",\"layer\" : 0,\"color\" : \"\",\"highlight\" : true,\"parent\" : \"F84\",\"menus\" : {},\"messages\" : {},\"callbacks\" : {}},\"F86\" : {\"x\" : 0,\"y\" : 0,\"type\" : \"circle\",\"size\" : 5,\"id\" : \"F86\",\"title\" : \"{8,9}\",\"layer\" : 0,\"color\" : \"\",\"highlight\" : true,\"parent\" : \"F85\",\"menus\" : {},\"messages\" : {},\"callbacks\" : {}},\"F87\" : {\"x\" : 0,\"y\" : 0,\"type\" : \"circle\",\"size\" : 5,\"id\" : \"F87\",\"title\" : \"{9,10}\",\"layer\" : 0,\"color\" : \"\",\"highlight\" : true,\"parent\" : \"F86\",\"menus\" : {},\"messages\" : {},\"callbacks\" : {}},\"F88\" : {\"x\" : 0,\"y\" : 0,\"type\" : \"circle\",\"size\" : 5,\"id\" : \"F88\",\"title\" : \"{8,10,11}\",\"layer\" : 0,\"color\" : \"\",\"highlight\" : true,\"parent\" : \"F86\",\"menus\" : {},\"messages\" : {},\"callbacks\" : {}},\"F89\" : {\"x\" : 0,\"y\" : 0,\"type\" : \"circle\",\"size\" : 5,\"id\" : \"F89\",\"title\" : \"{7,9,10}\",\"layer\" : 0,\"color\" : \"\",\"highlight\" : true,\"parent\" : \"F85\",\"menus\" : {},\"messages\" : {},\"callbacks\" : {}},\"F90\" : {\"x\" : 0,\"y\" : 0,\"type\" : \"circle\",\"size\" : 5,\"id\" : \"F90\",\"title\" : \"{7,10,11}\",\"layer\" : 0,\"color\" : \"\",\"highlight\" : true,\"parent\" : \"F89\",\"menus\" : {},\"messages\" : {},\"callbacks\" : {}},\"F91\" : {\"x\" : 0,\"y\" : 0,\"type\" : \"circle\",\"size\" : 5,\"id\" : \"F91\",\"title\" : \"{7,9,12}\",\"layer\" : 0,\"color\" : \"\",\"highlight\" : true,\"parent\" : \"F89\",\"menus\" : {},\"messages\" : {},\"callbacks\" : {}},\"F92\" : {\"x\" : 0,\"y\" : 0,\"type\" : \"circle\",\"size\" : 5,\"id\" : \"F92\",\"title\" : \"{6,8,9}\",\"layer\" : 0,\"color\" : \"\",\"highlight\" : true,\"parent\" : \"F84\",\"menus\" : {},\"messages\" : {},\"callbacks\" : {}},\"F93\" : {\"x\" : 0,\"y\" : 0,\"type\" : \"circle\",\"size\" : 5,\"id\" : \"F93\",\"title\" : \"{6,9,10}\",\"layer\" : 0,\"color\" : \"\",\"highlight\" : true,\"parent\" : \"F92\",\"menus\" : {},\"messages\" : {},\"callbacks\" : {}},\"F94\" : {\"x\" : 0,\"y\" : 0,\"type\" : \"circle\",\"size\" : 5,\"id\" : \"F94\",\"title\" : \"{6,10,11}\",\"layer\" : 0,\"color\" : \"\",\"highlight\" : true,\"parent\" : \"F93\",\"menus\" : {},\"messages\" : {},\"callbacks\" : {}},\"F95\" : {\"x\" : 0,\"y\" : 0,\"type\" : \"circle\",\"size\" : 5,\"id\" : \"F95\",\"title\" : \"{6,9,11}\",\"layer\" : 0,\"color\" : \"\",\"highlight\" : true,\"parent\" : \"F93\",\"menus\" : {},\"messages\" : {},\"callbacks\" : {}},\"F96\" : {\"x\" : 0,\"y\" : 0,\"type\" : \"circle\",\"size\" : 5,\"id\" : \"F96\",\"title\" : \"{6,8,11}\",\"layer\" : 0,\"color\" : \"\",\"highlight\" : true,\"parent\" : \"F92\",\"menus\" : {},\"messages\" : {},\"callbacks\" : {}},\"F97\" : {\"x\" : 0,\"y\" : 0,\"type\" : \"circle\",\"size\" : 5,\"id\" : \"F97\",\"title\" : \"{6,8,13}\",\"layer\" : 0,\"color\" : \"\",\"highlight\" : true,\"parent\" : \"F96\",\"menus\" : {},\"messages\" : {},\"callbacks\" : {}},\"F98\" : {\"x\" : 0,\"y\" : 0,\"type\" : \"circle\",\"size\" : 5,\"id\" : \"F98\",\"title\" : \"{5,7,8}\",\"layer\" : 0,\"color\" : \"\",\"highlight\" : true,\"parent\" : \"F83\",\"menus\" : {},\"messages\" : {},\"callbacks\" : {}},\"F99\" : {\"x\" : 0,\"y\" : 0,\"type\" : \"circle\",\"size\" : 5,\"id\" : \"F99\",\"title\" : \"{5,8,9}\",\"layer\" : 0,\"color\" : \"\",\"highlight\" : true,\"parent\" : \"F98\",\"menus\" : {},\"messages\" : {},\"callbacks\" : {}},\"F100\" : {\"x\" : 0,\"y\" : 0,\"type\" : \"circle\",\"size\" : 5,\"id\" : \"F100\",\"title\" : \"{5,9}\",\"layer\" : 0,\"color\" : \"\",\"highlight\" : true,\"parent\" : \"F99\",\"menus\" : {},\"messages\" : {},\"callbacks\" : {}},\"F101\" : {\"x\" : 0,\"y\" : 0,\"type\" : \"circle\",\"size\" : 5,\"id\" : \"F101\",\"title\" : \"{5,11}\",\"layer\" : 0,\"color\" : \"\",\"highlight\" : true,\"parent\" : \"F100\",\"menus\" : {},\"messages\" : {},\"callbacks\" : {}},\"F102\" : {\"x\" : 0,\"y\" : 0,\"type\" : \"circle\",\"size\" : 5,\"id\" : \"F102\",\"title\" : \"{5,8}\",\"layer\" : 0,\"color\" : \"\",\"highlight\" : true,\"parent\" : \"F99\",\"menus\" : {},\"messages\" : {},\"callbacks\" : {}},\"F103\" : {\"x\" : 0,\"y\" : 0,\"type\" : \"circle\",\"size\" : 5,\"id\" : \"F103\",\"title\" : \"{5,7}\",\"layer\" : 0,\"color\" : \"\",\"highlight\" : true,\"parent\" : \"F98\",\"menus\" : {},\"messages\" : {},\"callbacks\" : {}},\"F104\" : {\"x\" : 0,\"y\" : 0,\"type\" : \"circle\",\"size\" : 5,\"id\" : \"F104\",\"title\" : \"{4,6,7}\",\"layer\" : 0,\"color\" : \"\",\"highlight\" : true,\"parent\" : \"F82\",\"menus\" : {},\"messages\" : {},\"callbacks\" : {}},\"F105\" : {\"x\" : 0,\"y\" : 0,\"type\" : \"circle\",\"size\" : 5,\"id\" : \"F105\",\"title\" : \"{4,7}\",\"layer\" : 0,\"color\" : \"\",\"highlight\" : true,\"parent\" : \"F104\",\"menus\" : {},\"messages\" : {},\"callbacks\" : {}},\"F106\" : {\"x\" : 0,\"y\" : 0,\"type\" : \"circle\",\"size\" : 5,\"id\" : \"F106\",\"title\" : \"{4,9}\",\"layer\" : 0,\"color\" : \"\",\"highlight\" : true,\"parent\" : \"F105\",\"menus\" : {},\"messages\" : {},\"callbacks\" : {}},\"F107\" : {\"x\" : 0,\"y\" : 0,\"type\" : \"circle\",\"size\" : 5,\"id\" : \"F107\",\"title\" : \"{4,10,11}\",\"layer\" : 0,\"color\" : \"\",\"highlight\" : true,\"parent\" : \"F106\",\"menus\" : {},\"messages\" : {},\"callbacks\" : {}},\"F108\" : {\"x\" : 0,\"y\" : 0,\"type\" : \"circle\",\"size\" : 5,\"id\" : \"F108\",\"title\" : \"{4,11}\",\"layer\" : 0,\"color\" : \"\",\"highlight\" : true,\"parent\" : \"F107\",\"menus\" : {},\"messages\" : {},\"callbacks\" : {}},\"F109\" : {\"x\" : 0,\"y\" : 0,\"type\" : \"circle\",\"size\" : 5,\"id\" : \"F109\",\"title\" : \"{4,10,13}\",\"layer\" : 0,\"color\" : \"\",\"highlight\" : true,\"parent\" : \"F107\",\"menus\" : {},\"messages\" : {},\"callbacks\" : {}},\"F110\" : {\"x\" : 0,\"y\" : 0,\"type\" : \"circle\",\"size\" : 5,\"id\" : \"F110\",\"title\" : \"{4,6,9}\",\"layer\" : 0,\"color\" : \"\",\"highlight\" : true,\"parent\" : \"F104\",\"menus\" : {},\"messages\" : {},\"callbacks\" : {}},\"F111\" : {\"x\" : 0,\"y\" : 0,\"type\" : \"circle\",\"size\" : 5,\"id\" : \"F111\",\"title\" : \"{4,6,11}\",\"layer\" : 0,\"color\" : \"\",\"highlight\" : true,\"parent\" : \"F110\",\"menus\" : {},\"messages\" : {},\"callbacks\" : {}},\"F112\" : {\"x\" : 0,\"y\" : 0,\"type\" : \"circle\",\"size\" : 5,\"id\" : \"F112\",\"title\" : \"{4,6,13}\",\"layer\" : 0,\"color\" : \"\",\"highlight\" : true,\"parent\" : \"F111\",\"menus\" : {},\"messages\" : {},\"callbacks\" : {}},\"F113\" : {\"x\" : 0,\"y\" : 0,\"type\" : \"circle\",\"size\" : 5,\"id\" : \"F113\",\"title\" : \"{4,6,15}\",\"layer\" : 0,\"color\" : \"\",\"highlight\" : true,\"parent\" : \"F112\",\"menus\" : {},\"messages\" : {},\"callbacks\" : {}},\"F114\" : {\"x\" : 0,\"y\" : 0,\"type\" : \"circle\",\"size\" : 5,\"id\" : \"F114\",\"title\" : \"{3,5}\",\"layer\" : 0,\"color\" : \"\",\"highlight\" : true,\"parent\" : \"F81\",\"menus\" : {},\"messages\" : {},\"callbacks\" : {}},\"F115\" : {\"x\" : 0,\"y\" : 0,\"type\" : \"circle\",\"size\" : 5,\"id\" : \"F115\",\"title\" : \"{3,7}\",\"layer\" : 0,\"color\" : \"\",\"highlight\" : true,\"parent\" : \"F114\",\"menus\" : {},\"messages\" : {},\"callbacks\" : {}},\"F116\" : {\"x\" : 0,\"y\" : 0,\"type\" : \"circle\",\"size\" : 5,\"id\" : \"F116\",\"title\" : \"{3,8}\",\"layer\" : 0,\"color\" : \"\",\"highlight\" : true,\"parent\" : \"F115\",\"menus\" : {},\"messages\" : {},\"callbacks\" : {}},\"F117\" : {\"x\" : 0,\"y\" : 0,\"type\" : \"circle\",\"size\" : 5,\"id\" : \"F117\",\"title\" : \"{3,10}\",\"layer\" : 0,\"color\" : \"\",\"highlight\" : true,\"parent\" : \"F116\",\"menus\" : {},\"messages\" : {},\"callbacks\" : {}},\"F118\" : {\"x\" : 0,\"y\" : 0,\"type\" : \"circle\",\"size\" : 5,\"id\" : \"F118\",\"title\" : \"{3,11}\",\"layer\" : 0,\"color\" : \"\",\"highlight\" : true,\"parent\" : \"F117\",\"menus\" : {},\"messages\" : {},\"callbacks\" : {}},\"F119\" : {\"x\" : 0,\"y\" : 0,\"type\" : \"circle\",\"size\" : 5,\"id\" : \"F119\",\"title\" : \"{3,13}\",\"layer\" : 0,\"color\" : \"\",\"highlight\" : true,\"parent\" : \"F118\",\"menus\" : {},\"messages\" : {},\"callbacks\" : {}},\"F120\" : {\"x\" : 0,\"y\" : 0,\"type\" : \"circle\",\"size\" : 5,\"id\" : \"F120\",\"title\" : \"{2,5}\",\"layer\" : 0,\"color\" : \"\",\"highlight\" : true,\"parent\" : \"F80\",\"menus\" : {},\"messages\" : {},\"callbacks\" : {}},\"F121\" : {\"x\" : 0,\"y\" : 0,\"type\" : \"circle\",\"size\" : 5,\"id\" : \"F121\",\"title\" : \"{2,7}\",\"layer\" : 0,\"color\" : \"\",\"highlight\" : true,\"parent\" : \"F120\",\"menus\" : {},\"messages\" : {},\"callbacks\" : {}},\"F122\" : {\"x\" : 0,\"y\" : 0,\"type\" : \"circle\",\"size\" : 5,\"id\" : \"F122\",\"title\" : \"{2,9}\",\"layer\" : 0,\"color\" : \"\",\"highlight\" : true,\"parent\" : \"F121\",\"menus\" : {},\"messages\" : {},\"callbacks\" : {}},\"F123\" : {\"x\" : 0,\"y\" : 0,\"type\" : \"circle\",\"size\" : 5,\"id\" : \"F123\",\"title\" : \"{2,11}\",\"layer\" : 0,\"color\" : \"\",\"highlight\" : true,\"parent\" : \"F122\",\"menus\" : {},\"messages\" : {},\"callbacks\" : {}},\"F124\" : {\"x\" : 0,\"y\" : 0,\"type\" : \"circle\",\"size\" : 5,\"id\" : \"F124\",\"title\" : \"{2,13}\",\"layer\" : 0,\"color\" : \"\",\"highlight\" : true,\"parent\" : \"F123\",\"menus\" : {},\"messages\" : {},\"callbacks\" : {}},\"F125\" : {\"x\" : 0,\"y\" : 0,\"type\" : \"circle\",\"size\" : 5,\"id\" : \"F125\",\"title\" : \"{2,15}\",\"layer\" : 0,\"color\" : \"\",\"highlight\" : true,\"parent\" : \"F124\",\"menus\" : {},\"messages\" : {},\"callbacks\" : {}},\"F126\" : {\"x\" : 0,\"y\" : 0,\"type\" : \"circle\",\"size\" : 5,\"id\" : \"F126\",\"title\" : \"{2,17}\",\"layer\" : 0,\"color\" : \"\",\"highlight\" : true,\"parent\" : \"F125\",\"menus\" : {},\"messages\" : {},\"callbacks\" : {}}},\"links\" : {}},\"messages\" : {}}}"
     },
     "execution_count": 9,
     "metadata": {
      "text/plain": "~empty~"
     },
     "output_type": "execute_result"
    }
   ],
   "source": [
    "sonstree(NumericalSemigroup(1),8,ArfCharactersOfArfNumericalSemigroup);"
   ]
  },
  {
   "cell_type": "markdown",
   "metadata": {},
   "source": [
    "## Oversemigroups"
   ]
  },
  {
   "cell_type": "code",
   "execution_count": 10,
   "metadata": {},
   "outputs": [
    {
     "data": {
      "text/plain": [
       "function( s ) ... end"
      ]
     },
     "execution_count": 10,
     "metadata": {
      "text/plain": "function( s ) ... end"
     },
     "output_type": "execute_result"
    }
   ],
   "source": [
    "oversemigroups:=function(s)\n",
    "    local ov, graphHasse, canvas,c,i,r,ovs,n,hasse,lbl;\n",
    "    \n",
    "    hasse:=function(rel)\n",
    "      local dom, out;\n",
    "      dom:=Flat(rel);\n",
    "      out:=Filtered(rel, p-> ForAny(dom, x->([p[1],x] in rel) and ([x,p[2]] in rel)));\n",
    "      return Difference(rel,out);\n",
    "    end;\n",
    "\n",
    "    ov:=OverSemigroupsNumericalSemigroup(s);\n",
    "    n:=Length(ov);\n",
    "    graphHasse := Graph(GraphType.HASSE);\n",
    "    SetSimulation(graphHasse,true);\n",
    "    SetDrag(graphHasse,true);\n",
    "    c:=Cartesian([1..n],[1..n]);\n",
    "    c:=Filtered(c, p-> p[2]<>p[1]);\n",
    "    c:=Filtered(c, p-> IsSubset(ov[p[1]],ov[p[2]]));\n",
    "    c:=hasse(c);\n",
    "    ovs:=[];\n",
    "    for i in [1..n] do\n",
    "    lbl:=Concatenation(\"〈\",JoinStringsWithSeparator(MinimalGenerators(ov[i]),\",\"),\"〉\");\n",
    "\n",
    "\n",
    "        if IsIrreducible(ov[i]) then\n",
    "            ovs[i]:=Shape(ShapeType!.DIAMOND, lbl);\n",
    "        else\n",
    "            ovs[i]:=Shape(ShapeType!.CIRCLE, lbl);\n",
    "        fi;\n",
    "        SetLayer(ovs[i],Genus(ov[i]));\n",
    "    SetSize(ovs[i],2);\n",
    "    Add(graphHasse,ovs[i]);\n",
    "    od;\n",
    "    for r in c do\n",
    "        Add(graphHasse,Link(ovs[r[1]],ovs[r[2]]));\n",
    "    od;\n",
    "    canvas:=Canvas(\"Oversemigroups\");\n",
    "    Add(canvas,graphHasse);\n",
    "    return Draw(canvas);    \n",
    "end;"
   ]
  },
  {
   "cell_type": "markdown",
   "metadata": {},
   "source": [
    "A Hasse diagram of the set of oversemigroups of the given numerical semigroup is displayed. Irreducible numerical semigroups are drawn as diamonds. "
   ]
  },
  {
   "cell_type": "code",
   "execution_count": 11,
   "metadata": {
    "scrolled": false
   },
   "outputs": [
    {
     "data": {
      "application/vnd.francy+json": "{\"version\" : \"0.6.0\",\"mime\" : \"application\\/vnd.francy+json\",\"canvas\" : {\"width\" : 800,\"height\" : 600,\"id\" : \"F171\",\"title\" : \"Oversemigroups\",\"zoomToFit\" : true,\"texTypesetting\" : false,\"menus\" : {},\"graph\" : {\"type\" : \"hasse\",\"id\" : \"F127\",\"simulation\" : true,\"collapsed\" : true,\"drag\" : true,\"showNeighbours\" : false,\"nodes\" : {\"F128\" : {\"x\" : 0,\"y\" : 0,\"type\" : \"diamond\",\"size\" : 2,\"id\" : \"F128\",\"title\" : \"〈1〉\",\"layer\" : 0,\"color\" : \"\",\"highlight\" : true,\"parent\" : \"\",\"menus\" : {},\"messages\" : {},\"callbacks\" : {}},\"F129\" : {\"x\" : 0,\"y\" : 0,\"type\" : \"diamond\",\"size\" : 2,\"id\" : \"F129\",\"title\" : \"〈2,3〉\",\"layer\" : 1,\"color\" : \"\",\"highlight\" : true,\"parent\" : \"\",\"menus\" : {},\"messages\" : {},\"callbacks\" : {}},\"F130\" : {\"x\" : 0,\"y\" : 0,\"type\" : \"diamond\",\"size\" : 2,\"id\" : \"F130\",\"title\" : \"〈2,5〉\",\"layer\" : 2,\"color\" : \"\",\"highlight\" : true,\"parent\" : \"\",\"menus\" : {},\"messages\" : {},\"callbacks\" : {}},\"F131\" : {\"x\" : 0,\"y\" : 0,\"type\" : \"diamond\",\"size\" : 2,\"id\" : \"F131\",\"title\" : \"〈2,7〉\",\"layer\" : 3,\"color\" : \"\",\"highlight\" : true,\"parent\" : \"\",\"menus\" : {},\"messages\" : {},\"callbacks\" : {}},\"F132\" : {\"x\" : 0,\"y\" : 0,\"type\" : \"diamond\",\"size\" : 2,\"id\" : \"F132\",\"title\" : \"〈3,4,5〉\",\"layer\" : 2,\"color\" : \"\",\"highlight\" : true,\"parent\" : \"\",\"menus\" : {},\"messages\" : {},\"callbacks\" : {}},\"F133\" : {\"x\" : 0,\"y\" : 0,\"type\" : \"diamond\",\"size\" : 2,\"id\" : \"F133\",\"title\" : \"〈3,4〉\",\"layer\" : 3,\"color\" : \"\",\"highlight\" : true,\"parent\" : \"\",\"menus\" : {},\"messages\" : {},\"callbacks\" : {}},\"F134\" : {\"x\" : 0,\"y\" : 0,\"type\" : \"diamond\",\"size\" : 2,\"id\" : \"F134\",\"title\" : \"〈3,5,7〉\",\"layer\" : 3,\"color\" : \"\",\"highlight\" : true,\"parent\" : \"\",\"menus\" : {},\"messages\" : {},\"callbacks\" : {}},\"F135\" : {\"x\" : 0,\"y\" : 0,\"type\" : \"circle\",\"size\" : 2,\"id\" : \"F135\",\"title\" : \"〈3,7,8〉\",\"layer\" : 4,\"color\" : \"\",\"highlight\" : true,\"parent\" : \"\",\"menus\" : {},\"messages\" : {},\"callbacks\" : {}},\"F136\" : {\"x\" : 0,\"y\" : 0,\"type\" : \"diamond\",\"size\" : 2,\"id\" : \"F136\",\"title\" : \"〈3,7,11〉\",\"layer\" : 5,\"color\" : \"\",\"highlight\" : true,\"parent\" : \"\",\"menus\" : {},\"messages\" : {},\"callbacks\" : {}},\"F137\" : {\"x\" : 0,\"y\" : 0,\"type\" : \"circle\",\"size\" : 2,\"id\" : \"F137\",\"title\" : \"〈4,5,6,7〉\",\"layer\" : 3,\"color\" : \"\",\"highlight\" : true,\"parent\" : \"\",\"menus\" : {},\"messages\" : {},\"callbacks\" : {}},\"F138\" : {\"x\" : 0,\"y\" : 0,\"type\" : \"circle\",\"size\" : 2,\"id\" : \"F138\",\"title\" : \"〈4,6,7,9〉\",\"layer\" : 4,\"color\" : \"\",\"highlight\" : true,\"parent\" : \"\",\"menus\" : {},\"messages\" : {},\"callbacks\" : {}},\"F139\" : {\"x\" : 0,\"y\" : 0,\"type\" : \"circle\",\"size\" : 2,\"id\" : \"F139\",\"title\" : \"〈5,6,7,8,9〉\",\"layer\" : 4,\"color\" : \"\",\"highlight\" : true,\"parent\" : \"\",\"menus\" : {},\"messages\" : {},\"callbacks\" : {}},\"F140\" : {\"x\" : 0,\"y\" : 0,\"type\" : \"diamond\",\"size\" : 2,\"id\" : \"F140\",\"title\" : \"〈5,6,7,9〉\",\"layer\" : 5,\"color\" : \"\",\"highlight\" : true,\"parent\" : \"\",\"menus\" : {},\"messages\" : {},\"callbacks\" : {}},\"F141\" : {\"x\" : 0,\"y\" : 0,\"type\" : \"circle\",\"size\" : 2,\"id\" : \"F141\",\"title\" : \"〈6,7,8,9,10,11〉\",\"layer\" : 5,\"color\" : \"\",\"highlight\" : true,\"parent\" : \"\",\"menus\" : {},\"messages\" : {},\"callbacks\" : {}},\"F142\" : {\"x\" : 0,\"y\" : 0,\"type\" : \"diamond\",\"size\" : 2,\"id\" : \"F142\",\"title\" : \"〈6,7,8,9,11〉\",\"layer\" : 6,\"color\" : \"\",\"highlight\" : true,\"parent\" : \"\",\"menus\" : {},\"messages\" : {},\"callbacks\" : {}},\"F143\" : {\"x\" : 0,\"y\" : 0,\"type\" : \"circle\",\"size\" : 2,\"id\" : \"F143\",\"title\" : \"〈6,7,9,10,11〉\",\"layer\" : 6,\"color\" : \"\",\"highlight\" : true,\"parent\" : \"\",\"menus\" : {},\"messages\" : {},\"callbacks\" : {}},\"F144\" : {\"x\" : 0,\"y\" : 0,\"type\" : \"circle\",\"size\" : 2,\"id\" : \"F144\",\"title\" : \"〈6,7,9,11〉\",\"layer\" : 7,\"color\" : \"\",\"highlight\" : true,\"parent\" : \"\",\"menus\" : {},\"messages\" : {},\"callbacks\" : {}}},\"links\" : {\"F145\" : {\"source\" : \"F128\",\"weight\" : 1,\"id\" : \"F145\",\"target\" : \"F129\",\"color\" : \"\"},\"F146\" : {\"source\" : \"F129\",\"weight\" : 1,\"id\" : \"F146\",\"target\" : \"F130\",\"color\" : \"\"},\"F147\" : {\"source\" : \"F129\",\"weight\" : 1,\"id\" : \"F147\",\"target\" : \"F132\",\"color\" : \"\"},\"F148\" : {\"source\" : \"F130\",\"weight\" : 1,\"id\" : \"F148\",\"target\" : \"F131\",\"color\" : \"\"},\"F149\" : {\"source\" : \"F130\",\"weight\" : 1,\"id\" : \"F149\",\"target\" : \"F137\",\"color\" : \"\"},\"F150\" : {\"source\" : \"F131\",\"weight\" : 1,\"id\" : \"F150\",\"target\" : \"F138\",\"color\" : \"\"},\"F151\" : {\"source\" : \"F132\",\"weight\" : 1,\"id\" : \"F151\",\"target\" : \"F133\",\"color\" : \"\"},\"F152\" : {\"source\" : \"F132\",\"weight\" : 1,\"id\" : \"F152\",\"target\" : \"F134\",\"color\" : \"\"},\"F153\" : {\"source\" : \"F132\",\"weight\" : 1,\"id\" : \"F153\",\"target\" : \"F137\",\"color\" : \"\"},\"F154\" : {\"source\" : \"F133\",\"weight\" : 1,\"id\" : \"F154\",\"target\" : \"F135\",\"color\" : \"\"},\"F155\" : {\"source\" : \"F133\",\"weight\" : 1,\"id\" : \"F155\",\"target\" : \"F138\",\"color\" : \"\"},\"F156\" : {\"source\" : \"F134\",\"weight\" : 1,\"id\" : \"F156\",\"target\" : \"F135\",\"color\" : \"\"},\"F157\" : {\"source\" : \"F134\",\"weight\" : 1,\"id\" : \"F157\",\"target\" : \"F139\",\"color\" : \"\"},\"F158\" : {\"source\" : \"F135\",\"weight\" : 1,\"id\" : \"F158\",\"target\" : \"F136\",\"color\" : \"\"},\"F159\" : {\"source\" : \"F135\",\"weight\" : 1,\"id\" : \"F159\",\"target\" : \"F141\",\"color\" : \"\"},\"F160\" : {\"source\" : \"F136\",\"weight\" : 1,\"id\" : \"F160\",\"target\" : \"F143\",\"color\" : \"\"},\"F161\" : {\"source\" : \"F137\",\"weight\" : 1,\"id\" : \"F161\",\"target\" : \"F138\",\"color\" : \"\"},\"F162\" : {\"source\" : \"F137\",\"weight\" : 1,\"id\" : \"F162\",\"target\" : \"F139\",\"color\" : \"\"},\"F163\" : {\"source\" : \"F138\",\"weight\" : 1,\"id\" : \"F163\",\"target\" : \"F141\",\"color\" : \"\"},\"F164\" : {\"source\" : \"F139\",\"weight\" : 1,\"id\" : \"F164\",\"target\" : \"F140\",\"color\" : \"\"},\"F165\" : {\"source\" : \"F139\",\"weight\" : 1,\"id\" : \"F165\",\"target\" : \"F141\",\"color\" : \"\"},\"F166\" : {\"source\" : \"F140\",\"weight\" : 1,\"id\" : \"F166\",\"target\" : \"F143\",\"color\" : \"\"},\"F167\" : {\"source\" : \"F141\",\"weight\" : 1,\"id\" : \"F167\",\"target\" : \"F142\",\"color\" : \"\"},\"F168\" : {\"source\" : \"F141\",\"weight\" : 1,\"id\" : \"F168\",\"target\" : \"F143\",\"color\" : \"\"},\"F169\" : {\"source\" : \"F142\",\"weight\" : 1,\"id\" : \"F169\",\"target\" : \"F144\",\"color\" : \"\"},\"F170\" : {\"source\" : \"F143\",\"weight\" : 1,\"id\" : \"F170\",\"target\" : \"F144\",\"color\" : \"\"}}},\"messages\" : {}}}"
     },
     "execution_count": 11,
     "metadata": {
      "text/plain": "~empty~"
     },
     "output_type": "execute_result"
    }
   ],
   "source": [
    "oversemigroups(NumericalSemigroup(6,7,9,11));"
   ]
  },
  {
   "cell_type": "markdown",
   "metadata": {},
   "source": [
    "## Graphs associated to elements"
   ]
  },
  {
   "cell_type": "markdown",
   "metadata": {},
   "source": [
    "The Eliahou graph of an element in a numerical semigroup is a graph whose vertices are the factorizations of the element, and to vertices are joined with an edge if they have common support."
   ]
  },
  {
   "cell_type": "code",
   "execution_count": 12,
   "metadata": {},
   "outputs": [
    {
     "data": {
      "text/plain": [
       "function( n, s ) ... end"
      ]
     },
     "execution_count": 12,
     "metadata": {
      "text/plain": "function( n, s ) ... end"
     },
     "output_type": "execute_result"
    }
   ],
   "source": [
    "DrawEliahouGraph:=function(n,s)\n",
    "    local graph, canvas, f, fs, c, nf, i, p;\n",
    "    \n",
    "    f:=FactorizationsElementWRTNumericalSemigroup(n,s);\n",
    "    graph:=Graph(GraphType.UNDIRECTED);\n",
    "    SetShowNeighbours(graph,true);\n",
    "    SetSimulation(graph,true);\n",
    "    SetDrag(graph,true);\n",
    "    nf:=Length(f);\n",
    "    fs:=[];\n",
    "    for i in [1..nf] do \n",
    "        fs[i]:=Shape(ShapeType!.CIRCLE, Concatenation(\"(\",JoinStringsWithSeparator(f[i],\",\"),\")\"));\n",
    "    #SetLayer(fs[i],Sum(f[i]));\n",
    "        SetSize(fs[i],1);\n",
    "        Add(graph,fs[i]);\n",
    "    od;\n",
    "    c:=Cartesian([1..nf],[1..nf]);\n",
    "    c:=Filtered(c,p->p[1]<p[2] and f[p[1]]*f[p[2]]<>0);\n",
    "    for p in c do \n",
    "        Add(graph,Link(fs[p[1]],fs[p[2]]));\n",
    "    od;\n",
    "    canvas:=Canvas(\"Eliahou graph\");\n",
    "    Add(canvas,graph);\n",
    "    return Draw(canvas);\n",
    "end;"
   ]
  },
  {
   "cell_type": "code",
   "execution_count": 13,
   "metadata": {},
   "outputs": [
    {
     "data": {
      "text/plain": [
       "Numerical semigroup with 3 generators"
      ]
     },
     "execution_count": 13,
     "metadata": {
      "text/plain": "Numerical semigroup with 3 generators"
     },
     "output_type": "execute_result"
    }
   ],
   "source": [
    "s:=NumericalSemigroup(5,7,9);"
   ]
  },
  {
   "cell_type": "code",
   "execution_count": 14,
   "metadata": {
    "scrolled": false
   },
   "outputs": [
    {
     "data": {
      "application/vnd.francy+json": "{\"version\" : \"0.6.0\",\"mime\" : \"application\\/vnd.francy+json\",\"canvas\" : {\"width\" : 800,\"height\" : 600,\"id\" : \"F193\",\"title\" : \"Eliahou graph\",\"zoomToFit\" : true,\"texTypesetting\" : false,\"menus\" : {},\"graph\" : {\"type\" : \"undirected\",\"id\" : \"F172\",\"simulation\" : true,\"collapsed\" : true,\"drag\" : true,\"showNeighbours\" : true,\"nodes\" : {\"F173\" : {\"x\" : 0,\"y\" : 0,\"type\" : \"circle\",\"size\" : 1,\"id\" : \"F173\",\"title\" : \"(7,2,0)\",\"layer\" : 0,\"color\" : \"\",\"highlight\" : true,\"parent\" : \"\",\"menus\" : {},\"messages\" : {},\"callbacks\" : {}},\"F174\" : {\"x\" : 0,\"y\" : 0,\"type\" : \"circle\",\"size\" : 1,\"id\" : \"F174\",\"title\" : \"(0,7,0)\",\"layer\" : 0,\"color\" : \"\",\"highlight\" : true,\"parent\" : \"\",\"menus\" : {},\"messages\" : {},\"callbacks\" : {}},\"F175\" : {\"x\" : 0,\"y\" : 0,\"type\" : \"circle\",\"size\" : 1,\"id\" : \"F175\",\"title\" : \"(8,0,1)\",\"layer\" : 0,\"color\" : \"\",\"highlight\" : true,\"parent\" : \"\",\"menus\" : {},\"messages\" : {},\"callbacks\" : {}},\"F176\" : {\"x\" : 0,\"y\" : 0,\"type\" : \"circle\",\"size\" : 1,\"id\" : \"F176\",\"title\" : \"(1,5,1)\",\"layer\" : 0,\"color\" : \"\",\"highlight\" : true,\"parent\" : \"\",\"menus\" : {},\"messages\" : {},\"callbacks\" : {}},\"F177\" : {\"x\" : 0,\"y\" : 0,\"type\" : \"circle\",\"size\" : 1,\"id\" : \"F177\",\"title\" : \"(2,3,2)\",\"layer\" : 0,\"color\" : \"\",\"highlight\" : true,\"parent\" : \"\",\"menus\" : {},\"messages\" : {},\"callbacks\" : {}},\"F178\" : {\"x\" : 0,\"y\" : 0,\"type\" : \"circle\",\"size\" : 1,\"id\" : \"F178\",\"title\" : \"(3,1,3)\",\"layer\" : 0,\"color\" : \"\",\"highlight\" : true,\"parent\" : \"\",\"menus\" : {},\"messages\" : {},\"callbacks\" : {}}},\"links\" : {\"F179\" : {\"source\" : \"F173\",\"weight\" : 1,\"id\" : \"F179\",\"target\" : \"F174\",\"color\" : \"\"},\"F180\" : {\"source\" : \"F173\",\"weight\" : 1,\"id\" : \"F180\",\"target\" : \"F175\",\"color\" : \"\"},\"F181\" : {\"source\" : \"F173\",\"weight\" : 1,\"id\" : \"F181\",\"target\" : \"F176\",\"color\" : \"\"},\"F182\" : {\"source\" : \"F173\",\"weight\" : 1,\"id\" : \"F182\",\"target\" : \"F177\",\"color\" : \"\"},\"F183\" : {\"source\" : \"F173\",\"weight\" : 1,\"id\" : \"F183\",\"target\" : \"F178\",\"color\" : \"\"},\"F184\" : {\"source\" : \"F174\",\"weight\" : 1,\"id\" : \"F184\",\"target\" : \"F176\",\"color\" : \"\"},\"F185\" : {\"source\" : \"F174\",\"weight\" : 1,\"id\" : \"F185\",\"target\" : \"F177\",\"color\" : \"\"},\"F186\" : {\"source\" : \"F174\",\"weight\" : 1,\"id\" : \"F186\",\"target\" : \"F178\",\"color\" : \"\"},\"F187\" : {\"source\" : \"F175\",\"weight\" : 1,\"id\" : \"F187\",\"target\" : \"F176\",\"color\" : \"\"},\"F188\" : {\"source\" : \"F175\",\"weight\" : 1,\"id\" : \"F188\",\"target\" : \"F177\",\"color\" : \"\"},\"F189\" : {\"source\" : \"F175\",\"weight\" : 1,\"id\" : \"F189\",\"target\" : \"F178\",\"color\" : \"\"},\"F190\" : {\"source\" : \"F176\",\"weight\" : 1,\"id\" : \"F190\",\"target\" : \"F177\",\"color\" : \"\"},\"F191\" : {\"source\" : \"F176\",\"weight\" : 1,\"id\" : \"F191\",\"target\" : \"F178\",\"color\" : \"\"},\"F192\" : {\"source\" : \"F177\",\"weight\" : 1,\"id\" : \"F192\",\"target\" : \"F178\",\"color\" : \"\"}}},\"messages\" : {}}}"
     },
     "execution_count": 14,
     "metadata": {
      "text/plain": "~empty~"
     },
     "output_type": "execute_result"
    }
   ],
   "source": [
    "DrawEliahouGraph(49,s);"
   ]
  },
  {
   "cell_type": "code",
   "execution_count": 15,
   "metadata": {},
   "outputs": [
    {
     "data": {
      "text/plain": [
       "[ 14, 25, 27 ]"
      ]
     },
     "execution_count": 15,
     "metadata": {
      "text/plain": "[ 14, 25, 27 ]"
     },
     "output_type": "execute_result"
    }
   ],
   "source": [
    "BettiElements(s);"
   ]
  },
  {
   "cell_type": "code",
   "execution_count": 16,
   "metadata": {},
   "outputs": [
    {
     "data": {
      "application/vnd.francy+json": "{\"version\" : \"0.6.0\",\"mime\" : \"application\\/vnd.francy+json\",\"canvas\" : {\"width\" : 800,\"height\" : 600,\"id\" : \"F197\",\"title\" : \"Eliahou graph\",\"zoomToFit\" : true,\"texTypesetting\" : false,\"menus\" : {},\"graph\" : {\"type\" : \"undirected\",\"id\" : \"F194\",\"simulation\" : true,\"collapsed\" : true,\"drag\" : true,\"showNeighbours\" : true,\"nodes\" : {\"F195\" : {\"x\" : 0,\"y\" : 0,\"type\" : \"circle\",\"size\" : 1,\"id\" : \"F195\",\"title\" : \"(5,0,0)\",\"layer\" : 0,\"color\" : \"\",\"highlight\" : true,\"parent\" : \"\",\"menus\" : {},\"messages\" : {},\"callbacks\" : {}},\"F196\" : {\"x\" : 0,\"y\" : 0,\"type\" : \"circle\",\"size\" : 1,\"id\" : \"F196\",\"title\" : \"(0,1,2)\",\"layer\" : 0,\"color\" : \"\",\"highlight\" : true,\"parent\" : \"\",\"menus\" : {},\"messages\" : {},\"callbacks\" : {}}},\"links\" : {}},\"messages\" : {}}}"
     },
     "execution_count": 16,
     "metadata": {
      "text/plain": "~empty~"
     },
     "output_type": "execute_result"
    }
   ],
   "source": [
    "DrawEliahouGraph(25,s);"
   ]
  },
  {
   "cell_type": "code",
   "execution_count": 17,
   "metadata": {},
   "outputs": [
    {
     "data": {
      "text/plain": [
       "function( n, s ) ... end"
      ]
     },
     "execution_count": 17,
     "metadata": {
      "text/plain": "function( n, s ) ... end"
     },
     "output_type": "execute_result"
    }
   ],
   "source": [
    "DrawRosalesGraph:=function(n,s)\n",
    "    local graph, canvas, msg, msgs, c, nv, i, p;\n",
    "    \n",
    "    msg:=Filtered(MinimalGenerators(s), g->n-g in s);\n",
    "    graph:=Graph(GraphType.UNDIRECTED);\n",
    "    SetSimulation(graph,true);\n",
    "    SetDrag(graph,true);\n",
    "    nv:=Length(msg);\n",
    "    msgs:=[];\n",
    "    for i in [1..nv] do \n",
    "        msgs[i]:=Shape(ShapeType!.CIRCLE, String(msg[i]));\n",
    "        SetSize(msgs[i],1);\n",
    "        Add(graph,msgs[i]);\n",
    "    od;\n",
    "    c:=Cartesian([1..nv],[1..nv]);\n",
    "    c:=Filtered(c,p->p[1]<p[2] and n-(msg[p[1]]+msg[p[2]]) in s);\n",
    "    for p in c do \n",
    "        Add(graph,Link(msgs[p[1]],msgs[p[2]]));\n",
    "    od;\n",
    "    canvas:=Canvas(\"Rosales graph\");\n",
    "    Add(canvas,graph);\n",
    "    return Draw(canvas);\n",
    "end;"
   ]
  },
  {
   "cell_type": "code",
   "execution_count": 18,
   "metadata": {},
   "outputs": [
    {
     "data": {
      "application/vnd.francy+json": "{\"version\" : \"0.6.0\",\"mime\" : \"application\\/vnd.francy+json\",\"canvas\" : {\"width\" : 800,\"height\" : 600,\"id\" : \"F205\",\"title\" : \"Rosales graph\",\"zoomToFit\" : true,\"texTypesetting\" : false,\"menus\" : {},\"graph\" : {\"type\" : \"undirected\",\"id\" : \"F198\",\"simulation\" : true,\"collapsed\" : true,\"drag\" : true,\"showNeighbours\" : false,\"nodes\" : {\"F199\" : {\"x\" : 0,\"y\" : 0,\"type\" : \"circle\",\"size\" : 1,\"id\" : \"F199\",\"title\" : \"5\",\"layer\" : 0,\"color\" : \"\",\"highlight\" : true,\"parent\" : \"\",\"menus\" : {},\"messages\" : {},\"callbacks\" : {}},\"F200\" : {\"x\" : 0,\"y\" : 0,\"type\" : \"circle\",\"size\" : 1,\"id\" : \"F200\",\"title\" : \"7\",\"layer\" : 0,\"color\" : \"\",\"highlight\" : true,\"parent\" : \"\",\"menus\" : {},\"messages\" : {},\"callbacks\" : {}},\"F201\" : {\"x\" : 0,\"y\" : 0,\"type\" : \"circle\",\"size\" : 1,\"id\" : \"F201\",\"title\" : \"9\",\"layer\" : 0,\"color\" : \"\",\"highlight\" : true,\"parent\" : \"\",\"menus\" : {},\"messages\" : {},\"callbacks\" : {}}},\"links\" : {\"F202\" : {\"source\" : \"F199\",\"weight\" : 1,\"id\" : \"F202\",\"target\" : \"F200\",\"color\" : \"\"},\"F203\" : {\"source\" : \"F199\",\"weight\" : 1,\"id\" : \"F203\",\"target\" : \"F201\",\"color\" : \"\"},\"F204\" : {\"source\" : \"F200\",\"weight\" : 1,\"id\" : \"F204\",\"target\" : \"F201\",\"color\" : \"\"}}},\"messages\" : {}}}"
     },
     "execution_count": 18,
     "metadata": {
      "text/plain": "~empty~"
     },
     "output_type": "execute_result"
    }
   ],
   "source": [
    "DrawRosalesGraph(49,s);"
   ]
  }
 ],
 "metadata": {
  "kernelspec": {
   "display_name": "GAP 4 (native)",
   "language": "gap",
   "name": "gap-native"
  },
  "language_info": {
   "codemirror_mode": "gap",
   "file_extension": ".g",
   "mimetype": "text/x-gap",
   "name": "GAP (native)",
   "nbconvert_exporter": "",
   "pygments_lexer": "gap",
   "version": "4.dev"
  }
 },
 "nbformat": 4,
 "nbformat_minor": 2
}
