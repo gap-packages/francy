{
 "cells": [
  {
   "cell_type": "markdown",
   "metadata": {},
   "source": [
    "# Numerical semigroups with `francy`\n",
    "\n",
    "## Load `francy` Package"
   ]
  },
  {
   "cell_type": "code",
   "execution_count": 2,
   "metadata": {},
   "outputs": [
    {
     "name": "stdout",
     "output_type": "stream",
     "text": [
      "\u0003#I  \u0003\u0003equal requirements in multiple declaratio\u0003ns for operation `JUPYTER_ViewString'\n",
      "\u0003\u0003\n",
      "\u0003\u0003#I  \u0003\u0003Please load package NormalizInterface or \u00034ti2Interface\u0003\u0003\n",
      "\u0003\u0003#I  \u0003\u0003to have extended functionalities.\u0003\u0003\n",
      "\u0003\u0003#I  \u0003\u0003Please load package SingularInterface or \u0003singular (not both)\u0003\u0003\n",
      "\u0003\u0003#I  \u0003\u0003or GradedModules to have extended functio\u0003nalities.\u0003\u0003\n",
      "\u0003"
     ]
    },
    {
     "data": {
      "text/plain": [
       "true"
      ]
     },
     "execution_count": 1,
     "metadata": {},
     "output_type": "execute_result"
    },
    {
     "data": {
      "text/plain": [
       "true"
      ]
     },
     "execution_count": 2,
     "metadata": {},
     "output_type": "execute_result"
    }
   ],
   "source": [
    "LoadPackage(\"francy\");\n",
    "LoadPackage(\"num\");"
   ]
  },
  {
   "cell_type": "markdown",
   "metadata": {},
   "source": [
    "## Drawing Apéry sets"
   ]
  },
  {
   "cell_type": "markdown",
   "metadata": {},
   "source": [
    "This example draws the Apéry set of a numerical semigrup with respect to its multiplicity. By passing over a node with the mouse, the set of factorizations with respect to the minimal generating system of the numerical semigroup is displayed. Clicking a node produces a message with the same information."
   ]
  },
  {
   "cell_type": "code",
   "execution_count": 7,
   "metadata": {},
   "outputs": [
    {
     "data": {
      "text/plain": [
       "function( arg... ) ... end"
      ]
     },
     "execution_count": 7,
     "metadata": {},
     "output_type": "execute_result"
    }
   ],
   "source": [
    "apery:=function(arg)\n",
    "    local ap,c,hasse, s, n, r, graphHasse, aps, es, canvas, i, order, showfacts, message;\n",
    "    # rel is a list of lists with two elements representin a binary relation\n",
    "    # hasse(rel) removes from rel the pairs [x,y] such that there exists\n",
    "    # z with [x,z],[z,y] in rel\n",
    "    hasse:=function(rel)\n",
    "      local dom, out;\n",
    "      dom:=Flat(rel);\n",
    "      out:=Filtered(rel, p-> ForAny(dom, x->([p[1],x] in rel) and ([x,p[2]] in rel)));\n",
    "      return Difference(rel,out);\n",
    "    end;\n",
    "\n",
    "    order:=function(x)\n",
    "        return Maximum(LengthsOfFactorizationsElementWRTNumericalSemigroup(x,s));\n",
    "    end;\n",
    "\n",
    "    showfacts:=function(x)\n",
    "        message := FrancyMessage(Concatenation(String(x), \" factors as \"), \n",
    "                    String(FactorizationsElementWRTNumericalSemigroup(x,s)));\n",
    "        SetId(message, Concatenation(\"message-for-\", String(x)));\n",
    "        Add(canvas, message);\n",
    "        return Draw(canvas);\n",
    "    end;\n",
    "    if Length(arg)=1 then\n",
    "        s:=arg[1];\n",
    "        n:=MultiplicityOfNumericalSemigroup(s);\n",
    "    fi;\n",
    "    if Length(arg)=2 then\n",
    "        s:=arg[1];\n",
    "        n:=arg[2];\n",
    "    fi;\n",
    "    if Length(arg)>2 then\n",
    "        Error(\"The number of arguments must be one or two\");\n",
    "    fi;\n",
    "  \n",
    "    graphHasse := Graph(GraphType.HASSE);\n",
    "    SetSimulation(graphHasse,true);\n",
    "    SetDrag(graphHasse,true);\n",
    "    ap:=AperyList(s,n);\n",
    "    c:=Cartesian([1..n],[1..n]);\n",
    "    c:=Filtered(c, p-> ap[p[2]]<>ap[p[1]]);\n",
    "    c:=Filtered(c, p-> ap[p[1]]-ap[p[2]] in s);\n",
    "    c:=hasse(c);\n",
    "    aps:=[];\n",
    "    for i in [1..n] do\n",
    "        aps[i]:=Shape(ShapeType!.CIRCLE, String(ap[i]));\n",
    "        SetLayer(aps[i],-order(ap[i]));\n",
    "        Add(aps[i],Callback(showfacts,[ap[i]]));\n",
    "        Add(aps[i],FrancyMessage(Concatenation(\"{\",\n",
    "            JoinStringsWithSeparator(List(FactorizationsElementWRTNumericalSemigroup(ap[i],s), \n",
    "            f->Concatenation(\"(\",JoinStringsWithSeparator(f,\",\"),\")\")),\",\"),\")\")));\n",
    "        Add(graphHasse,aps[i]);\n",
    "    od;\n",
    "    for r in c do\n",
    "        Add(graphHasse,Link(aps[r[1]],aps[r[2]]));\n",
    "    od;\n",
    "    canvas:=Canvas(\"Apery\");\n",
    "    Add(canvas,graphHasse);\n",
    "    return Draw(canvas);    \n",
    "end;"
   ]
  },
  {
   "cell_type": "code",
   "execution_count": 8,
   "metadata": {
    "scrolled": false
   },
   "outputs": [
    {
     "data": {
      "application/vnd.francy+json": "{\"version\" : \"0.5.4\",\"mime\" : \"application\\/vnd.francy+json\",\"canvas\" : {\"width\" : 800,\"height\" : 600,\"id\" : \"F135\",\"title\" : \"Apery\",\"zoomToFit\" : true,\"texTypesetting\" : false,\"menus\" : {},\"graph\" : {\"type\" : \"hasse\",\"id\" : \"F91\",\"simulation\" : true,\"collapsed\" : true,\"drag\" : true,\"showNeighbours\" : false,\"nodes\" : {\"F92\" : {\"x\" : 0,\"y\" : 0,\"type\" : \"circle\",\"size\" : 10,\"id\" : \"F92\",\"title\" : \"0\",\"highlight\" : true,\"layer\" : 0,\"parent\" : \"\",\"menus\" : {},\"messages\" : {\"F94\" : {\"type\" : \"default\",\"id\" : \"F94\",\"text\" : \"{(0,0,0))\",\"title\" : \"\"}},\"callbacks\" : {\"F93\" : {\"func\" : \"unknown\",\"id\" : \"F93\",\"trigger\" : \"click\",\"knownArgs\" : [\"0\"],\"requiredArgs\" : {}}}},\"F95\" : {\"x\" : 0,\"y\" : 0,\"type\" : \"circle\",\"size\" : 10,\"id\" : \"F95\",\"title\" : \"31\",\"highlight\" : true,\"layer\" : -1,\"parent\" : \"\",\"menus\" : {},\"messages\" : {\"F97\" : {\"type\" : \"default\",\"id\" : \"F97\",\"text\" : \"{(0,0,1))\",\"title\" : \"\"}},\"callbacks\" : {\"F96\" : {\"func\" : \"unknown\",\"id\" : \"F96\",\"trigger\" : \"click\",\"knownArgs\" : [\"31\"],\"requiredArgs\" : {}}}},\"F98\" : {\"x\" : 0,\"y\" : 0,\"type\" : \"circle\",\"size\" : 10,\"id\" : \"F98\",\"title\" : \"62\",\"highlight\" : true,\"layer\" : -2,\"parent\" : \"\",\"menus\" : {},\"messages\" : {\"F100\" : {\"type\" : \"default\",\"id\" : \"F100\",\"text\" : \"{(0,0,2))\",\"title\" : \"\"}},\"callbacks\" : {\"F99\" : {\"func\" : \"unknown\",\"id\" : \"F99\",\"trigger\" : \"click\",\"knownArgs\" : [\"62\"],\"requiredArgs\" : {}}}},\"F101\" : {\"x\" : 0,\"y\" : 0,\"type\" : \"circle\",\"size\" : 10,\"id\" : \"F101\",\"title\" : \"93\",\"highlight\" : true,\"layer\" : -3,\"parent\" : \"\",\"menus\" : {},\"messages\" : {\"F103\" : {\"type\" : \"default\",\"id\" : \"F103\",\"text\" : \"{(0,0,3))\",\"title\" : \"\"}},\"callbacks\" : {\"F102\" : {\"func\" : \"unknown\",\"id\" : \"F102\",\"trigger\" : \"click\",\"knownArgs\" : [\"93\"],\"requiredArgs\" : {}}}},\"F104\" : {\"x\" : 0,\"y\" : 0,\"type\" : \"circle\",\"size\" : 10,\"id\" : \"F104\",\"title\" : \"54\",\"highlight\" : true,\"layer\" : -2,\"parent\" : \"\",\"menus\" : {},\"messages\" : {\"F106\" : {\"type\" : \"default\",\"id\" : \"F106\",\"text\" : \"{(0,2,0))\",\"title\" : \"\"}},\"callbacks\" : {\"F105\" : {\"func\" : \"unknown\",\"id\" : \"F105\",\"trigger\" : \"click\",\"knownArgs\" : [\"54\"],\"requiredArgs\" : {}}}},\"F107\" : {\"x\" : 0,\"y\" : 0,\"type\" : \"circle\",\"size\" : 10,\"id\" : \"F107\",\"title\" : \"85\",\"highlight\" : true,\"layer\" : -3,\"parent\" : \"\",\"menus\" : {},\"messages\" : {\"F109\" : {\"type\" : \"default\",\"id\" : \"F109\",\"text\" : \"{(0,2,1))\",\"title\" : \"\"}},\"callbacks\" : {\"F108\" : {\"func\" : \"unknown\",\"id\" : \"F108\",\"trigger\" : \"click\",\"knownArgs\" : [\"85\"],\"requiredArgs\" : {}}}},\"F110\" : {\"x\" : 0,\"y\" : 0,\"type\" : \"circle\",\"size\" : 10,\"id\" : \"F110\",\"title\" : \"116\",\"highlight\" : true,\"layer\" : -4,\"parent\" : \"\",\"menus\" : {},\"messages\" : {\"F112\" : {\"type\" : \"default\",\"id\" : \"F112\",\"text\" : \"{(0,2,2))\",\"title\" : \"\"}},\"callbacks\" : {\"F111\" : {\"func\" : \"unknown\",\"id\" : \"F111\",\"trigger\" : \"click\",\"knownArgs\" : [\"116\"],\"requiredArgs\" : {}}}},\"F113\" : {\"x\" : 0,\"y\" : 0,\"type\" : \"circle\",\"size\" : 10,\"id\" : \"F113\",\"title\" : \"27\",\"highlight\" : true,\"layer\" : -1,\"parent\" : \"\",\"menus\" : {},\"messages\" : {\"F115\" : {\"type\" : \"default\",\"id\" : \"F115\",\"text\" : \"{(0,1,0))\",\"title\" : \"\"}},\"callbacks\" : {\"F114\" : {\"func\" : \"unknown\",\"id\" : \"F114\",\"trigger\" : \"click\",\"knownArgs\" : [\"27\"],\"requiredArgs\" : {}}}},\"F116\" : {\"x\" : 0,\"y\" : 0,\"type\" : \"circle\",\"size\" : 10,\"id\" : \"F116\",\"title\" : \"58\",\"highlight\" : true,\"layer\" : -2,\"parent\" : \"\",\"menus\" : {},\"messages\" : {\"F118\" : {\"type\" : \"default\",\"id\" : \"F118\",\"text\" : \"{(0,1,1))\",\"title\" : \"\"}},\"callbacks\" : {\"F117\" : {\"func\" : \"unknown\",\"id\" : \"F117\",\"trigger\" : \"click\",\"knownArgs\" : [\"58\"],\"requiredArgs\" : {}}}},\"F119\" : {\"x\" : 0,\"y\" : 0,\"type\" : \"circle\",\"size\" : 10,\"id\" : \"F119\",\"title\" : \"89\",\"highlight\" : true,\"layer\" : -3,\"parent\" : \"\",\"menus\" : {},\"messages\" : {\"F121\" : {\"type\" : \"default\",\"id\" : \"F121\",\"text\" : \"{(0,1,2))\",\"title\" : \"\"}},\"callbacks\" : {\"F120\" : {\"func\" : \"unknown\",\"id\" : \"F120\",\"trigger\" : \"click\",\"knownArgs\" : [\"89\"],\"requiredArgs\" : {}}}}},\"links\" : {\"F122\" : {\"source\" : \"F95\",\"id\" : \"F122\",\"target\" : \"F92\"},\"F123\" : {\"source\" : \"F98\",\"id\" : \"F123\",\"target\" : \"F95\"},\"F124\" : {\"source\" : \"F101\",\"id\" : \"F124\",\"target\" : \"F98\"},\"F125\" : {\"source\" : \"F104\",\"id\" : \"F125\",\"target\" : \"F113\"},\"F126\" : {\"source\" : \"F107\",\"id\" : \"F126\",\"target\" : \"F104\"},\"F127\" : {\"source\" : \"F107\",\"id\" : \"F127\",\"target\" : \"F116\"},\"F128\" : {\"source\" : \"F110\",\"id\" : \"F128\",\"target\" : \"F107\"},\"F129\" : {\"source\" : \"F110\",\"id\" : \"F129\",\"target\" : \"F119\"},\"F130\" : {\"source\" : \"F113\",\"id\" : \"F130\",\"target\" : \"F92\"},\"F131\" : {\"source\" : \"F116\",\"id\" : \"F131\",\"target\" : \"F95\"},\"F132\" : {\"source\" : \"F116\",\"id\" : \"F132\",\"target\" : \"F113\"},\"F133\" : {\"source\" : \"F119\",\"id\" : \"F133\",\"target\" : \"F98\"},\"F134\" : {\"source\" : \"F119\",\"id\" : \"F134\",\"target\" : \"F116\"}}},\"messages\" : {}}}"
     },
     "execution_count": 8,
     "metadata": {},
     "output_type": "execute_result"
    }
   ],
   "source": [
    "apery(NumericalSemigroup(10,51,27,31));"
   ]
  },
  {
   "cell_type": "markdown",
   "metadata": {},
   "source": [
    "## Drawing sons of numerical semigroups"
   ]
  },
  {
   "cell_type": "markdown",
   "metadata": {},
   "source": [
    "This example shows how to draw the sons of a numerical semigroup in the tree of numerical semigroups. If we click on a node, then the sets of sons of that node are added to the canvas, and if the node is a leaf, a warning message is displayed.\n",
    "\n",
    "Passing the mouse over a node shows the set of minimal generators of the node."
   ]
  },
  {
   "cell_type": "code",
   "execution_count": 20,
   "metadata": {},
   "outputs": [
    {
     "data": {
      "text/plain": [
       "function( s ) ... end"
      ]
     },
     "execution_count": 20,
     "metadata": {},
     "output_type": "execute_result"
    }
   ],
   "source": [
    "sons:=function(s)\n",
    "    local gens, frb, desc, graphHasse, d, shpr, shp, canvas, sonsf, i, gn, lbl;\n",
    "    \n",
    "    \n",
    "    sonsf:=function(s,n)\n",
    "        local gens, frb, desc, d, shp, i, lbl, gn;\n",
    "\n",
    "        frb:=FrobeniusNumber(s);\n",
    "        gens:=Filtered(MinimalGenerators(s), x-> x>frb);\n",
    "        desc:=List(gens, g->RemoveMinimalGeneratorFromNumericalSemigroup(g,s));\n",
    "        gn:=Genus(s);\n",
    "        i:=0;\n",
    "        for d in desc do\n",
    "            i:=i+1;\n",
    "            lbl:=Concatenation(\"〈\",JoinStringsWithSeparator(MinimalGenerators(d),\",\"),\"〉\");\n",
    "            shp:=Shape(ShapeType!.CIRCLE, lbl);\n",
    "            SetId(shp,lbl);\n",
    "            SetLayer(shp,Genus(d));\n",
    "            SetSize(shp,1);\n",
    "            Add(shp,Callback(sonsf,[d,shp]));\n",
    "            Add(shp,FrancyMessage(String(MinimalGenerators(d))));\n",
    "            Add(graphHasse,shp);\n",
    "            Add(graphHasse,Link(n,shp));\n",
    "        od;\n",
    "        if desc<>[] then \n",
    "            return Draw(canvas);\n",
    "        fi;\n",
    "        Add(canvas, FrancyMessage(FrancyMessageType.WARNING, \"This semigroup is a leaf\"));\n",
    "        return Draw(canvas);\n",
    "    end;\n",
    "    \n",
    "    frb:=FrobeniusNumber(s);\n",
    "    gens:=Filtered(MinimalGenerators(s), x-> x>frb);\n",
    "    desc:=List(gens, g->RemoveMinimalGeneratorFromNumericalSemigroup(g,s));\n",
    "    gn:=Genus(s);\n",
    "\n",
    "    graphHasse := Graph(GraphType.HASSE);\n",
    "    lbl:=Concatenation(\"〈\",JoinStringsWithSeparator(MinimalGenerators(s),\",\"),\"〉\");\n",
    "    shpr:=Shape(ShapeType!.CIRCLE, lbl);\n",
    "    SetSize(shpr,1);\n",
    "    Add(shpr,FrancyMessage(String(MinimalGenerators(s))));\n",
    "    SetLayer(shpr,Genus(s));\n",
    "    Add(graphHasse,shpr);\n",
    "    i:=0;\n",
    "    for d in desc do\n",
    "        i:=i+1;\n",
    "        lbl:=Concatenation(\"〈\",JoinStringsWithSeparator(MinimalGenerators(d),\",\"),\"〉\");\n",
    "        shp:=Shape(ShapeType!.CIRCLE, lbl);\n",
    "        SetId(shp,lbl);\n",
    "        SetLayer(shp,Genus(d));\n",
    "        SetSize(shp,1);\n",
    "        Add(shp,Callback(sonsf,[d,shp]));\n",
    "        Add(shp,FrancyMessage(String(MinimalGenerators(d))));\n",
    "        Add(graphHasse,shp);\n",
    "        Add(graphHasse,Link(shpr,shp));\n",
    "    od;\n",
    "    canvas:=Canvas(\"Sons of a numerical semigroup\");\n",
    "    Add(canvas,graphHasse);\n",
    "    return Draw(canvas);    \n",
    "end;"
   ]
  },
  {
   "cell_type": "code",
   "execution_count": 21,
   "metadata": {
    "scrolled": false
   },
   "outputs": [
    {
     "data": {
      "application/vnd.francy+json": "{\"version\" : \"0.5.4\",\"mime\" : \"application\\/vnd.francy+json\",\"canvas\" : {\"width\" : 800,\"height\" : 600,\"id\" : \"F216\",\"title\" : \"Sons of a numerical semigroup\",\"zoomToFit\" : true,\"texTypesetting\" : false,\"menus\" : {},\"graph\" : {\"type\" : \"hasse\",\"id\" : \"F205\",\"simulation\" : true,\"collapsed\" : true,\"drag\" : false,\"showNeighbours\" : false,\"nodes\" : {\"〈3,7,8〉\" : {\"x\" : 0,\"y\" : 0,\"type\" : \"circle\",\"size\" : 1,\"id\" : \"〈3,7,8〉\",\"title\" : \"〈3,7,8〉\",\"highlight\" : true,\"layer\" : 4,\"parent\" : \"\",\"menus\" : {},\"messages\" : {\"F210\" : {\"type\" : \"default\",\"id\" : \"F210\",\"text\" : \"[ 3, 7, 8 ]\",\"title\" : \"\"}},\"callbacks\" : {\"F209\" : {\"func\" : \"unknown\",\"id\" : \"F209\",\"trigger\" : \"click\",\"knownArgs\" : [\"<object>\",\"<object>\"],\"requiredArgs\" : {}}}},\"〈3,5〉\" : {\"x\" : 0,\"y\" : 0,\"type\" : \"circle\",\"size\" : 1,\"id\" : \"〈3,5〉\",\"title\" : \"〈3,5〉\",\"highlight\" : true,\"layer\" : 4,\"parent\" : \"\",\"menus\" : {},\"messages\" : {\"F214\" : {\"type\" : \"default\",\"id\" : \"F214\",\"text\" : \"[ 3, 5 ]\",\"title\" : \"\"}},\"callbacks\" : {\"F213\" : {\"func\" : \"unknown\",\"id\" : \"F213\",\"trigger\" : \"click\",\"knownArgs\" : [\"<object>\",\"<object>\"],\"requiredArgs\" : {}}}},\"F206\" : {\"x\" : 0,\"y\" : 0,\"type\" : \"circle\",\"size\" : 1,\"id\" : \"F206\",\"title\" : \"〈3,5,7〉\",\"highlight\" : true,\"layer\" : 3,\"parent\" : \"\",\"menus\" : {},\"messages\" : {\"F207\" : {\"type\" : \"default\",\"id\" : \"F207\",\"text\" : \"[ 3, 5, 7 ]\",\"title\" : \"\"}},\"callbacks\" : {}}},\"links\" : {\"F211\" : {\"source\" : \"F206\",\"id\" : \"F211\",\"target\" : \"〈3,7,8〉\"},\"F215\" : {\"source\" : \"F206\",\"id\" : \"F215\",\"target\" : \"〈3,5〉\"}}},\"messages\" : {}}}"
     },
     "execution_count": 21,
     "metadata": {},
     "output_type": "execute_result"
    }
   ],
   "source": [
    "sons(NumericalSemigroup(3,5,7));"
   ]
  },
  {
   "cell_type": "markdown",
   "metadata": {},
   "source": [
    "# Tree of numerical semigroups\n",
    "\n",
    "Now we draw the sons of a numerical semigroup `s` in the tree of numerical semigroups up to level `l`."
   ]
  },
  {
   "cell_type": "code",
   "execution_count": 27,
   "metadata": {},
   "outputs": [
    {
     "data": {
      "text/plain": [
       "function( s, l, generators ) ... end"
      ]
     },
     "execution_count": 27,
     "metadata": {},
     "output_type": "execute_result"
    }
   ],
   "source": [
    "sonstree:=function(s,l,generators)\n",
    "    local gens, frb, desc, graphTreee, d, shpr, shp, canvas, sonsf, lbl;\n",
    "\n",
    "\n",
    "    sonsf:=function(s,n,lv)\n",
    "        local gens, frb, desc, d, shp;\n",
    "        if lv=0 then\n",
    "            return ;\n",
    "        fi;\n",
    "        frb:=FrobeniusNumber(s);\n",
    "        gens:=Filtered(generators(s), x-> x>frb);\n",
    "        desc:=List(gens, g->RemoveMinimalGeneratorFromNumericalSemigroup(g,s));\n",
    "        for d in desc do\n",
    "            lbl:=Concatenation(\"{\",JoinStringsWithSeparator(generators(d),\",\"),\"}\");\n",
    "            shp:=Shape(ShapeType!.CIRCLE, lbl);\n",
    "            SetSize(shp,5);\n",
    "            Add(graphTreee,shp);\n",
    "            SetParentNode(shp,n);\n",
    "            sonsf(d,shp,lv-1);\n",
    "        od;\n",
    "        if desc<>[] then\n",
    "            return ;\n",
    "        fi;\n",
    "        #Add(canvas, FrancyMessage(FrancyMessageType.WARNING, \"This semigroup is a leaf\"));\n",
    "        return ;\n",
    "    end;\n",
    "\n",
    "    frb:=FrobeniusNumber(s);\n",
    "    gens:=Filtered(generators(s), x-> x>frb);\n",
    "    desc:=List(gens, g->RemoveMinimalGeneratorFromNumericalSemigroup(g,s));\n",
    "\n",
    "    graphTreee := Graph(GraphType.TREE);\n",
    "    SetCollapsed(graphTreee,false);\n",
    "    shpr:=Shape(ShapeType!.CIRCLE, \"S\");\n",
    "    SetSize(shpr,5);\n",
    "    Add(shpr,FrancyMessage(String(generators(s))));\n",
    "    Add(graphTreee,shpr);\n",
    "    canvas:=Canvas(\"Sons of a numerical semigroup\");\n",
    "    Add(canvas,graphTreee);\n",
    "    sonsf(s,shpr,l);\n",
    "    return Draw(canvas);\n",
    "end;"
   ]
  },
  {
   "cell_type": "markdown",
   "metadata": {},
   "source": [
    "Darker dots correspond either to leaves or to elements with highest genus. Blue nodes can be collapsed by clicking.  "
   ]
  },
  {
   "cell_type": "code",
   "execution_count": 28,
   "metadata": {},
   "outputs": [
    {
     "data": {
      "application/vnd.francy+json": "{\"version\" : \"0.5.4\",\"mime\" : \"application\\/vnd.francy+json\",\"canvas\" : {\"width\" : 800,\"height\" : 600,\"id\" : \"F307\",\"title\" : \"Sons of a numerical semigroup\",\"zoomToFit\" : true,\"texTypesetting\" : false,\"menus\" : {},\"graph\" : {\"type\" : \"tree\",\"id\" : \"F304\",\"simulation\" : true,\"collapsed\" : false,\"drag\" : false,\"showNeighbours\" : false,\"nodes\" : {\"F305\" : {\"x\" : 0,\"y\" : 0,\"type\" : \"circle\",\"size\" : 5,\"id\" : \"F305\",\"title\" : \"S\",\"highlight\" : true,\"layer\" : 0,\"parent\" : \"\",\"menus\" : {},\"messages\" : {\"F306\" : {\"type\" : \"default\",\"id\" : \"F306\",\"text\" : \"[ 1 ]\",\"title\" : \"\"}},\"callbacks\" : {}},\"F308\" : {\"x\" : 0,\"y\" : 0,\"type\" : \"circle\",\"size\" : 5,\"id\" : \"F308\",\"title\" : \"{2,3}\",\"highlight\" : true,\"layer\" : 0,\"parent\" : \"F305\",\"menus\" : {},\"messages\" : {},\"callbacks\" : {}},\"F309\" : {\"x\" : 0,\"y\" : 0,\"type\" : \"circle\",\"size\" : 5,\"id\" : \"F309\",\"title\" : \"{3,4,5}\",\"highlight\" : true,\"layer\" : 0,\"parent\" : \"F308\",\"menus\" : {},\"messages\" : {},\"callbacks\" : {}},\"F310\" : {\"x\" : 0,\"y\" : 0,\"type\" : \"circle\",\"size\" : 5,\"id\" : \"F310\",\"title\" : \"{4,5,6,7}\",\"highlight\" : true,\"layer\" : 0,\"parent\" : \"F309\",\"menus\" : {},\"messages\" : {},\"callbacks\" : {}},\"F311\" : {\"x\" : 0,\"y\" : 0,\"type\" : \"circle\",\"size\" : 5,\"id\" : \"F311\",\"title\" : \"{5,6,7,8,9}\",\"highlight\" : true,\"layer\" : 0,\"parent\" : \"F310\",\"menus\" : {},\"messages\" : {},\"callbacks\" : {}},\"F312\" : {\"x\" : 0,\"y\" : 0,\"type\" : \"circle\",\"size\" : 5,\"id\" : \"F312\",\"title\" : \"{4,6,7,9}\",\"highlight\" : true,\"layer\" : 0,\"parent\" : \"F310\",\"menus\" : {},\"messages\" : {},\"callbacks\" : {}},\"F313\" : {\"x\" : 0,\"y\" : 0,\"type\" : \"circle\",\"size\" : 5,\"id\" : \"F313\",\"title\" : \"{4,5,7}\",\"highlight\" : true,\"layer\" : 0,\"parent\" : \"F310\",\"menus\" : {},\"messages\" : {},\"callbacks\" : {}},\"F314\" : {\"x\" : 0,\"y\" : 0,\"type\" : \"circle\",\"size\" : 5,\"id\" : \"F314\",\"title\" : \"{4,5,6}\",\"highlight\" : true,\"layer\" : 0,\"parent\" : \"F310\",\"menus\" : {},\"messages\" : {},\"callbacks\" : {}},\"F315\" : {\"x\" : 0,\"y\" : 0,\"type\" : \"circle\",\"size\" : 5,\"id\" : \"F315\",\"title\" : \"{3,5,7}\",\"highlight\" : true,\"layer\" : 0,\"parent\" : \"F309\",\"menus\" : {},\"messages\" : {},\"callbacks\" : {}},\"F316\" : {\"x\" : 0,\"y\" : 0,\"type\" : \"circle\",\"size\" : 5,\"id\" : \"F316\",\"title\" : \"{3,7,8}\",\"highlight\" : true,\"layer\" : 0,\"parent\" : \"F315\",\"menus\" : {},\"messages\" : {},\"callbacks\" : {}},\"F317\" : {\"x\" : 0,\"y\" : 0,\"type\" : \"circle\",\"size\" : 5,\"id\" : \"F317\",\"title\" : \"{3,5}\",\"highlight\" : true,\"layer\" : 0,\"parent\" : \"F315\",\"menus\" : {},\"messages\" : {},\"callbacks\" : {}},\"F318\" : {\"x\" : 0,\"y\" : 0,\"type\" : \"circle\",\"size\" : 5,\"id\" : \"F318\",\"title\" : \"{3,4}\",\"highlight\" : true,\"layer\" : 0,\"parent\" : \"F309\",\"menus\" : {},\"messages\" : {},\"callbacks\" : {}},\"F319\" : {\"x\" : 0,\"y\" : 0,\"type\" : \"circle\",\"size\" : 5,\"id\" : \"F319\",\"title\" : \"{2,5}\",\"highlight\" : true,\"layer\" : 0,\"parent\" : \"F308\",\"menus\" : {},\"messages\" : {},\"callbacks\" : {}},\"F320\" : {\"x\" : 0,\"y\" : 0,\"type\" : \"circle\",\"size\" : 5,\"id\" : \"F320\",\"title\" : \"{2,7}\",\"highlight\" : true,\"layer\" : 0,\"parent\" : \"F319\",\"menus\" : {},\"messages\" : {},\"callbacks\" : {}},\"F321\" : {\"x\" : 0,\"y\" : 0,\"type\" : \"circle\",\"size\" : 5,\"id\" : \"F321\",\"title\" : \"{2,9}\",\"highlight\" : true,\"layer\" : 0,\"parent\" : \"F320\",\"menus\" : {},\"messages\" : {},\"callbacks\" : {}}},\"links\" : {}},\"messages\" : {}}}"
     },
     "execution_count": 28,
     "metadata": {},
     "output_type": "execute_result"
    }
   ],
   "source": [
    "sonstree(NumericalSemigroup(1),4,MinimalGenerators);"
   ]
  },
  {
   "cell_type": "markdown",
   "metadata": {},
   "source": [
    "And we can get also the tree of Arf numerical semigroups"
   ]
  },
  {
   "cell_type": "code",
   "execution_count": 29,
   "metadata": {},
   "outputs": [
    {
     "data": {
      "application/vnd.francy+json": "{\"version\" : \"0.5.4\",\"mime\" : \"application\\/vnd.francy+json\",\"canvas\" : {\"width\" : 800,\"height\" : 600,\"id\" : \"F325\",\"title\" : \"Sons of a numerical semigroup\",\"zoomToFit\" : true,\"texTypesetting\" : false,\"menus\" : {},\"graph\" : {\"type\" : \"tree\",\"id\" : \"F322\",\"simulation\" : true,\"collapsed\" : false,\"drag\" : false,\"showNeighbours\" : false,\"nodes\" : {\"F323\" : {\"x\" : 0,\"y\" : 0,\"type\" : \"circle\",\"size\" : 5,\"id\" : \"F323\",\"title\" : \"S\",\"highlight\" : true,\"layer\" : 0,\"parent\" : \"\",\"menus\" : {},\"messages\" : {\"F324\" : {\"type\" : \"default\",\"id\" : \"F324\",\"text\" : \"[ 1 ]\",\"title\" : \"\"}},\"callbacks\" : {}},\"F326\" : {\"x\" : 0,\"y\" : 0,\"type\" : \"circle\",\"size\" : 5,\"id\" : \"F326\",\"title\" : \"{2,3}\",\"highlight\" : true,\"layer\" : 0,\"parent\" : \"F323\",\"menus\" : {},\"messages\" : {},\"callbacks\" : {}},\"F327\" : {\"x\" : 0,\"y\" : 0,\"type\" : \"circle\",\"size\" : 5,\"id\" : \"F327\",\"title\" : \"{3,4}\",\"highlight\" : true,\"layer\" : 0,\"parent\" : \"F326\",\"menus\" : {},\"messages\" : {},\"callbacks\" : {}},\"F328\" : {\"x\" : 0,\"y\" : 0,\"type\" : \"circle\",\"size\" : 5,\"id\" : \"F328\",\"title\" : \"{4,5}\",\"highlight\" : true,\"layer\" : 0,\"parent\" : \"F327\",\"menus\" : {},\"messages\" : {},\"callbacks\" : {}},\"F329\" : {\"x\" : 0,\"y\" : 0,\"type\" : \"circle\",\"size\" : 5,\"id\" : \"F329\",\"title\" : \"{5,6}\",\"highlight\" : true,\"layer\" : 0,\"parent\" : \"F328\",\"menus\" : {},\"messages\" : {},\"callbacks\" : {}},\"F330\" : {\"x\" : 0,\"y\" : 0,\"type\" : \"circle\",\"size\" : 5,\"id\" : \"F330\",\"title\" : \"{6,7}\",\"highlight\" : true,\"layer\" : 0,\"parent\" : \"F329\",\"menus\" : {},\"messages\" : {},\"callbacks\" : {}},\"F331\" : {\"x\" : 0,\"y\" : 0,\"type\" : \"circle\",\"size\" : 5,\"id\" : \"F331\",\"title\" : \"{7,8}\",\"highlight\" : true,\"layer\" : 0,\"parent\" : \"F330\",\"menus\" : {},\"messages\" : {},\"callbacks\" : {}},\"F332\" : {\"x\" : 0,\"y\" : 0,\"type\" : \"circle\",\"size\" : 5,\"id\" : \"F332\",\"title\" : \"{8,9}\",\"highlight\" : true,\"layer\" : 0,\"parent\" : \"F331\",\"menus\" : {},\"messages\" : {},\"callbacks\" : {}},\"F333\" : {\"x\" : 0,\"y\" : 0,\"type\" : \"circle\",\"size\" : 5,\"id\" : \"F333\",\"title\" : \"{9,10}\",\"highlight\" : true,\"layer\" : 0,\"parent\" : \"F332\",\"menus\" : {},\"messages\" : {},\"callbacks\" : {}},\"F334\" : {\"x\" : 0,\"y\" : 0,\"type\" : \"circle\",\"size\" : 5,\"id\" : \"F334\",\"title\" : \"{8,10,11}\",\"highlight\" : true,\"layer\" : 0,\"parent\" : \"F332\",\"menus\" : {},\"messages\" : {},\"callbacks\" : {}},\"F335\" : {\"x\" : 0,\"y\" : 0,\"type\" : \"circle\",\"size\" : 5,\"id\" : \"F335\",\"title\" : \"{7,9,10}\",\"highlight\" : true,\"layer\" : 0,\"parent\" : \"F331\",\"menus\" : {},\"messages\" : {},\"callbacks\" : {}},\"F336\" : {\"x\" : 0,\"y\" : 0,\"type\" : \"circle\",\"size\" : 5,\"id\" : \"F336\",\"title\" : \"{7,10,11}\",\"highlight\" : true,\"layer\" : 0,\"parent\" : \"F335\",\"menus\" : {},\"messages\" : {},\"callbacks\" : {}},\"F337\" : {\"x\" : 0,\"y\" : 0,\"type\" : \"circle\",\"size\" : 5,\"id\" : \"F337\",\"title\" : \"{7,9,12}\",\"highlight\" : true,\"layer\" : 0,\"parent\" : \"F335\",\"menus\" : {},\"messages\" : {},\"callbacks\" : {}},\"F338\" : {\"x\" : 0,\"y\" : 0,\"type\" : \"circle\",\"size\" : 5,\"id\" : \"F338\",\"title\" : \"{6,8,9}\",\"highlight\" : true,\"layer\" : 0,\"parent\" : \"F330\",\"menus\" : {},\"messages\" : {},\"callbacks\" : {}},\"F339\" : {\"x\" : 0,\"y\" : 0,\"type\" : \"circle\",\"size\" : 5,\"id\" : \"F339\",\"title\" : \"{6,9,10}\",\"highlight\" : true,\"layer\" : 0,\"parent\" : \"F338\",\"menus\" : {},\"messages\" : {},\"callbacks\" : {}},\"F340\" : {\"x\" : 0,\"y\" : 0,\"type\" : \"circle\",\"size\" : 5,\"id\" : \"F340\",\"title\" : \"{6,10,11}\",\"highlight\" : true,\"layer\" : 0,\"parent\" : \"F339\",\"menus\" : {},\"messages\" : {},\"callbacks\" : {}},\"F341\" : {\"x\" : 0,\"y\" : 0,\"type\" : \"circle\",\"size\" : 5,\"id\" : \"F341\",\"title\" : \"{6,9,11}\",\"highlight\" : true,\"layer\" : 0,\"parent\" : \"F339\",\"menus\" : {},\"messages\" : {},\"callbacks\" : {}},\"F342\" : {\"x\" : 0,\"y\" : 0,\"type\" : \"circle\",\"size\" : 5,\"id\" : \"F342\",\"title\" : \"{6,8,11}\",\"highlight\" : true,\"layer\" : 0,\"parent\" : \"F338\",\"menus\" : {},\"messages\" : {},\"callbacks\" : {}},\"F343\" : {\"x\" : 0,\"y\" : 0,\"type\" : \"circle\",\"size\" : 5,\"id\" : \"F343\",\"title\" : \"{6,8,13}\",\"highlight\" : true,\"layer\" : 0,\"parent\" : \"F342\",\"menus\" : {},\"messages\" : {},\"callbacks\" : {}},\"F344\" : {\"x\" : 0,\"y\" : 0,\"type\" : \"circle\",\"size\" : 5,\"id\" : \"F344\",\"title\" : \"{5,7,8}\",\"highlight\" : true,\"layer\" : 0,\"parent\" : \"F329\",\"menus\" : {},\"messages\" : {},\"callbacks\" : {}},\"F345\" : {\"x\" : 0,\"y\" : 0,\"type\" : \"circle\",\"size\" : 5,\"id\" : \"F345\",\"title\" : \"{5,8,9}\",\"highlight\" : true,\"layer\" : 0,\"parent\" : \"F344\",\"menus\" : {},\"messages\" : {},\"callbacks\" : {}},\"F346\" : {\"x\" : 0,\"y\" : 0,\"type\" : \"circle\",\"size\" : 5,\"id\" : \"F346\",\"title\" : \"{5,9}\",\"highlight\" : true,\"layer\" : 0,\"parent\" : \"F345\",\"menus\" : {},\"messages\" : {},\"callbacks\" : {}},\"F347\" : {\"x\" : 0,\"y\" : 0,\"type\" : \"circle\",\"size\" : 5,\"id\" : \"F347\",\"title\" : \"{5,11}\",\"highlight\" : true,\"layer\" : 0,\"parent\" : \"F346\",\"menus\" : {},\"messages\" : {},\"callbacks\" : {}},\"F348\" : {\"x\" : 0,\"y\" : 0,\"type\" : \"circle\",\"size\" : 5,\"id\" : \"F348\",\"title\" : \"{5,8}\",\"highlight\" : true,\"layer\" : 0,\"parent\" : \"F345\",\"menus\" : {},\"messages\" : {},\"callbacks\" : {}},\"F349\" : {\"x\" : 0,\"y\" : 0,\"type\" : \"circle\",\"size\" : 5,\"id\" : \"F349\",\"title\" : \"{5,7}\",\"highlight\" : true,\"layer\" : 0,\"parent\" : \"F344\",\"menus\" : {},\"messages\" : {},\"callbacks\" : {}},\"F350\" : {\"x\" : 0,\"y\" : 0,\"type\" : \"circle\",\"size\" : 5,\"id\" : \"F350\",\"title\" : \"{4,6,7}\",\"highlight\" : true,\"layer\" : 0,\"parent\" : \"F328\",\"menus\" : {},\"messages\" : {},\"callbacks\" : {}},\"F351\" : {\"x\" : 0,\"y\" : 0,\"type\" : \"circle\",\"size\" : 5,\"id\" : \"F351\",\"title\" : \"{4,7}\",\"highlight\" : true,\"layer\" : 0,\"parent\" : \"F350\",\"menus\" : {},\"messages\" : {},\"callbacks\" : {}},\"F352\" : {\"x\" : 0,\"y\" : 0,\"type\" : \"circle\",\"size\" : 5,\"id\" : \"F352\",\"title\" : \"{4,9}\",\"highlight\" : true,\"layer\" : 0,\"parent\" : \"F351\",\"menus\" : {},\"messages\" : {},\"callbacks\" : {}},\"F353\" : {\"x\" : 0,\"y\" : 0,\"type\" : \"circle\",\"size\" : 5,\"id\" : \"F353\",\"title\" : \"{4,10,11}\",\"highlight\" : true,\"layer\" : 0,\"parent\" : \"F352\",\"menus\" : {},\"messages\" : {},\"callbacks\" : {}},\"F354\" : {\"x\" : 0,\"y\" : 0,\"type\" : \"circle\",\"size\" : 5,\"id\" : \"F354\",\"title\" : \"{4,11}\",\"highlight\" : true,\"layer\" : 0,\"parent\" : \"F353\",\"menus\" : {},\"messages\" : {},\"callbacks\" : {}},\"F355\" : {\"x\" : 0,\"y\" : 0,\"type\" : \"circle\",\"size\" : 5,\"id\" : \"F355\",\"title\" : \"{4,10,13}\",\"highlight\" : true,\"layer\" : 0,\"parent\" : \"F353\",\"menus\" : {},\"messages\" : {},\"callbacks\" : {}},\"F356\" : {\"x\" : 0,\"y\" : 0,\"type\" : \"circle\",\"size\" : 5,\"id\" : \"F356\",\"title\" : \"{4,6,9}\",\"highlight\" : true,\"layer\" : 0,\"parent\" : \"F350\",\"menus\" : {},\"messages\" : {},\"callbacks\" : {}},\"F357\" : {\"x\" : 0,\"y\" : 0,\"type\" : \"circle\",\"size\" : 5,\"id\" : \"F357\",\"title\" : \"{4,6,11}\",\"highlight\" : true,\"layer\" : 0,\"parent\" : \"F356\",\"menus\" : {},\"messages\" : {},\"callbacks\" : {}},\"F358\" : {\"x\" : 0,\"y\" : 0,\"type\" : \"circle\",\"size\" : 5,\"id\" : \"F358\",\"title\" : \"{4,6,13}\",\"highlight\" : true,\"layer\" : 0,\"parent\" : \"F357\",\"menus\" : {},\"messages\" : {},\"callbacks\" : {}},\"F359\" : {\"x\" : 0,\"y\" : 0,\"type\" : \"circle\",\"size\" : 5,\"id\" : \"F359\",\"title\" : \"{4,6,15}\",\"highlight\" : true,\"layer\" : 0,\"parent\" : \"F358\",\"menus\" : {},\"messages\" : {},\"callbacks\" : {}},\"F360\" : {\"x\" : 0,\"y\" : 0,\"type\" : \"circle\",\"size\" : 5,\"id\" : \"F360\",\"title\" : \"{3,5}\",\"highlight\" : true,\"layer\" : 0,\"parent\" : \"F327\",\"menus\" : {},\"messages\" : {},\"callbacks\" : {}},\"F361\" : {\"x\" : 0,\"y\" : 0,\"type\" : \"circle\",\"size\" : 5,\"id\" : \"F361\",\"title\" : \"{3,7}\",\"highlight\" : true,\"layer\" : 0,\"parent\" : \"F360\",\"menus\" : {},\"messages\" : {},\"callbacks\" : {}},\"F362\" : {\"x\" : 0,\"y\" : 0,\"type\" : \"circle\",\"size\" : 5,\"id\" : \"F362\",\"title\" : \"{3,8}\",\"highlight\" : true,\"layer\" : 0,\"parent\" : \"F361\",\"menus\" : {},\"messages\" : {},\"callbacks\" : {}},\"F363\" : {\"x\" : 0,\"y\" : 0,\"type\" : \"circle\",\"size\" : 5,\"id\" : \"F363\",\"title\" : \"{3,10}\",\"highlight\" : true,\"layer\" : 0,\"parent\" : \"F362\",\"menus\" : {},\"messages\" : {},\"callbacks\" : {}},\"F364\" : {\"x\" : 0,\"y\" : 0,\"type\" : \"circle\",\"size\" : 5,\"id\" : \"F364\",\"title\" : \"{3,11}\",\"highlight\" : true,\"layer\" : 0,\"parent\" : \"F363\",\"menus\" : {},\"messages\" : {},\"callbacks\" : {}},\"F365\" : {\"x\" : 0,\"y\" : 0,\"type\" : \"circle\",\"size\" : 5,\"id\" : \"F365\",\"title\" : \"{3,13}\",\"highlight\" : true,\"layer\" : 0,\"parent\" : \"F364\",\"menus\" : {},\"messages\" : {},\"callbacks\" : {}},\"F366\" : {\"x\" : 0,\"y\" : 0,\"type\" : \"circle\",\"size\" : 5,\"id\" : \"F366\",\"title\" : \"{2,5}\",\"highlight\" : true,\"layer\" : 0,\"parent\" : \"F326\",\"menus\" : {},\"messages\" : {},\"callbacks\" : {}},\"F367\" : {\"x\" : 0,\"y\" : 0,\"type\" : \"circle\",\"size\" : 5,\"id\" : \"F367\",\"title\" : \"{2,7}\",\"highlight\" : true,\"layer\" : 0,\"parent\" : \"F366\",\"menus\" : {},\"messages\" : {},\"callbacks\" : {}},\"F368\" : {\"x\" : 0,\"y\" : 0,\"type\" : \"circle\",\"size\" : 5,\"id\" : \"F368\",\"title\" : \"{2,9}\",\"highlight\" : true,\"layer\" : 0,\"parent\" : \"F367\",\"menus\" : {},\"messages\" : {},\"callbacks\" : {}},\"F369\" : {\"x\" : 0,\"y\" : 0,\"type\" : \"circle\",\"size\" : 5,\"id\" : \"F369\",\"title\" : \"{2,11}\",\"highlight\" : true,\"layer\" : 0,\"parent\" : \"F368\",\"menus\" : {},\"messages\" : {},\"callbacks\" : {}},\"F370\" : {\"x\" : 0,\"y\" : 0,\"type\" : \"circle\",\"size\" : 5,\"id\" : \"F370\",\"title\" : \"{2,13}\",\"highlight\" : true,\"layer\" : 0,\"parent\" : \"F369\",\"menus\" : {},\"messages\" : {},\"callbacks\" : {}},\"F371\" : {\"x\" : 0,\"y\" : 0,\"type\" : \"circle\",\"size\" : 5,\"id\" : \"F371\",\"title\" : \"{2,15}\",\"highlight\" : true,\"layer\" : 0,\"parent\" : \"F370\",\"menus\" : {},\"messages\" : {},\"callbacks\" : {}},\"F372\" : {\"x\" : 0,\"y\" : 0,\"type\" : \"circle\",\"size\" : 5,\"id\" : \"F372\",\"title\" : \"{2,17}\",\"highlight\" : true,\"layer\" : 0,\"parent\" : \"F371\",\"menus\" : {},\"messages\" : {},\"callbacks\" : {}}},\"links\" : {}},\"messages\" : {}}}"
     },
     "execution_count": 29,
     "metadata": {},
     "output_type": "execute_result"
    }
   ],
   "source": [
    "sonstree(NumericalSemigroup(1),8,ArfCharactersOfArfNumericalSemigroup);"
   ]
  },
  {
   "cell_type": "markdown",
   "metadata": {},
   "source": [
    "## Oversemigroups"
   ]
  },
  {
   "cell_type": "code",
   "execution_count": 30,
   "metadata": {},
   "outputs": [
    {
     "data": {
      "text/plain": [
       "function( s ) ... end"
      ]
     },
     "execution_count": 30,
     "metadata": {},
     "output_type": "execute_result"
    }
   ],
   "source": [
    "oversemigroups:=function(s)\n",
    "    local ov, graphHasse, canvas,c,i,r,ovs,n,hasse,lbl;\n",
    "    \n",
    "    hasse:=function(rel)\n",
    "      local dom, out;\n",
    "      dom:=Flat(rel);\n",
    "      out:=Filtered(rel, p-> ForAny(dom, x->([p[1],x] in rel) and ([x,p[2]] in rel)));\n",
    "      return Difference(rel,out);\n",
    "    end;\n",
    "\n",
    "    ov:=OverSemigroupsNumericalSemigroup(s);\n",
    "    n:=Length(ov);\n",
    "    graphHasse := Graph(GraphType.HASSE);\n",
    "    SetSimulation(graphHasse,true);\n",
    "    SetDrag(graphHasse,true);\n",
    "    c:=Cartesian([1..n],[1..n]);\n",
    "    c:=Filtered(c, p-> p[2]<>p[1]);\n",
    "    c:=Filtered(c, p-> IsSubset(ov[p[1]],ov[p[2]]));\n",
    "    c:=hasse(c);\n",
    "    ovs:=[];\n",
    "    for i in [1..n] do\n",
    "    lbl:=Concatenation(\"〈\",JoinStringsWithSeparator(MinimalGenerators(ov[i]),\",\"),\"〉\");\n",
    "\n",
    "\n",
    "        if IsIrreducible(ov[i]) then\n",
    "            ovs[i]:=Shape(ShapeType!.DIAMOND, lbl);\n",
    "        else\n",
    "            ovs[i]:=Shape(ShapeType!.CIRCLE, lbl);\n",
    "        fi;\n",
    "        SetLayer(ovs[i],Genus(ov[i]));\n",
    "    SetSize(ovs[i],2);\n",
    "    Add(graphHasse,ovs[i]);\n",
    "    od;\n",
    "    for r in c do\n",
    "        Add(graphHasse,Link(ovs[r[1]],ovs[r[2]]));\n",
    "    od;\n",
    "    canvas:=Canvas(\"Oversemigroups\");\n",
    "    Add(canvas,graphHasse);\n",
    "    return Draw(canvas);    \n",
    "end;"
   ]
  },
  {
   "cell_type": "markdown",
   "metadata": {},
   "source": [
    "A Hasse diagram of the set of oversemigroups of the given numerical semigroup is displayed. Irreducible numerical semigroups are drawn as diamonds. "
   ]
  },
  {
   "cell_type": "code",
   "execution_count": 31,
   "metadata": {
    "scrolled": false
   },
   "outputs": [
    {
     "data": {
      "application/vnd.francy+json": "{\"version\" : \"0.5.4\",\"mime\" : \"application\\/vnd.francy+json\",\"canvas\" : {\"width\" : 800,\"height\" : 600,\"id\" : \"F417\",\"title\" : \"Oversemigroups\",\"zoomToFit\" : true,\"texTypesetting\" : false,\"menus\" : {},\"graph\" : {\"type\" : \"hasse\",\"id\" : \"F373\",\"simulation\" : true,\"collapsed\" : true,\"drag\" : true,\"showNeighbours\" : false,\"nodes\" : {\"F374\" : {\"x\" : 0,\"y\" : 0,\"type\" : \"diamond\",\"size\" : 2,\"id\" : \"F374\",\"title\" : \"〈1〉\",\"highlight\" : true,\"layer\" : 0,\"parent\" : \"\",\"menus\" : {},\"messages\" : {},\"callbacks\" : {}},\"F375\" : {\"x\" : 0,\"y\" : 0,\"type\" : \"diamond\",\"size\" : 2,\"id\" : \"F375\",\"title\" : \"〈2,3〉\",\"highlight\" : true,\"layer\" : 1,\"parent\" : \"\",\"menus\" : {},\"messages\" : {},\"callbacks\" : {}},\"F376\" : {\"x\" : 0,\"y\" : 0,\"type\" : \"diamond\",\"size\" : 2,\"id\" : \"F376\",\"title\" : \"〈2,5〉\",\"highlight\" : true,\"layer\" : 2,\"parent\" : \"\",\"menus\" : {},\"messages\" : {},\"callbacks\" : {}},\"F377\" : {\"x\" : 0,\"y\" : 0,\"type\" : \"diamond\",\"size\" : 2,\"id\" : \"F377\",\"title\" : \"〈2,7〉\",\"highlight\" : true,\"layer\" : 3,\"parent\" : \"\",\"menus\" : {},\"messages\" : {},\"callbacks\" : {}},\"F378\" : {\"x\" : 0,\"y\" : 0,\"type\" : \"diamond\",\"size\" : 2,\"id\" : \"F378\",\"title\" : \"〈3,4,5〉\",\"highlight\" : true,\"layer\" : 2,\"parent\" : \"\",\"menus\" : {},\"messages\" : {},\"callbacks\" : {}},\"F379\" : {\"x\" : 0,\"y\" : 0,\"type\" : \"diamond\",\"size\" : 2,\"id\" : \"F379\",\"title\" : \"〈3,4〉\",\"highlight\" : true,\"layer\" : 3,\"parent\" : \"\",\"menus\" : {},\"messages\" : {},\"callbacks\" : {}},\"F380\" : {\"x\" : 0,\"y\" : 0,\"type\" : \"diamond\",\"size\" : 2,\"id\" : \"F380\",\"title\" : \"〈3,5,7〉\",\"highlight\" : true,\"layer\" : 3,\"parent\" : \"\",\"menus\" : {},\"messages\" : {},\"callbacks\" : {}},\"F381\" : {\"x\" : 0,\"y\" : 0,\"type\" : \"circle\",\"size\" : 2,\"id\" : \"F381\",\"title\" : \"〈3,7,8〉\",\"highlight\" : true,\"layer\" : 4,\"parent\" : \"\",\"menus\" : {},\"messages\" : {},\"callbacks\" : {}},\"F382\" : {\"x\" : 0,\"y\" : 0,\"type\" : \"diamond\",\"size\" : 2,\"id\" : \"F382\",\"title\" : \"〈3,7,11〉\",\"highlight\" : true,\"layer\" : 5,\"parent\" : \"\",\"menus\" : {},\"messages\" : {},\"callbacks\" : {}},\"F383\" : {\"x\" : 0,\"y\" : 0,\"type\" : \"circle\",\"size\" : 2,\"id\" : \"F383\",\"title\" : \"〈4,5,6,7〉\",\"highlight\" : true,\"layer\" : 3,\"parent\" : \"\",\"menus\" : {},\"messages\" : {},\"callbacks\" : {}},\"F384\" : {\"x\" : 0,\"y\" : 0,\"type\" : \"circle\",\"size\" : 2,\"id\" : \"F384\",\"title\" : \"〈4,6,7,9〉\",\"highlight\" : true,\"layer\" : 4,\"parent\" : \"\",\"menus\" : {},\"messages\" : {},\"callbacks\" : {}},\"F385\" : {\"x\" : 0,\"y\" : 0,\"type\" : \"circle\",\"size\" : 2,\"id\" : \"F385\",\"title\" : \"〈5,6,7,8,9〉\",\"highlight\" : true,\"layer\" : 4,\"parent\" : \"\",\"menus\" : {},\"messages\" : {},\"callbacks\" : {}},\"F386\" : {\"x\" : 0,\"y\" : 0,\"type\" : \"diamond\",\"size\" : 2,\"id\" : \"F386\",\"title\" : \"〈5,6,7,9〉\",\"highlight\" : true,\"layer\" : 5,\"parent\" : \"\",\"menus\" : {},\"messages\" : {},\"callbacks\" : {}},\"F387\" : {\"x\" : 0,\"y\" : 0,\"type\" : \"circle\",\"size\" : 2,\"id\" : \"F387\",\"title\" : \"〈6,7,8,9,10,11〉\",\"highlight\" : true,\"layer\" : 5,\"parent\" : \"\",\"menus\" : {},\"messages\" : {},\"callbacks\" : {}},\"F388\" : {\"x\" : 0,\"y\" : 0,\"type\" : \"diamond\",\"size\" : 2,\"id\" : \"F388\",\"title\" : \"〈6,7,8,9,11〉\",\"highlight\" : true,\"layer\" : 6,\"parent\" : \"\",\"menus\" : {},\"messages\" : {},\"callbacks\" : {}},\"F389\" : {\"x\" : 0,\"y\" : 0,\"type\" : \"circle\",\"size\" : 2,\"id\" : \"F389\",\"title\" : \"〈6,7,9,10,11〉\",\"highlight\" : true,\"layer\" : 6,\"parent\" : \"\",\"menus\" : {},\"messages\" : {},\"callbacks\" : {}},\"F390\" : {\"x\" : 0,\"y\" : 0,\"type\" : \"circle\",\"size\" : 2,\"id\" : \"F390\",\"title\" : \"〈6,7,9,11〉\",\"highlight\" : true,\"layer\" : 7,\"parent\" : \"\",\"menus\" : {},\"messages\" : {},\"callbacks\" : {}}},\"links\" : {\"F391\" : {\"source\" : \"F374\",\"id\" : \"F391\",\"target\" : \"F375\"},\"F392\" : {\"source\" : \"F375\",\"id\" : \"F392\",\"target\" : \"F376\"},\"F393\" : {\"source\" : \"F375\",\"id\" : \"F393\",\"target\" : \"F378\"},\"F394\" : {\"source\" : \"F376\",\"id\" : \"F394\",\"target\" : \"F377\"},\"F395\" : {\"source\" : \"F376\",\"id\" : \"F395\",\"target\" : \"F383\"},\"F396\" : {\"source\" : \"F377\",\"id\" : \"F396\",\"target\" : \"F384\"},\"F397\" : {\"source\" : \"F378\",\"id\" : \"F397\",\"target\" : \"F379\"},\"F398\" : {\"source\" : \"F378\",\"id\" : \"F398\",\"target\" : \"F380\"},\"F399\" : {\"source\" : \"F378\",\"id\" : \"F399\",\"target\" : \"F383\"},\"F400\" : {\"source\" : \"F379\",\"id\" : \"F400\",\"target\" : \"F381\"},\"F401\" : {\"source\" : \"F379\",\"id\" : \"F401\",\"target\" : \"F384\"},\"F402\" : {\"source\" : \"F380\",\"id\" : \"F402\",\"target\" : \"F381\"},\"F403\" : {\"source\" : \"F380\",\"id\" : \"F403\",\"target\" : \"F385\"},\"F404\" : {\"source\" : \"F381\",\"id\" : \"F404\",\"target\" : \"F382\"},\"F405\" : {\"source\" : \"F381\",\"id\" : \"F405\",\"target\" : \"F387\"},\"F406\" : {\"source\" : \"F382\",\"id\" : \"F406\",\"target\" : \"F389\"},\"F407\" : {\"source\" : \"F383\",\"id\" : \"F407\",\"target\" : \"F384\"},\"F408\" : {\"source\" : \"F383\",\"id\" : \"F408\",\"target\" : \"F385\"},\"F409\" : {\"source\" : \"F384\",\"id\" : \"F409\",\"target\" : \"F387\"},\"F410\" : {\"source\" : \"F385\",\"id\" : \"F410\",\"target\" : \"F386\"},\"F411\" : {\"source\" : \"F385\",\"id\" : \"F411\",\"target\" : \"F387\"},\"F412\" : {\"source\" : \"F386\",\"id\" : \"F412\",\"target\" : \"F389\"},\"F413\" : {\"source\" : \"F387\",\"id\" : \"F413\",\"target\" : \"F388\"},\"F414\" : {\"source\" : \"F387\",\"id\" : \"F414\",\"target\" : \"F389\"},\"F415\" : {\"source\" : \"F388\",\"id\" : \"F415\",\"target\" : \"F390\"},\"F416\" : {\"source\" : \"F389\",\"id\" : \"F416\",\"target\" : \"F390\"}}},\"messages\" : {}}}"
     },
     "execution_count": 31,
     "metadata": {},
     "output_type": "execute_result"
    }
   ],
   "source": [
    "oversemigroups(NumericalSemigroup(6,7,9,11));"
   ]
  },
  {
   "cell_type": "markdown",
   "metadata": {},
   "source": [
    "## Graphs associated to elements"
   ]
  },
  {
   "cell_type": "markdown",
   "metadata": {},
   "source": [
    "The Eliahou graph of an element in a numerical semigroup is a graph whose vertices are the factorizations of the element, and to vertices are joined with an edge if they have common support."
   ]
  },
  {
   "cell_type": "code",
   "execution_count": 37,
   "metadata": {},
   "outputs": [
    {
     "data": {
      "text/plain": [
       "function( n, s ) ... end"
      ]
     },
     "execution_count": 37,
     "metadata": {},
     "output_type": "execute_result"
    }
   ],
   "source": [
    "DrawEliahouGraph:=function(n,s)\n",
    "    local graph, canvas, f, fs, c, nf, i, p;\n",
    "    \n",
    "    f:=FactorizationsElementWRTNumericalSemigroup(n,s);\n",
    "    graph:=Graph(GraphType.UNDIRECTED);\n",
    "    SetSimulation(graph,true);\n",
    "    SetDrag(graph,true);\n",
    "    nf:=Length(f);\n",
    "    fs:=[];\n",
    "    for i in [1..nf] do \n",
    "        fs[i]:=Shape(ShapeType!.CIRCLE, Concatenation(\"(\",JoinStringsWithSeparator(f[i],\",\"),\")\"));\n",
    "        SetLayer(fs[i],Sum(f[i]));\n",
    "        SetSize(fs[i],1);\n",
    "        Add(graph,fs[i]);\n",
    "    od;\n",
    "    c:=Cartesian([1..nf],[1..nf]);\n",
    "    c:=Filtered(c,p->p[1]<p[2] and f[p[1]]*f[p[2]]<>0);\n",
    "    for p in c do \n",
    "        Add(graph,Link(fs[p[1]],fs[p[2]]));\n",
    "    od;\n",
    "    canvas:=Canvas(\"Eliahou graph\");\n",
    "    Add(canvas,graph);\n",
    "    return Draw(canvas);\n",
    "end;"
   ]
  },
  {
   "cell_type": "code",
   "execution_count": 38,
   "metadata": {},
   "outputs": [
    {
     "data": {
      "text/plain": [
       "Numerical semigroup with 3 generators"
      ]
     },
     "execution_count": 38,
     "metadata": {},
     "output_type": "execute_result"
    }
   ],
   "source": [
    "s:=NumericalSemigroup(5,7,9);"
   ]
  },
  {
   "cell_type": "code",
   "execution_count": 39,
   "metadata": {
    "scrolled": false
   },
   "outputs": [
    {
     "data": {
      "application/vnd.francy+json": "{\"version\" : \"0.5.4\",\"mime\" : \"application\\/vnd.francy+json\",\"canvas\" : {\"width\" : 800,\"height\" : 600,\"id\" : \"F465\",\"title\" : \"Eliahou graph\",\"zoomToFit\" : true,\"texTypesetting\" : false,\"menus\" : {},\"graph\" : {\"type\" : \"undirected\",\"id\" : \"F444\",\"simulation\" : true,\"collapsed\" : true,\"drag\" : true,\"showNeighbours\" : false,\"nodes\" : {\"F445\" : {\"x\" : 0,\"y\" : 0,\"type\" : \"circle\",\"size\" : 1,\"id\" : \"F445\",\"title\" : \"(7,2,0)\",\"highlight\" : true,\"layer\" : 9,\"parent\" : \"\",\"menus\" : {},\"messages\" : {},\"callbacks\" : {}},\"F446\" : {\"x\" : 0,\"y\" : 0,\"type\" : \"circle\",\"size\" : 1,\"id\" : \"F446\",\"title\" : \"(0,7,0)\",\"highlight\" : true,\"layer\" : 7,\"parent\" : \"\",\"menus\" : {},\"messages\" : {},\"callbacks\" : {}},\"F447\" : {\"x\" : 0,\"y\" : 0,\"type\" : \"circle\",\"size\" : 1,\"id\" : \"F447\",\"title\" : \"(8,0,1)\",\"highlight\" : true,\"layer\" : 9,\"parent\" : \"\",\"menus\" : {},\"messages\" : {},\"callbacks\" : {}},\"F448\" : {\"x\" : 0,\"y\" : 0,\"type\" : \"circle\",\"size\" : 1,\"id\" : \"F448\",\"title\" : \"(1,5,1)\",\"highlight\" : true,\"layer\" : 7,\"parent\" : \"\",\"menus\" : {},\"messages\" : {},\"callbacks\" : {}},\"F449\" : {\"x\" : 0,\"y\" : 0,\"type\" : \"circle\",\"size\" : 1,\"id\" : \"F449\",\"title\" : \"(2,3,2)\",\"highlight\" : true,\"layer\" : 7,\"parent\" : \"\",\"menus\" : {},\"messages\" : {},\"callbacks\" : {}},\"F450\" : {\"x\" : 0,\"y\" : 0,\"type\" : \"circle\",\"size\" : 1,\"id\" : \"F450\",\"title\" : \"(3,1,3)\",\"highlight\" : true,\"layer\" : 7,\"parent\" : \"\",\"menus\" : {},\"messages\" : {},\"callbacks\" : {}}},\"links\" : {\"F451\" : {\"source\" : \"F445\",\"id\" : \"F451\",\"target\" : \"F446\"},\"F452\" : {\"source\" : \"F445\",\"id\" : \"F452\",\"target\" : \"F447\"},\"F453\" : {\"source\" : \"F445\",\"id\" : \"F453\",\"target\" : \"F448\"},\"F454\" : {\"source\" : \"F445\",\"id\" : \"F454\",\"target\" : \"F449\"},\"F455\" : {\"source\" : \"F445\",\"id\" : \"F455\",\"target\" : \"F450\"},\"F456\" : {\"source\" : \"F446\",\"id\" : \"F456\",\"target\" : \"F448\"},\"F457\" : {\"source\" : \"F446\",\"id\" : \"F457\",\"target\" : \"F449\"},\"F458\" : {\"source\" : \"F446\",\"id\" : \"F458\",\"target\" : \"F450\"},\"F459\" : {\"source\" : \"F447\",\"id\" : \"F459\",\"target\" : \"F448\"},\"F460\" : {\"source\" : \"F447\",\"id\" : \"F460\",\"target\" : \"F449\"},\"F461\" : {\"source\" : \"F447\",\"id\" : \"F461\",\"target\" : \"F450\"},\"F462\" : {\"source\" : \"F448\",\"id\" : \"F462\",\"target\" : \"F449\"},\"F463\" : {\"source\" : \"F448\",\"id\" : \"F463\",\"target\" : \"F450\"},\"F464\" : {\"source\" : \"F449\",\"id\" : \"F464\",\"target\" : \"F450\"}}},\"messages\" : {}}}"
     },
     "execution_count": 39,
     "metadata": {},
     "output_type": "execute_result"
    }
   ],
   "source": [
    "DrawEliahouGraph(49,s);"
   ]
  },
  {
   "cell_type": "code",
   "execution_count": 35,
   "metadata": {},
   "outputs": [
    {
     "data": {
      "text/plain": [
       "[ 14, 25, 27 ]"
      ]
     },
     "execution_count": 35,
     "metadata": {},
     "output_type": "execute_result"
    }
   ],
   "source": [
    "BettiElements(s);"
   ]
  },
  {
   "cell_type": "code",
   "execution_count": 40,
   "metadata": {},
   "outputs": [
    {
     "data": {
      "application/vnd.francy+json": "{\"version\" : \"0.5.4\",\"mime\" : \"application\\/vnd.francy+json\",\"canvas\" : {\"width\" : 800,\"height\" : 600,\"id\" : \"F469\",\"title\" : \"Eliahou graph\",\"zoomToFit\" : true,\"texTypesetting\" : false,\"menus\" : {},\"graph\" : {\"type\" : \"undirected\",\"id\" : \"F466\",\"simulation\" : true,\"collapsed\" : true,\"drag\" : true,\"showNeighbours\" : false,\"nodes\" : {\"F467\" : {\"x\" : 0,\"y\" : 0,\"type\" : \"circle\",\"size\" : 1,\"id\" : \"F467\",\"title\" : \"(5,0,0)\",\"highlight\" : true,\"layer\" : 5,\"parent\" : \"\",\"menus\" : {},\"messages\" : {},\"callbacks\" : {}},\"F468\" : {\"x\" : 0,\"y\" : 0,\"type\" : \"circle\",\"size\" : 1,\"id\" : \"F468\",\"title\" : \"(0,1,2)\",\"highlight\" : true,\"layer\" : 3,\"parent\" : \"\",\"menus\" : {},\"messages\" : {},\"callbacks\" : {}}},\"links\" : {}},\"messages\" : {}}}"
     },
     "execution_count": 40,
     "metadata": {},
     "output_type": "execute_result"
    }
   ],
   "source": [
    "DrawEliahouGraph(25,s);"
   ]
  },
  {
   "cell_type": "code",
   "execution_count": 43,
   "metadata": {},
   "outputs": [
    {
     "data": {
      "text/plain": [
       "function( n, s ) ... end"
      ]
     },
     "execution_count": 43,
     "metadata": {},
     "output_type": "execute_result"
    }
   ],
   "source": [
    "DrawRosalesGraph:=function(n,s)\n",
    "    local graph, canvas, msg, msgs, c, nv, i, p;\n",
    "    \n",
    "    msg:=Filtered(MinimalGenerators(s), g->n-g in s);\n",
    "    graph:=Graph(GraphType.UNDIRECTED);\n",
    "    SetSimulation(graph,true);\n",
    "    SetDrag(graph,true);\n",
    "    nv:=Length(msg);\n",
    "    msgs:=[];\n",
    "    for i in [1..nv] do \n",
    "        msgs[i]:=Shape(ShapeType!.CIRCLE, String(msg[i]));\n",
    "        SetSize(msgs[i],1);\n",
    "        Add(graph,msgs[i]);\n",
    "    od;\n",
    "    c:=Cartesian([1..nv],[1..nv]);\n",
    "    c:=Filtered(c,p->p[1]<p[2] and n-(msg[p[1]]+msg[p[2]]) in s);\n",
    "    for p in c do \n",
    "        Add(graph,Link(msgs[p[1]],msgs[p[2]]));\n",
    "    od;\n",
    "    canvas:=Canvas(\"Rosales graph\");\n",
    "    Add(canvas,graph);\n",
    "    return Draw(canvas);\n",
    "end;"
   ]
  },
  {
   "cell_type": "code",
   "execution_count": 47,
   "metadata": {},
   "outputs": [
    {
     "data": {
      "application/vnd.francy+json": "{\"version\" : \"0.5.4\",\"mime\" : \"application\\/vnd.francy+json\",\"canvas\" : {\"width\" : 800,\"height\" : 600,\"id\" : \"F503\",\"title\" : \"Rosales graph\",\"zoomToFit\" : true,\"texTypesetting\" : false,\"menus\" : {},\"graph\" : {\"type\" : \"undirected\",\"id\" : \"F496\",\"simulation\" : true,\"collapsed\" : true,\"drag\" : true,\"showNeighbours\" : false,\"nodes\" : {\"F497\" : {\"x\" : 0,\"y\" : 0,\"type\" : \"circle\",\"size\" : 1,\"id\" : \"F497\",\"title\" : \"5\",\"highlight\" : true,\"layer\" : 0,\"parent\" : \"\",\"menus\" : {},\"messages\" : {},\"callbacks\" : {}},\"F498\" : {\"x\" : 0,\"y\" : 0,\"type\" : \"circle\",\"size\" : 1,\"id\" : \"F498\",\"title\" : \"7\",\"highlight\" : true,\"layer\" : 0,\"parent\" : \"\",\"menus\" : {},\"messages\" : {},\"callbacks\" : {}},\"F499\" : {\"x\" : 0,\"y\" : 0,\"type\" : \"circle\",\"size\" : 1,\"id\" : \"F499\",\"title\" : \"9\",\"highlight\" : true,\"layer\" : 0,\"parent\" : \"\",\"menus\" : {},\"messages\" : {},\"callbacks\" : {}}},\"links\" : {\"F500\" : {\"source\" : \"F497\",\"id\" : \"F500\",\"target\" : \"F498\"},\"F501\" : {\"source\" : \"F497\",\"id\" : \"F501\",\"target\" : \"F499\"},\"F502\" : {\"source\" : \"F498\",\"id\" : \"F502\",\"target\" : \"F499\"}}},\"messages\" : {}}}"
     },
     "execution_count": 47,
     "metadata": {},
     "output_type": "execute_result"
    }
   ],
   "source": [
    "DrawRosalesGraph(49,s);"
   ]
  }
 ],
 "metadata": {
  "kernelspec": {
   "display_name": "GAP 4 (native)",
   "language": "gap",
   "name": "gap-native"
  },
  "language_info": {
   "codemirror_mode": "gap",
   "file_extension": ".g",
   "mimetype": "text/x-gap",
   "name": "GAP (native)",
   "nbconvert_exporter": "",
   "pygments_lexer": "gap",
   "version": "4.dev"
  }
 },
 "nbformat": 4,
 "nbformat_minor": 2
}
