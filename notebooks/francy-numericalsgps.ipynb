{
 "cells": [
  {
   "cell_type": "markdown",
   "metadata": {},
   "source": [
    "### Load Francy Package"
   ]
  },
  {
   "cell_type": "code",
   "execution_count": 4,
   "metadata": {},
   "outputs": [
    {
     "data": {
      "text/plain": [
       "true"
      ]
     },
     "execution_count": 3,
     "metadata": {
      "text/plain": "true"
     },
     "output_type": "execute_result"
    },
    {
     "data": {
      "text/plain": [
       "true"
      ]
     },
     "execution_count": 4,
     "metadata": {
      "text/plain": "true"
     },
     "output_type": "execute_result"
    }
   ],
   "source": [
    "LoadPackage(\"francy\");\n",
    "LoadPackage(\"num\");"
   ]
  },
  {
   "cell_type": "markdown",
   "metadata": {},
   "source": [
    "# Drawing Apéry sets"
   ]
  },
  {
   "cell_type": "markdown",
   "metadata": {},
   "source": [
    "This example draws the Apéry set of a numerical semigrup with respect to its multiplicity. By passing over a node with the mouse, the set of factorizations with respect to the minimal generating system of the numerical semigroup is displayed. Clicking a node produces a message with the same information."
   ]
  },
  {
   "cell_type": "code",
   "execution_count": 5,
   "metadata": {},
   "outputs": [
    {
     "data": {
      "text/plain": [
       "function( arg... ) ... end"
      ]
     },
     "execution_count": 5,
     "metadata": {
      "text/plain": "function( arg... ) ... end"
     },
     "output_type": "execute_result"
    }
   ],
   "source": [
    "apery:=function(arg)\n",
    "    local ap,c,hasse, s, n, r, graphHasse, aps, es, canvas, i, order, showfacts;\n",
    "    # rel is a list of lists with two elements representin a binary relation\n",
    "    # hasse(rel) removes from rel the pairs [x,y] such that there exists\n",
    "    # z with [x,z],[z,y] in rel\n",
    "    hasse:=function(rel)\n",
    "      local dom, out;\n",
    "      dom:=Flat(rel);\n",
    "      out:=Filtered(rel, p-> ForAny(dom, x->([p[1],x] in rel) and ([x,p[2]] in rel)));\n",
    "      return Difference(rel,out);\n",
    "    end;\n",
    "\n",
    "    order:=function(x)\n",
    "        return Maximum(LengthsOfFactorizationsElementWRTNumericalSemigroup(x,s));\n",
    "    end;\n",
    "\n",
    "    showfacts:=function(x)\n",
    "        Add(canvas, FrancyMessage(Concatenation(String(x), \" factors as \"),\n",
    "                    String(FactorizationsElementWRTNumericalSemigroup(x,s))));\n",
    "        return Draw(canvas);\n",
    "    end;\n",
    "    if Length(arg)=1 then\n",
    "        s:=arg[1];\n",
    "        n:=MultiplicityOfNumericalSemigroup(s);\n",
    "    fi;\n",
    "    if Length(arg)=2 then\n",
    "        s:=arg[1];\n",
    "        n:=arg[2];\n",
    "    fi;\n",
    "    if Length(arg)>2 then\n",
    "        Error(\"The number of arguments must be one or two\");\n",
    "    fi;\n",
    "  \n",
    "    graphHasse := Graph(GraphType.HASSE);\n",
    "    SetSimulation(graphHasse,true);\n",
    "    SetDrag(graphHasse,true);\n",
    "    ap:=AperyList(s,n);\n",
    "    c:=Cartesian([1..n],[1..n]);\n",
    "    c:=Filtered(c, p-> ap[p[2]]<>ap[p[1]]);\n",
    "    c:=Filtered(c, p-> ap[p[1]]-ap[p[2]] in s);\n",
    "    c:=hasse(c);\n",
    "    aps:=[];\n",
    "    for i in [1..n] do\n",
    "        aps[i]:=Shape(ShapeType!.CIRCLE, String(ap[i]));\n",
    "        SetLayer(aps[i],-order(ap[i]));\n",
    "        Add(aps[i],Callback(showfacts,[ap[i]]));\n",
    "        Add(aps[i],FrancyMessage(String(FactorizationsElementWRTNumericalSemigroup(ap[i],s))));\n",
    "        Add(graphHasse,aps[i]);\n",
    "    od;\n",
    "    for r in c do\n",
    "        Add(graphHasse,Link(aps[r[1]],aps[r[2]]));\n",
    "    od;\n",
    "    canvas:=Canvas(\"Apery\");\n",
    "    Add(canvas,graphHasse);\n",
    "    return Draw(canvas);    \n",
    "end;"
   ]
  },
  {
   "cell_type": "code",
   "execution_count": 6,
   "metadata": {
    "scrolled": false
   },
   "outputs": [
    {
     "data": {
      "application/vnd.francy+json": "{\"version\" : \"0.5.0\",\"mime\" : \"application\\/vnd.francy+json\",\"canvas\" : {\"width\" : 800,\"height\" : 600,\"id\" : \"F45\",\"title\" : \"Apery\",\"zoomToFit\" : true,\"menus\" : {},\"graph\" : {\"type\" : \"hasse\",\"id\" : \"F1\",\"simulation\" : true,\"collapsed\" : true,\"drag\" : true,\"showNeighbours\" : false,\"nodes\" : {\"F2\" : {\"x\" : 0,\"y\" : 0,\"type\" : \"circle\",\"size\" : 10,\"id\" : \"F2\",\"title\" : \"0\",\"layer\" : 0,\"highlight\" : true,\"parent\" : \"\",\"menus\" : {},\"messages\" : {\"F4\" : {\"type\" : \"default\",\"id\" : \"F4\",\"text\" : \"[ [ 0, 0, 0 ] ]\",\"title\" : \"\"}},\"callbacks\" : {\"F3\" : {\"func\" : \"unknown\",\"id\" : \"F3\",\"trigger\" : \"click\",\"knownArgs\" : [\"0\"],\"requiredArgs\" : {}}}},\"F5\" : {\"x\" : 0,\"y\" : 0,\"type\" : \"circle\",\"size\" : 10,\"id\" : \"F5\",\"title\" : \"31\",\"layer\" : -1,\"highlight\" : true,\"parent\" : \"\",\"menus\" : {},\"messages\" : {\"F7\" : {\"type\" : \"default\",\"id\" : \"F7\",\"text\" : \"[ [ 0, 0, 1 ] ]\",\"title\" : \"\"}},\"callbacks\" : {\"F6\" : {\"func\" : \"unknown\",\"id\" : \"F6\",\"trigger\" : \"click\",\"knownArgs\" : [\"31\"],\"requiredArgs\" : {}}}},\"F8\" : {\"x\" : 0,\"y\" : 0,\"type\" : \"circle\",\"size\" : 10,\"id\" : \"F8\",\"title\" : \"62\",\"layer\" : -2,\"highlight\" : true,\"parent\" : \"\",\"menus\" : {},\"messages\" : {\"F10\" : {\"type\" : \"default\",\"id\" : \"F10\",\"text\" : \"[ [ 0, 0, 2 ] ]\",\"title\" : \"\"}},\"callbacks\" : {\"F9\" : {\"func\" : \"unknown\",\"id\" : \"F9\",\"trigger\" : \"click\",\"knownArgs\" : [\"62\"],\"requiredArgs\" : {}}}},\"F11\" : {\"x\" : 0,\"y\" : 0,\"type\" : \"circle\",\"size\" : 10,\"id\" : \"F11\",\"title\" : \"93\",\"layer\" : -3,\"highlight\" : true,\"parent\" : \"\",\"menus\" : {},\"messages\" : {\"F13\" : {\"type\" : \"default\",\"id\" : \"F13\",\"text\" : \"[ [ 0, 0, 3 ] ]\",\"title\" : \"\"}},\"callbacks\" : {\"F12\" : {\"func\" : \"unknown\",\"id\" : \"F12\",\"trigger\" : \"click\",\"knownArgs\" : [\"93\"],\"requiredArgs\" : {}}}},\"F14\" : {\"x\" : 0,\"y\" : 0,\"type\" : \"circle\",\"size\" : 10,\"id\" : \"F14\",\"title\" : \"54\",\"layer\" : -2,\"highlight\" : true,\"parent\" : \"\",\"menus\" : {},\"messages\" : {\"F16\" : {\"type\" : \"default\",\"id\" : \"F16\",\"text\" : \"[ [ 0, 2, 0 ] ]\",\"title\" : \"\"}},\"callbacks\" : {\"F15\" : {\"func\" : \"unknown\",\"id\" : \"F15\",\"trigger\" : \"click\",\"knownArgs\" : [\"54\"],\"requiredArgs\" : {}}}},\"F17\" : {\"x\" : 0,\"y\" : 0,\"type\" : \"circle\",\"size\" : 10,\"id\" : \"F17\",\"title\" : \"85\",\"layer\" : -3,\"highlight\" : true,\"parent\" : \"\",\"menus\" : {},\"messages\" : {\"F19\" : {\"type\" : \"default\",\"id\" : \"F19\",\"text\" : \"[ [ 0, 2, 1 ] ]\",\"title\" : \"\"}},\"callbacks\" : {\"F18\" : {\"func\" : \"unknown\",\"id\" : \"F18\",\"trigger\" : \"click\",\"knownArgs\" : [\"85\"],\"requiredArgs\" : {}}}},\"F20\" : {\"x\" : 0,\"y\" : 0,\"type\" : \"circle\",\"size\" : 10,\"id\" : \"F20\",\"title\" : \"116\",\"layer\" : -4,\"highlight\" : true,\"parent\" : \"\",\"menus\" : {},\"messages\" : {\"F22\" : {\"type\" : \"default\",\"id\" : \"F22\",\"text\" : \"[ [ 0, 2, 2 ] ]\",\"title\" : \"\"}},\"callbacks\" : {\"F21\" : {\"func\" : \"unknown\",\"id\" : \"F21\",\"trigger\" : \"click\",\"knownArgs\" : [\"116\"],\"requiredArgs\" : {}}}},\"F23\" : {\"x\" : 0,\"y\" : 0,\"type\" : \"circle\",\"size\" : 10,\"id\" : \"F23\",\"title\" : \"27\",\"layer\" : -1,\"highlight\" : true,\"parent\" : \"\",\"menus\" : {},\"messages\" : {\"F25\" : {\"type\" : \"default\",\"id\" : \"F25\",\"text\" : \"[ [ 0, 1, 0 ] ]\",\"title\" : \"\"}},\"callbacks\" : {\"F24\" : {\"func\" : \"unknown\",\"id\" : \"F24\",\"trigger\" : \"click\",\"knownArgs\" : [\"27\"],\"requiredArgs\" : {}}}},\"F26\" : {\"x\" : 0,\"y\" : 0,\"type\" : \"circle\",\"size\" : 10,\"id\" : \"F26\",\"title\" : \"58\",\"layer\" : -2,\"highlight\" : true,\"parent\" : \"\",\"menus\" : {},\"messages\" : {\"F28\" : {\"type\" : \"default\",\"id\" : \"F28\",\"text\" : \"[ [ 0, 1, 1 ] ]\",\"title\" : \"\"}},\"callbacks\" : {\"F27\" : {\"func\" : \"unknown\",\"id\" : \"F27\",\"trigger\" : \"click\",\"knownArgs\" : [\"58\"],\"requiredArgs\" : {}}}},\"F29\" : {\"x\" : 0,\"y\" : 0,\"type\" : \"circle\",\"size\" : 10,\"id\" : \"F29\",\"title\" : \"89\",\"layer\" : -3,\"highlight\" : true,\"parent\" : \"\",\"menus\" : {},\"messages\" : {\"F31\" : {\"type\" : \"default\",\"id\" : \"F31\",\"text\" : \"[ [ 0, 1, 2 ] ]\",\"title\" : \"\"}},\"callbacks\" : {\"F30\" : {\"func\" : \"unknown\",\"id\" : \"F30\",\"trigger\" : \"click\",\"knownArgs\" : [\"89\"],\"requiredArgs\" : {}}}}},\"links\" : {\"F32\" : {\"source\" : \"F5\",\"id\" : \"F32\",\"target\" : \"F2\"},\"F33\" : {\"source\" : \"F8\",\"id\" : \"F33\",\"target\" : \"F5\"},\"F34\" : {\"source\" : \"F11\",\"id\" : \"F34\",\"target\" : \"F8\"},\"F35\" : {\"source\" : \"F14\",\"id\" : \"F35\",\"target\" : \"F23\"},\"F36\" : {\"source\" : \"F17\",\"id\" : \"F36\",\"target\" : \"F14\"},\"F37\" : {\"source\" : \"F17\",\"id\" : \"F37\",\"target\" : \"F26\"},\"F38\" : {\"source\" : \"F20\",\"id\" : \"F38\",\"target\" : \"F17\"},\"F39\" : {\"source\" : \"F20\",\"id\" : \"F39\",\"target\" : \"F29\"},\"F40\" : {\"source\" : \"F23\",\"id\" : \"F40\",\"target\" : \"F2\"},\"F41\" : {\"source\" : \"F26\",\"id\" : \"F41\",\"target\" : \"F5\"},\"F42\" : {\"source\" : \"F26\",\"id\" : \"F42\",\"target\" : \"F23\"},\"F43\" : {\"source\" : \"F29\",\"id\" : \"F43\",\"target\" : \"F8\"},\"F44\" : {\"source\" : \"F29\",\"id\" : \"F44\",\"target\" : \"F26\"}}},\"messages\" : {}}}"
     },
     "execution_count": 6,
     "metadata": {
      "text/plain": "~empty~"
     },
     "output_type": "execute_result"
    }
   ],
   "source": [
    "apery(NumericalSemigroup(10,51,27,31));"
   ]
  },
  {
   "cell_type": "markdown",
   "metadata": {},
   "source": [
    "# Drawing sons of numerical semigroups"
   ]
  },
  {
   "cell_type": "markdown",
   "metadata": {},
   "source": [
    "This example shows how to draw the sons of a numerical semigroup in the tree of numerical semigroups. If we click on a node, then the sets of sons of that node are added to the canvas, and if the node is a leaf, a warning message is displayed.\n",
    "\n",
    "Passing the mouse over a node shows the set of minimal generators of the node."
   ]
  },
  {
   "cell_type": "code",
   "execution_count": 7,
   "metadata": {},
   "outputs": [
    {
     "data": {
      "text/plain": [
       "function( s ) ... end"
      ]
     },
     "execution_count": 7,
     "metadata": {
      "text/plain": "function( s ) ... end"
     },
     "output_type": "execute_result"
    }
   ],
   "source": [
    "sons:=function(s)\n",
    "    local gens, frb, desc, graphHasse, d, shpr, shp, canvas, sonsf, i, gn, lbl;\n",
    "    \n",
    "    \n",
    "    sonsf:=function(s,n,lb)\n",
    "        local gens, frb, desc, d, shp, i, lbl, gn;\n",
    "\n",
    "        frb:=FrobeniusNumber(s);\n",
    "        gens:=Filtered(MinimalGenerators(s), x-> x>frb);\n",
    "        desc:=List(gens, g->RemoveMinimalGeneratorFromNumericalSemigroup(g,s));\n",
    "        gn:=Genus(s);\n",
    "        i:=0;\n",
    "        for d in desc do\n",
    "            i:=i+1;\n",
    "        lbl:=Concatenation(lb,\":\",String(i));\n",
    "            shp:=Shape(ShapeType!.CIRCLE, lbl);\n",
    "            SetLayer(shp,Genus(d));\n",
    "            Add(shp,Callback(sonsf,[d,shp,lbl]));\n",
    "            Add(shp,FrancyMessage(String(MinimalGenerators(d))));\n",
    "            Add(graphHasse,shp);\n",
    "            Add(graphHasse,Link(n,shp));\n",
    "        od;\n",
    "        if desc<>[] then \n",
    "            return Draw(canvas);\n",
    "        fi;\n",
    "        Add(canvas, FrancyMessage(FrancyMessageType.WARNING, \"This semigroup is a leaf\"));\n",
    "        return Draw(canvas);\n",
    "    end;\n",
    "    \n",
    "    frb:=FrobeniusNumber(s);\n",
    "    gens:=Filtered(MinimalGenerators(s), x-> x>frb);\n",
    "    desc:=List(gens, g->RemoveMinimalGeneratorFromNumericalSemigroup(g,s));\n",
    "    gn:=Genus(s);\n",
    "\n",
    "    graphHasse := Graph(GraphType.HASSE);\n",
    "    shpr:=Shape(ShapeType!.CIRCLE, \"S\");\n",
    "    Add(shpr,FrancyMessage(String(MinimalGenerators(s))));\n",
    "    SetLayer(shpr,Genus(s));\n",
    "    Add(graphHasse,shpr);\n",
    "    i:=0;\n",
    "    for d in desc do\n",
    "        i:=i+1;\n",
    "        lbl:=Concatenation(\"S\",\":\",String(i));\n",
    "        shp:=Shape(ShapeType!.CIRCLE, lbl);\n",
    "        SetLayer(shp,Genus(d));\n",
    "        Add(shp,Callback(sonsf,[d,shp,lbl]));\n",
    "        Add(shp,FrancyMessage(String(MinimalGenerators(d))));\n",
    "        Add(graphHasse,shp);\n",
    "        Add(graphHasse,Link(shpr,shp));\n",
    "    od;\n",
    "    canvas:=Canvas(\"Sons of a numerical semigroup\");\n",
    "    Add(canvas,graphHasse);\n",
    "    return Draw(canvas);    \n",
    "end;"
   ]
  },
  {
   "cell_type": "code",
   "execution_count": 8,
   "metadata": {
    "scrolled": false
   },
   "outputs": [
    {
     "data": {
      "application/vnd.francy+json": "{\"version\" : \"0.5.0\",\"mime\" : \"application\\/vnd.francy+json\",\"canvas\" : {\"width\" : 800,\"height\" : 600,\"id\" : \"F57\",\"title\" : \"Sons of a numerical semigroup\",\"zoomToFit\" : true,\"menus\" : {},\"graph\" : {\"type\" : \"hasse\",\"id\" : \"F46\",\"simulation\" : true,\"collapsed\" : true,\"drag\" : false,\"showNeighbours\" : false,\"nodes\" : {\"F47\" : {\"x\" : 0,\"y\" : 0,\"type\" : \"circle\",\"size\" : 10,\"id\" : \"F47\",\"title\" : \"S\",\"layer\" : 3,\"highlight\" : true,\"parent\" : \"\",\"menus\" : {},\"messages\" : {\"F48\" : {\"type\" : \"default\",\"id\" : \"F48\",\"text\" : \"[ 3, 5, 7 ]\",\"title\" : \"\"}},\"callbacks\" : {}},\"F49\" : {\"x\" : 0,\"y\" : 0,\"type\" : \"circle\",\"size\" : 10,\"id\" : \"F49\",\"title\" : \"S:1\",\"layer\" : 4,\"highlight\" : true,\"parent\" : \"\",\"menus\" : {},\"messages\" : {\"F51\" : {\"type\" : \"default\",\"id\" : \"F51\",\"text\" : \"[ 3, 7, 8 ]\",\"title\" : \"\"}},\"callbacks\" : {\"F50\" : {\"func\" : \"unknown\",\"id\" : \"F50\",\"trigger\" : \"click\",\"knownArgs\" : [\"<object>\",\"<object>\",\"S:1\"],\"requiredArgs\" : {}}}},\"F53\" : {\"x\" : 0,\"y\" : 0,\"type\" : \"circle\",\"size\" : 10,\"id\" : \"F53\",\"title\" : \"S:2\",\"layer\" : 4,\"highlight\" : true,\"parent\" : \"\",\"menus\" : {},\"messages\" : {\"F55\" : {\"type\" : \"default\",\"id\" : \"F55\",\"text\" : \"[ 3, 5 ]\",\"title\" : \"\"}},\"callbacks\" : {\"F54\" : {\"func\" : \"unknown\",\"id\" : \"F54\",\"trigger\" : \"click\",\"knownArgs\" : [\"<object>\",\"<object>\",\"S:2\"],\"requiredArgs\" : {}}}}},\"links\" : {\"F52\" : {\"source\" : \"F47\",\"id\" : \"F52\",\"target\" : \"F49\"},\"F56\" : {\"source\" : \"F47\",\"id\" : \"F56\",\"target\" : \"F53\"}}},\"messages\" : {}}}"
     },
     "execution_count": 8,
     "metadata": {
      "text/plain": "~empty~"
     },
     "output_type": "execute_result"
    }
   ],
   "source": [
    "sons(NumericalSemigroup(3,5,7));"
   ]
  },
  {
   "cell_type": "markdown",
   "metadata": {},
   "source": [
    "# Tree of numerical semigroups\n",
    "\n",
    "Now we draw the sons of a numerical semigroup `s` in the tree of numerical semigroups up to level `l`."
   ]
  },
  {
   "cell_type": "code",
   "execution_count": 9,
   "metadata": {},
   "outputs": [
    {
     "data": {
      "text/plain": [
       "function( s, l ) ... end"
      ]
     },
     "execution_count": 9,
     "metadata": {
      "text/plain": "function( s, l ) ... end"
     },
     "output_type": "execute_result"
    }
   ],
   "source": [
    "sonstree:=function(s,l)\n",
    "    local gens, frb, desc, graphTreee, d, shpr, shp, canvas, sonsf;\n",
    "    \n",
    "    \n",
    "    sonsf:=function(s,n,lv)\n",
    "        local gens, frb, desc, d, shp;\n",
    "        if lv=0 then \n",
    "            return ;\n",
    "        fi;\n",
    "        frb:=FrobeniusNumber(s);\n",
    "        gens:=Filtered(MinimalGenerators(s), x-> x>frb);\n",
    "        desc:=List(gens, g->RemoveMinimalGeneratorFromNumericalSemigroup(g,s));\n",
    "        for d in desc do\n",
    "            shp:=Shape(ShapeType!.CIRCLE, String(MinimalGenerators(d)));\n",
    "            SetSize(shp,5);\n",
    "            Add(graphTreee,shp);\n",
    "            SetParentNode(shp,n);\n",
    "            sonsf(d,shp,lv-1);\n",
    "        od;\n",
    "        if desc<>[] then \n",
    "            return ;\n",
    "        fi;\n",
    "        #Add(canvas, FrancyMessage(FrancyMessageType.WARNING, \"This semigroup is a leaf\"));\n",
    "        return ;\n",
    "    end;\n",
    "    \n",
    "    frb:=FrobeniusNumber(s);\n",
    "    gens:=Filtered(MinimalGenerators(s), x-> x>frb);\n",
    "    desc:=List(gens, g->RemoveMinimalGeneratorFromNumericalSemigroup(g,s));\n",
    "\n",
    "    graphTreee := Graph(GraphType.TREE);\n",
    "    SetCollapsed(graphTreee,false);\n",
    "    shpr:=Shape(ShapeType!.CIRCLE, \"S\");\n",
    "    SetSize(shpr,5);\n",
    "    Add(shpr,FrancyMessage(String(MinimalGenerators(s))));\n",
    "    Add(graphTreee,shpr);\n",
    "    canvas:=Canvas(\"Sons of a numerical semigroup\");\n",
    "    Add(canvas,graphTreee);\n",
    "    sonsf(s,shpr,l);\n",
    "    return Draw(canvas);    \n",
    "end;"
   ]
  },
  {
   "cell_type": "markdown",
   "metadata": {},
   "source": [
    "Darker dots correspond either to leaves or to elements with highest genus. Blue nodes can be collapsed by clicking.  "
   ]
  },
  {
   "cell_type": "code",
   "execution_count": 10,
   "metadata": {},
   "outputs": [
    {
     "data": {
      "application/vnd.francy+json": "{\"version\" : \"0.5.0\",\"mime\" : \"application\\/vnd.francy+json\",\"canvas\" : {\"width\" : 800,\"height\" : 600,\"id\" : \"F61\",\"title\" : \"Sons of a numerical semigroup\",\"zoomToFit\" : true,\"menus\" : {},\"graph\" : {\"type\" : \"tree\",\"id\" : \"F58\",\"simulation\" : true,\"collapsed\" : false,\"drag\" : false,\"showNeighbours\" : false,\"nodes\" : {\"F59\" : {\"x\" : 0,\"y\" : 0,\"type\" : \"circle\",\"size\" : 5,\"id\" : \"F59\",\"title\" : \"S\",\"layer\" : 0,\"highlight\" : true,\"parent\" : \"\",\"menus\" : {},\"messages\" : {\"F60\" : {\"type\" : \"default\",\"id\" : \"F60\",\"text\" : \"[ 3, 5, 7 ]\",\"title\" : \"\"}},\"callbacks\" : {}},\"F62\" : {\"x\" : 0,\"y\" : 0,\"type\" : \"circle\",\"size\" : 5,\"id\" : \"F62\",\"title\" : \"[ 3, 7, 8 ]\",\"layer\" : 0,\"highlight\" : true,\"parent\" : \"F59\",\"menus\" : {},\"messages\" : {},\"callbacks\" : {}},\"F63\" : {\"x\" : 0,\"y\" : 0,\"type\" : \"circle\",\"size\" : 5,\"id\" : \"F63\",\"title\" : \"[ 3, 8, 10 ]\",\"layer\" : 0,\"highlight\" : true,\"parent\" : \"F62\",\"menus\" : {},\"messages\" : {},\"callbacks\" : {}},\"F64\" : {\"x\" : 0,\"y\" : 0,\"type\" : \"circle\",\"size\" : 5,\"id\" : \"F64\",\"title\" : \"[ 3, 10, 11 ]\",\"layer\" : 0,\"highlight\" : true,\"parent\" : \"F63\",\"menus\" : {},\"messages\" : {},\"callbacks\" : {}},\"F65\" : {\"x\" : 0,\"y\" : 0,\"type\" : \"circle\",\"size\" : 5,\"id\" : \"F65\",\"title\" : \"[ 3, 11, 13 ]\",\"layer\" : 0,\"highlight\" : true,\"parent\" : \"F64\",\"menus\" : {},\"messages\" : {},\"callbacks\" : {}},\"F66\" : {\"x\" : 0,\"y\" : 0,\"type\" : \"circle\",\"size\" : 5,\"id\" : \"F66\",\"title\" : \"[ 3, 10, 14 ]\",\"layer\" : 0,\"highlight\" : true,\"parent\" : \"F64\",\"menus\" : {},\"messages\" : {},\"callbacks\" : {}},\"F67\" : {\"x\" : 0,\"y\" : 0,\"type\" : \"circle\",\"size\" : 5,\"id\" : \"F67\",\"title\" : \"[ 3, 8, 13 ]\",\"layer\" : 0,\"highlight\" : true,\"parent\" : \"F63\",\"menus\" : {},\"messages\" : {},\"callbacks\" : {}},\"F68\" : {\"x\" : 0,\"y\" : 0,\"type\" : \"circle\",\"size\" : 5,\"id\" : \"F68\",\"title\" : \"[ 3, 8 ]\",\"layer\" : 0,\"highlight\" : true,\"parent\" : \"F67\",\"menus\" : {},\"messages\" : {},\"callbacks\" : {}},\"F69\" : {\"x\" : 0,\"y\" : 0,\"type\" : \"circle\",\"size\" : 5,\"id\" : \"F69\",\"title\" : \"[ 3, 7, 11 ]\",\"layer\" : 0,\"highlight\" : true,\"parent\" : \"F62\",\"menus\" : {},\"messages\" : {},\"callbacks\" : {}},\"F70\" : {\"x\" : 0,\"y\" : 0,\"type\" : \"circle\",\"size\" : 5,\"id\" : \"F70\",\"title\" : \"[ 3, 7 ]\",\"layer\" : 0,\"highlight\" : true,\"parent\" : \"F69\",\"menus\" : {},\"messages\" : {},\"callbacks\" : {}},\"F71\" : {\"x\" : 0,\"y\" : 0,\"type\" : \"circle\",\"size\" : 5,\"id\" : \"F71\",\"title\" : \"[ 3, 5 ]\",\"layer\" : 0,\"highlight\" : true,\"parent\" : \"F59\",\"menus\" : {},\"messages\" : {},\"callbacks\" : {}}},\"links\" : {}},\"messages\" : {}}}"
     },
     "execution_count": 10,
     "metadata": {
      "text/plain": "~empty~"
     },
     "output_type": "execute_result"
    }
   ],
   "source": [
    "sonstree(NumericalSemigroup(3,5,7),4);"
   ]
  }
 ],
 "metadata": {
  "kernelspec": {
   "display_name": "GAP 4 (native)",
   "language": "gap",
   "name": "gap-native"
  },
  "language_info": {
   "codemirror_mode": "gap",
   "file_extension": ".g",
   "mimetype": "text/x-gap",
   "name": "GAP (native)",
   "nbconvert_exporter": "",
   "pygments_lexer": "gap",
   "version": "4.dev"
  }
 },
 "nbformat": 4,
 "nbformat_minor": 2
}
